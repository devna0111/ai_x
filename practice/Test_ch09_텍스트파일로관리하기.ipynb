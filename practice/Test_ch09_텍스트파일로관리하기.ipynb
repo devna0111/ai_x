{
 "cells": [
  {
   "cell_type": "markdown",
   "id": "7e291ae7",
   "metadata": {},
   "source": [
    "# 6절 ★★연습문제 : 고객 관리 프로그램\n",
    "- 프로그램 시작 시 'data/ch09_customer_list.txt'(고객 데이터 백업용)의 내용을 load\n",
    "        - 'data/ch09_customer_list.txt' 내용\n",
    "            - 이름, 전화번호, 메일, 나이, 고객등급(1~5), 기타\n",
    "            - 홍길동, 010-9999-9999, a@a.com, 20, 3, 까칠\n",
    "            - 유길동, 010-5432-1234, b@a.com, 30, 3, 까칠\n",
    "- 파일이 없으면 자동으로 생성하고 데이터를 로드\n",
    "- 종료 시 파일 저장 후 종료\n",
    "- 프로그래밍 시 필요한 기능을 우선 구현하고 이후 모든 것을 활용할 main() 함수를 구현한다.\n",
    "## 6-1-0. 스스로 구현\n",
    "## 6-1. Customer class 생성"
   ]
  },
  {
   "cell_type": "code",
   "execution_count": 1,
   "id": "51ff2391",
   "metadata": {},
   "outputs": [],
   "source": [
    "class Customer :\n",
    "    '''고객 데이터와 as_dic(), to_list_style(txt 백업 시), __str__()'''\n",
    "    def __init__(self,name,phone,email,age,grade,etc) :\n",
    "        self.name = name\n",
    "        self.phone = phone\n",
    "        self.email = email\n",
    "        self.age = age\n",
    "        self.grade = grade\n",
    "        self.etc = etc\n",
    "    def as_dic(self) : # csv파일 저장용\n",
    "        return {'name' : self.name, 'phone' : self.phone, 'email' : self.email, 'age':self.age, 'grade':self.grade, 'etc':self.etc}\n",
    "    def to_list_style(self) : # txt 저장용\n",
    "        return f'{self.name},{self.phone},{self.email},{self.age},{self.grade},{self.etc}\\n'\n",
    "    def __str__(self) : # 전체 출력용으로 사용\n",
    "        return f\"{'*' * int(self.grade):>5}\\t{self.name:>3}\\t\\t{self.phone:>13}\\t\\t{self.email:^20}\\t{self.age:>3}\\t{self.etc:^5}\"  "
   ]
  },
  {
   "cell_type": "code",
   "execution_count": 2,
   "id": "e0bb8d22",
   "metadata": {},
   "outputs": [],
   "source": [
    "def to_customer(row) :\n",
    "    '''\n",
    "    txt 파일 내용을 Customer 객체로 반환\n",
    "    ex) '홍길동,010-9999-9999,a@a.com,30,3,까칠해'\n",
    "    '''\n",
    "    member_info = row.strip().split(',')\n",
    "    return Customer(member_info[0],member_info[1],member_info[2],member_info[3],member_info[4],member_info[5])"
   ]
  },
  {
   "cell_type": "code",
   "execution_count": 15,
   "id": "f9894565",
   "metadata": {},
   "outputs": [
    {
     "name": "stdout",
     "output_type": "stream",
     "text": [
      "  ***\t홍길동\t\t010-9999-9999\t\t      a@a.com       \t 30\t 까칠해 \n",
      "{'name': '홍길동', 'phone': '010-9999-9999', 'email': 'a@a.com', 'age': 30, 'grade': 3, 'etc': '까칠해'}\n",
      "홍길동,010-9999-9999,a@a.com,30,3,까칠해\n",
      "\n",
      "  ***\t홍길동\t\t010-9999-9999\t\t      a@a.com       \t 30\t 까칠해 \n"
     ]
    }
   ],
   "source": [
    "c1 = Customer('홍길동','010-9999-9999','a@a.com',30,3,'까칠해')\n",
    "print(c1)\n",
    "print(c1.as_dic())\n",
    "print(c1.to_list_style())\n",
    "c2 = to_customer('홍길동,010-9999-9999,a@a.com,30,3,까칠해')\n",
    "print(c2)"
   ]
  },
  {
   "cell_type": "markdown",
   "id": "c138c246",
   "metadata": {},
   "source": [
    "0.실행하면 data/ch09_customers.txt 파일의 내용을 load(customer_list)\n",
    "data/ch09_customers.txt이 존재하지 않으면\n",
    "빈 data/ch09_customers.txt 파일을 생성하고\n",
    "데이터는 customer_list=[]"
   ]
  },
  {
   "cell_type": "code",
   "execution_count": 4,
   "id": "3426098e",
   "metadata": {},
   "outputs": [],
   "source": [
    "# 구동파일 : 데이터베이스 없으면 만들고 실행, 있으면 그냥 데이터를 customer_list에 저장\n",
    "\n",
    "def start() :\n",
    "    while True :\n",
    "        try :\n",
    "            with open('ch09_customer_2.txt','r', encoding='utf-8') as f :\n",
    "                lines = f.readlines()\n",
    "                customer_list = lines\n",
    "                break\n",
    "        except :\n",
    "            with open('ch09_customer_2.txt','a', encoding='utf-8') as f :\n",
    "                pass\n",
    "    return customer_list\n",
    "customer_list = start()\n",
    "info_format = '''==========================================================================================\n",
    "                            고객 정보\n",
    "------------------------------------------------------------------------------------------\n",
    "GRADE\\t이름\\t\\t\\t전화\\t\\t\\t메일\\t\\t나이\\t기타\n",
    "=========================================================================================='''"
   ]
  },
  {
   "cell_type": "code",
   "execution_count": 25,
   "id": "dc804daf",
   "metadata": {},
   "outputs": [],
   "source": [
    "class AgeException(Exception) : pass\n",
    "class GradeException(Exception) : pass\n",
    "\n",
    "def fn1_insert_customers() : # 정보 입력하기\n",
    "    try :\n",
    "        name = input('이름 : ')\n",
    "        phone = input('전화번호 : ')\n",
    "        email = input('이메일 : ')\n",
    "        age = int(input('나이 : '))\n",
    "        if age > 150 or age < 1 :\n",
    "            raise AgeException\n",
    "        grade = int(input('고객등급(1~5) : ')) \n",
    "        if grade > 5 or grade < 1 :\n",
    "            raise GradeException\n",
    "        etc = input('기타정보 : ')\n",
    "        customer = Customer(name,phone,email,age,grade,etc)\n",
    "        with open('ch09_customer_2.txt','a', encoding='utf-8') as f : \n",
    "            f.write(customer.to_list_style())\n",
    "        print('새로운 정보를 입력하였습니다.')\n",
    "    except :\n",
    "        print('잘못된 정보를 입력하셨습니다.')"
   ]
  },
  {
   "cell_type": "code",
   "execution_count": 20,
   "id": "d18f007f",
   "metadata": {},
   "outputs": [],
   "source": [
    "def fn2_print_customers() :\n",
    "    print(info_format)\n",
    "    with open('ch09_customer_2.txt','r', encoding='utf-8') as f :\n",
    "        customer_list = f.readlines()\n",
    "    for i in customer_list :\n",
    "        print(to_customer(i))"
   ]
  },
  {
   "cell_type": "code",
   "execution_count": 28,
   "id": "6665cde2",
   "metadata": {},
   "outputs": [],
   "source": [
    "def fn3_delete_customers() :\n",
    "    name = input('삭제할 이름을 입력하세요 : ')\n",
    "    with open('ch09_customer_2.txt','r', encoding='utf-8') as f :\n",
    "        customer_list = f.readlines()\n",
    "    name_list = [to_customer(i) for i in customer_list]\n",
    "    if name in name_list :\n",
    "        for i in customer_list :\n",
    "            if to_customer(i).name == name :\n",
    "                print('해당하시는 정보를 찾았습니다.')\n",
    "                print(info_format)\n",
    "                print(to_customer(i))\n",
    "        phone = input('가입하신 번호를 입력하세요 : ')\n",
    "        for idx,data in enumerate(customer_list) :\n",
    "            if name in data and phone in data :\n",
    "                customer_list.pop(idx)\n",
    "                print('정보를 삭제하였습니다.')\n",
    "            else :\n",
    "                print('해당 정보를 찾을 수 없습니다.')\n",
    "    else :\n",
    "        print('해당 정보를 찾을 수 없습니다.')"
   ]
  },
  {
   "cell_type": "code",
   "execution_count": 29,
   "id": "3718ad1d",
   "metadata": {
    "scrolled": true
   },
   "outputs": [],
   "source": [
    "def fn4_search_customer() :\n",
    "    name = input('찾으실 이름을 입력하세요 : ')\n",
    "    name_list = [to_customer(i).name for i in customer_list]\n",
    "    if name in name_list :\n",
    "        print('탐색 결과는 아래와 같습니다.')\n",
    "        for idx,data in enumerate(customer_list) :\n",
    "            if name == data.strip().split(',')[0] :\n",
    "                print(info_format)\n",
    "                print(to_customer(data)) \n",
    "    else :\n",
    "        raise Exception('해당 내용이 존재하지 않습니다.')"
   ]
  },
  {
   "cell_type": "code",
   "execution_count": 42,
   "id": "fa77a6d8",
   "metadata": {},
   "outputs": [],
   "source": [
    "def fn5_save_customer_csv() :\n",
    "    import csv\n",
    "    while True :\n",
    "        try :\n",
    "            file_name = input('파일 이름을 입력하세요 : ')\n",
    "            if file_name.strip() == '' : \n",
    "                raise Exception\n",
    "            with open('ch09_customer_2.txt','r', encoding='utf-8') as f :\n",
    "                customer_list = f.readlines()\n",
    "            with open(f'{file_name}.csv', 'w', encoding='utf-8', newline='') as f :\n",
    "                writer = csv.DictWriter(f, fieldnames=['name','phone','email','age','grade','etc'])\n",
    "                for i in customer_list :\n",
    "                    wri = to_customer(i)\n",
    "                    writer.writerow(wri.as_dic())\n",
    "            print(f'{file_name}.csv 파일로 저장하였습니다.')\n",
    "            break\n",
    "        except Exception('다시 시도하세요...') as e:\n",
    "            print(e)"
   ]
  },
  {
   "cell_type": "code",
   "execution_count": 36,
   "id": "3a4904b2",
   "metadata": {},
   "outputs": [],
   "source": [
    "# def fn9_save_customer_txt() :\n",
    "#     with open('ch09_customer_2.txt','r', encoding='utf-8') as f :\n",
    "#         customer_list = f.readlines()\n",
    "#     with open('ch09_customer_2.txt','w', encoding='utf-8') as f :\n",
    "#         f.writelines(customer_list)\n",
    "#     print('파일을 백업하였습니다.')"
   ]
  },
  {
   "cell_type": "code",
   "execution_count": 45,
   "id": "78943931",
   "metadata": {},
   "outputs": [],
   "source": [
    "def main() :\n",
    "    import csv\n",
    "    customer_list = start()\n",
    "    while True :\n",
    "        try :\n",
    "            numb = int(input('1:입력|2:전체출력|3:삭제|4:이름찾기|5:내보내기(csv)|9:종료 메뉴 선택 : '))\n",
    "            if numb not in [1,2,3,4,5,9] :\n",
    "                raise Exception\n",
    "            if numb == 1 :\n",
    "                fn1_insert_customers()\n",
    "            elif numb == 2 :\n",
    "                fn2_print_customers()\n",
    "            elif numb == 3 :\n",
    "                fn3_delete_customers()\n",
    "            elif numb == 4 :\n",
    "                fn4_search_customer()\n",
    "            elif numb == 5 :\n",
    "                fn5_save_customer_csv()\n",
    "            elif numb == 9 :\n",
    "                print('프로그램을 종료합니다.')\n",
    "                break\n",
    "        except AgeException :\n",
    "            print('나이의 허용 범위는 1살 이상 150살 미만입니다.')\n",
    "        except GradeException :\n",
    "            print('등급은 1부터 5까지만 허용합니다.')\n",
    "        except :\n",
    "            print('정상적인 접근 방식이 아닙니다.')"
   ]
  },
  {
   "cell_type": "code",
   "execution_count": 46,
   "id": "a74a5b04",
   "metadata": {},
   "outputs": [
    {
     "name": "stdout",
     "output_type": "stream",
     "text": [
      "1:입력|2:전체출력|3:삭제|4:이름찾기|5:내보내기(csv)|9:종료 메뉴 선택 : 5\n",
      "파일 이름을 입력하세요 : hihello\n",
      "hihello.csv 파일로 저장하였습니다.\n",
      "1:입력|2:전체출력|3:삭제|4:이름찾기|5:내보내기(csv)|9:종료 메뉴 선택 : 9\n",
      "프로그램을 종료합니다.\n"
     ]
    }
   ],
   "source": [
    "if __name__ == '__main__' :\n",
    "    main()"
   ]
  },
  {
   "cell_type": "code",
   "execution_count": null,
   "id": "cd5ad376",
   "metadata": {},
   "outputs": [],
   "source": []
  },
  {
   "cell_type": "code",
   "execution_count": null,
   "id": "dca4b823",
   "metadata": {},
   "outputs": [],
   "source": []
  },
  {
   "cell_type": "code",
   "execution_count": null,
   "id": "e44abf5b",
   "metadata": {},
   "outputs": [],
   "source": []
  },
  {
   "cell_type": "code",
   "execution_count": null,
   "id": "56b3cb05",
   "metadata": {},
   "outputs": [],
   "source": []
  },
  {
   "cell_type": "code",
   "execution_count": null,
   "id": "6f4d073c",
   "metadata": {},
   "outputs": [],
   "source": []
  },
  {
   "cell_type": "code",
   "execution_count": null,
   "id": "d639e749",
   "metadata": {},
   "outputs": [],
   "source": []
  },
  {
   "cell_type": "code",
   "execution_count": null,
   "id": "b8e18389",
   "metadata": {},
   "outputs": [],
   "source": []
  },
  {
   "cell_type": "code",
   "execution_count": null,
   "id": "9ca67166",
   "metadata": {},
   "outputs": [],
   "source": []
  },
  {
   "cell_type": "code",
   "execution_count": null,
   "id": "50f8494b",
   "metadata": {},
   "outputs": [],
   "source": []
  },
  {
   "cell_type": "code",
   "execution_count": null,
   "id": "aba303b4",
   "metadata": {},
   "outputs": [],
   "source": []
  },
  {
   "cell_type": "code",
   "execution_count": null,
   "id": "8373336b",
   "metadata": {},
   "outputs": [],
   "source": []
  },
  {
   "cell_type": "code",
   "execution_count": null,
   "id": "3be2fc37",
   "metadata": {},
   "outputs": [],
   "source": []
  },
  {
   "cell_type": "code",
   "execution_count": null,
   "id": "2eefa556",
   "metadata": {},
   "outputs": [],
   "source": []
  },
  {
   "cell_type": "code",
   "execution_count": null,
   "id": "0c5e92df",
   "metadata": {},
   "outputs": [],
   "source": []
  }
 ],
 "metadata": {
  "kernelspec": {
   "display_name": "Python 3 (ipykernel)",
   "language": "python",
   "name": "python3"
  },
  "language_info": {
   "codemirror_mode": {
    "name": "ipython",
    "version": 3
   },
   "file_extension": ".py",
   "mimetype": "text/x-python",
   "name": "python",
   "nbconvert_exporter": "python",
   "pygments_lexer": "ipython3",
   "version": "3.10.9"
  },
  "toc": {
   "base_numbering": 1,
   "nav_menu": {},
   "number_sections": false,
   "sideBar": true,
   "skip_h1_title": false,
   "title_cell": "Table of Contents",
   "title_sidebar": "Contents",
   "toc_cell": false,
   "toc_position": {},
   "toc_section_display": true,
   "toc_window_display": false
  }
 },
 "nbformat": 4,
 "nbformat_minor": 5
}
