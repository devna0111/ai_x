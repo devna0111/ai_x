{
 "cells": [
  {
   "cell_type": "code",
   "execution_count": 2,
   "id": "cd85a3fd",
   "metadata": {},
   "outputs": [],
   "source": [
    "# 저장할 파일 이름 : customers.txt\n",
    "# if __name__ == '__main__' :\n",
    "#     main()\n",
    "\n",
    "# main() 함수 기능 : 실행하면 자동으로 베이스가 되는 파일 열기, 1,2,3,4,5,9 인풋값에 따라 작동하기\n",
    "# 1 입력하기\n",
    "# 2 전체출력\n",
    "# 3 삭제\n",
    "# 4 이름 찾기\n",
    "# 5 내보내기(csv)\n",
    "# 9 저장 후 종료하기"
   ]
  },
  {
   "cell_type": "code",
   "execution_count": 24,
   "id": "720853c7",
   "metadata": {},
   "outputs": [],
   "source": [
    "class Customer : \n",
    "    def __init__(self,name,tel,email,age,grade=1,etc=None) :\n",
    "        self.name = name\n",
    "        self.tel = tel\n",
    "        self.email = email\n",
    "        self.age = age\n",
    "        self.grade = grade\n",
    "        self.etc = etc\n",
    "    def as_list(self) :\n",
    "        return f'{self.name}, {self.tel}, {self.email}, {self.age}, {self.grade}, {self.etc}'\n",
    "    def __str__(self) :\n",
    "        return f'{self.name}, {self.tel}, {self.email}, {self.age}, {self.grade}, {self.etc}'\n",
    "    def to_list_style(self) :\n",
    "        return [self.name, self.tel, self.email, self.age, self.grade, self.etc]"
   ]
  },
  {
   "cell_type": "code",
   "execution_count": 4,
   "id": "aae0f21c",
   "metadata": {},
   "outputs": [],
   "source": [
    "# 1. 입력하기 : ok\n",
    "import csv\n",
    "def input_customer(name,tel,eamil,age,grade,etc) :\n",
    "    customer = Customer(name,tel,eamil,age,grade,etc).__dict__\n",
    "    with open('customer.csv','a', encoding='utf-8',newline='') as f :\n",
    "        save = csv.DictWriter(f, fieldnames=customer.keys())\n",
    "        save.writerows([customer])"
   ]
  },
  {
   "cell_type": "code",
   "execution_count": 5,
   "id": "9754955d",
   "metadata": {},
   "outputs": [],
   "source": [
    "input_customer('홍','010','a@a.com',20,3,'까칠해')"
   ]
  },
  {
   "cell_type": "code",
   "execution_count": 6,
   "id": "80321bc9",
   "metadata": {},
   "outputs": [],
   "source": [
    "input_customer('김','010','a@a.com',20,3,'신선해')"
   ]
  },
  {
   "cell_type": "code",
   "execution_count": 7,
   "id": "68271dcd",
   "metadata": {},
   "outputs": [],
   "source": [
    "# 2. 출력하기 : ok\n",
    "def load_customers() :\n",
    "    with open('customer.csv','r', encoding='utf-8',newline='') as f : # f = '김,010,a@a.com,20,3,신선해\\r\\n'\n",
    "        print('''==========================================================================================\n",
    "                            고객 정보\n",
    "------------------------------------------------------------------------------------------\n",
    "GRADE\\t이름\\t\\t\\t전화\\t\\t\\t메일\\t\\t나이\\t기타\n",
    "==========================================================================================''')\n",
    "        reader = csv.DictReader(f,fieldnames=['name','tel','email','age','grade','etc'])\n",
    "        for i in reader :\n",
    "            name = i.get('name')\n",
    "            tel = i.get('tel')\n",
    "            email = i.get('email')\n",
    "            age = i.get('age')\n",
    "            grade = i.get('grade')\n",
    "            etc = i.get('etc')\n",
    "            print(f\"{'*' * int(grade):>5}\\t{name:>3}\\t\\t{tel:>13}\\t\\t{email}\\t{age:>3}\\t{etc:^5}\")\n",
    "        print('==========================================================================================')"
   ]
  },
  {
   "cell_type": "code",
   "execution_count": 8,
   "id": "fb1eae6a",
   "metadata": {},
   "outputs": [
    {
     "name": "stdout",
     "output_type": "stream",
     "text": [
      "==========================================================================================\n",
      "                            고객 정보\n",
      "------------------------------------------------------------------------------------------\n",
      "GRADE\t이름\t\t\t전화\t\t\t메일\t\t나이\t기타\n",
      "==========================================================================================\n",
      "*****\t정종혁\t\t010-7624-5728\t\twjdwhdgur111@naver.com\t 30\t  -  \n",
      "  ***\t  홍\t\t          010\t\ta@a.com\t 20\t 까칠해 \n",
      "  ***\t  김\t\t          010\t\ta@a.com\t 20\t 신선해 \n",
      "==========================================================================================\n"
     ]
    }
   ],
   "source": [
    "load_customers()"
   ]
  },
  {
   "cell_type": "code",
   "execution_count": 9,
   "id": "265f2d59",
   "metadata": {},
   "outputs": [],
   "source": [
    "# 3. 삭제하기 : ok\n",
    "def del_customer(name, tel) :\n",
    "    with open('customer.csv','r', encoding='utf-8',newline='') as f :\n",
    "        before = list(csv.DictReader(f,fieldnames=['name','tel','email','age','grade','etc']))\n",
    "    for i in before :\n",
    "        if i['name'] == name and i['tel'] == tel :\n",
    "            print(f'{before.pop(before.index(i))}내용을 삭제합니다.')\n",
    "    with open('customer.csv','w', encoding='utf-8',newline='') as f :\n",
    "        result = csv.DictWriter(f,fieldnames=['name','tel','email','age','grade','etc'])\n",
    "        result.writerows(before)"
   ]
  },
  {
   "cell_type": "code",
   "execution_count": 10,
   "id": "ba18de5e",
   "metadata": {},
   "outputs": [
    {
     "name": "stdout",
     "output_type": "stream",
     "text": [
      "{'name': '홍', 'tel': '010', 'email': 'a@a.com', 'age': '20', 'grade': '3', 'etc': '까칠해'}내용을 삭제합니다.\n"
     ]
    }
   ],
   "source": [
    "del_customer('홍', '010')"
   ]
  },
  {
   "cell_type": "code",
   "execution_count": 11,
   "id": "dd90b79f",
   "metadata": {},
   "outputs": [
    {
     "name": "stdout",
     "output_type": "stream",
     "text": [
      "==========================================================================================\n",
      "                            고객 정보\n",
      "------------------------------------------------------------------------------------------\n",
      "GRADE\t이름\t\t\t전화\t\t\t메일\t\t나이\t기타\n",
      "==========================================================================================\n",
      "*****\t정종혁\t\t010-7624-5728\t\twjdwhdgur111@naver.com\t 30\t  -  \n",
      "  ***\t  김\t\t          010\t\ta@a.com\t 20\t 신선해 \n",
      "==========================================================================================\n"
     ]
    }
   ],
   "source": [
    "load_customers()"
   ]
  },
  {
   "cell_type": "code",
   "execution_count": 29,
   "id": "022288bc",
   "metadata": {},
   "outputs": [],
   "source": [
    "# 4. 이름으로 검색하기 ok\n",
    "def search_name(name) :\n",
    "    try :\n",
    "        with open('customer.csv','r', encoding='utf-8',newline='') as f :\n",
    "            member_list = list(csv.DictReader(f,fieldnames=['name','tel','email','age','grade','etc']))\n",
    "            print('''==========================================================================================\n",
    "                            고객 정보\n",
    "------------------------------------------------------------------------------------------\n",
    "GRADE\\t이름\\t\\t\\t전화\\t\\t\\t메일\\t\\t나이\\t기타\n",
    "==========================================================================================''')\n",
    "        for i in member_list:\n",
    "            if i['name'] == name :\n",
    "                name = i.get('name')\n",
    "                tel = i.get('tel')\n",
    "                email = i.get('email')\n",
    "                age = i.get('age')\n",
    "                grade = i.get('grade')\n",
    "                etc = i.get('etc')\n",
    "                print(f\"{'*' * int(grade):>5}\\t{name:>3}\\t\\t{tel:>13}\\t\\t{email}\\t{age:>3}\\t{etc:^5}\")\n",
    "        print('==========================================================================================')\n",
    "    except :\n",
    "        print(f'찾고자 하는 {name}이 확인 되지 않아요')"
   ]
  },
  {
   "cell_type": "code",
   "execution_count": 30,
   "id": "1cc58059",
   "metadata": {},
   "outputs": [
    {
     "name": "stdout",
     "output_type": "stream",
     "text": [
      "==========================================================================================\n",
      "                            고객 정보\n",
      "------------------------------------------------------------------------------------------\n",
      "GRADE\t이름\t\t\t전화\t\t\t메일\t\t나이\t기타\n",
      "==========================================================================================\n",
      "==========================================================================================\n"
     ]
    }
   ],
   "source": [
    "search_name('010')"
   ]
  },
  {
   "cell_type": "code",
   "execution_count": 14,
   "id": "0ea8d9a2",
   "metadata": {},
   "outputs": [],
   "source": [
    "# 5. 내보내기\n",
    "def save_as_csv(name) :\n",
    "    with open('customer.csv','r', encoding='utf-8',newline='') as f :\n",
    "        member_list = list(csv.DictReader(f,fieldnames=['name','tel','email','age','grade','etc']))\n",
    "    with open(name+'.csv','w',encoding='utf-8', newline='') as ff :\n",
    "        writer = csv.DictWriter(ff,fieldnames=['name','tel','email','age','grade','etc'])\n",
    "        writer.writerows(member_list)"
   ]
  },
  {
   "cell_type": "code",
   "execution_count": 15,
   "id": "1cb86cce",
   "metadata": {},
   "outputs": [
    {
     "ename": "TypeError",
     "evalue": "save_as_csv() missing 1 required positional argument: 'name'",
     "output_type": "error",
     "traceback": [
      "\u001b[1;31m---------------------------------------------------------------------------\u001b[0m",
      "\u001b[1;31mTypeError\u001b[0m                                 Traceback (most recent call last)",
      "Cell \u001b[1;32mIn[15], line 1\u001b[0m\n\u001b[1;32m----> 1\u001b[0m \u001b[43msave_as_csv\u001b[49m\u001b[43m(\u001b[49m\u001b[43m)\u001b[49m\n",
      "\u001b[1;31mTypeError\u001b[0m: save_as_csv() missing 1 required positional argument: 'name'"
     ]
    }
   ],
   "source": [
    "save_as_csv()"
   ]
  },
  {
   "cell_type": "code",
   "execution_count": 16,
   "id": "a39ab578",
   "metadata": {},
   "outputs": [],
   "source": [
    "# 9. 저장하고 종료하기 굳이..?\n",
    "    "
   ]
  },
  {
   "cell_type": "code",
   "execution_count": 17,
   "id": "0d07971d",
   "metadata": {},
   "outputs": [],
   "source": [
    "# main() 함수 기능 : 실행하면 자동으로 베이스가 되는 파일 열기, 1,2,3,4,5,9 인풋값에 따라 작동하기\n",
    "# 1 입력하기 def input_customer(name,tel,eamil,age,grade=1,etc=None) :\n",
    "# 2 전체출력 def load_customers() :\n",
    "# 3 삭제 def del_customer(name, tel) :\n",
    "# 4 검색하기 search_name(name)\n",
    "# 5 내보내기(csv) def save_as_csv() :\n",
    "# 9 저장 후 종료하기"
   ]
  },
  {
   "cell_type": "code",
   "execution_count": 31,
   "id": "12a89c0d",
   "metadata": {},
   "outputs": [],
   "source": [
    "class SameTelError(Exception) : pass\n",
    "class GradeError(Exception) : pass\n",
    "class UnKnownError(Exception) : pass\n",
    "    \n",
    "def main() :\n",
    "    with open('customer.csv','a', encoding='utf-8',newline='') as f : pass\n",
    "    while True :\n",
    "        try :\n",
    "            print('데이터가 로드 되었습니다.')\n",
    "            number = int(input('1:입력|2:전체출력|3:삭제|4:이름찾기|5:내보내기(csv)|9:종료 메뉴 선택 : '))\n",
    "            if number in [1,2,3,4,5,9] :\n",
    "                print('version_1.0')\n",
    "                if number == 1 :\n",
    "                    name = input('이름 : ')\n",
    "                    tel = input('번호 : ')\n",
    "                    with open('customer.csv','r', encoding='utf-8',newline='') as f :\n",
    "                        member_list = list(csv.DictReader(f,fieldnames=['name','tel','email','age','grade','etc']))\n",
    "                        tel_list = [i['tel'] for i in member_list]\n",
    "                        if tel in tel_list :\n",
    "                            raise SameTelError\n",
    "                    email = input('이메일 : ')\n",
    "                    age = int(input('나이 : '))\n",
    "                    grade = int(input('등급(1~5) : '))\n",
    "                    if grade < 1 or grade > 5 : \n",
    "                        raise GradeError\n",
    "                    etc = input('특이사항 : ')\n",
    "                    input_customer(name,tel,email,age,grade,etc)\n",
    "                elif number == 2 :\n",
    "                    load_customers()\n",
    "                elif number == 3 :\n",
    "                    name = input('이름 : ')\n",
    "                    tel = input('번호 : ')\n",
    "                    with open('customer.csv','r', encoding='utf-8',newline='') as f :\n",
    "                        member_list = list(csv.DictReader(f,fieldnames=['name','tel','email','age','grade','etc']))\n",
    "                        info_list = [(i['name'],i['tel']) for i in member_list]\n",
    "                        if (name,tel) not in info_list :\n",
    "                            raise UnKnownError\n",
    "                    del_customer(name,tel)\n",
    "                elif number == 4 :\n",
    "                    name = input('찾고자 하는 이름 : ')\n",
    "                    search_name(name)\n",
    "                elif number == 5 :\n",
    "                    name = input('저장하고자 하는 이름을 입력하세요. : ')\n",
    "                    save_as_csv(name)\n",
    "                    print('저장 완료!')\n",
    "                elif number == 9 :\n",
    "                    print('장비를 종료합니다.')\n",
    "                    break\n",
    "            else :\n",
    "                print('정상적인 접근 방식이 아닙니다.')\n",
    "        except UnKnownError :\n",
    "            print('저장되지 않은 사용자 정보입니다.')\n",
    "        except SameTelError :\n",
    "            print('중복되는 번호는 저장할 수 없습니다.')\n",
    "        except GradeError :\n",
    "            print('등급은 1등급부터 5등급까지 선택 가능합니다.')\n",
    "        except Exception:\n",
    "            print('정상적인 접근 방식이 아닙니다.', e)"
   ]
  },
  {
   "cell_type": "code",
   "execution_count": 32,
   "id": "b8e19f61",
   "metadata": {},
   "outputs": [
    {
     "name": "stdout",
     "output_type": "stream",
     "text": [
      "데이터가 로드 되었습니다.\n",
      "1:입력|2:전체출력|3:삭제|4:이름찾기|5:내보내기(csv)|9:종료 메뉴 선택 : 1\n",
      "version_1.0\n",
      "이름 : 홍길동\n",
      "번호 : 010-9999-9999\n",
      "이메일 : a@a.com\n",
      "나이 : 30\n",
      "등급(1~5) : 3\n",
      "특이사항 : \n",
      "데이터가 로드 되었습니다.\n",
      "1:입력|2:전체출력|3:삭제|4:이름찾기|5:내보내기(csv)|9:종료 메뉴 선택 : 2\n",
      "version_1.0\n",
      "==========================================================================================\n",
      "                            고객 정보\n",
      "------------------------------------------------------------------------------------------\n",
      "GRADE\t이름\t\t\t전화\t\t\t메일\t\t나이\t기타\n",
      "==========================================================================================\n",
      "  ***\t홍길동\t\t010-9999-9999\t\ta@a.com\t 30\t     \n",
      "==========================================================================================\n",
      "데이터가 로드 되었습니다.\n",
      "1:입력|2:전체출력|3:삭제|4:이름찾기|5:내보내기(csv)|9:종료 메뉴 선택 : 3\n",
      "version_1.0\n",
      "이름 : 홍길동\n",
      "번호 : 010-9999-9999\n",
      "{'name': '홍길동', 'tel': '010-9999-9999', 'email': 'a@a.com', 'age': '30', 'grade': '3', 'etc': ''}내용을 삭제합니다.\n",
      "데이터가 로드 되었습니다.\n",
      "1:입력|2:전체출력|3:삭제|4:이름찾기|5:내보내기(csv)|9:종료 메뉴 선택 : 9\n",
      "version_1.0\n",
      "장비를 종료합니다.\n"
     ]
    }
   ],
   "source": [
    "if __name__ == '__main__' :\n",
    "    main()"
   ]
  },
  {
   "cell_type": "code",
   "execution_count": null,
   "id": "659faa77",
   "metadata": {},
   "outputs": [],
   "source": []
  }
 ],
 "metadata": {
  "kernelspec": {
   "display_name": "Python 3 (ipykernel)",
   "language": "python",
   "name": "python3"
  },
  "language_info": {
   "codemirror_mode": {
    "name": "ipython",
    "version": 3
   },
   "file_extension": ".py",
   "mimetype": "text/x-python",
   "name": "python",
   "nbconvert_exporter": "python",
   "pygments_lexer": "ipython3",
   "version": "3.10.9"
  },
  "toc": {
   "base_numbering": 1,
   "nav_menu": {},
   "number_sections": true,
   "sideBar": true,
   "skip_h1_title": false,
   "title_cell": "Table of Contents",
   "title_sidebar": "Contents",
   "toc_cell": false,
   "toc_position": {},
   "toc_section_display": true,
   "toc_window_display": false
  }
 },
 "nbformat": 4,
 "nbformat_minor": 5
}
