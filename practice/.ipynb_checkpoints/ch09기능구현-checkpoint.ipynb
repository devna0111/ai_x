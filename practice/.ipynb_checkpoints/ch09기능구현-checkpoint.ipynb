{
 "cells": [
  {
   "cell_type": "code",
   "execution_count": 7,
   "id": "cd85a3fd",
   "metadata": {},
   "outputs": [],
   "source": [
    "# 저장할 파일 이름 : customers.txt\n",
    "# if __name__ == '__main__' :\n",
    "#     main()\n",
    "\n",
    "# main() 함수 기능 : 실행하면 자동으로 베이스가 되는 파일 열기, 1,2,3,4,5,9 인풋값에 따라 작동하기\n",
    "# 1 입력하기\n",
    "# 2 전체출력\n",
    "# 3 삭제\n",
    "# 4 이름 찾기\n",
    "# 5 내보내기(csv)\n",
    "# 9 저장 후 종료하기"
   ]
  },
  {
   "cell_type": "code",
   "execution_count": 8,
   "id": "720853c7",
   "metadata": {},
   "outputs": [],
   "source": [
    "class Customer : \n",
    "    def __init__(self,name,tel,email,age,grade=1,etc=None) :\n",
    "        self.name = name\n",
    "        self.tel = tel\n",
    "        self.email = email\n",
    "        self.age = age\n",
    "        self.grade = grade\n",
    "        self.etc = etc\n",
    "    def as_list(self) :\n",
    "        return [self.name, self.tel, self.email, self.age, self.grade]\n",
    "    def __str__(self) :\n",
    "        return f'{self.name}, {self.tel}, {self.email}, {self.age}, {self.grade}, {self.etc}'\n",
    "    def to_list_style(self) :\n",
    "        return [self.name, self.tel, self.email, self.age, self.grade, self.etc]"
   ]
  },
  {
   "cell_type": "code",
   "execution_count": 9,
   "id": "aae0f21c",
   "metadata": {},
   "outputs": [],
   "source": [
    "# 1. 입력하기 : ok\n",
    "import csv\n",
    "def input_customer(name,tel,eamil,age,grade,etc) :\n",
    "    customer = Customer(name,tel,eamil,age,grade,etc).__dict__\n",
    "    with open('customer.csv','a', encoding='utf-8',newline='') as f :\n",
    "        save = csv.DictWriter(f, fieldnames=customer.keys())\n",
    "        save.writerows([customer])"
   ]
  },
  {
   "cell_type": "code",
   "execution_count": 10,
   "id": "9754955d",
   "metadata": {},
   "outputs": [],
   "source": [
    "input_customer('홍','010','a@a.com',20,3,'까칠해')"
   ]
  },
  {
   "cell_type": "code",
   "execution_count": 11,
   "id": "80321bc9",
   "metadata": {},
   "outputs": [],
   "source": [
    "input_customer('김','010','a@a.com',20,3,'신선해')"
   ]
  },
  {
   "cell_type": "code",
   "execution_count": 12,
   "id": "68271dcd",
   "metadata": {},
   "outputs": [],
   "source": [
    "# 2. 출력하기 : ok\n",
    "def load_customers() :\n",
    "    with open('customer.csv','r', encoding='utf-8',newline='') as f : # f = '김,010,a@a.com,20,3,신선해\\r\\n'\n",
    "        print('''==========================================================================================\n",
    "                            고객 정보\n",
    "------------------------------------------------------------------------------------------\n",
    "GRADE\\t이름\\t전화\\t\\t\\t메일\\t\\t\\t나이\\t기타\n",
    "==========================================================================================''')\n",
    "        reader = csv.DictReader(f,fieldnames=['name','tel','email','age','grade','etc'])\n",
    "        for i in reader :\n",
    "            name = i.get('name')\n",
    "            tel = i.get('tel')\n",
    "            email = i.get('email')\n",
    "            age = i.get('age')\n",
    "            grade = i.get('grade')\n",
    "            etc = i.get('etc')\n",
    "            print(f\"{'*' * int(grade)}\\t{name}\\t{tel}\\t\\t\\t{email}\\t\\t\\t{age}\\t{etc}\")\n",
    "        print('==========================================================================================')"
   ]
  },
  {
   "cell_type": "code",
   "execution_count": 13,
   "id": "fb1eae6a",
   "metadata": {},
   "outputs": [
    {
     "name": "stdout",
     "output_type": "stream",
     "text": [
      "==========================================================================================\n",
      "                            고객 정보\n",
      "------------------------------------------------------------------------------------------\n",
      "GRADE\t이름\t전화\t\t\t메일\t\t\t나이\t기타\n",
      "==========================================================================================\n",
      "***\t홍\t010\t\t\ta@a.com\t\t\t20\t까칠해\n",
      "***\t김\t010\t\t\ta@a.com\t\t\t20\t신선해\n",
      "==========================================================================================\n"
     ]
    }
   ],
   "source": [
    "load_customers()"
   ]
  },
  {
   "cell_type": "code",
   "execution_count": 14,
   "id": "265f2d59",
   "metadata": {},
   "outputs": [],
   "source": [
    "# 3. 삭제하기 : ok\n",
    "def del_customer(name, tel) :\n",
    "    with open('customer.csv','r', encoding='utf-8',newline='') as f :\n",
    "        before = list(csv.DictReader(f,fieldnames=['name','tel','email','age','grade','etc']))\n",
    "    for i in before :\n",
    "        if i['name'] == name and i['tel'] == tel :\n",
    "            before.pop(before.index(i))\n",
    "    with open('customer.csv','w', encoding='utf-8',newline='') as f :\n",
    "        result = csv.DictWriter(f,fieldnames=['name','tel','email','age','grade','etc'])\n",
    "        result.writerows(before)"
   ]
  },
  {
   "cell_type": "code",
   "execution_count": 15,
   "id": "ba18de5e",
   "metadata": {},
   "outputs": [],
   "source": [
    "del_customer('홍', '010')"
   ]
  },
  {
   "cell_type": "code",
   "execution_count": 16,
   "id": "dd90b79f",
   "metadata": {},
   "outputs": [
    {
     "name": "stdout",
     "output_type": "stream",
     "text": [
      "==========================================================================================\n",
      "                            고객 정보\n",
      "------------------------------------------------------------------------------------------\n",
      "GRADE\t이름\t전화\t\t\t메일\t\t\t나이\t기타\n",
      "==========================================================================================\n",
      "***\t김\t010\t\t\ta@a.com\t\t\t20\t신선해\n",
      "==========================================================================================\n"
     ]
    }
   ],
   "source": [
    "load_customers()"
   ]
  },
  {
   "cell_type": "code",
   "execution_count": 17,
   "id": "022288bc",
   "metadata": {},
   "outputs": [],
   "source": [
    "# 4. 전화번호로 검색하기 ok\n",
    "def search_name(tel) :\n",
    "    with open('customer.csv','r', encoding='utf-8',newline='') as f :\n",
    "        member_list = list(csv.DictReader(f,fieldnames=['name','tel','email','age','grade','etc']))\n",
    "    for i in member_list:\n",
    "        if i['tel'] == tel :\n",
    "            print(i)"
   ]
  },
  {
   "cell_type": "code",
   "execution_count": 18,
   "id": "1cc58059",
   "metadata": {},
   "outputs": [
    {
     "name": "stdout",
     "output_type": "stream",
     "text": [
      "{'name': '김', 'tel': '010', 'email': 'a@a.com', 'age': '20', 'grade': '3', 'etc': '신선해'}\n"
     ]
    }
   ],
   "source": [
    "search_name('010')"
   ]
  },
  {
   "cell_type": "code",
   "execution_count": 19,
   "id": "0ea8d9a2",
   "metadata": {},
   "outputs": [],
   "source": [
    "# 5. 내보내기\n",
    "def save_as_csv() :\n",
    "    with open('customer.csv','r', encoding='utf-8',newline='') as f :\n",
    "        member_list = list(csv.DictReader(f,fieldnames=['name','tel','email','age','grade','etc']))\n",
    "    with open('member_list_for_5.csv','w',encoding='utf-8') as ff :\n",
    "        writer = csv.DictWriter(ff,fieldnames=['name','tel','email','age','grade','etc'])\n",
    "        writer.writerows(member_list)"
   ]
  },
  {
   "cell_type": "code",
   "execution_count": 20,
   "id": "1cb86cce",
   "metadata": {},
   "outputs": [],
   "source": [
    "save_as_csv()"
   ]
  },
  {
   "cell_type": "code",
   "execution_count": 21,
   "id": "a39ab578",
   "metadata": {},
   "outputs": [],
   "source": [
    "# 9. 저장하고 종료하기 굳이..?\n",
    "    "
   ]
  },
  {
   "cell_type": "code",
   "execution_count": 22,
   "id": "0d07971d",
   "metadata": {},
   "outputs": [],
   "source": [
    "# main() 함수 기능 : 실행하면 자동으로 베이스가 되는 파일 열기, 1,2,3,4,5,9 인풋값에 따라 작동하기\n",
    "# 1 입력하기 def input_customer(name,tel,eamil,age,grade=1,etc=None) :\n",
    "# 2 전체출력 def load_customers() :\n",
    "# 3 삭제 def del_customer(name, tel) :\n",
    "# 4 전화번호로 검색하기 search_name(tel)\n",
    "# 5 내보내기(csv) def save_as_csv() :\n",
    "# 9 저장 후 종료하기"
   ]
  },
  {
   "cell_type": "code",
   "execution_count": 26,
   "id": "12a89c0d",
   "metadata": {},
   "outputs": [],
   "source": [
    "def main() :\n",
    "    while True :\n",
    "        try :\n",
    "            number = int(input('1:입력|2:전체출력|3:삭제|4:이름찾기|5:내보내기(csv)|9:종료 메뉴 선택 : '))\n",
    "            if number in [1,2,3,4,5,9] :\n",
    "                print('version_1.0')\n",
    "                if number == 1 :\n",
    "                    name = input('이름 : ')\n",
    "                    tel = input('번호 : ')\n",
    "                    email = input('이메일 : ')\n",
    "                    age = input('나이 : ')\n",
    "                    grade = input('등급 : ')\n",
    "                    etc = input('특이사항 : ')\n",
    "                    input_customer(name,tel,email,age,grade,etc)\n",
    "                elif number == 2 :\n",
    "                    load_customers()\n",
    "                elif number == 3 :\n",
    "                    name = input('이름 : ')\n",
    "                    tel = input('번호 : ')\n",
    "                    del_customer(name,tel)\n",
    "                elif number == 4 :\n",
    "                    tel = input('번호 : ')\n",
    "                    search_name(tel)\n",
    "                elif number == 5 :\n",
    "                    save_as_csv()\n",
    "                    print('저장 완료!')\n",
    "                elif number == 9 :\n",
    "                    print('장비를 종료합니다.')\n",
    "                    break\n",
    "            else :\n",
    "                print('구현되지 않은 기능들')\n",
    "                \n",
    "        except :\n",
    "            print('정상적인 접근 방식이 아닙니다.')"
   ]
  },
  {
   "cell_type": "code",
   "execution_count": 27,
   "id": "b8e19f61",
   "metadata": {},
   "outputs": [
    {
     "name": "stdout",
     "output_type": "stream",
     "text": [
      "1:입력|2:전체출력|3:삭제|4:이름찾기|5:내보내기(csv)|9:종료 메뉴 선택 : 2\n",
      "version_1.0\n",
      "==========================================================================================\n",
      "                            고객 정보\n",
      "------------------------------------------------------------------------------------------\n",
      "GRADE\t이름\t전화\t\t\t메일\t\t\t나이\t기타\n",
      "==========================================================================================\n",
      "***\t정종혁\t010-7624-5728\t\t\twjdwhdgur111@naver.com\t\t\t30\t-\n",
      "==========================================================================================\n",
      "1:입력|2:전체출력|3:삭제|4:이름찾기|5:내보내기(csv)|9:종료 메뉴 선택 : 3\n",
      "version_1.0\n",
      "이름 : 정종혁\n",
      "번호 : 010-7624-5728\n",
      "1:입력|2:전체출력|3:삭제|4:이름찾기|5:내보내기(csv)|9:종료 메뉴 선택 : 2\n",
      "version_1.0\n",
      "==========================================================================================\n",
      "                            고객 정보\n",
      "------------------------------------------------------------------------------------------\n",
      "GRADE\t이름\t전화\t\t\t메일\t\t\t나이\t기타\n",
      "==========================================================================================\n",
      "==========================================================================================\n",
      "1:입력|2:전체출력|3:삭제|4:이름찾기|5:내보내기(csv)|9:종료 메뉴 선택 : 9\n",
      "version_1.0\n",
      "장비를 종료합니다.\n"
     ]
    }
   ],
   "source": [
    "if __name__ == '__main__' :\n",
    "    main()"
   ]
  },
  {
   "cell_type": "code",
   "execution_count": null,
   "id": "659faa77",
   "metadata": {},
   "outputs": [],
   "source": []
  }
 ],
 "metadata": {
  "kernelspec": {
   "display_name": "Python 3 (ipykernel)",
   "language": "python",
   "name": "python3"
  },
  "language_info": {
   "codemirror_mode": {
    "name": "ipython",
    "version": 3
   },
   "file_extension": ".py",
   "mimetype": "text/x-python",
   "name": "python",
   "nbconvert_exporter": "python",
   "pygments_lexer": "ipython3",
   "version": "3.10.9"
  },
  "toc": {
   "base_numbering": 1,
   "nav_menu": {},
   "number_sections": true,
   "sideBar": true,
   "skip_h1_title": false,
   "title_cell": "Table of Contents",
   "title_sidebar": "Contents",
   "toc_cell": false,
   "toc_position": {},
   "toc_section_display": true,
   "toc_window_display": false
  }
 },
 "nbformat": 4,
 "nbformat_minor": 5
}
