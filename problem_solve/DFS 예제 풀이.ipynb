{
 "cells": [
  {
   "cell_type": "code",
   "execution_count": 34,
   "id": "062c9d81",
   "metadata": {},
   "outputs": [
    {
     "data": {
      "text/html": [
       "\n",
       "<style>\n",
       "div.container{width:86% !important;}\n",
       "div.cell.code_cell.rendered{width:100%;}\n",
       "div.CodeMirror {font-family:Consolas; font-size:12pt;}\n",
       "div.output {font-size:15pt; font-weight:bold;}\n",
       "div.input {font-family:Consolas; font-size:12pt;}\n",
       "div.prompt {min-width:70px;}\n",
       "div#toc-wrapper{padding-top:120px;}\n",
       "div.text_cell_render ul li{font-size:12pt;padding:5px;}\n",
       "table.dataframe{font-size:15px;}\n",
       "</style>\n"
      ],
      "text/plain": [
       "<IPython.core.display.HTML object>"
      ]
     },
     "metadata": {},
     "output_type": "display_data"
    }
   ],
   "source": [
    "from IPython.display import display, HTML\n",
    "display(HTML(\"\"\"\n",
    "<style>\n",
    "div.container{width:86% !important;}\n",
    "div.cell.code_cell.rendered{width:100%;}\n",
    "div.CodeMirror {font-family:Consolas; font-size:12pt;}\n",
    "div.output {font-size:15pt; font-weight:bold;}\n",
    "div.input {font-family:Consolas; font-size:12pt;}\n",
    "div.prompt {min-width:70px;}\n",
    "div#toc-wrapper{padding-top:120px;}\n",
    "div.text_cell_render ul li{font-size:12pt;padding:5px;}\n",
    "table.dataframe{font-size:15px;}\n",
    "</style>\n",
    "\"\"\"))"
   ]
  },
  {
   "cell_type": "markdown",
   "id": "17945bbc",
   "metadata": {},
   "source": [
    "\n",
    "# 1. DFS 문제 예제 1번\n",
    "\n",
    "## 학교에 학생들이 있고, 친구 관계가 주어집니다. 친구인 사람은 직접적으로 연결되어 있으며, 친구의 친구도 친구입니다. 전체 학생 중에서 어떤 한 명의 친구가 몇 명인지 구하세요."
   ]
  },
  {
   "cell_type": "markdown",
   "id": "dced2c98",
   "metadata": {},
   "source": [
    "✨ 입력\n",
    "학생 수 n (1 ≤ n ≤ 100)\n",
    "\n",
    "친구 관계를 나타내는 2차원 배열 friends, friends[i][j] = 1이면 i와 j는 친구입니다.\n",
    "\n",
    "🎯 출력\n",
    "0번 학생과 친구인 학생의 수를 반환하세요 (자기 자신은 제외)"
   ]
  },
  {
   "cell_type": "code",
   "execution_count": 78,
   "id": "4b5951ff",
   "metadata": {},
   "outputs": [],
   "source": [
    "n = 2\n",
    "freinds = [[1, 1, 0], [1, 1, 1], [0, 1, 1]]\n",
    "# answer = 2"
   ]
  },
  {
   "cell_type": "code",
   "execution_count": 79,
   "id": "95a3c901",
   "metadata": {},
   "outputs": [
    {
     "name": "stdout",
     "output_type": "stream",
     "text": [
      "2\n"
     ]
    }
   ],
   "source": [
    "def find(freinds, nx) : # n in range(n)\n",
    "    n = len(freinds)\n",
    "    freind = [False] * n\n",
    "    def dfs(person) :\n",
    "        freind[person] = True\n",
    "        for i in range(n) :\n",
    "            if freinds[person][i] == 1 and not freind[i] :\n",
    "                dfs(i)\n",
    "    dfs(nx)\n",
    "    return sum(freind) - 1\n",
    "\n",
    "print(find(freinds, n))"
   ]
  },
  {
   "cell_type": "code",
   "execution_count": 80,
   "id": "76a2b53c",
   "metadata": {},
   "outputs": [],
   "source": [
    "def solution(freinds) :\n",
    "    answer = 0\n",
    "    n = len(freinds)\n",
    "    visited = [False] * n\n",
    "    \n",
    "    def dfs(freind) :\n",
    "        visited[freind] = True\n",
    "        for i in range(n) :\n",
    "            if freinds[freind][i] == 1 and not visited[i] :\n",
    "                dfs(i)\n",
    "    \n",
    "    for i in range(n) :\n",
    "        if not visited[i] :\n",
    "            dfs(i)\n",
    "    dfs(0)\n",
    "    return sum(visited)-1 # 자기 자신 제외"
   ]
  },
  {
   "cell_type": "code",
   "execution_count": 81,
   "id": "258824d1",
   "metadata": {},
   "outputs": [
    {
     "name": "stdout",
     "output_type": "stream",
     "text": [
      "2\n"
     ]
    }
   ],
   "source": [
    "print(solution(freinds))"
   ]
  },
  {
   "cell_type": "markdown",
   "id": "7e415fb3",
   "metadata": {},
   "source": [
    "# 2. DFS 문제 예제 2번\n",
    "\n",
    "## 0과 1로 이루어진 2차원 격자판이 주어집니다. 1은 땅이고 0은 바다입니다. 인접한 땅이 연결되어 하나의 섬을 이룹니다. 전체 섬의 개수를 구하세요. (상하좌우만 연결됨)\n",
    "\n",
    "✨ 입력\n",
    "격자 크기 n x m (1 ≤ n, m ≤ 5)\n",
    "\n",
    "2차원 배열 grid (0 또는 1)\n",
    "\n",
    "🎯 출력\n",
    "섬의 개수를 반환하세요"
   ]
  },
  {
   "cell_type": "code",
   "execution_count": 25,
   "id": "1b72934b",
   "metadata": {},
   "outputs": [],
   "source": [
    "grid = [[1, 1, 0],\n",
    "        [0, 1, 0],\n",
    "        [1, 0, 1]] \n",
    "# result = 3"
   ]
  },
  {
   "cell_type": "code",
   "execution_count": 31,
   "id": "b59d25ae",
   "metadata": {},
   "outputs": [
    {
     "name": "stdout",
     "output_type": "stream",
     "text": [
      "3\n"
     ]
    }
   ],
   "source": [
    "def solution(grid):\n",
    "    n = len(grid) # 행\n",
    "    m = len(grid[0]) # 열\n",
    "    visited = [[False] * m for _ in range(n)] # 방문 여부를 저장할 지도\n",
    "\n",
    "    def dfs(x, y): # DFS 함수 정의: (x, y) 위치에서 시작해서 연결된 모든 땅 탐색\n",
    "        visited[x][y] = True # 현재 위치 방문 처리\n",
    "        directions = [(-1,0), (1,0), (0,-1), (0,1)]  # 상하좌우\n",
    "        \n",
    "        for dx, dy in directions: # 상하좌우 인접한 땅들에 대해\n",
    "            nx, ny = x + dx, y + dy\n",
    "            if 0 <= nx < n and 0 <= ny < m: # 맞닿은 면이 있다면\n",
    "                if grid[nx][ny] == 1 and not visited[nx][ny]:\n",
    "                    dfs(nx, ny) # 어디까지 맞닿아 있는 지 체크\n",
    "\n",
    "    count = 0\n",
    "    for i in range(n):\n",
    "        for j in range(m):\n",
    "            if grid[i][j] == 1 and not visited[i][j]: # 땅덩어리가 붙어있지 않은 경우\n",
    "                dfs(i, j) # 새로운 땅덩어리 발견\n",
    "                count += 1 # 카운트하여 개수를 추가\n",
    "    return count\n",
    "\n",
    "print(solution(grid))"
   ]
  },
  {
   "cell_type": "markdown",
   "id": "a962c6fa",
   "metadata": {},
   "source": [
    "# 3. DFS 문제 예제 3번\n",
    "\n",
    "## 두 컴퓨터가 서로 연결되어 있는지 확인하세요. 연결되어 있다는 의미는 직접적 또는 간접적으로 연결된 상태입니다.\n",
    "\n",
    "✨ 입력\n",
    "컴퓨터 수 n (1 ≤ n ≤ 100)\n",
    "\n",
    "연결 상태를 나타내는 2차원 배열 computers\n",
    "\n",
    "확인할 컴퓨터 쌍 (a, b)\n",
    "\n",
    "🎯 출력\n",
    "a와 b가 연결되어 있다면 True, 아니면 False"
   ]
  },
  {
   "cell_type": "code",
   "execution_count": 32,
   "id": "ebd66328",
   "metadata": {},
   "outputs": [],
   "source": [
    "n = 3\n",
    "computers = [[1, 1, 0], [1, 1, 0], [0, 0, 1]]\n",
    "a = 0\n",
    "b = 2 \n",
    "# 출력 False"
   ]
  },
  {
   "cell_type": "code",
   "execution_count": 50,
   "id": "78983ae4",
   "metadata": {},
   "outputs": [
    {
     "name": "stdout",
     "output_type": "stream",
     "text": [
      "False\n"
     ]
    }
   ],
   "source": [
    "def solution(computers, a, b) :\n",
    "    n = len(computers)\n",
    "    connected = [False] * n\n",
    "    def dfs(A) :\n",
    "        connected[A] = True \n",
    "        for i in range(n) :\n",
    "            if computers[A][i] and not connected[i] :\n",
    "                dfs(i)\n",
    "    dfs(a)\n",
    "    return connected[b]\n",
    "print(solution(computers, a, b))"
   ]
  },
  {
   "cell_type": "code",
   "execution_count": null,
   "id": "0ec6adf7",
   "metadata": {},
   "outputs": [],
   "source": []
  },
  {
   "cell_type": "code",
   "execution_count": null,
   "id": "f12f0d9f",
   "metadata": {},
   "outputs": [],
   "source": []
  },
  {
   "cell_type": "markdown",
   "id": "cab7dc63",
   "metadata": {},
   "source": [
    "# 4. ★ DFS 문제 예제 4번 : \n",
    "## 프로그래머스와 비슷한 난이도 문제: 도시 그룹 lv3 62%\n",
    "\n",
    "도시들이 도로로 연결되어 있고, 연결된 도시끼리는 하나의 도시 그룹으로 간주합니다. 전체 도시 그룹의 개수를 구하세요.\n",
    "\n",
    "✨ 입력\n",
    "도시 수 n (1 ≤ n ≤ 200)\n",
    "\n",
    "roads[i] = [도시1, 도시2]는 두 도시가 도로로 연결되어 있다는 뜻입니다.\n",
    "\n",
    "🎯 출력\n",
    "도시 그룹의 개수를 반환하세요."
   ]
  },
  {
   "cell_type": "code",
   "execution_count": 33,
   "id": "ee698548",
   "metadata": {},
   "outputs": [],
   "source": [
    "n = 5\n",
    "roads = [[0, 1], [1, 2], [3, 4]]\n",
    "# 출력 2"
   ]
  },
  {
   "cell_type": "code",
   "execution_count": 57,
   "id": "84913227",
   "metadata": {},
   "outputs": [
    {
     "name": "stdout",
     "output_type": "stream",
     "text": [
      "defaultdict(<class 'list'>, {0: [1], 1: [0, 2], 2: [1], 3: [4], 4: [3]})\n",
      "2\n"
     ]
    }
   ],
   "source": [
    "def soiutions(roads, n) :\n",
    "    from collections import defaultdict\n",
    "    graph = defautldict(list)\n",
    "    for a,b in roads :\n",
    "        graph[a].append(b)\n",
    "        graph[b].append(a)\n",
    "    \n",
    "    visited = [False] * n\n",
    "    def dfs(city) :\n",
    "        visited[city] = True\n",
    "        for neighbor in graph[city] :\n",
    "            if not visited[neighbor] :\n",
    "                dfs(neighbor)\n",
    "    answer = 0\n",
    "    for city in range(n) :\n",
    "        if not visited[city] :\n",
    "            dfs(city)\n",
    "            answer +=1\n",
    "    \n",
    "    return answer\n",
    "\n",
    "print(solutions(n,roads))"
   ]
  },
  {
   "cell_type": "code",
   "execution_count": 58,
   "id": "c80691d6",
   "metadata": {},
   "outputs": [
    {
     "name": "stdout",
     "output_type": "stream",
     "text": [
      "defaultdict(<class 'list'>, {0: [1], 1: [0, 2], 2: [1], 3: [4], 4: [3]})\n",
      "2\n"
     ]
    }
   ],
   "source": [
    "def solutions(n, roads):\n",
    "    from collections import defaultdict\n",
    "\n",
    "    # 인접 리스트 그래프 생성\n",
    "    graph = defaultdict(list)\n",
    "    for a, b in roads:\n",
    "        graph[a].append(b)\n",
    "        graph[b].append(a)  # 양방향 도로\n",
    "    print(graph)\n",
    "\n",
    "    visited = [False] * n  # 도시 번호가 1부터 시작하므로 n+1개\n",
    "\n",
    "    def dfs(city):\n",
    "        visited[city] = True\n",
    "        for neighbor in graph[city]:\n",
    "            if not visited[neighbor]:\n",
    "                dfs(neighbor)\n",
    "\n",
    "    count = 0\n",
    "    for city in range(0, n):  # 도시 번호 1부터 n까지\n",
    "        if not visited[city]:\n",
    "            dfs(city)\n",
    "            count += 1\n",
    "\n",
    "    return count\n",
    "\n",
    "print(solutions(n,roads))"
   ]
  },
  {
   "cell_type": "markdown",
   "id": "aa8e50ca",
   "metadata": {},
   "source": [
    "# 5. ★ DFS/BFS 문제 예제: 섬의 개수 세기\n",
    "\n",
    "## 지도는 n x n 크기의 2차원 격자로 표현됩니다. 각 칸에는 육지(1) 또는 **바다(0)**가 있으며, 상하좌우로 연결된 육지 칸은 하나의 섬으로 간주합니다.\n",
    "\n",
    "이 지도가 주어질 때, 전체 섬의 개수를 구하세요.\n",
    "\n",
    "✨ 입력\n",
    "n (1 ≤ n ≤ 100): 지도의 크기\n",
    "\n",
    "grid: n x n 2차원 리스트\n",
    "grid[i][j] == 1 → 육지\n",
    "grid[i][j] == 0 → 바다\n",
    "\n",
    "🎯 출력\n",
    "섬의 개수를 int로 반환하세요."
   ]
  },
  {
   "cell_type": "code",
   "execution_count": 82,
   "id": "a2c618c7",
   "metadata": {},
   "outputs": [],
   "source": [
    "n = 5\n",
    "grid = [\n",
    "    [1, 1, 0, 0, 0],\n",
    "    [1, 0, 0, 1, 1],\n",
    "    [0, 0, 0, 1, 1],\n",
    "    [0, 1, 0, 0, 0],\n",
    "    [1, 1, 1, 0, 0]\n",
    "]\n",
    "# answer = 4"
   ]
  },
  {
   "cell_type": "code",
   "execution_count": 88,
   "id": "2e112820",
   "metadata": {},
   "outputs": [
    {
     "name": "stdout",
     "output_type": "stream",
     "text": [
      "3\n"
     ]
    }
   ],
   "source": [
    "def sol(grid) :\n",
    "    count = 0\n",
    "    visited = [[False] * n for _ in range(n)]\n",
    "    x, y = 0, 0\n",
    "    dx = [1,-1,0,0]\n",
    "    dy = [0,0,1,-1]\n",
    "    \n",
    "    def dfs(x,y) :\n",
    "        visited[x][y] = True\n",
    "        for i in range(4) :\n",
    "            nx, ny = x + dx[i], y + dy[i]\n",
    "            if 0<= nx <n and 0 <= ny < n :\n",
    "                if not visited[nx][ny] and grid[nx][ny] == 1:\n",
    "                    dfs(nx,ny)\n",
    "                \n",
    "    for i in range(n) :\n",
    "        for j in range(n) :\n",
    "            if not visited[i][j] and grid[i][j]==1:\n",
    "                dfs(i,j)\n",
    "                count +=1\n",
    "    return count\n",
    "\n",
    "print(sol(grid))"
   ]
  },
  {
   "cell_type": "code",
   "execution_count": null,
   "id": "a938d7a5",
   "metadata": {},
   "outputs": [],
   "source": []
  }
 ],
 "metadata": {
  "kernelspec": {
   "display_name": "Python 3 (ipykernel)",
   "language": "python",
   "name": "python3"
  },
  "language_info": {
   "codemirror_mode": {
    "name": "ipython",
    "version": 3
   },
   "file_extension": ".py",
   "mimetype": "text/x-python",
   "name": "python",
   "nbconvert_exporter": "python",
   "pygments_lexer": "ipython3",
   "version": "3.10.9"
  },
  "toc": {
   "base_numbering": 1,
   "nav_menu": {},
   "number_sections": false,
   "sideBar": true,
   "skip_h1_title": false,
   "title_cell": "Table of Contents",
   "title_sidebar": "Contents",
   "toc_cell": false,
   "toc_position": {
    "height": "calc(100% - 180px)",
    "left": "10px",
    "top": "150px",
    "width": "165px"
   },
   "toc_section_display": true,
   "toc_window_display": true
  }
 },
 "nbformat": 4,
 "nbformat_minor": 5
}
