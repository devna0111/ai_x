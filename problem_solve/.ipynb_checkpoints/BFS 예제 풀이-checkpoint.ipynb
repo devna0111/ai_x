{
 "cells": [
  {
   "cell_type": "markdown",
   "id": "f98db80b",
   "metadata": {},
   "source": [
    "# 문제 설명\n",
    "자연수 x를 y로 변환하려고 합니다. 사용할 수 있는 연산은 다음과 같습니다.\n",
    "\n",
    "x에 n을 더합니다\n",
    "x에 2를 곱합니다.\n",
    "x에 3을 곱합니다.\n",
    "자연수 x, y, n이 매개변수로 주어질 때, x를 y로 변환하기 위해 필요한 최소 연산 횟수를 return하도록 solution 함수를 완성해주세요. 이때 x를 y로 만들 수 없다면 -1을 return 해주세요.\n",
    "\n",
    "제한사항\n",
    "1 ≤ x ≤ y ≤ 1,000,000\n",
    "1 ≤ n < y\n",
    "입출력 예\n",
    "x\ty\tn\tresult\n",
    "10\t40\t5\t2\n",
    "10\t40\t30\t1\n",
    "2\t5\t4\t-1\n",
    "입출력 예 설명\n",
    "입출력 예 #1\n",
    "x에 2를 2번 곱하면 40이 되고 이때가 최소 횟수입니다.\n",
    "\n",
    "입출력 예 #2\n",
    "x에 n인 30을 1번 더하면 40이 되고 이때가 최소 횟수입니다.\n",
    "\n",
    "입출력 예 #3\n",
    "x를 y로 변환할 수 없기 때문에 -1을 return합니다.\n",
    "\n",
    "ex) x 10 y 40 n 5 result 2"
   ]
  },
  {
   "cell_type": "code",
   "execution_count": 1,
   "id": "71e9c852",
   "metadata": {},
   "outputs": [],
   "source": [
    "from collections import deque\n",
    "def solution(x, y, n):\n",
    "    using = deque()\n",
    "    visited = set()\n",
    "    first = (x,0)\n",
    "    using.append(first)\n",
    "    visited.add(x)\n",
    "    while using :\n",
    "        nums, steps = using.popleft()\n",
    "        \n",
    "        if nums == y :\n",
    "            return steps\n",
    "        \n",
    "        for next_nums in (nums+n, nums*2, nums*3) :\n",
    "            if next_nums <= y and next_nums not in visited :\n",
    "                visited.add(next_nums)\n",
    "                using.append((next_nums, steps + 1))\n",
    "    \n",
    "    return -1"
   ]
  },
  {
   "cell_type": "code",
   "execution_count": null,
   "id": "e9f52a71",
   "metadata": {},
   "outputs": [],
   "source": []
  },
  {
   "cell_type": "code",
   "execution_count": null,
   "id": "9690fc58",
   "metadata": {},
   "outputs": [],
   "source": []
  },
  {
   "cell_type": "code",
   "execution_count": null,
   "id": "6ea1ed3e",
   "metadata": {},
   "outputs": [],
   "source": []
  },
  {
   "cell_type": "code",
   "execution_count": null,
   "id": "44971eb8",
   "metadata": {},
   "outputs": [],
   "source": []
  },
  {
   "cell_type": "code",
   "execution_count": null,
   "id": "79133d39",
   "metadata": {},
   "outputs": [],
   "source": []
  }
 ],
 "metadata": {
  "kernelspec": {
   "display_name": "Python 3 (ipykernel)",
   "language": "python",
   "name": "python3"
  },
  "language_info": {
   "codemirror_mode": {
    "name": "ipython",
    "version": 3
   },
   "file_extension": ".py",
   "mimetype": "text/x-python",
   "name": "python",
   "nbconvert_exporter": "python",
   "pygments_lexer": "ipython3",
   "version": "3.10.9"
  },
  "toc": {
   "base_numbering": 1,
   "nav_menu": {},
   "number_sections": false,
   "sideBar": true,
   "skip_h1_title": false,
   "title_cell": "Table of Contents",
   "title_sidebar": "Contents",
   "toc_cell": false,
   "toc_position": {},
   "toc_section_display": true,
   "toc_window_display": false
  }
 },
 "nbformat": 4,
 "nbformat_minor": 5
}
