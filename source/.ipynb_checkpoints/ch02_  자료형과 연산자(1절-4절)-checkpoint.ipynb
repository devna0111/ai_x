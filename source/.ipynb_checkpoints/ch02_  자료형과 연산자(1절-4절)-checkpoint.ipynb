{
 "cells": [
  {
   "cell_type": "code",
   "execution_count": 12,
   "id": "55d8b874",
   "metadata": {},
   "outputs": [
    {
     "data": {
      "text/html": [
       "\n",
       "<style>\n",
       "div.container{width:86% !important;}\n",
       "div.cell.code_cell.rendered{width:100%;}\n",
       "div.CodeMirror {font-family:Consolas; font-size:12pt;}\n",
       "div.output {font-size:15pt; font-weight:bold;}\n",
       "div.input {font-family:Consolas; font-size:12pt;}\n",
       "div.prompt {min-width:70px;}\n",
       "div#toc-wrapper{padding-top:120px;}\n",
       "div.text_cell_render ul li{font-size:12pt;padding:5px;}\n",
       "table.dataframe{font-size:15px;}\n",
       "</style>\n"
      ],
      "text/plain": [
       "<IPython.core.display.HTML object>"
      ]
     },
     "metadata": {},
     "output_type": "display_data"
    }
   ],
   "source": [
    "from IPython.display import display, HTML\n",
    "display(HTML(\"\"\"\n",
    "<style>\n",
    "div.container{width:86% !important;}\n",
    "div.cell.code_cell.rendered{width:100%;}\n",
    "div.CodeMirror {font-family:Consolas; font-size:12pt;}\n",
    "div.output {font-size:15pt; font-weight:bold;}\n",
    "div.input {font-family:Consolas; font-size:12pt;}\n",
    "div.prompt {min-width:70px;}\n",
    "div#toc-wrapper{padding-top:120px;}\n",
    "div.text_cell_render ul li{font-size:12pt;padding:5px;}\n",
    "table.dataframe{font-size:15px;}\n",
    "</style>\n",
    "\"\"\"))"
   ]
  },
  {
   "cell_type": "markdown",
   "id": "7f633d45",
   "metadata": {},
   "source": [
    "<font size = 5, color = 'red'> ch02 자료형과 연산자 </font>\n",
    "# 1절 변수\n",
    "- 파이썬 변수 선언을 위한 과정이 없음. 변수 할당과 동시에 타입이 지정되고 값이 할당됨\n",
    "\n",
    "## 1.1 변수 할당\n",
    "- 할당연산자(=) 활용해 값을 할당하면 type 세팅\n",
    "- 파이썬에서의 모든 변수는 객체로 저장됨 (r = 5 에서 r 주소 100번지에 5가 상주 : 간접 주소 지정)\n"
   ]
  },
  {
   "cell_type": "code",
   "execution_count": null,
   "id": "d221b5ee",
   "metadata": {},
   "outputs": [],
   "source": [
    "r = 5 # int\n",
    "area = 3.14 * r * r # float\n",
    "print(f'계산된 넓이는 {area}cm^2')"
   ]
  },
  {
   "cell_type": "code",
   "execution_count": null,
   "id": "11dd872e",
   "metadata": {},
   "outputs": [],
   "source": [
    "from math import pi\n",
    "area_math = pi * r**2\n",
    "print(area_math)"
   ]
  },
  {
   "cell_type": "code",
   "execution_count": null,
   "id": "a0e60354",
   "metadata": {},
   "outputs": [],
   "source": [
    "import numpy as np\n",
    "area_numpy = np.pi * r**2\n",
    "print(area_numpy)"
   ]
  },
  {
   "cell_type": "code",
   "execution_count": null,
   "id": "97990000",
   "metadata": {},
   "outputs": [],
   "source": [
    "area.is_integer() # area가 integer인지 여부를 반환"
   ]
  },
  {
   "cell_type": "code",
   "execution_count": null,
   "id": "5d35e43b",
   "metadata": {},
   "outputs": [],
   "source": [
    "print('area의 주소는', id(area)) # id(area) : area 변수의 주소값\n",
    "print('area의 타입은', type(area)) # type(area) : area의 타입을 반환"
   ]
  },
  {
   "cell_type": "code",
   "execution_count": null,
   "id": "0d65976a",
   "metadata": {},
   "outputs": [],
   "source": [
    "area = 5.5\n",
    "print('area의 주소는', id(area)) # id(area) : area 변수의 주소값\n",
    "print('area의 타입은', type(area)) # type(area) : area의 타입을 반환"
   ]
  },
  {
   "cell_type": "code",
   "execution_count": null,
   "id": "5f0dff2e",
   "metadata": {
    "scrolled": true
   },
   "outputs": [],
   "source": [
    "r = 5 # int\n",
    "area = float(3 * r * r) # float\n",
    "print(f'계산된 넓이는 {area}cm^2')\n",
    "print('area의 주소는', id(area)) # id(area) : area 변수의 주소값\n",
    "print('area의 타입은', type(area)) # type(area) : area의 타입을 반환"
   ]
  },
  {
   "cell_type": "code",
   "execution_count": null,
   "id": "a7e121ba",
   "metadata": {},
   "outputs": [],
   "source": [
    "area.is_integer()"
   ]
  },
  {
   "cell_type": "code",
   "execution_count": null,
   "id": "fbe0baf6",
   "metadata": {},
   "outputs": [],
   "source": [
    "area = '파이썬'\n",
    "print('area의 주소는', id(area)) # id(area) : area 변수의 주소값\n",
    "print('area의 타입은', type(area)) # type(area) : area의 타입을 반환"
   ]
  },
  {
   "cell_type": "markdown",
   "id": "31779b9f",
   "metadata": {},
   "source": [
    "## 1.2 변수 이름 규칙\n",
    "- 반드시 문자로 시작\n",
    "- 언더 바 스코어(_) 제외 특수문자 불가 : 문자, 숫자, _로 변수명 작성\n",
    "- 함수명은 변수 이름으로 가능하나 피한다. 불가피하게 사용한다면 int_ 등 언더 바 스코어 적극 활용\n",
    "- 파이썬 예약어 (if,for,while....)는 변수 이름 사용 불가\n",
    "- 한글 변수는 꼭 필요시에만 이용"
   ]
  },
  {
   "cell_type": "code",
   "execution_count": null,
   "id": "4c21a556",
   "metadata": {},
   "outputs": [],
   "source": [
    "이름 = \"홍길동\" # 사용은 가능하지만 향후 버그의 원인이 되기 쉽다\n",
    "print(이름)"
   ]
  },
  {
   "cell_type": "code",
   "execution_count": null,
   "id": "a037d920",
   "metadata": {},
   "outputs": [],
   "source": [
    "이름"
   ]
  },
  {
   "cell_type": "code",
   "execution_count": null,
   "id": "0b9b2528",
   "metadata": {},
   "outputs": [],
   "source": [
    "# member.name = \"홍길동\"\n",
    "memberName = \"홍길동\"\n",
    "member_name = \"홍길동\"\n",
    "print(memberName, member_name)"
   ]
  },
  {
   "cell_type": "code",
   "execution_count": null,
   "id": "c9fe7733",
   "metadata": {},
   "outputs": [],
   "source": [
    "Print = '홍길동' # 변수 이름 대문자 시작은 기피함 : 보통 클래스에 사용 class Dog : 등\n",
    "print(Print)"
   ]
  },
  {
   "cell_type": "code",
   "execution_count": null,
   "id": "94df250d",
   "metadata": {},
   "outputs": [],
   "source": [
    "# 파이썬에서 숫자 : 정수, 실수, 복소수(허수 i # i**2 = -1, type = complex)\n",
    "i = 3 + 3j\n",
    "print(type(i))\n",
    "print(isinstance(i, complex)) # 타입 체크가 가능\n",
    "print(isinstance(i, int))\n",
    "print(isinstance(i, float))\n",
    "print(isinstance(i, str))\n",
    "print(isinstance(i, list))"
   ]
  },
  {
   "cell_type": "markdown",
   "id": "e900cf35",
   "metadata": {},
   "source": [
    "## 1.3 도움말"
   ]
  },
  {
   "cell_type": "code",
   "execution_count": null,
   "id": "3f100cc2",
   "metadata": {},
   "outputs": [],
   "source": [
    "# 도움말 기능 : shift + tab키 or \n",
    "# help(함수명) 종료는 q입력\n",
    "print()\n",
    "# Esc + o 실행 결과 접기 / 펼치기"
   ]
  },
  {
   "cell_type": "code",
   "execution_count": 23,
   "id": "27e7e0ca",
   "metadata": {},
   "outputs": [
    {
     "name": "stdout",
     "output_type": "stream",
     "text": [
      "Help on function add in module __main__:\n",
      "\n",
      "add(x, y=0)\n",
      "    two varieties x,y\n",
      "    x for 10's\n",
      "    y for 1's\n",
      "\n",
      "1.1 첫번째 인자\n",
      "99 두번째 인자\n",
      "None\n"
     ]
    }
   ],
   "source": [
    "def add(x, y=0) :\n",
    "    ''' two varieties x,y\n",
    "    x for 10's\n",
    "    y for 1's''' # docstring\n",
    "    print(x, \"첫번째 인자\")\n",
    "    print(y, \"두번째 인자\")\n",
    "    return \n",
    "\n",
    "help(add)\n",
    "print(add(1.1, 99))"
   ]
  },
  {
   "cell_type": "code",
   "execution_count": 24,
   "id": "b749f7c1",
   "metadata": {},
   "outputs": [
    {
     "name": "stdout",
     "output_type": "stream",
     "text": [
      "2 첫번째 인자\n",
      "3 두번째 인자\n",
      "None\n"
     ]
    }
   ],
   "source": [
    "a = add\n",
    "print(a(2,3))"
   ]
  },
  {
   "cell_type": "markdown",
   "id": "e540c95e",
   "metadata": {},
   "source": [
    "## 1.4 다중 변수 할당"
   ]
  },
  {
   "cell_type": "code",
   "execution_count": 30,
   "id": "a95a9e97",
   "metadata": {},
   "outputs": [
    {
     "name": "stdout",
     "output_type": "stream",
     "text": [
      "1 27 28 784\n",
      "27 1\n"
     ]
    }
   ],
   "source": [
    "# 다중 변수 할당 시 순차적 할당이 아니고 일괄 동시 할당\n",
    "a, b = 1, 27\n",
    "print(a, b, a+b, (a+b)**2)\n",
    "a, b = b, a\n",
    "print(a,b)"
   ]
  },
  {
   "cell_type": "markdown",
   "id": "d335130b",
   "metadata": {},
   "source": [
    "# 2절  화면 입출력(i/o)"
   ]
  },
  {
   "cell_type": "code",
   "execution_count": 11,
   "id": "45141368",
   "metadata": {},
   "outputs": [
    {
     "name": "stdout",
     "output_type": "stream",
     "text": [
      "첫번째 숫자는? : 3\n"
     ]
    },
    {
     "data": {
      "text/plain": [
       "3"
      ]
     },
     "execution_count": 11,
     "metadata": {},
     "output_type": "execute_result"
    }
   ],
   "source": [
    "# input() : 파이썬 기본 제공\n",
    "# 사용자로부터 값을 입력 받기 위한 함수. 문자열로 입력받음\n",
    "first = int(input('첫번째 숫자는? : '))\n",
    "first"
   ]
  },
  {
   "cell_type": "code",
   "execution_count": 12,
   "id": "0ece5e2c",
   "metadata": {},
   "outputs": [
    {
     "name": "stdout",
     "output_type": "stream",
     "text": [
      "두번째 숫자는? : 4\n"
     ]
    },
    {
     "data": {
      "text/plain": [
       "4"
      ]
     },
     "execution_count": 12,
     "metadata": {},
     "output_type": "execute_result"
    }
   ],
   "source": [
    "second = int(input('두번째 숫자는? : '))\n",
    "second"
   ]
  },
  {
   "cell_type": "code",
   "execution_count": 21,
   "id": "6bae818e",
   "metadata": {},
   "outputs": [
    {
     "name": "stdout",
     "output_type": "stream",
     "text": [
      "합은 7, 합 = 7, 합 ~ 7\n",
      "합 = 7, "
     ]
    }
   ],
   "source": [
    "sum_ = first + second\n",
    "print('합', sum_, sep=\"은 \", end = ', ')\n",
    "print('합', sum_, sep=\" = \", end = ', ')\n",
    "print('합', sum_, sep= \" ~ \")\n",
    "print('합', sum_, end = ', ', sep=\" = \")"
   ]
  },
  {
   "cell_type": "code",
   "execution_count": 23,
   "id": "9cd2c9cd",
   "metadata": {},
   "outputs": [
    {
     "name": "stdout",
     "output_type": "stream",
     "text": [
      "hello, world\n"
     ]
    }
   ],
   "source": [
    "import sys\n",
    "print('hello', 'world', sep=', ' , file = sys.stdout) # 스탠다드 아웃풋 으로 프린트해라"
   ]
  },
  {
   "cell_type": "markdown",
   "id": "70948534",
   "metadata": {},
   "source": [
    "# 3절 기본 자료형\n",
    "- 자료형에 따라 값의 크기와 저장 방식이 달라짐\n",
    "    - 숫자 : int, float, complex(복소수)\n",
    "    - 문자 : str\n",
    "    - 논리 : bool(True 1 False 0)\n",
    " \n",
    " ## 3.1 숫자형"
   ]
  },
  {
   "cell_type": "code",
   "execution_count": 25,
   "id": "347a7b04",
   "metadata": {},
   "outputs": [
    {
     "name": "stdout",
     "output_type": "stream",
     "text": [
      "9223372036854775807\n"
     ]
    }
   ],
   "source": [
    "import sys\n",
    "max_num = sys.maxsize # 시스템 속 정수의 최대값 2**63-1 (2의 63제곱 -1)\n",
    "print(max_num)"
   ]
  },
  {
   "cell_type": "code",
   "execution_count": 26,
   "id": "ef514f90",
   "metadata": {},
   "outputs": [
    {
     "data": {
      "text/plain": [
       "9223372036854776807"
      ]
     },
     "execution_count": 26,
     "metadata": {},
     "output_type": "execute_result"
    }
   ],
   "source": [
    "a = sys.maxsize + 1000\n",
    "a"
   ]
  },
  {
   "cell_type": "code",
   "execution_count": 27,
   "id": "e2ab4c61",
   "metadata": {},
   "outputs": [
    {
     "data": {
      "text/plain": [
       "85070591730234634294140981493785115249"
      ]
     },
     "execution_count": 27,
     "metadata": {},
     "output_type": "execute_result"
    }
   ],
   "source": [
    "a **2 "
   ]
  },
  {
   "cell_type": "code",
   "execution_count": 28,
   "id": "d28dfce1",
   "metadata": {
    "collapsed": true
   },
   "outputs": [
    {
     "data": {
      "text/plain": [
       "6138366150813885475780373654585479574386738457566758298953830093618976929888006544708181275875170285909607075539525429558571726663585298593581935241517534620261075684195563973675933537383641227189213759307914369406017879048734254866576376811137607573502140636313712037782109457898783244350842107550879269071611660378633377942556333301503544881653623202734978141371015617705951464268122384821358214213523113879354568407321469216256633371815697859358604815842699107542723476136366043720827348405284676377481345630647461543330050324309792111597435034425371407624475947717067059006603714851102299351361665546217099363454258778563996247415455152326775696760983653335774145974287848825607837892004711255736921283228867035755460118554806579541448670908011177428809080970079732171425063648862811754771848887113621907092214335790649658574911866848936080928398228898155900861675017747061639690134149335858060542902681286658469953227482113665710047822080405655094584971482293423792215796454543261930700574233942981109452079075244245950581294112958832265212622482870554906562764629675070119159550973181166507071890205749746388664692186039558848530130983623071257816044273023824163977824694289356353883369943"
      ]
     },
     "execution_count": 28,
     "metadata": {},
     "output_type": "execute_result"
    }
   ],
   "source": [
    "a**63"
   ]
  },
  {
   "cell_type": "code",
   "execution_count": 29,
   "id": "560f6e43",
   "metadata": {
    "collapsed": true
   },
   "outputs": [
    {
     "ename": "ValueError",
     "evalue": "Exceeds the limit (4300) for integer string conversion; use sys.set_int_max_str_digits() to increase the limit",
     "output_type": "error",
     "traceback": [
      "\u001b[1;31m---------------------------------------------------------------------------\u001b[0m",
      "\u001b[1;31mValueError\u001b[0m                                Traceback (most recent call last)",
      "File \u001b[1;32m~\\anaconda3\\lib\\site-packages\\IPython\\core\\formatters.py:706\u001b[0m, in \u001b[0;36mPlainTextFormatter.__call__\u001b[1;34m(self, obj)\u001b[0m\n\u001b[0;32m    699\u001b[0m stream \u001b[38;5;241m=\u001b[39m StringIO()\n\u001b[0;32m    700\u001b[0m printer \u001b[38;5;241m=\u001b[39m pretty\u001b[38;5;241m.\u001b[39mRepresentationPrinter(stream, \u001b[38;5;28mself\u001b[39m\u001b[38;5;241m.\u001b[39mverbose,\n\u001b[0;32m    701\u001b[0m     \u001b[38;5;28mself\u001b[39m\u001b[38;5;241m.\u001b[39mmax_width, \u001b[38;5;28mself\u001b[39m\u001b[38;5;241m.\u001b[39mnewline,\n\u001b[0;32m    702\u001b[0m     max_seq_length\u001b[38;5;241m=\u001b[39m\u001b[38;5;28mself\u001b[39m\u001b[38;5;241m.\u001b[39mmax_seq_length,\n\u001b[0;32m    703\u001b[0m     singleton_pprinters\u001b[38;5;241m=\u001b[39m\u001b[38;5;28mself\u001b[39m\u001b[38;5;241m.\u001b[39msingleton_printers,\n\u001b[0;32m    704\u001b[0m     type_pprinters\u001b[38;5;241m=\u001b[39m\u001b[38;5;28mself\u001b[39m\u001b[38;5;241m.\u001b[39mtype_printers,\n\u001b[0;32m    705\u001b[0m     deferred_pprinters\u001b[38;5;241m=\u001b[39m\u001b[38;5;28mself\u001b[39m\u001b[38;5;241m.\u001b[39mdeferred_printers)\n\u001b[1;32m--> 706\u001b[0m \u001b[43mprinter\u001b[49m\u001b[38;5;241;43m.\u001b[39;49m\u001b[43mpretty\u001b[49m\u001b[43m(\u001b[49m\u001b[43mobj\u001b[49m\u001b[43m)\u001b[49m\n\u001b[0;32m    707\u001b[0m printer\u001b[38;5;241m.\u001b[39mflush()\n\u001b[0;32m    708\u001b[0m \u001b[38;5;28;01mreturn\u001b[39;00m stream\u001b[38;5;241m.\u001b[39mgetvalue()\n",
      "File \u001b[1;32m~\\anaconda3\\lib\\site-packages\\IPython\\lib\\pretty.py:393\u001b[0m, in \u001b[0;36mRepresentationPrinter.pretty\u001b[1;34m(self, obj)\u001b[0m\n\u001b[0;32m    390\u001b[0m \u001b[38;5;28;01mfor\u001b[39;00m \u001b[38;5;28mcls\u001b[39m \u001b[38;5;129;01min\u001b[39;00m _get_mro(obj_class):\n\u001b[0;32m    391\u001b[0m     \u001b[38;5;28;01mif\u001b[39;00m \u001b[38;5;28mcls\u001b[39m \u001b[38;5;129;01min\u001b[39;00m \u001b[38;5;28mself\u001b[39m\u001b[38;5;241m.\u001b[39mtype_pprinters:\n\u001b[0;32m    392\u001b[0m         \u001b[38;5;66;03m# printer registered in self.type_pprinters\u001b[39;00m\n\u001b[1;32m--> 393\u001b[0m         \u001b[38;5;28;01mreturn\u001b[39;00m \u001b[38;5;28;43mself\u001b[39;49m\u001b[38;5;241;43m.\u001b[39;49m\u001b[43mtype_pprinters\u001b[49m\u001b[43m[\u001b[49m\u001b[38;5;28;43mcls\u001b[39;49m\u001b[43m]\u001b[49m\u001b[43m(\u001b[49m\u001b[43mobj\u001b[49m\u001b[43m,\u001b[49m\u001b[43m \u001b[49m\u001b[38;5;28;43mself\u001b[39;49m\u001b[43m,\u001b[49m\u001b[43m \u001b[49m\u001b[43mcycle\u001b[49m\u001b[43m)\u001b[49m\n\u001b[0;32m    394\u001b[0m     \u001b[38;5;28;01melse\u001b[39;00m:\n\u001b[0;32m    395\u001b[0m         \u001b[38;5;66;03m# deferred printer\u001b[39;00m\n\u001b[0;32m    396\u001b[0m         printer \u001b[38;5;241m=\u001b[39m \u001b[38;5;28mself\u001b[39m\u001b[38;5;241m.\u001b[39m_in_deferred_types(\u001b[38;5;28mcls\u001b[39m)\n",
      "File \u001b[1;32m~\\anaconda3\\lib\\site-packages\\IPython\\lib\\pretty.py:778\u001b[0m, in \u001b[0;36m_repr_pprint\u001b[1;34m(obj, p, cycle)\u001b[0m\n\u001b[0;32m    776\u001b[0m \u001b[38;5;124;03m\"\"\"A pprint that just redirects to the normal repr function.\"\"\"\u001b[39;00m\n\u001b[0;32m    777\u001b[0m \u001b[38;5;66;03m# Find newlines and replace them with p.break_()\u001b[39;00m\n\u001b[1;32m--> 778\u001b[0m output \u001b[38;5;241m=\u001b[39m \u001b[38;5;28;43mrepr\u001b[39;49m\u001b[43m(\u001b[49m\u001b[43mobj\u001b[49m\u001b[43m)\u001b[49m\n\u001b[0;32m    779\u001b[0m lines \u001b[38;5;241m=\u001b[39m output\u001b[38;5;241m.\u001b[39msplitlines()\n\u001b[0;32m    780\u001b[0m \u001b[38;5;28;01mwith\u001b[39;00m p\u001b[38;5;241m.\u001b[39mgroup():\n",
      "\u001b[1;31mValueError\u001b[0m: Exceeds the limit (4300) for integer string conversion; use sys.set_int_max_str_digits() to increase the limit"
     ]
    }
   ],
   "source": [
    "# (a**63)**63 ## 4300자가 넘으면 출력 불가"
   ]
  },
  {
   "cell_type": "code",
   "execution_count": 38,
   "id": "082ca6b7",
   "metadata": {},
   "outputs": [
    {
     "name": "stdout",
     "output_type": "stream",
     "text": [
      "1.5\n",
      "1\n"
     ]
    }
   ],
   "source": [
    "f = 3/2 # 1.5 float : 정수 / 정수 = 실수\n",
    "print(f)\n",
    "print(int(f))"
   ]
  },
  {
   "cell_type": "code",
   "execution_count": 40,
   "id": "6ebc3a4b",
   "metadata": {},
   "outputs": [
    {
     "name": "stdout",
     "output_type": "stream",
     "text": [
      "1\n"
     ]
    }
   ],
   "source": [
    "f = 3//2 # 몫 연산자 : int\n",
    "print(f)"
   ]
  },
  {
   "cell_type": "code",
   "execution_count": 41,
   "id": "bd1fc606",
   "metadata": {},
   "outputs": [
    {
     "name": "stdout",
     "output_type": "stream",
     "text": [
      "1\n"
     ]
    }
   ],
   "source": [
    "f = 3%2 # 나머지 연산자 : int\n",
    "print(f)"
   ]
  },
  {
   "cell_type": "code",
   "execution_count": 42,
   "id": "56140c7a",
   "metadata": {},
   "outputs": [
    {
     "name": "stdout",
     "output_type": "stream",
     "text": [
      "(-1+0j)\n"
     ]
    }
   ],
   "source": [
    "c = 1j # 복소수 0 + 1i\n",
    "print(c**2)"
   ]
  },
  {
   "cell_type": "code",
   "execution_count": 48,
   "id": "5813dde6",
   "metadata": {},
   "outputs": [
    {
     "name": "stdout",
     "output_type": "stream",
     "text": [
      "지수형 표현 할당 시 실수형으로 저장 :  1120000000000.0\n",
      "지수형 표현 할당 시 실수형으로 저장 :  1.12e-12\n"
     ]
    }
   ],
   "source": [
    "f = 1.12e12 # 1.12 * 10의 12제곱 112000000000 ## e12 10의 12제곱\n",
    "f\n",
    "print('지수형 표현 할당 시 실수형으로 저장 : ', f) # 메모리를 많이 잡아먹음\n",
    "f = 1.12e-12 # 1.12 * 10 ** -12 : 0.0000000112\n",
    "print('지수형 표현 할당 시 실수형으로 저장 : ', f)"
   ]
  },
  {
   "cell_type": "markdown",
   "id": "65a4f370",
   "metadata": {},
   "source": [
    "## 3.2 문자형\n",
    "- 큰따옴표(\"-\"), 작은따옴포('-') 이용"
   ]
  },
  {
   "cell_type": "code",
   "execution_count": 62,
   "id": "671adf21",
   "metadata": {},
   "outputs": [
    {
     "name": "stdout",
     "output_type": "stream",
     "text": [
      "서울시 영등포구 '신길동' 지역구 대표 홍길동 '짱'\n"
     ]
    }
   ],
   "source": [
    "name = '홍길동\\'짱\\''\n",
    "name = \"홍길동 '짱'\"\n",
    "address = '서울시 영등포구 \"신길동\"'\n",
    "address = \"서울시 영등포구 \\'신길동\\'\"\n",
    "print(address, name, sep = \" 지역구 대표 \")"
   ]
  },
  {
   "cell_type": "code",
   "execution_count": 71,
   "id": "a79edefd",
   "metadata": {},
   "outputs": [
    {
     "name": "stdout",
     "output_type": "stream",
     "text": [
      "아이고\n",
      "이제 가면\n",
      "언제 오나\n"
     ]
    }
   ],
   "source": [
    "print('''아이고\n",
    "이제 가면\n",
    "언제 오나''')"
   ]
  },
  {
   "cell_type": "code",
   "execution_count": 74,
   "id": "fc3c9929",
   "metadata": {},
   "outputs": [
    {
     "name": "stdout",
     "output_type": "stream",
     "text": [
      "대부분의 IDLE는 지원하는 내용이지만\n",
      "\n",
      "\n",
      "프로그래머스 코딩 테스트에선 지원을 안해줌(텍스트에 한해서)\n",
      "\n",
      "\n",
      "괄호는 자기 마음대로 닫습니다.\n"
     ]
    }
   ],
   "source": [
    "# 문자형 변수에 여러줄\n",
    "text = '''대부분의 IDLE는 지원하는 내용이지만\n",
    "\n",
    "\n",
    "프로그래머스 코딩 테스트에선 지원을 안해줌(텍스트에 한해서)\n",
    "\n",
    "\n",
    "괄호는 자기 마음대로 닫습니다.'''\n",
    "print(text)"
   ]
  },
  {
   "cell_type": "markdown",
   "id": "3a12e3f8",
   "metadata": {},
   "source": [
    "### * 문자열 연산"
   ]
  },
  {
   "cell_type": "code",
   "execution_count": 79,
   "id": "82927e13",
   "metadata": {},
   "outputs": [
    {
     "name": "stdout",
     "output_type": "stream",
     "text": [
      "홍길동동해 번쩍 서해 번쩍\n"
     ]
    }
   ],
   "source": [
    "'''\n",
    "    이거 언제 쓰냐면요 여러 줄 주석 용도 사용\n",
    "    2025. 04.08 문자열 연산 소스 by 아무개\n",
    "'''\n",
    "name1 = '홍길동'\n",
    "name2 = '동해 번쩍 서해 번쩍'\n",
    "print(name1 + name2)"
   ]
  },
  {
   "cell_type": "code",
   "execution_count": 80,
   "id": "3a67b928",
   "metadata": {
    "scrolled": true
   },
   "outputs": [
    {
     "name": "stdout",
     "output_type": "stream",
     "text": [
      "홍길동홍길동홍길동\n"
     ]
    }
   ],
   "source": [
    "print(name1 * 3)"
   ]
  },
  {
   "cell_type": "markdown",
   "id": "634bd9e2",
   "metadata": {},
   "source": [
    "### * raw 데이터\n",
    "- 용도 : 정규표현식 이용할 때 사용, 디렉토리 경로 표현 시 이용"
   ]
  },
  {
   "cell_type": "code",
   "execution_count": null,
   "id": "d248f7e1",
   "metadata": {},
   "outputs": [],
   "source": []
  },
  {
   "cell_type": "code",
   "execution_count": null,
   "id": "afd2555d",
   "metadata": {},
   "outputs": [],
   "source": []
  },
  {
   "cell_type": "code",
   "execution_count": null,
   "id": "f76e6544",
   "metadata": {},
   "outputs": [],
   "source": []
  }
 ],
 "metadata": {
  "kernelspec": {
   "display_name": "Python 3 (ipykernel)",
   "language": "python",
   "name": "python3"
  },
  "language_info": {
   "codemirror_mode": {
    "name": "ipython",
    "version": 3
   },
   "file_extension": ".py",
   "mimetype": "text/x-python",
   "name": "python",
   "nbconvert_exporter": "python",
   "pygments_lexer": "ipython3",
   "version": "3.10.9"
  },
  "toc": {
   "base_numbering": 1,
   "nav_menu": {},
   "number_sections": false,
   "sideBar": true,
   "skip_h1_title": false,
   "title_cell": "Table of Contents",
   "title_sidebar": "Contents",
   "toc_cell": false,
   "toc_position": {
    "height": "calc(100% - 180px)",
    "left": "10px",
    "top": "150px",
    "width": "185.4px"
   },
   "toc_section_display": true,
   "toc_window_display": true
  }
 },
 "nbformat": 4,
 "nbformat_minor": 5
}
