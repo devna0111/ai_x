{
 "cells": [
  {
   "cell_type": "markdown",
   "id": "32d4dcf5",
   "metadata": {},
   "source": [
    "# ch04 제어문 연습문제"
   ]
  },
  {
   "cell_type": "code",
   "execution_count": null,
   "id": "74227394",
   "metadata": {},
   "outputs": [],
   "source": [
    "# 1. 양의 정수를 입력 받아 홀수/짝수를 판별하는 프로그램을 작성하시오. 양의 정수가 아니면 숫자를 다시 입력 받아야 합니다.\n",
    "\n",
    "while True :\n",
    "    try :\n",
    "        user = int(input('양의 정수를 입력하세요. 정수만 입력 가능합니다 :'))\n",
    "        if user < 0 :\n",
    "            print('양의 정수가 아닙니다.')\n",
    "        else :\n",
    "            if user % 2 == 0 :\n",
    "                print('짝수')\n",
    "            else :\n",
    "                print('홀수')\n",
    "            break  \n",
    "    except ValueError :\n",
    "        print('양의 정수를 입력하시라구요.')"
   ]
  },
  {
   "cell_type": "code",
   "execution_count": 1,
   "id": "03529b20",
   "metadata": {},
   "outputs": [
    {
     "name": "stdout",
     "output_type": "stream",
     "text": [
      "*****\n",
      "*****\n",
      "*****\n",
      "*****\n",
      "*****\n",
      "\n",
      "*****\n",
      "*****\n",
      "*****\n",
      "*****\n",
      "*****\n",
      "\n",
      "*\n",
      "**\n",
      "***\n",
      "****\n",
      "*****\n",
      "\n",
      "*\n",
      "**\n",
      "***\n",
      "****\n",
      "*****\n",
      "\n",
      "*\n",
      "**\n",
      "***\n",
      "****\n",
      "*****\n",
      "\n",
      "(1) \t (2)\n",
      "***** \t *\n",
      "***** \t **\n",
      "***** \t ***\n",
      "***** \t ****\n",
      "***** \t *****\n"
     ]
    }
   ],
   "source": [
    "# 2. 중첩 for문을 이용하여 아래 패턴의 별을 출력하는 프로그램을 작성하세요\n",
    "# 2-1.\n",
    "for _ in range(5) :\n",
    "    print('*'*5)\n",
    "print()\n",
    "for _ in range(5) :\n",
    "    for _ in range(5) :\n",
    "        print('*', end = '')\n",
    "    print()\n",
    "print()\n",
    "# 2-2.\n",
    "for i in range(1,6) :\n",
    "    print('*'*i)\n",
    "print()\n",
    "for i in range(1,6) :\n",
    "    for j in range(1,6) :\n",
    "        continue\n",
    "    print('*'*i)\n",
    "print()\n",
    "for i in range(1,6) : # 중첩 for문을 활용해서 이렇게 풀었어야 했다.\n",
    "    for j in range(i) :\n",
    "        print('*', end='')\n",
    "    print()\n",
    "print()\n",
    "print('(1)','\\t','(2)') # 문제랑 똑같이 출력이 가능함\n",
    "for i in range(1,6) :\n",
    "    print('*'*5, '\\t','*'*i)"
   ]
  },
  {
   "cell_type": "code",
   "execution_count": null,
   "id": "4458d6f6",
   "metadata": {},
   "outputs": [],
   "source": [
    "# 3. 다음 코드는 1부터 30까지(30포함) 자연수 중에서 3의 배수의 총 합을 출력하는 프로그램입니다. 빈 칸을 완성하시오.\n",
    "sum_ = 0\n",
    "for i in range(1,31) :\n",
    "    if i % 3 == 0 :\n",
    "        sum_ += i\n",
    "    else :\n",
    "        pass\n",
    "print(sum_)"
   ]
  },
  {
   "cell_type": "code",
   "execution_count": null,
   "id": "7be9c00c",
   "metadata": {},
   "outputs": [],
   "source": [
    "# 4. 다음 코드의 실행 결과가 '1 3 5 7 9' 가 되도록 빈칸을 완성하시오.\n",
    "num = 0\n",
    "while num <= 10 :\n",
    "    if num %2 == 1 :\n",
    "        print(num, end = ' ')\n",
    "    num +=1"
   ]
  },
  {
   "cell_type": "code",
   "execution_count": null,
   "id": "6ae985fb",
   "metadata": {},
   "outputs": [],
   "source": [
    "# 5. 다음 2차원 리스트의 모든 값을 출력하는 코드입니다. 빈칸을 완성하시오.\n",
    "list2d = [[1,2,3,],[4,5,6,7],[8,9]]\n",
    "for row in list2d :\n",
    "    for data in row :\n",
    "        print(data, end=' ')\n",
    "    print()"
   ]
  },
  {
   "cell_type": "code",
   "execution_count": null,
   "id": "ba5c589a",
   "metadata": {},
   "outputs": [],
   "source": [
    "# 6. 다음 빈칸에 들어갈 함수 이름은?\n",
    "colors = {'red' : 'apple', 'yellow':'banana',}\n",
    "for i,v in enumerate(colors.values()) :\n",
    "    print(i,v)"
   ]
  },
  {
   "cell_type": "code",
   "execution_count": 2,
   "id": "03165c5d",
   "metadata": {},
   "outputs": [
    {
     "name": "stdout",
     "output_type": "stream",
     "text": [
      "1 0\n"
     ]
    }
   ],
   "source": [
    "# 7. 다음 코드의 실행 결과는 ?\n",
    "for i in range(0,2) :\n",
    "    for j in range(0,2) :\n",
    "        if i == j :\n",
    "            break\n",
    "        print(i,j)"
   ]
  },
  {
   "cell_type": "code",
   "execution_count": 1,
   "id": "5c552844",
   "metadata": {},
   "outputs": [
    {
     "name": "stdout",
     "output_type": "stream",
     "text": [
      "0 0\n",
      "1 0\n",
      "1 1\n"
     ]
    }
   ],
   "source": [
    "# 8. 다음 코드의 실행 결과로 출력될 수 없는 것은? 2번 출력 불가\n",
    "for i in range(0,2) :\n",
    "    for j in range(0,2) :\n",
    "        print(i,j)\n",
    "        if i == j :\n",
    "            break"
   ]
  },
  {
   "cell_type": "code",
   "execution_count": 4,
   "id": "708c7681",
   "metadata": {},
   "outputs": [
    {
     "name": "stdout",
     "output_type": "stream",
     "text": [
      "3 5 7 9 "
     ]
    },
    {
     "data": {
      "text/plain": [
       "[3, 5, 7, 9]"
      ]
     },
     "execution_count": 4,
     "metadata": {},
     "output_type": "execute_result"
    }
   ],
   "source": [
    "# 9. 다음 코드의 실행 결과는 ?\n",
    "L = [3,4,5,6,7,8,9,10]\n",
    "for i, data in enumerate(L) :\n",
    "    if (i%2==0) :\n",
    "        print(data, end=' ')\n",
    "L[::2]"
   ]
  },
  {
   "cell_type": "code",
   "execution_count": 5,
   "id": "68b84b7b",
   "metadata": {},
   "outputs": [
    {
     "name": "stdout",
     "output_type": "stream",
     "text": [
      "컴퓨터가 생성한 임의의 수 3\n",
      "1에서 100사이의 숫자를 입력하세요 >> 3\n",
      "정답 3입니다. 1번 만에 맞추셨네요!\n",
      "게임 끝\n"
     ]
    }
   ],
   "source": [
    "# 10. (2단계) 1~100 사이의 정수를 맞추는 프로그램을 구현하시오(프로그램 안에 임의의 숫자가 만들어지고 그 숫자를 맞추도록 합니다)\n",
    "import random\n",
    "target = random.randint(1,100)\n",
    "print(f'컴퓨터가 생성한 임의의 수 {target}')\n",
    "max_ = 100 ; min_ = 1 ; cnt = 0 # 투포인터 방식\n",
    "while True :\n",
    "    user = int(input(f'{min_}에서 {max_}사이의 숫자를 입력하세요 >> '))\n",
    "    if user > max_ or user <min_ :\n",
    "        print('수의 범위를 벗어났습니다')\n",
    "    elif user > target :\n",
    "        print('down')\n",
    "        cnt +=1\n",
    "        max_ = user - 1\n",
    "    elif user < target :\n",
    "        print('up')\n",
    "        cnt +=1\n",
    "        min_ = user + 1\n",
    "    elif user == target :\n",
    "        cnt +=1\n",
    "        print(f'정답 {user}입니다. {cnt}번 만에 맞추셨네요!')\n",
    "        break\n",
    "print('게임 끝')"
   ]
  },
  {
   "cell_type": "code",
   "execution_count": null,
   "id": "abd1c82d",
   "metadata": {
    "scrolled": true
   },
   "outputs": [],
   "source": [
    "# 10. (3단계) 기회 5번 안에 1~100 사이의 정수를 맞추는 프로그램을 구현하시오(프로그램 안에 임의의 숫자가 만들어지고 그 숫자를 맞추도록 합니다)\n",
    "import random\n",
    "target = random.randint(1,100)\n",
    "print(f'컴퓨터가 생성한 임의의 수 {target}')\n",
    "max_ = 100 ; min_ = 1 ; cnt = 0\n",
    "while cnt < 5 :\n",
    "    user = int(input(f'{min_}에서 {max_}사이의 숫자를 입력하세요. (남은 기회는 {5 - cnt}번) >> '))\n",
    "    if user > max_ or user <min_ :\n",
    "        print('수의 범위를 벗어났습니다')\n",
    "    elif user > target :\n",
    "        print('down')\n",
    "        cnt +=1\n",
    "        max_ = user - 1\n",
    "    elif user < target :\n",
    "        print('up')\n",
    "        cnt +=1\n",
    "        min_ = user + 1\n",
    "    elif user == target :\n",
    "        cnt +=1\n",
    "        print(f'정답 {user}입니다. {cnt}번 만에 맞추셨네요!')\n",
    "        break\n",
    "else :\n",
    "    print(f'기회를 모두 사용하였습니다. 실패하셨습니다. 정답은 {target}입니다.')\n",
    "print('게임 끝') "
   ]
  },
  {
   "cell_type": "code",
   "execution_count": null,
   "id": "beb1066a",
   "metadata": {},
   "outputs": [],
   "source": [
    "# 10. (3단계) 기회 5번 안에 1~100 사이의 정수를 맞추는 프로그램을 구현하시오(프로그램 안에 임의의 숫자가 만들어지고 그 숫자를 맞추도록 합니다)\n",
    "# try, except 구문을 통해 예외 처리\n",
    "import random\n",
    "target = random.randint(1,100)\n",
    "print(f'컴퓨터가 생성한 임의의 수 {target}')\n",
    "max_ = 100 ; min_ = 1 ; cnt = 0\n",
    "while cnt < 5 :\n",
    "    try :\n",
    "        user = int(input(f'{min_}에서 {max_}사이의 정수를 입력하세요. (남은 기회는 {5 - cnt}번) >> '))\n",
    "        if user > max_ or user <min_ :\n",
    "            print('수의 범위를 벗어났습니다')\n",
    "        else :\n",
    "            cnt +=1\n",
    "            if user > target :\n",
    "                print('down')\n",
    "                max_ = user - 1\n",
    "            elif user < target :\n",
    "                print('up')\n",
    "                min_ = user + 1\n",
    "            elif user == target :\n",
    "                print(f'정답 {user}입니다. {cnt}번 만에 맞추셨네요!')\n",
    "                break\n",
    "    except ValueError :\n",
    "        print('이 값은 정수가 아닌데..')\n",
    "        \n",
    "    except TypeError :\n",
    "        print('이 값은 자료형이 다른데..')\n",
    "else :\n",
    "    print(f'기회를 모두 사용하였습니다. 실패하셨습니다. 정답은 {target}입니다.')\n",
    "print('게임 끝') "
   ]
  },
  {
   "cell_type": "code",
   "execution_count": null,
   "id": "cc7ee086",
   "metadata": {},
   "outputs": [],
   "source": [
    "리스트 = list('대머리독수리')\n",
    "리스트\n",
    "print(id('대'))\n",
    "print(id('ㄷ'))\n",
    "print(id('a'))\n",
    "print(id('*'))\n",
    "print(id('🌠'))\n",
    "a = '🌠'\n",
    "a"
   ]
  },
  {
   "cell_type": "code",
   "execution_count": 9,
   "id": "5bc19348",
   "metadata": {},
   "outputs": [
    {
     "name": "stdout",
     "output_type": "stream",
     "text": [
      "콤퓨타의 숫자는 12입니다\n",
      "1부터 100사이의 정수를 입력하세요12\n",
      "오 정답입니다! 1 번 만에 맞춤\n"
     ]
    }
   ],
   "source": [
    "import random\n",
    "user = 0\n",
    "start, end, cnt = 1, 100, 0\n",
    "target = random.randint(1,100)\n",
    "print(f'콤퓨타의 숫자는 {target}입니다')\n",
    "while user != target :\n",
    "    user = int(input(f'{start}부터 {end}사이의 정수를 입력하세요'))\n",
    "    if user < start or user > end :\n",
    "        print('사용자의 선택 수 {user}는 범위를 벗어났습니다.')\n",
    "        print('{start}에서 {end}사이의 수를 입력하세요')\n",
    "    else :\n",
    "        cnt +=1\n",
    "        if user > target :\n",
    "            print('더 작은 수를 입력하세요')\n",
    "            end = user - 1\n",
    "        elif user < target :\n",
    "            print('더 큰 수를 입력하세요')\n",
    "            start = user + 1\n",
    "        elif user == target :\n",
    "            print('오 정답입니다!',cnt, '번 만에 맞춤')\n",
    "                     "
   ]
  },
  {
   "cell_type": "code",
   "execution_count": null,
   "id": "28cbd635",
   "metadata": {},
   "outputs": [],
   "source": [
    "import random\n",
    "user = 0\n",
    "start, end, cnt = 1, 100, 0\n",
    "target = random.randint(1,100)\n",
    "print(f'콤퓨타의 숫자는 {target}입니다')\n",
    "while user != target :\n",
    "    user = int(input(f'{start}부터 {end}사이의 정수를 입력하세요'))\n",
    "    if user < start or user > end :\n",
    "        print('사용자의 선택 수 {user}는 범위를 벗어났습니다.')\n",
    "        print('{start}에서 {end}사이의 수를 입력하세요')\n",
    "    else :\n",
    "        cnt +=1\n",
    "        if user > target :\n",
    "            print('더 작은 수를 입력하세요')\n",
    "            end = user - 1\n",
    "        elif user < target :\n",
    "            print('더 큰 수를 입력하세요')\n",
    "            start = user + 1\n",
    "        elif user == target :\n",
    "            print('오 정답입니다!',cnt, '번 만에 맞춤')"
   ]
  },
  {
   "cell_type": "code",
   "execution_count": 13,
   "id": "8e2ad306",
   "metadata": {},
   "outputs": [
    {
     "name": "stdout",
     "output_type": "stream",
     "text": [
      "콤퓨타의 숫자는 61입니다\n",
      "1부터 100사이의 정수를 입력하세요(기회는5번)50\n",
      "더 큰 수를 입력하세요\n",
      "51부터 100사이의 정수를 입력하세요(기회는4번)75\n",
      "더 작은 수를 입력하세요\n",
      "51부터 74사이의 정수를 입력하세요(기회는3번)68\n",
      "더 작은 수를 입력하세요\n",
      "51부터 67사이의 정수를 입력하세요(기회는2번)60\n",
      "더 큰 수를 입력하세요\n",
      "61부터 67사이의 정수를 입력하세요(기회는1번)61\n",
      "오 정답입니다! 5 번 만에 맞춤\n"
     ]
    }
   ],
   "source": [
    "import random\n",
    "user = 0\n",
    "start, end, cnt = 1, 100, 0\n",
    "target = random.randint(1,100)\n",
    "print(f'콤퓨타의 숫자는 {target}입니다')\n",
    "for i in range(5,0,-1) :\n",
    "    user = int(input(f'{start}부터 {end}사이의 정수를 입력하세요(기회는{i}번)'))\n",
    "    if user < start or user > end :\n",
    "        print(f'사용자의 선택 수 {user}는 범위를 벗어났습니다.')\n",
    "        print(f'{start}에서 {end}사이의 수를 입력하세요')\n",
    "    else :\n",
    "        cnt +=1\n",
    "        if user > target :\n",
    "            print('더 작은 수를 입력하세요')\n",
    "            end = user - 1\n",
    "        elif user < target :\n",
    "            print('더 큰 수를 입력하세요')\n",
    "            start = user + 1\n",
    "        elif user == target :\n",
    "            print('오 정답입니다!',cnt, '번 만에 맞춤')\n",
    "            break\n",
    "else :\n",
    "    print('모든 기회를 다 소진하였으나 결국 틀렸음')"
   ]
  },
  {
   "cell_type": "code",
   "execution_count": null,
   "id": "02dcecff",
   "metadata": {},
   "outputs": [],
   "source": []
  },
  {
   "cell_type": "code",
   "execution_count": null,
   "id": "62df836f",
   "metadata": {},
   "outputs": [],
   "source": []
  },
  {
   "cell_type": "code",
   "execution_count": null,
   "id": "d8073e14",
   "metadata": {},
   "outputs": [],
   "source": []
  },
  {
   "cell_type": "code",
   "execution_count": null,
   "id": "e00fd1ba",
   "metadata": {},
   "outputs": [],
   "source": []
  },
  {
   "cell_type": "code",
   "execution_count": null,
   "id": "7f845e1b",
   "metadata": {},
   "outputs": [],
   "source": []
  },
  {
   "cell_type": "code",
   "execution_count": null,
   "id": "18da3f08",
   "metadata": {},
   "outputs": [],
   "source": []
  },
  {
   "cell_type": "code",
   "execution_count": null,
   "id": "6690e68e",
   "metadata": {},
   "outputs": [],
   "source": []
  },
  {
   "cell_type": "code",
   "execution_count": null,
   "id": "30fe82a9",
   "metadata": {},
   "outputs": [],
   "source": []
  },
  {
   "cell_type": "code",
   "execution_count": null,
   "id": "49371927",
   "metadata": {},
   "outputs": [],
   "source": []
  },
  {
   "cell_type": "code",
   "execution_count": null,
   "id": "b5daedc8",
   "metadata": {},
   "outputs": [],
   "source": []
  },
  {
   "cell_type": "code",
   "execution_count": null,
   "id": "eaf45728",
   "metadata": {},
   "outputs": [],
   "source": []
  },
  {
   "cell_type": "code",
   "execution_count": null,
   "id": "cc85140e",
   "metadata": {},
   "outputs": [],
   "source": []
  },
  {
   "cell_type": "code",
   "execution_count": null,
   "id": "825e44b7",
   "metadata": {},
   "outputs": [],
   "source": []
  },
  {
   "cell_type": "code",
   "execution_count": null,
   "id": "2ffaebdf",
   "metadata": {},
   "outputs": [],
   "source": []
  },
  {
   "cell_type": "code",
   "execution_count": null,
   "id": "c6b7d309",
   "metadata": {},
   "outputs": [],
   "source": []
  },
  {
   "cell_type": "code",
   "execution_count": null,
   "id": "663ecd5e",
   "metadata": {},
   "outputs": [],
   "source": []
  },
  {
   "cell_type": "code",
   "execution_count": null,
   "id": "1ca84d17",
   "metadata": {},
   "outputs": [],
   "source": []
  },
  {
   "cell_type": "code",
   "execution_count": null,
   "id": "5ebb8c7f",
   "metadata": {},
   "outputs": [],
   "source": []
  }
 ],
 "metadata": {
  "kernelspec": {
   "display_name": "Python 3 (ipykernel)",
   "language": "python",
   "name": "python3"
  },
  "language_info": {
   "codemirror_mode": {
    "name": "ipython",
    "version": 3
   },
   "file_extension": ".py",
   "mimetype": "text/x-python",
   "name": "python",
   "nbconvert_exporter": "python",
   "pygments_lexer": "ipython3",
   "version": "3.10.9"
  },
  "toc": {
   "base_numbering": 1,
   "nav_menu": {},
   "number_sections": false,
   "sideBar": true,
   "skip_h1_title": false,
   "title_cell": "Table of Contents",
   "title_sidebar": "Contents",
   "toc_cell": false,
   "toc_position": {},
   "toc_section_display": true,
   "toc_window_display": false
  }
 },
 "nbformat": 4,
 "nbformat_minor": 5
}
