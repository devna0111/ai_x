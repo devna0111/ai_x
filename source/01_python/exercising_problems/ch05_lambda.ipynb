{
 "cells": [
  {
   "cell_type": "markdown",
   "id": "fcca4163",
   "metadata": {},
   "source": [
    "# 6절 연습문제"
   ]
  },
  {
   "cell_type": "code",
   "execution_count": null,
   "id": "7562b41b",
   "metadata": {},
   "outputs": [],
   "source": [
    "# 실습형"
   ]
  },
  {
   "cell_type": "code",
   "execution_count": 1,
   "id": "ba20228a",
   "metadata": {},
   "outputs": [
    {
     "name": "stdout",
     "output_type": "stream",
     "text": [
      "(10000, 1)\n",
      "(10000, 1)\n"
     ]
    }
   ],
   "source": [
    "# 1. 함수의 인자로 리스트를 받은 후 리스트 내에 있는 모든 정수 값에 대해 최대값과 최소값을 리턴하는 함수를 작성하세요.\n",
    "def get_max_min(data_list) :\n",
    "    return max(data_list), min(data_list)\n",
    "\n",
    "get_max_min2 = lambda data_list : (max(data_list), min(data_list))\n",
    "\n",
    "data_list = [1,10,100,1000,10000]\n",
    "print(get_max_min(data_list))\n",
    "print(get_max_min2(data_list))"
   ]
  },
  {
   "cell_type": "code",
   "execution_count": 42,
   "id": "cd569643",
   "metadata": {},
   "outputs": [
    {
     "name": "stdout",
     "output_type": "stream",
     "text": [
      "표준\n",
      "표준\n"
     ]
    }
   ],
   "source": [
    "# 2. 체질량 지수는 체중과 키를 이용해 비만도를 나타내는 지수로 아래 수식에 따라 계산된다. \n",
    "#    함수의 인자로 체중과 신장을 입력 받은 후 BMI값에 따라 '마른체형', '표준', '비만','고도비만' 중 하나의 상태를 출력하는 함수를 구현하세요.\n",
    "def getBMI(kg, m) :\n",
    "    BMI = kg/(m**2)\n",
    "    if BMI < 18.5 : return '마른체형'\n",
    "    elif 18.5 <= BMI < 25 : return '표준'\n",
    "    elif 25 <= BMI < 30 : return '비만'\n",
    "    elif 30 < BMI : return '고도비만'\n",
    "    else : return '잘못된 값을 입력하신 거 같아요'\n",
    "print(getBMI(76.5,1.75))\n",
    "getBMI_lambda = lambda kg, m : '마른체형' if kg/(m**2) < 18.5 else '표준' if 18.5 <= kg/(m**2) < 25 else '비만' if 25 <= kg/(m**2) < 30 else '고도비만' if 30 < kg/(m**2) else '잘못된 값을 입력하신 거 같아요' \n",
    "print(getBMI_lambda(65,1.75))"
   ]
  },
  {
   "cell_type": "code",
   "execution_count": 3,
   "id": "a485bcc1",
   "metadata": {},
   "outputs": [
    {
     "name": "stdout",
     "output_type": "stream",
     "text": [
      "(0.5, 3.414213562373095)\n",
      "(0.5, 3.414213562373095)\n"
     ]
    }
   ],
   "source": [
    "# 3. 직각삼각형의 밑변과 높이를 입력받은 후 삼각형의 면적과 둘레를 계산하는 함수를 작성하세요. # math 모듈을 사용하라고 하지만 구현능력을 위해 하드코딩\n",
    "def get_triangle(width, height) :\n",
    "    return (0.5 * width * height) , (width + height + (((width**2) + (height ** 2))**0.5))\n",
    "\n",
    "get_triangle(1,1)\n",
    "get_triangle_lambda = lambda width, height : ((0.5 * width * height) , (width + height + (((width**2) + (height ** 2))**0.5)))\n",
    "print(get_triangle(1,1))\n",
    "print(get_triangle_lambda(1,1))"
   ]
  },
  {
   "cell_type": "code",
   "execution_count": 4,
   "id": "9d5d0903",
   "metadata": {},
   "outputs": [
    {
     "name": "stdout",
     "output_type": "stream",
     "text": [
      "55\n",
      "55\n"
     ]
    }
   ],
   "source": [
    "# 4. 함수의 인자로 시작과 끝 숫자가 주어질 때 시작부터 끝까지의 모든 정수 값의 합을 리턴하는 함수를 작성하세요.\n",
    "def mysum(from_, end) :\n",
    "    return sum((range(from_, end+1)))\n",
    "print(mysum(1,10))\n",
    "mysum2 = lambda from_, end : sum((range(from_, end+1)))\n",
    "print(mysum2(1,10))"
   ]
  },
  {
   "cell_type": "code",
   "execution_count": 5,
   "id": "efe5b901",
   "metadata": {},
   "outputs": [
    {
     "name": "stdout",
     "output_type": "stream",
     "text": [
      "['seo', 'jej', 'gwa', 'dae']\n",
      "['seo', 'jej', 'gwa', 'dae']\n"
     ]
    }
   ],
   "source": [
    "# 5. 함수의 인자로 문자열을 포함하는 리스트가 입력 될 때 각 문자열의 첫 세글자로만 구성된 리스트를 리턴하는 함수와 람다식을 작성하세요\n",
    "def get_abbrs(lst) :\n",
    "    return [i[:3] for i in lst]\n",
    "\n",
    "print(get_abbrs(['seoul','jeju','gwangju','daegu']))\n",
    "get_abbrs_lambda = lambda lst : [i[:3] for i in lst]\n",
    "print(get_abbrs_lambda(['seoul','jeju','gwangju','daegu']))"
   ]
  },
  {
   "cell_type": "code",
   "execution_count": 6,
   "id": "45d64fdb",
   "metadata": {},
   "outputs": [
    {
     "name": "stdout",
     "output_type": "stream",
     "text": [
      "8\n",
      "8\n"
     ]
    }
   ],
   "source": [
    "# 6. 다음 코드를 람다 함수 형태로 수정할 때 알맞은 코드를 작성하시오\n",
    "def f(x,y) :\n",
    "    return x**y\n",
    "f_lambda = lambda x, y : x**y\n",
    "print(f(2,3))\n",
    "print(f_lambda(2,3))"
   ]
  },
  {
   "cell_type": "code",
   "execution_count": 43,
   "id": "8f60dc87",
   "metadata": {},
   "outputs": [
    {
     "name": "stdout",
     "output_type": "stream",
     "text": [
      "[1, 4, 9, 16, 25]\n",
      "[1, 4, 9, 16, 25]\n"
     ]
    }
   ],
   "source": [
    "# 7. ex = [1,2,3,4,5] 를 [1,4,9,16,25]의 결과를 얻을 수 있도록 람다함수와 map()함수를 사용하여 구현과 리스트 컴프리헨션으로 구현하세요\n",
    "ex = [1,2,3,4,5]\n",
    "# 7-1 리스트컴프리헨션\n",
    "print([i**2 for i in ex])\n",
    "# 7-2 map함수 구현\n",
    "print(list(map(lambda x : x**2,ex)))"
   ]
  },
  {
   "cell_type": "code",
   "execution_count": 8,
   "id": "5ae4bff7",
   "metadata": {},
   "outputs": [
    {
     "name": "stdout",
     "output_type": "stream",
     "text": [
      "1 2 3\n",
      "[1, 2, 3]\n"
     ]
    }
   ],
   "source": [
    "# 8. 다음 코드를 각각 실행하면 서로 다른 결과가 나온다. 결과를 서술하시오.\n",
    "\n",
    "## *를 통해 언패킹 한 결과를 반환하기 때문입니다.\n",
    "a = [1,2,3]\n",
    "print(*a)\n",
    "print(a)"
   ]
  },
  {
   "cell_type": "code",
   "execution_count": 9,
   "id": "d30459e3",
   "metadata": {},
   "outputs": [
    {
     "data": {
      "text/plain": [
       "'2024-9-6'"
      ]
     },
     "execution_count": 9,
     "metadata": {},
     "output_type": "execute_result"
    }
   ],
   "source": [
    "# 9. 다음 코드의 실행 결과는 ? '2024-9-6'\n",
    "date_info = {'year' : 2024, 'month' : 9, 'day' : 6}\n",
    "result = '{year}-{month}-{day}'.format(**date_info)\n",
    "result"
   ]
  },
  {
   "cell_type": "code",
   "execution_count": 26,
   "id": "18dd641a",
   "metadata": {},
   "outputs": [
    {
     "data": {
      "text/plain": [
       "True"
      ]
     },
     "execution_count": 26,
     "metadata": {},
     "output_type": "execute_result"
    }
   ],
   "source": [
    "# 10. n개의 벡터(리스트나 튜플, 셋 등)의 크기들이 같은 지 여부를 return하는 vector_size_check(*vector_var)를 한줄의 코드(리스트 컴프리핸션 이용)로 작성하세요\n",
    "# 무슨 말인 지 모르겠어요...\n",
    "# ex) vector_size_check([10,20], (100,200), {'name' : '홍', 'age' : 20}) => True\n",
    "vector_size_check = lambda *vector_var : True if len(set([len(i) for i in vector_var])) == 1 else False\n",
    "vector_size_check([10,20], (100,200), {'name' : '홍', 'age' : 20,})"
   ]
  },
  {
   "cell_type": "code",
   "execution_count": 14,
   "id": "314ad579",
   "metadata": {},
   "outputs": [
    {
     "name": "stdout",
     "output_type": "stream",
     "text": [
      "[5, 10, 15, 20]\n",
      "[5, 10, 15, 20]\n"
     ]
    }
   ],
   "source": [
    "# 11. 다음과 같은 결과를 얻기 위해 하나의 스칼라 값을 리스트나 튜플, 셋 등 벡터에 곱하는 코드를 작성하시오.(단, 입력되는 벡터의 크기는 일정하지 않음)\n",
    "def scalar_vector_product(n,lst) :\n",
    "    return [n*x for x in lst]\n",
    "scalar_vector_product_lambda = lambda n, lst : [n*x for x in lst]\n",
    "n = 5 ; lst = [1,2,3,4]\n",
    "print(scalar_vector_product(n,lst))\n",
    "print(scalar_vector_product_lambda(n,lst))"
   ]
  },
  {
   "cell_type": "code",
   "execution_count": 15,
   "id": "2ff8c3b9",
   "metadata": {},
   "outputs": [],
   "source": [
    "# 서술형"
   ]
  },
  {
   "cell_type": "code",
   "execution_count": 16,
   "id": "af53ab65",
   "metadata": {},
   "outputs": [
    {
     "data": {
      "text/plain": [
       "[(4, 'a'), (3, 'b'), (2, 'c'), (1, 'd')]"
      ]
     },
     "execution_count": 16,
     "metadata": {},
     "output_type": "execute_result"
    }
   ],
   "source": [
    "# 1. 다음 코드의 실행 결과는 ? 2번 [(4, 'a'), (3, 'b'), (2, 'c'), (1, 'd')]\n",
    "pairs = [(1,'d'),(2,'c'),(3,'b'),(4,'a')]\n",
    "pairs.sort(key = lambda pair : pair[1])\n",
    "pairs"
   ]
  },
  {
   "cell_type": "code",
   "execution_count": 17,
   "id": "2c798b80",
   "metadata": {},
   "outputs": [
    {
     "name": "stdout",
     "output_type": "stream",
     "text": [
      "612613"
     ]
    }
   ],
   "source": [
    "# 2.함수 영역과 변수들의 참조 영역에 따른 동작을 보여주기 위한 문제입니다. 오류가 발생하는 라인을 찾고 문제를 해결하기 위한 코드를 작성하며 실행 결과를 쓰세요.\n",
    "# sub 함수가 a의 값을 참조할 수 없음 : 사전 함수 변수의 영역에 a 변수가 선언되었으나 초기화 된 내용이 없어서 발생하는 문제. a를 global a로 선언하여 해결\n",
    "a = 10\n",
    "def sub() :\n",
    "    global a\n",
    "    a += 1\n",
    "    print(a, end = '')\n",
    "\n",
    "def func() :\n",
    "    for i in range(2) :\n",
    "        a = 5\n",
    "        a += 1\n",
    "        print(a, end = '')\n",
    "        sub()\n",
    "        \n",
    "a +=1\n",
    "func()"
   ]
  },
  {
   "cell_type": "code",
   "execution_count": 18,
   "id": "36654767",
   "metadata": {},
   "outputs": [
    {
     "name": "stdout",
     "output_type": "stream",
     "text": [
      "100\n"
     ]
    }
   ],
   "source": [
    "# 3. 다음 구문을 실행한 결과는? 100 함수 속 지역 변수 var가 200으로 재할당 후 소거되며 전역 변수 var에는 영향이 없음\n",
    "var = 100\n",
    "def func(var) :\n",
    "    var = 200\n",
    "func(var)\n",
    "print(var)"
   ]
  },
  {
   "cell_type": "code",
   "execution_count": 28,
   "id": "449c517b",
   "metadata": {},
   "outputs": [
    {
     "data": {
      "text/plain": [
       "5"
      ]
     },
     "execution_count": 28,
     "metadata": {},
     "output_type": "execute_result"
    }
   ],
   "source": [
    "# 4. 다음 구문의 실행 결과는? *args를 통해 2와 3을 패킹, numpy 모듈의 add 함수를 사용해 덧셈 결과 유추.\n",
    "def my_func(func,*args) :\n",
    "    return func(*args)\n",
    "import numpy as np\n",
    "my_func(np.add,2,3)"
   ]
  },
  {
   "cell_type": "code",
   "execution_count": 20,
   "id": "207938a1",
   "metadata": {},
   "outputs": [
    {
     "data": {
      "text/plain": [
       "8"
      ]
     },
     "execution_count": 20,
     "metadata": {},
     "output_type": "execute_result"
    }
   ],
   "source": [
    "# 5. 다음 구문의 실행 결과는? 8\n",
    "def my_func(func,*args) :\n",
    "    return(func(*args))\n",
    "my_func(lambda a,b : a**b, 2,3)"
   ]
  },
  {
   "cell_type": "code",
   "execution_count": 21,
   "id": "30442ea7",
   "metadata": {},
   "outputs": [],
   "source": [
    "# 6. 파이썬 함수에 대한 설명 중 잘못된 것은?\n",
    "# 1번 중복정의 불가능 : 오버로딩 불가"
   ]
  },
  {
   "cell_type": "code",
   "execution_count": 22,
   "id": "48e5a622",
   "metadata": {},
   "outputs": [
    {
     "data": {
      "text/plain": [
       "[40]"
      ]
     },
     "execution_count": 22,
     "metadata": {},
     "output_type": "execute_result"
    }
   ],
   "source": [
    "# 7. 다음과 같은 구문이 있을 경우 오류가 발생하는 함수 호출은? 4번 func([],a=40) : a= 40을 사용하려면 L=[]를 사용해야함\n",
    "list_ = []\n",
    "def func(a, L=None) :\n",
    "    if L is None :\n",
    "        L = []\n",
    "    L.append(a)\n",
    "    return L\n",
    "func(L=[],a=40)"
   ]
  },
  {
   "cell_type": "code",
   "execution_count": 23,
   "id": "ae52050c",
   "metadata": {},
   "outputs": [],
   "source": [
    "# 8.다음 보기가 설명하는 것을 작성하기 위한 키워드를 쓰세요. : lambda"
   ]
  },
  {
   "cell_type": "code",
   "execution_count": null,
   "id": "b8fcc061",
   "metadata": {},
   "outputs": [],
   "source": []
  },
  {
   "cell_type": "code",
   "execution_count": null,
   "id": "70e94c92",
   "metadata": {},
   "outputs": [],
   "source": [
    "# 10. n개의 벡터(리스트나 튜플, 셋 등)의 크기들이 같은 지 여부를 return하는 vector_size_check(*vector_var)를 한줄의 코드(리스트 컴프리핸션 이용)로 작성하세요\n",
    "# 무슨 말인 지 모르겠어요...\n",
    "# ex) vector_size_check([10,20], (100,200), {'name' : '홍', 'age' : 20}) => True\n",
    "vector_size_check = lambda *vector_var : True if len(set([len(i) for i in vector_var])) == 1 else False\n",
    "vector_size_check([10,20], (100,200), {'name' : '홍', 'age' : 20,})"
   ]
  },
  {
   "cell_type": "code",
   "execution_count": 48,
   "id": "37c2bc32",
   "metadata": {},
   "outputs": [
    {
     "data": {
      "text/plain": [
       "True"
      ]
     },
     "execution_count": 48,
     "metadata": {},
     "output_type": "execute_result"
    }
   ],
   "source": [
    "ex = ([10,20], (100,200), {'name' : '홍', 'age' : 20,})\n",
    "all([len(x) == len(ex[0]) for x in ([10,20], (100,200), {'name' : '홍', 'age' : 20,})])"
   ]
  },
  {
   "cell_type": "code",
   "execution_count": null,
   "id": "647a3a42",
   "metadata": {},
   "outputs": [],
   "source": []
  }
 ],
 "metadata": {
  "kernelspec": {
   "display_name": "Python 3 (ipykernel)",
   "language": "python",
   "name": "python3"
  },
  "language_info": {
   "codemirror_mode": {
    "name": "ipython",
    "version": 3
   },
   "file_extension": ".py",
   "mimetype": "text/x-python",
   "name": "python",
   "nbconvert_exporter": "python",
   "pygments_lexer": "ipython3",
   "version": "3.10.9"
  },
  "toc": {
   "base_numbering": 1,
   "nav_menu": {},
   "number_sections": false,
   "sideBar": true,
   "skip_h1_title": false,
   "title_cell": "Table of Contents",
   "title_sidebar": "Contents",
   "toc_cell": false,
   "toc_position": {},
   "toc_section_display": true,
   "toc_window_display": false
  }
 },
 "nbformat": 4,
 "nbformat_minor": 5
}
