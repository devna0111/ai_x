{
 "cells": [
  {
   "cell_type": "code",
   "execution_count": 1,
   "id": "86d77eb6",
   "metadata": {},
   "outputs": [
    {
     "name": "stdout",
     "output_type": "stream",
     "text": [
      "연습문제 1 **************************************************\n",
      "# 10 이상의 숫자들만 추출하시오\n",
      "\n",
      "[12, 13, 20]\n"
     ]
    }
   ],
   "source": [
    "print('연습문제 1', '*'*50)\n",
    "numbers = [1, 3, 5, 9, 10, 12, 13, 20]\n",
    "print('# 10 이상의 숫자들만 추출하시오', end='\\n\\n')\n",
    "print([x for x in numbers if x > 10])"
   ]
  },
  {
   "cell_type": "code",
   "execution_count": 2,
   "id": "be2b6a8c",
   "metadata": {},
   "outputs": [
    {
     "name": "stdout",
     "output_type": "stream",
     "text": [
      "연습문제 2 **************************************************\n",
      "# fruits에서 5글자가 넘는 과일만 추출하시오.\n",
      "\n",
      "['orange']\n"
     ]
    }
   ],
   "source": [
    "print('연습문제 2', '*'*50)\n",
    "fruits = ['orange', 'apple', 'mango', 'kiwi']\n",
    "print('# fruits에서 5글자가 넘는 과일만 추출하시오.', end='\\n\\n')\n",
    "print([x for x in fruits if len(x) > 5])"
   ]
  },
  {
   "cell_type": "code",
   "execution_count": 3,
   "id": "ee070306",
   "metadata": {},
   "outputs": [
    {
     "name": "stdout",
     "output_type": "stream",
     "text": [
      "연습문제 3 **************************************************\n",
      "# 3 이상의 요소들의 제곱수를 추출하시오.\n",
      "\n",
      "[9, 16, 25]\n"
     ]
    }
   ],
   "source": [
    "print('연습문제 3', '*'*50)\n",
    "L = [1,2,3,4,5]\n",
    "print('# 3 이상의 요소들의 제곱수를 추출하시오.', end='\\n\\n')\n",
    "print([x**2 for x in L if x >= 3])"
   ]
  }
 ],
 "metadata": {
  "kernelspec": {
   "display_name": "Python 3 (ipykernel)",
   "language": "python",
   "name": "python3"
  },
  "language_info": {
   "codemirror_mode": {
    "name": "ipython",
    "version": 3
   },
   "file_extension": ".py",
   "mimetype": "text/x-python",
   "name": "python",
   "nbconvert_exporter": "python",
   "pygments_lexer": "ipython3",
   "version": "3.10.9"
  },
  "toc": {
   "base_numbering": 1,
   "nav_menu": {},
   "number_sections": false,
   "sideBar": true,
   "skip_h1_title": false,
   "title_cell": "Table of Contents",
   "title_sidebar": "Contents",
   "toc_cell": false,
   "toc_position": {},
   "toc_section_display": true,
   "toc_window_display": false
  }
 },
 "nbformat": 4,
 "nbformat_minor": 5
}
