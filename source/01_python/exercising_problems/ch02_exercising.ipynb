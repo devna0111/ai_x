{
 "cells": [
  {
   "cell_type": "markdown",
   "id": "bf74987f",
   "metadata": {},
   "source": [
    "# 8절 연습문제"
   ]
  },
  {
   "cell_type": "code",
   "execution_count": 1,
   "id": "dd7a1bc4",
   "metadata": {},
   "outputs": [
    {
     "name": "stdout",
     "output_type": "stream",
     "text": [
      "홍길동님의 나이는 23살입니다.\n",
      "홍길동님의 나이는 23살입니다.\n"
     ]
    }
   ],
   "source": [
    "# 1. 이름과 나이 변수를 다음 형식으로 출력하도록 format()함수를 이용해 형식화 하세요\n",
    "#    [출력형식 : 홍길동님의 나이는 23살입니다.]\n",
    "name, age = '홍길동', 23\n",
    "print(f'{name}님의 나이는 {age}살입니다.')\n",
    "# or\n",
    "print('{}님의 나이는 {}살입니다.'.format(name,age))"
   ]
  },
  {
   "cell_type": "code",
   "execution_count": 2,
   "id": "efbdb0e5",
   "metadata": {},
   "outputs": [
    {
     "name": "stdout",
     "output_type": "stream",
     "text": [
      "첫번째 정수를 입력하세요 : 2\n",
      "두번째 정수를 입력하세요 : 2\n",
      "두 수의 덧셈 : 4\n",
      "두 수의 뺄셈 : 0\n",
      "두 수의 곱셈 : 4\n",
      "두 수의 나눗셈 : 1.0\n",
      "두 수의 몫 : 1\n",
      "두 수의 나머지 : 0\n"
     ]
    }
   ],
   "source": [
    "# 2.두 정수를 입력받아 두 수의 덧셈 , 뺄셈 , 곱셈 , 나눗셈 , 몫 , 나머지를 출력하세요\n",
    "num_1 = int(input('첫번째 정수를 입력하세요 : '))\n",
    "num_2 = int(input('두번째 정수를 입력하세요 : '))\n",
    "print(f'두 수의 덧셈 : {num_1 + num_2}')\n",
    "print(f'두 수의 뺄셈 : {num_1 - num_2}')\n",
    "print(f'두 수의 곱셈 : {num_1 * num_2}')\n",
    "print(f'두 수의 나눗셈 : {num_1 / num_2}')\n",
    "print(f'두 수의 몫 : {num_1 // num_2}')\n",
    "print(f'두 수의 나머지 : {num_1 % num_2}')"
   ]
  },
  {
   "cell_type": "code",
   "execution_count": 3,
   "id": "20cbe693",
   "metadata": {},
   "outputs": [
    {
     "name": "stdout",
     "output_type": "stream",
     "text": [
      "World Hello\n"
     ]
    }
   ],
   "source": [
    "# 3.문자열의 분리하기와 합치기 기능을 이용하여 ‘Hello World'가 할당된 변수를 이용하여 ‘World Hello' 로 출력하세요\n",
    "string = 'Hello World'\n",
    "string_list = string.split()\n",
    "temp = string_list[1] + ' ' + string_list[0]\n",
    "print(temp)"
   ]
  },
  {
   "cell_type": "code",
   "execution_count": 4,
   "id": "b07fb570",
   "metadata": {},
   "outputs": [
    {
     "name": "stdout",
     "output_type": "stream",
     "text": [
      "bcdefa\n"
     ]
    }
   ],
   "source": [
    "# 4. x = ' abcdef ＇를 이용하여 'bcdefa' 로 출력하세요 :문자 슬라이싱 이용\n",
    "x = 'abcdef'\n",
    "temp = x[1:] + x[0]\n",
    "print(temp)"
   ]
  },
  {
   "cell_type": "code",
   "execution_count": 5,
   "id": "c5ef58fd",
   "metadata": {},
   "outputs": [
    {
     "name": "stdout",
     "output_type": "stream",
     "text": [
      "fedcba\n"
     ]
    }
   ],
   "source": [
    "# 5. x = ‘abcdef' 를 이용하여 'fedcba' 로 출력하세요\n",
    "x = 'abcdef'\n",
    "print(x[::-1])"
   ]
  },
  {
   "cell_type": "code",
   "execution_count": 6,
   "id": "e1e57978",
   "metadata": {},
   "outputs": [
    {
     "name": "stdout",
     "output_type": "stream",
     "text": [
      "오늘의 섭씨 온도를 입력하세요 :18\n",
      "오늘의 화씨 온도는 화씨 64.40도 입니다.\n"
     ]
    }
   ],
   "source": [
    "# 6.오늘의 온도를 섭씨온도로 입력받아 화씨 온도로 변환하는 프로그램을 작성하세요 . \n",
    "# 화씨 온도는 소수점이 있을 경우만 두번째 자리까지 출력되고 , 소수점이하 값이 없는 경우 소수점을 출력하지 않도록 합니다. \n",
    "# 다음은 섭씨와 화씨의 변환 공식입니다 . (C 는 섭씨 , F 는 화씨)\n",
    "## C = (F-32) / 1.8\n",
    "## F = (C*1.8) + 32\n",
    "temper = int(input('오늘의 섭씨 온도를 입력하세요 :'))\n",
    "C_to_F = (temper*1.8) + 32\n",
    "\n",
    "if not C_to_F - int(C_to_F) :\n",
    "    C_to_F = int(C_to_F)\n",
    "    print(f'오늘의 화씨 온도는 화씨 {C_to_F}도 입니다.')\n",
    "else :\n",
    "    print(f'오늘의 화씨 온도는 화씨 {C_to_F:.2f}도 입니다.')"
   ]
  },
  {
   "cell_type": "code",
   "execution_count": null,
   "id": "38cd4e92",
   "metadata": {},
   "outputs": [],
   "source": [
    "# 7. 다음 중 변수 선언으로 잘못된 것을 모두 고르시오 : 1, 2, 3\n",
    "# ① for : 예약어 사용\n",
    "# ② 10th : 숫자가 제일 앞에 나옴\n",
    "# ③ Student.name : _가 아닌 특수문자 . 사용\n",
    "# ④ _1234 "
   ]
  },
  {
   "cell_type": "code",
   "execution_count": 7,
   "id": "88579583",
   "metadata": {},
   "outputs": [
    {
     "name": "stdout",
     "output_type": "stream",
     "text": [
      "SeounSeoul\n",
      "Seou n Seoul\n"
     ]
    }
   ],
   "source": [
    "# 8. 다음의 코드의 실행결과는?\n",
    "text = 'Seoul A001 - programming with python'\n",
    "print(text[:4] + text[-1] + text.split()[0]) # SeounSeoul : 띄어쓰기 없음 : 문자열에 이어서 바로 문자열이 추가\n",
    "print(text[:4], text[-1], text.split()[0]) # Seou n Seoul : print() 함수 기본 sep = \" \"로 띄어쓰기 추가하며 출력"
   ]
  },
  {
   "cell_type": "code",
   "execution_count": null,
   "id": "51a2612b",
   "metadata": {},
   "outputs": [],
   "source": [
    "# 9. 다음 중 파이썬 3.x 버전에서 연산식과 그 결과의 출력이 잘못된 것은? : 2\n",
    "# ① 수식 8//2 결과 4 \n",
    "# ② 수식 8/2 결과 4 : 4.0 (/연산자는 실수를 반환)\n",
    "# ③ 수식 8 **2 결과 64"
   ]
  },
  {
   "cell_type": "code",
   "execution_count": null,
   "id": "7ebc62fc",
   "metadata": {},
   "outputs": [],
   "source": [
    "# 10.아래 프로그램의 결과는? : 자료형 차이로 인한 덧셈 연산자 사용 불가 에러 (TypeError)\n",
    "x=5\n",
    "y='john'\n",
    "print(x+y)"
   ]
  },
  {
   "cell_type": "code",
   "execution_count": 8,
   "id": "68fa2cb0",
   "metadata": {
    "scrolled": false
   },
   "outputs": [
    {
     "name": "stdout",
     "output_type": "stream",
     "text": [
      "나라\n"
     ]
    }
   ],
   "source": [
    "# 11.split() 함수를 이용하여 str_ 의 값 중 나라 를 출력하는 프로그램을 완성하시오.\n",
    "str_ = \"우리 나라 대한 민국\"\n",
    "str_list = str_.split()\n",
    "print(str_list[1])"
   ]
  }
 ],
 "metadata": {
  "kernelspec": {
   "display_name": "Python 3 (ipykernel)",
   "language": "python",
   "name": "python3"
  },
  "language_info": {
   "codemirror_mode": {
    "name": "ipython",
    "version": 3
   },
   "file_extension": ".py",
   "mimetype": "text/x-python",
   "name": "python",
   "nbconvert_exporter": "python",
   "pygments_lexer": "ipython3",
   "version": "3.10.9"
  },
  "toc": {
   "base_numbering": 1,
   "nav_menu": {},
   "number_sections": false,
   "sideBar": true,
   "skip_h1_title": false,
   "title_cell": "Table of Contents",
   "title_sidebar": "Contents",
   "toc_cell": false,
   "toc_position": {},
   "toc_section_display": true,
   "toc_window_display": false
  }
 },
 "nbformat": 4,
 "nbformat_minor": 5
}
