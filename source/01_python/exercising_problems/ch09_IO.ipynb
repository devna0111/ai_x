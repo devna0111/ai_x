{
 "cells": [
  {
   "cell_type": "code",
   "execution_count": 7,
   "id": "235b12a8",
   "metadata": {},
   "outputs": [],
   "source": [
    "class Customer :\n",
    "    def __init__(self,name,tel,email,age,grade=1,etc=None) :\n",
    "        self.name = name\n",
    "        self.tel = tel\n",
    "        self.email = email\n",
    "        self.age = age\n",
    "        self.grade = grade\n",
    "        self.etc = etc\n",
    "    def as_list(self) :\n",
    "        return [self.name, self.tel, self.email, self.age, self.grade]\n",
    "    def __str__(self) :\n",
    "        return f'{self.name}, {self.tel}, {self.email}, {self.age}, {self.grade}, {self.etc}'"
   ]
  },
  {
   "cell_type": "code",
   "execution_count": 8,
   "id": "22898d73",
   "metadata": {},
   "outputs": [],
   "source": [
    "a = Customer('홍길동','010-8888-8888','hong@mega_it.com',30,5,0)"
   ]
  },
  {
   "cell_type": "code",
   "execution_count": 11,
   "id": "390a08e3",
   "metadata": {},
   "outputs": [
    {
     "data": {
      "text/plain": [
       "{'name': '홍길동',\n",
       " 'tel': '010-8888-8888',\n",
       " 'email': 'hong@mega_it.com',\n",
       " 'age': 30,\n",
       " 'grade': 5,\n",
       " 'etc': 0}"
      ]
     },
     "execution_count": 11,
     "metadata": {},
     "output_type": "execute_result"
    }
   ],
   "source": [
    "a.__dict__"
   ]
  },
  {
   "cell_type": "code",
   "execution_count": 2,
   "id": "6a86d468",
   "metadata": {},
   "outputs": [
    {
     "name": "stdout",
     "output_type": "stream",
     "text": [
      "데이터가 로드되었습니다.\n"
     ]
    }
   ],
   "source": [
    "if __name__ == '__main__' :\n",
    "    with open('C:/ai_x/source/01_python/data/ch09_customers.txt', 'w', encoding='utf-8') as f :\n",
    "        print('데이터가 로드되었습니다.')\n",
    "    "
   ]
  },
  {
   "cell_type": "code",
   "execution_count": null,
   "id": "759c9004",
   "metadata": {},
   "outputs": [
    {
     "name": "stdout",
     "output_type": "stream",
     "text": [
      "1:입력|2:전체출력|3:삭제|4:이름찾기|5:내보내기(CSV)|9:종료 메뉴 선택 : 1\n",
      "이름 :1\n",
      "전화번호 :1\n",
      "이메일 :1\n",
      "나이 :1\n",
      "고객등급(1~5) :1\n",
      "기타 정보 :1\n",
      "올바르지 않은 접근입니다\n",
      "1:입력|2:전체출력|3:삭제|4:이름찾기|5:내보내기(CSV)|9:종료 메뉴 선택 : 1\n",
      "이름 :1\n",
      "전화번호 :1\n",
      "이메일 :1\n",
      "나이 :1\n",
      "고객등급(1~5) :1\n",
      "기타 정보 :1\n",
      "올바르지 않은 접근입니다\n",
      "1:입력|2:전체출력|3:삭제|4:이름찾기|5:내보내기(CSV)|9:종료 메뉴 선택 : 9\n",
      "올바르지 않은 접근입니다\n",
      "올바르지 않은 접근입니다\n"
     ]
    }
   ],
   "source": [
    "while True :\n",
    "    try :\n",
    "        num = int(input('1:입력|2:전체출력|3:삭제|4:이름찾기|5:내보내기(CSV)|9:종료 메뉴 선택 : '))\n",
    "        if num == 1 :\n",
    "            with open('C:/ai_x/source/01_python/data/ch09_customers.txt', 'a', encoding='utf-8') as f :\n",
    "                name = input('이름 :')\n",
    "                tel = input('전화번호 :')\n",
    "                email = input('이메일 :')\n",
    "                age = input('나이 :')\n",
    "                grade = input('고객등급(1~5) :')\n",
    "                etc = input('기타 정보 :')\n",
    "                f.writelines(Customer(name=name,tel=tel,email=email,age=age,grade=grade).as_list())\n",
    "        elif n == 2 :\n",
    "            with open('C:/ai_x/source/01_python/data/ch09_customers.txt', 'r', encoding='utf-8') as f :\n",
    "                print(f.read())\n",
    "        elif num == 9 :\n",
    "            print('프로그램을 종료합니다.')\n",
    "            break\n",
    "    except :\n",
    "        print('올바르지 않은 접근입니다')"
   ]
  },
  {
   "cell_type": "code",
   "execution_count": null,
   "id": "fe5dc3da",
   "metadata": {},
   "outputs": [],
   "source": []
  }
 ],
 "metadata": {
  "kernelspec": {
   "display_name": "Python 3 (ipykernel)",
   "language": "python",
   "name": "python3"
  },
  "language_info": {
   "codemirror_mode": {
    "name": "ipython",
    "version": 3
   },
   "file_extension": ".py",
   "mimetype": "text/x-python",
   "name": "python",
   "nbconvert_exporter": "python",
   "pygments_lexer": "ipython3",
   "version": "3.10.9"
  },
  "toc": {
   "base_numbering": 1,
   "nav_menu": {},
   "number_sections": false,
   "sideBar": true,
   "skip_h1_title": false,
   "title_cell": "Table of Contents",
   "title_sidebar": "Contents",
   "toc_cell": false,
   "toc_position": {},
   "toc_section_display": true,
   "toc_window_display": false
  }
 },
 "nbformat": 4,
 "nbformat_minor": 5
}
