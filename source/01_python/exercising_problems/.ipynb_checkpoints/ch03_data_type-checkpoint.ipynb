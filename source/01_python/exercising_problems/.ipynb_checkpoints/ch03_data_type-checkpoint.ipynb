{
 "cells": [
  {
   "cell_type": "markdown",
   "id": "1745a303",
   "metadata": {},
   "source": [
    "# 6절 연습문제"
   ]
  },
  {
   "cell_type": "markdown",
   "id": "55551478",
   "metadata": {},
   "source": [
    "<img src=\"https://pngimg.com/uploads/github/github_PNG58.png\" width = '100' style = 'float:center' > </img>\n",
    "\n",
    "```\n",
    "    [이미지 설명](이미지주소) ## 사이즈를 조절할 수 없다\n",
    "```"
   ]
  },
  {
   "cell_type": "markdown",
   "id": "c3ef937f",
   "metadata": {},
   "source": [
    "## 실습형."
   ]
  },
  {
   "cell_type": "code",
   "execution_count": 25,
   "id": "7b3fca6d",
   "metadata": {},
   "outputs": [
    {
     "name": "stdout",
     "output_type": "stream",
     "text": [
      "[1, 2, 3, 4, 5, 6, 7, 8, 9, 10, 100]\n"
     ]
    }
   ],
   "source": [
    "# 1.\n",
    "numbers = [1,2,3,4,5,6,7,8,9,10]\n",
    "numbers.append(100)\n",
    "print(numbers)"
   ]
  },
  {
   "cell_type": "code",
   "execution_count": 26,
   "id": "73687361",
   "metadata": {},
   "outputs": [
    {
     "name": "stdout",
     "output_type": "stream",
     "text": [
      "[1, 2, 3, 4, 5, 6, 7, 8, 9, 10, 100, 200, 300, 400, 500]\n"
     ]
    }
   ],
   "source": [
    "# 2. \n",
    "numbers.extend([200,300,400,500])\n",
    "print(numbers)"
   ]
  },
  {
   "cell_type": "code",
   "execution_count": 27,
   "id": "d5b8df9b",
   "metadata": {},
   "outputs": [
    {
     "name": "stdout",
     "output_type": "stream",
     "text": [
      "[1, 2, 3, 4, 5]\n"
     ]
    }
   ],
   "source": [
    "# 3.\n",
    "print(numbers[:5])"
   ]
  },
  {
   "cell_type": "code",
   "execution_count": 28,
   "id": "a333e84d",
   "metadata": {},
   "outputs": [
    {
     "name": "stdout",
     "output_type": "stream",
     "text": [
      "[1, 3, 5, 7, 9, 100, 300, 500]\n"
     ]
    }
   ],
   "source": [
    "# 4. \n",
    "print(numbers[::2])"
   ]
  },
  {
   "cell_type": "code",
   "execution_count": 31,
   "id": "9b6ea2e5",
   "metadata": {},
   "outputs": [
    {
     "name": "stdout",
     "output_type": "stream",
     "text": [
      "[0, 2, 0, 4, 0, 6, 0, 8, 0, 10, 0, 200, 0, 400, 0]\n",
      "[0, 2, 0, 4, 0, 6, 0, 8, 0, 10, 0, 200, 0, 400, 0]\n",
      "[0, 2, 0, 4, 0, 6, 0, 8, 0, 10, 0, 200, 0, 400, 0]\n"
     ]
    }
   ],
   "source": [
    "# 5.\n",
    "print([numbers[idx] if idx%2 != 0 else 0 for idx in range(len(numbers))])\n",
    "print([val if idx%2 != 0 else 0 for idx, val in enumerate(numbers)])\n",
    "numbers[::2] = [0] * len(numbers[::2]); print(numbers)"
   ]
  },
  {
   "cell_type": "code",
   "execution_count": 6,
   "id": "888f084e",
   "metadata": {},
   "outputs": [
    {
     "name": "stdout",
     "output_type": "stream",
     "text": [
      "[0, 400, 0, 200, 0, 10, 0, 8, 0, 6, 0, 4, 0, 2, 0]\n"
     ]
    }
   ],
   "source": [
    "# 6.\n",
    "print(numbers[::-1])"
   ]
  },
  {
   "cell_type": "code",
   "execution_count": 7,
   "id": "842d953a",
   "metadata": {},
   "outputs": [],
   "source": [
    "# 7 ~ 10 \n",
    "member_info = {'name' : '홍길동', 'age' : 20, 'address' : '서울시 마포구', 'score' : 90}"
   ]
  },
  {
   "cell_type": "code",
   "execution_count": 32,
   "id": "7acd93f8",
   "metadata": {},
   "outputs": [
    {
     "name": "stdout",
     "output_type": "stream",
     "text": [
      "서울시 마포구\n",
      "서울시 마포구\n"
     ]
    }
   ],
   "source": [
    "#7. address \n",
    "member_info = {'name' : '홍길동', 'age' : 20, 'address' : '서울시 마포구', 'score' : 90}\n",
    "print(member_info['address'])\n",
    "print(member_info.get('address'))"
   ]
  },
  {
   "cell_type": "code",
   "execution_count": 9,
   "id": "22db5d2f",
   "metadata": {},
   "outputs": [
    {
     "name": "stdout",
     "output_type": "stream",
     "text": [
      "90\n",
      "{'name': '홍길동', 'age': 20, 'address': '서울시 마포구'}\n"
     ]
    }
   ],
   "source": [
    "# 8. score / pop\n",
    "member_info = {'name' : '홍길동', 'age' : 20, 'address' : '서울시 마포구', 'score' : 90}\n",
    "print(member_info.pop('score'))\n",
    "print(member_info)"
   ]
  },
  {
   "cell_type": "code",
   "execution_count": 10,
   "id": "d9a699b1",
   "metadata": {},
   "outputs": [
    {
     "name": "stdout",
     "output_type": "stream",
     "text": [
      "{'name': '홍길동', 'age': 20, 'address': '서울시 서대문구'}\n"
     ]
    }
   ],
   "source": [
    "# 9. address = '서울시 서대문구'\n",
    "member_info['address'] = '서울시 서대문구'\n",
    "print(member_info)"
   ]
  },
  {
   "cell_type": "code",
   "execution_count": 33,
   "id": "98837206",
   "metadata": {},
   "outputs": [
    {
     "name": "stdout",
     "output_type": "stream",
     "text": [
      "['홍길동', 20, '서울시 마포구', 90]\n"
     ]
    }
   ],
   "source": [
    "# 10. values() -> list\n",
    "print(list(member_info.values()))"
   ]
  },
  {
   "cell_type": "markdown",
   "id": "034c1783",
   "metadata": {},
   "source": [
    "## 서술형\n"
   ]
  },
  {
   "cell_type": "code",
   "execution_count": 12,
   "id": "ffcec57b",
   "metadata": {},
   "outputs": [
    {
     "name": "stdout",
     "output_type": "stream",
     "text": [
      "['orange', 'banana']\n"
     ]
    }
   ],
   "source": [
    "# 1. 'orange', 'banana'\n",
    "L1 = ('orange', 'apple', 'banana', 'kiwi')\n",
    "new_list = [i for i in L1 if len(i)>5]\n",
    "print(new_list)"
   ]
  },
  {
   "cell_type": "code",
   "execution_count": 13,
   "id": "4e257c0b",
   "metadata": {},
   "outputs": [
    {
     "name": "stdout",
     "output_type": "stream",
     "text": [
      "[0, 1, 2, 3, 4, 5, 6, 7, 8, 9]\n",
      "[5, 6, 7, 8, 9]\n",
      "[10, 9, 8, 7, 6, 5, 4, 3, 2, 1]\n",
      "[10, 12, 14, 16, 18]\n"
     ]
    }
   ],
   "source": [
    "# 2. 3번째 케이스 stop - 1 == 1까지만 반환\n",
    "print(list(range(10)))\n",
    "print(list(range(5,10)))\n",
    "print(list(range(10,0,-1)))\n",
    "print(list(range(10,20,2)))"
   ]
  },
  {
   "cell_type": "code",
   "execution_count": 14,
   "id": "c54624dc",
   "metadata": {},
   "outputs": [
    {
     "name": "stdout",
     "output_type": "stream",
     "text": [
      "4\n"
     ]
    }
   ],
   "source": [
    "# 3. 4개\n",
    "numbers_2d = [[1,2,3,4,5],[10,20,30,40,50],[1,3,5],[2,]]\n",
    "print(len(numbers_2d))"
   ]
  },
  {
   "cell_type": "code",
   "execution_count": 15,
   "id": "604351ae",
   "metadata": {},
   "outputs": [
    {
     "name": "stdout",
     "output_type": "stream",
     "text": [
      "[1, 2, 3, 4, 5, 10, 20, 30, 40, 50]\n"
     ]
    }
   ],
   "source": [
    "# 4. extend\n",
    "numbers = [1,2,3,4,5]\n",
    "# numbers.________([10,20,30,40,50])\n",
    "numbers.extend([10,20,30,40,50])\n",
    "print(numbers) # numbers = [1,2,3,4,5,10,20,30,40,50]"
   ]
  },
  {
   "cell_type": "code",
   "execution_count": 16,
   "id": "b1544da5",
   "metadata": {},
   "outputs": [
    {
     "name": "stdout",
     "output_type": "stream",
     "text": [
      "[0, 1, 0, 3, 0, 5, 0, 7, 0, 9]\n"
     ]
    }
   ],
   "source": [
    "# 5. 짝수번째 요소 = 0 / 실습형 5번\n",
    "numbers = list(range(10)) # 0 ~ 9\n",
    "numbers[::2] = [0] * len(numbers[::2])\n",
    "print(numbers)"
   ]
  },
  {
   "cell_type": "code",
   "execution_count": 17,
   "id": "7c4eba4a",
   "metadata": {},
   "outputs": [
    {
     "name": "stdout",
     "output_type": "stream",
     "text": [
      "[5, 1, 6, 3, 7, 5, 8, 7, 9, 9]\n"
     ]
    }
   ],
   "source": [
    "# 6. 짝수번째 요소 5 6 7 8 9 변경(개수 동일 시 실행 가능)\n",
    "numbers = [0,1,2,3,4,5,6,7,8,9]\n",
    "numbers[::2] = numbers[5:]\n",
    "print(numbers)"
   ]
  },
  {
   "cell_type": "code",
   "execution_count": 18,
   "id": "926f8b50",
   "metadata": {},
   "outputs": [
    {
     "name": "stdout",
     "output_type": "stream",
     "text": [
      "[0, 1, 1, 3, 2, 5, 3, 7, 4, 9]\n"
     ]
    }
   ],
   "source": [
    "# 7. 짝수번째 요소 0 1 2 3 4 변경(개수 동일 시 실행 가능)\n",
    "numbers = [0,1,2,3,4,5,6,7,8,9]\n",
    "numbers[::2] = numbers[:5]\n",
    "print(numbers)"
   ]
  },
  {
   "cell_type": "code",
   "execution_count": 19,
   "id": "49aafbd8",
   "metadata": {},
   "outputs": [
    {
     "data": {
      "text/plain": [
       "10"
      ]
     },
     "execution_count": 19,
     "metadata": {},
     "output_type": "execute_result"
    }
   ],
   "source": [
    "# 8. my_dic[0] # 오류 : 인덱싱 불가\n",
    "my_dic = {\n",
    "        'a':10, \n",
    "        'b' : 20,\n",
    "        'c':30\n",
    "        }\n",
    "# my_dic[0] # 오류 : 인덱싱 불가\n",
    "my_dic['a'] # 10\n",
    "list(my_dic.items())[0][1]\n",
    "list(my_dic.values())[0]\n",
    "my_dic.get('a')"
   ]
  },
  {
   "cell_type": "code",
   "execution_count": 20,
   "id": "7f166401",
   "metadata": {},
   "outputs": [
    {
     "name": "stdout",
     "output_type": "stream",
     "text": [
      "apple\n",
      "banana\n",
      "orange\n"
     ]
    }
   ],
   "source": [
    "# 9.\n",
    "fruits = ['apple', 'banana', 'orange']\n",
    "x,y,z, = fruits\n",
    "print(x)\n",
    "print(y)\n",
    "print(z)"
   ]
  },
  {
   "cell_type": "code",
   "execution_count": 21,
   "id": "890c8c2c",
   "metadata": {},
   "outputs": [
    {
     "name": "stdout",
     "output_type": "stream",
     "text": [
      "3\n"
     ]
    }
   ],
   "source": [
    "# 10.\n",
    "fruits = ['apple', 'banana', 'orange']\n",
    "print(len(fruits))"
   ]
  },
  {
   "cell_type": "code",
   "execution_count": 22,
   "id": "3f8596d3",
   "metadata": {},
   "outputs": [],
   "source": [
    "# 11. def"
   ]
  }
 ],
 "metadata": {
  "kernelspec": {
   "display_name": "Python 3 (ipykernel)",
   "language": "python",
   "name": "python3"
  },
  "language_info": {
   "codemirror_mode": {
    "name": "ipython",
    "version": 3
   },
   "file_extension": ".py",
   "mimetype": "text/x-python",
   "name": "python",
   "nbconvert_exporter": "python",
   "pygments_lexer": "ipython3",
   "version": "3.10.9"
  },
  "toc": {
   "base_numbering": 1,
   "nav_menu": {},
   "number_sections": false,
   "sideBar": true,
   "skip_h1_title": false,
   "title_cell": "Table of Contents",
   "title_sidebar": "Contents",
   "toc_cell": false,
   "toc_position": {},
   "toc_section_display": true,
   "toc_window_display": false
  }
 },
 "nbformat": 4,
 "nbformat_minor": 5
}
