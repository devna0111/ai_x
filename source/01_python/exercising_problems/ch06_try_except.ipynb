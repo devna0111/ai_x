{
 "cells": [
  {
   "cell_type": "markdown",
   "id": "566904cf",
   "metadata": {},
   "source": [
    "# 6절 연습문제"
   ]
  },
  {
   "cell_type": "markdown",
   "id": "54ce2a62",
   "metadata": {},
   "source": [
    "## 6-1 실습형"
   ]
  },
  {
   "cell_type": "code",
   "execution_count": 1,
   "id": "f2600cc7",
   "metadata": {},
   "outputs": [
    {
     "name": "stdout",
     "output_type": "stream",
     "text": [
      "첫번째 숫자를 입력하세요: 5\n",
      "두번째 숫자를 입력하세요: 5\n",
      "입력한 수는 5.0과 5.0입니다.\n",
      "5.0을 5.0로 나누면 1.00입니다.\n"
     ]
    }
   ],
   "source": [
    "# 숫자 2개를 입력 받아 나눗셈 연산을 하는 프로그램을 작성하세요.\n",
    "# 1번\n",
    "while True :\n",
    "    try :\n",
    "        num1 = float(input('첫번째 숫자를 입력하세요: '))\n",
    "        num2 = float(input('두번째 숫자를 입력하세요: '))\n",
    "        print(f'입력한 수는 {num1:.1f}과 {num2:.1f}입니다.')\n",
    "        print(f'{num1}을 {num2}로 나누면 {num1/num2:.2f}입니다.')\n",
    "        break\n",
    "    except :\n",
    "        print('유효한 숫자가 아닙니다. 다시 시도하세요.')"
   ]
  },
  {
   "cell_type": "code",
   "execution_count": 2,
   "id": "ec7be7fa",
   "metadata": {},
   "outputs": [
    {
     "name": "stdout",
     "output_type": "stream",
     "text": [
      "첫번째 숫자를 입력하세요: 1\n",
      "두번째 숫자를 입력하세요: 1\n",
      "입력한 수는 1.0과 1.0입니다.\n",
      "1.0을 1.0로 나누면 1.00입니다.\n"
     ]
    }
   ],
   "source": [
    "# 2번\n",
    "# 숫자로 바꿀 수 없는 경우 ValueError 발생\n",
    "# 0으로 나누려고 할 때 ZeroDivisionError 발생\n",
    "while True :\n",
    "    try :\n",
    "        num1 = float(input('첫번째 숫자를 입력하세요: '))\n",
    "        num2 = float(input('두번째 숫자를 입력하세요: '))\n",
    "        print(f'입력한 수는 {num1:.1f}과 {num2:.1f}입니다.')\n",
    "        print(f'{num1}을 {num2}로 나누면 {num1/num2:.2f}입니다.')\n",
    "        break\n",
    "    except ValueError :\n",
    "        print('유효한 숫자가 아닙니다. 다시 시도하세요.')\n",
    "    except ZeroDivisionError :\n",
    "        print('0으로 나눌 수 없습니다. 다시 시도하세요.')\n",
    "    except Exception :\n",
    "        print('발생 가능한 예외가 뭐가 있을까')"
   ]
  },
  {
   "cell_type": "markdown",
   "id": "f2b4be51",
   "metadata": {},
   "source": [
    "## 6-2 문제풀이형"
   ]
  },
  {
   "cell_type": "code",
   "execution_count": null,
   "id": "50bf67a3",
   "metadata": {},
   "outputs": [],
   "source": [
    "# 1. 3번 : 모든 예외 -> 상위 예외처리 / 아래 하위 처리용 예외는 동작할 일이 없음\n",
    "# 2. 2번 : catch절은 파이썬에서 사용하는 용어 X\n",
    "# 3. 4번\n",
    "# 4. 3번 : with는 __enter__와 __end__구문이 있으면 자동으로 열고 닫는 역할을 한다."
   ]
  }
 ],
 "metadata": {
  "kernelspec": {
   "display_name": "Python 3 (ipykernel)",
   "language": "python",
   "name": "python3"
  },
  "language_info": {
   "codemirror_mode": {
    "name": "ipython",
    "version": 3
   },
   "file_extension": ".py",
   "mimetype": "text/x-python",
   "name": "python",
   "nbconvert_exporter": "python",
   "pygments_lexer": "ipython3",
   "version": "3.10.9"
  },
  "toc": {
   "base_numbering": 1,
   "nav_menu": {},
   "number_sections": false,
   "sideBar": true,
   "skip_h1_title": false,
   "title_cell": "Table of Contents",
   "title_sidebar": "Contents",
   "toc_cell": false,
   "toc_position": {},
   "toc_section_display": true,
   "toc_window_display": false
  }
 },
 "nbformat": 4,
 "nbformat_minor": 5
}
