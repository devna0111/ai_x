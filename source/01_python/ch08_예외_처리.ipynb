{
 "cells": [
  {
   "cell_type": "code",
   "execution_count": 1,
   "id": "a375f73e",
   "metadata": {},
   "outputs": [
    {
     "data": {
      "text/html": [
       "\n",
       "<style>\n",
       "div.container{width:86% !important;}\n",
       "div.cell.code_cell.rendered{width:100%;}\n",
       "div.CodeMirror {font-family:Consolas; font-size:12pt;}\n",
       "div.output {font-size:12pt; font-weight:bold;}\n",
       "div.input {font-family:Consolas; fo\n",
       "nt-size:12pt;}\n",
       "div.prompt {min-width:70px;}\n",
       "div#toc-wrapper{padding-top:130px;}\n",
       "div.text_cell_render ul li{font-size:12pt;padding:5px;}\n",
       "table.dataframe{font-size:15px;}\n",
       "</style>\n"
      ],
      "text/plain": [
       "<IPython.core.display.HTML object>"
      ]
     },
     "metadata": {},
     "output_type": "display_data"
    }
   ],
   "source": [
    "from IPython.display import display, HTML\n",
    "display(HTML(\"\"\"\n",
    "<style>\n",
    "div.container{width:86% !important;}\n",
    "div.cell.code_cell.rendered{width:100%;}\n",
    "div.CodeMirror {font-family:Consolas; font-size:12pt;}\n",
    "div.output {font-size:12pt; font-weight:bold;}\n",
    "div.input {font-family:Consolas; fo\n",
    "nt-size:12pt;}\n",
    "div.prompt {min-width:70px;}\n",
    "div#toc-wrapper{padding-top:130px;}\n",
    "div.text_cell_render ul li{font-size:12pt;padding:5px;}\n",
    "table.dataframe{font-size:15px;}\n",
    "</style>\n",
    "\"\"\"))"
   ]
  },
  {
   "cell_type": "markdown",
   "id": "35a0c0bb",
   "metadata": {},
   "source": [
    "<b><font size = 5, color = 'red'> ch08 예외 처리 </font></b>\n",
    "- 예외는 보험이다. 정상적인 시스템 작동을 위해 발생 가능한 에러를 나지 않게 만들겠다.\n",
    "- 문법에러, 논리에러, 시스템에러는 예외처리가 아니다.\n",
    "- 예외처리는 정상적으로 작동하던 프로그램이 동작하는 과정에서 나타나는 에러, 프로그램 실행 중에 발행하는 예기치 않는 사건을 다룬다.\n",
    "    - ex) 정수를 0으로 나누는 경우, 배열 인덱스 벗어난 경우, 부적절한 형변환이 일어나는 경우, 입출력을 위한 파일이 없는 경우\n",
    "    - ZeroDivisionError, IndexError, TypeError, ValueError, FileNotFoundError\n",
    "    \n",
    "# 1절. 예외 처리\n",
    "- 예외가 날 가능성이 있는 부분에 대해 미리 예상하고 그에 대한 처리를 프로그래밍 하는 것\n",
    "- (이유) 좀 더 안정적으로 실행하기 위함\n",
    "```\n",
    "ex) 파일을 다룰 때 : 파일이 없거나 쓰기금지로 인한 오류 FileNotFoundError\n",
    "ex) 데이터베이스 프로그래밍 시 제약조건 등으로 CRUD(CREATE,READ,UPDATE,DELETE) 오류\n",
    "ex) 네트워크 프로그래밍 시 일시적인 네트워크 장애 시 연결 실패 오류\n",
    "ex) 리스트나 튜플의 인덱스를 벗어난 오류\n",
    "\n",
    "```"
   ]
  },
  {
   "cell_type": "markdown",
   "id": "8e06eba7",
   "metadata": {},
   "source": [
    "코드에서 한글은\n",
    "한글완성형(믜 X) \n",
    "euc-kr \n",
    "\n",
    "-> 전산에 입력할 수 없어서\n",
    "전산상에서 김설? 표기\n",
    "\n",
    "확장된 한글완성형\n",
    "cp949\n",
    "기본적으로 cp949로 읽어옴\n",
    "\n",
    "그래서 나온 한글조합형 \n",
    "utf-8\n"
   ]
  },
  {
   "cell_type": "code",
   "execution_count": 2,
   "id": "48543ee5",
   "metadata": {},
   "outputs": [
    {
     "name": "stdout",
     "output_type": "stream",
     "text": [
      "파일명은 (ch08.txt)?ch08.txt\n",
      "Hello\n",
      "World\n"
     ]
    }
   ],
   "source": [
    "filename = input('파일명은 (ch08.txt)?')\n",
    "f = open('data/'+filename, 'r') # 읽기 전용 r 으로 파일을 열기 / stream 객체 생성\n",
    "print(f.read())\n",
    "f.close()"
   ]
  },
  {
   "cell_type": "code",
   "execution_count": 3,
   "id": "3b6c5d55",
   "metadata": {},
   "outputs": [
    {
     "name": "stdout",
     "output_type": "stream",
     "text": [
      "파일명은 (ch08.txt)?ch08.txt\n",
      "Hello\n",
      "World\n"
     ]
    }
   ],
   "source": [
    "filename = input('파일명은 (ch08.txt)?')\n",
    "try :\n",
    "    f = open('data/'+filename, 'r') # 읽기 전용 r 으로 파일을 열기 / stream 객체 생성\n",
    "    print(f.read())\n",
    "except FileNotFoundError :\n",
    "    print('없는 파일을 어떻게 열어?')"
   ]
  },
  {
   "cell_type": "code",
   "execution_count": 4,
   "id": "78c41fc4",
   "metadata": {},
   "outputs": [
    {
     "ename": "TypeError",
     "evalue": "'list' object is not callable",
     "output_type": "error",
     "traceback": [
      "\u001b[1;31m---------------------------------------------------------------------------\u001b[0m",
      "\u001b[1;31mTypeError\u001b[0m                                 Traceback (most recent call last)",
      "Cell \u001b[1;32mIn[4], line 2\u001b[0m\n\u001b[0;32m      1\u001b[0m a \u001b[38;5;241m=\u001b[39m [\u001b[38;5;241m1\u001b[39m,\u001b[38;5;241m2\u001b[39m]\n\u001b[1;32m----> 2\u001b[0m \u001b[43ma\u001b[49m\u001b[43m(\u001b[49m\u001b[38;5;241;43m3\u001b[39;49m\u001b[43m)\u001b[49m\n",
      "\u001b[1;31mTypeError\u001b[0m: 'list' object is not callable"
     ]
    }
   ],
   "source": [
    "a = [1,2]\n",
    "a(3)"
   ]
  },
  {
   "cell_type": "markdown",
   "id": "7c53fda7",
   "metadata": {},
   "source": [
    "# 2절 예외처리 문법 try ~ except 로 예외 처리\n",
    "## 2.1 try ~ except\n",
    "```\n",
    "try : \n",
    "    예외가 발생할 가능성이 있는 명령어들\n",
    "except :\n",
    "    예외가 발생했을 경우 실행할 명령어들\n",
    "```"
   ]
  },
  {
   "cell_type": "code",
   "execution_count": null,
   "id": "b390a7ce",
   "metadata": {},
   "outputs": [],
   "source": [
    "# 100을 입력 받은 정수값을 나눠 출력\n",
    "# ZeroDivisionError : division by zero\n",
    "# ValueError : 빈값, 실수 기입, 문자형... 등 invalid literal for int() with base 10: ''\n",
    "try :\n",
    "    x = int(input('정수를 입력하세요 >> '))\n",
    "    print('x값 입력 받음', x)\n",
    "    print_ = f'100을 입력한 정수로 나누면 {100/x:.3f}' if (100/x)%1 != 0 else f'100을 입력한 정수로 나누면 {100//x}'\n",
    "    print(print_,'예외가 발생 안됨')\n",
    "except :\n",
    "    print(f'유효한 정수가 아닙니다.')"
   ]
  },
  {
   "cell_type": "code",
   "execution_count": null,
   "id": "be51106a",
   "metadata": {},
   "outputs": [],
   "source": [
    "# 100을 나눌 유효할 정수 x를 입력할 때 까지 입력받아\n",
    "# 유효한 정수를 입력하면 100을 입력한 수로 나눈 결과를 출력\n",
    "# 나눈 결과가 .0으로 끝나면 정수로 결과를 출력하고 .0으로 끝나지 않으면 소수점 2자리 까지 출력.\n",
    "\n",
    "# while문으로 x를 먼저 구하면\n",
    "while True :\n",
    "    try :\n",
    "        x = int(input('정수를 입력하세요 >> '))\n",
    "        print('입력받은 값은', x)\n",
    "        if x == 0 :\n",
    "            print('x는 0이 될 수 없어요')\n",
    "        else :\n",
    "            break\n",
    "    except :\n",
    "        print('올바른 정수 값이 아닙니다.')\n",
    "# using_numb = round(100/x, 2) if (100/x)%1 != 0 else (100//x)\n",
    "using_numb = 100//x if (100/x).is_integer() else round(100/x, 2)\n",
    "print(f'입력받은 값 x 로 100을 나누면 {using_numb}입니다')"
   ]
  },
  {
   "cell_type": "code",
   "execution_count": null,
   "id": "5f0294dc",
   "metadata": {},
   "outputs": [],
   "source": [
    "# while 문 안에 필요한 모든 정보를 기입하면\n",
    "while True :\n",
    "    try :\n",
    "        x = int(input('정수를 입력하세요 >> '))\n",
    "        print('입력받은 값은', x)\n",
    "        using_numb = 100//x if (100/x).is_integer() else round(100/x, 2)\n",
    "        print(f'입력받은 값 x 로 100을 나누면 {using_numb}입니다')\n",
    "        break\n",
    "    except :\n",
    "        print('올바른 정수 값이 아닙니다.')"
   ]
  },
  {
   "cell_type": "markdown",
   "id": "6aee649a",
   "metadata": {},
   "source": [
    "## 2.2 예외를 지정한 처리 (try ~ except * n 타입)\n",
    "```\n",
    "try : \n",
    "    예외가 발생할 수도 있는 문장들\n",
    "except 예외타입1 :\n",
    "    예외타입1이 발생 시 실행할 문장\n",
    "except 예외타입2 :\n",
    "    예외타입2가 발생 시 실행할 문장\n",
    "    ......\n",
    "```"
   ]
  },
  {
   "cell_type": "code",
   "execution_count": null,
   "id": "23a62af5",
   "metadata": {},
   "outputs": [],
   "source": [
    "while True :\n",
    "    try :\n",
    "        x = int(input('정수를 입력하세요 >> '))\n",
    "        print('입력받은 값은', x)\n",
    "        using_numb = 100//x if (100/x).is_integer() else round(100/x, 2)\n",
    "        print(f'입력받은 값 x 로 100을 나누면 {using_numb}입니다')\n",
    "        break\n",
    "\n",
    "    except ZeroDivisionError :\n",
    "        print('0으로 나눌 수는 없네요')\n",
    "    except ValueError :\n",
    "        print('제발 합리적인 정수를 입력하세요!')\n",
    "    except Exception :\n",
    "        # except 절이 많은 경우 하위 클래스(자식 클래스)가 위에 나와야함\n",
    "        print('그 외 다른 예외, 다시 시도 하세요')  # 모든 예외처리의 최상단"
   ]
  },
  {
   "cell_type": "code",
   "execution_count": null,
   "id": "e6b83f3e",
   "metadata": {},
   "outputs": [],
   "source": [
    "while True :\n",
    "    try :\n",
    "        x = int(input('정수를 입력하세요 >> '))\n",
    "        print('입력받은 값은', x)\n",
    "        using_numb = 100//x if (100/x).is_integer() else round(100/x, 2)\n",
    "        print(f'입력받은 값 x 로 100을 나누면 {using_numb}입니다')\n",
    "        break\n",
    "    except (ZeroDivisionError, ValueError) as e:\n",
    "        print(type(e))"
   ]
  },
  {
   "cell_type": "code",
   "execution_count": null,
   "id": "cb62fdd7",
   "metadata": {},
   "outputs": [],
   "source": [
    "while True :\n",
    "    try :\n",
    "        x = int(input('정수를 입력하세요 >> '))\n",
    "        print('입력받은 값은', x)\n",
    "        using_numb = 100//x if (100/x).is_integer() else round(100/x, 2)\n",
    "        print(f'입력받은 값 x 로 100을 나누면 {using_numb}입니다')\n",
    "        break\n",
    "    except BaseException as e:\n",
    "        print(type(e))"
   ]
  },
  {
   "cell_type": "markdown",
   "id": "885a6592",
   "metadata": {},
   "source": [
    "## 2.3 예외 메세지(예외 인수에 포함)\n",
    "```\n",
    "try :\n",
    "    예외가 발생할 수도 있는 문장들\n",
    "except Exception as e :\n",
    "    type(e) 혹은 print(e) # e.__str__() 예외 메세지 return\n",
    "```"
   ]
  },
  {
   "cell_type": "code",
   "execution_count": null,
   "id": "7e40d28a",
   "metadata": {},
   "outputs": [],
   "source": [
    "while True :\n",
    "    try :\n",
    "        x = int(input('정수를 입력하세요 >> '))\n",
    "        print('입력받은 값은', x)\n",
    "        using_numb = 100//x if (100/x).is_integer() else round(100/x, 2)\n",
    "        print(f'입력받은 값 x 로 100을 나누면 {using_numb}입니다')\n",
    "        break\n",
    "    except (ZeroDivisionError, ValueError) as e: # e는 예외객체(예외인수) : 예외가 발생하면 자동 생성되는 객체\n",
    "        print(type(e))\n",
    "        print(e) # e.__str__() 예외 메세지\n",
    "        print('예외메세지 :',e.args[0]) # e.args : 튜플이며 idx = 0만 존재. 이게 예외 메세지"
   ]
  },
  {
   "cell_type": "markdown",
   "id": "641293f5",
   "metadata": {},
   "source": [
    "```\n",
    "try :\n",
    "    예외가 발생 할 수도 있는 구문\n",
    "    \n",
    "except 예외타입 as e :\n",
    "    예외가 발생되면 수행할 구문\n",
    "    \n",
    "else :\n",
    "    try절을 수행하다 완료하면 수행할 문장 -> 굳이 필요한가?\n",
    "    \n",
    "finally :\n",
    "    예외가 발생 안 하면 try - else - finally\n",
    "    예외가 발생 하면 try - except - finally\n",
    "    즉 finally는 예외가 있든 없든 무조건 실행된다.\n",
    "```"
   ]
  },
  {
   "cell_type": "code",
   "execution_count": null,
   "id": "9091ba39",
   "metadata": {},
   "outputs": [],
   "source": [
    "while True :\n",
    "    try :\n",
    "        x = int(input('정수를 입력하세요 >> '))\n",
    "        print('입력받은 값은', x)\n",
    "        using_numb = 100//x if (100/x).is_integer() else round(100/x, 2)\n",
    "        print(f'입력받은 값 x 로 100을 나누면 {using_numb}입니다')\n",
    "        break\n",
    "    except (ZeroDivisionError, ValueError) as e: # e는 예외객체(예외인수) : 예외가 발생하면 자동 생성되는 객체\n",
    "        print(type(e))\n",
    "        print(e) # e.__str__() 예외 메세지\n",
    "        print('예외메세지 :',e.args[0]) # e.args : 튜플이며 idx = 0만 존재. 이게 예외 메세지\n",
    "    finally :\n",
    "        print('while문 반복할 동안 계속 수행하지롱')\n",
    "print('결국 끝났다')"
   ]
  },
  {
   "cell_type": "code",
   "execution_count": null,
   "id": "961c8ddb",
   "metadata": {},
   "outputs": [],
   "source": [
    "try :\n",
    "    f = open('data/ch08.txt', 'r') #한글이면 CP949형태로 읽음\n",
    "except FileNotFoundError as e :\n",
    "    print('예외 사유', e)\n",
    "else :\n",
    "    data = f.read()\n",
    "    print(data)\n",
    "finally : # 파일을 열고 닫는 행위가 1개 세트이라서 finally 구문을 이용한다.\n",
    "    f.close()\n",
    "    print('try구문 종료~')"
   ]
  },
  {
   "cell_type": "code",
   "execution_count": null,
   "id": "9d711b13",
   "metadata": {},
   "outputs": [],
   "source": [
    "try :\n",
    "    f = open('data/ch08.txt', 'r') # else 구문을 try 구문 아래로 바로 붙여서 사용\n",
    "    data = f.read()\n",
    "    print(data)\n",
    "except FileNotFoundError as e :\n",
    "    print('예외 사유', e)\n",
    "finally : # 파일을 열고 닫는 행위가 1개 세트라서 finally 구문을 이용한다.\n",
    "    print('try구문 종료~')\n",
    "    f.close()"
   ]
  },
  {
   "cell_type": "markdown",
   "id": "b7d15ba8",
   "metadata": {},
   "source": [
    "# 3절 riase로 예외 발생시키기\n",
    "- 강제 예외 발생시키기\n",
    "- 수행을 멈추게 하거나 심각한 오류가 발생하기 전 상태의 로그를 체크하기 위함"
   ]
  },
  {
   "cell_type": "code",
   "execution_count": null,
   "id": "3c91709d",
   "metadata": {},
   "outputs": [],
   "source": [
    "raise NameError('예외 발생함')"
   ]
  },
  {
   "cell_type": "code",
   "execution_count": null,
   "id": "cf1e0106",
   "metadata": {},
   "outputs": [],
   "source": [
    "# 사용자 정의 예외 만들기 : Exception 클래스 또는 그 하위 클래스를 상속받아 구현\n",
    "class LengthZeroError(Exception) :\n",
    "    '길이가 0일때 발생할 예외'\n",
    "    pass\n",
    "#    def __init__(self, message) : \n",
    "#        self.message = message"
   ]
  },
  {
   "cell_type": "code",
   "execution_count": null,
   "id": "e153a78c",
   "metadata": {},
   "outputs": [],
   "source": [
    "def insert(*data) : # 튜플 매개변수\n",
    "    print(type(data))\n",
    "    if len(data) == 0 :\n",
    "        raise LengthZeroError('매개변수가 0인 예외입니다.')\n",
    "    for item in data :\n",
    "        print(item, end = ' ')\n",
    "    print('등을 입력 하셨습니다.')"
   ]
  },
  {
   "cell_type": "code",
   "execution_count": null,
   "id": "f0ebb11b",
   "metadata": {},
   "outputs": [],
   "source": [
    "insert(1,2,3,4,5,6,7,8,9,)\n",
    "data={'name':'Kil','age':1}\n",
    "insert(data)\n",
    "insert(*data)"
   ]
  },
  {
   "cell_type": "code",
   "execution_count": null,
   "id": "95edaa65",
   "metadata": {},
   "outputs": [],
   "source": [
    "data = []\n",
    "try :\n",
    "    insert(*data)\n",
    "except LengthZeroError as e :\n",
    "    print(e)\n",
    "finally :\n",
    "    print('무조건 실행하는 부분 Done')"
   ]
  },
  {
   "cell_type": "markdown",
   "id": "63fe4f6d",
   "metadata": {},
   "source": [
    "# 4절 추상클래스와 추상메서드\n",
    "- 추상클래스 : 객체를 생성할 수 없는 클래스 -> 그럼 필요가 없는 건 아니냐? X 기초 포멧 작성의 의미가 있다. 상속 받을 클래스의 포멧 제공\n",
    "- 추상메서드 : 호출할 수 없는 메서드. 포멧만 제공하는 용도.\n",
    "- 파이썬 3.4 부터 사용 가능하게 된 표현(기존 자바용어)"
   ]
  },
  {
   "cell_type": "code",
   "execution_count": null,
   "id": "fc123fb5",
   "metadata": {},
   "outputs": [],
   "source": [
    "# Shape 클래스 : 객체를 만드는 게 목적이 아니고, 자식 클래스(서브 클래스)를 잘 만들게 하는 목적\n",
    "# 필요한 정보를 이렇게 활용해라, 문서 양식을 제공하는 느낌\n",
    "# Shape 클래스를 상속받은 클래스들의 표준 제시\n",
    "class Shape :\n",
    "    \n",
    "    def __init__(self) :\n",
    "        raise NotImplementedError('추상 클래스 역할')\n",
    "        \n",
    "    def calc_area(self) : \n",
    "        raise NotImplementedError('추상 메서드 역할')"
   ]
  },
  {
   "cell_type": "code",
   "execution_count": null,
   "id": "0e36ec02",
   "metadata": {},
   "outputs": [],
   "source": [
    "class Circle(Shape) :\n",
    "    def __init__(self, r=3) :\n",
    "        self.r = r\n",
    "    def calc_area(self) :\n",
    "        return round(3.14*(self.r**2),2)"
   ]
  },
  {
   "cell_type": "code",
   "execution_count": null,
   "id": "62a3993d",
   "metadata": {},
   "outputs": [],
   "source": [
    "s = Circle(5)\n",
    "s.calc_area()"
   ]
  },
  {
   "cell_type": "markdown",
   "id": "d64322b7",
   "metadata": {},
   "source": [
    "# 5절 파일 정리 작업(with절 이용)"
   ]
  },
  {
   "cell_type": "code",
   "execution_count": null,
   "id": "77e5205c",
   "metadata": {},
   "outputs": [],
   "source": [
    "try :\n",
    "    f = open('data/ch08.txt', 'r') # else 구문을 try 구문 아래로 바로 붙여서 사용\n",
    "    print(f.read())\n",
    "    \n",
    "except Exception as e :\n",
    "    print('예외 사유', e)\n",
    "    \n",
    "finally : # 파일을 열고 닫는 행위가 1개 세트라서 finally 구문을 이용한다.\n",
    "    print('try구문 종료~')\n",
    "    f.close()"
   ]
  },
  {
   "cell_type": "code",
   "execution_count": null,
   "id": "4dfe5940",
   "metadata": {},
   "outputs": [],
   "source": [
    "# 파일을 열기 위한 stream 객체를 생성, 읽고, 닫기의 일련의 과정\n",
    "f = open('data/ch08.txt', 'r')\n",
    "print(f.read())\n",
    "f.close()"
   ]
  },
  {
   "cell_type": "code",
   "execution_count": null,
   "id": "d9bcf099",
   "metadata": {},
   "outputs": [],
   "source": [
    "with open('data/ch08.txt', 'r') as f : # with절 활용\n",
    "    for i in f :\n",
    "        print(i, end='')\n",
    "    \n",
    "# with절 이후에 자동 close"
   ]
  },
  {
   "cell_type": "markdown",
   "id": "566904cf",
   "metadata": {},
   "source": [
    "**0422 점심시간 이후 문제 풀기**\n",
    "\n",
    "# 6절 연습문제"
   ]
  },
  {
   "cell_type": "markdown",
   "id": "d6e755b5",
   "metadata": {},
   "source": [
    "## 6-1 실습형"
   ]
  },
  {
   "cell_type": "code",
   "execution_count": null,
   "id": "a9de83a2",
   "metadata": {},
   "outputs": [],
   "source": [
    "# 숫자 2개를 입력 받아 나눗셈 연산을 하는 프로그램을 작성하세요.\n",
    "# 1번\n",
    "while True :\n",
    "    try :\n",
    "        num1 = float(input('첫번째 숫자를 입력하세요: '))\n",
    "        num2 = float(input('두번째 숫자를 입력하세요: '))\n",
    "        print(f'입력한 수는 {num1:.1f}과 {num2:.1f}입니다.')\n",
    "        print(f'{num1}을 {num2}로 나누면 {num1/num2:.2f}입니다.')\n",
    "        break\n",
    "    except :\n",
    "        print('유효한 숫자가 아닙니다. 다시 시도하세요.')"
   ]
  },
  {
   "cell_type": "code",
   "execution_count": null,
   "id": "be00b52e",
   "metadata": {},
   "outputs": [],
   "source": [
    "# 2번\n",
    "# 숫자로 바꿀 수 없는 경우 ValueError 발생\n",
    "# 0으로 나누려고 할 때 ZeroDivisionError 발생\n",
    "while True :\n",
    "    try :\n",
    "        num1 = float(input('첫번째 숫자를 입력하세요: '))\n",
    "        num2 = float(input('두번째 숫자를 입력하세요: '))\n",
    "        print(f'입력한 수는 {num1:.1f}과 {num2:.1f}입니다.')\n",
    "        print(f'{num1}을 {num2}로 나누면 {num1/num2:.2f}입니다.')\n",
    "        break\n",
    "    except ValueError :\n",
    "        print('유효한 숫자가 아닙니다. 다시 시도하세요.')\n",
    "    except ZeroDivisionError :\n",
    "        print('0으로 나눌 수 없습니다. 다시 시도하세요.')\n",
    "    except Exception :\n",
    "        print('발생 가능한 예외가 뭐가 있을까')"
   ]
  },
  {
   "cell_type": "markdown",
   "id": "2d396f1e",
   "metadata": {},
   "source": [
    "## 6-2 문제풀이형"
   ]
  },
  {
   "cell_type": "code",
   "execution_count": null,
   "id": "ebcbf59a",
   "metadata": {},
   "outputs": [],
   "source": [
    "# 1. 3번 : 모든 예외 -> 상위 예외처리 / 아래 하위 처리용 예외는 동작할 일이 없음\n",
    "# 2. 2번 : catch절은 파이썬에서 사용하는 용어 X\n",
    "# 3. 4번\n",
    "# 4. 3번 : with는 __enter__와 __end__구문이 있으면 자동으로 열고 닫는 역할을 한다."
   ]
  }
 ],
 "metadata": {
  "kernelspec": {
   "display_name": "Python 3 (ipykernel)",
   "language": "python",
   "name": "python3"
  },
  "language_info": {
   "codemirror_mode": {
    "name": "ipython",
    "version": 3
   },
   "file_extension": ".py",
   "mimetype": "text/x-python",
   "name": "python",
   "nbconvert_exporter": "python",
   "pygments_lexer": "ipython3",
   "version": "3.10.9"
  },
  "toc": {
   "base_numbering": 1,
   "nav_menu": {},
   "number_sections": false,
   "sideBar": true,
   "skip_h1_title": false,
   "title_cell": "Table of Contents",
   "title_sidebar": "Contents",
   "toc_cell": false,
   "toc_position": {
    "height": "calc(100% - 180px)",
    "left": "10px",
    "top": "150px",
    "width": "165px"
   },
   "toc_section_display": true,
   "toc_window_display": true
  }
 },
 "nbformat": 4,
 "nbformat_minor": 5
}
