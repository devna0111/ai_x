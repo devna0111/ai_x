{
 "cells": [
  {
   "cell_type": "code",
   "execution_count": 1,
   "id": "a3e77b9a",
   "metadata": {},
   "outputs": [
    {
     "data": {
      "text/html": [
       "\n",
       "<style>\n",
       "div.container{width:86% !important;}\n",
       "div.cell.code_cell.rendered{width:100%;}\n",
       "div.CodeMirror {font-family:Consolas; font-size:12pt;}\n",
       "div.output {font-size:12pt; font-weight:bold;}\n",
       "div.input {font-family:Consolas; font-size:12pt;}\n",
       "div.prompt {min-width:70px;}\n",
       "div#toc-wrapper{padding-top:130px;}\n",
       "div.text_cell_render ul li{font-size:12pt;padding:5px;}\n",
       "table.dataframe{font-size:15px;}\n",
       "</style>\n"
      ],
      "text/plain": [
       "<IPython.core.display.HTML object>"
      ]
     },
     "metadata": {},
     "output_type": "display_data"
    }
   ],
   "source": [
    "from IPython.display import display, HTML\n",
    "display(HTML(\"\"\"\n",
    "<style>\n",
    "div.container{width:86% !important;}\n",
    "div.cell.code_cell.rendered{width:100%;}\n",
    "div.CodeMirror {font-family:Consolas; font-size:12pt;}\n",
    "div.output {font-size:12pt; font-weight:bold;}\n",
    "div.input {font-family:Consolas; font-size:12pt;}\n",
    "div.prompt {min-width:70px;}\n",
    "div#toc-wrapper{padding-top:130px;}\n",
    "div.text_cell_render ul li{font-size:12pt;padding:5px;}\n",
    "table.dataframe{font-size:15px;}\n",
    "</style>\n",
    "\"\"\"))"
   ]
  },
  {
   "cell_type": "markdown",
   "id": "80880ace",
   "metadata": {},
   "source": [
    "<b><font size = 5, color = 'red'> ch04 제어문 </font></b>\n",
    "- 조건문 : if문 중첩 가능\n",
    "- 반복문 : while문, for문 중첩 가능"
   ]
  },
  {
   "cell_type": "markdown",
   "id": "3d9625ac",
   "metadata": {},
   "source": [
    "# 1절 조건문(if)\n",
    "```\n",
    " if 조건1이 참일 때 :\n",
    "   이 블록을 시행해라\n",
    " elif 조건1이 참이 아니고 다른 조건2가 참일때 :\n",
    "   이 블록을 시행해라\n",
    " else 위 두 조건 모두 아닌 모든 경우 :\n",
    "   이 블록을 시행해라\n",
    "```"
   ]
  },
  {
   "cell_type": "code",
   "execution_count": 2,
   "id": "4b31f905",
   "metadata": {},
   "outputs": [
    {
     "name": "stdout",
     "output_type": "stream",
     "text": [
      "점수는 : 50\n",
      "그 점수에 잠이 오냐?\n",
      "숨만 쉬고 공부해라\n",
      "화이팅\n"
     ]
    }
   ],
   "source": [
    "score = int(input('점수는 : '))\n",
    "if score >= 90 :\n",
    "    print('참 잘했어요')\n",
    "    print('다음에도 기대할게요')\n",
    "elif score >= 60 :\n",
    "    print('분발하세요')\n",
    "    print('뭐 그래도 고생하셨어요')\n",
    "else :\n",
    "    print('그 점수에 잠이 오냐?')\n",
    "    print('숨만 쉬고 공부해라')\n",
    "print('화이팅')"
   ]
  },
  {
   "cell_type": "code",
   "execution_count": 3,
   "id": "5cd97645",
   "metadata": {},
   "outputs": [
    {
     "name": "stdout",
     "output_type": "stream",
     "text": [
      "점수는 : 50\n",
      "입력하신 점수는 50점이고 F등급입니다.\n"
     ]
    }
   ],
   "source": [
    "# 사용자로부터 점수(0~100점)를 입력받아 학점을 출력하세요(A,B,C,D,F, 유효하지 않은 점수)\n",
    "score = int(input('점수는 : '))\n",
    "\n",
    "if 0<= score <= 100 :\n",
    "    if score >= 90 :\n",
    "        grade = 'A'\n",
    "    elif score >= 80 :\n",
    "        grade = 'B'\n",
    "    elif score >= 70 :\n",
    "        grade = 'C'\n",
    "    elif score >= 60 :\n",
    "        grade = 'D'\n",
    "    else : grade = 'F'   \n",
    "\n",
    "else :\n",
    "    grade = None\n",
    "    print('유효하지 않은 점수입니다.')\n",
    "    \n",
    "print(f'입력하신 점수는 {score}점이고 {grade}등급입니다.')"
   ]
  },
  {
   "cell_type": "markdown",
   "id": "b08f8ff6",
   "metadata": {},
   "source": [
    "# 2절 반복문\n",
    "## 2.1 for-in문\n",
    "     - n회 반복하겠다\n",
    "     - for 임시변수 in 나열 가능한 자료 :\n",
    "         반복할 명령어1\n",
    "         반복할 명령어2\n",
    "         if 조건 :\n",
    "             break\n",
    "       else : # 반복이 모두 끝나고 나열 가능한 자료가 모두 소모되면 \n",
    "         최종 딱 한 번 수행할 명령어\n",
    "         for문 안에 break를 수행할 경우 else블럭 수행X\n"
   ]
  },
  {
   "cell_type": "code",
   "execution_count": 4,
   "id": "62f09afe",
   "metadata": {},
   "outputs": [
    {
     "name": "stdout",
     "output_type": "stream",
     "text": [
      "1\t3\t5\t7\t9\t\n",
      "끝!\n",
      "END\n"
     ]
    }
   ],
   "source": [
    "for i in range(1, 10, 2) :\n",
    "    print(i, end='\\t')       \n",
    "else :\n",
    "    print('\\n끝!')\n",
    "print('END')"
   ]
  },
  {
   "cell_type": "code",
   "execution_count": 5,
   "id": "ac0e96a4",
   "metadata": {},
   "outputs": [
    {
     "name": "stdout",
     "output_type": "stream",
     "text": [
      "1\t3\t5\tEND\n"
     ]
    }
   ],
   "source": [
    "for i in range(1, 10, 2) :\n",
    "    print(i, end='\\t')\n",
    "    if i == 5 :\n",
    "        break\n",
    "        \n",
    "else :\n",
    "    print('\\n끝!')\n",
    "print('END')"
   ]
  },
  {
   "cell_type": "code",
   "execution_count": 6,
   "id": "16c8a59b",
   "metadata": {},
   "outputs": [
    {
     "name": "stdout",
     "output_type": "stream",
     "text": [
      "5050\n"
     ]
    }
   ],
   "source": [
    "# 1 ~ 100 까지 누적합을 출력하세요(for문)\n",
    "answer = 0 # 누적합을 담을 변수 초기화\n",
    "for i in range(1, 101) :\n",
    "    answer += i\n",
    "print(answer)"
   ]
  },
  {
   "cell_type": "code",
   "execution_count": 7,
   "id": "a1da097d",
   "metadata": {},
   "outputs": [
    {
     "name": "stdout",
     "output_type": "stream",
     "text": [
      "2550\n",
      "2500\n"
     ]
    }
   ],
   "source": [
    "# 1 ~ 100 까지 짝수들의 누적합을 출력하세요(for문)\n",
    "answer = 0 # 누적합을 담을 변수 초기화\n",
    "for i in range(0, 101, 2) :\n",
    "    answer += i\n",
    "print(answer)\n",
    "\n",
    "# 1 ~ 100 까지 홀수들의 누적합을 출력하세요(for문)\n",
    "answer = 0 # 누적합을 담을 변수 초기화\n",
    "for i in range(1, 101, 2) :\n",
    "    answer += i\n",
    "print(answer)"
   ]
  },
  {
   "cell_type": "markdown",
   "id": "3cb6217f",
   "metadata": {},
   "source": [
    "## 2.2 while 문\n",
    "    - 조건을 만족할 때 까지 하겠다\n",
    "```\n",
    "while 조건 :\n",
    "    조건이 참일 경우 반복할 문장들\n",
    "else :\n",
    "    조건이 거짓일 경우 한 번 실행할 문장(else구문 선택사항)\n",
    "```"
   ]
  },
  {
   "cell_type": "code",
   "execution_count": 8,
   "id": "f90db209",
   "metadata": {},
   "outputs": [
    {
     "name": "stdout",
     "output_type": "stream",
     "text": [
      "1 ~ 100까지 누접합은 : 5050\n"
     ]
    }
   ],
   "source": [
    "# 1 ~ 100 까지 누적합을 출력하세요(while문)\n",
    "answer = 0 # 누적합을 담을 변수 초기화\n",
    "i = 1 # 조건에 따른 수를 더할 변수\n",
    "while i <= 100 :\n",
    "    answer += i\n",
    "    i +=1\n",
    "print('1 ~ 100까지 누접합은 :' , answer)"
   ]
  },
  {
   "cell_type": "code",
   "execution_count": 9,
   "id": "ded604b8",
   "metadata": {},
   "outputs": [
    {
     "name": "stdout",
     "output_type": "stream",
     "text": [
      "1 ~ 100까지 짝수들의 누접합은 : 2550\n",
      "1 ~ 100까지 짝수들의 누접합은 : 2500\n"
     ]
    }
   ],
   "source": [
    "# 1 ~ 100 까지 짝수들의 누적합을 출력하세요(while문)\n",
    "answer = 0 # 누적합을 담을 변수 초기화\n",
    "i = 2\n",
    "while i <= 100 :\n",
    "    answer += i\n",
    "    i +=2\n",
    "print('1 ~ 100까지 짝수들의 누접합은 :' , answer)\n",
    "\n",
    "# 1 ~ 100 까지 홀수들의 누적합을 출력하세요(while문)\n",
    "answer = 0 # 누적합을 담을 변수 초기화\n",
    "i = 1\n",
    "while i <= 100 :\n",
    "    answer += i\n",
    "    i +=2\n",
    "print('1 ~ 100까지 짝수들의 누접합은 :' , answer)"
   ]
  },
  {
   "cell_type": "code",
   "execution_count": 10,
   "id": "4a3ca389",
   "metadata": {},
   "outputs": [
    {
     "name": "stdout",
     "output_type": "stream",
     "text": [
      "첫번째 정수 :5\n",
      "두번째 정수 :5\n",
      "홀수의 누적합은 5 입니다.\n"
     ]
    }
   ],
   "source": [
    "# ex.1 사용자로부터 두 정수를 입력받아 작은 수에서부터 큰 수까지의 홀수의 누적합을 출력\n",
    "num1 = int(input('첫번째 정수 :'))\n",
    "num2 = int(input('두번째 정수 :'))\n",
    "# total = 0\n",
    "# for i in range(min(num1,num2),max(num1,num2)+1) :\n",
    "#     if i % 2 :\n",
    "#         total += i\n",
    "# print('홀수의 누적합은',total,'입니다.')\n",
    "\n",
    "# max, min도 좋지만 비교해서 바꿔주는 게 더 빠르므로 성능이 아주 중요한 루프 내에서는 유리할 수 있음.\n",
    "# if a>b :\n",
    "#    a, b = b, a\n",
    "\n",
    "print(f'홀수의 누적합은',sum([i for i in range(min(num1,num2),max(num1,num2)+1) if i % 2 ]),'입니다.')"
   ]
  },
  {
   "cell_type": "code",
   "execution_count": 11,
   "id": "ae1fceeb",
   "metadata": {},
   "outputs": [
    {
     "name": "stdout",
     "output_type": "stream",
     "text": [
      "1안 [4, 5, 32, 33, 34, 41] 6\n",
      "2안 [6, 8, 14, 18, 38, 44] 6\n",
      "3안 [7, 16, 19, 32, 34, 35] 6\n",
      "4안 [10, 13, 22, 26, 33, 40] 6\n",
      "----------------------------------------------------------------------------------------------------\n",
      "아래는 교안\n",
      "----------------------------------------------------------------------------------------------------\n",
      "교안 1 : [5, 15, 23, 31, 33, 35] 6 6 번 뽑았다\n",
      "교안 2 : [3, 12, 20, 21, 43, 44] 6 6 번 뽑았다\n",
      "교안 3 : [3, 8, 13, 24, 26, 41]\n"
     ]
    }
   ],
   "source": [
    "# ex.2 1 ~ 45 까지의 로또 번호 6개를 추출하는 프로그램을 구현하시오. (오름차순 정렬 결과를 출력)\n",
    "# 난수 발생 : import random\n",
    "# random.__file__ 주소 체크 : document 공부 가능 \n",
    "\n",
    "# random 모듈\n",
    "# random.random() : 0 <= 실수난수 < 1\n",
    "# random.randint(a,b) : a 이상 b 이하의 정수 난수\n",
    "# int(random.random()*b) + a : a 이상 b 이하의 정수 난수\n",
    "# 실행할 때 마다 난수의 순서를 일치시키려면 random.seed(12) # 재현이 필요한 경우에 사용하면 용이하다\n",
    "\n",
    "# 1안 : 리스트를 random 모듈의 shuffle 기능을 통해 구현\n",
    "import random\n",
    "k = list(num for num in range(1,46)) # 리스트 객체를 생성해야해서 2안보다 속도가 느릴 수 있음. 그러나 파이썬은 초당 2000만회의 연산이 평균적이고 이를 감안하면 큰 차이는 발생하지 않음.\n",
    "random.shuffle(k)\n",
    "print('1안',sorted(k[:6]), len(sorted(k[:6])))\n",
    "\n",
    "# 2안 : 셋 객체에 random 모듈의 randint 기능을 통해 추가하며 전체 요소의 개수가 6이 될 때 까지 반복\n",
    "candi =set()\n",
    "while len(candi) < 6 :\n",
    "    candi.add(random.randint(1,45))\n",
    "print('2안',sorted(candi), len(candi))\n",
    "\n",
    "# 3안 : 1 ~ 45까지의 수를 리스트화 한 후 random 모듈의 sample 기능을 통해 6개 추가\n",
    "k = list(num for num in range(1,46))\n",
    "print('3안',sorted(list(random.sample(k,6))), len(sorted(list(random.sample(k,6)))))\n",
    "\n",
    "# 4안 : for문 + break문을 활용하여 구하기 // 반복 횟수를 늘리고 break 구문을 활용하여 조건을 만족시 반복문을 탈출시킴\n",
    "answer = set()\n",
    "for _ in range(2000) :\n",
    "    if len(answer) != 6 :\n",
    "        answer.add(random.randint(1,45))\n",
    "    elif len(answer) == 6 :\n",
    "        break\n",
    "print('4안',sorted(answer), len(answer))\n",
    "print('-'*100)\n",
    "print('아래는 교안')\n",
    "print('-'*100)\n",
    "\n",
    "# 교안 1 리스트로 풀기\n",
    "lotto = [] ; cnt = 0\n",
    "while len(lotto) < 6 :\n",
    "    cnt +=1\n",
    "    i = random.randint(1,45)\n",
    "    if i not in lotto :\n",
    "        lotto.append(i)\n",
    "print('교안 1 :',sorted(lotto), len(lotto), cnt,'번 뽑았다')\n",
    "\n",
    "# 교안 2 굳이 리스트로 풀어? 집합은 중복하는 거 추가 안되는데 집합으로 하자!\n",
    "candidate =set() ; count = 0\n",
    "while len(candidate) < 6 :\n",
    "    count +=1\n",
    "    candidate.add(random.randint(1,45))\n",
    "print('교안 2 :',sorted(candidate), len(candidate), count,'번 뽑았다')\n",
    "\n",
    "# 교안 3 random.sample(lst, 6) \n",
    "print('교안 3 :', sorted(random.sample(range(1,46),6)))"
   ]
  },
  {
   "cell_type": "code",
   "execution_count": 12,
   "id": "4d0ad8c9",
   "metadata": {},
   "outputs": [
    {
     "name": "stdout",
     "output_type": "stream",
     "text": [
      "[22, 19, 35, 23, 9, 11] 8 번 뽑았다\n",
      "---------------------------------------------------------------------------------------------------- \n",
      " sort 구현하기 \n",
      " ----------------------------------------------------------------------------------------------------\n",
      "0번째 까지 정렬 내용 : [9] / [9, 22, 35, 23, 19, 11]\n",
      "1번째 까지 정렬 내용 : [9, 11] / [9, 11, 35, 23, 22, 19]\n",
      "2번째 까지 정렬 내용 : [9, 11, 19] / [9, 11, 19, 35, 23, 22]\n",
      "3번째 까지 정렬 내용 : [9, 11, 19, 22] / [9, 11, 19, 22, 35, 23]\n",
      "4번째 까지 정렬 내용 : [9, 11, 19, 22, 23] / [9, 11, 19, 22, 23, 35]\n"
     ]
    }
   ],
   "source": [
    "# sort 구현하기 : 구현 능력 강화를 위함\n",
    "\n",
    "import random\n",
    "# 교안 1 리스트로 풀기\n",
    "lotto = [] ; cnt = 0\n",
    "while len(lotto) < 6 :\n",
    "    cnt +=1\n",
    "    i = random.randint(1,45)\n",
    "    if i not in lotto :\n",
    "        lotto.append(i)\n",
    "print(lotto, cnt,'번 뽑았다')\n",
    "print('-'*100,'\\n','sort 구현하기','\\n','-'*100)\n",
    "for i in range(len(lotto)-1) :\n",
    "    for j in range(i,len(lotto)) :\n",
    "        if lotto[i] > lotto[j] :\n",
    "            lotto[i], lotto[j] = lotto[j], lotto[i]\n",
    "    print(f'{i}번째 까지 정렬 내용 : {lotto[:i+1]} / {lotto}')\n",
    "    "
   ]
  },
  {
   "cell_type": "markdown",
   "id": "7168b2ac",
   "metadata": {},
   "source": [
    "## 2.3 break, continue, pass\n",
    "- break 가끔\n",
    "- continue 매우 드물게"
   ]
  },
  {
   "cell_type": "code",
   "execution_count": 13,
   "id": "c6d9b463",
   "metadata": {
    "scrolled": true
   },
   "outputs": [
    {
     "name": "stdout",
     "output_type": "stream",
     "text": [
      "1\t2\t3\t4\t5\t6\t7\t8\t9\t10\tDone\n"
     ]
    }
   ],
   "source": [
    "num = 0\n",
    "while num < 10 :\n",
    "    num +=1\n",
    "    if num == 5 :\n",
    "#         break # 반복문을 탈출\n",
    "#        print('num ==',num, end='\\t')\n",
    "#        continue # num==5 조건에서는 블록 수행을 중단하고 조건으로 감\n",
    "        pass\n",
    "    print(num, end = '\\t')\n",
    "print('Done')"
   ]
  },
  {
   "cell_type": "code",
   "execution_count": null,
   "id": "45492a75",
   "metadata": {},
   "outputs": [],
   "source": []
  },
  {
   "cell_type": "markdown",
   "id": "39f2970f",
   "metadata": {},
   "source": [
    "# 3절 중첩 루프\n",
    "(반복문 속에 반복문)"
   ]
  },
  {
   "cell_type": "code",
   "execution_count": 14,
   "id": "8fc31984",
   "metadata": {},
   "outputs": [
    {
     "name": "stdout",
     "output_type": "stream",
     "text": [
      "2 x 1 =  2\t3 x 1 =  3\t4 x 1 =  4\t5 x 1 =  5\t6 x 1 =  6\t7 x 1 =  7\t8 x 1 =  8\t9 x 1 =  9\t\n",
      "2 x 2 =  4\t3 x 2 =  6\t4 x 2 =  8\t5 x 2 = 10\t6 x 2 = 12\t7 x 2 = 14\t8 x 2 = 16\t9 x 2 = 18\t\n",
      "2 x 3 =  6\t3 x 3 =  9\t4 x 3 = 12\t5 x 3 = 15\t6 x 3 = 18\t7 x 3 = 21\t8 x 3 = 24\t9 x 3 = 27\t\n",
      "2 x 4 =  8\t3 x 4 = 12\t4 x 4 = 16\t5 x 4 = 20\t6 x 4 = 24\t7 x 4 = 28\t8 x 4 = 32\t9 x 4 = 36\t\n",
      "2 x 5 = 10\t3 x 5 = 15\t4 x 5 = 20\t5 x 5 = 25\t6 x 5 = 30\t7 x 5 = 35\t8 x 5 = 40\t9 x 5 = 45\t\n",
      "2 x 6 = 12\t3 x 6 = 18\t4 x 6 = 24\t5 x 6 = 30\t6 x 6 = 36\t7 x 6 = 42\t8 x 6 = 48\t9 x 6 = 54\t\n",
      "2 x 7 = 14\t3 x 7 = 21\t4 x 7 = 28\t5 x 7 = 35\t6 x 7 = 42\t7 x 7 = 49\t8 x 7 = 56\t9 x 7 = 63\t\n",
      "2 x 8 = 16\t3 x 8 = 24\t4 x 8 = 32\t5 x 8 = 40\t6 x 8 = 48\t7 x 8 = 56\t8 x 8 = 64\t9 x 8 = 72\t\n",
      "2 x 9 = 18\t3 x 9 = 27\t4 x 9 = 36\t5 x 9 = 45\t6 x 9 = 54\t7 x 9 = 63\t8 x 9 = 72\t9 x 9 = 81\t\n"
     ]
    }
   ],
   "source": [
    "for i in range(1, 10) :\n",
    "    for j in range(2, 10) :\n",
    "        print(f'{j} x {i} = {i*j :>2}', end = '\\t')\n",
    "    print() # 개행"
   ]
  },
  {
   "cell_type": "code",
   "execution_count": 15,
   "id": "5497e4e3",
   "metadata": {},
   "outputs": [
    {
     "name": "stdout",
     "output_type": "stream",
     "text": [
      " 2x 1 =  2\t 2x 2 =  4\t 2x 3 =  6\t 2x 4 =  8\t 2x 5 = 10\t 2x 6 = 12\t 2x 7 = 14\t 2x 8 = 16\t 2x 9 = 18\t\n",
      " 3x 1 =  3\t 3x 2 =  6\t 3x 3 =  9\t 3x 4 = 12\t 3x 5 = 15\t 3x 6 = 18\t 3x 7 = 21\t 3x 8 = 24\t 3x 9 = 27\t\n",
      " 4x 1 =  4\t 4x 2 =  8\t 4x 3 = 12\t 4x 4 = 16\t 4x 5 = 20\t 4x 6 = 24\t 4x 7 = 28\t 4x 8 = 32\t 4x 9 = 36\t\n",
      " 5x 1 =  5\t 5x 2 = 10\t 5x 3 = 15\t 5x 4 = 20\t 5x 5 = 25\t 5x 6 = 30\t 5x 7 = 35\t 5x 8 = 40\t 5x 9 = 45\t\n",
      " 6x 1 =  6\t 6x 2 = 12\t 6x 3 = 18\t 6x 4 = 24\t 6x 5 = 30\t 6x 6 = 36\t 6x 7 = 42\t 6x 8 = 48\t 6x 9 = 54\t\n",
      " 7x 1 =  7\t 7x 2 = 14\t 7x 3 = 21\t 7x 4 = 28\t 7x 5 = 35\t 7x 6 = 42\t 7x 7 = 49\t 7x 8 = 56\t 7x 9 = 63\t\n",
      " 8x 1 =  8\t 8x 2 = 16\t 8x 3 = 24\t 8x 4 = 32\t 8x 5 = 40\t 8x 6 = 48\t 8x 7 = 56\t 8x 8 = 64\t 8x 9 = 72\t\n",
      " 9x 1 =  9\t 9x 2 = 18\t 9x 3 = 27\t 9x 4 = 36\t 9x 5 = 45\t 9x 6 = 54\t 9x 7 = 63\t 9x 8 = 72\t 9x 9 = 81\t\n"
     ]
    }
   ],
   "source": [
    "for i in range(2, 10) :\n",
    "    for j in range(1, 10) :\n",
    "        print(f'{i : >2}x{j : >2} = {i*j : >2}', end = '\\t')\n",
    "    print() # 개행"
   ]
  },
  {
   "cell_type": "markdown",
   "id": "9c4849b3",
   "metadata": {},
   "source": [
    "# 4절 중첩 루프 탈출\n",
    "***"
   ]
  },
  {
   "cell_type": "markdown",
   "id": "8af1646e",
   "metadata": {},
   "source": [
    "## 4.1 플래그 변수를 활용"
   ]
  },
  {
   "cell_type": "code",
   "execution_count": 16,
   "id": "45d1086f",
   "metadata": {},
   "outputs": [
    {
     "name": "stdout",
     "output_type": "stream",
     "text": [
      "0 1\n",
      "0 2\n",
      "Done\n"
     ]
    }
   ],
   "source": [
    "# 중첩루프 탈출하는 방법 1 : 플래그 변수 이용\n",
    "for a in range(3) : # a = 0, 1, 2\n",
    "    for b in range(1,3) : # b = 1, 2\n",
    "        if a==b :\n",
    "            break\n",
    "        print(a,b) # 2번 반복문 빠져 나오기(b반복)\n",
    "    if a==b : # 1번 반복문 빠져나오기(a반복)\n",
    "        break\n",
    "        \n",
    "print('Done') # 아래 이 내용을 flag 개념을 활용하여 나타냄"
   ]
  },
  {
   "cell_type": "code",
   "execution_count": 17,
   "id": "ba9fb3b7",
   "metadata": {},
   "outputs": [
    {
     "name": "stdout",
     "output_type": "stream",
     "text": [
      "0 1\n",
      "0 2\n"
     ]
    }
   ],
   "source": [
    "# 플래그 변수를 활용해서 빠져나오기\n",
    "for a in range(3) :\n",
    "    break_out_flag = False\n",
    "    for b in range(1,3) :\n",
    "        if a==b :\n",
    "            break_out_flag = True\n",
    "            break\n",
    "        print(a,b)\n",
    "    if break_out_flag :\n",
    "        break"
   ]
  },
  {
   "cell_type": "markdown",
   "id": "1f990246",
   "metadata": {},
   "source": [
    "## 4.2  예외처리를 활용하는 방법"
   ]
  },
  {
   "cell_type": "code",
   "execution_count": 18,
   "id": "132045da",
   "metadata": {},
   "outputs": [
    {
     "name": "stdout",
     "output_type": "stream",
     "text": [
      "0 1\n",
      "0 2\n"
     ]
    }
   ],
   "source": [
    "class BreakOutOfALoop(Exception) : pass\n",
    "\n",
    "for a in range(3) :\n",
    "    try :\n",
    "        for b in range(1,3) :\n",
    "            if a == b :\n",
    "                raise BreakOutOfALoop\n",
    "            print(a,b)\n",
    "    except BreakOutOfALoop :\n",
    "        break"
   ]
  },
  {
   "cell_type": "markdown",
   "id": "93f99314",
   "metadata": {},
   "source": [
    "# 5절 연습문제"
   ]
  },
  {
   "cell_type": "code",
   "execution_count": 19,
   "id": "74227394",
   "metadata": {},
   "outputs": [
    {
     "name": "stdout",
     "output_type": "stream",
     "text": [
      "양의 정수를 입력하세요. 정수만 입력 가능합니다 :5\n",
      "홀수\n"
     ]
    }
   ],
   "source": [
    "# 1. 양의 정수를 입력 받아 홀수/짝수를 판별하는 프로그램을 작성하시오. 양의 정수가 아니면 숫자를 다시 입력 받아야 합니다.\n",
    "\n",
    "while True :\n",
    "    user = (input('양의 정수를 입력하세요. 정수만 입력 가능합니다 :'))\n",
    "    if float(user) % 1 != 0 :\n",
    "        print('정수가 아닙니다.')\n",
    "    elif int(user) < 0 :\n",
    "        print('음수입니다.')\n",
    "    else :\n",
    "        if int(user) % 2 == 0 :\n",
    "            print('짝수')\n",
    "        else :\n",
    "            print('홀수')\n",
    "        break  "
   ]
  },
  {
   "cell_type": "code",
   "execution_count": 20,
   "id": "89e25db4",
   "metadata": {},
   "outputs": [
    {
     "name": "stdout",
     "output_type": "stream",
     "text": [
      "양의 정수를 입력하세요5\n",
      "입력하신 값은 5이고 이 값은 홀수입니다\n"
     ]
    }
   ],
   "source": [
    "# 1 제일 간단한 코드\n",
    "A = 0\n",
    "\n",
    "while A <= 0 :\n",
    "    A = int(input('양의 정수를 입력하세요'))\n",
    "    \n",
    "even_odd = '짝수' if A%2== 0 else '홀수'\n",
    "print(f'입력하신 값은 {A}이고 이 값은 {even_odd}입니다')"
   ]
  },
  {
   "cell_type": "code",
   "execution_count": 21,
   "id": "03529b20",
   "metadata": {},
   "outputs": [
    {
     "name": "stdout",
     "output_type": "stream",
     "text": [
      "*****\n",
      "*****\n",
      "*****\n",
      "*****\n",
      "*****\n",
      "\n",
      "\n",
      "*****\n",
      "*****\n",
      "*****\n",
      "*****\n",
      "*****\n",
      "\n",
      "\n",
      "*\n",
      "**\n",
      "***\n",
      "****\n",
      "*****\n",
      "\n",
      "\n",
      "*\n",
      "**\n",
      "***\n",
      "****\n",
      "*****\n"
     ]
    }
   ],
   "source": [
    "# 2. 중첩 for문을 이용하여 아래 패턴의 별을 출력하는 프로그램을 작성하세요\n",
    "# 2-1.\n",
    "for _ in range(5) :\n",
    "    print('*'*5)\n",
    "print()\n",
    "print()\n",
    "for i in range(5) :\n",
    "    for j in range(5) :\n",
    "        print('*', end='')\n",
    "    print()\n",
    "print()\n",
    "print()\n",
    "# 2-2.\n",
    "for i in range(1,6) :\n",
    "    print('*'*i)\n",
    "print()\n",
    "print()\n",
    "for i in range(1,6) :\n",
    "    for j in range(1,6) :\n",
    "        pass\n",
    "    print('*'*i)"
   ]
  },
  {
   "cell_type": "code",
   "execution_count": 22,
   "id": "4458d6f6",
   "metadata": {},
   "outputs": [
    {
     "name": "stdout",
     "output_type": "stream",
     "text": [
      "165\n"
     ]
    }
   ],
   "source": [
    "# 3. 다음 코드는 1부터 30까지(30포함) 자연수 중에서 3의 배수의 총 합을 출력하는 프로그램입니다. 빈 칸을 완성하시오.\n",
    "sum = 0\n",
    "for i in range(1,31) :\n",
    "    if i % 3 == 0 :\n",
    "        sum += i\n",
    "    else :\n",
    "        pass\n",
    "print(sum)"
   ]
  },
  {
   "cell_type": "code",
   "execution_count": 23,
   "id": "7be9c00c",
   "metadata": {},
   "outputs": [
    {
     "name": "stdout",
     "output_type": "stream",
     "text": [
      "1 3 5 7 9 "
     ]
    }
   ],
   "source": [
    "# 4. 다음 코드의 실행 결과가 '1 3 5 7 9' 가 되도록 빈칸을 완성하시오.\n",
    "num = 0\n",
    "while num <= 10 :\n",
    "    if num %2 == 1 :\n",
    "        print(num, end = ' ')\n",
    "    num +=1"
   ]
  },
  {
   "cell_type": "code",
   "execution_count": 24,
   "id": "6ae985fb",
   "metadata": {},
   "outputs": [
    {
     "name": "stdout",
     "output_type": "stream",
     "text": [
      "1 2 3 \n",
      "4 5 6 7 \n",
      "8 9 \n"
     ]
    }
   ],
   "source": [
    "# 5. 다음 2차원 리스트의 모든 값을 출력하는 코드입니다. 빈칸을 완성하시오.\n",
    "list2d = [[1,2,3,],[4,5,6,7],[8,9]]\n",
    "for row in list2d :\n",
    "    for data in row :\n",
    "        print(data, end=' ')\n",
    "    print()"
   ]
  },
  {
   "cell_type": "code",
   "execution_count": 25,
   "id": "ba5c589a",
   "metadata": {},
   "outputs": [
    {
     "name": "stdout",
     "output_type": "stream",
     "text": [
      "0 apple\n",
      "1 banana\n"
     ]
    }
   ],
   "source": [
    "# 6. 다음 빈칸에 들어갈 함수 이름은?\n",
    "colors = {'red' : 'apple', 'yellow':'banana',}\n",
    "for i,v in enumerate(colors.values()) :\n",
    "    print(i,v)"
   ]
  },
  {
   "cell_type": "code",
   "execution_count": 26,
   "id": "03165c5d",
   "metadata": {},
   "outputs": [
    {
     "name": "stdout",
     "output_type": "stream",
     "text": [
      "1 0\n"
     ]
    }
   ],
   "source": [
    "# 7. 다음 코드의 실행 결과는 ?\n",
    "for i in range(0,2) :\n",
    "    for j in range(0,2) :\n",
    "        if i == j :\n",
    "            break\n",
    "        print(i,j)"
   ]
  },
  {
   "cell_type": "code",
   "execution_count": 27,
   "id": "5c552844",
   "metadata": {},
   "outputs": [
    {
     "name": "stdout",
     "output_type": "stream",
     "text": [
      "0 0\n",
      "1 0\n",
      "1 1\n"
     ]
    }
   ],
   "source": [
    "# 8. 다음 코드의 실행 결과로 출력될 수 없는 것은? 2번 출력 불가\n",
    "for i in range(0,2) :\n",
    "    for j in range(0,2) :\n",
    "        print(i,j)\n",
    "        if i == j :\n",
    "            break"
   ]
  },
  {
   "cell_type": "code",
   "execution_count": 28,
   "id": "708c7681",
   "metadata": {},
   "outputs": [
    {
     "name": "stdout",
     "output_type": "stream",
     "text": [
      "3 5 7 9 "
     ]
    }
   ],
   "source": [
    "# 9. 다음 코드의 실행 결과는 ?\n",
    "L = [3,4,5,6,7,8,9,10]\n",
    "for i, data in enumerate(L) :\n",
    "    if (i%2==0) :\n",
    "        print(data, end=' ')"
   ]
  },
  {
   "cell_type": "code",
   "execution_count": 29,
   "id": "68b84b7b",
   "metadata": {},
   "outputs": [
    {
     "name": "stdout",
     "output_type": "stream",
     "text": [
      "컴퓨터가 생성한 임의의 수 55\n",
      "1에서 100사이의 숫자를 입력하세요. >> 5\n",
      "up\n",
      "6에서 100사이의 숫자를 입력하세요. >> 55\n",
      "정답 55입니다. 2번 만에 맞추셨네요!\n",
      "게임 끝\n"
     ]
    }
   ],
   "source": [
    "# 10. (2단계) 1~100 사이의 정수를 맞추는 프로그램을 구현하시오(프로그램 안에 임의의 숫자가 만들어지고 그 숫자를 맞추도록 합니다)\n",
    "import random\n",
    "target = random.randint(1,100)\n",
    "print(f'컴퓨터가 생성한 임의의 수 {target}')\n",
    "max_ = 100 ; min_ = 1 ; cnt = 0\n",
    "while True :\n",
    "    user = (input(f'{min_}에서 {max_}사이의 숫자를 입력하세요. >> '))\n",
    "    if float(user) % 1 != 0 or float(user) < 0:\n",
    "        print('범위 사이의 정수를 입력하세요')\n",
    "    elif int(user) > max_ or int(user) <min_ :\n",
    "        print('수의 범위를 벗어났습니다')\n",
    "    elif int(user) > target :\n",
    "        print('down')\n",
    "        cnt +=1\n",
    "        max_ = int(user) - 1\n",
    "    elif int(user) < target :\n",
    "        print('up')\n",
    "        cnt +=1\n",
    "        min_ = int(user) + 1\n",
    "    elif int(user) == target :\n",
    "        cnt +=1\n",
    "        print(f'정답 {user}입니다. {cnt}번 만에 맞추셨네요!')\n",
    "        break\n",
    "print('게임 끝') "
   ]
  },
  {
   "cell_type": "code",
   "execution_count": 30,
   "id": "1cbace30",
   "metadata": {
    "scrolled": true
   },
   "outputs": [
    {
     "name": "stdout",
     "output_type": "stream",
     "text": [
      "컴퓨터가 생성한 임의의 수 78\n",
      "1에서 100사이의 숫자를 입력하세요. (남은 기회는 5번) >> 78\n",
      "정답 78입니다. 1번 만에 맞추셨네요!\n",
      "게임 끝\n"
     ]
    }
   ],
   "source": [
    "# 10. (3단계) 기회 5번 안에 1~100 사이의 정수를 맞추는 프로그램을 구현하시오(프로그램 안에 임의의 숫자가 만들어지고 그 숫자를 맞추도록 합니다)\n",
    "import random\n",
    "target = random.randint(1,100)\n",
    "print(f'컴퓨터가 생성한 임의의 수 {target}')\n",
    "max_ = 100 ; min_ = 1 ; cnt = 0\n",
    "while cnt < 5 :\n",
    "    user = (input(f'{min_}에서 {max_}사이의 숫자를 입력하세요. (남은 기회는 {5 - cnt}번) >> '))\n",
    "    if float(user) % 1 != 0 or float(user) < 0:\n",
    "        print('범위 사이의 정수를 입력하세요')\n",
    "    elif int(user) > max_ or int(user) <min_ :\n",
    "        print('수의 범위를 벗어났습니다')\n",
    "    elif int(user) > target :\n",
    "        print('down')\n",
    "        cnt +=1\n",
    "        max_ = int(user) - 1\n",
    "    elif int(user) < target :\n",
    "        print('up')\n",
    "        cnt +=1\n",
    "        min_ = int(user) + 1\n",
    "    elif int(user) == target :\n",
    "        cnt +=1\n",
    "        print(f'정답 {user}입니다. {cnt}번 만에 맞추셨네요!')\n",
    "        break\n",
    "else :\n",
    "    print('기회를 모두 사용하였습니다. 실패하셨습니다.')\n",
    "print('게임 끝') "
   ]
  },
  {
   "cell_type": "code",
   "execution_count": null,
   "id": "e2f4edfd",
   "metadata": {},
   "outputs": [],
   "source": []
  }
 ],
 "metadata": {
  "kernelspec": {
   "display_name": "Python 3 (ipykernel)",
   "language": "python",
   "name": "python3"
  },
  "language_info": {
   "codemirror_mode": {
    "name": "ipython",
    "version": 3
   },
   "file_extension": ".py",
   "mimetype": "text/x-python",
   "name": "python",
   "nbconvert_exporter": "python",
   "pygments_lexer": "ipython3",
   "version": "3.10.9"
  },
  "toc": {
   "base_numbering": 1,
   "nav_menu": {},
   "number_sections": false,
   "sideBar": true,
   "skip_h1_title": false,
   "title_cell": "Table of Contents",
   "title_sidebar": "Contents",
   "toc_cell": false,
   "toc_position": {
    "height": "calc(100% - 180px)",
    "left": "10px",
    "top": "150px",
    "width": "165px"
   },
   "toc_section_display": true,
   "toc_window_display": true
  }
 },
 "nbformat": 4,
 "nbformat_minor": 5
}
