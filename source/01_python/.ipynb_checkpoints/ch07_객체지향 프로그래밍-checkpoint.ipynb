{
 "cells": [
  {
   "cell_type": "code",
   "execution_count": 1,
   "id": "059e9ceb",
   "metadata": {},
   "outputs": [
    {
     "data": {
      "text/html": [
       "\n",
       "<style>\n",
       "div.container{width:86% !important;}\n",
       "div.cell.code_cell.rendered{width:100%;}\n",
       "div.CodeMirror {font-family:Consolas; font-size:12pt;}\n",
       "div.output {font-size:12pt; font-weight:bold;}\n",
       "div.input {font-family:Consolas; fo\n",
       "nt-size:12pt;}\n",
       "div.prompt {min-width:70px;}\n",
       "div#toc-wrapper{padding-top:130px;}\n",
       "div.text_cell_render ul li{font-size:12pt;padding:5px;}\n",
       "table.dataframe{font-size:15px;}\n",
       "</style>\n"
      ],
      "text/plain": [
       "<IPython.core.display.HTML object>"
      ]
     },
     "metadata": {},
     "output_type": "display_data"
    }
   ],
   "source": [
    "from IPython.display import display, HTML\n",
    "display(HTML(\"\"\"\n",
    "<style>\n",
    "div.container{width:86% !important;}\n",
    "div.cell.code_cell.rendered{width:100%;}\n",
    "div.CodeMirror {font-family:Consolas; font-size:12pt;}\n",
    "div.output {font-size:12pt; font-weight:bold;}\n",
    "div.input {font-family:Consolas; fo\n",
    "nt-size:12pt;}\n",
    "div.prompt {min-width:70px;}\n",
    "div#toc-wrapper{padding-top:130px;}\n",
    "div.text_cell_render ul li{font-size:12pt;padding:5px;}\n",
    "table.dataframe{font-size:15px;}\n",
    "</style>\n",
    "\"\"\"))"
   ]
  },
  {
   "cell_type": "markdown",
   "id": "3d777c65",
   "metadata": {},
   "source": [
    "<b><font size = 5, color = 'red'> ch07 객체지향 프로그래밍 </font></b>\n",
    "\n",
    "- 클래스는 보통 대문자로 시작한다."
   ]
  },
  {
   "cell_type": "code",
   "execution_count": 8,
   "id": "3e0912cf",
   "metadata": {},
   "outputs": [
    {
     "name": "stdout",
     "output_type": "stream",
     "text": [
      "홍길동 남자 MBC\n",
      "홍길쑥 None MBC\n",
      "{'name': '홍길동', 'gender': '남자', 'academy': 'MBC'}\n"
     ]
    }
   ],
   "source": [
    "person1 = {'name' : '홍길동', 'gender' : '남자', 'academy' : 'MBC'}\n",
    "person2 = {'name' : '홍길숙', 'sender' : '여자', 'academy' : 'MBC'}\n",
    "print(person1.get('name', 'None'),person1.get('gender', 'None'),person1.get('academy', 'None'))\n",
    "person2['name'] = '홍길쑥'\n",
    "print(person2.get('name'),person2.get('gender'),person2.get('academy'))\n",
    "print(person1)"
   ]
  },
  {
   "cell_type": "code",
   "execution_count": 52,
   "id": "2574af3b",
   "metadata": {},
   "outputs": [],
   "source": [
    "class Person :\n",
    "    accademy = 'MBC' # 클래스 변수\n",
    "    def __init__(self,name,gender) :\n",
    "        self.name = name\n",
    "        self.gender = gender\n",
    "    def print_info(self) :\n",
    "        print(f'{self.academy} 소속 {self.name}님은 {self.gender}입니다.')"
   ]
  },
  {
   "cell_type": "code",
   "execution_count": 53,
   "id": "05094b22",
   "metadata": {},
   "outputs": [
    {
     "name": "stdout",
     "output_type": "stream",
     "text": [
      "Person 객체를 소멸시킵니다. 홍길동\n"
     ]
    },
    {
     "ename": "TypeError",
     "evalue": "Person.__init__() got an unexpected keyword argument 'academy'",
     "output_type": "error",
     "traceback": [
      "\u001b[1;31m---------------------------------------------------------------------------\u001b[0m",
      "\u001b[1;31mTypeError\u001b[0m                                 Traceback (most recent call last)",
      "Cell \u001b[1;32mIn[53], line 1\u001b[0m\n\u001b[1;32m----> 1\u001b[0m p1 \u001b[38;5;241m=\u001b[39m \u001b[43mPerson\u001b[49m\u001b[43m(\u001b[49m\u001b[38;5;124;43m'\u001b[39;49m\u001b[38;5;124;43m종혁\u001b[39;49m\u001b[38;5;124;43m'\u001b[39;49m\u001b[43m,\u001b[49m\u001b[38;5;124;43m'\u001b[39;49m\u001b[38;5;124;43m남자\u001b[39;49m\u001b[38;5;124;43m'\u001b[39;49m\u001b[43m,\u001b[49m\u001b[43macademy\u001b[49m\u001b[43m \u001b[49m\u001b[38;5;241;43m=\u001b[39;49m\u001b[43m \u001b[49m\u001b[38;5;124;43m'\u001b[39;49m\u001b[38;5;124;43m무직\u001b[39;49m\u001b[38;5;124;43m'\u001b[39;49m\u001b[43m)\u001b[49m\n",
      "\u001b[1;31mTypeError\u001b[0m: Person.__init__() got an unexpected keyword argument 'academy'"
     ]
    }
   ],
   "source": [
    "# p1 = Person('종혁','남자',academy = '무직')"
   ]
  },
  {
   "cell_type": "code",
   "execution_count": 76,
   "id": "a19d2353",
   "metadata": {},
   "outputs": [],
   "source": [
    "class Person :\n",
    "#    academy='MBC' : 클래스변수\n",
    "    def __init__(self,name,gender,academy='MBC') : # 생성자 함수\n",
    "        self.name = name # 인스턴스 변수\n",
    "        self.gender = gender \n",
    "        self.academy = academy\n",
    "    \n",
    "    def __str__(self) :\n",
    "        return f'{self.name}은/는 {self.gender}입니다. {self.academy} 소속입니다.'\n",
    "    \n",
    "    def print_info(self) :\n",
    "        print(f'{self.academy} 소속 {self.name}님은 {self.gender}입니다.')"
   ]
  },
  {
   "cell_type": "code",
   "execution_count": 77,
   "id": "583a6ac2",
   "metadata": {},
   "outputs": [],
   "source": [
    "p1 = Person('홍길동','남자','프로그래머스')"
   ]
  },
  {
   "cell_type": "code",
   "execution_count": 78,
   "id": "bfb40d3d",
   "metadata": {},
   "outputs": [],
   "source": [
    "p2 = Person('홍길숙','여자', '멀티캠퍼스')"
   ]
  },
  {
   "cell_type": "code",
   "execution_count": 79,
   "id": "fddee3b6",
   "metadata": {},
   "outputs": [
    {
     "name": "stdout",
     "output_type": "stream",
     "text": [
      "프로그래머스 소속 홍길동님은 남자입니다.\n",
      "멀티캠퍼스 소속 홍길숙님은 여자입니다.\n"
     ]
    }
   ],
   "source": [
    "p1.print_info()\n",
    "p2.print_info()"
   ]
  },
  {
   "cell_type": "code",
   "execution_count": 80,
   "id": "ca58fcfe",
   "metadata": {},
   "outputs": [
    {
     "name": "stdout",
     "output_type": "stream",
     "text": [
      "CBC 소속 못난이님은 남자입니다.\n",
      "못난이은/는 남자입니다. CBC 소속입니다.\n",
      "홍길숙은/는 여자입니다. 멀티캠퍼스 소속입니다.\n"
     ]
    }
   ],
   "source": [
    "p1.name = '못난이'\n",
    "p1.academy = 'CBC'\n",
    "p1.print_info()\n",
    "print(p1.__str__())\n",
    "print(p2.__str__())"
   ]
  },
  {
   "cell_type": "markdown",
   "id": "2aa0abac",
   "metadata": {},
   "source": [
    "클래스 설계도 안에는 클래스 설계도와 클래스 변수가 항상 메모리에 있어 참조하여 빠르게 구할 수 있다."
   ]
  },
  {
   "cell_type": "markdown",
   "id": "a52e370f",
   "metadata": {},
   "source": [
    "# 1절 객체와 클래스\n",
    "class 클래스명(상속받을 클래스명) :\n",
    "    생성자, 변수나 함수들"
   ]
  },
  {
   "cell_type": "code",
   "execution_count": 83,
   "id": "cbeb9c4d",
   "metadata": {},
   "outputs": [],
   "source": [
    "class Person :\n",
    "    '''\n",
    "    Person 클래스는 이러한 내용을 갖고 있습니다. 클래스 독스트링 지원\n",
    "    생성자 함수가 없을 경우 디폴트 생성자 함수가 자동 생성\n",
    "    '''\n",
    "    pass"
   ]
  },
  {
   "cell_type": "code",
   "execution_count": 88,
   "id": "e030e1f0",
   "metadata": {},
   "outputs": [
    {
     "name": "stdout",
     "output_type": "stream",
     "text": [
      "<class '__main__.Person'>\n",
      "<__main__.Person object at 0x0000019759EFC2E0>\n"
     ]
    }
   ],
   "source": [
    "p1=Person()\n",
    "print(type(p1))\n",
    "print(p1.__str__())"
   ]
  },
  {
   "cell_type": "code",
   "execution_count": 89,
   "id": "87795590",
   "metadata": {},
   "outputs": [
    {
     "name": "stdout",
     "output_type": "stream",
     "text": [
      "True\n"
     ]
    }
   ],
   "source": [
    "print(isinstance(p1,Person))"
   ]
  },
  {
   "cell_type": "code",
   "execution_count": 90,
   "id": "6e6a1d92",
   "metadata": {},
   "outputs": [
    {
     "data": {
      "text/plain": [
       "'\\n    Person 클래스는 이러한 내용을 갖고 있습니다. 클래스 독스트링 지원\\n    생성자 함수가 없을 경우 디폴트 생성자 함수가 자동 생성\\n    '"
      ]
     },
     "execution_count": 90,
     "metadata": {},
     "output_type": "execute_result"
    }
   ],
   "source": [
    "p1.__doc__"
   ]
  },
  {
   "cell_type": "markdown",
   "id": "e624dc0c",
   "metadata": {},
   "source": [
    "# 2절 생성자(__init__)와 소멸자(__del__)\n",
    "```\n",
    "생성자 : __init__(self, 매개변수,...) - 객체가 형성할 때 자동 실행\n",
    "        **객체 생성 시 필요한 인스턴스 변수 초기화 포함**\n",
    "소멸자 : __del__(self) - 객체가 소멸될 때 자동 실행 \n",
    "        인스턴스 객체의 레퍼런스 카운트가 0이 될 때 실행 :: 주소를 참조하는 값이 없을 때 실행된다.\n",
    "```"
   ]
  },
  {
   "cell_type": "code",
   "execution_count": 45,
   "id": "38cf3863",
   "metadata": {},
   "outputs": [],
   "source": [
    "class Person :\n",
    "    def __init__(self, name, gender='남자') : # 파이썬은 함수 오버로딩(함수 중복 정의) 지원 하지 않음    \n",
    "        self.name = name # 인스턴스 변수\n",
    "        self.gender = gender\n",
    "        print('Person 객체를 생성합니다.', name)\n",
    "    \n",
    "    def __del__(self) :\n",
    "        print('Person 객체를 소멸시킵니다.', self.name)\n",
    "        \n",
    "    def print_info(self) :\n",
    "        print(f'{self.name}은 {self.gender}입니다')\n",
    "        \n",
    "    def __str__(self) : # 오버라이딩 : 상속받은 내용 위로 원하는 내용으로 재정의 하는 행위, Object 클래스로부터 기본값 상속\n",
    "        return f'{self.name}은 {self.gender}입니다.'"
   ]
  },
  {
   "cell_type": "code",
   "execution_count": 46,
   "id": "f6b2c579",
   "metadata": {},
   "outputs": [
    {
     "name": "stdout",
     "output_type": "stream",
     "text": [
      "Person 객체를 생성합니다. 신사임당\n"
     ]
    }
   ],
   "source": [
    "p1 = Person('신사임당', '여자')"
   ]
  },
  {
   "cell_type": "code",
   "execution_count": 47,
   "id": "b0820b36",
   "metadata": {},
   "outputs": [
    {
     "name": "stdout",
     "output_type": "stream",
     "text": [
      "Person 객체를 생성합니다. 홍길동\n",
      "홍길동은 남자입니다.\n"
     ]
    }
   ],
   "source": [
    "p2 = Person('홍길동')\n",
    "print(p2)"
   ]
  },
  {
   "cell_type": "code",
   "execution_count": 48,
   "id": "32b1f44e",
   "metadata": {},
   "outputs": [],
   "source": [
    "p3 = p2"
   ]
  },
  {
   "cell_type": "code",
   "execution_count": 49,
   "id": "111b8222",
   "metadata": {},
   "outputs": [
    {
     "name": "stdout",
     "output_type": "stream",
     "text": [
      "Person 객체를 소멸시킵니다. 신사임당\n"
     ]
    }
   ],
   "source": [
    "del p1"
   ]
  },
  {
   "cell_type": "code",
   "execution_count": 50,
   "id": "53e02f35",
   "metadata": {},
   "outputs": [],
   "source": [
    "del p2"
   ]
  },
  {
   "cell_type": "markdown",
   "id": "677aa2c8",
   "metadata": {},
   "source": [
    "# 3절 변수와 메서드(함수)\n",
    "- 인스턴스 변수 vs 클래스 변수 # 인스턴스 변수 위주로 사용\n",
    "- 인스턴스 메서드(self) vs 클래스 메서드(cls) vs static 메서드() # **인스턴스 메서드와 static 메서드(클래스에서만 사용가능한 메서드)를 많이 사용할 예정**"
   ]
  },
  {
   "cell_type": "markdown",
   "id": "9d5ee8f2",
   "metadata": {},
   "source": [
    "## 3.1 클래스에서의 변수"
   ]
  },
  {
   "cell_type": "code",
   "execution_count": 85,
   "id": "6ecbfed3",
   "metadata": {},
   "outputs": [
    {
     "name": "stdout",
     "output_type": "stream",
     "text": [
      "금은동 남자\n"
     ]
    }
   ],
   "source": [
    "class Person :\n",
    "    name = '금은동' # 클래스 변수 : 클래스 전체에서 사용이 가능한 변수\n",
    "    gender = '남자'\n",
    "print(Person.name, Person.gender)"
   ]
  },
  {
   "cell_type": "code",
   "execution_count": 86,
   "id": "c4b15b18",
   "metadata": {},
   "outputs": [],
   "source": [
    "p1 = Person()\n",
    "p2 = Person()"
   ]
  },
  {
   "cell_type": "code",
   "execution_count": 87,
   "id": "e012c772",
   "metadata": {},
   "outputs": [
    {
     "name": "stdout",
     "output_type": "stream",
     "text": [
      "금은동 남자\n",
      "금은동 남자\n"
     ]
    }
   ],
   "source": [
    "print(p1.name, p1.gender)\n",
    "print(p2.name, p2.gender)"
   ]
  },
  {
   "cell_type": "code",
   "execution_count": 88,
   "id": "e3790baf",
   "metadata": {},
   "outputs": [],
   "source": [
    "p1.name, p1.gender, p1.age = '막걸리', '전통주', 20 # 객체에 원하는 인스턴스 변수를 추가할 수 있다..\n",
    "Person.age = 75"
   ]
  },
  {
   "cell_type": "code",
   "execution_count": 89,
   "id": "51a9e31e",
   "metadata": {},
   "outputs": [
    {
     "name": "stdout",
     "output_type": "stream",
     "text": [
      "막걸리 전통주 20\n",
      "금은동 남자 75\n",
      "금은동 남자 75\n"
     ]
    }
   ],
   "source": [
    "print(p1.name, p1.gender, p1.age)\n",
    "print(p2.name, p2.gender, p2.age)\n",
    "print(Person.name, Person.gender, Person.age)"
   ]
  },
  {
   "cell_type": "code",
   "execution_count": 90,
   "id": "f7dda004",
   "metadata": {},
   "outputs": [
    {
     "name": "stdout",
     "output_type": "stream",
     "text": [
      "금은동 남자\n"
     ]
    }
   ],
   "source": [
    "print(Person.name, Person.gender)"
   ]
  },
  {
   "cell_type": "markdown",
   "id": "86d4800f",
   "metadata": {},
   "source": [
    "## 3.2 클래스에서의 메서드\n",
    "***"
   ]
  },
  {
   "cell_type": "markdown",
   "id": "3c7882ec",
   "metadata": {},
   "source": [
    "※ 인스턴스 메서드(self) vs 클래스 메서드(cls) vs static 메서드()\n",
    "- 인스턴스 메서드 : 반드시 필요한 첫번째 인자에 self를 암묵적 명시, 객체를 통해서만 호출 가능\n",
    "- 클래스 메서드 : 메서드 위에 @classmethod를 선언한 메서드. 반드시 필요한 첫번째 인자에 cls(cls) 암묵적 명시\n",
    "- static 메서드 : 메서드 위에 @staticmethod를 선언한 메서드. 인자 불필요"
   ]
  },
  {
   "cell_type": "code",
   "execution_count": 91,
   "id": "05ac698a",
   "metadata": {},
   "outputs": [],
   "source": [
    "class Person :\n",
    "    name = '홍길동'\n",
    "    gender = '남자'\n",
    "    def print_info(self) : # 객체변수명.print_info() 로 호출\n",
    "        print(f'인스턴스(일반) 메서드 - {self.name}은 {self.gender}입니다.')\n",
    "        \n",
    "    def change_info(slef, name, gender='남자') : # 객체변수.change_info('김','여자')\n",
    "        self.name = name\n",
    "        self.gender = gender\n",
    "        print(f'인스턴스(일반) 메서드 - {self.name}/{self.gender}로 변경합니다.')\n",
    "        \n",
    "    @classmethod\n",
    "    def do_(cls) : # cls == Person. 클래스 변수를 이용한 로직이 있을 때 활용, Person.do_() 호출  : 인스턴스에서 역으로 올라가서 호출이 가능하네?\n",
    "        cls.name = '신사임당'\n",
    "        cls.gender = '여자'\n",
    "        print(f'클래스 메서드 - {cls.name}/{cls.gender}로 변경합니다.')\n",
    "    \n",
    "    @staticmethod\n",
    "    def that_() : # 클래스 변수를 이용하기 보다는 로직이 우선일 경우, Person.that_() 호출\n",
    "        Person.name = '신길동'\n",
    "        Person.gender = '남자'\n",
    "        print(f'static 메서드 - {Person.name}/{Person.gender}로 변경합니다.')        "
   ]
  },
  {
   "cell_type": "code",
   "execution_count": 93,
   "id": "f71b8a3b",
   "metadata": {},
   "outputs": [
    {
     "name": "stdout",
     "output_type": "stream",
     "text": [
      "인스턴스(일반) 메서드 - 홍길동은 남자입니다.\n"
     ]
    }
   ],
   "source": [
    "p1 = Person()\n",
    "p1.print_info()"
   ]
  },
  {
   "cell_type": "code",
   "execution_count": 94,
   "id": "5b98361b",
   "metadata": {},
   "outputs": [
    {
     "name": "stdout",
     "output_type": "stream",
     "text": [
      "클래스 메서드 - 신사임당/여자로 변경합니다.\n"
     ]
    }
   ],
   "source": [
    "Person.do_()"
   ]
  },
  {
   "cell_type": "code",
   "execution_count": 95,
   "id": "6599cd5a",
   "metadata": {},
   "outputs": [
    {
     "name": "stdout",
     "output_type": "stream",
     "text": [
      "인스턴스(일반) 메서드 - 신사임당은 여자입니다.\n"
     ]
    }
   ],
   "source": [
    "p1.print_info()"
   ]
  },
  {
   "cell_type": "code",
   "execution_count": 96,
   "id": "0eb89da4",
   "metadata": {
    "scrolled": true
   },
   "outputs": [
    {
     "name": "stdout",
     "output_type": "stream",
     "text": [
      "static 메서드 - 신길동/남자로 변경합니다.\n"
     ]
    }
   ],
   "source": [
    "Person.that_()"
   ]
  },
  {
   "cell_type": "code",
   "execution_count": 97,
   "id": "3e2767ec",
   "metadata": {},
   "outputs": [
    {
     "name": "stdout",
     "output_type": "stream",
     "text": [
      "인스턴스(일반) 메서드 - 신길동은 남자입니다.\n"
     ]
    }
   ],
   "source": [
    "p1.print_info()"
   ]
  },
  {
   "cell_type": "code",
   "execution_count": 98,
   "id": "e24e7c81",
   "metadata": {},
   "outputs": [
    {
     "name": "stdout",
     "output_type": "stream",
     "text": [
      "클래스 메서드 - 신사임당/여자로 변경합니다.\n"
     ]
    }
   ],
   "source": [
    "p1.do_()"
   ]
  },
  {
   "cell_type": "code",
   "execution_count": 100,
   "id": "f6555478",
   "metadata": {},
   "outputs": [
    {
     "name": "stdout",
     "output_type": "stream",
     "text": [
      "인스턴스(일반) 메서드 - 신사임당은 여자입니다.\n"
     ]
    }
   ],
   "source": [
    "p1.print_info()"
   ]
  },
  {
   "cell_type": "code",
   "execution_count": 101,
   "id": "a12160f2",
   "metadata": {},
   "outputs": [
    {
     "name": "stdout",
     "output_type": "stream",
     "text": [
      "static 메서드 - 신길동/남자로 변경합니다.\n"
     ]
    }
   ],
   "source": [
    "p1.that_()"
   ]
  },
  {
   "cell_type": "markdown",
   "id": "fb916854",
   "metadata": {},
   "source": [
    "## 3.3 요약\n",
    "* **객체를 이용하면 객체에 정보를 저장하고, 그 정보를 이용해서 어떤 기능을 수행할 수 있다**\n",
    "* **객체 = 데이터(변수: 객체마다 고유의 값) + 기능(메서드, 함수)**\n",
    "\n",
    "* **그 객체를 만들기 위한 틀을 '클래스'**\n",
    "```\n",
    "    class 클래스명 :\n",
    "        '''독스트링'''\n",
    "        클래스변수명 = 값\n",
    "        \n",
    "        def __init__(self,[객체멤버를 초기화할 변수= 값....]) :\n",
    "            self.인스턴스(일반)변수 = 값\n",
    "            객체를 생성할 때 객체 멤버 변수의 초기화 작업\n",
    "            \n",
    "        def method(self, a) :\n",
    "            인스턴스(일반)메서드의 매개 변수는 self를 반드시 포함\n",
    "            \n",
    "        @classmethod\n",
    "        def classmethod(cls) :\n",
    "            코드\n",
    "            \n",
    "        @staticmethod\n",
    "        def staticmethod(division = 124*124):\n",
    "            코드\n",
    "            \n",
    "    객체변수 = 클래스명()\n",
    "    객체변수.method(a)\n",
    "    클래스명.classmethod()\n",
    "    클래스명.staticmethod()\n",
    "```\n",
    "\n",
    "* django, CNN 활용\n",
    "* lib 사용 시 확인 할 경우"
   ]
  },
  {
   "cell_type": "code",
   "execution_count": 12,
   "id": "6442d304",
   "metadata": {
    "scrolled": true
   },
   "outputs": [
    {
     "name": "stdout",
     "output_type": "stream",
     "text": [
      "홍길동입니다.\n",
      "홍길동입니다.\n",
      "['__class__', '__delattr__', '__dict__', '__dir__', '__doc__', '__eq__', '__format__', '__ge__', '__getattribute__', '__gt__', '__hash__', '__init__', '__init_subclass__', '__le__', '__lt__', '__module__', '__ne__', '__new__', '__reduce__', '__reduce_ex__', '__repr__', '__setattr__', '__sizeof__', '__str__', '__subclasshook__', '__weakref__', 'name', 'nickname', 'print_info']\n"
     ]
    },
    {
     "data": {
      "text/plain": [
       "(True, True)"
      ]
     },
     "execution_count": 12,
     "metadata": {},
     "output_type": "execute_result"
    }
   ],
   "source": [
    "class Person :\n",
    "    def __init__(self, name) :\n",
    "        self.name = name\n",
    "    def __str__(self) : # print 함수 안에서 반환할 값 설정\n",
    "        return f'{self.name}입니다.'\n",
    "    def print_info(self) :\n",
    "        # print(f'{self.name}입니다.'')\n",
    "        print(self)\n",
    "\n",
    "p = Person('홍길동')\n",
    "p.print_info()\n",
    "print(p)\n",
    "p.nickname = '홍별명' # nickname 변수가 인스턴스 변수로 저장됨 : 파이썬,자바스크립트가 갖는 특징 -> '파이썬은 동적으로 인스턴스 멤버 추가가 가능하다'\n",
    "# 위와 같은 방법은 파이썬에서 활용하지 않는다. 체크를 위해서 dir을 통해 일일이 체크해야하기에 불편함이 크다.\n",
    "# print(dir(p))\n",
    "p1 = Person('홍길숙')\n",
    "isinstance(p, Person), isinstance(p1, Person)"
   ]
  },
  {
   "cell_type": "markdown",
   "id": "3a96f44c",
   "metadata": {},
   "source": [
    "# 4절 상속과 재정의\n",
    "상속(inheritance)\n",
    "- 클래스를 재사용\n",
    "- 상속을 이용하면 부모클래스의 모든 속성을 자식클래스로 물려줄 수 있음.\n",
    "- 문법 : class 자식클래스명(부모클래스명) :\n",
    "\n",
    "## 4.1 상속과 재정의(오버라이딩)"
   ]
  },
  {
   "cell_type": "code",
   "execution_count": 31,
   "id": "58fd10a8",
   "metadata": {},
   "outputs": [],
   "source": [
    "# 부모클래스\n",
    "class Cal :\n",
    "    def __init__(self, num1=1, num2=2) :\n",
    "        print('두 수 초기화')\n",
    "        self.num1 = num1\n",
    "        self.num2 = num2\n",
    "    \n",
    "    def add(self) :\n",
    "        return self.num1 + self.num2\n",
    "    \n",
    "    def sub(self) :\n",
    "        return self.num1 - self.num2\n",
    "    \n",
    "    def div(self) :\n",
    "        return self.num1 / self.num2 if self.num2 != 0 else '0으로 나눌 수 없습니다'\n",
    "    \n",
    "    def __str__(self) :\n",
    "        return f'num1 = {self.num1}, num2 = {self.num2}' \n",
    "\n",
    "    \n",
    "class Cal_inherit(Cal) :\n",
    "    def mul(self) :\n",
    "        return self.num1 * self.num2"
   ]
  },
  {
   "cell_type": "code",
   "execution_count": 32,
   "id": "bfc476b2",
   "metadata": {},
   "outputs": [
    {
     "name": "stdout",
     "output_type": "stream",
     "text": [
      "두 수 초기화\n",
      "5\n",
      "6\n",
      "두 수 초기화\n",
      "6\n",
      "<class '__main__.Cal_inherit'> <class '__main__.Cal'> <class 'type'> <class 'type'>\n",
      "True True\n",
      "False True\n"
     ]
    }
   ],
   "source": [
    "test = Cal_inherit(2,3)\n",
    "print(test.add())\n",
    "print(test.mul())\n",
    "test2 = Cal(2,4)\n",
    "print(test2.add())\n",
    "print(type(test), type(test2), type(Cal), type(Cal_inherit))\n",
    "print(isinstance(test, Cal_inherit), isinstance(test, Cal)) # Cal_inherit is a Cal (상속은 is a 관계)\n",
    "print(isinstance(test2, Cal_inherit), isinstance(test2, Cal))"
   ]
  },
  {
   "cell_type": "code",
   "execution_count": 41,
   "id": "959aca5f",
   "metadata": {},
   "outputs": [
    {
     "name": "stdout",
     "output_type": "stream",
     "text": [
      "이름과 성별 초기화\n",
      "홍길동님은 남자\n",
      "홍길동님은 남자\n"
     ]
    }
   ],
   "source": [
    "class Person :\n",
    "    'Person은 이름과 성별을 멤버변수로 갖고 출력 기능이 있다'\n",
    "    def __init__(self, name, gender) :\n",
    "        print('이름과 성별 초기화')\n",
    "        self.name = name\n",
    "        self.gender = gender\n",
    "        \n",
    "    def __str__(self) :\n",
    "        return f'{self.name}님은 {self.gender}'\n",
    "    \n",
    "    def print_info(self) :\n",
    "        print(self)\n",
    "p = Person('홍길동', '남자')\n",
    "p.print_info()\n",
    "Person.print_info(p) # 가능은 한데 사용하지는 않음"
   ]
  },
  {
   "cell_type": "code",
   "execution_count": 45,
   "id": "b7130d66",
   "metadata": {},
   "outputs": [],
   "source": [
    "# 원하는 형태는 아래와 같음\n",
    "'''\n",
    "class Student(Person) :\n",
    "    def __init__(self, name, gender, major) :\n",
    "        print('이름과 성별 초기화')\n",
    "        self.name = name\n",
    "        self.gender = gender\n",
    "        self.major = major\n",
    "        \n",
    "    def __str__(self) :\n",
    "        return f'{self.name}님은 {self.gender}고 {self.major}전공입니다.'     \n",
    "'''\n",
    "# override : 함수의 재정의(부모클래스의 함수를 자식클래스에서 다시 정의) 부모클래스의 함수명과 매개변수 개수가 동일해야함.\n",
    "# cf) overload 함수의 중복 정의 : 같은 이름의 함수를 매개변수 개수를 달리해서 정의(파이썬 불가)\n",
    "class Student(Person) :\n",
    "    def __init__(self, name, gender, major) : # name, gender 까지만 해서 재정의하면 오버라이딩이지만 지금 같은 경우 major가 추가되며 덮어쓰기가 된다.\n",
    "        # self.name = name : 이미 상속받은 내용은 다시 쓸 필요가 없음...\n",
    "        # self.gender = gender\n",
    "        self.major = major\n",
    "        \n",
    "    def __str__(self) :\n",
    "        return f'{self.name}님은 {self.gender}고 {self.major}전공입니다.' \n",
    "    \n",
    "#          ↓↓↓↓↓↓↓↓↓↓↓↓↓↓↓↓↓↓    \n",
    "\n",
    "    \n",
    "class Student(Person) :\n",
    "    def __init__(self, name, gender, major) : # 오버라이딩X 매개변수가 추가되며 덮어쓰기\n",
    "        super().__init__(name, gender) # super() : \"부모 클래스 의\"\n",
    "        self.major = major\n",
    "        # Person.__init__(self, name, gender) == super() 가능하지만 사용은 드물다.\n",
    "        \n",
    "    def __str__(self) : # 오버라이딩\n",
    "       # return f'{self.name}님은 {self.gender}이고 {self.major}전공입니다.' \n",
    "        return super().__str__() + f'이고 전공은 {self.major}'"
   ]
  },
  {
   "cell_type": "code",
   "execution_count": 48,
   "id": "4f348ee5",
   "metadata": {},
   "outputs": [
    {
     "name": "stdout",
     "output_type": "stream",
     "text": [
      "이름과 성별 초기화\n",
      "홍길숙님은 여자이고 전공은 AI\n",
      "홍길숙님은 여자이고 전공은 AI\n"
     ]
    }
   ],
   "source": [
    "s = Student('홍길숙', '여자', 'AI')\n",
    "print(s)\n",
    "s.print_info()"
   ]
  },
  {
   "cell_type": "code",
   "execution_count": 49,
   "id": "17e1c2b0",
   "metadata": {},
   "outputs": [
    {
     "data": {
      "text/plain": [
       "(True, True)"
      ]
     },
     "execution_count": 49,
     "metadata": {},
     "output_type": "execute_result"
    }
   ],
   "source": [
    "isinstance(s, Student), isinstance(s, Person) # s는 Student 타입 이며 Person 타입 입니다. 자식 클래스 is a 부모클래스 관계입니다."
   ]
  },
  {
   "cell_type": "markdown",
   "id": "dc1ac8a8",
   "metadata": {},
   "source": [
    "## 4.2 정적 변수(static 변수)\n",
    "- 시리얼넘버 붙이기, 클래스 객체 개수 세기.... etc / 자료 관리 등의 영역에서 사용할 일이 많지는 않다\n",
    "- 여러 객체들 사이에 데이터를 공유하고 싶을 때 사용\n",
    "```\n",
    "static 변수 앞에 under score 2개(__)를 붙이면 클래스명.__클래스명__ // 클래스명._클래스명__static변수명 으로 참조\n",
    "클래스 변수명은 외부에서 바로 접근이 가능.\n",
    "static 변수는 외부에서 바로 접근하는 것을 방지\n",
    "static 변수는 클래스 내부에서만 접근하도록 하려는 의도.\n",
    "```"
   ]
  },
  {
   "cell_type": "code",
   "execution_count": 22,
   "id": "cb9b0eef",
   "metadata": {},
   "outputs": [],
   "source": [
    "class Person :\n",
    "    \n",
    "    def __init__(self, name, gender) :\n",
    "        self.name = name\n",
    "        self.gender = gender\n",
    "        \n",
    "    def print_info(self) :\n",
    "        raise Exception('이 메서드는 호출하면 예외가 납니다') # 강제로 예외를 발생 시킴\n",
    "        \n",
    "    def __str__(self) :\n",
    "        return f'{self.name}은 {self.gender}'\n",
    "    \n",
    "p = Person('홍길동','남자')\n",
    "#p.print_info() # 메서드가 있는데 사용이 불가 : 추상메서드라고 하며 상속 시킨 후 오버라이딩 해서 활용하도록 format을 알려주는 방법\n",
    "\n",
    "class Student(Person) :\n",
    "    classvar = 'MBC' # class 변수\n",
    "    __count = 0 # static 변수, 객체의 개수 (ex. 학번부여, 학생수 관리....) : 근데 이거 굳이 static으로 관리 안하고 class 변수로 관리가 가능하지않나?\n",
    "    # 사용자가 직접 access 하지 못하게 하기 위해 사용하는 방법\n",
    "    # 클래스명._클래스명__count로 사용이 가능 클래스명.__count는 외부에서 접근 불가\n",
    "    \n",
    "    def __init__(self, name, gender, major) :\n",
    "        super().__init__(name, gender)\n",
    "        self.major = major\n",
    "        Student._Student__count +=1 # 객체가 생성될 때 마다 __count 1 증가\n",
    "    \n",
    "    def __del__(self) :\n",
    "        Student._Student__count -=1 # 객체가 소멸될 때 마다 __count 1 감소\n",
    "                \n",
    "    def print_info(self) : # 추상메서드를 오버라이드 해서 에러를 방지\n",
    "        print(f'{self.name}은 {self.gender}이고 전공은 {self.major} ({Student._Student__count})명의 학생이 있음')\n",
    "    \n",
    "    def __str__(self) :\n",
    "        super().__str__() + f'이고 전공은 {self.major}'\n",
    "    \n",
    "    @classmethod\n",
    "    def get_count(cls) :\n",
    "        # return cls.__count\n",
    "        return Student._Student__count"
   ]
  },
  {
   "cell_type": "code",
   "execution_count": 23,
   "id": "7229724d",
   "metadata": {},
   "outputs": [
    {
     "name": "stdout",
     "output_type": "stream",
     "text": [
      "Hong은 Male이고 전공은 AI (1)명의 학생이 있음\n"
     ]
    }
   ],
   "source": [
    "# p1 = Person('hong','male')\n",
    "# p1.print_info() : 추상메서드로 인해 사용하지 않음\n",
    "s1 = Student('Hong', 'Male', 'AI')\n",
    "s1.print_info()"
   ]
  },
  {
   "cell_type": "code",
   "execution_count": 24,
   "id": "7eb93636",
   "metadata": {},
   "outputs": [
    {
     "data": {
      "text/plain": [
       "1"
      ]
     },
     "execution_count": 24,
     "metadata": {},
     "output_type": "execute_result"
    }
   ],
   "source": [
    "Student.get_count()"
   ]
  },
  {
   "cell_type": "code",
   "execution_count": 25,
   "id": "87305455",
   "metadata": {},
   "outputs": [
    {
     "name": "stdout",
     "output_type": "stream",
     "text": [
      "Hong은 Male이고 전공은 AI (1)명의 학생이 있음\n"
     ]
    }
   ],
   "source": [
    "s1.print_info()"
   ]
  },
  {
   "cell_type": "code",
   "execution_count": 26,
   "id": "75e5f4b8",
   "metadata": {},
   "outputs": [],
   "source": [
    "s2 = Student('Kim','Female','Data_Analistic')"
   ]
  },
  {
   "cell_type": "code",
   "execution_count": 27,
   "id": "4cadf7da",
   "metadata": {},
   "outputs": [
    {
     "data": {
      "text/plain": [
       "2"
      ]
     },
     "execution_count": 27,
     "metadata": {},
     "output_type": "execute_result"
    }
   ],
   "source": [
    "Student.get_count()"
   ]
  },
  {
   "cell_type": "code",
   "execution_count": 28,
   "id": "c1571662",
   "metadata": {},
   "outputs": [
    {
     "name": "stdout",
     "output_type": "stream",
     "text": [
      "Kim은 Female이고 전공은 Data_Analistic (2)명의 학생이 있음\n"
     ]
    }
   ],
   "source": [
    "s2.print_info()"
   ]
  },
  {
   "cell_type": "code",
   "execution_count": 29,
   "id": "45899b26",
   "metadata": {},
   "outputs": [],
   "source": [
    "s3 = Student('Shin','Male','Computer_Science')"
   ]
  },
  {
   "cell_type": "code",
   "execution_count": 30,
   "id": "86ce8895",
   "metadata": {},
   "outputs": [
    {
     "name": "stdout",
     "output_type": "stream",
     "text": [
      "Shin은 Male이고 전공은 Computer_Science (3)명의 학생이 있음\n"
     ]
    }
   ],
   "source": [
    "s3.print_info()"
   ]
  },
  {
   "cell_type": "code",
   "execution_count": 31,
   "id": "aab8f8fa",
   "metadata": {},
   "outputs": [],
   "source": [
    "del s3, s2"
   ]
  },
  {
   "cell_type": "code",
   "execution_count": 32,
   "id": "3f2c91dd",
   "metadata": {},
   "outputs": [
    {
     "data": {
      "text/plain": [
       "1"
      ]
     },
     "execution_count": 32,
     "metadata": {},
     "output_type": "execute_result"
    }
   ],
   "source": [
    "Student.get_count()"
   ]
  },
  {
   "cell_type": "code",
   "execution_count": 33,
   "id": "594a4a8c",
   "metadata": {},
   "outputs": [
    {
     "name": "stdout",
     "output_type": "stream",
     "text": [
      "Hong은 Male이고 전공은 AI (1)명의 학생이 있음\n"
     ]
    }
   ],
   "source": [
    "s1.print_info()"
   ]
  },
  {
   "cell_type": "code",
   "execution_count": 34,
   "id": "803637d1",
   "metadata": {},
   "outputs": [],
   "source": [
    "s1 = Student('Jeong', \"Male\", \"civil\")"
   ]
  },
  {
   "cell_type": "code",
   "execution_count": 35,
   "id": "745b67d6",
   "metadata": {},
   "outputs": [
    {
     "data": {
      "text/plain": [
       "1"
      ]
     },
     "execution_count": 35,
     "metadata": {},
     "output_type": "execute_result"
    }
   ],
   "source": [
    "Student._Student__count"
   ]
  },
  {
   "cell_type": "code",
   "execution_count": 36,
   "id": "de7357c1",
   "metadata": {},
   "outputs": [
    {
     "name": "stdout",
     "output_type": "stream",
     "text": [
      "Jeong은 Male이고 전공은 civil (1)명의 학생이 있음\n"
     ]
    }
   ],
   "source": [
    "s1.print_info()"
   ]
  },
  {
   "cell_type": "code",
   "execution_count": 37,
   "id": "947d4629",
   "metadata": {},
   "outputs": [
    {
     "data": {
      "text/plain": [
       "mappingproxy({'__module__': '__main__',\n",
       "              'classvar': 'MBC',\n",
       "              '_Student__count': 1,\n",
       "              '__init__': <function __main__.Student.__init__(self, name, gender, major)>,\n",
       "              '__del__': <function __main__.Student.__del__(self)>,\n",
       "              'print_info': <function __main__.Student.print_info(self)>,\n",
       "              '__str__': <function __main__.Student.__str__(self)>,\n",
       "              'get_count': <classmethod(<function Student.get_count at 0x000001A6AE0D29E0>)>,\n",
       "              '__doc__': None})"
      ]
     },
     "execution_count": 37,
     "metadata": {},
     "output_type": "execute_result"
    }
   ],
   "source": [
    "Student.__dict__"
   ]
  },
  {
   "cell_type": "markdown",
   "id": "9ab60866",
   "metadata": {},
   "source": [
    "# 5절 연습문제"
   ]
  },
  {
   "cell_type": "markdown",
   "id": "5e06de08",
   "metadata": {},
   "source": [
    "## 5.1 실습형"
   ]
  },
  {
   "cell_type": "code",
   "execution_count": 17,
   "id": "9867b11e",
   "metadata": {},
   "outputs": [],
   "source": [
    "# 1. 도형(Shape) 클래스와 삼각형(Triangle) 클래스를 만들어야한다.\n",
    "# 1-1. 도형(Shape) 클래스\n",
    "class Shape :\n",
    "    __count = 0\n",
    "    def __init__(self, x=0, y=0) :\n",
    "        self.x = x\n",
    "        self.y = y\n",
    "        Shape._Shape__count += 1\n",
    "        \n",
    "    def move(self,dx,dy) : \n",
    "        self.x += dx ; self.y += dy\n",
    "        pass \n",
    "    \n",
    "    def __str__(self) :\n",
    "        return f'x 좌표는 {self.x}이고 y 좌표는 {self.y}입니다.'\n",
    "    \n",
    "    def calc_area(self) :\n",
    "        raise Exception('추상메서드 역할입니다. 자바에서는 추상메서드라고 하나 파이썬에서 사용하는 용어는 아닙니다.')\n",
    "        # Shape을 상속해서 사용할 클래스를 User가 만들라고 하는 의미.\n",
    "        \n",
    "    @staticmethod \n",
    "    def staticmethod() :\n",
    "        print('staticmethod라고 해요')\n",
    "\n",
    "# 1-2. 삼각형(Triangle) 클래스\n",
    "class Triangle(Shape) :\n",
    "    Triangle_count = 0 \n",
    "    Triangle_ = '삼각형 클래스입니다.' # 위치가 중요하다.\n",
    "    help_ = '삼각형 클래스입니다. 매개변수는 순서인자로 width, height, x=0, y=0 이 필요합니다. calc_area()메서드로 넓이를 구할 수 있습니다.'\n",
    "    def __init__(self, width, height, x=0, y=0) :\n",
    "        self.width = width\n",
    "        self.height = height\n",
    "        super().__init__(x,y)\n",
    "        Triangle.Triangle_count +=1\n",
    "    \n",
    "    def __del__(self) :\n",
    "        Triangle.Triangle_count -=1\n",
    "    \n",
    "    def calc_area(self) :\n",
    "        return ((self.width-self.x)*(self.height-self.y))*0.5 if self.width-self.x != 0 and self.height-self.y != 0 else '값 오류 발생'\n",
    "    \n",
    "    def __str__(self) :\n",
    "        return super().__str__() +f'가로의 길이는 {self.width-self.x}이고 세로의 길이는 {self.height - self.y}입니다. 넓이는 {self.calc_area()}입니다.'\n"
   ]
  },
  {
   "cell_type": "code",
   "execution_count": 18,
   "id": "c0ecccd3",
   "metadata": {},
   "outputs": [
    {
     "name": "stdout",
     "output_type": "stream",
     "text": [
      "x 좌표는 2이고 y 좌표는 2입니다.\n",
      "x 좌표는 3이고 y 좌표는 3입니다.\n",
      "staticmethod라고 해요\n"
     ]
    }
   ],
   "source": [
    "s =Shape(2,2)\n",
    "print(s)\n",
    "s.move(1,1)\n",
    "print(s)\n",
    "Shape.staticmethod()"
   ]
  },
  {
   "cell_type": "code",
   "execution_count": 22,
   "id": "9b206d0a",
   "metadata": {},
   "outputs": [
    {
     "name": "stdout",
     "output_type": "stream",
     "text": [
      "x 좌표는 0이고 y 좌표는 0입니다.가로의 길이는 10이고 세로의 길이는 10입니다. 넓이는 50.0입니다.\n",
      "x 좌표는 10이고 y 좌표는 10입니다.가로의 길이는 0이고 세로의 길이는 0입니다. 넓이는 값 오류 발생입니다.\n",
      "값 오류 발생\n",
      "1\n",
      "staticmethod라고 해요\n"
     ]
    }
   ],
   "source": [
    "t= Triangle(10,10)\n",
    "print(t)\n",
    "t.move(10,10)\n",
    "print(t)\n",
    "print(t.calc_area())\n",
    "print(Triangle.Triangle_count)\n",
    "Triangle.staticmethod()"
   ]
  },
  {
   "cell_type": "markdown",
   "id": "c2badb8e",
   "metadata": {},
   "source": [
    "##  5.2 서술형"
   ]
  },
  {
   "cell_type": "code",
   "execution_count": 107,
   "id": "3f2bccc9",
   "metadata": {},
   "outputs": [],
   "source": [
    "# 1. 1번 class Person :\n",
    "# 2. 2번 p1 = Person()\n",
    "# 3. 4번 def print_info(self) :\n",
    "# 4. 1번 오버로딩 X 오버라이딩\n",
    "# 5. 2번 class Student(Person) : Person 클래스를 상속받은 Student : Student is a Pesron\n",
    "# 6. 3번 : 재정의는 메소드의 이름과 매개변수의 수,종류가 같아야한다. 아닐 경우는 덮어쓰기\n",
    "# 7. 3번 : SomeClass에서 인스턴스 메서드 method_a()는 호출이 불가능하다.(SomeClass.method_a(obj)는 가능하다) 인스턴스 객체에서 클래스 메서드 호출은 가능하지만 일반적이지는 않다.\n",
    "# ** 8. 3번 이 불가\n",
    "# 9. 2번 ??? 매개변수를 갖고 return 값에 포함 시키면 가능하지 않을까 궁금합니다. -> 원래 목적과는 다르게 작동함(print(객체) 불가, print(객체.__str__(매개변수))) = return 내용 반환"
   ]
  },
  {
   "cell_type": "code",
   "execution_count": 31,
   "id": "65efbfe5",
   "metadata": {},
   "outputs": [
    {
     "name": "stdout",
     "output_type": "stream",
     "text": [
      "This is doctring : 클래스 첫째줄 문자열(설명서)\n"
     ]
    }
   ],
   "source": [
    "class Person :\n",
    "    '''This is doctring : 클래스 첫째줄 문자열(설명서)'''\n",
    "    def __init__(self, name, gender) :\n",
    "        self.name = name\n",
    "        self.gender = gender\n",
    "        \n",
    "    def print_info(self) :\n",
    "        print('메롱')\n",
    "        \n",
    "    def __str__(self) :\n",
    "        return f'{self.name}은 {self.gender}'\n",
    "\n",
    "p = Person('홍길동','남자')\n",
    "p.__dict__ # 객체를 딕셔너리 타입으로 바꿀 수 있다 : 우와\n",
    "Person.__dict__\n",
    "Person.__doc__\n",
    "print(p.__doc__)"
   ]
  }
 ],
 "metadata": {
  "kernelspec": {
   "display_name": "Python 3 (ipykernel)",
   "language": "python",
   "name": "python3"
  },
  "language_info": {
   "codemirror_mode": {
    "name": "ipython",
    "version": 3
   },
   "file_extension": ".py",
   "mimetype": "text/x-python",
   "name": "python",
   "nbconvert_exporter": "python",
   "pygments_lexer": "ipython3",
   "version": "3.10.9"
  },
  "toc": {
   "base_numbering": 1,
   "nav_menu": {},
   "number_sections": false,
   "sideBar": true,
   "skip_h1_title": false,
   "title_cell": "Table of Contents",
   "title_sidebar": "Contents",
   "toc_cell": false,
   "toc_position": {
    "height": "calc(100% - 180px)",
    "left": "10px",
    "top": "150px",
    "width": "165px"
   },
   "toc_section_display": true,
   "toc_window_display": true
  }
 },
 "nbformat": 4,
 "nbformat_minor": 5
}
