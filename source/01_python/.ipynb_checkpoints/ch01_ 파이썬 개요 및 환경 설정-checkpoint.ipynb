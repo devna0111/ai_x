{
 "cells": [
  {
   "cell_type": "code",
   "execution_count": 1,
   "id": "ab9b314b",
   "metadata": {},
   "outputs": [
    {
     "data": {
      "text/html": [
       "\n",
       "<style>\n",
       "div.container{width:86% !important;}\n",
       "div.cell.code_cell.rendered{width:100%;}\n",
       "div.CodeMirror {font-family:Consolas; font-size:12pt;}\n",
       "div.output {font-size:15pt; font-weight:bold;}\n",
       "div.input {font-family:Consolas; font-size:12pt;}\n",
       "div.prompt {min-width:70px;}\n",
       "div#toc-wrapper{padding-top:120px;}\n",
       "div.text_cell_render ul li{font-size:12pt;padding:5px;}\n",
       "table.dataframe{font-size:15px;}\n",
       "</style>\n"
      ],
      "text/plain": [
       "<IPython.core.display.HTML object>"
      ]
     },
     "metadata": {},
     "output_type": "display_data"
    }
   ],
   "source": [
    "from IPython.display import display, HTML\n",
    "display(HTML(\"\"\"\n",
    "<style>\n",
    "div.container{width:86% !important;}\n",
    "div.cell.code_cell.rendered{width:100%;}\n",
    "div.CodeMirror {font-family:Consolas; font-size:12pt;}\n",
    "div.output {font-size:15pt; font-weight:bold;}\n",
    "div.input {font-family:Consolas; font-size:12pt;}\n",
    "div.prompt {min-width:70px;}\n",
    "div#toc-wrapper{padding-top:120px;}\n",
    "div.text_cell_render ul li{font-size:12pt;padding:5px;}\n",
    "table.dataframe{font-size:15px;}\n",
    "</style>\n",
    "\"\"\"))"
   ]
  },
  {
   "cell_type": "markdown",
   "id": "e40bf257",
   "metadata": {},
   "source": [
    "<font size = \"5\" color = 'red' > ch01 파이썬 개요 및 환경 설정 </font>\n",
    "# 1. 주피터 노트북 사용법\n",
    "- shift + enter : 선택된 셀 실행되고 다음 셀로 이동\n",
    "- alt + enter   : 선택된 셀이 실행되고 다음 셀이 생성된 후에 다음 셀로 이동\n",
    "- ctrl + enter  : 선택된 셀이 실행되고 해당 셀에 있음\n",
    "- enter(click)  : 다시 편집 상태로 돌아감"
   ]
  },
  {
   "cell_type": "code",
   "execution_count": 2,
   "id": "fb326e2f",
   "metadata": {},
   "outputs": [
    {
     "name": "stdout",
     "output_type": "stream",
     "text": [
      "hello, world!\n",
      "홍길동\n"
     ]
    }
   ],
   "source": [
    "print('hello, world!\\n홍길동')"
   ]
  },
  {
   "cell_type": "code",
   "execution_count": 3,
   "id": "5211008a",
   "metadata": {},
   "outputs": [
    {
     "name": "stdout",
     "output_type": "stream",
     "text": [
      "252\n",
      "27\n"
     ]
    }
   ],
   "source": [
    "age = 25\n",
    "duration = \"2\"\n",
    "print(str(age) + duration)\n",
    "print(age + int(duration))"
   ]
  },
  {
   "cell_type": "code",
   "execution_count": null,
   "id": "5d830407",
   "metadata": {},
   "outputs": [],
   "source": [
    "# for 반복문(주석 : 실행하지 않고 개발자가 확인하는 용도)\n",
    "# for i in range(100000000) :\n",
    "#    print(i)"
   ]
  },
  {
   "cell_type": "code",
   "execution_count": 5,
   "id": "efacbd30",
   "metadata": {},
   "outputs": [],
   "source": [
    "print = 10\n",
    "print('hello')"
   ]
  },
  {
   "cell_type": "code",
   "execution_count": null,
   "id": "f93b897e",
   "metadata": {},
   "outputs": [],
   "source": [
    "# 실수로 print에 10 할당을 취소하는 방법\n",
    "# 1. 커널 재시작\n",
    "# 2. print 변수만 제거\n",
    "del print"
   ]
  },
  {
   "cell_type": "code",
   "execution_count": 8,
   "id": "847787bd",
   "metadata": {},
   "outputs": [
    {
     "name": "stdout",
     "output_type": "stream",
     "text": [
      "hello\n"
     ]
    }
   ],
   "source": [
    "print('hello')"
   ]
  },
  {
   "cell_type": "markdown",
   "id": "edfb2dea",
   "metadata": {},
   "source": [
    "# 2. Esc 누르고 (핫키)\n",
    "- dd : 삭제\n",
    "- a : 윗셀 추가\n",
    "- b : 아랫셀 추가\n",
    "- m : 마크다운 셀(문서 셀)로 변경\n",
    "- y : 코드셀로 변경\n",
    "- o : 실행 결과 접기/펴기(토글기능)"
   ]
  },
  {
   "cell_type": "markdown",
   "id": "8fd5e8ab",
   "metadata": {},
   "source": [
    "# 3. 마크다운이란?\n",
    "- 코드와 함께 문서와 할 수 있음.\n",
    "- 다양한 문서화 문법 ex. README.md"
   ]
  },
  {
   "cell_type": "code",
   "execution_count": 9,
   "id": "d6aa3fad",
   "metadata": {},
   "outputs": [
    {
     "name": "stdout",
     "output_type": "stream",
     "text": [
      " C 드라이브의 볼륨에는 이름이 없습니다.\n",
      " 볼륨 일련 번호: 3664-591E\n",
      "\n",
      " C:\\ai_x\\source 디렉터리\n",
      "\n",
      "2025-04-08  오후 12:37    <DIR>          .\n",
      "2025-04-08  오후 12:37    <DIR>          ..\n",
      "2025-04-08  오전 11:39    <DIR>          .ipynb_checkpoints\n",
      "2025-04-08  오전 11:16    <DIR>          01_python\n",
      "2025-04-08  오후 12:37             5,184 ch01_ 파이썬 개요 및 환경 설정.ipynb\n",
      "               1개 파일               5,184 바이트\n",
      "               4개 디렉터리  137,393,848,320 바이트 남음\n"
     ]
    }
   ],
   "source": [
    "# 주피터 노트북에서 cmd 명령어를 실행하는 방법 : !\n",
    "! dir"
   ]
  },
  {
   "cell_type": "code",
   "execution_count": 12,
   "id": "525c4416",
   "metadata": {},
   "outputs": [
    {
     "name": "stdout",
     "output_type": "stream",
     "text": [
      " C 드라이브의 볼륨에는 이름이 없습니다.\n",
      " 볼륨 일련 번호: 3664-591E\n",
      "\n",
      " C:\\ai_x\\source 디렉터리\n",
      "\n",
      "2025-04-08  오후 12:38    <DIR>          .\n",
      "2025-04-08  오후 12:38    <DIR>          ..\n",
      "2025-04-08  오전 11:39    <DIR>          .ipynb_checkpoints\n",
      "2025-04-08  오전 11:16    <DIR>          01_python\n",
      "2025-04-08  오후 12:38             6,309 ch01_ 파이썬 개요 및 환경 설정.ipynb\n",
      "               1개 파일               6,309 바이트\n",
      "               4개 디렉터리  137,385,390,080 바이트 남음\n"
     ]
    }
   ],
   "source": [
    "%ls # 리눅스 명령어: %"
   ]
  }
 ],
 "metadata": {
  "kernelspec": {
   "display_name": "Python 3 (ipykernel)",
   "language": "python",
   "name": "python3"
  },
  "language_info": {
   "codemirror_mode": {
    "name": "ipython",
    "version": 3
   },
   "file_extension": ".py",
   "mimetype": "text/x-python",
   "name": "python",
   "nbconvert_exporter": "python",
   "pygments_lexer": "ipython3",
   "version": "3.10.9"
  },
  "toc": {
   "base_numbering": 1,
   "nav_menu": {},
   "number_sections": false,
   "sideBar": true,
   "skip_h1_title": false,
   "title_cell": "Table of Contents",
   "title_sidebar": "Contents",
   "toc_cell": false,
   "toc_position": {
    "height": "calc(100% - 180px)",
    "left": "10px",
    "top": "150px",
    "width": "183px"
   },
   "toc_section_display": true,
   "toc_window_display": true
  }
 },
 "nbformat": 4,
 "nbformat_minor": 5
}
