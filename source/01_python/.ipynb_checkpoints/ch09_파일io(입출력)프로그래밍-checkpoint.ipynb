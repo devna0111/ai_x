{
 "cells": [
  {
   "cell_type": "code",
   "execution_count": 3,
   "id": "3d07ecdc",
   "metadata": {},
   "outputs": [
    {
     "data": {
      "text/html": [
       "\n",
       "<style>\n",
       "div.container{width:86% !important;}\n",
       "div.cell.code_cell.rendered{width:100%;}\n",
       "div.CodeMirror {font-family:Consolas; font-size:12pt;}\n",
       "div.output {font-size:12pt; font-weight:bold;}\n",
       "div.input {font-family:Consolas; fo\n",
       "nt-size:12pt;}\n",
       "div.prompt {min-width:70px;}\n",
       "div#toc-wrapper{padding-top:130px;}\n",
       "div.text_cell_render ul li{font-size:12pt;padding:5px;}\n",
       "table.dataframe{font-size:15px;}\n",
       "</style>\n"
      ],
      "text/plain": [
       "<IPython.core.display.HTML object>"
      ]
     },
     "metadata": {},
     "output_type": "display_data"
    }
   ],
   "source": [
    "from IPython.display import display, HTML\n",
    "display(HTML(\"\"\"\n",
    "<style>\n",
    "div.container{width:86% !important;}\n",
    "div.cell.code_cell.rendered{width:100%;}\n",
    "div.CodeMirror {font-family:Consolas; font-size:12pt;}\n",
    "div.output {font-size:12pt; font-weight:bold;}\n",
    "div.input {font-family:Consolas; fo\n",
    "nt-size:12pt;}\n",
    "div.prompt {min-width:70px;}\n",
    "div#toc-wrapper{padding-top:130px;}\n",
    "div.text_cell_render ul li{font-size:12pt;padding:5px;}\n",
    "table.dataframe{font-size:15px;}\n",
    "</style>\n",
    "\"\"\"))"
   ]
  },
  {
   "cell_type": "markdown",
   "id": "80738d5d",
   "metadata": {},
   "source": [
    "<b><font size = 5, color = 'red'> ch09 파일 io(입출력) 프로그래밍 </font></b>\n",
    "* 파일 : txt, pickle, csv, json, hdf5(h5)\n",
    "\n",
    "# 1절 txt파일에 데이터 저장하고 불러오기\n",
    "- 히스토리 남기는 용도"
   ]
  },
  {
   "cell_type": "markdown",
   "id": "522a3fae",
   "metadata": {},
   "source": [
    "교육목적으로 아래와 같은 코드 중 open과 close만 활용"
   ]
  },
  {
   "cell_type": "code",
   "execution_count": null,
   "id": "7d0a18c4",
   "metadata": {},
   "outputs": [],
   "source": [
    "try :\n",
    "    f= open('data/ch09.txt', 'w') # write stream 객체\n",
    "    # 데이터 출력\n",
    "except Exception as e:\n",
    "    print(e)\n",
    "finally :\n",
    "    f.close()"
   ]
  },
  {
   "cell_type": "code",
   "execution_count": null,
   "id": "f919c57c",
   "metadata": {},
   "outputs": [],
   "source": [
    "f= open('data/ch09.txt', 'w')\n",
    "print('쓰기 가능 여부 체크', f.writable())"
   ]
  },
  {
   "cell_type": "code",
   "execution_count": null,
   "id": "4185523e",
   "metadata": {},
   "outputs": [],
   "source": [
    "f.write('Hello\\nWorld')\n",
    "f.close() # close() 하지 않으면 내용 저장 X"
   ]
  },
  {
   "cell_type": "markdown",
   "id": "16e32939",
   "metadata": {},
   "source": [
    "open, close 실수가 있을 수 있으니 with문을 사용하자"
   ]
  },
  {
   "cell_type": "code",
   "execution_count": null,
   "id": "7adf2002",
   "metadata": {},
   "outputs": [],
   "source": [
    "# mode | 'r' 또는 'rt' : text 읽기 모드 => 파일이 없으면 예외 발생\n",
    "#        'rb' 바이너리 읽기 모드(r 모드가 안먹히면 rb)\n",
    "#        'w' 또는 'wt' : text 쓰기 모드 => 덮어쓰기한다(파일이 있으면 덮어쓰기, 파일이 없으면 파일 생성), 폴더위치가 정확하지 않으면 예외\n",
    "#        'wb' 바이너리 쓰기 모드\n",
    "#        'a' 또는 'at' : text append 모드(파일이 있으면 append, 파일이 없으면 파일 생성)\n",
    "#        읽기 모드에서 파일이 없으면 예외 발생 // 쓰기 모드에서 폴더가 없으면 예외 발생\n",
    "# encoding\n",
    "    # euc-kr (한글 완성형) 믜 X\n",
    "    # cp949 (확장된 한글 완성형) : open()함수 기본 인코딩 방식(windows) \n",
    "    # utf-8 (한글 조합형) : mac, linux에서는 utf-8 방식, 주피터노트북 기본\n",
    "with open('data/ch09.txt', 'w') as f :\n",
    "    print('쓰기 가능 여부 체크', f.writable())\n",
    "    f.write('Hello\\nPython')"
   ]
  },
  {
   "cell_type": "markdown",
   "id": "579ff9b0",
   "metadata": {},
   "source": [
    "mode = 'w' 활용 가능한 모드\n",
    "```\n",
    "'r'       open for reading (default) => 'rt' : text모드로 열겠다 / 파일이 있는 경우 예외, 있는 경우 text 열기 모드\n",
    "'w'       open for writing, truncating the file first\n",
    "'x'       create a new file and open it for writing\n",
    "'a'       open for writing, appending to the end of the file if it exists\n",
    "'b'       binary mode\n",
    "'t'       text mode (default)\n",
    "'+'       open a disk file for updating (reading and writing)\n",
    "'U'       universal newline mode (deprecated)\n",
    "```"
   ]
  },
  {
   "cell_type": "code",
   "execution_count": null,
   "id": "8bca8f9d",
   "metadata": {},
   "outputs": [],
   "source": [
    "with open('data/ch09.txt', 'a', encoding='utf-8') as f :\n",
    "    # 여러줄 저장하는 방법\n",
    "    # 1방법\n",
    "    f.write('\\n1방법\\n')\n",
    "    f.write('홍길동, 33, 아무동9\\n')\n",
    "    f.write('김길동, 22, 아무동8\\n')\n",
    "    # 2방법\n",
    "    textlist = ['2방법\\n','홍길동, 33, 아무동9\\n','김길동, 22, 아무동8\\n']\n",
    "    for i in textlist :\n",
    "        f.write(i)\n",
    "    # ★★ 3방법 ★★\n",
    "    textlist2 = ['3방법\\n','홍길동, 33, 아무동9\\n','김길동, 22, 아무동8\\n']\n",
    "    f.writelines(textlist2)"
   ]
  },
  {
   "cell_type": "code",
   "execution_count": null,
   "id": "9f3e997e",
   "metadata": {},
   "outputs": [],
   "source": [
    "# 한 줄씩 읽기\n",
    "with open('data/ch09.txt', 'r', encoding='utf-8') as f :\n",
    "    line = f.readline()\n",
    "    while line != '' :\n",
    "        print(line, end = '')\n",
    "        line = f.readline()"
   ]
  },
  {
   "cell_type": "code",
   "execution_count": null,
   "id": "cecb7d18",
   "metadata": {},
   "outputs": [],
   "source": [
    "# ★★ 모든 줄 읽기 + 리스트로 반환하기 ★★\n",
    "with open('data/ch09.txt', 'r', encoding='utf-8') as f :\n",
    "    line = f.readlines()\n",
    "    print(line)\n",
    "    print(''.join(line))"
   ]
  },
  {
   "cell_type": "code",
   "execution_count": null,
   "id": "63e84e6b",
   "metadata": {},
   "outputs": [],
   "source": [
    "# 모든 줄 읽기\n",
    "with open('data/ch09.txt', 'r', encoding='utf-8') as f :\n",
    "    line = f.read()\n",
    "    print(line)"
   ]
  },
  {
   "cell_type": "markdown",
   "id": "38da767b",
   "metadata": {},
   "source": [
    "# 2절 pickle 파일에 데이터 저장하고 불러오기\n",
    "\n",
    "## 2.1 형식이 있는 txt 데이터 불러오기"
   ]
  },
  {
   "cell_type": "code",
   "execution_count": null,
   "id": "3b34499b",
   "metadata": {},
   "outputs": [],
   "source": [
    "class Member :\n",
    "    __count = 0\n",
    "    def __init__(self, name, age, email, address) :\n",
    "        self.name = name\n",
    "        self.age = age\n",
    "        self.email = email\n",
    "        self.address = address\n",
    "        Member._Member__count += 1\n",
    "        \n",
    "    def count_member(self) :\n",
    "        return Member._Member__count\n",
    "    \n",
    "    def __str__(self) :\n",
    "        return f'{self.name}, {\"성년\" if self.age >=20 else \"미성년\"}, {self.email}, {self.address}'\n",
    "    \n",
    "    def as_dict(self) : # 딕셔너리 객체로 반환 __dict__\n",
    "        return {'name' : self.name, 'age' : self.age, 'email' : self.email, 'address' : self.address}\n",
    "    \n",
    "    def __eq__(self, other) : # == 연산 간 체크하는 내용(Object 기본 함수)\n",
    "        return self.name == other.name and \\\n",
    "                self.age == other.age and \\\n",
    "                self.email == other.email and \\\n",
    "                self.address == other.address"
   ]
  },
  {
   "cell_type": "code",
   "execution_count": null,
   "id": "0d087358",
   "metadata": {},
   "outputs": [],
   "source": [
    "user1 = Member('홍',20,'a@a.com','신림동')\n",
    "user2 = Member('홍',20,'a@a.com','신림동')\n",
    "print(user1 == user2) # user1 에게 할당된 주소와 값 != user2에게 할당된 주소와 값\n",
    "print(user1.__eq__(user2)) # 같은 내용이면 True가 되도록 하고 싶음"
   ]
  },
  {
   "cell_type": "code",
   "execution_count": null,
   "id": "bcab6ff8",
   "metadata": {},
   "outputs": [],
   "source": [
    "# 형식이 있는 txt 파일 내용을 Member 객체 리스트(피클로 저장하기 위함), 딕셔너리 리스트(DataFrame)로 저장\n",
    "user_list = [] # Member list\n",
    "user_dict = [] # 딕셔너리 list\n",
    "with open('data/ch09_member.txt', 'r', encoding='utf-8') as txt_file :\n",
    "    lines = txt_file.readlines()\n",
    "# print(lines) : 리스트 속 개인정보 문장이 3개 들어있는 형태\n",
    "for line in lines :\n",
    "    data = line.split(', ')\n",
    "    # print(data)\n",
    "    name = data[0].strip()\n",
    "    age = int(data[1].strip())\n",
    "    email = data[2].strip()\n",
    "    address = data[3].strip()\n",
    "    user = Member(name,age,email,address)\n",
    "    user_list.append(user)\n",
    "    # user_dict.append(user.as_dict())\n",
    "    user_dict.append(user.__dict__)"
   ]
  },
  {
   "cell_type": "code",
   "execution_count": null,
   "id": "99f4d871",
   "metadata": {},
   "outputs": [],
   "source": [
    "print(user_dict)\n",
    "print(user_list)\n",
    "for i in user_list : # Member 클래스를 정의할 때 __str__(self)에 정의한 return값이 반환되서 확인이 가능하다.\n",
    "    print(i)"
   ]
  },
  {
   "cell_type": "markdown",
   "id": "47505f66",
   "metadata": {},
   "source": [
    "## 2.2 피클링\n",
    "- 객체 리스트(user_list) -> 피클 파일로 쓰기\n",
    "- 피클 파일을 읽기 -> 객체 리스트(load_user_list)"
   ]
  },
  {
   "cell_type": "code",
   "execution_count": null,
   "id": "8d317471",
   "metadata": {},
   "outputs": [],
   "source": [
    "# 피클링을 이용한 객체를 저장하기\n",
    "# user_list를 피클로 저장하기(쓰기)\n",
    "# 오직 파이썬에서만 읽을 수 있는 구조\n",
    "import pickle\n",
    "with open('data/ch09_member.data', 'wb') as f : # txt파일이 아니니까 wb 바이너리 모드로!\n",
    "    pickle.dump(user_list, f)"
   ]
  },
  {
   "cell_type": "code",
   "execution_count": null,
   "id": "376d2908",
   "metadata": {},
   "outputs": [],
   "source": [
    "# 피클링을 이용한 파일에서 객체 데이터로 읽기\n",
    "# load_user_list\n",
    "with open('data/ch09_member.data', 'rb') as f : # txt파일이 아니니까 wb 바이너리 모드로!\n",
    "    load_user_list = pickle.load(f)"
   ]
  },
  {
   "cell_type": "code",
   "execution_count": null,
   "id": "7148ebe2",
   "metadata": {},
   "outputs": [],
   "source": [
    "load_user_list == user_list"
   ]
  },
  {
   "cell_type": "code",
   "execution_count": null,
   "id": "170fd387",
   "metadata": {},
   "outputs": [],
   "source": [
    "# ★★ 코드 멋지게 풀어낸 방법 ★★\n",
    "for idx, (user, load_user) in enumerate(zip(load_user_list,user_list)) : # zip : (a,b) 튜플로 묶어준다\n",
    "    print(idx, user)\n",
    "    print(idx, load_user)"
   ]
  },
  {
   "cell_type": "code",
   "execution_count": null,
   "id": "0bead4ea",
   "metadata": {},
   "outputs": [],
   "source": [
    "for i in range(len(user_list)) :\n",
    "    print(i, user_list[i])\n",
    "    print(i, load_user_list[i])"
   ]
  },
  {
   "cell_type": "code",
   "execution_count": null,
   "id": "2d0622bb",
   "metadata": {},
   "outputs": [],
   "source": [
    "# 데이터가 모두 같은 지 체크할 때 사용하는 all 함수\n",
    "result = []\n",
    "for user, load_user in zip(user_list, load_user_list) :\n",
    "    result.append(user == load_user)\n",
    "print(result)\n",
    "print(all(result))\n",
    "# 더 간략하게 아래와 같이 표현하면 된다.\n",
    "all(user == load_user for (user, load_user) in zip(load_user_list,user_list))"
   ]
  },
  {
   "cell_type": "markdown",
   "id": "a34aa33b",
   "metadata": {},
   "source": [
    "# 3절 csv파일에 데이터 저장하고 불러오기\n",
    "- csv 파일을 리스트 데이터로 읽기 csv <-> 리스트데이터 3.1 / 3.2\n",
    "- csv 파일을 딕셔너리 데이터로 읽기 csv <-> 딕셔너리리스트 3.3 / 3.4"
   ]
  },
  {
   "cell_type": "markdown",
   "id": "184aa473",
   "metadata": {},
   "source": [
    "## 3.1 reader : csv파일 -> 리스트데이터"
   ]
  },
  {
   "cell_type": "code",
   "execution_count": null,
   "id": "2f97b3de",
   "metadata": {},
   "outputs": [],
   "source": [
    "# \"\"(따옴표)가 없는 데이터는 numeric으로 csv.reader(f, quoting = csv.QUOTE_NONNUMERIC)\n",
    "import csv # csv파일을 다루는 lib\n",
    "with open('data/ch09_member1.csv', 'r', encoding='utf-8') as f :\n",
    "    reader = csv.reader(f, quoting = csv.QUOTE_NONNUMERIC) # 한 줄씩 읽고 리스트로 만들어준다. ','을 기준으로, strip()까지 해준다.\n",
    "    result = list(reader) # 만약 여기서 사용하던 걸 밖에서 쓰려면 할당해서 가져와야한다\n",
    "print(result)"
   ]
  },
  {
   "cell_type": "markdown",
   "id": "161d0e39",
   "metadata": {},
   "source": [
    "## 3.2 writer : 리스트데이터 -> csv파일"
   ]
  },
  {
   "cell_type": "code",
   "execution_count": null,
   "id": "799302bd",
   "metadata": {},
   "outputs": [],
   "source": [
    "import csv\n",
    "list_data = [['홍길동', 20, 'kildong@hong.com', '서울시 관악구'], \n",
    "             ['김길동', 40, 'kimdong@hong.com', '서울시 영등포구'], \n",
    "             ['신길동', 30, 'sindong@hong.com', '서울시 동작구']]\n",
    "\n",
    "with open('data/ch09_member1_write.csv', 'a', newline='', encoding='utf-8') as f :\n",
    "    writer = csv.writer(f)\n",
    "    writer.writerows(list_data)"
   ]
  },
  {
   "cell_type": "code",
   "execution_count": null,
   "id": "050292c3",
   "metadata": {},
   "outputs": [],
   "source": [
    "with open('data/ch09_member1_write.csv', 'w', newline='', encoding='utf-8') as f :\n",
    "    writer = csv.writer(f,quoting = csv.QUOTE_NONNUMERIC)\n",
    "    writer.writerows(list_data)"
   ]
  },
  {
   "cell_type": "markdown",
   "id": "74bdb71d",
   "metadata": {},
   "source": [
    "## 3.3 DictReader : csv -> 딕셔너리리스트"
   ]
  },
  {
   "cell_type": "code",
   "execution_count": null,
   "id": "fe1e9ced",
   "metadata": {},
   "outputs": [],
   "source": [
    "# 만약 DataReader 메서드가 없었다면 아래와 같은 긴 과정이 필요하다."
   ]
  },
  {
   "cell_type": "code",
   "execution_count": null,
   "id": "fd9c8937",
   "metadata": {},
   "outputs": [],
   "source": [
    "# \"\"(따옴표)가 없는 데이터는 numeric으로 csv.reader(f, quoting = csv.QUOTE_NONNUMERIC)\n",
    "import csv # csv파일을 다루는 lib\n",
    "with open('data/ch09_member1.csv', 'r', encoding='utf-8') as f :\n",
    "    reader = csv.reader(f, quoting = csv.QUOTE_NONNUMERIC) # 한 줄씩 읽고 리스트로 만들어준다. ','을 기준으로, strip()까지 해준다.\n",
    "    result = list(reader) # 만약 여기서 사용하던 걸 밖에서 쓰려면 할당해서 가져와야한다\n",
    "# print(result)\n",
    "dict_list = []\n",
    "for data in result :\n",
    "    dict_list.append(\n",
    "        {\n",
    "        'name' : data[0],\n",
    "        'age' : data[1],\n",
    "        'email' : data[2],\n",
    "        'address' : data[3],\n",
    "        }\n",
    "        )\n",
    "print(dict_list)"
   ]
  },
  {
   "cell_type": "code",
   "execution_count": null,
   "id": "bc5f8719",
   "metadata": {},
   "outputs": [],
   "source": [
    "# DictReader 한방에 해결\n",
    "# 헤더가 없으면 만들어서 넣어주면 된다. header = ['name', 'age', 'email', 'address']\n",
    "# \"\"(따옴표)가 없는 데이터는 numeric으로 csv.reader(f, quoting = csv.QUOTE_NONNUMERIC)\n",
    "\n",
    "import csv # csv파일을 다루는 lib\n",
    "header = ['name', 'age', 'email', 'address']\n",
    "with open('data/ch09_member1.csv', 'r', encoding='utf-8') as f :\n",
    "    reader = csv.DictReader(f, fieldnames=header, quoting = csv.QUOTE_NONNUMERIC) # 한 줄씩 읽고 리스트로 만들어준다. ','을 기준으로, strip()까지 해준다.\n",
    "    result = list(reader) # 만약 여기서 사용하던 걸 밖에서 쓰려면 할당해서 가져와야한다\n",
    "print(result)"
   ]
  },
  {
   "cell_type": "code",
   "execution_count": null,
   "id": "e4687f23",
   "metadata": {},
   "outputs": [],
   "source": [
    "with open('data/ch09_member3.csv',encoding='utf-8') as f :\n",
    "    dict_reader = csv.DictReader(f)\n",
    "    dict_list = list(dict_reader)\n",
    "print(dict_list)\n",
    "for row in dict_list :\n",
    "    if row['job'] is None :\n",
    "        print(row['name'], row['age'], row['email'], row['address'])\n",
    "    else :\n",
    "        print(row['name'], row['age'], row['email'], row['address'], row['job'])"
   ]
  },
  {
   "cell_type": "code",
   "execution_count": null,
   "id": "75ec5477",
   "metadata": {},
   "outputs": [],
   "source": [
    "# 헤더가 없는 csv 파일(ch09_member1-cp.csv)을 딕셔너리로 읽기\n",
    "header = ['name', 'age','email','address','job']\n",
    "with open('data/ch09_member1-cp.csv') as f :\n",
    "    dict_reader = csv.DictReader(f, fieldnames=header) # 포인터, stream객체 상태 사용하고 나면 with문에 의해 close()\n",
    "    print(list(dict_reader))\n",
    "    for row in dict_reader : # close()되어버림\n",
    "        print(1)\n",
    "        print(row)"
   ]
  },
  {
   "cell_type": "code",
   "execution_count": null,
   "id": "d076a926",
   "metadata": {},
   "outputs": [],
   "source": [
    "# 헤더가 없는 csv 파일(ch09_member1-cp.csv)을 딕셔너리로 읽기\n",
    "header = ['name', 'age','email','address','job']\n",
    "with open('data/ch09_member1-cp.csv') as f :\n",
    "    dict_reader = csv.DictReader(f, fieldnames=header) # 포인터, stream객체 상태 사용하고 나면 with문에 의해 close()\n",
    "    # 사용하려면 변수에 할당해야한다.\n",
    "    result = list(dict_reader)\n",
    "print(result)"
   ]
  },
  {
   "cell_type": "code",
   "execution_count": null,
   "id": "b212d436",
   "metadata": {},
   "outputs": [],
   "source": [
    "# 헤더가 없는 csv 파일(ch09_member1-cp.csv)을 딕셔너리로 읽기\n",
    "header = ['name', 'age','email','address','job']\n",
    "with open('data/ch09_member1-cp.csv') as f :\n",
    "    dict_reader = list(csv.DictReader(f, fieldnames=header) )\n",
    "print(dict_reader)"
   ]
  },
  {
   "cell_type": "code",
   "execution_count": null,
   "id": "2e591b1d",
   "metadata": {},
   "outputs": [],
   "source": [
    "# 헤더가 없는 csv 파일(ch09_member1-cp.csv)을 딕셔너리로 읽기\n",
    "header = ['name', 'age','email','address']\n",
    "with open('data/ch09_member1-cp.csv') as f :\n",
    "    dict_reader = list(csv.DictReader(f, fieldnames=header,\n",
    "                                     restkey='Job'))\n",
    "print(dict_reader)"
   ]
  },
  {
   "cell_type": "markdown",
   "id": "a2df78fc",
   "metadata": {},
   "source": [
    "## 3.4 DictWriter : 딕셔너리리스트 -> csv"
   ]
  },
  {
   "cell_type": "code",
   "execution_count": null,
   "id": "2301a894",
   "metadata": {},
   "outputs": [],
   "source": [
    "user1 = {'name' : '홍길동', 'age' : 22, 'email' : 'a@a.com', 'address' : '신림동'}\n",
    "user2 = {'name' : '신길동', 'age' : 32, 'email' : 'b@b.com', 'address' : '신갈동'}\n",
    "user3 = {'name' : '홍길숙', 'age' : 42, 'email' : 'c@c.com', 'address' : '신원동'}\n",
    "user_list = [user1,user2,user3]\n",
    "fieldnames = list(user1.keys())"
   ]
  },
  {
   "cell_type": "code",
   "execution_count": null,
   "id": "6950adde",
   "metadata": {},
   "outputs": [],
   "source": [
    "with open('data/ch09_member4.csv', 'a', newline='', encoding='utf-8') as f :\n",
    "    dict_write = csv.DictWriter(f, fieldnames=fieldnames)\n",
    "    dict_write.writeheader() # header 쓰기\n",
    "    dict_write.writerows(user_list)"
   ]
  },
  {
   "cell_type": "markdown",
   "id": "53d01675",
   "metadata": {},
   "source": [
    "### 참고자료 : csv <-> 데이터프레임"
   ]
  },
  {
   "cell_type": "code",
   "execution_count": null,
   "id": "b894b1a3",
   "metadata": {
    "scrolled": true
   },
   "outputs": [],
   "source": [
    "import pandas as pd\n",
    "df = pd.DataFrame(pd.read_pickle('data/ch09_member.data'))\n",
    "df2 = pd.DataFrame(pd.read_csv('data/ch09_member4.csv'))\n",
    "print(df)\n",
    "df2.to_csv('data/data_check.csv')"
   ]
  },
  {
   "cell_type": "markdown",
   "id": "51c98d48",
   "metadata": {},
   "source": [
    "# 4절 JSON 데이터 저장하고 불러오기(dump, load)\n",
    "- 딕셔너리 리스트 <-> JSON 파일(기본)\n",
    "- 객체리스트 <-> JSON 파일\n",
    "\n",
    "## 4.1 dump : 파일 출력\n",
    "- 딕셔너리 리스트 -> JSON 파일(기본)\n",
    "- 객체리스트 -> JSON 파일"
   ]
  },
  {
   "cell_type": "code",
   "execution_count": null,
   "id": "12067407",
   "metadata": {},
   "outputs": [],
   "source": [
    "data = [{\n",
    "        'name': '홍길동', \n",
    "        'age': 20, \n",
    "        'email': 'kildong@hong.com', \n",
    "        'address': '서울'},\n",
    "        {'name': '신길동', \n",
    "         'age': 30, \n",
    "         'email': 'shinkil@hong.com', \n",
    "         'address': '인천'\n",
    "        }]\n",
    "data"
   ]
  },
  {
   "cell_type": "code",
   "execution_count": null,
   "id": "0a311e8f",
   "metadata": {},
   "outputs": [],
   "source": [
    "# ensure_ascii 매개변수\n",
    "    # True : 비ASCII문은 유니코드 형태로 저장\n",
    "    # False : 비 ASCII문자 원래 형태로 저장\n",
    "import json\n",
    "with open('data/ch09_member.json', 'w', encoding='utf-8') as jsonfile :\n",
    "    json.dump(data, # 딕셔너리 리스트\n",
    "             jsonfile ,# 스트림 객체\n",
    "             ensure_ascii=False,\n",
    "             indent='\\t') # 들여쓰기"
   ]
  },
  {
   "cell_type": "code",
   "execution_count": 9,
   "id": "81440386",
   "metadata": {},
   "outputs": [],
   "source": [
    "class Member :\n",
    "    __count = 0\n",
    "    def __init__(self, name, age, email, address) :\n",
    "        self.name = name\n",
    "        self.age = age\n",
    "        self.email = email\n",
    "        self.address = address\n",
    "        Member._Member__count += 1\n",
    "        \n",
    "    def count_member(self) :\n",
    "        return Member._Member__count\n",
    "    \n",
    "    def __str__(self) :\n",
    "        return f'{self.name}, {self.age}, {self.email}, {self.address}'\n",
    "    \n",
    "    def as_dict(self) : # 딕셔너리 객체로 반환 __dict__\n",
    "        return {'name' : self.name, 'age' : self.age, 'email' : self.email, 'address' : self.address}\n",
    "    \n",
    "    def __eq__(self, other) : # == 연산 간 체크하는 내용(Object 기본 함수)\n",
    "        if isinstance(other, Member) :\n",
    "            return self.__str__() == other.__str__()\n",
    "        else : \n",
    "            return False"
   ]
  },
  {
   "cell_type": "code",
   "execution_count": 24,
   "id": "1a759d7c",
   "metadata": {},
   "outputs": [
    {
     "name": "stdout",
     "output_type": "stream",
     "text": [
      "False\n",
      "False\n"
     ]
    }
   ],
   "source": [
    "user1 = Member('홍길동',22,'a@a.com','신림동')\n",
    "user2 = Member('신길동',22,'a@a.com','신림동')\n",
    "print(user1.__eq__(user2))\n",
    "print(user1 == user2)"
   ]
  },
  {
   "cell_type": "code",
   "execution_count": 25,
   "id": "82e4fa15",
   "metadata": {},
   "outputs": [],
   "source": [
    "member_list = [user1, user2, Member('김길동',22,'a@a.com','신림동')]"
   ]
  },
  {
   "cell_type": "code",
   "execution_count": 26,
   "id": "6ed1a380",
   "metadata": {},
   "outputs": [],
   "source": [
    "import json\n",
    "with open('data/ch09_member00.json','w',encoding='utf-8') as jsonfile :\n",
    "    json.dump(member_list,\n",
    "             jsonfile,\n",
    "             ensure_ascii=False,\n",
    "             indent='\\t',\n",
    "             default=Member.as_dict) # 객체를 딕셔너리로 return하는 인스턴스 함수"
   ]
  },
  {
   "cell_type": "markdown",
   "id": "3dda5c17",
   "metadata": {},
   "source": [
    "## 4.2 load : 파일 입력\n",
    "- json파일 -> 딕셔너리 리스트 * 일반적\n",
    "                ↓\n",
    "- json파일 -> 객체리스트"
   ]
  },
  {
   "cell_type": "code",
   "execution_count": 29,
   "id": "7ba27b05",
   "metadata": {},
   "outputs": [
    {
     "name": "stdout",
     "output_type": "stream",
     "text": [
      "[{'name': '홍길동', 'age': 22, 'email': 'a@a.com', 'address': '신림동'}, {'name': '신길동', 'age': 22, 'email': 'a@a.com', 'address': '신림동'}, {'name': '김길동', 'age': 22, 'email': 'a@a.com', 'address': '신림동'}]\n"
     ]
    }
   ],
   "source": [
    "import json\n",
    "with open('data/ch09_member00.json','r',encoding='utf-8') as jsonfile :\n",
    "    json_loader = json.load(jsonfile)\n",
    "    result = list(json_loader)\n",
    "print(result)"
   ]
  },
  {
   "cell_type": "code",
   "execution_count": 34,
   "id": "e782af28",
   "metadata": {},
   "outputs": [
    {
     "name": "stdout",
     "output_type": "stream",
     "text": [
      "홍길동, 22, a@a.com, 신림동\n"
     ]
    }
   ],
   "source": [
    "def as_member(dic) :\n",
    "    '''매개변수로 딕셔너리를 입력받아 Member 객체를 리턴'''\n",
    "    return Member(dic.get('name'),dic.get('age'),dic.get('email'),dic.get('address'))\n",
    "member = as_member({'name': '홍길동', 'age': 22, 'email': 'a@a.com', 'address': '신림동'})\n",
    "print(member)"
   ]
  },
  {
   "cell_type": "code",
   "execution_count": 36,
   "id": "64f6c910",
   "metadata": {},
   "outputs": [
    {
     "data": {
      "text/plain": [
       "[{'name': '홍길동', 'age': 22, 'email': 'a@a.com', 'address': '신림동'},\n",
       " {'name': '신길동', 'age': 22, 'email': 'a@a.com', 'address': '신림동'},\n",
       " {'name': '김길동', 'age': 22, 'email': 'a@a.com', 'address': '신림동'}]"
      ]
     },
     "execution_count": 36,
     "metadata": {},
     "output_type": "execute_result"
    }
   ],
   "source": [
    "with open('data/ch09_member00.json', 'r', encoding='utf-8') as f :\n",
    "    load_data = json.load(f)\n",
    "load_data"
   ]
  },
  {
   "cell_type": "code",
   "execution_count": 40,
   "id": "3dde661d",
   "metadata": {},
   "outputs": [
    {
     "name": "stdout",
     "output_type": "stream",
     "text": [
      "홍길동, 20, kildong@hong.com, 서울\n",
      "신길동, 30, shinkil@hong.com, 인천\n"
     ]
    }
   ],
   "source": [
    "with open('data/ch09_member.json', 'r', encoding='utf-8') as f :\n",
    "    load_data_list = json.load(f, object_hook=as_member)\n",
    "for mem in load_data_list :\n",
    "    print(mem)"
   ]
  },
  {
   "cell_type": "markdown",
   "id": "3a917100",
   "metadata": {},
   "source": [
    "### 참고자료 : JSON -> 데이터프레임"
   ]
  },
  {
   "cell_type": "code",
   "execution_count": 41,
   "id": "f0eca404",
   "metadata": {},
   "outputs": [
    {
     "data": {
      "text/html": [
       "<div>\n",
       "<style scoped>\n",
       "    .dataframe tbody tr th:only-of-type {\n",
       "        vertical-align: middle;\n",
       "    }\n",
       "\n",
       "    .dataframe tbody tr th {\n",
       "        vertical-align: top;\n",
       "    }\n",
       "\n",
       "    .dataframe thead th {\n",
       "        text-align: right;\n",
       "    }\n",
       "</style>\n",
       "<table border=\"1\" class=\"dataframe\">\n",
       "  <thead>\n",
       "    <tr style=\"text-align: right;\">\n",
       "      <th></th>\n",
       "      <th>name</th>\n",
       "      <th>age</th>\n",
       "      <th>email</th>\n",
       "      <th>address</th>\n",
       "    </tr>\n",
       "  </thead>\n",
       "  <tbody>\n",
       "    <tr>\n",
       "      <th>0</th>\n",
       "      <td>홍길동</td>\n",
       "      <td>22</td>\n",
       "      <td>a@a.com</td>\n",
       "      <td>신림동</td>\n",
       "    </tr>\n",
       "    <tr>\n",
       "      <th>1</th>\n",
       "      <td>신길동</td>\n",
       "      <td>22</td>\n",
       "      <td>a@a.com</td>\n",
       "      <td>신림동</td>\n",
       "    </tr>\n",
       "    <tr>\n",
       "      <th>2</th>\n",
       "      <td>김길동</td>\n",
       "      <td>22</td>\n",
       "      <td>a@a.com</td>\n",
       "      <td>신림동</td>\n",
       "    </tr>\n",
       "  </tbody>\n",
       "</table>\n",
       "</div>"
      ],
      "text/plain": [
       "  name  age    email address\n",
       "0  홍길동   22  a@a.com     신림동\n",
       "1  신길동   22  a@a.com     신림동\n",
       "2  김길동   22  a@a.com     신림동"
      ]
     },
     "execution_count": 41,
     "metadata": {},
     "output_type": "execute_result"
    }
   ],
   "source": [
    "import pandas as pd\n",
    "pd.read_json('data/ch09_member00.json')\n",
    "# pd.함수() : encoding = 'utf-8' 기본값으로 사용한다.\n",
    "# open(파일, 모드='r', encoding='cp949')"
   ]
  },
  {
   "cell_type": "code",
   "execution_count": null,
   "id": "2aa3ce20",
   "metadata": {},
   "outputs": [],
   "source": []
  }
 ],
 "metadata": {
  "kernelspec": {
   "display_name": "Python 3 (ipykernel)",
   "language": "python",
   "name": "python3"
  },
  "language_info": {
   "codemirror_mode": {
    "name": "ipython",
    "version": 3
   },
   "file_extension": ".py",
   "mimetype": "text/x-python",
   "name": "python",
   "nbconvert_exporter": "python",
   "pygments_lexer": "ipython3",
   "version": "3.10.9"
  },
  "toc": {
   "base_numbering": 1,
   "nav_menu": {},
   "number_sections": false,
   "sideBar": true,
   "skip_h1_title": false,
   "title_cell": "Table of Contents",
   "title_sidebar": "Contents",
   "toc_cell": false,
   "toc_position": {
    "height": "calc(100% - 180px)",
    "left": "10px",
    "top": "150px",
    "width": "165px"
   },
   "toc_section_display": true,
   "toc_window_display": true
  }
 },
 "nbformat": 4,
 "nbformat_minor": 5
}
