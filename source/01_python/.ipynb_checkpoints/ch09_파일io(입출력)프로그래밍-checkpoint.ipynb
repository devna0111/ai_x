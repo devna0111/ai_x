{
 "cells": [
  {
   "cell_type": "code",
   "execution_count": 1,
   "id": "3d07ecdc",
   "metadata": {},
   "outputs": [
    {
     "data": {
      "text/html": [
       "\n",
       "<style>\n",
       "div.container{width:86% !important;}\n",
       "div.cell.code_cell.rendered{width:100%;}\n",
       "div.CodeMirror {font-family:Consolas; font-size:12pt;}\n",
       "div.output {font-size:12pt; font-weight:bold;}\n",
       "div.input {font-family:Consolas; fo\n",
       "nt-size:12pt;}\n",
       "div.prompt {min-width:70px;}\n",
       "div#toc-wrapper{padding-top:130px;}\n",
       "div.text_cell_render ul li{font-size:12pt;padding:5px;}\n",
       "table.dataframe{font-size:15px;}\n",
       "</style>\n"
      ],
      "text/plain": [
       "<IPython.core.display.HTML object>"
      ]
     },
     "metadata": {},
     "output_type": "display_data"
    }
   ],
   "source": [
    "from IPython.display import display, HTML\n",
    "display(HTML(\"\"\"\n",
    "<style>\n",
    "div.container{width:86% !important;}\n",
    "div.cell.code_cell.rendered{width:100%;}\n",
    "div.CodeMirror {font-family:Consolas; font-size:12pt;}\n",
    "div.output {font-size:12pt; font-weight:bold;}\n",
    "div.input {font-family:Consolas; fo\n",
    "nt-size:12pt;}\n",
    "div.prompt {min-width:70px;}\n",
    "div#toc-wrapper{padding-top:130px;}\n",
    "div.text_cell_render ul li{font-size:12pt;padding:5px;}\n",
    "table.dataframe{font-size:15px;}\n",
    "</style>\n",
    "\"\"\"))"
   ]
  },
  {
   "cell_type": "markdown",
   "id": "80738d5d",
   "metadata": {},
   "source": [
    "<b><font size = 5, color = 'red'> ch09 파일 io(입출력) 프로그래밍 </font></b>\n",
    "* 파일 : txt, pickle, csv, json, hdf5(h5)\n",
    "\n",
    "# 1절 txt파일에 데이터 저장하고 불러오기\n",
    "- 히스토리 남기는 용도"
   ]
  },
  {
   "cell_type": "markdown",
   "id": "522a3fae",
   "metadata": {},
   "source": [
    "교육목적으로 아래와 같은 코드 중 open과 close만 활용"
   ]
  },
  {
   "cell_type": "code",
   "execution_count": null,
   "id": "7d0a18c4",
   "metadata": {},
   "outputs": [],
   "source": [
    "try :\n",
    "    f= open('data/ch09.txt', 'w') # write stream 객체\n",
    "    # 데이터 출력\n",
    "except Exception as e:\n",
    "    print(e)\n",
    "finally :\n",
    "    f.close()"
   ]
  },
  {
   "cell_type": "code",
   "execution_count": null,
   "id": "f919c57c",
   "metadata": {},
   "outputs": [],
   "source": [
    "f= open('data/ch09.txt', 'w')\n",
    "print('쓰기 가능 여부 체크', f.writable())"
   ]
  },
  {
   "cell_type": "code",
   "execution_count": null,
   "id": "4185523e",
   "metadata": {},
   "outputs": [],
   "source": [
    "f.write('Hello\\nWorld')\n",
    "f.close() # close() 하지 않으면 내용 저장 X"
   ]
  },
  {
   "cell_type": "markdown",
   "id": "16e32939",
   "metadata": {},
   "source": [
    "open, close 실수가 있을 수 있으니 with문을 사용하자"
   ]
  },
  {
   "cell_type": "code",
   "execution_count": null,
   "id": "7adf2002",
   "metadata": {},
   "outputs": [],
   "source": [
    "# mode | 'r' 또는 'rt' : text 읽기 모드 => 파일이 없으면 예외 발생\n",
    "#        'rb' 바이너리 읽기 모드(r 모드가 안먹히면 rb)\n",
    "#        'w' 또는 'wt' : text 쓰기 모드 => 덮어쓰기한다(파일이 있으면 덮어쓰기, 파일이 없으면 파일 생성), 폴더위치가 정확하지 않으면 예외\n",
    "#        'wb' 바이너리 쓰기 모드\n",
    "#        'a' 또는 'at' : text append 모드(파일이 있으면 append, 파일이 없으면 파일 생성)\n",
    "#        읽기 모드에서 파일이 없으면 예외 발생 // 쓰기 모드에서 폴더가 없으면 예외 발생\n",
    "# encoding\n",
    "    # euc-kr (한글 완성형) 믜 X\n",
    "    # cp949 (확장된 한글 완성형) : open()함수 기본 인코딩 방식(windows) \n",
    "    # utf-8 (한글 조합형) : mac, linux에서는 utf-8 방식, 주피터노트북 기본\n",
    "with open('data/ch09.txt', 'w') as f :\n",
    "    print('쓰기 가능 여부 체크', f.writable())\n",
    "    f.write('Hello\\nPython')"
   ]
  },
  {
   "cell_type": "markdown",
   "id": "579ff9b0",
   "metadata": {},
   "source": [
    "mode = 'w' 활용 가능한 모드\n",
    "```\n",
    "'r'       open for reading (default) => 'rt' : text모드로 열겠다 / 파일이 있는 경우 예외, 있는 경우 text 열기 모드\n",
    "'w'       open for writing, truncating the file first\n",
    "'x'       create a new file and open it for writing\n",
    "'a'       open for writing, appending to the end of the file if it exists\n",
    "'b'       binary mode\n",
    "'t'       text mode (default)\n",
    "'+'       open a disk file for updating (reading and writing)\n",
    "'U'       universal newline mode (deprecated)\n",
    "```"
   ]
  },
  {
   "cell_type": "code",
   "execution_count": null,
   "id": "8bca8f9d",
   "metadata": {},
   "outputs": [],
   "source": [
    "with open('data/ch09.txt', 'a', encoding='utf-8') as f :\n",
    "    # 여러줄 저장하는 방법\n",
    "    # 1방법\n",
    "    f.write('\\n1방법\\n')\n",
    "    f.write('홍길동, 33, 아무동9\\n')\n",
    "    f.write('김길동, 22, 아무동8\\n')\n",
    "    # 2방법\n",
    "    textlist = ['2방법\\n','홍길동, 33, 아무동9\\n','김길동, 22, 아무동8\\n']\n",
    "    for i in textlist :\n",
    "        f.write(i)\n",
    "    # ★★ 3방법 ★★\n",
    "    textlist2 = ['3방법\\n','홍길동, 33, 아무동9\\n','김길동, 22, 아무동8\\n']\n",
    "    f.writelines(textlist2)"
   ]
  },
  {
   "cell_type": "code",
   "execution_count": null,
   "id": "9f3e997e",
   "metadata": {},
   "outputs": [],
   "source": [
    "# 한 줄씩 읽기\n",
    "with open('data/ch09.txt', 'r', encoding='utf-8') as f :\n",
    "    line = f.readline()\n",
    "    while line != '' :\n",
    "        print(line, end = '')\n",
    "        line = f.readline()"
   ]
  },
  {
   "cell_type": "code",
   "execution_count": null,
   "id": "cecb7d18",
   "metadata": {},
   "outputs": [],
   "source": [
    "# ★★ 모든 줄 읽기 + 리스트로 반환하기 ★★\n",
    "with open('data/ch09.txt', 'r', encoding='utf-8') as f :\n",
    "    line = f.readlines()\n",
    "    print(line)\n",
    "    print(''.join(line))"
   ]
  },
  {
   "cell_type": "code",
   "execution_count": null,
   "id": "63e84e6b",
   "metadata": {},
   "outputs": [],
   "source": [
    "# 모든 줄 읽기\n",
    "with open('data/ch09.txt', 'r', encoding='utf-8') as f :\n",
    "    line = f.read()\n",
    "    print(line)"
   ]
  },
  {
   "cell_type": "markdown",
   "id": "38da767b",
   "metadata": {},
   "source": [
    "# 2절 pickle 파일에 데이터 저장하고 불러오기\n",
    "\n",
    "## 2.1 형식이 있는 txt 데이터 불러오기"
   ]
  },
  {
   "cell_type": "code",
   "execution_count": null,
   "id": "3b34499b",
   "metadata": {},
   "outputs": [],
   "source": [
    "class Member :\n",
    "    __count = 0\n",
    "    def __init__(self, name, age, email, address) :\n",
    "        self.name = name\n",
    "        self.age = age\n",
    "        self.email = email\n",
    "        self.address = address\n",
    "        Member._Member__count += 1\n",
    "        \n",
    "    def count_member(self) :\n",
    "        return Member._Member__count\n",
    "    \n",
    "    def __str__(self) :\n",
    "        return f'{self.name}, {\"성년\" if self.age >=20 else \"미성년\"}, {self.email}, {self.address}'\n",
    "    \n",
    "    def as_dict(self) : # 딕셔너리 객체로 반환 __dict__\n",
    "        return {'name' : self.name, 'age' : self.age, 'email' : self.email, 'address' : self.address}\n",
    "    \n",
    "    def __eq__(self, other) : # == 연산 간 체크하는 내용(Object 기본 함수)\n",
    "        return self.name == other.name and \\\n",
    "                self.age == other.age and \\\n",
    "                self.email == other.email and \\\n",
    "                self.address == other.address"
   ]
  },
  {
   "cell_type": "code",
   "execution_count": null,
   "id": "0d087358",
   "metadata": {},
   "outputs": [],
   "source": [
    "user1 = Member('홍',20,'a@a.com','신림동')\n",
    "user2 = Member('홍',20,'a@a.com','신림동')\n",
    "print(user1 == user2) # user1 에게 할당된 주소와 값 != user2에게 할당된 주소와 값\n",
    "print(user1.__eq__(user2)) # 같은 내용이면 True가 되도록 하고 싶음"
   ]
  },
  {
   "cell_type": "code",
   "execution_count": null,
   "id": "bcab6ff8",
   "metadata": {},
   "outputs": [],
   "source": [
    "# 형식이 있는 txt 파일 내용을 Member 객체 리스트(피클로 저장하기 위함), 딕셔너리 리스트(DataFrame)로 저장\n",
    "user_list = [] # Member list\n",
    "user_dict = [] # 딕셔너리 list\n",
    "with open('data/ch09_member.txt', 'r', encoding='utf-8') as txt_file :\n",
    "    lines = txt_file.readlines()\n",
    "# print(lines) : 리스트 속 개인정보 문장이 3개 들어있는 형태\n",
    "for line in lines :\n",
    "    data = line.split(', ')\n",
    "    # print(data)\n",
    "    name = data[0].strip()\n",
    "    age = int(data[1].strip())\n",
    "    email = data[2].strip()\n",
    "    address = data[3].strip()\n",
    "    user = Member(name,age,email,address)\n",
    "    user_list.append(user)\n",
    "    # user_dict.append(user.as_dict())\n",
    "    user_dict.append(user.__dict__)"
   ]
  },
  {
   "cell_type": "code",
   "execution_count": null,
   "id": "99f4d871",
   "metadata": {},
   "outputs": [],
   "source": [
    "print(user_dict)\n",
    "print(user_list)\n",
    "for i in user_list : # Member 클래스를 정의할 때 __str__(self)에 정의한 return값이 반환되서 확인이 가능하다.\n",
    "    print(i)"
   ]
  },
  {
   "cell_type": "markdown",
   "id": "47505f66",
   "metadata": {},
   "source": [
    "## 2.2 피클링\n",
    "- 객체 리스트(user_list) -> 피클 파일로 쓰기\n",
    "- 피클 파일을 읽기 -> 객체 리스트(load_user_list)"
   ]
  },
  {
   "cell_type": "code",
   "execution_count": null,
   "id": "8d317471",
   "metadata": {},
   "outputs": [],
   "source": [
    "# 피클링을 이용한 객체를 저장하기\n",
    "# user_list를 피클로 저장하기(쓰기)\n",
    "# 오직 파이썬에서만 읽을 수 있는 구조\n",
    "import pickle\n",
    "with open('data/ch09_member.data', 'wb') as f : # txt파일이 아니니까 wb 바이너리 모드로!\n",
    "    pickle.dump(user_list, f)"
   ]
  },
  {
   "cell_type": "code",
   "execution_count": null,
   "id": "376d2908",
   "metadata": {},
   "outputs": [],
   "source": [
    "# 피클링을 이용한 파일에서 객체 데이터로 읽기\n",
    "# load_user_list\n",
    "with open('data/ch09_member.data', 'rb') as f : # txt파일이 아니니까 wb 바이너리 모드로!\n",
    "    load_user_list = pickle.load(f)"
   ]
  },
  {
   "cell_type": "code",
   "execution_count": null,
   "id": "7148ebe2",
   "metadata": {},
   "outputs": [],
   "source": [
    "load_user_list == user_list"
   ]
  },
  {
   "cell_type": "code",
   "execution_count": null,
   "id": "170fd387",
   "metadata": {},
   "outputs": [],
   "source": [
    "# ★★ 코드 멋지게 풀어낸 방법 ★★\n",
    "for idx, (user, load_user) in enumerate(zip(load_user_list,user_list)) : # zip : (a,b) 튜플로 묶어준다\n",
    "    print(idx, user)\n",
    "    print(idx, load_user)"
   ]
  },
  {
   "cell_type": "code",
   "execution_count": null,
   "id": "0bead4ea",
   "metadata": {},
   "outputs": [],
   "source": [
    "for i in range(len(user_list)) :\n",
    "    print(i, user_list[i])\n",
    "    print(i, load_user_list[i])"
   ]
  },
  {
   "cell_type": "code",
   "execution_count": null,
   "id": "2d0622bb",
   "metadata": {},
   "outputs": [],
   "source": [
    "# 데이터가 모두 같은 지 체크할 때 사용하는 all 함수\n",
    "result = []\n",
    "for user, load_user in zip(user_list, load_user_list) :\n",
    "    result.append(user == load_user)\n",
    "print(result)\n",
    "print(all(result))\n",
    "# 더 간략하게 아래와 같이 표현하면 된다.\n",
    "all(user == load_user for (user, load_user) in zip(load_user_list,user_list))"
   ]
  },
  {
   "cell_type": "markdown",
   "id": "a34aa33b",
   "metadata": {},
   "source": [
    "# 3절 csv파일에 데이터 저장하고 불러오기\n",
    "- csv 파일을 리스트 데이터로 읽기 csv <-> 리스트데이터 3.1 / 3.2\n",
    "- csv 파일을 딕셔너리 데이터로 읽기 csv <-> 딕셔너리리스트 3.3 / 3.4"
   ]
  },
  {
   "cell_type": "markdown",
   "id": "184aa473",
   "metadata": {},
   "source": [
    "## 3.1 reader : csv파일 -> 리스트데이터"
   ]
  },
  {
   "cell_type": "code",
   "execution_count": null,
   "id": "2f97b3de",
   "metadata": {},
   "outputs": [],
   "source": [
    "# \"\"(따옴표)가 없는 데이터는 numeric으로 csv.reader(f, quoting = csv.QUOTE_NONNUMERIC)\n",
    "import csv # csv파일을 다루는 lib\n",
    "with open('data/ch09_member1.csv', 'r', encoding='utf-8') as f :\n",
    "    reader = csv.reader(f, quoting = csv.QUOTE_NONNUMERIC) # 한 줄씩 읽고 리스트로 만들어준다. ','을 기준으로, strip()까지 해준다.\n",
    "    result = list(reader) # 만약 여기서 사용하던 걸 밖에서 쓰려면 할당해서 가져와야한다\n",
    "print(result)"
   ]
  },
  {
   "cell_type": "markdown",
   "id": "161d0e39",
   "metadata": {},
   "source": [
    "## 3.2 writer : 리스트데이터 -> csv파일"
   ]
  },
  {
   "cell_type": "code",
   "execution_count": null,
   "id": "799302bd",
   "metadata": {},
   "outputs": [],
   "source": [
    "import csv\n",
    "list_data = [['홍길동', 20, 'kildong@hong.com', '서울시 관악구'], \n",
    "             ['김길동', 40, 'kimdong@hong.com', '서울시 영등포구'], \n",
    "             ['신길동', 30, 'sindong@hong.com', '서울시 동작구']]\n",
    "\n",
    "with open('data/ch09_member1_write.csv', 'a', newline='', encoding='utf-8') as f :\n",
    "    writer = csv.writer(f)\n",
    "    writer.writerows(list_data)"
   ]
  },
  {
   "cell_type": "code",
   "execution_count": null,
   "id": "050292c3",
   "metadata": {},
   "outputs": [],
   "source": [
    "with open('data/ch09_member1_write.csv', 'w', newline='', encoding='utf-8') as f :\n",
    "    writer = csv.writer(f,quoting = csv.QUOTE_NONNUMERIC)\n",
    "    writer.writerows(list_data)"
   ]
  },
  {
   "cell_type": "markdown",
   "id": "74bdb71d",
   "metadata": {},
   "source": [
    "## 3.3 DictReader : csv -> 딕셔너리리스트"
   ]
  },
  {
   "cell_type": "code",
   "execution_count": null,
   "id": "fe1e9ced",
   "metadata": {},
   "outputs": [],
   "source": [
    "# 만약 DataReader 메서드가 없었다면 아래와 같은 긴 과정이 필요하다."
   ]
  },
  {
   "cell_type": "code",
   "execution_count": null,
   "id": "fd9c8937",
   "metadata": {},
   "outputs": [],
   "source": [
    "# \"\"(따옴표)가 없는 데이터는 numeric으로 csv.reader(f, quoting = csv.QUOTE_NONNUMERIC)\n",
    "import csv # csv파일을 다루는 lib\n",
    "with open('data/ch09_member1.csv', 'r', encoding='utf-8') as f :\n",
    "    reader = csv.reader(f, quoting = csv.QUOTE_NONNUMERIC) # 한 줄씩 읽고 리스트로 만들어준다. ','을 기준으로, strip()까지 해준다.\n",
    "    result = list(reader) # 만약 여기서 사용하던 걸 밖에서 쓰려면 할당해서 가져와야한다\n",
    "# print(result)\n",
    "dict_list = []\n",
    "for data in result :\n",
    "    dict_list.append(\n",
    "        {\n",
    "        'name' : data[0],\n",
    "        'age' : data[1],\n",
    "        'email' : data[2],\n",
    "        'address' : data[3],\n",
    "        }\n",
    "        )\n",
    "print(dict_list)"
   ]
  },
  {
   "cell_type": "code",
   "execution_count": null,
   "id": "bc5f8719",
   "metadata": {},
   "outputs": [],
   "source": [
    "# DictReader 한방에 해결\n",
    "# 헤더가 없으면 만들어서 넣어주면 된다. header = ['name', 'age', 'email', 'address']\n",
    "# \"\"(따옴표)가 없는 데이터는 numeric으로 csv.reader(f, quoting = csv.QUOTE_NONNUMERIC)\n",
    "\n",
    "import csv # csv파일을 다루는 lib\n",
    "header = ['name', 'age', 'email', 'address']\n",
    "with open('data/ch09_member1.csv', 'r', encoding='utf-8') as f :\n",
    "    reader = csv.DictReader(f, fieldnames=header, quoting = csv.QUOTE_NONNUMERIC) # 한 줄씩 읽고 리스트로 만들어준다. ','을 기준으로, strip()까지 해준다.\n",
    "    result = list(reader) # 만약 여기서 사용하던 걸 밖에서 쓰려면 할당해서 가져와야한다\n",
    "print(result)"
   ]
  },
  {
   "cell_type": "code",
   "execution_count": null,
   "id": "e4687f23",
   "metadata": {},
   "outputs": [],
   "source": [
    "with open('data/ch09_member3.csv',encoding='utf-8') as f :\n",
    "    dict_reader = csv.DictReader(f)\n",
    "    dict_list = list(dict_reader)\n",
    "print(dict_list)\n",
    "for row in dict_list :\n",
    "    if row['job'] is None :\n",
    "        print(row['name'], row['age'], row['email'], row['address'])\n",
    "    else :\n",
    "        print(row['name'], row['age'], row['email'], row['address'], row['job'])"
   ]
  },
  {
   "cell_type": "code",
   "execution_count": null,
   "id": "75ec5477",
   "metadata": {},
   "outputs": [],
   "source": [
    "# 헤더가 없는 csv 파일(ch09_member1-cp.csv)을 딕셔너리로 읽기\n",
    "header = ['name', 'age','email','address','job']\n",
    "with open('data/ch09_member1-cp.csv') as f :\n",
    "    dict_reader = csv.DictReader(f, fieldnames=header) # 포인터, stream객체 상태 사용하고 나면 with문에 의해 close()\n",
    "    print(list(dict_reader))\n",
    "    for row in dict_reader : # close()되어버림\n",
    "        print(1)\n",
    "        print(row)"
   ]
  },
  {
   "cell_type": "code",
   "execution_count": null,
   "id": "d076a926",
   "metadata": {},
   "outputs": [],
   "source": [
    "# 헤더가 없는 csv 파일(ch09_member1-cp.csv)을 딕셔너리로 읽기\n",
    "header = ['name', 'age','email','address','job']\n",
    "with open('data/ch09_member1-cp.csv') as f :\n",
    "    dict_reader = csv.DictReader(f, fieldnames=header) # 포인터, stream객체 상태 사용하고 나면 with문에 의해 close()\n",
    "    # 사용하려면 변수에 할당해야한다.\n",
    "    result = list(dict_reader)\n",
    "print(result)"
   ]
  },
  {
   "cell_type": "code",
   "execution_count": null,
   "id": "b212d436",
   "metadata": {},
   "outputs": [],
   "source": [
    "# 헤더가 없는 csv 파일(ch09_member1-cp.csv)을 딕셔너리로 읽기\n",
    "header = ['name', 'age','email','address','job']\n",
    "with open('data/ch09_member1-cp.csv') as f :\n",
    "    dict_reader = list(csv.DictReader(f, fieldnames=header) )\n",
    "print(dict_reader)"
   ]
  },
  {
   "cell_type": "code",
   "execution_count": null,
   "id": "2e591b1d",
   "metadata": {},
   "outputs": [],
   "source": [
    "# 헤더가 없는 csv 파일(ch09_member1-cp.csv)을 딕셔너리로 읽기\n",
    "header = ['name', 'age','email','address']\n",
    "with open('data/ch09_member1-cp.csv') as f :\n",
    "    dict_reader = list(csv.DictReader(f, fieldnames=header,\n",
    "                                     restkey='Job'))\n",
    "print(dict_reader)"
   ]
  },
  {
   "cell_type": "markdown",
   "id": "a2df78fc",
   "metadata": {},
   "source": [
    "## 3.4 DictWriter : 딕셔너리리스트 -> csv"
   ]
  },
  {
   "cell_type": "code",
   "execution_count": null,
   "id": "2301a894",
   "metadata": {},
   "outputs": [],
   "source": [
    "user1 = {'name' : '홍길동', 'age' : 22, 'email' : 'a@a.com', 'address' : '신림동'}\n",
    "user2 = {'name' : '신길동', 'age' : 32, 'email' : 'b@b.com', 'address' : '신갈동'}\n",
    "user3 = {'name' : '홍길숙', 'age' : 42, 'email' : 'c@c.com', 'address' : '신원동'}\n",
    "user_list = [user1,user2,user3]\n",
    "fieldnames = list(user1.keys())"
   ]
  },
  {
   "cell_type": "code",
   "execution_count": null,
   "id": "6950adde",
   "metadata": {},
   "outputs": [],
   "source": [
    "with open('data/ch09_member4.csv', 'a', newline='', encoding='utf-8') as f :\n",
    "    dict_write = csv.DictWriter(f, fieldnames=fieldnames)\n",
    "    dict_write.writeheader() # header 쓰기\n",
    "    dict_write.writerows(user_list)"
   ]
  },
  {
   "cell_type": "markdown",
   "id": "53d01675",
   "metadata": {},
   "source": [
    "### 참고자료 : csv <-> 데이터프레임"
   ]
  },
  {
   "cell_type": "code",
   "execution_count": null,
   "id": "b894b1a3",
   "metadata": {
    "scrolled": true
   },
   "outputs": [],
   "source": [
    "import pandas as pd\n",
    "df = pd.DataFrame(pd.read_pickle('data/ch09_member.data'))\n",
    "df2 = pd.DataFrame(pd.read_csv('data/ch09_member4.csv'))\n",
    "print(df)\n",
    "df2.to_csv('data/data_check.csv')"
   ]
  },
  {
   "cell_type": "markdown",
   "id": "51c98d48",
   "metadata": {},
   "source": [
    "# 4절 JSON 데이터 저장하고 불러오기(dump, load)\n",
    "- 딕셔너리 리스트 <-> JSON 파일(기본)\n",
    "- 객체리스트 <-> JSON 파일\n",
    "\n",
    "## 4.1 dump : 파일 출력\n",
    "- 딕셔너리 리스트 -> JSON 파일(기본)\n",
    "- 객체리스트 -> JSON 파일"
   ]
  },
  {
   "cell_type": "code",
   "execution_count": null,
   "id": "12067407",
   "metadata": {},
   "outputs": [],
   "source": [
    "data = [{\n",
    "        'name': '홍길동', \n",
    "        'age': 20, \n",
    "        'email': 'kildong@hong.com', \n",
    "        'address': '서울'},\n",
    "        {'name': '신길동', \n",
    "         'age': 30, \n",
    "         'email': 'shinkil@hong.com', \n",
    "         'address': '인천'\n",
    "        }]\n",
    "data"
   ]
  },
  {
   "cell_type": "code",
   "execution_count": null,
   "id": "0a311e8f",
   "metadata": {},
   "outputs": [],
   "source": [
    "# ensure_ascii 매개변수\n",
    "    # True : 비ASCII문은 유니코드 형태로 저장\n",
    "    # False : 비 ASCII문자 원래 형태로 저장\n",
    "import json\n",
    "with open('data/ch09_member.json', 'w', encoding='utf-8') as jsonfile :\n",
    "    json.dump(data, # 딕셔너리 리스트\n",
    "             jsonfile ,# 스트림 객체\n",
    "             ensure_ascii=False,\n",
    "             indent='\\t') # 들여쓰기"
   ]
  },
  {
   "cell_type": "code",
   "execution_count": null,
   "id": "81440386",
   "metadata": {},
   "outputs": [],
   "source": [
    "class Member :\n",
    "    __count = 0\n",
    "    def __init__(self, name, age, email, address) :\n",
    "        self.name = name\n",
    "        self.age = age\n",
    "        self.email = email\n",
    "        self.address = address\n",
    "        Member._Member__count += 1\n",
    "        \n",
    "    def count_member(self) :\n",
    "        return Member._Member__count\n",
    "    \n",
    "    def __str__(self) :\n",
    "        return f'{self.name}, {self.age}, {self.email}, {self.address}'\n",
    "    \n",
    "    def as_dict(self) : # 딕셔너리 객체로 반환 __dict__\n",
    "        return {'name' : self.name, 'age' : self.age, 'email' : self.email, 'address' : self.address}\n",
    "    \n",
    "    def __eq__(self, other) : # == 연산 간 체크하는 내용(Object 기본 함수)\n",
    "        if isinstance(other, Member) :\n",
    "            return self.__str__() == other.__str__()\n",
    "        else : \n",
    "            return False"
   ]
  },
  {
   "cell_type": "code",
   "execution_count": null,
   "id": "1a759d7c",
   "metadata": {},
   "outputs": [],
   "source": [
    "user1 = Member('홍길동',22,'a@a.com','신림동')\n",
    "user2 = Member('신길동',22,'a@a.com','신림동')\n",
    "print(user1.__eq__(user2))\n",
    "print(user1 == user2)"
   ]
  },
  {
   "cell_type": "code",
   "execution_count": null,
   "id": "82e4fa15",
   "metadata": {},
   "outputs": [],
   "source": [
    "member_list = [user1, user2, Member('김길동',22,'a@a.com','신림동')]"
   ]
  },
  {
   "cell_type": "code",
   "execution_count": null,
   "id": "6ed1a380",
   "metadata": {},
   "outputs": [],
   "source": [
    "import json\n",
    "with open('data/ch09_member00.json','w',encoding='utf-8') as jsonfile :\n",
    "    json.dump(member_list,\n",
    "             jsonfile,\n",
    "             ensure_ascii=False,\n",
    "             indent='\\t',\n",
    "             default=Member.as_dict) # 객체를 딕셔너리로 return하는 인스턴스 함수"
   ]
  },
  {
   "cell_type": "markdown",
   "id": "3dda5c17",
   "metadata": {},
   "source": [
    "## 4.2 load : 파일 입력\n",
    "- json파일 -> 딕셔너리 리스트 * 일반적\n",
    "                ↓\n",
    "- json파일 -> 객체리스트"
   ]
  },
  {
   "cell_type": "code",
   "execution_count": null,
   "id": "7ba27b05",
   "metadata": {},
   "outputs": [],
   "source": [
    "import json\n",
    "with open('data/ch09_member00.json','r',encoding='utf-8') as jsonfile :\n",
    "    json_loader = json.load(jsonfile)\n",
    "    result = list(json_loader)\n",
    "print(result)"
   ]
  },
  {
   "cell_type": "code",
   "execution_count": null,
   "id": "e782af28",
   "metadata": {},
   "outputs": [],
   "source": [
    "def as_member(dic) :\n",
    "    '''매개변수로 딕셔너리를 입력받아 Member 객체를 리턴'''\n",
    "    return Member(dic.get('name'),dic.get('age'),dic.get('email'),dic.get('address'))\n",
    "member = as_member({'name': '홍길동', 'age': 22, 'email': 'a@a.com', 'address': '신림동'})\n",
    "print(member)"
   ]
  },
  {
   "cell_type": "code",
   "execution_count": null,
   "id": "64f6c910",
   "metadata": {},
   "outputs": [],
   "source": [
    "with open('data/ch09_member00.json', 'r', encoding='utf-8') as f :\n",
    "    load_data = json.load(f)\n",
    "load_data"
   ]
  },
  {
   "cell_type": "code",
   "execution_count": null,
   "id": "3dde661d",
   "metadata": {},
   "outputs": [],
   "source": [
    "with open('data/ch09_member.json', 'r', encoding='utf-8') as f :\n",
    "    load_data_list = json.load(f, object_hook=as_member)\n",
    "for mem in load_data_list :\n",
    "    print(mem)"
   ]
  },
  {
   "cell_type": "markdown",
   "id": "3a917100",
   "metadata": {},
   "source": [
    "### 참고자료 : JSON -> 데이터프레임"
   ]
  },
  {
   "cell_type": "code",
   "execution_count": null,
   "id": "f0eca404",
   "metadata": {},
   "outputs": [],
   "source": [
    "import pandas as pd\n",
    "pd.read_json('data/ch09_member00.json')\n",
    "# pd.함수() : encoding = 'utf-8' 기본값으로 사용한다.\n",
    "# open(파일, 모드='r', encoding='cp949')"
   ]
  },
  {
   "cell_type": "markdown",
   "id": "d1854618",
   "metadata": {},
   "source": [
    "# 5절 HDF5 파일 읽기/쓰기\n",
    "- h5py 라이브러리 활용\n",
    "- *.h5 or *.hdf : 딥러닝 모델 저장에 용이\n",
    "- HDViewer로 읽을 수 있음"
   ]
  },
  {
   "cell_type": "markdown",
   "id": "5ab6bee8",
   "metadata": {},
   "source": [
    "## 5.1 hdf5 파일 쓰기\n",
    "- 딕셔너리 리스트를 hdf5파일에 쓰기(default)\n",
    "- 데이터프레임을 hdf5 파일에 쓰기"
   ]
  },
  {
   "cell_type": "markdown",
   "id": "c2aa0f3a",
   "metadata": {},
   "source": [
    "### 5.1.1 데이터프레임 쓰기"
   ]
  },
  {
   "cell_type": "code",
   "execution_count": null,
   "id": "317bd3c8",
   "metadata": {},
   "outputs": [],
   "source": [
    "# seaborn : 시각화 패키지. 학습을 위한 데이터셋 다수\n",
    "import seaborn as sns\n",
    "iris_df = sns.load_dataset(\"iris\") # seaborn 패키지에서 제공하는 iris 데이터셋DataFrame 파일\n",
    "iris_df[::50] # 데이터의 상관 관계를 분석하고 N정규 분포(가우스분포)를 따르는가 검증하고 모델을 계획 : 유의미한 정보를 찾아봐야한다\n",
    "display(iris_df[::50]) # 데이터프레임은 주피터 노트북에서 display해야 가독성이 좋다"
   ]
  },
  {
   "cell_type": "code",
   "execution_count": null,
   "id": "be2e3d26",
   "metadata": {},
   "outputs": [],
   "source": [
    "iris_df.to_hdf('data/ch09_iris.hdf5', key = 'iris') # key 인자 필수"
   ]
  },
  {
   "cell_type": "markdown",
   "id": "f5afb1c9",
   "metadata": {},
   "source": [
    "### 5.1.2 딕셔너리 리스트 쓰기"
   ]
  },
  {
   "cell_type": "code",
   "execution_count": null,
   "id": "c700fe73",
   "metadata": {},
   "outputs": [],
   "source": [
    "iris_dic = iris_df.to_dict() # 사용할 딕셔너리 데이터 생성\n",
    "iris_dic.keys()"
   ]
  },
  {
   "cell_type": "code",
   "execution_count": null,
   "id": "30328f6b",
   "metadata": {},
   "outputs": [],
   "source": [
    "for group, val in iris_dic.items() :\n",
    "    print('그룹명 :', group)\n",
    "    # print(val) # val : 딕셔너리 타입으로 내용 체크"
   ]
  },
  {
   "cell_type": "code",
   "execution_count": null,
   "id": "106dfb66",
   "metadata": {},
   "outputs": [],
   "source": [
    "for group, val in iris_dic.items() :\n",
    "    print('그룹명 :', group)\n",
    "    print(val) # val : 딕셔너리 타입\n",
    "    for key, data in val.items() :\n",
    "        print(f'{str(key)}:{data}', end = '\\t')\n",
    "    print() # 개행"
   ]
  },
  {
   "cell_type": "code",
   "execution_count": null,
   "id": "e6190dc3",
   "metadata": {},
   "outputs": [],
   "source": [
    "# 딕셔너리 리스트를 hdf5 파일로 쓰기\n",
    "import h5py\n",
    "with h5py.File('data/ch09_iris_dic.hdf5', 'w') as f : # open이 아니라 File로 쓰기 가능한 stream 객체 생성\n",
    "    for group, value in iris_dic.items() :\n",
    "        grp = f.create_group(group) # 그룹을 먼저 형성하고\n",
    "        for key, data in value.items() :\n",
    "            grp.create_dataset(str(key), data = data) # 그룹 속에 내용을 추가한다. key는 항상 문자로 기입하도록 한다."
   ]
  },
  {
   "cell_type": "code",
   "execution_count": null,
   "id": "0e158fa8",
   "metadata": {},
   "outputs": [],
   "source": []
  },
  {
   "cell_type": "markdown",
   "id": "ae1e4f1f",
   "metadata": {},
   "source": [
    "## 5.2 hdf5 파일 읽기\n",
    "- *.hdf5 => 딕셔너리 리스트으로 읽기\n",
    "- *.hdf5 => 데이터프레임으로 읽기"
   ]
  },
  {
   "cell_type": "markdown",
   "id": "e8fe0ce3",
   "metadata": {},
   "source": [
    "### 5.2.1 데이터프레임 읽기"
   ]
  },
  {
   "cell_type": "code",
   "execution_count": null,
   "id": "49d0337e",
   "metadata": {},
   "outputs": [],
   "source": [
    "import pandas as pd\n",
    "\n",
    "load_iris_df = pd.read_hdf('data/ch09_iris.hdf5', key = 'iris')\n",
    "# load_iris_df는 iris_df와 동일한가? : all(iris_df == load_iris_df) 사용\n",
    "\n",
    "display(load_iris_df[::50])\n",
    "all(iris_df == load_iris_df) # 두 데이터프레임 변수의 모든 행과 열의 값이 같은 지 여부"
   ]
  },
  {
   "cell_type": "code",
   "execution_count": null,
   "id": "4f01f19e",
   "metadata": {},
   "outputs": [],
   "source": [
    "all(iris_df == load_iris_df)"
   ]
  },
  {
   "cell_type": "code",
   "execution_count": null,
   "id": "3f5eed74",
   "metadata": {},
   "outputs": [],
   "source": []
  },
  {
   "cell_type": "markdown",
   "id": "ab57874a",
   "metadata": {},
   "source": [
    "### 5.2.2  ★★ 딕셔너리 리스트 읽기 ★★\n",
    "- 주의사항 : hdf5 파일은 h5py 라이브러리의 .File() 메서드로 접근하며\n",
    "- 숫자는 **.hdf5 => 딕셔너리 리스트 과정에서 문제가 없으나 str의 경우 bytes 타입으로 반환한다\n",
    "- 이 문제는 byte타입 문자.decode('utf-8') if isinstance(문자, bytes) else 문자 변환시켜서 사용하면 문제 없다"
   ]
  },
  {
   "cell_type": "code",
   "execution_count": null,
   "id": "0e584c4d",
   "metadata": {},
   "outputs": [],
   "source": [
    "# 딕셔너리 리스트를 hdf5 파일로 읽기\n",
    "import h5py\n",
    "with h5py.File('data/ch09_iris_dic.hdf5', 'r') as f : # open이 아니라 File로 읽기 가능한 stream 객체 생성\n",
    "    for group, value in f.items() :\n",
    "        print('그룹 :',group)\n",
    "        using_data = {}\n",
    "        for key, data in value.items() :\n",
    "            using_data[key] = data\n",
    "            print(f'{key}:{data[()]}', end = '\\t') # data[()] : hdf5의 DataSet타입을 가져올 때 사용하는 문법\n",
    "        using_data[group] = using_data"
   ]
  },
  {
   "cell_type": "code",
   "execution_count": null,
   "id": "0523549c",
   "metadata": {},
   "outputs": [],
   "source": [
    "# 딕셔너리 정보 추가하기\n",
    "p = {}\n",
    "p['name'] = '홍'\n",
    "p.update({'age':'20'})\n",
    "p"
   ]
  },
  {
   "cell_type": "code",
   "execution_count": null,
   "id": "3a84e1a5",
   "metadata": {},
   "outputs": [],
   "source": [
    "load_iris_dict = {}\n",
    "# dict_keys(['sepal_length', 'sepal_width', 'petal_length', 'petal_width', 'species'])\n",
    "import h5py\n",
    "with h5py.File('data/ch09_iris_dic.hdf5', 'r') as f : # open이 아니라 File로 읽기 가능한 stream 객체 생성\n",
    "    for group, value in f.items() :\n",
    "        temp = {}\n",
    "        \n",
    "        for key, data in value.items() :\n",
    "            temp[int(key)] = data[()].decode('utf-8') if isinstance(data[()], bytes) else data[()]\n",
    "            # data[()]는 h5py의 문법, \n",
    "            # species에서 b가 하나 붙는데 bytes타입이란 뜻으로 decode 필요(디코딩할데이터.decode('utf-8'))\n",
    "\n",
    "        load_iris_dict[group] = temp\n",
    "print(load_iris_dict)"
   ]
  },
  {
   "cell_type": "code",
   "execution_count": null,
   "id": "406256a0",
   "metadata": {},
   "outputs": [],
   "source": [
    "iris_dic == load_iris_dict"
   ]
  },
  {
   "cell_type": "markdown",
   "id": "f27238ce",
   "metadata": {},
   "source": [
    "# 6절 ★★연습문제 : 고객 관리 프로그램\n",
    "- 프로그램 시작 시 'data/ch09_customer_list.txt'(고객 데이터 백업용)의 내용을 load\n",
    "        - 'data/ch09_customer_list.txt' 내용\n",
    "            - 이름, 전화번호, 메일, 나이, 고객등급(1~5), 기타\n",
    "            - 홍길동, 010-9999-9999, a@a.com, 20, 3, 까칠\n",
    "            - 유길동, 010-5432-1234, b@a.com, 30, 3, 까칠\n",
    "- 파일이 없으면 자동으로 생성하고 데이터를 로드\n",
    "- 종료 시 파일 저장 후 종료\n",
    "- 프로그래밍 시 필요한 기능을 우선 구현하고 이후 모든 것을 활용할 main() 함수를 구현한다.\n",
    "## 6-1-0. 스스로 구현\n",
    "## 6-1. Customer class 생성"
   ]
  },
  {
   "cell_type": "code",
   "execution_count": null,
   "id": "3f99cc74",
   "metadata": {},
   "outputs": [],
   "source": [
    "class Customer :\n",
    "    '''고객 데이터와 as_dic(), to_list_style(txt 백업 시), __str__()'''\n",
    "    def __init__(self,name,phone,email,age,grade,etc) :\n",
    "        self.name = name\n",
    "        self.phone = phone\n",
    "        self.email = email\n",
    "        self.age = age\n",
    "        self.grade = grade\n",
    "        self.etc = etc\n",
    "    def as_dic(self) : # csv파일 저장용\n",
    "        return {'name' : self.name, 'phone' : self.phone, 'email' : self.email, 'age':self.age, 'grade':self.grade, 'etc':self.etc}\n",
    "    def to_list_style(self) : # txt 저장용\n",
    "        return f'{self.name},{self.phone},{self.email},{self.age},{self.grade},{self.etc}\\n'\n",
    "    def __str__(self) : # 전체 출력용으로 사용\n",
    "        return f\"{'*' * int(self.grade):>5}\\t{self.name:>3}\\t\\t{self.phone:>13}\\t\\t{self.email:^20}\\t{self.age:>3}\\t{self.etc:^5}\"  "
   ]
  },
  {
   "cell_type": "code",
   "execution_count": null,
   "id": "fd46f5bc",
   "metadata": {},
   "outputs": [],
   "source": [
    "def to_customer(row) :\n",
    "    '''\n",
    "    txt 파일 내용을 Customer 객체로 반환\n",
    "    ex) '홍길동,010-9999-9999,a@a.com,30,3,까칠해'\n",
    "    '''\n",
    "    member_info = row.strip().split(',')\n",
    "    return Customer(member_info[0],member_info[1],member_info[2],member_info[3],member_info[4],member_info[5])"
   ]
  },
  {
   "cell_type": "code",
   "execution_count": null,
   "id": "246499d0",
   "metadata": {},
   "outputs": [],
   "source": [
    "c1 = Customer('홍길동','010-9999-9999','a@a.com',30,3,'까칠해')\n",
    "print(c1)\n",
    "print(c1.as_dic())\n",
    "print(c1.to_list_style())\n",
    "c2 = to_customer('홍길동,010-9999-9999,a@a.com,30,3,까칠해')\n",
    "print(c2)"
   ]
  },
  {
   "cell_type": "markdown",
   "id": "3e7eb0d0",
   "metadata": {},
   "source": [
    "0.실행하면 data/ch09_customers.txt 파일의 내용을 load(customer_list)\n",
    "data/ch09_customers.txt이 존재하지 않으면\n",
    "빈 data/ch09_customers.txt 파일을 생성하고\n",
    "데이터는 customer_list=[]"
   ]
  },
  {
   "cell_type": "code",
   "execution_count": null,
   "id": "c7f26975",
   "metadata": {},
   "outputs": [],
   "source": [
    "# 구동파일 : 데이터베이스 없으면 만들고 실행, 있으면 그냥 데이터를 customer_list에 저장\n",
    "\n",
    "def start() :\n",
    "    while True :\n",
    "        try :\n",
    "            with open('data/ch09_customer.txt','r', encoding='utf-8') as f :\n",
    "                lines = f.readlines()\n",
    "                customer_list = lines\n",
    "                break\n",
    "        except :\n",
    "            with open('data/ch09_customer.txt','a', encoding='utf-8') as f :\n",
    "                pass\n",
    "    return customer_list\n",
    "customer_list = start()\n",
    "info_format = '''==========================================================================================\n",
    "                            고객 정보\n",
    "------------------------------------------------------------------------------------------\n",
    "GRADE\\t이름\\t\\t\\t전화\\t\\t\\t메일\\t\\t나이\\t기타\n",
    "=========================================================================================='''"
   ]
  },
  {
   "cell_type": "code",
   "execution_count": null,
   "id": "88bc7ca3",
   "metadata": {},
   "outputs": [],
   "source": [
    "def fn1_insert_customers() : # 정보 입력하기\n",
    "    while True :\n",
    "        try :\n",
    "            name = input('이름 : ')\n",
    "            phone = input('전화번호 : ')\n",
    "            email = input('이메일 : ')\n",
    "            age = int(input('나이 : '))\n",
    "            grade = int(input('고객등급(1~5) : '))\n",
    "            etc = input('기타정보 : ')\n",
    "            customer = Customer(name,phone,email,age,grade,etc)\n",
    "            with open('data/ch09_customer.txt','a', encoding='utf-8') as f : \n",
    "                f.write(customer.to_list_style())\n",
    "            print('새로운 정보를 입력하였습니다.')\n",
    "            break\n",
    "        except Exception :\n",
    "            print('잘못된 정보를 입력하셨습니다.')"
   ]
  },
  {
   "cell_type": "code",
   "execution_count": null,
   "id": "b549f6aa",
   "metadata": {},
   "outputs": [],
   "source": [
    "def fn2_print_customers() :\n",
    "    print(info_format)\n",
    "    for i in customer_list :\n",
    "        print(to_customer(i))"
   ]
  },
  {
   "cell_type": "code",
   "execution_count": null,
   "id": "d355b488",
   "metadata": {},
   "outputs": [],
   "source": [
    "def fn3_delete_customers() :\n",
    "    name = input('삭제할 이름을 입력하세요 : ')\n",
    "    phone = input('가입하신 번호를 입력하세요 : ')\n",
    "    for idx,data in enumerate(customer_list) :\n",
    "        if name in data and phone in data :\n",
    "            customer_list.pop(idx)\n",
    "    print('정보를 삭제하였습니다.')"
   ]
  },
  {
   "cell_type": "code",
   "execution_count": null,
   "id": "ce141ff6",
   "metadata": {
    "scrolled": true
   },
   "outputs": [],
   "source": [
    "def fn4_search_customer() :\n",
    "    name = input('찾으실 이름을 입력하세요 : ')\n",
    "    name_list = [to_customer(i).name for i in customer_list]\n",
    "    if name in name_list :\n",
    "        print('탐색 결과는 아래와 같습니다.')\n",
    "        for idx,data in enumerate(customer_list) :\n",
    "            if name == data.strip().split(',')[0] :\n",
    "                print(info_format)\n",
    "                print(to_customer(data)) \n",
    "    else :\n",
    "        raise Exception('해당 내용이 존재하지 않습니다.')"
   ]
  },
  {
   "cell_type": "code",
   "execution_count": null,
   "id": "bb587d71",
   "metadata": {},
   "outputs": [],
   "source": [
    "def fn5_save_customer_csv() :\n",
    "    import csv\n",
    "    while True :\n",
    "        try :\n",
    "            file_name = input('파일 이름을 입력하세요 : ')\n",
    "            if file_name.strip() == '' : \n",
    "                raise Exception\n",
    "            with open(f'data/{file_name}.csv', 'w', encoding='utf-8', newline='') as f :\n",
    "                writer = csv.DictWriter(f, fieldnames=['name','phone','email','age','grade','etc'])\n",
    "                for i in customer_list :\n",
    "                    wri = to_customer(i)\n",
    "                    writer.writerow(wri.as_dic())\n",
    "            print(f'{file_name}.csv 파일로 저장하였습니다.')\n",
    "            break\n",
    "        except Exception('다시 시도하세요...') as e:\n",
    "            print(e)"
   ]
  },
  {
   "cell_type": "code",
   "execution_count": null,
   "id": "26ca46dc",
   "metadata": {},
   "outputs": [],
   "source": [
    "def fn9_save_customer_txt() :\n",
    "    with open('data/ch09_customer.txt','w', encoding='utf-8') as f :\n",
    "        f.writelines(customer_list)\n",
    "    print('파일을 백업하였습니다.')"
   ]
  },
  {
   "cell_type": "code",
   "execution_count": null,
   "id": "d9abe894",
   "metadata": {},
   "outputs": [],
   "source": [
    "def main() :\n",
    "    import csv\n",
    "    customer_list = start()\n",
    "    while True :\n",
    "        try :\n",
    "            numb = int(input('1:입력|2:전체출력|3:삭제|4:이름찾기|5:내보내기(csv)|9:종료 메뉴 선택 : '))\n",
    "            if numb not in [1,2,3,4,5,9] :\n",
    "                raise Exception\n",
    "            if numb == 1 :\n",
    "                fn1_insert_customers()\n",
    "            elif numb == 2 :\n",
    "                fn2_print_customers()\n",
    "            elif numb == 3 :\n",
    "                fn3_delete_customers()\n",
    "            elif numb == 4 :\n",
    "                fn4_search_customer()\n",
    "            elif numb == 5 :\n",
    "                fn5_save_customer_csv\n",
    "            elif numb == 9 :\n",
    "                fn9_save_customer_txt()\n",
    "                break\n",
    "        except :\n",
    "            print('정상적인 접근 방식이 아닙니다.')"
   ]
  },
  {
   "cell_type": "code",
   "execution_count": null,
   "id": "f7901dfe",
   "metadata": {},
   "outputs": [],
   "source": []
  },
  {
   "cell_type": "code",
   "execution_count": null,
   "id": "6e633616",
   "metadata": {},
   "outputs": [],
   "source": []
  },
  {
   "cell_type": "markdown",
   "id": "afd94b62",
   "metadata": {},
   "source": [
    "## 6-1-1 선생님 구현"
   ]
  },
  {
   "cell_type": "code",
   "execution_count": 2,
   "id": "266071bc",
   "metadata": {},
   "outputs": [],
   "source": [
    "class Customer:\n",
    "    '고객데이터와 as_dic(), to_list_style(txt백업시), __str__()'\n",
    "    def __init__(self, name, phone, email, age, grade, etc):\n",
    "        self.name = name\n",
    "        self.phone = phone\n",
    "        self.email = email\n",
    "        self.age  = age\n",
    "        self.grade = grade\n",
    "        self.etc = etc\n",
    "    def as_dic(self):\n",
    "        return {\"name\":self.name, \n",
    "                \"phone\":self.phone, \n",
    "                \"email\":self.email,\n",
    "                \"age\":self.age, \n",
    "                \"grade\":self.grade, \n",
    "                \"etc\":self.etc}\n",
    "    def to_list_style(self):\n",
    "        # return \"홍길동, 010-9999-9999, a@a.com, 30, 3, 까칠해\"\n",
    "#         return \"{}, {}, {}, {}, {}, {}\".format(self.name, self.phone, self.email,\n",
    "#                                               self.age, self.grade, self.etc)\n",
    "        temp = [self.name, \n",
    "                self.phone, \n",
    "                self.email, \n",
    "                str(self.age), \n",
    "                str(self.grade), \n",
    "                self.etc]\n",
    "        return ', '.join(temp)\n",
    "    def __str__(self):\n",
    "        # return \"  *** 홍길동, 010-9999-9999, a@a.com, 30, 까칠해\"\n",
    "        return \"{:>5}\\t{:^3}\\t{:^13}\\t{:^20}\\t{:^3}\\t{}\".format('*'*self.grade,\n",
    "                       self.name, self.phone, self.email, self.age, self.etc)"
   ]
  },
  {
   "cell_type": "code",
   "execution_count": 3,
   "id": "e7242b50",
   "metadata": {},
   "outputs": [],
   "source": [
    "def to_customer(row):\n",
    "    '''\n",
    "    row = \"홍길동, 010-9999-9999, a@a.com, 30, 3, 까칠해\"(txt파일 내용)을 매개변수로 받아\n",
    "    Customer 객체로 return \n",
    "    '''\n",
    "    data = row.split(',')\n",
    "    name = data[0]\n",
    "    phone = data[1].strip() # strip은 앞뒤 white space 제거\n",
    "    email = data[2].strip()\n",
    "    age = int(data[3].strip())\n",
    "    grade = int(data[4].strip())\n",
    "    etc = data[5].strip()\n",
    "    return Customer(name, phone, email, age, grade, etc)"
   ]
  },
  {
   "cell_type": "code",
   "execution_count": null,
   "id": "8524c5d9",
   "metadata": {},
   "outputs": [],
   "source": [
    "c1 = Customer(\"홍길동\", \"010-9999-9999\", \"a@a.com\", 30, 3, \"까칠해\")\n",
    "print(c1)\n",
    "print('as_dic() =',c1.as_dic())\n",
    "print('to_list_style() =',c1.to_list_style())\n",
    "c2 = to_customer(\"홍길동, 010-9999-9999, a@a.com, 30, 3, 까칠해\")\n",
    "print(c2)"
   ]
  },
  {
   "cell_type": "markdown",
   "id": "17b0a740",
   "metadata": {},
   "source": [
    "### 0. 처음 실행 시 호출\n",
    "- ch09_customers.txt(백업데이터)에서 customer_list return\n",
    "- 파일이 없으면 빈 파일 생성, customer_list = [] return"
   ]
  },
  {
   "cell_type": "code",
   "execution_count": 4,
   "id": "47cb43f2",
   "metadata": {},
   "outputs": [],
   "source": [
    "def load_customers():\n",
    "    customer_list = []\n",
    "    try:\n",
    "        with open('data/ch09_customers.txt', 'r', encoding='utf-8') as f:\n",
    "            # txt 데이터 한줄씩 customer 객체로 받아 customer_list.append\n",
    "            lines = f.readlines()\n",
    "            for line in lines:\n",
    "                #line = \"홍길동, 010-9999-9999, a@a.com, 30, 3, 까칠해\"\n",
    "                customer = to_customer(line)\n",
    "                # print(customer)\n",
    "                customer_list.append(customer)\n",
    "            print('데이터를 로드하였습니다.')\n",
    "    except:\n",
    "        with open('data/ch09_customers.txt', 'w', encoding='utf-8') as f:\n",
    "            print('초기화 파일을 생성했습니다')\n",
    "    return customer_list"
   ]
  },
  {
   "cell_type": "code",
   "execution_count": null,
   "id": "18407254",
   "metadata": {},
   "outputs": [],
   "source": [
    "customer_list = load_customers()\n",
    "for customer in customer_list:\n",
    "    print(customer)"
   ]
  },
  {
   "cell_type": "markdown",
   "id": "a672693c",
   "metadata": {},
   "source": [
    "### 1. 입력"
   ]
  },
  {
   "cell_type": "code",
   "execution_count": 5,
   "id": "87ce8ffb",
   "metadata": {},
   "outputs": [],
   "source": [
    "def fn1_insert_customer_info():\n",
    "    '사용자로 부터 name, phone, email, grade, etc를 입력받아 Customer 객체 반환'\n",
    "    import re\n",
    "    name = input('이름 : ')\n",
    "#    name_pattern = r'([가-힣]{2,})|[a-zA-Z]{3,}'\n",
    "    name_pattern = r'[가-힣]{2,}'\n",
    "    while not re.search(name_pattern,name) :\n",
    "        print('이름을 제대로 입력하세요(한글로 2글만 이상) : ')\n",
    "        name = input('이름')\n",
    "    phone = input('전화 : ')\n",
    "    email = input('메일 : ')\n",
    "    while True :\n",
    "        try :\n",
    "            age = int(input('나이 : '))\n",
    "            if not (0<age<130) :\n",
    "                raise Exception\n",
    "            break\n",
    "        except :\n",
    "            print('올바른 나이를 입력하세요.나이의 허용 범위는 1살 이상 130살 미만입니다..')\n",
    "    try :\n",
    "        grade = int(input('등급(1~5) : '))\n",
    "        if grade < 1 :\n",
    "            grade = 1\n",
    "        if grade > 5 :\n",
    "            grade = 5\n",
    "    except :\n",
    "        print('유효하지 않은 등급 입력시 1등급으로 초기화')\n",
    "        grade = 1\n",
    "    etc = input('기타 정보 : ')\n",
    "    customer = Customer(name,phone,email,age,grade,etc)\n",
    "    return customer"
   ]
  },
  {
   "cell_type": "code",
   "execution_count": null,
   "id": "a66b9ae3",
   "metadata": {},
   "outputs": [],
   "source": [
    "# 1번 함수 테스트\n",
    "# fn1_insert_customer_info()\n",
    "for i in customer_list :\n",
    "    print(i)"
   ]
  },
  {
   "cell_type": "code",
   "execution_count": null,
   "id": "d063af57",
   "metadata": {},
   "outputs": [],
   "source": [
    "customer_list=load_customers()"
   ]
  },
  {
   "cell_type": "markdown",
   "id": "67b96d4a",
   "metadata": {},
   "source": [
    "### 2. 전체 출력"
   ]
  },
  {
   "cell_type": "code",
   "execution_count": 6,
   "id": "0754d054",
   "metadata": {},
   "outputs": [],
   "source": [
    "def fn2_print_customers(customer_list):\n",
    "    print('=' * 80)\n",
    "    print(f'{\"고객정보\":^80}')\n",
    "    print('-' * 80)\n",
    "    print(f\"{'GRADE':^5}\\t{'이름':^3}\\t{'전화':^13}\\t{'메일':^20}\\t{'나이':^3}\\t{'기타'}\")\n",
    "    print('=' * 80)\n",
    "    for customer in customer_list :\n",
    "        print(customer)\n",
    "    print('=' * 80)"
   ]
  },
  {
   "cell_type": "code",
   "execution_count": null,
   "id": "d2492f6b",
   "metadata": {},
   "outputs": [],
   "source": [
    "fn2_print_customers(customer_list)"
   ]
  },
  {
   "cell_type": "code",
   "execution_count": null,
   "id": "02af368e",
   "metadata": {},
   "outputs": [],
   "source": []
  },
  {
   "cell_type": "markdown",
   "id": "a97c510e",
   "metadata": {},
   "source": [
    "### 3. 삭제"
   ]
  },
  {
   "cell_type": "code",
   "execution_count": 7,
   "id": "1dbac3e5",
   "metadata": {},
   "outputs": [],
   "source": [
    "# 선생님 풀이\n",
    "# 1. 동명 이인이 없을 경우\n",
    "def fn3_teacher_delete_customer1(customer_list) :\n",
    "    delete_name = input('삭제할 고객 이름은?')\n",
    "    for data in customer_list :\n",
    "        if data.name == delete_name :\n",
    "            customer_list.remove(data)\n",
    "            print(f'{delete_name}님의 정보를 삭제하였습니다.')\n",
    "            break\n",
    "    else :\n",
    "        print(f'{delete_name}님의 이름으로 가입된 정보가 없습니다.')"
   ]
  },
  {
   "cell_type": "code",
   "execution_count": null,
   "id": "e2117e6e",
   "metadata": {},
   "outputs": [],
   "source": [
    "customer_list = load_customers()\n",
    "fn2_print_customers(customer_list)"
   ]
  },
  {
   "cell_type": "code",
   "execution_count": null,
   "id": "905d61b7",
   "metadata": {},
   "outputs": [],
   "source": [
    "fn3_teacher_delete_customer1(customer_list)"
   ]
  },
  {
   "cell_type": "code",
   "execution_count": null,
   "id": "148acb05",
   "metadata": {},
   "outputs": [],
   "source": [
    "customer_list = load_customers()\n",
    "fn2_print_customers(customer_list)"
   ]
  },
  {
   "cell_type": "code",
   "execution_count": 8,
   "id": "65995f7c",
   "metadata": {},
   "outputs": [],
   "source": [
    "# 선생님 풀이\n",
    "# 2. 동명 이인이 있을 경우 모두 삭제\n",
    "def fn3_teacher_delete_customer2(customer_list) :\n",
    "    delete_name = input('삭제할 고객 이름은? : ')\n",
    "    delete_idx = []\n",
    "    for idx,customer in enumerate(customer_list) :\n",
    "        if customer.name == delete_name :\n",
    "            delete_idx.append(idx)\n",
    "    if not delete_idx :\n",
    "        print(f'{delete_name}님의 이름으로 저장된 정보는 확인되지 않아요.')\n",
    "    else :\n",
    "        cnt = 0\n",
    "        for i,idx in enumerate(delete_idx[::-1]) :\n",
    "            customer_list.pop(idx)\n",
    "            cnt +=1\n",
    "            print(f'{i+1}번째 정보를 삭제중입니다...')\n",
    "        print(f'정보를 모두 {cnt}건 삭제하였습니다.')"
   ]
  },
  {
   "cell_type": "code",
   "execution_count": null,
   "id": "0eef8e4b",
   "metadata": {},
   "outputs": [],
   "source": [
    "fn3_teacher_delete_customer2(customer_list)"
   ]
  },
  {
   "cell_type": "code",
   "execution_count": null,
   "id": "313ee232",
   "metadata": {},
   "outputs": [],
   "source": [
    "fn2_print_customers(customer_list)"
   ]
  },
  {
   "cell_type": "code",
   "execution_count": 9,
   "id": "0e1a9ce9",
   "metadata": {},
   "outputs": [],
   "source": [
    "# 선생님 풀이\n",
    "#3. 동명이인이 있으면 물어보고 제거\n",
    "def fn3_teacher_delete_customer3(customer_list) :\n",
    "    delete_name = input('삭제할 고객 이름은? : ')\n",
    "    delete_idx = []\n",
    "    for idx,customer in enumerate(customer_list) :\n",
    "        if customer.name == delete_name :\n",
    "            delete_idx.append(idx)\n",
    "    if not delete_idx :\n",
    "        print(f'{delete_name}님의 이름으로 저장된 정보는 확인되지 않아요.')\n",
    "    else :\n",
    "        for idx in delete_idx[::-1] :\n",
    "            print(customer_list[idx], '지우시겠습니까?', end = '')\n",
    "            answer = input('(Y/N) : ')\n",
    "            if answer in 'Yy' :\n",
    "                del customer_list[idx]\n",
    "                print(f'{delete_name}님({customer_list[idx].phone})해당 정보를 삭제하였습니다.')"
   ]
  },
  {
   "cell_type": "code",
   "execution_count": null,
   "id": "40c21d27",
   "metadata": {},
   "outputs": [],
   "source": [
    "fn3_teacher_delete_customer3(customer_list)"
   ]
  },
  {
   "cell_type": "code",
   "execution_count": null,
   "id": "272a5075",
   "metadata": {},
   "outputs": [],
   "source": []
  },
  {
   "cell_type": "code",
   "execution_count": null,
   "id": "1cd69539",
   "metadata": {},
   "outputs": [],
   "source": []
  },
  {
   "cell_type": "markdown",
   "id": "d2e5ccb4",
   "metadata": {},
   "source": [
    "#### 삭제 개인 풀이"
   ]
  },
  {
   "cell_type": "code",
   "execution_count": 10,
   "id": "770b964e",
   "metadata": {},
   "outputs": [],
   "source": [
    "# 본인 풀이 : 원하는 정보/해당하는 정보를 선택하여 삭제하기\n",
    "\n",
    "def fn3_delete_customer(customer_list):\n",
    "    '''\n",
    "    동명이인이 있다(이름, 번호를 기입해서 삭제) or 삭제할 정보 보여주고 선택하게 하기\n",
    "    '''\n",
    "    name = input('삭제하실 이름을 입력하세요 : ')\n",
    "    name_candidate = [customer.name for customer in customer_list]\n",
    "    if not name in name_candidate :\n",
    "        print('해당이름으로 가입된 정보가 없습니다.')\n",
    "    else :\n",
    "        name_list = []\n",
    "        for idx, customer in enumerate(customer_list) :\n",
    "            if customer.name == name :\n",
    "                name_list.append(customer_list[idx])\n",
    "        print('확인된 정보는 아래와 같습니다.')\n",
    "        print('=' * 80)\n",
    "        print(f'{\"고객정보\":^80}')\n",
    "        print('-' * 80)\n",
    "        print(f\"{'GRADE':^5}\\t{'이름':^3}\\t{'전화':^13}\\t{'메일':^20}\\t{'나이':^3}\\t{'기타'}\")\n",
    "        print('=' * 80)\n",
    "        for idx, customer in enumerate(name_list) :\n",
    "            print(idx+1, customer)\n",
    "        print('=' * 80)\n",
    "        try :\n",
    "            while True :\n",
    "                numb = int(input('삭제하고자 하는 정보는 몇 번째 정보입니까?(취소 : 취소입력) : '))\n",
    "                if (numb-1) in range(len(name_list)) :\n",
    "                    break\n",
    "                else :\n",
    "                    print('올바른 순번을 입력하세요.')\n",
    "            name_list.pop(numb-1)\n",
    "            print(f'{name}님의 {numb}번째 정보를 삭제하였습니다.')\n",
    "            for data in customer_list :\n",
    "                if data.name == name and data not in name_list :\n",
    "                    customer_list.remove(data)\n",
    "        except :\n",
    "            print('정보를 확인해주세요')"
   ]
  },
  {
   "cell_type": "code",
   "execution_count": null,
   "id": "86940e47",
   "metadata": {},
   "outputs": [],
   "source": [
    "customer_list = load_customers()"
   ]
  },
  {
   "cell_type": "code",
   "execution_count": null,
   "id": "129460f1",
   "metadata": {},
   "outputs": [],
   "source": [
    "fn2_print_customers(customer_list)"
   ]
  },
  {
   "cell_type": "code",
   "execution_count": null,
   "id": "b703be87",
   "metadata": {},
   "outputs": [],
   "source": [
    "fn3_delete_customer(customer_list)"
   ]
  },
  {
   "cell_type": "code",
   "execution_count": null,
   "id": "4479f121",
   "metadata": {},
   "outputs": [],
   "source": [
    "fn2_print_customers(customer_list)"
   ]
  },
  {
   "cell_type": "code",
   "execution_count": null,
   "id": "e182d3dd",
   "metadata": {},
   "outputs": [],
   "source": []
  },
  {
   "cell_type": "markdown",
   "id": "25541e62",
   "metadata": {},
   "source": [
    "### 4. 이름찾기"
   ]
  },
  {
   "cell_type": "code",
   "execution_count": 11,
   "id": "b3839cc5",
   "metadata": {},
   "outputs": [],
   "source": [
    "def fn4_search_customer(customer_list):\n",
    "    '''\n",
    "    입력받은 이름 정보를 모두 출력\n",
    "    '''\n",
    "    find_name = input('찾고자 하는 성함을 입력하세요 : ')\n",
    "    name_list = []\n",
    "    for idx, customer in enumerate(customer_list) :\n",
    "        if customer.name == find_name :\n",
    "            name_list.append(customer_list[idx])\n",
    "    if not name_list :\n",
    "        print('찾고자 하는 정보가 없습니다.')\n",
    "    else :\n",
    "        print(f'{find_name}님의 이름으로 입력된 정보는 아래와 같습니다..')\n",
    "        fn2_print_customers(name_list)"
   ]
  },
  {
   "cell_type": "code",
   "execution_count": null,
   "id": "e2ff0d55",
   "metadata": {},
   "outputs": [],
   "source": [
    "fn4_search_customer(customer_list)"
   ]
  },
  {
   "cell_type": "code",
   "execution_count": null,
   "id": "ead32eb4",
   "metadata": {},
   "outputs": [],
   "source": []
  },
  {
   "cell_type": "code",
   "execution_count": null,
   "id": "aa57f585",
   "metadata": {},
   "outputs": [],
   "source": []
  },
  {
   "cell_type": "code",
   "execution_count": null,
   "id": "890b3d6f",
   "metadata": {},
   "outputs": [],
   "source": []
  },
  {
   "cell_type": "markdown",
   "id": "ccc8d65c",
   "metadata": {},
   "source": [
    "### 5. 내보내기(csv)"
   ]
  },
  {
   "cell_type": "code",
   "execution_count": 12,
   "id": "70e72099",
   "metadata": {},
   "outputs": [],
   "source": [
    "def fn5_save_customer_csv(customer_list):\n",
    "    '매개변수로 받은 customer_list를 딕셔너리 리스트로 변환'\n",
    "    import csv\n",
    "    try :\n",
    "        file_name = input('저장할 파일 이름을 입력하세요')\n",
    "        csv_list = [customer.as_dic() for customer in customer_list]\n",
    "        with open(f'data/{file_name}.csv', 'w', encoding='utf-8', newline='') as f :\n",
    "            writer = csv.DictWriter(f, fieldnames=csv_list[0].keys())\n",
    "            writer.writeheader()\n",
    "            writer.writerows(csv_list)\n",
    "        print(f'{file_name}.csv 파일 저장 완료입니다.')\n",
    "    except IndexError:\n",
    "        print('지정된 정보가 없습니다. 정보 내보내기가 불가합니다.')\n",
    "    except Exception :\n",
    "        print('잘못된 접근입니다.')"
   ]
  },
  {
   "cell_type": "code",
   "execution_count": null,
   "id": "002605d1",
   "metadata": {},
   "outputs": [],
   "source": [
    "fn5_save_customer_csv(customer_list)"
   ]
  },
  {
   "cell_type": "code",
   "execution_count": null,
   "id": "2623090c",
   "metadata": {},
   "outputs": [],
   "source": []
  },
  {
   "cell_type": "code",
   "execution_count": null,
   "id": "d08b9010",
   "metadata": {},
   "outputs": [],
   "source": []
  },
  {
   "cell_type": "code",
   "execution_count": null,
   "id": "2051c9fc",
   "metadata": {},
   "outputs": [],
   "source": []
  },
  {
   "cell_type": "code",
   "execution_count": null,
   "id": "e28d42a9",
   "metadata": {},
   "outputs": [],
   "source": []
  },
  {
   "cell_type": "markdown",
   "id": "ee5b30cd",
   "metadata": {},
   "source": [
    "### 6. 종료"
   ]
  },
  {
   "cell_type": "code",
   "execution_count": 13,
   "id": "098529be",
   "metadata": {},
   "outputs": [],
   "source": [
    "def fn9_save_customer_txt(customer_list):\n",
    "    '''\n",
    "    종료 하기 전에 customer_list를 txt에 저장하고 종료\n",
    "    '''\n",
    "    with open('data/ch09_customers.txt', 'w', encoding='utf-8') as f :\n",
    "        for line in [customer.to_list_style() for customer in customer_list] :\n",
    "            f.write(line)\n",
    "            f.write('\\n')\n",
    "    print('백업하였습니다.')"
   ]
  },
  {
   "cell_type": "code",
   "execution_count": null,
   "id": "42ef26a0",
   "metadata": {},
   "outputs": [],
   "source": [
    "fn2_print_customers(customer_list)"
   ]
  },
  {
   "cell_type": "code",
   "execution_count": null,
   "id": "6adcdb5b",
   "metadata": {},
   "outputs": [],
   "source": [
    "customer_list = load_customers()\n",
    "fn2_print_customers(customer_list)"
   ]
  },
  {
   "cell_type": "code",
   "execution_count": null,
   "id": "b51bdff1",
   "metadata": {},
   "outputs": [],
   "source": [
    "fn9_save_customer_txt(customer_list)"
   ]
  },
  {
   "cell_type": "code",
   "execution_count": null,
   "id": "c1c63569",
   "metadata": {},
   "outputs": [],
   "source": [
    "fn2_print_customers(customer_list)"
   ]
  },
  {
   "cell_type": "code",
   "execution_count": null,
   "id": "7e0e818d",
   "metadata": {},
   "outputs": [],
   "source": [
    "customer_list = []"
   ]
  },
  {
   "cell_type": "code",
   "execution_count": null,
   "id": "12e05e85",
   "metadata": {},
   "outputs": [],
   "source": [
    "customer_list = load_customers()"
   ]
  },
  {
   "cell_type": "code",
   "execution_count": null,
   "id": "111a3cab",
   "metadata": {},
   "outputs": [],
   "source": [
    "fn2_print_customers(customer_list)"
   ]
  },
  {
   "cell_type": "markdown",
   "id": "5ee35893",
   "metadata": {},
   "source": [
    "### 7. main함수 구현"
   ]
  },
  {
   "cell_type": "code",
   "execution_count": 14,
   "id": "49332a94",
   "metadata": {},
   "outputs": [],
   "source": [
    "def main() :\n",
    "    global customer_list\n",
    "    customer_list = load_customers()\n",
    "    while True :\n",
    "        try :\n",
    "            print('1:입력|2:전체출력|3:삭제|4:이름찾기|5:내보내기(csv)|9:종료')\n",
    "            numb = int(input('메뉴 선택 : '))\n",
    "            if numb not in [1,2,3,4,5,9] :\n",
    "                raise Exception\n",
    "            if numb == 1 :\n",
    "                customer = fn1_insert_customer_info()\n",
    "                customer_list.append(customer)\n",
    "            elif numb == 2 :\n",
    "                fn2_print_customers(customer_list)\n",
    "            elif numb == 3 :\n",
    "                fn3_delete_customer(customer_list)\n",
    "            elif numb == 4 :\n",
    "                fn4_search_customer(customer_list)\n",
    "            elif numb == 5 :\n",
    "                fn5_save_customer_csv(customer_list)\n",
    "            elif numb == 9 :\n",
    "                fn9_save_customer_txt(customer_list)\n",
    "                print('프로그램을 종료합니다.')\n",
    "                break\n",
    "        except :\n",
    "            print('잘못된 접근입니다.')"
   ]
  },
  {
   "cell_type": "code",
   "execution_count": 15,
   "id": "553b69db",
   "metadata": {},
   "outputs": [
    {
     "name": "stdout",
     "output_type": "stream",
     "text": [
      "데이터를 로드하였습니다.\n",
      "1:입력|2:전체출력|3:삭제|4:이름찾기|5:내보내기(csv)|9:종료\n",
      "메뉴 선택 : 1\n",
      "이름 : 홍길동\n",
      "전화 : 010-5555-9999\n",
      "메일 : hong@naver.com\n",
      "나이 : 55\n",
      "등급(1~5) : 3\n",
      "기타 정보 : -\n",
      "1:입력|2:전체출력|3:삭제|4:이름찾기|5:내보내기(csv)|9:종료\n",
      "메뉴 선택 : 2\n",
      "================================================================================\n",
      "                                      고객정보                                      \n",
      "--------------------------------------------------------------------------------\n",
      "GRADE\t이름 \t     전화      \t         메일         \t나이 \t기타\n",
      "================================================================================\n",
      "*****\t홍길동\t010-1111-9999\t   hong@naver.com   \t23 \t-\n",
      "*****\t홍길동\t010-2222-9999\t  hongs@naver.com   \t27 \t-\n",
      "*****\t홍길동\t010-3333-9999\t  hongs@naver.com   \t27 \t-\n",
      "   **\t신길동\t010-1144-6688\t   kims@naver.com   \t37 \t없음\n",
      "   **\t신길동\t010-2244-6688\t   kims@naver.com   \t37 \t없음\n",
      "   **\t신길동\t010-3344-6688\t   kims@naver.com   \t37 \t없음\n",
      " ****\t신림동\t010-1133-5577\t   sims@naver.com   \t73 \t까칠해\n",
      "  ***\t홍길동\t010-4444-9999\twjdwhdgur111@naver.com\t35 \t없음\n",
      "  ***\t홍길동\t010-5555-9999\t   hong@naver.com   \t55 \t-\n",
      "================================================================================\n",
      "1:입력|2:전체출력|3:삭제|4:이름찾기|5:내보내기(csv)|9:종료\n",
      "메뉴 선택 : 9\n",
      "백업하였습니다.\n",
      "프로그램을 종료합니다.\n"
     ]
    }
   ],
   "source": [
    "if __name__ == '__main__' :\n",
    "    main()"
   ]
  },
  {
   "cell_type": "code",
   "execution_count": null,
   "id": "725fa3c5",
   "metadata": {},
   "outputs": [],
   "source": []
  }
 ],
 "metadata": {
  "kernelspec": {
   "display_name": "Python 3 (ipykernel)",
   "language": "python",
   "name": "python3"
  },
  "language_info": {
   "codemirror_mode": {
    "name": "ipython",
    "version": 3
   },
   "file_extension": ".py",
   "mimetype": "text/x-python",
   "name": "python",
   "nbconvert_exporter": "python",
   "pygments_lexer": "ipython3",
   "version": "3.10.9"
  },
  "toc": {
   "base_numbering": 1,
   "nav_menu": {},
   "number_sections": false,
   "sideBar": true,
   "skip_h1_title": false,
   "title_cell": "Table of Contents",
   "title_sidebar": "Contents",
   "toc_cell": false,
   "toc_position": {
    "height": "calc(100% - 180px)",
    "left": "10px",
    "top": "150px",
    "width": "165px"
   },
   "toc_section_display": true,
   "toc_window_display": true
  }
 },
 "nbformat": 4,
 "nbformat_minor": 5
}
