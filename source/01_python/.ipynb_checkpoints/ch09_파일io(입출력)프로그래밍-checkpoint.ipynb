{
 "cells": [
  {
   "cell_type": "code",
   "execution_count": 9,
   "id": "3d07ecdc",
   "metadata": {},
   "outputs": [
    {
     "data": {
      "text/html": [
       "\n",
       "<style>\n",
       "div.container{width:86% !important;}\n",
       "div.cell.code_cell.rendered{width:100%;}\n",
       "div.CodeMirror {font-family:Consolas; font-size:12pt;}\n",
       "div.output {font-size:12pt; font-weight:bold;}\n",
       "div.input {font-family:Consolas; fo\n",
       "nt-size:12pt;}\n",
       "div.prompt {min-width:70px;}\n",
       "div#toc-wrapper{padding-top:130px;}\n",
       "div.text_cell_render ul li{font-size:12pt;padding:5px;}\n",
       "table.dataframe{font-size:15px;}\n",
       "</style>\n"
      ],
      "text/plain": [
       "<IPython.core.display.HTML object>"
      ]
     },
     "metadata": {},
     "output_type": "display_data"
    }
   ],
   "source": [
    "from IPython.display import display, HTML\n",
    "display(HTML(\"\"\"\n",
    "<style>\n",
    "div.container{width:86% !important;}\n",
    "div.cell.code_cell.rendered{width:100%;}\n",
    "div.CodeMirror {font-family:Consolas; font-size:12pt;}\n",
    "div.output {font-size:12pt; font-weight:bold;}\n",
    "div.input {font-family:Consolas; fo\n",
    "nt-size:12pt;}\n",
    "div.prompt {min-width:70px;}\n",
    "div#toc-wrapper{padding-top:130px;}\n",
    "div.text_cell_render ul li{font-size:12pt;padding:5px;}\n",
    "table.dataframe{font-size:15px;}\n",
    "</style>\n",
    "\"\"\"))"
   ]
  },
  {
   "cell_type": "markdown",
   "id": "80738d5d",
   "metadata": {},
   "source": [
    "<b><font size = 5, color = 'red'> ch09 파일 io(입출력) 프로그래밍 </font></b>\n",
    "* 파일 : txt, pickle, csv, json, hdf5(h5)\n",
    "\n",
    "# 1절 txt파일에 데이터 저장하고 불러오기\n",
    "- 히스토리 남기는 용도"
   ]
  },
  {
   "cell_type": "markdown",
   "id": "522a3fae",
   "metadata": {},
   "source": [
    "교육목적으로 아래와 같은 코드 중 open과 close만 활용"
   ]
  },
  {
   "cell_type": "code",
   "execution_count": 2,
   "id": "7d0a18c4",
   "metadata": {},
   "outputs": [],
   "source": [
    "try :\n",
    "    f= open('data/ch09.txt', 'w') # write stream 객체\n",
    "    # 데이터 출력\n",
    "except Exception as e:\n",
    "    print(e)\n",
    "finally :\n",
    "    f.close()"
   ]
  },
  {
   "cell_type": "code",
   "execution_count": 3,
   "id": "f919c57c",
   "metadata": {},
   "outputs": [
    {
     "name": "stdout",
     "output_type": "stream",
     "text": [
      "쓰기 가능 여부 체크 True\n"
     ]
    }
   ],
   "source": [
    "f= open('data/ch09.txt', 'w')\n",
    "print('쓰기 가능 여부 체크', f.writable())"
   ]
  },
  {
   "cell_type": "code",
   "execution_count": 4,
   "id": "4185523e",
   "metadata": {},
   "outputs": [],
   "source": [
    "f.write('Hello\\nWorld')\n",
    "f.close() # close() 하지 않으면 내용 저장 X"
   ]
  },
  {
   "cell_type": "markdown",
   "id": "16e32939",
   "metadata": {},
   "source": [
    "open, close 실수가 있을 수 있으니 with문을 사용하자"
   ]
  },
  {
   "cell_type": "code",
   "execution_count": 5,
   "id": "7adf2002",
   "metadata": {},
   "outputs": [
    {
     "name": "stdout",
     "output_type": "stream",
     "text": [
      "쓰기 가능 여부 체크 True\n"
     ]
    }
   ],
   "source": [
    "# mode | 'r' 또는 'rt' : text 읽기 모드 => 파일이 없으면 예외 발생\n",
    "#        'rb' 바이너리 읽기 모드(r 모드가 안먹히면 rb)\n",
    "#        'w' 또는 'wt' : text 쓰기 모드 => 덮어쓰기한다(파일이 있으면 덮어쓰기, 파일이 없으면 파일 생성), 폴더위치가 정확하지 않으면 예외\n",
    "#        'wb' 바이너리 쓰기 모드\n",
    "#        'a' 또는 'at' : text append 모드(파일이 있으면 append, 파일이 없으면 파일 생성)\n",
    "#        읽기 모드에서 파일이 없으면 예외 발생 // 쓰기 모드에서 폴더가 없으면 예외 발생\n",
    "# encoding\n",
    "    # euc-kr (한글 완성형) 믜 X\n",
    "    # cp949 (확장된 한글 완성형) : open()함수 기본 인코딩 방식(windows) \n",
    "    # utf-8 (한글 조합형) : mac, linux에서는 utf-8 방식, 주피터노트북 기본\n",
    "with open('data/ch09.txt', 'w') as f :\n",
    "    print('쓰기 가능 여부 체크', f.writable())\n",
    "    f.write('Hello\\nPython')"
   ]
  },
  {
   "cell_type": "markdown",
   "id": "579ff9b0",
   "metadata": {},
   "source": [
    "mode = 'w' 활용 가능한 모드\n",
    "```\n",
    "'r'       open for reading (default) => 'rt' : text모드로 열겠다 / 파일이 있는 경우 예외, 있는 경우 text 열기 모드\n",
    "'w'       open for writing, truncating the file first\n",
    "'x'       create a new file and open it for writing\n",
    "'a'       open for writing, appending to the end of the file if it exists\n",
    "'b'       binary mode\n",
    "'t'       text mode (default)\n",
    "'+'       open a disk file for updating (reading and writing)\n",
    "'U'       universal newline mode (deprecated)\n",
    "```"
   ]
  },
  {
   "cell_type": "code",
   "execution_count": 6,
   "id": "8bca8f9d",
   "metadata": {},
   "outputs": [],
   "source": [
    "with open('data/ch09.txt', 'a', encoding='utf-8') as f :\n",
    "    # 여러줄 저장하는 방법\n",
    "    # 1방법\n",
    "    f.write('\\n1방법\\n')\n",
    "    f.write('홍길동, 33, 아무동9\\n')\n",
    "    f.write('김길동, 22, 아무동8\\n')\n",
    "    # 2방법\n",
    "    textlist = ['2방법\\n','홍길동, 33, 아무동9\\n','김길동, 22, 아무동8\\n']\n",
    "    for i in textlist :\n",
    "        f.write(i)\n",
    "    # ★★ 3방법 ★★\n",
    "    textlist2 = ['3방법\\n','홍길동, 33, 아무동9\\n','김길동, 22, 아무동8\\n']\n",
    "    f.writelines(textlist2)"
   ]
  },
  {
   "cell_type": "code",
   "execution_count": 7,
   "id": "9f3e997e",
   "metadata": {},
   "outputs": [
    {
     "name": "stdout",
     "output_type": "stream",
     "text": [
      "Hello\n",
      "Python\n",
      "1방법\n",
      "홍길동, 33, 아무동9\n",
      "김길동, 22, 아무동8\n",
      "2방법\n",
      "홍길동, 33, 아무동9\n",
      "김길동, 22, 아무동8\n",
      "3방법\n",
      "홍길동, 33, 아무동9\n",
      "김길동, 22, 아무동8\n"
     ]
    }
   ],
   "source": [
    "# 한 줄씩 읽기\n",
    "with open('data/ch09.txt', 'r', encoding='utf-8') as f :\n",
    "    line = f.readline()\n",
    "    while line != '' :\n",
    "        print(line, end = '')\n",
    "        line = f.readline()"
   ]
  },
  {
   "cell_type": "code",
   "execution_count": 8,
   "id": "cecb7d18",
   "metadata": {},
   "outputs": [
    {
     "name": "stdout",
     "output_type": "stream",
     "text": [
      "['Hello\\n', 'Python\\n', '1방법\\n', '홍길동, 33, 아무동9\\n', '김길동, 22, 아무동8\\n', '2방법\\n', '홍길동, 33, 아무동9\\n', '김길동, 22, 아무동8\\n', '3방법\\n', '홍길동, 33, 아무동9\\n', '김길동, 22, 아무동8\\n']\n",
      "Hello\n",
      "Python\n",
      "1방법\n",
      "홍길동, 33, 아무동9\n",
      "김길동, 22, 아무동8\n",
      "2방법\n",
      "홍길동, 33, 아무동9\n",
      "김길동, 22, 아무동8\n",
      "3방법\n",
      "홍길동, 33, 아무동9\n",
      "김길동, 22, 아무동8\n",
      "\n"
     ]
    }
   ],
   "source": [
    "# ★★ 모든 줄 읽기 + 리스트로 반환하기 ★★\n",
    "with open('data/ch09.txt', 'r', encoding='utf-8') as f :\n",
    "    line = f.readlines()\n",
    "    print(line)\n",
    "    print(''.join(line))"
   ]
  },
  {
   "cell_type": "code",
   "execution_count": 9,
   "id": "63e84e6b",
   "metadata": {},
   "outputs": [
    {
     "name": "stdout",
     "output_type": "stream",
     "text": [
      "Hello\n",
      "Python\n",
      "1방법\n",
      "홍길동, 33, 아무동9\n",
      "김길동, 22, 아무동8\n",
      "2방법\n",
      "홍길동, 33, 아무동9\n",
      "김길동, 22, 아무동8\n",
      "3방법\n",
      "홍길동, 33, 아무동9\n",
      "김길동, 22, 아무동8\n",
      "\n"
     ]
    }
   ],
   "source": [
    "# 모든 줄 읽기\n",
    "with open('data/ch09.txt', 'r', encoding='utf-8') as f :\n",
    "    line = f.read()\n",
    "    print(line)"
   ]
  },
  {
   "cell_type": "markdown",
   "id": "38da767b",
   "metadata": {},
   "source": [
    "# 2절 pickle 파일에 데이터 저장하고 불러오기\n",
    "\n",
    "## 2.1 형식이 있는 txt 데이터 불러오기"
   ]
  },
  {
   "cell_type": "code",
   "execution_count": 10,
   "id": "3b34499b",
   "metadata": {},
   "outputs": [],
   "source": [
    "class Member :\n",
    "    __count = 0\n",
    "    def __init__(self, name, age, email, address) :\n",
    "        self.name = name\n",
    "        self.age = age\n",
    "        self.email = email\n",
    "        self.address = address\n",
    "        Member._Member__count += 1\n",
    "        \n",
    "    def count_member(self) :\n",
    "        return Member._Member__count\n",
    "    \n",
    "    def __str__(self) :\n",
    "        return f'{self.name}, {\"성년\" if self.age >=20 else \"미성년\"}, {self.email}, {self.address}'\n",
    "    \n",
    "    def as_dict(self) : # 딕셔너리 객체로 반환 __dict__\n",
    "        return {'name' : self.name, 'age' : self.age, 'email' : self.email, 'address' : self.address}\n",
    "    \n",
    "    def __eq__(self, other) : # == 연산 간 체크하는 내용(Object 기본 함수)\n",
    "        return self.name == other.name and \\\n",
    "                self.age == other.age and \\\n",
    "                self.email == other.email and \\\n",
    "                self.address == other.address"
   ]
  },
  {
   "cell_type": "code",
   "execution_count": 11,
   "id": "0d087358",
   "metadata": {},
   "outputs": [
    {
     "name": "stdout",
     "output_type": "stream",
     "text": [
      "True\n",
      "True\n"
     ]
    }
   ],
   "source": [
    "user1 = Member('홍',20,'a@a.com','신림동')\n",
    "user2 = Member('홍',20,'a@a.com','신림동')\n",
    "print(user1 == user2) # user1 에게 할당된 주소와 값 != user2에게 할당된 주소와 값\n",
    "print(user1.__eq__(user2)) # 같은 내용이면 True가 되도록 하고 싶음"
   ]
  },
  {
   "cell_type": "code",
   "execution_count": 12,
   "id": "bcab6ff8",
   "metadata": {},
   "outputs": [],
   "source": [
    "# 형식이 있는 txt 파일 내용을 Member 객체 리스트(피클로 저장하기 위함), 딕셔너리 리스트(DataFrame)로 저장\n",
    "user_list = [] # Member list\n",
    "user_dict = [] # 딕셔너리 list\n",
    "with open('data/ch09_member.txt', 'r', encoding='utf-8') as txt_file :\n",
    "    lines = txt_file.readlines()\n",
    "# print(lines) : 리스트 속 개인정보 문장이 3개 들어있는 형태\n",
    "for line in lines :\n",
    "    data = line.split(', ')\n",
    "    # print(data)\n",
    "    name = data[0].strip()\n",
    "    age = int(data[1].strip())\n",
    "    email = data[2].strip()\n",
    "    address = data[3].strip()\n",
    "    user = Member(name,age,email,address)\n",
    "    user_list.append(user)\n",
    "    # user_dict.append(user.as_dict())\n",
    "    user_dict.append(user.__dict__)"
   ]
  },
  {
   "cell_type": "code",
   "execution_count": 13,
   "id": "99f4d871",
   "metadata": {},
   "outputs": [
    {
     "name": "stdout",
     "output_type": "stream",
     "text": [
      "[{'name': '홍길동', 'age': 20, 'email': 'kildong@hong.com', 'address': '서울시 관악구'}, {'name': '홍길숙', 'age': 25, 'email': 'kilsuk1@hong.com', 'address': '서울시 영등포구'}, {'name': '신길동', 'age': 30, 'email': 'shinkil@hong.com', 'address': '서울시 동작구'}]\n",
      "[<__main__.Member object at 0x00000236475C5390>, <__main__.Member object at 0x00000236475C7C40>, <__main__.Member object at 0x00000236475C5960>]\n",
      "홍길동, 성년, kildong@hong.com, 서울시 관악구\n",
      "홍길숙, 성년, kilsuk1@hong.com, 서울시 영등포구\n",
      "신길동, 성년, shinkil@hong.com, 서울시 동작구\n"
     ]
    }
   ],
   "source": [
    "print(user_dict)\n",
    "print(user_list)\n",
    "for i in user_list : # Member 클래스를 정의할 때 __str__(self)에 정의한 return값이 반환되서 확인이 가능하다.\n",
    "    print(i)"
   ]
  },
  {
   "cell_type": "markdown",
   "id": "47505f66",
   "metadata": {},
   "source": [
    "## 2.2 피클링\n",
    "- 객체 리스트(user_list) -> 피클 파일로 쓰기\n",
    "- 피클 파일을 읽기 -> 객체 리스트(load_user_list)"
   ]
  },
  {
   "cell_type": "code",
   "execution_count": 14,
   "id": "8d317471",
   "metadata": {},
   "outputs": [],
   "source": [
    "# 피클링을 이용한 객체를 저장하기\n",
    "# user_list를 피클로 저장하기(쓰기)\n",
    "# 오직 파이썬에서만 읽을 수 있는 구조\n",
    "import pickle\n",
    "with open('data/ch09_member.data', 'wb') as f : # txt파일이 아니니까 wb 바이너리 모드로!\n",
    "    pickle.dump(user_list, f)"
   ]
  },
  {
   "cell_type": "code",
   "execution_count": 15,
   "id": "376d2908",
   "metadata": {},
   "outputs": [],
   "source": [
    "# 피클링을 이용한 파일에서 객체 데이터로 읽기\n",
    "# load_user_list\n",
    "with open('data/ch09_member.data', 'rb') as f : # txt파일이 아니니까 wb 바이너리 모드로!\n",
    "    load_user_list = pickle.load(f)"
   ]
  },
  {
   "cell_type": "code",
   "execution_count": 16,
   "id": "7148ebe2",
   "metadata": {},
   "outputs": [
    {
     "data": {
      "text/plain": [
       "True"
      ]
     },
     "execution_count": 16,
     "metadata": {},
     "output_type": "execute_result"
    }
   ],
   "source": [
    "load_user_list == user_list"
   ]
  },
  {
   "cell_type": "code",
   "execution_count": 17,
   "id": "170fd387",
   "metadata": {},
   "outputs": [
    {
     "name": "stdout",
     "output_type": "stream",
     "text": [
      "0 홍길동, 성년, kildong@hong.com, 서울시 관악구\n",
      "0 홍길동, 성년, kildong@hong.com, 서울시 관악구\n",
      "1 홍길숙, 성년, kilsuk1@hong.com, 서울시 영등포구\n",
      "1 홍길숙, 성년, kilsuk1@hong.com, 서울시 영등포구\n",
      "2 신길동, 성년, shinkil@hong.com, 서울시 동작구\n",
      "2 신길동, 성년, shinkil@hong.com, 서울시 동작구\n"
     ]
    }
   ],
   "source": [
    "# ★★ 코드 멋지게 풀어낸 방법 ★★\n",
    "for idx, (user, load_user) in enumerate(zip(load_user_list,user_list)) : # zip : (a,b) 튜플로 묶어준다\n",
    "    print(idx, user)\n",
    "    print(idx, load_user)"
   ]
  },
  {
   "cell_type": "code",
   "execution_count": 18,
   "id": "0bead4ea",
   "metadata": {},
   "outputs": [
    {
     "name": "stdout",
     "output_type": "stream",
     "text": [
      "0 홍길동, 성년, kildong@hong.com, 서울시 관악구\n",
      "0 홍길동, 성년, kildong@hong.com, 서울시 관악구\n",
      "1 홍길숙, 성년, kilsuk1@hong.com, 서울시 영등포구\n",
      "1 홍길숙, 성년, kilsuk1@hong.com, 서울시 영등포구\n",
      "2 신길동, 성년, shinkil@hong.com, 서울시 동작구\n",
      "2 신길동, 성년, shinkil@hong.com, 서울시 동작구\n"
     ]
    }
   ],
   "source": [
    "for i in range(len(user_list)) :\n",
    "    print(i, user_list[i])\n",
    "    print(i, load_user_list[i])"
   ]
  },
  {
   "cell_type": "code",
   "execution_count": 19,
   "id": "2d0622bb",
   "metadata": {},
   "outputs": [
    {
     "name": "stdout",
     "output_type": "stream",
     "text": [
      "[True, True, True]\n",
      "True\n"
     ]
    },
    {
     "data": {
      "text/plain": [
       "True"
      ]
     },
     "execution_count": 19,
     "metadata": {},
     "output_type": "execute_result"
    }
   ],
   "source": [
    "# 데이터가 모두 같은 지 체크할 때 사용하는 all 함수\n",
    "result = []\n",
    "for user, load_user in zip(user_list, load_user_list) :\n",
    "    result.append(user == load_user)\n",
    "print(result)\n",
    "print(all(result))\n",
    "# 더 간략하게 아래와 같이 표현하면 된다.\n",
    "all(user == load_user for (user, load_user) in zip(load_user_list,user_list))"
   ]
  },
  {
   "cell_type": "markdown",
   "id": "a34aa33b",
   "metadata": {},
   "source": [
    "# 3절 csv파일에 데이터 저장하고 불러오기\n",
    "- csv 파일을 리스트 데이터로 읽기 csv <-> 리스트데이터 3.1 / 3.2\n",
    "- csv 파일을 딕셔너리 데이터로 읽기 csv <-> 딕셔너리리스트 3.3 / 3.4"
   ]
  },
  {
   "cell_type": "markdown",
   "id": "184aa473",
   "metadata": {},
   "source": [
    "## 3.1 reader : csv파일 -> 리스트데이터"
   ]
  },
  {
   "cell_type": "code",
   "execution_count": 20,
   "id": "2f97b3de",
   "metadata": {},
   "outputs": [
    {
     "name": "stdout",
     "output_type": "stream",
     "text": [
      "[['홍길동', 20.0, 'kildong@hong.com', '서울시 관악구'], ['김길동', 40.0, 'kimdong@hong.com', '서울시 영등포구'], ['신길동', 30.0, 'sindong@hong.com', '서울시 동작구']]\n"
     ]
    }
   ],
   "source": [
    "# \"\"(따옴표)가 없는 데이터는 numeric으로 csv.reader(f, quoting = csv.QUOTE_NONNUMERIC)\n",
    "import csv # csv파일을 다루는 lib\n",
    "with open('data/ch09_member1.csv', 'r', encoding='utf-8') as f :\n",
    "    reader = csv.reader(f, quoting = csv.QUOTE_NONNUMERIC) # 한 줄씩 읽고 리스트로 만들어준다. ','을 기준으로, strip()까지 해준다.\n",
    "    result = list(reader) # 만약 여기서 사용하던 걸 밖에서 쓰려면 할당해서 가져와야한다\n",
    "print(result)"
   ]
  },
  {
   "cell_type": "markdown",
   "id": "161d0e39",
   "metadata": {},
   "source": [
    "## 3.2 writer : 리스트데이터 -> csv파일"
   ]
  },
  {
   "cell_type": "code",
   "execution_count": 21,
   "id": "799302bd",
   "metadata": {},
   "outputs": [],
   "source": [
    "import csv\n",
    "list_data = [['홍길동', 20, 'kildong@hong.com', '서울시 관악구'], \n",
    "             ['김길동', 40, 'kimdong@hong.com', '서울시 영등포구'], \n",
    "             ['신길동', 30, 'sindong@hong.com', '서울시 동작구']]\n",
    "\n",
    "with open('data/ch09_member1_write.csv', 'a', newline='', encoding='utf-8') as f :\n",
    "    writer = csv.writer(f)\n",
    "    writer.writerows(list_data)"
   ]
  },
  {
   "cell_type": "code",
   "execution_count": 22,
   "id": "050292c3",
   "metadata": {},
   "outputs": [],
   "source": [
    "with open('data/ch09_member1_write.csv', 'w', newline='', encoding='utf-8') as f :\n",
    "    writer = csv.writer(f,quoting = csv.QUOTE_NONNUMERIC)\n",
    "    writer.writerows(list_data)"
   ]
  },
  {
   "cell_type": "markdown",
   "id": "74bdb71d",
   "metadata": {},
   "source": [
    "## 3.3 DictReader : csv -> 딕셔너리리스트"
   ]
  },
  {
   "cell_type": "code",
   "execution_count": 23,
   "id": "fe1e9ced",
   "metadata": {},
   "outputs": [],
   "source": [
    "# 만약 DataReader 메서드가 없었다면 아래와 같은 긴 과정이 필요하다."
   ]
  },
  {
   "cell_type": "code",
   "execution_count": 24,
   "id": "fd9c8937",
   "metadata": {},
   "outputs": [
    {
     "name": "stdout",
     "output_type": "stream",
     "text": [
      "[{'name': '홍길동', 'age': 20.0, 'email': 'kildong@hong.com', 'address': '서울시 관악구'}, {'name': '김길동', 'age': 40.0, 'email': 'kimdong@hong.com', 'address': '서울시 영등포구'}, {'name': '신길동', 'age': 30.0, 'email': 'sindong@hong.com', 'address': '서울시 동작구'}]\n"
     ]
    }
   ],
   "source": [
    "# \"\"(따옴표)가 없는 데이터는 numeric으로 csv.reader(f, quoting = csv.QUOTE_NONNUMERIC)\n",
    "import csv # csv파일을 다루는 lib\n",
    "with open('data/ch09_member1.csv', 'r', encoding='utf-8') as f :\n",
    "    reader = csv.reader(f, quoting = csv.QUOTE_NONNUMERIC) # 한 줄씩 읽고 리스트로 만들어준다. ','을 기준으로, strip()까지 해준다.\n",
    "    result = list(reader) # 만약 여기서 사용하던 걸 밖에서 쓰려면 할당해서 가져와야한다\n",
    "# print(result)\n",
    "dict_list = []\n",
    "for data in result :\n",
    "    dict_list.append(\n",
    "        {\n",
    "        'name' : data[0],\n",
    "        'age' : data[1],\n",
    "        'email' : data[2],\n",
    "        'address' : data[3],\n",
    "        }\n",
    "        )\n",
    "print(dict_list)"
   ]
  },
  {
   "cell_type": "code",
   "execution_count": 25,
   "id": "bc5f8719",
   "metadata": {},
   "outputs": [
    {
     "name": "stdout",
     "output_type": "stream",
     "text": [
      "[{'name': '홍길동', 'age': 20.0, 'email': 'kildong@hong.com', 'address': '서울시 관악구'}, {'name': '김길동', 'age': 40.0, 'email': 'kimdong@hong.com', 'address': '서울시 영등포구'}, {'name': '신길동', 'age': 30.0, 'email': 'sindong@hong.com', 'address': '서울시 동작구'}]\n"
     ]
    }
   ],
   "source": [
    "# DictReader 한방에 해결\n",
    "# 헤더가 없으면 만들어서 넣어주면 된다. header = ['name', 'age', 'email', 'address']\n",
    "# \"\"(따옴표)가 없는 데이터는 numeric으로 csv.reader(f, quoting = csv.QUOTE_NONNUMERIC)\n",
    "\n",
    "import csv # csv파일을 다루는 lib\n",
    "header = ['name', 'age', 'email', 'address']\n",
    "with open('data/ch09_member1.csv', 'r', encoding='utf-8') as f :\n",
    "    reader = csv.DictReader(f, fieldnames=header, quoting = csv.QUOTE_NONNUMERIC) # 한 줄씩 읽고 리스트로 만들어준다. ','을 기준으로, strip()까지 해준다.\n",
    "    result = list(reader) # 만약 여기서 사용하던 걸 밖에서 쓰려면 할당해서 가져와야한다\n",
    "print(result)"
   ]
  },
  {
   "cell_type": "code",
   "execution_count": 26,
   "id": "e4687f23",
   "metadata": {},
   "outputs": [
    {
     "name": "stdout",
     "output_type": "stream",
     "text": [
      "[{'name': '홍길동', 'age': '20', 'email': 'h@h.com', 'address': '서울시 관악구', 'job': None}, {'name': '신길동', 'age': '40', 'email': 's@h.com', 'address': '서울시 영등포구', 'job': '팀장'}, {'name': '김길동', 'age': '30', 'email': 'k@h.com', 'address': '서울시 동작구', 'job': None}]\n",
      "홍길동 20 h@h.com 서울시 관악구\n",
      "신길동 40 s@h.com 서울시 영등포구 팀장\n",
      "김길동 30 k@h.com 서울시 동작구\n"
     ]
    }
   ],
   "source": [
    "with open('data/ch09_member3.csv',encoding='utf-8') as f :\n",
    "    dict_reader = csv.DictReader(f)\n",
    "    dict_list = list(dict_reader)\n",
    "print(dict_list)\n",
    "for row in dict_list :\n",
    "    if row['job'] is None :\n",
    "        print(row['name'], row['age'], row['email'], row['address'])\n",
    "    else :\n",
    "        print(row['name'], row['age'], row['email'], row['address'], row['job'])"
   ]
  },
  {
   "cell_type": "code",
   "execution_count": 27,
   "id": "75ec5477",
   "metadata": {},
   "outputs": [
    {
     "name": "stdout",
     "output_type": "stream",
     "text": [
      "[{'name': '홍길동', 'age': '20', 'email': 'kildong@hong.com', 'address': '서울시 관악구', 'job': ''}, {'name': '김길동', 'age': '40', 'email': 'kimdong@hong.com', 'address': '서울시 영등포구', 'job': '팀장'}, {'name': '신길동', 'age': '30', 'email': 'sindong@hong.com', 'address': '서울시 동작구', 'job': ''}]\n"
     ]
    }
   ],
   "source": [
    "# 헤더가 없는 csv 파일(ch09_member1-cp.csv)을 딕셔너리로 읽기\n",
    "header = ['name', 'age','email','address','job']\n",
    "with open('data/ch09_member1-cp.csv') as f :\n",
    "    dict_reader = csv.DictReader(f, fieldnames=header) # 포인터, stream객체 상태 사용하고 나면 with문에 의해 close()\n",
    "    print(list(dict_reader))\n",
    "    for row in dict_reader : # close()되어버림\n",
    "        print(1)\n",
    "        print(row)"
   ]
  },
  {
   "cell_type": "code",
   "execution_count": 28,
   "id": "d076a926",
   "metadata": {},
   "outputs": [
    {
     "name": "stdout",
     "output_type": "stream",
     "text": [
      "[{'name': '홍길동', 'age': '20', 'email': 'kildong@hong.com', 'address': '서울시 관악구', 'job': ''}, {'name': '김길동', 'age': '40', 'email': 'kimdong@hong.com', 'address': '서울시 영등포구', 'job': '팀장'}, {'name': '신길동', 'age': '30', 'email': 'sindong@hong.com', 'address': '서울시 동작구', 'job': ''}]\n"
     ]
    }
   ],
   "source": [
    "# 헤더가 없는 csv 파일(ch09_member1-cp.csv)을 딕셔너리로 읽기\n",
    "header = ['name', 'age','email','address','job']\n",
    "with open('data/ch09_member1-cp.csv') as f :\n",
    "    dict_reader = csv.DictReader(f, fieldnames=header) # 포인터, stream객체 상태 사용하고 나면 with문에 의해 close()\n",
    "    # 사용하려면 변수에 할당해야한다.\n",
    "    result = list(dict_reader)\n",
    "print(result)"
   ]
  },
  {
   "cell_type": "code",
   "execution_count": 29,
   "id": "b212d436",
   "metadata": {},
   "outputs": [
    {
     "name": "stdout",
     "output_type": "stream",
     "text": [
      "[{'name': '홍길동', 'age': '20', 'email': 'kildong@hong.com', 'address': '서울시 관악구', 'job': ''}, {'name': '김길동', 'age': '40', 'email': 'kimdong@hong.com', 'address': '서울시 영등포구', 'job': '팀장'}, {'name': '신길동', 'age': '30', 'email': 'sindong@hong.com', 'address': '서울시 동작구', 'job': ''}]\n"
     ]
    }
   ],
   "source": [
    "# 헤더가 없는 csv 파일(ch09_member1-cp.csv)을 딕셔너리로 읽기\n",
    "header = ['name', 'age','email','address','job']\n",
    "with open('data/ch09_member1-cp.csv') as f :\n",
    "    dict_reader = list(csv.DictReader(f, fieldnames=header) )\n",
    "print(dict_reader)"
   ]
  },
  {
   "cell_type": "code",
   "execution_count": 30,
   "id": "2e591b1d",
   "metadata": {},
   "outputs": [
    {
     "name": "stdout",
     "output_type": "stream",
     "text": [
      "[{'name': '홍길동', 'age': '20', 'email': 'kildong@hong.com', 'address': '서울시 관악구', 'Job': ['']}, {'name': '김길동', 'age': '40', 'email': 'kimdong@hong.com', 'address': '서울시 영등포구', 'Job': ['팀장']}, {'name': '신길동', 'age': '30', 'email': 'sindong@hong.com', 'address': '서울시 동작구', 'Job': ['']}]\n"
     ]
    }
   ],
   "source": [
    "# 헤더가 없는 csv 파일(ch09_member1-cp.csv)을 딕셔너리로 읽기\n",
    "header = ['name', 'age','email','address']\n",
    "with open('data/ch09_member1-cp.csv') as f :\n",
    "    dict_reader = list(csv.DictReader(f, fieldnames=header,\n",
    "                                     restkey='Job'))\n",
    "print(dict_reader)"
   ]
  },
  {
   "cell_type": "markdown",
   "id": "a2df78fc",
   "metadata": {},
   "source": [
    "## 3.4 DictWriter : 딕셔너리리스트 -> csv"
   ]
  },
  {
   "cell_type": "code",
   "execution_count": 31,
   "id": "2301a894",
   "metadata": {},
   "outputs": [],
   "source": [
    "user1 = {'name' : '홍길동', 'age' : 22, 'email' : 'a@a.com', 'address' : '신림동'}\n",
    "user2 = {'name' : '신길동', 'age' : 32, 'email' : 'b@b.com', 'address' : '신갈동'}\n",
    "user3 = {'name' : '홍길숙', 'age' : 42, 'email' : 'c@c.com', 'address' : '신원동'}\n",
    "user_list = [user1,user2,user3]\n",
    "fieldnames = list(user1.keys())"
   ]
  },
  {
   "cell_type": "code",
   "execution_count": 32,
   "id": "6950adde",
   "metadata": {},
   "outputs": [],
   "source": [
    "with open('data/ch09_member4.csv', 'a', newline='', encoding='utf-8') as f :\n",
    "    dict_write = csv.DictWriter(f, fieldnames=fieldnames)\n",
    "    dict_write.writeheader() # header 쓰기\n",
    "    dict_write.writerows(user_list)"
   ]
  },
  {
   "cell_type": "markdown",
   "id": "53d01675",
   "metadata": {},
   "source": [
    "### 참고자료 : csv <-> 데이터프레임"
   ]
  },
  {
   "cell_type": "code",
   "execution_count": 33,
   "id": "b894b1a3",
   "metadata": {
    "scrolled": true
   },
   "outputs": [
    {
     "name": "stdout",
     "output_type": "stream",
     "text": [
      "                                     0\n",
      "0   홍길동, 성년, kildong@hong.com, 서울시 관악구\n",
      "1  홍길숙, 성년, kilsuk1@hong.com, 서울시 영등포구\n",
      "2   신길동, 성년, shinkil@hong.com, 서울시 동작구\n"
     ]
    }
   ],
   "source": [
    "import pandas as pd\n",
    "df = pd.DataFrame(pd.read_pickle('data/ch09_member.data'))\n",
    "df2 = pd.DataFrame(pd.read_csv('data/ch09_member4.csv'))\n",
    "print(df)\n",
    "df2.to_csv('data/data_check.csv')"
   ]
  },
  {
   "cell_type": "markdown",
   "id": "51c98d48",
   "metadata": {},
   "source": [
    "# 4절 JSON 데이터 저장하고 불러오기(dump, load)\n",
    "- 딕셔너리 리스트 <-> JSON 파일(기본)\n",
    "- 객체리스트 <-> JSON 파일\n",
    "\n",
    "## 4.1 dump : 파일 출력\n",
    "- 딕셔너리 리스트 -> JSON 파일(기본)\n",
    "- 객체리스트 -> JSON 파일"
   ]
  },
  {
   "cell_type": "code",
   "execution_count": 34,
   "id": "12067407",
   "metadata": {},
   "outputs": [
    {
     "data": {
      "text/plain": [
       "[{'name': '홍길동', 'age': 20, 'email': 'kildong@hong.com', 'address': '서울'},\n",
       " {'name': '신길동', 'age': 30, 'email': 'shinkil@hong.com', 'address': '인천'}]"
      ]
     },
     "execution_count": 34,
     "metadata": {},
     "output_type": "execute_result"
    }
   ],
   "source": [
    "data = [{\n",
    "        'name': '홍길동', \n",
    "        'age': 20, \n",
    "        'email': 'kildong@hong.com', \n",
    "        'address': '서울'},\n",
    "        {'name': '신길동', \n",
    "         'age': 30, \n",
    "         'email': 'shinkil@hong.com', \n",
    "         'address': '인천'\n",
    "        }]\n",
    "data"
   ]
  },
  {
   "cell_type": "code",
   "execution_count": 35,
   "id": "0a311e8f",
   "metadata": {},
   "outputs": [],
   "source": [
    "# ensure_ascii 매개변수\n",
    "    # True : 비ASCII문은 유니코드 형태로 저장\n",
    "    # False : 비 ASCII문자 원래 형태로 저장\n",
    "import json\n",
    "with open('data/ch09_member.json', 'w', encoding='utf-8') as jsonfile :\n",
    "    json.dump(data, # 딕셔너리 리스트\n",
    "             jsonfile ,# 스트림 객체\n",
    "             ensure_ascii=False,\n",
    "             indent='\\t') # 들여쓰기"
   ]
  },
  {
   "cell_type": "code",
   "execution_count": 36,
   "id": "81440386",
   "metadata": {},
   "outputs": [],
   "source": [
    "class Member :\n",
    "    __count = 0\n",
    "    def __init__(self, name, age, email, address) :\n",
    "        self.name = name\n",
    "        self.age = age\n",
    "        self.email = email\n",
    "        self.address = address\n",
    "        Member._Member__count += 1\n",
    "        \n",
    "    def count_member(self) :\n",
    "        return Member._Member__count\n",
    "    \n",
    "    def __str__(self) :\n",
    "        return f'{self.name}, {self.age}, {self.email}, {self.address}'\n",
    "    \n",
    "    def as_dict(self) : # 딕셔너리 객체로 반환 __dict__\n",
    "        return {'name' : self.name, 'age' : self.age, 'email' : self.email, 'address' : self.address}\n",
    "    \n",
    "    def __eq__(self, other) : # == 연산 간 체크하는 내용(Object 기본 함수)\n",
    "        if isinstance(other, Member) :\n",
    "            return self.__str__() == other.__str__()\n",
    "        else : \n",
    "            return False"
   ]
  },
  {
   "cell_type": "code",
   "execution_count": 37,
   "id": "1a759d7c",
   "metadata": {},
   "outputs": [
    {
     "name": "stdout",
     "output_type": "stream",
     "text": [
      "False\n",
      "False\n"
     ]
    }
   ],
   "source": [
    "user1 = Member('홍길동',22,'a@a.com','신림동')\n",
    "user2 = Member('신길동',22,'a@a.com','신림동')\n",
    "print(user1.__eq__(user2))\n",
    "print(user1 == user2)"
   ]
  },
  {
   "cell_type": "code",
   "execution_count": 38,
   "id": "82e4fa15",
   "metadata": {},
   "outputs": [],
   "source": [
    "member_list = [user1, user2, Member('김길동',22,'a@a.com','신림동')]"
   ]
  },
  {
   "cell_type": "code",
   "execution_count": 39,
   "id": "6ed1a380",
   "metadata": {},
   "outputs": [],
   "source": [
    "import json\n",
    "with open('data/ch09_member00.json','w',encoding='utf-8') as jsonfile :\n",
    "    json.dump(member_list,\n",
    "             jsonfile,\n",
    "             ensure_ascii=False,\n",
    "             indent='\\t',\n",
    "             default=Member.as_dict) # 객체를 딕셔너리로 return하는 인스턴스 함수"
   ]
  },
  {
   "cell_type": "markdown",
   "id": "3dda5c17",
   "metadata": {},
   "source": [
    "## 4.2 load : 파일 입력\n",
    "- json파일 -> 딕셔너리 리스트 * 일반적\n",
    "                ↓\n",
    "- json파일 -> 객체리스트"
   ]
  },
  {
   "cell_type": "code",
   "execution_count": 40,
   "id": "7ba27b05",
   "metadata": {},
   "outputs": [
    {
     "name": "stdout",
     "output_type": "stream",
     "text": [
      "[{'name': '홍길동', 'age': 22, 'email': 'a@a.com', 'address': '신림동'}, {'name': '신길동', 'age': 22, 'email': 'a@a.com', 'address': '신림동'}, {'name': '김길동', 'age': 22, 'email': 'a@a.com', 'address': '신림동'}]\n"
     ]
    }
   ],
   "source": [
    "import json\n",
    "with open('data/ch09_member00.json','r',encoding='utf-8') as jsonfile :\n",
    "    json_loader = json.load(jsonfile)\n",
    "    result = list(json_loader)\n",
    "print(result)"
   ]
  },
  {
   "cell_type": "code",
   "execution_count": 41,
   "id": "e782af28",
   "metadata": {},
   "outputs": [
    {
     "name": "stdout",
     "output_type": "stream",
     "text": [
      "홍길동, 22, a@a.com, 신림동\n"
     ]
    }
   ],
   "source": [
    "def as_member(dic) :\n",
    "    '''매개변수로 딕셔너리를 입력받아 Member 객체를 리턴'''\n",
    "    return Member(dic.get('name'),dic.get('age'),dic.get('email'),dic.get('address'))\n",
    "member = as_member({'name': '홍길동', 'age': 22, 'email': 'a@a.com', 'address': '신림동'})\n",
    "print(member)"
   ]
  },
  {
   "cell_type": "code",
   "execution_count": 42,
   "id": "64f6c910",
   "metadata": {},
   "outputs": [
    {
     "data": {
      "text/plain": [
       "[{'name': '홍길동', 'age': 22, 'email': 'a@a.com', 'address': '신림동'},\n",
       " {'name': '신길동', 'age': 22, 'email': 'a@a.com', 'address': '신림동'},\n",
       " {'name': '김길동', 'age': 22, 'email': 'a@a.com', 'address': '신림동'}]"
      ]
     },
     "execution_count": 42,
     "metadata": {},
     "output_type": "execute_result"
    }
   ],
   "source": [
    "with open('data/ch09_member00.json', 'r', encoding='utf-8') as f :\n",
    "    load_data = json.load(f)\n",
    "load_data"
   ]
  },
  {
   "cell_type": "code",
   "execution_count": 43,
   "id": "3dde661d",
   "metadata": {},
   "outputs": [
    {
     "name": "stdout",
     "output_type": "stream",
     "text": [
      "홍길동, 20, kildong@hong.com, 서울\n",
      "신길동, 30, shinkil@hong.com, 인천\n"
     ]
    }
   ],
   "source": [
    "with open('data/ch09_member.json', 'r', encoding='utf-8') as f :\n",
    "    load_data_list = json.load(f, object_hook=as_member)\n",
    "for mem in load_data_list :\n",
    "    print(mem)"
   ]
  },
  {
   "cell_type": "markdown",
   "id": "3a917100",
   "metadata": {},
   "source": [
    "### 참고자료 : JSON -> 데이터프레임"
   ]
  },
  {
   "cell_type": "code",
   "execution_count": 44,
   "id": "f0eca404",
   "metadata": {},
   "outputs": [
    {
     "data": {
      "text/html": [
       "<div>\n",
       "<style scoped>\n",
       "    .dataframe tbody tr th:only-of-type {\n",
       "        vertical-align: middle;\n",
       "    }\n",
       "\n",
       "    .dataframe tbody tr th {\n",
       "        vertical-align: top;\n",
       "    }\n",
       "\n",
       "    .dataframe thead th {\n",
       "        text-align: right;\n",
       "    }\n",
       "</style>\n",
       "<table border=\"1\" class=\"dataframe\">\n",
       "  <thead>\n",
       "    <tr style=\"text-align: right;\">\n",
       "      <th></th>\n",
       "      <th>name</th>\n",
       "      <th>age</th>\n",
       "      <th>email</th>\n",
       "      <th>address</th>\n",
       "    </tr>\n",
       "  </thead>\n",
       "  <tbody>\n",
       "    <tr>\n",
       "      <th>0</th>\n",
       "      <td>홍길동</td>\n",
       "      <td>22</td>\n",
       "      <td>a@a.com</td>\n",
       "      <td>신림동</td>\n",
       "    </tr>\n",
       "    <tr>\n",
       "      <th>1</th>\n",
       "      <td>신길동</td>\n",
       "      <td>22</td>\n",
       "      <td>a@a.com</td>\n",
       "      <td>신림동</td>\n",
       "    </tr>\n",
       "    <tr>\n",
       "      <th>2</th>\n",
       "      <td>김길동</td>\n",
       "      <td>22</td>\n",
       "      <td>a@a.com</td>\n",
       "      <td>신림동</td>\n",
       "    </tr>\n",
       "  </tbody>\n",
       "</table>\n",
       "</div>"
      ],
      "text/plain": [
       "  name  age    email address\n",
       "0  홍길동   22  a@a.com     신림동\n",
       "1  신길동   22  a@a.com     신림동\n",
       "2  김길동   22  a@a.com     신림동"
      ]
     },
     "execution_count": 44,
     "metadata": {},
     "output_type": "execute_result"
    }
   ],
   "source": [
    "import pandas as pd\n",
    "pd.read_json('data/ch09_member00.json')\n",
    "# pd.함수() : encoding = 'utf-8' 기본값으로 사용한다.\n",
    "# open(파일, 모드='r', encoding='cp949')"
   ]
  },
  {
   "cell_type": "markdown",
   "id": "d1854618",
   "metadata": {},
   "source": [
    "# 5절 HDF5 파일 읽기/쓰기\n",
    "- h5py 라이브러리 활용\n",
    "- *.h5 or *.hdf : 딥러닝 모델 저장에 용이\n",
    "- HDViewer로 읽을 수 있음"
   ]
  },
  {
   "cell_type": "markdown",
   "id": "5ab6bee8",
   "metadata": {},
   "source": [
    "## 5.1 hdf5 파일 쓰기\n",
    "- 딕셔너리 리스트를 hdf5파일에 쓰기(default)\n",
    "- 데이터프레임을 hdf5 파일에 쓰기"
   ]
  },
  {
   "cell_type": "markdown",
   "id": "c2aa0f3a",
   "metadata": {},
   "source": [
    "### 5.1.1 데이터프레임 쓰기"
   ]
  },
  {
   "cell_type": "code",
   "execution_count": 58,
   "id": "317bd3c8",
   "metadata": {},
   "outputs": [
    {
     "data": {
      "text/html": [
       "<div>\n",
       "<style scoped>\n",
       "    .dataframe tbody tr th:only-of-type {\n",
       "        vertical-align: middle;\n",
       "    }\n",
       "\n",
       "    .dataframe tbody tr th {\n",
       "        vertical-align: top;\n",
       "    }\n",
       "\n",
       "    .dataframe thead th {\n",
       "        text-align: right;\n",
       "    }\n",
       "</style>\n",
       "<table border=\"1\" class=\"dataframe\">\n",
       "  <thead>\n",
       "    <tr style=\"text-align: right;\">\n",
       "      <th></th>\n",
       "      <th>sepal_length</th>\n",
       "      <th>sepal_width</th>\n",
       "      <th>petal_length</th>\n",
       "      <th>petal_width</th>\n",
       "      <th>species</th>\n",
       "    </tr>\n",
       "  </thead>\n",
       "  <tbody>\n",
       "    <tr>\n",
       "      <th>0</th>\n",
       "      <td>5.1</td>\n",
       "      <td>3.5</td>\n",
       "      <td>1.4</td>\n",
       "      <td>0.2</td>\n",
       "      <td>setosa</td>\n",
       "    </tr>\n",
       "    <tr>\n",
       "      <th>50</th>\n",
       "      <td>7.0</td>\n",
       "      <td>3.2</td>\n",
       "      <td>4.7</td>\n",
       "      <td>1.4</td>\n",
       "      <td>versicolor</td>\n",
       "    </tr>\n",
       "    <tr>\n",
       "      <th>100</th>\n",
       "      <td>6.3</td>\n",
       "      <td>3.3</td>\n",
       "      <td>6.0</td>\n",
       "      <td>2.5</td>\n",
       "      <td>virginica</td>\n",
       "    </tr>\n",
       "  </tbody>\n",
       "</table>\n",
       "</div>"
      ],
      "text/plain": [
       "     sepal_length  sepal_width  petal_length  petal_width     species\n",
       "0             5.1          3.5           1.4          0.2      setosa\n",
       "50            7.0          3.2           4.7          1.4  versicolor\n",
       "100           6.3          3.3           6.0          2.5   virginica"
      ]
     },
     "metadata": {},
     "output_type": "display_data"
    }
   ],
   "source": [
    "# seaborn : 시각화 패키지. 학습을 위한 데이터셋 다수\n",
    "import seaborn as sns\n",
    "iris_df = sns.load_dataset(\"iris\") # seaborn 패키지에서 제공하는 iris 데이터셋DataFrame 파일\n",
    "iris_df[::50] # 데이터의 상관 관계를 분석하고 N정규 분포(가우스분포)를 따르는가 검증하고 모델을 계획 : 유의미한 정보를 찾아봐야한다\n",
    "display(iris_df[::50]) # 데이터프레임은 주피터 노트북에서 display해야 가독성이 좋다"
   ]
  },
  {
   "cell_type": "code",
   "execution_count": 59,
   "id": "be2e3d26",
   "metadata": {},
   "outputs": [],
   "source": [
    "iris_df.to_hdf('data/ch09_iris.hdf5', key = 'iris') # key 인자 필수"
   ]
  },
  {
   "cell_type": "markdown",
   "id": "f5afb1c9",
   "metadata": {},
   "source": [
    "### 5.1.2 딕셔너리 리스트 쓰기"
   ]
  },
  {
   "cell_type": "code",
   "execution_count": 81,
   "id": "c700fe73",
   "metadata": {},
   "outputs": [
    {
     "data": {
      "text/plain": [
       "dict_keys(['sepal_length', 'sepal_width', 'petal_length', 'petal_width', 'species'])"
      ]
     },
     "execution_count": 81,
     "metadata": {},
     "output_type": "execute_result"
    }
   ],
   "source": [
    "iris_dic = iris_df.to_dict() # 사용할 딕셔너리 데이터 생성\n",
    "iris_dic.keys()"
   ]
  },
  {
   "cell_type": "code",
   "execution_count": 83,
   "id": "30328f6b",
   "metadata": {
    "collapsed": true
   },
   "outputs": [
    {
     "name": "stdout",
     "output_type": "stream",
     "text": [
      "그룹명 : sepal_length\n",
      "{0: 5.1, 1: 4.9, 2: 4.7, 3: 4.6, 4: 5.0, 5: 5.4, 6: 4.6, 7: 5.0, 8: 4.4, 9: 4.9, 10: 5.4, 11: 4.8, 12: 4.8, 13: 4.3, 14: 5.8, 15: 5.7, 16: 5.4, 17: 5.1, 18: 5.7, 19: 5.1, 20: 5.4, 21: 5.1, 22: 4.6, 23: 5.1, 24: 4.8, 25: 5.0, 26: 5.0, 27: 5.2, 28: 5.2, 29: 4.7, 30: 4.8, 31: 5.4, 32: 5.2, 33: 5.5, 34: 4.9, 35: 5.0, 36: 5.5, 37: 4.9, 38: 4.4, 39: 5.1, 40: 5.0, 41: 4.5, 42: 4.4, 43: 5.0, 44: 5.1, 45: 4.8, 46: 5.1, 47: 4.6, 48: 5.3, 49: 5.0, 50: 7.0, 51: 6.4, 52: 6.9, 53: 5.5, 54: 6.5, 55: 5.7, 56: 6.3, 57: 4.9, 58: 6.6, 59: 5.2, 60: 5.0, 61: 5.9, 62: 6.0, 63: 6.1, 64: 5.6, 65: 6.7, 66: 5.6, 67: 5.8, 68: 6.2, 69: 5.6, 70: 5.9, 71: 6.1, 72: 6.3, 73: 6.1, 74: 6.4, 75: 6.6, 76: 6.8, 77: 6.7, 78: 6.0, 79: 5.7, 80: 5.5, 81: 5.5, 82: 5.8, 83: 6.0, 84: 5.4, 85: 6.0, 86: 6.7, 87: 6.3, 88: 5.6, 89: 5.5, 90: 5.5, 91: 6.1, 92: 5.8, 93: 5.0, 94: 5.6, 95: 5.7, 96: 5.7, 97: 6.2, 98: 5.1, 99: 5.7, 100: 6.3, 101: 5.8, 102: 7.1, 103: 6.3, 104: 6.5, 105: 7.6, 106: 4.9, 107: 7.3, 108: 6.7, 109: 7.2, 110: 6.5, 111: 6.4, 112: 6.8, 113: 5.7, 114: 5.8, 115: 6.4, 116: 6.5, 117: 7.7, 118: 7.7, 119: 6.0, 120: 6.9, 121: 5.6, 122: 7.7, 123: 6.3, 124: 6.7, 125: 7.2, 126: 6.2, 127: 6.1, 128: 6.4, 129: 7.2, 130: 7.4, 131: 7.9, 132: 6.4, 133: 6.3, 134: 6.1, 135: 7.7, 136: 6.3, 137: 6.4, 138: 6.0, 139: 6.9, 140: 6.7, 141: 6.9, 142: 5.8, 143: 6.8, 144: 6.7, 145: 6.7, 146: 6.3, 147: 6.5, 148: 6.2, 149: 5.9}\n",
      "그룹명 : sepal_width\n",
      "{0: 3.5, 1: 3.0, 2: 3.2, 3: 3.1, 4: 3.6, 5: 3.9, 6: 3.4, 7: 3.4, 8: 2.9, 9: 3.1, 10: 3.7, 11: 3.4, 12: 3.0, 13: 3.0, 14: 4.0, 15: 4.4, 16: 3.9, 17: 3.5, 18: 3.8, 19: 3.8, 20: 3.4, 21: 3.7, 22: 3.6, 23: 3.3, 24: 3.4, 25: 3.0, 26: 3.4, 27: 3.5, 28: 3.4, 29: 3.2, 30: 3.1, 31: 3.4, 32: 4.1, 33: 4.2, 34: 3.1, 35: 3.2, 36: 3.5, 37: 3.6, 38: 3.0, 39: 3.4, 40: 3.5, 41: 2.3, 42: 3.2, 43: 3.5, 44: 3.8, 45: 3.0, 46: 3.8, 47: 3.2, 48: 3.7, 49: 3.3, 50: 3.2, 51: 3.2, 52: 3.1, 53: 2.3, 54: 2.8, 55: 2.8, 56: 3.3, 57: 2.4, 58: 2.9, 59: 2.7, 60: 2.0, 61: 3.0, 62: 2.2, 63: 2.9, 64: 2.9, 65: 3.1, 66: 3.0, 67: 2.7, 68: 2.2, 69: 2.5, 70: 3.2, 71: 2.8, 72: 2.5, 73: 2.8, 74: 2.9, 75: 3.0, 76: 2.8, 77: 3.0, 78: 2.9, 79: 2.6, 80: 2.4, 81: 2.4, 82: 2.7, 83: 2.7, 84: 3.0, 85: 3.4, 86: 3.1, 87: 2.3, 88: 3.0, 89: 2.5, 90: 2.6, 91: 3.0, 92: 2.6, 93: 2.3, 94: 2.7, 95: 3.0, 96: 2.9, 97: 2.9, 98: 2.5, 99: 2.8, 100: 3.3, 101: 2.7, 102: 3.0, 103: 2.9, 104: 3.0, 105: 3.0, 106: 2.5, 107: 2.9, 108: 2.5, 109: 3.6, 110: 3.2, 111: 2.7, 112: 3.0, 113: 2.5, 114: 2.8, 115: 3.2, 116: 3.0, 117: 3.8, 118: 2.6, 119: 2.2, 120: 3.2, 121: 2.8, 122: 2.8, 123: 2.7, 124: 3.3, 125: 3.2, 126: 2.8, 127: 3.0, 128: 2.8, 129: 3.0, 130: 2.8, 131: 3.8, 132: 2.8, 133: 2.8, 134: 2.6, 135: 3.0, 136: 3.4, 137: 3.1, 138: 3.0, 139: 3.1, 140: 3.1, 141: 3.1, 142: 2.7, 143: 3.2, 144: 3.3, 145: 3.0, 146: 2.5, 147: 3.0, 148: 3.4, 149: 3.0}\n",
      "그룹명 : petal_length\n",
      "{0: 1.4, 1: 1.4, 2: 1.3, 3: 1.5, 4: 1.4, 5: 1.7, 6: 1.4, 7: 1.5, 8: 1.4, 9: 1.5, 10: 1.5, 11: 1.6, 12: 1.4, 13: 1.1, 14: 1.2, 15: 1.5, 16: 1.3, 17: 1.4, 18: 1.7, 19: 1.5, 20: 1.7, 21: 1.5, 22: 1.0, 23: 1.7, 24: 1.9, 25: 1.6, 26: 1.6, 27: 1.5, 28: 1.4, 29: 1.6, 30: 1.6, 31: 1.5, 32: 1.5, 33: 1.4, 34: 1.5, 35: 1.2, 36: 1.3, 37: 1.4, 38: 1.3, 39: 1.5, 40: 1.3, 41: 1.3, 42: 1.3, 43: 1.6, 44: 1.9, 45: 1.4, 46: 1.6, 47: 1.4, 48: 1.5, 49: 1.4, 50: 4.7, 51: 4.5, 52: 4.9, 53: 4.0, 54: 4.6, 55: 4.5, 56: 4.7, 57: 3.3, 58: 4.6, 59: 3.9, 60: 3.5, 61: 4.2, 62: 4.0, 63: 4.7, 64: 3.6, 65: 4.4, 66: 4.5, 67: 4.1, 68: 4.5, 69: 3.9, 70: 4.8, 71: 4.0, 72: 4.9, 73: 4.7, 74: 4.3, 75: 4.4, 76: 4.8, 77: 5.0, 78: 4.5, 79: 3.5, 80: 3.8, 81: 3.7, 82: 3.9, 83: 5.1, 84: 4.5, 85: 4.5, 86: 4.7, 87: 4.4, 88: 4.1, 89: 4.0, 90: 4.4, 91: 4.6, 92: 4.0, 93: 3.3, 94: 4.2, 95: 4.2, 96: 4.2, 97: 4.3, 98: 3.0, 99: 4.1, 100: 6.0, 101: 5.1, 102: 5.9, 103: 5.6, 104: 5.8, 105: 6.6, 106: 4.5, 107: 6.3, 108: 5.8, 109: 6.1, 110: 5.1, 111: 5.3, 112: 5.5, 113: 5.0, 114: 5.1, 115: 5.3, 116: 5.5, 117: 6.7, 118: 6.9, 119: 5.0, 120: 5.7, 121: 4.9, 122: 6.7, 123: 4.9, 124: 5.7, 125: 6.0, 126: 4.8, 127: 4.9, 128: 5.6, 129: 5.8, 130: 6.1, 131: 6.4, 132: 5.6, 133: 5.1, 134: 5.6, 135: 6.1, 136: 5.6, 137: 5.5, 138: 4.8, 139: 5.4, 140: 5.6, 141: 5.1, 142: 5.1, 143: 5.9, 144: 5.7, 145: 5.2, 146: 5.0, 147: 5.2, 148: 5.4, 149: 5.1}\n",
      "그룹명 : petal_width\n",
      "{0: 0.2, 1: 0.2, 2: 0.2, 3: 0.2, 4: 0.2, 5: 0.4, 6: 0.3, 7: 0.2, 8: 0.2, 9: 0.1, 10: 0.2, 11: 0.2, 12: 0.1, 13: 0.1, 14: 0.2, 15: 0.4, 16: 0.4, 17: 0.3, 18: 0.3, 19: 0.3, 20: 0.2, 21: 0.4, 22: 0.2, 23: 0.5, 24: 0.2, 25: 0.2, 26: 0.4, 27: 0.2, 28: 0.2, 29: 0.2, 30: 0.2, 31: 0.4, 32: 0.1, 33: 0.2, 34: 0.2, 35: 0.2, 36: 0.2, 37: 0.1, 38: 0.2, 39: 0.2, 40: 0.3, 41: 0.3, 42: 0.2, 43: 0.6, 44: 0.4, 45: 0.3, 46: 0.2, 47: 0.2, 48: 0.2, 49: 0.2, 50: 1.4, 51: 1.5, 52: 1.5, 53: 1.3, 54: 1.5, 55: 1.3, 56: 1.6, 57: 1.0, 58: 1.3, 59: 1.4, 60: 1.0, 61: 1.5, 62: 1.0, 63: 1.4, 64: 1.3, 65: 1.4, 66: 1.5, 67: 1.0, 68: 1.5, 69: 1.1, 70: 1.8, 71: 1.3, 72: 1.5, 73: 1.2, 74: 1.3, 75: 1.4, 76: 1.4, 77: 1.7, 78: 1.5, 79: 1.0, 80: 1.1, 81: 1.0, 82: 1.2, 83: 1.6, 84: 1.5, 85: 1.6, 86: 1.5, 87: 1.3, 88: 1.3, 89: 1.3, 90: 1.2, 91: 1.4, 92: 1.2, 93: 1.0, 94: 1.3, 95: 1.2, 96: 1.3, 97: 1.3, 98: 1.1, 99: 1.3, 100: 2.5, 101: 1.9, 102: 2.1, 103: 1.8, 104: 2.2, 105: 2.1, 106: 1.7, 107: 1.8, 108: 1.8, 109: 2.5, 110: 2.0, 111: 1.9, 112: 2.1, 113: 2.0, 114: 2.4, 115: 2.3, 116: 1.8, 117: 2.2, 118: 2.3, 119: 1.5, 120: 2.3, 121: 2.0, 122: 2.0, 123: 1.8, 124: 2.1, 125: 1.8, 126: 1.8, 127: 1.8, 128: 2.1, 129: 1.6, 130: 1.9, 131: 2.0, 132: 2.2, 133: 1.5, 134: 1.4, 135: 2.3, 136: 2.4, 137: 1.8, 138: 1.8, 139: 2.1, 140: 2.4, 141: 2.3, 142: 1.9, 143: 2.3, 144: 2.5, 145: 2.3, 146: 1.9, 147: 2.0, 148: 2.3, 149: 1.8}\n",
      "그룹명 : species\n",
      "{0: 'setosa', 1: 'setosa', 2: 'setosa', 3: 'setosa', 4: 'setosa', 5: 'setosa', 6: 'setosa', 7: 'setosa', 8: 'setosa', 9: 'setosa', 10: 'setosa', 11: 'setosa', 12: 'setosa', 13: 'setosa', 14: 'setosa', 15: 'setosa', 16: 'setosa', 17: 'setosa', 18: 'setosa', 19: 'setosa', 20: 'setosa', 21: 'setosa', 22: 'setosa', 23: 'setosa', 24: 'setosa', 25: 'setosa', 26: 'setosa', 27: 'setosa', 28: 'setosa', 29: 'setosa', 30: 'setosa', 31: 'setosa', 32: 'setosa', 33: 'setosa', 34: 'setosa', 35: 'setosa', 36: 'setosa', 37: 'setosa', 38: 'setosa', 39: 'setosa', 40: 'setosa', 41: 'setosa', 42: 'setosa', 43: 'setosa', 44: 'setosa', 45: 'setosa', 46: 'setosa', 47: 'setosa', 48: 'setosa', 49: 'setosa', 50: 'versicolor', 51: 'versicolor', 52: 'versicolor', 53: 'versicolor', 54: 'versicolor', 55: 'versicolor', 56: 'versicolor', 57: 'versicolor', 58: 'versicolor', 59: 'versicolor', 60: 'versicolor', 61: 'versicolor', 62: 'versicolor', 63: 'versicolor', 64: 'versicolor', 65: 'versicolor', 66: 'versicolor', 67: 'versicolor', 68: 'versicolor', 69: 'versicolor', 70: 'versicolor', 71: 'versicolor', 72: 'versicolor', 73: 'versicolor', 74: 'versicolor', 75: 'versicolor', 76: 'versicolor', 77: 'versicolor', 78: 'versicolor', 79: 'versicolor', 80: 'versicolor', 81: 'versicolor', 82: 'versicolor', 83: 'versicolor', 84: 'versicolor', 85: 'versicolor', 86: 'versicolor', 87: 'versicolor', 88: 'versicolor', 89: 'versicolor', 90: 'versicolor', 91: 'versicolor', 92: 'versicolor', 93: 'versicolor', 94: 'versicolor', 95: 'versicolor', 96: 'versicolor', 97: 'versicolor', 98: 'versicolor', 99: 'versicolor', 100: 'virginica', 101: 'virginica', 102: 'virginica', 103: 'virginica', 104: 'virginica', 105: 'virginica', 106: 'virginica', 107: 'virginica', 108: 'virginica', 109: 'virginica', 110: 'virginica', 111: 'virginica', 112: 'virginica', 113: 'virginica', 114: 'virginica', 115: 'virginica', 116: 'virginica', 117: 'virginica', 118: 'virginica', 119: 'virginica', 120: 'virginica', 121: 'virginica', 122: 'virginica', 123: 'virginica', 124: 'virginica', 125: 'virginica', 126: 'virginica', 127: 'virginica', 128: 'virginica', 129: 'virginica', 130: 'virginica', 131: 'virginica', 132: 'virginica', 133: 'virginica', 134: 'virginica', 135: 'virginica', 136: 'virginica', 137: 'virginica', 138: 'virginica', 139: 'virginica', 140: 'virginica', 141: 'virginica', 142: 'virginica', 143: 'virginica', 144: 'virginica', 145: 'virginica', 146: 'virginica', 147: 'virginica', 148: 'virginica', 149: 'virginica'}\n"
     ]
    }
   ],
   "source": [
    "for group, val in iris_dic.items() :\n",
    "    print('그룹명 :', group)\n",
    "    # print(val) # val : 딕셔너리 타입으로 내용 체크"
   ]
  },
  {
   "cell_type": "code",
   "execution_count": 119,
   "id": "106dfb66",
   "metadata": {},
   "outputs": [
    {
     "name": "stdout",
     "output_type": "stream",
     "text": [
      "그룹명 : sepal_length\n",
      "{0: 5.1, 1: 4.9, 2: 4.7, 3: 4.6, 4: 5.0, 5: 5.4, 6: 4.6, 7: 5.0, 8: 4.4, 9: 4.9, 10: 5.4, 11: 4.8, 12: 4.8, 13: 4.3, 14: 5.8, 15: 5.7, 16: 5.4, 17: 5.1, 18: 5.7, 19: 5.1, 20: 5.4, 21: 5.1, 22: 4.6, 23: 5.1, 24: 4.8, 25: 5.0, 26: 5.0, 27: 5.2, 28: 5.2, 29: 4.7, 30: 4.8, 31: 5.4, 32: 5.2, 33: 5.5, 34: 4.9, 35: 5.0, 36: 5.5, 37: 4.9, 38: 4.4, 39: 5.1, 40: 5.0, 41: 4.5, 42: 4.4, 43: 5.0, 44: 5.1, 45: 4.8, 46: 5.1, 47: 4.6, 48: 5.3, 49: 5.0, 50: 7.0, 51: 6.4, 52: 6.9, 53: 5.5, 54: 6.5, 55: 5.7, 56: 6.3, 57: 4.9, 58: 6.6, 59: 5.2, 60: 5.0, 61: 5.9, 62: 6.0, 63: 6.1, 64: 5.6, 65: 6.7, 66: 5.6, 67: 5.8, 68: 6.2, 69: 5.6, 70: 5.9, 71: 6.1, 72: 6.3, 73: 6.1, 74: 6.4, 75: 6.6, 76: 6.8, 77: 6.7, 78: 6.0, 79: 5.7, 80: 5.5, 81: 5.5, 82: 5.8, 83: 6.0, 84: 5.4, 85: 6.0, 86: 6.7, 87: 6.3, 88: 5.6, 89: 5.5, 90: 5.5, 91: 6.1, 92: 5.8, 93: 5.0, 94: 5.6, 95: 5.7, 96: 5.7, 97: 6.2, 98: 5.1, 99: 5.7, 100: 6.3, 101: 5.8, 102: 7.1, 103: 6.3, 104: 6.5, 105: 7.6, 106: 4.9, 107: 7.3, 108: 6.7, 109: 7.2, 110: 6.5, 111: 6.4, 112: 6.8, 113: 5.7, 114: 5.8, 115: 6.4, 116: 6.5, 117: 7.7, 118: 7.7, 119: 6.0, 120: 6.9, 121: 5.6, 122: 7.7, 123: 6.3, 124: 6.7, 125: 7.2, 126: 6.2, 127: 6.1, 128: 6.4, 129: 7.2, 130: 7.4, 131: 7.9, 132: 6.4, 133: 6.3, 134: 6.1, 135: 7.7, 136: 6.3, 137: 6.4, 138: 6.0, 139: 6.9, 140: 6.7, 141: 6.9, 142: 5.8, 143: 6.8, 144: 6.7, 145: 6.7, 146: 6.3, 147: 6.5, 148: 6.2, 149: 5.9}\n",
      "0:5.1\t1:4.9\t2:4.7\t3:4.6\t4:5.0\t5:5.4\t6:4.6\t7:5.0\t8:4.4\t9:4.9\t10:5.4\t11:4.8\t12:4.8\t13:4.3\t14:5.8\t15:5.7\t16:5.4\t17:5.1\t18:5.7\t19:5.1\t20:5.4\t21:5.1\t22:4.6\t23:5.1\t24:4.8\t25:5.0\t26:5.0\t27:5.2\t28:5.2\t29:4.7\t30:4.8\t31:5.4\t32:5.2\t33:5.5\t34:4.9\t35:5.0\t36:5.5\t37:4.9\t38:4.4\t39:5.1\t40:5.0\t41:4.5\t42:4.4\t43:5.0\t44:5.1\t45:4.8\t46:5.1\t47:4.6\t48:5.3\t49:5.0\t50:7.0\t51:6.4\t52:6.9\t53:5.5\t54:6.5\t55:5.7\t56:6.3\t57:4.9\t58:6.6\t59:5.2\t60:5.0\t61:5.9\t62:6.0\t63:6.1\t64:5.6\t65:6.7\t66:5.6\t67:5.8\t68:6.2\t69:5.6\t70:5.9\t71:6.1\t72:6.3\t73:6.1\t74:6.4\t75:6.6\t76:6.8\t77:6.7\t78:6.0\t79:5.7\t80:5.5\t81:5.5\t82:5.8\t83:6.0\t84:5.4\t85:6.0\t86:6.7\t87:6.3\t88:5.6\t89:5.5\t90:5.5\t91:6.1\t92:5.8\t93:5.0\t94:5.6\t95:5.7\t96:5.7\t97:6.2\t98:5.1\t99:5.7\t100:6.3\t101:5.8\t102:7.1\t103:6.3\t104:6.5\t105:7.6\t106:4.9\t107:7.3\t108:6.7\t109:7.2\t110:6.5\t111:6.4\t112:6.8\t113:5.7\t114:5.8\t115:6.4\t116:6.5\t117:7.7\t118:7.7\t119:6.0\t120:6.9\t121:5.6\t122:7.7\t123:6.3\t124:6.7\t125:7.2\t126:6.2\t127:6.1\t128:6.4\t129:7.2\t130:7.4\t131:7.9\t132:6.4\t133:6.3\t134:6.1\t135:7.7\t136:6.3\t137:6.4\t138:6.0\t139:6.9\t140:6.7\t141:6.9\t142:5.8\t143:6.8\t144:6.7\t145:6.7\t146:6.3\t147:6.5\t148:6.2\t149:5.9\t\n",
      "그룹명 : sepal_width\n",
      "{0: 3.5, 1: 3.0, 2: 3.2, 3: 3.1, 4: 3.6, 5: 3.9, 6: 3.4, 7: 3.4, 8: 2.9, 9: 3.1, 10: 3.7, 11: 3.4, 12: 3.0, 13: 3.0, 14: 4.0, 15: 4.4, 16: 3.9, 17: 3.5, 18: 3.8, 19: 3.8, 20: 3.4, 21: 3.7, 22: 3.6, 23: 3.3, 24: 3.4, 25: 3.0, 26: 3.4, 27: 3.5, 28: 3.4, 29: 3.2, 30: 3.1, 31: 3.4, 32: 4.1, 33: 4.2, 34: 3.1, 35: 3.2, 36: 3.5, 37: 3.6, 38: 3.0, 39: 3.4, 40: 3.5, 41: 2.3, 42: 3.2, 43: 3.5, 44: 3.8, 45: 3.0, 46: 3.8, 47: 3.2, 48: 3.7, 49: 3.3, 50: 3.2, 51: 3.2, 52: 3.1, 53: 2.3, 54: 2.8, 55: 2.8, 56: 3.3, 57: 2.4, 58: 2.9, 59: 2.7, 60: 2.0, 61: 3.0, 62: 2.2, 63: 2.9, 64: 2.9, 65: 3.1, 66: 3.0, 67: 2.7, 68: 2.2, 69: 2.5, 70: 3.2, 71: 2.8, 72: 2.5, 73: 2.8, 74: 2.9, 75: 3.0, 76: 2.8, 77: 3.0, 78: 2.9, 79: 2.6, 80: 2.4, 81: 2.4, 82: 2.7, 83: 2.7, 84: 3.0, 85: 3.4, 86: 3.1, 87: 2.3, 88: 3.0, 89: 2.5, 90: 2.6, 91: 3.0, 92: 2.6, 93: 2.3, 94: 2.7, 95: 3.0, 96: 2.9, 97: 2.9, 98: 2.5, 99: 2.8, 100: 3.3, 101: 2.7, 102: 3.0, 103: 2.9, 104: 3.0, 105: 3.0, 106: 2.5, 107: 2.9, 108: 2.5, 109: 3.6, 110: 3.2, 111: 2.7, 112: 3.0, 113: 2.5, 114: 2.8, 115: 3.2, 116: 3.0, 117: 3.8, 118: 2.6, 119: 2.2, 120: 3.2, 121: 2.8, 122: 2.8, 123: 2.7, 124: 3.3, 125: 3.2, 126: 2.8, 127: 3.0, 128: 2.8, 129: 3.0, 130: 2.8, 131: 3.8, 132: 2.8, 133: 2.8, 134: 2.6, 135: 3.0, 136: 3.4, 137: 3.1, 138: 3.0, 139: 3.1, 140: 3.1, 141: 3.1, 142: 2.7, 143: 3.2, 144: 3.3, 145: 3.0, 146: 2.5, 147: 3.0, 148: 3.4, 149: 3.0}\n",
      "0:3.5\t1:3.0\t2:3.2\t3:3.1\t4:3.6\t5:3.9\t6:3.4\t7:3.4\t8:2.9\t9:3.1\t10:3.7\t11:3.4\t12:3.0\t13:3.0\t14:4.0\t15:4.4\t16:3.9\t17:3.5\t18:3.8\t19:3.8\t20:3.4\t21:3.7\t22:3.6\t23:3.3\t24:3.4\t25:3.0\t26:3.4\t27:3.5\t28:3.4\t29:3.2\t30:3.1\t31:3.4\t32:4.1\t33:4.2\t34:3.1\t35:3.2\t36:3.5\t37:3.6\t38:3.0\t39:3.4\t40:3.5\t41:2.3\t42:3.2\t43:3.5\t44:3.8\t45:3.0\t46:3.8\t47:3.2\t48:3.7\t49:3.3\t50:3.2\t51:3.2\t52:3.1\t53:2.3\t54:2.8\t55:2.8\t56:3.3\t57:2.4\t58:2.9\t59:2.7\t60:2.0\t61:3.0\t62:2.2\t63:2.9\t64:2.9\t65:3.1\t66:3.0\t67:2.7\t68:2.2\t69:2.5\t70:3.2\t71:2.8\t72:2.5\t73:2.8\t74:2.9\t75:3.0\t76:2.8\t77:3.0\t78:2.9\t79:2.6\t80:2.4\t81:2.4\t82:2.7\t83:2.7\t84:3.0\t85:3.4\t86:3.1\t87:2.3\t88:3.0\t89:2.5\t90:2.6\t91:3.0\t92:2.6\t93:2.3\t94:2.7\t95:3.0\t96:2.9\t97:2.9\t98:2.5\t99:2.8\t100:3.3\t101:2.7\t102:3.0\t103:2.9\t104:3.0\t105:3.0\t106:2.5\t107:2.9\t108:2.5\t109:3.6\t110:3.2\t111:2.7\t112:3.0\t113:2.5\t114:2.8\t115:3.2\t116:3.0\t117:3.8\t118:2.6\t119:2.2\t120:3.2\t121:2.8\t122:2.8\t123:2.7\t124:3.3\t125:3.2\t126:2.8\t127:3.0\t128:2.8\t129:3.0\t130:2.8\t131:3.8\t132:2.8\t133:2.8\t134:2.6\t135:3.0\t136:3.4\t137:3.1\t138:3.0\t139:3.1\t140:3.1\t141:3.1\t142:2.7\t143:3.2\t144:3.3\t145:3.0\t146:2.5\t147:3.0\t148:3.4\t149:3.0\t\n",
      "그룹명 : petal_length\n",
      "{0: 1.4, 1: 1.4, 2: 1.3, 3: 1.5, 4: 1.4, 5: 1.7, 6: 1.4, 7: 1.5, 8: 1.4, 9: 1.5, 10: 1.5, 11: 1.6, 12: 1.4, 13: 1.1, 14: 1.2, 15: 1.5, 16: 1.3, 17: 1.4, 18: 1.7, 19: 1.5, 20: 1.7, 21: 1.5, 22: 1.0, 23: 1.7, 24: 1.9, 25: 1.6, 26: 1.6, 27: 1.5, 28: 1.4, 29: 1.6, 30: 1.6, 31: 1.5, 32: 1.5, 33: 1.4, 34: 1.5, 35: 1.2, 36: 1.3, 37: 1.4, 38: 1.3, 39: 1.5, 40: 1.3, 41: 1.3, 42: 1.3, 43: 1.6, 44: 1.9, 45: 1.4, 46: 1.6, 47: 1.4, 48: 1.5, 49: 1.4, 50: 4.7, 51: 4.5, 52: 4.9, 53: 4.0, 54: 4.6, 55: 4.5, 56: 4.7, 57: 3.3, 58: 4.6, 59: 3.9, 60: 3.5, 61: 4.2, 62: 4.0, 63: 4.7, 64: 3.6, 65: 4.4, 66: 4.5, 67: 4.1, 68: 4.5, 69: 3.9, 70: 4.8, 71: 4.0, 72: 4.9, 73: 4.7, 74: 4.3, 75: 4.4, 76: 4.8, 77: 5.0, 78: 4.5, 79: 3.5, 80: 3.8, 81: 3.7, 82: 3.9, 83: 5.1, 84: 4.5, 85: 4.5, 86: 4.7, 87: 4.4, 88: 4.1, 89: 4.0, 90: 4.4, 91: 4.6, 92: 4.0, 93: 3.3, 94: 4.2, 95: 4.2, 96: 4.2, 97: 4.3, 98: 3.0, 99: 4.1, 100: 6.0, 101: 5.1, 102: 5.9, 103: 5.6, 104: 5.8, 105: 6.6, 106: 4.5, 107: 6.3, 108: 5.8, 109: 6.1, 110: 5.1, 111: 5.3, 112: 5.5, 113: 5.0, 114: 5.1, 115: 5.3, 116: 5.5, 117: 6.7, 118: 6.9, 119: 5.0, 120: 5.7, 121: 4.9, 122: 6.7, 123: 4.9, 124: 5.7, 125: 6.0, 126: 4.8, 127: 4.9, 128: 5.6, 129: 5.8, 130: 6.1, 131: 6.4, 132: 5.6, 133: 5.1, 134: 5.6, 135: 6.1, 136: 5.6, 137: 5.5, 138: 4.8, 139: 5.4, 140: 5.6, 141: 5.1, 142: 5.1, 143: 5.9, 144: 5.7, 145: 5.2, 146: 5.0, 147: 5.2, 148: 5.4, 149: 5.1}\n",
      "0:1.4\t1:1.4\t2:1.3\t3:1.5\t4:1.4\t5:1.7\t6:1.4\t7:1.5\t8:1.4\t9:1.5\t10:1.5\t11:1.6\t12:1.4\t13:1.1\t14:1.2\t15:1.5\t16:1.3\t17:1.4\t18:1.7\t19:1.5\t20:1.7\t21:1.5\t22:1.0\t23:1.7\t24:1.9\t25:1.6\t26:1.6\t27:1.5\t28:1.4\t29:1.6\t30:1.6\t31:1.5\t32:1.5\t33:1.4\t34:1.5\t35:1.2\t36:1.3\t37:1.4\t38:1.3\t39:1.5\t40:1.3\t41:1.3\t42:1.3\t43:1.6\t44:1.9\t45:1.4\t46:1.6\t47:1.4\t48:1.5\t49:1.4\t50:4.7\t51:4.5\t52:4.9\t53:4.0\t54:4.6\t55:4.5\t56:4.7\t57:3.3\t58:4.6\t59:3.9\t60:3.5\t61:4.2\t62:4.0\t63:4.7\t64:3.6\t65:4.4\t66:4.5\t67:4.1\t68:4.5\t69:3.9\t70:4.8\t71:4.0\t72:4.9\t73:4.7\t74:4.3\t75:4.4\t76:4.8\t77:5.0\t78:4.5\t79:3.5\t80:3.8\t81:3.7\t82:3.9\t83:5.1\t84:4.5\t85:4.5\t86:4.7\t87:4.4\t88:4.1\t89:4.0\t90:4.4\t91:4.6\t92:4.0\t93:3.3\t94:4.2\t95:4.2\t96:4.2\t97:4.3\t98:3.0\t99:4.1\t100:6.0\t101:5.1\t102:5.9\t103:5.6\t104:5.8\t105:6.6\t106:4.5\t107:6.3\t108:5.8\t109:6.1\t110:5.1\t111:5.3\t112:5.5\t113:5.0\t114:5.1\t115:5.3\t116:5.5\t117:6.7\t118:6.9\t119:5.0\t120:5.7\t121:4.9\t122:6.7\t123:4.9\t124:5.7\t125:6.0\t126:4.8\t127:4.9\t128:5.6\t129:5.8\t130:6.1\t131:6.4\t132:5.6\t133:5.1\t134:5.6\t135:6.1\t136:5.6\t137:5.5\t138:4.8\t139:5.4\t140:5.6\t141:5.1\t142:5.1\t143:5.9\t144:5.7\t145:5.2\t146:5.0\t147:5.2\t148:5.4\t149:5.1\t\n",
      "그룹명 : petal_width\n",
      "{0: 0.2, 1: 0.2, 2: 0.2, 3: 0.2, 4: 0.2, 5: 0.4, 6: 0.3, 7: 0.2, 8: 0.2, 9: 0.1, 10: 0.2, 11: 0.2, 12: 0.1, 13: 0.1, 14: 0.2, 15: 0.4, 16: 0.4, 17: 0.3, 18: 0.3, 19: 0.3, 20: 0.2, 21: 0.4, 22: 0.2, 23: 0.5, 24: 0.2, 25: 0.2, 26: 0.4, 27: 0.2, 28: 0.2, 29: 0.2, 30: 0.2, 31: 0.4, 32: 0.1, 33: 0.2, 34: 0.2, 35: 0.2, 36: 0.2, 37: 0.1, 38: 0.2, 39: 0.2, 40: 0.3, 41: 0.3, 42: 0.2, 43: 0.6, 44: 0.4, 45: 0.3, 46: 0.2, 47: 0.2, 48: 0.2, 49: 0.2, 50: 1.4, 51: 1.5, 52: 1.5, 53: 1.3, 54: 1.5, 55: 1.3, 56: 1.6, 57: 1.0, 58: 1.3, 59: 1.4, 60: 1.0, 61: 1.5, 62: 1.0, 63: 1.4, 64: 1.3, 65: 1.4, 66: 1.5, 67: 1.0, 68: 1.5, 69: 1.1, 70: 1.8, 71: 1.3, 72: 1.5, 73: 1.2, 74: 1.3, 75: 1.4, 76: 1.4, 77: 1.7, 78: 1.5, 79: 1.0, 80: 1.1, 81: 1.0, 82: 1.2, 83: 1.6, 84: 1.5, 85: 1.6, 86: 1.5, 87: 1.3, 88: 1.3, 89: 1.3, 90: 1.2, 91: 1.4, 92: 1.2, 93: 1.0, 94: 1.3, 95: 1.2, 96: 1.3, 97: 1.3, 98: 1.1, 99: 1.3, 100: 2.5, 101: 1.9, 102: 2.1, 103: 1.8, 104: 2.2, 105: 2.1, 106: 1.7, 107: 1.8, 108: 1.8, 109: 2.5, 110: 2.0, 111: 1.9, 112: 2.1, 113: 2.0, 114: 2.4, 115: 2.3, 116: 1.8, 117: 2.2, 118: 2.3, 119: 1.5, 120: 2.3, 121: 2.0, 122: 2.0, 123: 1.8, 124: 2.1, 125: 1.8, 126: 1.8, 127: 1.8, 128: 2.1, 129: 1.6, 130: 1.9, 131: 2.0, 132: 2.2, 133: 1.5, 134: 1.4, 135: 2.3, 136: 2.4, 137: 1.8, 138: 1.8, 139: 2.1, 140: 2.4, 141: 2.3, 142: 1.9, 143: 2.3, 144: 2.5, 145: 2.3, 146: 1.9, 147: 2.0, 148: 2.3, 149: 1.8}\n",
      "0:0.2\t1:0.2\t2:0.2\t3:0.2\t4:0.2\t5:0.4\t6:0.3\t7:0.2\t8:0.2\t9:0.1\t10:0.2\t11:0.2\t12:0.1\t13:0.1\t14:0.2\t15:0.4\t16:0.4\t17:0.3\t18:0.3\t19:0.3\t20:0.2\t21:0.4\t22:0.2\t23:0.5\t24:0.2\t25:0.2\t26:0.4\t27:0.2\t28:0.2\t29:0.2\t30:0.2\t31:0.4\t32:0.1\t33:0.2\t34:0.2\t35:0.2\t36:0.2\t37:0.1\t38:0.2\t39:0.2\t40:0.3\t41:0.3\t42:0.2\t43:0.6\t44:0.4\t45:0.3\t46:0.2\t47:0.2\t48:0.2\t49:0.2\t50:1.4\t51:1.5\t52:1.5\t53:1.3\t54:1.5\t55:1.3\t56:1.6\t57:1.0\t58:1.3\t59:1.4\t60:1.0\t61:1.5\t62:1.0\t63:1.4\t64:1.3\t65:1.4\t66:1.5\t67:1.0\t68:1.5\t69:1.1\t70:1.8\t71:1.3\t72:1.5\t73:1.2\t74:1.3\t75:1.4\t76:1.4\t77:1.7\t78:1.5\t79:1.0\t80:1.1\t81:1.0\t82:1.2\t83:1.6\t84:1.5\t85:1.6\t86:1.5\t87:1.3\t88:1.3\t89:1.3\t90:1.2\t91:1.4\t92:1.2\t93:1.0\t94:1.3\t95:1.2\t96:1.3\t97:1.3\t98:1.1\t99:1.3\t100:2.5\t101:1.9\t102:2.1\t103:1.8\t104:2.2\t105:2.1\t106:1.7\t107:1.8\t108:1.8\t109:2.5\t110:2.0\t111:1.9\t112:2.1\t113:2.0\t114:2.4\t115:2.3\t116:1.8\t117:2.2\t118:2.3\t119:1.5\t120:2.3\t121:2.0\t122:2.0\t123:1.8\t124:2.1\t125:1.8\t126:1.8\t127:1.8\t128:2.1\t129:1.6\t130:1.9\t131:2.0\t132:2.2\t133:1.5\t134:1.4\t135:2.3\t136:2.4\t137:1.8\t138:1.8\t139:2.1\t140:2.4\t141:2.3\t142:1.9\t143:2.3\t144:2.5\t145:2.3\t146:1.9\t147:2.0\t148:2.3\t149:1.8\t\n",
      "그룹명 : species\n",
      "{0: 'setosa', 1: 'setosa', 2: 'setosa', 3: 'setosa', 4: 'setosa', 5: 'setosa', 6: 'setosa', 7: 'setosa', 8: 'setosa', 9: 'setosa', 10: 'setosa', 11: 'setosa', 12: 'setosa', 13: 'setosa', 14: 'setosa', 15: 'setosa', 16: 'setosa', 17: 'setosa', 18: 'setosa', 19: 'setosa', 20: 'setosa', 21: 'setosa', 22: 'setosa', 23: 'setosa', 24: 'setosa', 25: 'setosa', 26: 'setosa', 27: 'setosa', 28: 'setosa', 29: 'setosa', 30: 'setosa', 31: 'setosa', 32: 'setosa', 33: 'setosa', 34: 'setosa', 35: 'setosa', 36: 'setosa', 37: 'setosa', 38: 'setosa', 39: 'setosa', 40: 'setosa', 41: 'setosa', 42: 'setosa', 43: 'setosa', 44: 'setosa', 45: 'setosa', 46: 'setosa', 47: 'setosa', 48: 'setosa', 49: 'setosa', 50: 'versicolor', 51: 'versicolor', 52: 'versicolor', 53: 'versicolor', 54: 'versicolor', 55: 'versicolor', 56: 'versicolor', 57: 'versicolor', 58: 'versicolor', 59: 'versicolor', 60: 'versicolor', 61: 'versicolor', 62: 'versicolor', 63: 'versicolor', 64: 'versicolor', 65: 'versicolor', 66: 'versicolor', 67: 'versicolor', 68: 'versicolor', 69: 'versicolor', 70: 'versicolor', 71: 'versicolor', 72: 'versicolor', 73: 'versicolor', 74: 'versicolor', 75: 'versicolor', 76: 'versicolor', 77: 'versicolor', 78: 'versicolor', 79: 'versicolor', 80: 'versicolor', 81: 'versicolor', 82: 'versicolor', 83: 'versicolor', 84: 'versicolor', 85: 'versicolor', 86: 'versicolor', 87: 'versicolor', 88: 'versicolor', 89: 'versicolor', 90: 'versicolor', 91: 'versicolor', 92: 'versicolor', 93: 'versicolor', 94: 'versicolor', 95: 'versicolor', 96: 'versicolor', 97: 'versicolor', 98: 'versicolor', 99: 'versicolor', 100: 'virginica', 101: 'virginica', 102: 'virginica', 103: 'virginica', 104: 'virginica', 105: 'virginica', 106: 'virginica', 107: 'virginica', 108: 'virginica', 109: 'virginica', 110: 'virginica', 111: 'virginica', 112: 'virginica', 113: 'virginica', 114: 'virginica', 115: 'virginica', 116: 'virginica', 117: 'virginica', 118: 'virginica', 119: 'virginica', 120: 'virginica', 121: 'virginica', 122: 'virginica', 123: 'virginica', 124: 'virginica', 125: 'virginica', 126: 'virginica', 127: 'virginica', 128: 'virginica', 129: 'virginica', 130: 'virginica', 131: 'virginica', 132: 'virginica', 133: 'virginica', 134: 'virginica', 135: 'virginica', 136: 'virginica', 137: 'virginica', 138: 'virginica', 139: 'virginica', 140: 'virginica', 141: 'virginica', 142: 'virginica', 143: 'virginica', 144: 'virginica', 145: 'virginica', 146: 'virginica', 147: 'virginica', 148: 'virginica', 149: 'virginica'}\n",
      "0:setosa\t1:setosa\t2:setosa\t3:setosa\t4:setosa\t5:setosa\t6:setosa\t7:setosa\t8:setosa\t9:setosa\t10:setosa\t11:setosa\t12:setosa\t13:setosa\t14:setosa\t15:setosa\t16:setosa\t17:setosa\t18:setosa\t19:setosa\t20:setosa\t21:setosa\t22:setosa\t23:setosa\t24:setosa\t25:setosa\t26:setosa\t27:setosa\t28:setosa\t29:setosa\t30:setosa\t31:setosa\t32:setosa\t33:setosa\t34:setosa\t35:setosa\t36:setosa\t37:setosa\t38:setosa\t39:setosa\t40:setosa\t41:setosa\t42:setosa\t43:setosa\t44:setosa\t45:setosa\t46:setosa\t47:setosa\t48:setosa\t49:setosa\t50:versicolor\t51:versicolor\t52:versicolor\t53:versicolor\t54:versicolor\t55:versicolor\t56:versicolor\t57:versicolor\t58:versicolor\t59:versicolor\t60:versicolor\t61:versicolor\t62:versicolor\t63:versicolor\t64:versicolor\t65:versicolor\t66:versicolor\t67:versicolor\t68:versicolor\t69:versicolor\t70:versicolor\t71:versicolor\t72:versicolor\t73:versicolor\t74:versicolor\t75:versicolor\t76:versicolor\t77:versicolor\t78:versicolor\t79:versicolor\t80:versicolor\t81:versicolor\t82:versicolor\t83:versicolor\t84:versicolor\t85:versicolor\t86:versicolor\t87:versicolor\t88:versicolor\t89:versicolor\t90:versicolor\t91:versicolor\t92:versicolor\t93:versicolor\t94:versicolor\t95:versicolor\t96:versicolor\t97:versicolor\t98:versicolor\t99:versicolor\t100:virginica\t101:virginica\t102:virginica\t103:virginica\t104:virginica\t105:virginica\t106:virginica\t107:virginica\t108:virginica\t109:virginica\t110:virginica\t111:virginica\t112:virginica\t113:virginica\t114:virginica\t115:virginica\t116:virginica\t117:virginica\t118:virginica\t119:virginica\t120:virginica\t121:virginica\t122:virginica\t123:virginica\t124:virginica\t125:virginica\t126:virginica\t127:virginica\t128:virginica\t129:virginica\t130:virginica\t131:virginica\t132:virginica\t133:virginica\t134:virginica\t135:virginica\t136:virginica\t137:virginica\t138:virginica\t139:virginica\t140:virginica\t141:virginica\t142:virginica\t143:virginica\t144:virginica\t145:virginica\t146:virginica\t147:virginica\t148:virginica\t149:virginica\t\n"
     ]
    }
   ],
   "source": [
    "for group, val in iris_dic.items() :\n",
    "    print('그룹명 :', group)\n",
    "    print(val) # val : 딕셔너리 타입\n",
    "    for key, data in val.items() :\n",
    "        print(f'{str(key)}:{data}', end = '\\t')\n",
    "    print() # 개행"
   ]
  },
  {
   "cell_type": "code",
   "execution_count": 95,
   "id": "e6190dc3",
   "metadata": {},
   "outputs": [],
   "source": [
    "# 딕셔너리 리스트를 hdf5 파일로 쓰기\n",
    "import h5py\n",
    "with h5py.File('data/ch09_iris_dic.hdf5', 'w') as f : # open이 아니라 File로 쓰기 가능한 stream 객체 생성\n",
    "    for group, value in iris_dic.items() :\n",
    "        grp = f.create_group(group) # 그룹을 먼저 형성하고\n",
    "        for key, data in value.items() :\n",
    "            grp.create_dataset(str(key), data = data) # 그룹 속에 내용을 추가한다. key는 항상 문자로 기입하도록 한다."
   ]
  },
  {
   "cell_type": "code",
   "execution_count": null,
   "id": "0e158fa8",
   "metadata": {},
   "outputs": [],
   "source": []
  },
  {
   "cell_type": "markdown",
   "id": "ae1e4f1f",
   "metadata": {},
   "source": [
    "## 5.2 hdf5 파일 읽기\n",
    "- *.hdf5 => 딕셔너리 리스트으로 읽기\n",
    "- *.hdf5 => 데이터프레임으로 읽기"
   ]
  },
  {
   "cell_type": "markdown",
   "id": "e8fe0ce3",
   "metadata": {},
   "source": [
    "### 5.2.1 데이터프레임 읽기"
   ]
  },
  {
   "cell_type": "code",
   "execution_count": 73,
   "id": "49d0337e",
   "metadata": {},
   "outputs": [
    {
     "data": {
      "text/html": [
       "<div>\n",
       "<style scoped>\n",
       "    .dataframe tbody tr th:only-of-type {\n",
       "        vertical-align: middle;\n",
       "    }\n",
       "\n",
       "    .dataframe tbody tr th {\n",
       "        vertical-align: top;\n",
       "    }\n",
       "\n",
       "    .dataframe thead th {\n",
       "        text-align: right;\n",
       "    }\n",
       "</style>\n",
       "<table border=\"1\" class=\"dataframe\">\n",
       "  <thead>\n",
       "    <tr style=\"text-align: right;\">\n",
       "      <th></th>\n",
       "      <th>sepal_length</th>\n",
       "      <th>sepal_width</th>\n",
       "      <th>petal_length</th>\n",
       "      <th>petal_width</th>\n",
       "      <th>species</th>\n",
       "    </tr>\n",
       "  </thead>\n",
       "  <tbody>\n",
       "    <tr>\n",
       "      <th>0</th>\n",
       "      <td>5.1</td>\n",
       "      <td>3.5</td>\n",
       "      <td>1.4</td>\n",
       "      <td>0.2</td>\n",
       "      <td>setosa</td>\n",
       "    </tr>\n",
       "    <tr>\n",
       "      <th>50</th>\n",
       "      <td>7.0</td>\n",
       "      <td>3.2</td>\n",
       "      <td>4.7</td>\n",
       "      <td>1.4</td>\n",
       "      <td>versicolor</td>\n",
       "    </tr>\n",
       "    <tr>\n",
       "      <th>100</th>\n",
       "      <td>6.3</td>\n",
       "      <td>3.3</td>\n",
       "      <td>6.0</td>\n",
       "      <td>2.5</td>\n",
       "      <td>virginica</td>\n",
       "    </tr>\n",
       "  </tbody>\n",
       "</table>\n",
       "</div>"
      ],
      "text/plain": [
       "     sepal_length  sepal_width  petal_length  petal_width     species\n",
       "0             5.1          3.5           1.4          0.2      setosa\n",
       "50            7.0          3.2           4.7          1.4  versicolor\n",
       "100           6.3          3.3           6.0          2.5   virginica"
      ]
     },
     "metadata": {},
     "output_type": "display_data"
    },
    {
     "data": {
      "text/plain": [
       "True"
      ]
     },
     "execution_count": 73,
     "metadata": {},
     "output_type": "execute_result"
    }
   ],
   "source": [
    "import pandas as pd\n",
    "\n",
    "load_iris_df = pd.read_hdf('data/ch09_iris.hdf5', key = 'iris')\n",
    "# load_iris_df는 iris_df와 동일한가? : all(iris_df == load_iris_df) 사용\n",
    "\n",
    "display(load_iris_df[::50])\n",
    "all(iris_df == load_iris_df) # 두 데이터프레임 변수의 모든 행과 열의 값이 같은 지 여부"
   ]
  },
  {
   "cell_type": "code",
   "execution_count": 71,
   "id": "4f01f19e",
   "metadata": {},
   "outputs": [
    {
     "data": {
      "text/plain": [
       "True"
      ]
     },
     "execution_count": 71,
     "metadata": {},
     "output_type": "execute_result"
    }
   ],
   "source": [
    "all(iris_df == load_iris_df)"
   ]
  },
  {
   "cell_type": "code",
   "execution_count": null,
   "id": "3f5eed74",
   "metadata": {},
   "outputs": [],
   "source": []
  },
  {
   "cell_type": "markdown",
   "id": "ab57874a",
   "metadata": {},
   "source": [
    "### 5.2.2  ★★ 딕셔너리 리스트 읽기 ★★\n",
    "- 주의사항 : hdf5 파일은 h5py 라이브러리의 .File() 메서드로 접근하며\n",
    "- 숫자는 **.hdf5 => 딕셔너리 리스트 과정에서 문제가 없으나 str의 경우 bytes 타입으로 반환한다\n",
    "- 이 문제는 byte타입 문자.decode('utf-8') if isinstance(문자, bytes) else 문자 변환시켜서 사용하면 문제 없다"
   ]
  },
  {
   "cell_type": "code",
   "execution_count": 100,
   "id": "0e584c4d",
   "metadata": {
    "collapsed": true
   },
   "outputs": [
    {
     "name": "stdout",
     "output_type": "stream",
     "text": [
      "그룹 : petal_length\n",
      "0:1.4\t1:1.4\t10:1.5\t100:6.0\t101:5.1\t102:5.9\t103:5.6\t104:5.8\t105:6.6\t106:4.5\t107:6.3\t108:5.8\t109:6.1\t11:1.6\t110:5.1\t111:5.3\t112:5.5\t113:5.0\t114:5.1\t115:5.3\t116:5.5\t117:6.7\t118:6.9\t119:5.0\t12:1.4\t120:5.7\t121:4.9\t122:6.7\t123:4.9\t124:5.7\t125:6.0\t126:4.8\t127:4.9\t128:5.6\t129:5.8\t13:1.1\t130:6.1\t131:6.4\t132:5.6\t133:5.1\t134:5.6\t135:6.1\t136:5.6\t137:5.5\t138:4.8\t139:5.4\t14:1.2\t140:5.6\t141:5.1\t142:5.1\t143:5.9\t144:5.7\t145:5.2\t146:5.0\t147:5.2\t148:5.4\t149:5.1\t15:1.5\t16:1.3\t17:1.4\t18:1.7\t19:1.5\t2:1.3\t20:1.7\t21:1.5\t22:1.0\t23:1.7\t24:1.9\t25:1.6\t26:1.6\t27:1.5\t28:1.4\t29:1.6\t3:1.5\t30:1.6\t31:1.5\t32:1.5\t33:1.4\t34:1.5\t35:1.2\t36:1.3\t37:1.4\t38:1.3\t39:1.5\t4:1.4\t40:1.3\t41:1.3\t42:1.3\t43:1.6\t44:1.9\t45:1.4\t46:1.6\t47:1.4\t48:1.5\t49:1.4\t5:1.7\t50:4.7\t51:4.5\t52:4.9\t53:4.0\t54:4.6\t55:4.5\t56:4.7\t57:3.3\t58:4.6\t59:3.9\t6:1.4\t60:3.5\t61:4.2\t62:4.0\t63:4.7\t64:3.6\t65:4.4\t66:4.5\t67:4.1\t68:4.5\t69:3.9\t7:1.5\t70:4.8\t71:4.0\t72:4.9\t73:4.7\t74:4.3\t75:4.4\t76:4.8\t77:5.0\t78:4.5\t79:3.5\t8:1.4\t80:3.8\t81:3.7\t82:3.9\t83:5.1\t84:4.5\t85:4.5\t86:4.7\t87:4.4\t88:4.1\t89:4.0\t9:1.5\t90:4.4\t91:4.6\t92:4.0\t93:3.3\t94:4.2\t95:4.2\t96:4.2\t97:4.3\t98:3.0\t99:4.1\t그룹 : petal_width\n",
      "0:0.2\t1:0.2\t10:0.2\t100:2.5\t101:1.9\t102:2.1\t103:1.8\t104:2.2\t105:2.1\t106:1.7\t107:1.8\t108:1.8\t109:2.5\t11:0.2\t110:2.0\t111:1.9\t112:2.1\t113:2.0\t114:2.4\t115:2.3\t116:1.8\t117:2.2\t118:2.3\t119:1.5\t12:0.1\t120:2.3\t121:2.0\t122:2.0\t123:1.8\t124:2.1\t125:1.8\t126:1.8\t127:1.8\t128:2.1\t129:1.6\t13:0.1\t130:1.9\t131:2.0\t132:2.2\t133:1.5\t134:1.4\t135:2.3\t136:2.4\t137:1.8\t138:1.8\t139:2.1\t14:0.2\t140:2.4\t141:2.3\t142:1.9\t143:2.3\t144:2.5\t145:2.3\t146:1.9\t147:2.0\t148:2.3\t149:1.8\t15:0.4\t16:0.4\t17:0.3\t18:0.3\t19:0.3\t2:0.2\t20:0.2\t21:0.4\t22:0.2\t23:0.5\t24:0.2\t25:0.2\t26:0.4\t27:0.2\t28:0.2\t29:0.2\t3:0.2\t30:0.2\t31:0.4\t32:0.1\t33:0.2\t34:0.2\t35:0.2\t36:0.2\t37:0.1\t38:0.2\t39:0.2\t4:0.2\t40:0.3\t41:0.3\t42:0.2\t43:0.6\t44:0.4\t45:0.3\t46:0.2\t47:0.2\t48:0.2\t49:0.2\t5:0.4\t50:1.4\t51:1.5\t52:1.5\t53:1.3\t54:1.5\t55:1.3\t56:1.6\t57:1.0\t58:1.3\t59:1.4\t6:0.3\t60:1.0\t61:1.5\t62:1.0\t63:1.4\t64:1.3\t65:1.4\t66:1.5\t67:1.0\t68:1.5\t69:1.1\t7:0.2\t70:1.8\t71:1.3\t72:1.5\t73:1.2\t74:1.3\t75:1.4\t76:1.4\t77:1.7\t78:1.5\t79:1.0\t8:0.2\t80:1.1\t81:1.0\t82:1.2\t83:1.6\t84:1.5\t85:1.6\t86:1.5\t87:1.3\t88:1.3\t89:1.3\t9:0.1\t90:1.2\t91:1.4\t92:1.2\t93:1.0\t94:1.3\t95:1.2\t96:1.3\t97:1.3\t98:1.1\t99:1.3\t그룹 : sepal_length\n",
      "0:5.1\t1:4.9\t10:5.4\t100:6.3\t101:5.8\t102:7.1\t103:6.3\t104:6.5\t105:7.6\t106:4.9\t107:7.3\t108:6.7\t109:7.2\t11:4.8\t110:6.5\t111:6.4\t112:6.8\t113:5.7\t114:5.8\t115:6.4\t116:6.5\t117:7.7\t118:7.7\t119:6.0\t12:4.8\t120:6.9\t121:5.6\t122:7.7\t123:6.3\t124:6.7\t125:7.2\t126:6.2\t127:6.1\t128:6.4\t129:7.2\t13:4.3\t130:7.4\t131:7.9\t132:6.4\t133:6.3\t134:6.1\t135:7.7\t136:6.3\t137:6.4\t138:6.0\t139:6.9\t14:5.8\t140:6.7\t141:6.9\t142:5.8\t143:6.8\t144:6.7\t145:6.7\t146:6.3\t147:6.5\t148:6.2\t149:5.9\t15:5.7\t16:5.4\t17:5.1\t18:5.7\t19:5.1\t2:4.7\t20:5.4\t21:5.1\t22:4.6\t23:5.1\t24:4.8\t25:5.0\t26:5.0\t27:5.2\t28:5.2\t29:4.7\t3:4.6\t30:4.8\t31:5.4\t32:5.2\t33:5.5\t34:4.9\t35:5.0\t36:5.5\t37:4.9\t38:4.4\t39:5.1\t4:5.0\t40:5.0\t41:4.5\t42:4.4\t43:5.0\t44:5.1\t45:4.8\t46:5.1\t47:4.6\t48:5.3\t49:5.0\t5:5.4\t50:7.0\t51:6.4\t52:6.9\t53:5.5\t54:6.5\t55:5.7\t56:6.3\t57:4.9\t58:6.6\t59:5.2\t6:4.6\t60:5.0\t61:5.9\t62:6.0\t63:6.1\t64:5.6\t65:6.7\t66:5.6\t67:5.8\t68:6.2\t69:5.6\t7:5.0\t70:5.9\t71:6.1\t72:6.3\t73:6.1\t74:6.4\t75:6.6\t76:6.8\t77:6.7\t78:6.0\t79:5.7\t8:4.4\t80:5.5\t81:5.5\t82:5.8\t83:6.0\t84:5.4\t85:6.0\t86:6.7\t87:6.3\t88:5.6\t89:5.5\t9:4.9\t90:5.5\t91:6.1\t92:5.8\t93:5.0\t94:5.6\t95:5.7\t96:5.7\t97:6.2\t98:5.1\t99:5.7\t그룹 : sepal_width\n",
      "0:3.5\t1:3.0\t10:3.7\t100:3.3\t101:2.7\t102:3.0\t103:2.9\t104:3.0\t105:3.0\t106:2.5\t107:2.9\t108:2.5\t109:3.6\t11:3.4\t110:3.2\t111:2.7\t112:3.0\t113:2.5\t114:2.8\t115:3.2\t116:3.0\t117:3.8\t118:2.6\t119:2.2\t12:3.0\t120:3.2\t121:2.8\t122:2.8\t123:2.7\t124:3.3\t125:3.2\t126:2.8\t127:3.0\t128:2.8\t129:3.0\t13:3.0\t130:2.8\t131:3.8\t132:2.8\t133:2.8\t134:2.6\t135:3.0\t136:3.4\t137:3.1\t138:3.0\t139:3.1\t14:4.0\t140:3.1\t141:3.1\t142:2.7\t143:3.2\t144:3.3\t145:3.0\t146:2.5\t147:3.0\t148:3.4\t149:3.0\t15:4.4\t16:3.9\t17:3.5\t18:3.8\t19:3.8\t2:3.2\t20:3.4\t21:3.7\t22:3.6\t23:3.3\t24:3.4\t25:3.0\t26:3.4\t27:3.5\t28:3.4\t29:3.2\t3:3.1\t30:3.1\t31:3.4\t32:4.1\t33:4.2\t34:3.1\t35:3.2\t36:3.5\t37:3.6\t38:3.0\t39:3.4\t4:3.6\t40:3.5\t41:2.3\t42:3.2\t43:3.5\t44:3.8\t45:3.0\t46:3.8\t47:3.2\t48:3.7\t49:3.3\t5:3.9\t50:3.2\t51:3.2\t52:3.1\t53:2.3\t54:2.8\t55:2.8\t56:3.3\t57:2.4\t58:2.9\t59:2.7\t6:3.4\t60:2.0\t61:3.0\t62:2.2\t63:2.9\t64:2.9\t65:3.1\t66:3.0\t67:2.7\t68:2.2\t69:2.5\t7:3.4\t70:3.2\t71:2.8\t72:2.5\t73:2.8\t74:2.9\t75:3.0\t76:2.8\t77:3.0\t78:2.9\t79:2.6\t8:2.9\t80:2.4\t81:2.4\t82:2.7\t83:2.7\t84:3.0\t85:3.4\t86:3.1\t87:2.3\t88:3.0\t89:2.5\t9:3.1\t90:2.6\t91:3.0\t92:2.6\t93:2.3\t94:2.7\t95:3.0\t96:2.9\t97:2.9\t98:2.5\t99:2.8\t그룹 : species\n",
      "0:b'setosa'\t1:b'setosa'\t10:b'setosa'\t100:b'virginica'\t101:b'virginica'\t102:b'virginica'\t103:b'virginica'\t104:b'virginica'\t105:b'virginica'\t106:b'virginica'\t107:b'virginica'\t108:b'virginica'\t109:b'virginica'\t11:b'setosa'\t110:b'virginica'\t111:b'virginica'\t112:b'virginica'\t113:b'virginica'\t114:b'virginica'\t115:b'virginica'\t116:b'virginica'\t117:b'virginica'\t118:b'virginica'\t119:b'virginica'\t12:b'setosa'\t120:b'virginica'\t121:b'virginica'\t122:b'virginica'\t123:b'virginica'\t124:b'virginica'\t125:b'virginica'\t126:b'virginica'\t127:b'virginica'\t128:b'virginica'\t129:b'virginica'\t13:b'setosa'\t130:b'virginica'\t131:b'virginica'\t132:b'virginica'\t133:b'virginica'\t134:b'virginica'\t135:b'virginica'\t136:b'virginica'\t137:b'virginica'\t138:b'virginica'\t139:b'virginica'\t14:b'setosa'\t140:b'virginica'\t141:b'virginica'\t142:b'virginica'\t143:b'virginica'\t144:b'virginica'\t145:b'virginica'\t146:b'virginica'\t147:b'virginica'\t148:b'virginica'\t149:b'virginica'\t15:b'setosa'\t16:b'setosa'\t17:b'setosa'\t18:b'setosa'\t19:b'setosa'\t2:b'setosa'\t20:b'setosa'\t21:b'setosa'\t22:b'setosa'\t23:b'setosa'\t24:b'setosa'\t25:b'setosa'\t26:b'setosa'\t27:b'setosa'\t28:b'setosa'\t29:b'setosa'\t3:b'setosa'\t30:b'setosa'\t31:b'setosa'\t32:b'setosa'\t33:b'setosa'\t34:b'setosa'\t35:b'setosa'\t36:b'setosa'\t37:b'setosa'\t38:b'setosa'\t39:b'setosa'\t4:b'setosa'\t40:b'setosa'\t41:b'setosa'\t42:b'setosa'\t43:b'setosa'\t44:b'setosa'\t45:b'setosa'\t46:b'setosa'\t47:b'setosa'\t48:b'setosa'\t49:b'setosa'\t5:b'setosa'\t50:b'versicolor'\t51:b'versicolor'\t52:b'versicolor'\t53:b'versicolor'\t54:b'versicolor'\t55:b'versicolor'\t56:b'versicolor'\t57:b'versicolor'\t58:b'versicolor'\t59:b'versicolor'\t6:b'setosa'\t60:b'versicolor'\t61:b'versicolor'\t62:b'versicolor'\t63:b'versicolor'\t64:b'versicolor'\t65:b'versicolor'\t66:b'versicolor'\t67:b'versicolor'\t68:b'versicolor'\t69:b'versicolor'\t7:b'setosa'\t70:b'versicolor'\t71:b'versicolor'\t72:b'versicolor'\t73:b'versicolor'\t74:b'versicolor'\t75:b'versicolor'\t76:b'versicolor'\t77:b'versicolor'\t78:b'versicolor'\t79:b'versicolor'\t8:b'setosa'\t80:b'versicolor'\t81:b'versicolor'\t82:b'versicolor'\t83:b'versicolor'\t84:b'versicolor'\t85:b'versicolor'\t86:b'versicolor'\t87:b'versicolor'\t88:b'versicolor'\t89:b'versicolor'\t9:b'setosa'\t90:b'versicolor'\t91:b'versicolor'\t92:b'versicolor'\t93:b'versicolor'\t94:b'versicolor'\t95:b'versicolor'\t96:b'versicolor'\t97:b'versicolor'\t98:b'versicolor'\t99:b'versicolor'\t"
     ]
    }
   ],
   "source": [
    "# 딕셔너리 리스트를 hdf5 파일로 읽기\n",
    "import h5py\n",
    "with h5py.File('data/ch09_iris_dic.hdf5', 'r') as f : # open이 아니라 File로 읽기 가능한 stream 객체 생성\n",
    "    for group, value in f.items() :\n",
    "        print('그룹 :',group)\n",
    "        using_data = {}\n",
    "        for key, data in value.items() :\n",
    "            using_data[key] = data\n",
    "            print(f'{key}:{data[()]}', end = '\\t') # data[()] : hdf5의 DataSet타입을 가져올 때 사용하는 문법\n",
    "        using_data[group] = using_data"
   ]
  },
  {
   "cell_type": "code",
   "execution_count": 102,
   "id": "0523549c",
   "metadata": {},
   "outputs": [
    {
     "data": {
      "text/plain": [
       "{'name': '홍', 'age': '20'}"
      ]
     },
     "execution_count": 102,
     "metadata": {},
     "output_type": "execute_result"
    }
   ],
   "source": [
    "# 딕셔너리 정보 추가하기\n",
    "p = {}\n",
    "p['name'] = '홍'\n",
    "p.update({'age':'20'})\n",
    "p"
   ]
  },
  {
   "cell_type": "code",
   "execution_count": 142,
   "id": "3a84e1a5",
   "metadata": {
    "collapsed": true
   },
   "outputs": [
    {
     "name": "stdout",
     "output_type": "stream",
     "text": [
      "{'petal_length': {0: 1.4, 1: 1.4, 10: 1.5, 100: 6.0, 101: 5.1, 102: 5.9, 103: 5.6, 104: 5.8, 105: 6.6, 106: 4.5, 107: 6.3, 108: 5.8, 109: 6.1, 11: 1.6, 110: 5.1, 111: 5.3, 112: 5.5, 113: 5.0, 114: 5.1, 115: 5.3, 116: 5.5, 117: 6.7, 118: 6.9, 119: 5.0, 12: 1.4, 120: 5.7, 121: 4.9, 122: 6.7, 123: 4.9, 124: 5.7, 125: 6.0, 126: 4.8, 127: 4.9, 128: 5.6, 129: 5.8, 13: 1.1, 130: 6.1, 131: 6.4, 132: 5.6, 133: 5.1, 134: 5.6, 135: 6.1, 136: 5.6, 137: 5.5, 138: 4.8, 139: 5.4, 14: 1.2, 140: 5.6, 141: 5.1, 142: 5.1, 143: 5.9, 144: 5.7, 145: 5.2, 146: 5.0, 147: 5.2, 148: 5.4, 149: 5.1, 15: 1.5, 16: 1.3, 17: 1.4, 18: 1.7, 19: 1.5, 2: 1.3, 20: 1.7, 21: 1.5, 22: 1.0, 23: 1.7, 24: 1.9, 25: 1.6, 26: 1.6, 27: 1.5, 28: 1.4, 29: 1.6, 3: 1.5, 30: 1.6, 31: 1.5, 32: 1.5, 33: 1.4, 34: 1.5, 35: 1.2, 36: 1.3, 37: 1.4, 38: 1.3, 39: 1.5, 4: 1.4, 40: 1.3, 41: 1.3, 42: 1.3, 43: 1.6, 44: 1.9, 45: 1.4, 46: 1.6, 47: 1.4, 48: 1.5, 49: 1.4, 5: 1.7, 50: 4.7, 51: 4.5, 52: 4.9, 53: 4.0, 54: 4.6, 55: 4.5, 56: 4.7, 57: 3.3, 58: 4.6, 59: 3.9, 6: 1.4, 60: 3.5, 61: 4.2, 62: 4.0, 63: 4.7, 64: 3.6, 65: 4.4, 66: 4.5, 67: 4.1, 68: 4.5, 69: 3.9, 7: 1.5, 70: 4.8, 71: 4.0, 72: 4.9, 73: 4.7, 74: 4.3, 75: 4.4, 76: 4.8, 77: 5.0, 78: 4.5, 79: 3.5, 8: 1.4, 80: 3.8, 81: 3.7, 82: 3.9, 83: 5.1, 84: 4.5, 85: 4.5, 86: 4.7, 87: 4.4, 88: 4.1, 89: 4.0, 9: 1.5, 90: 4.4, 91: 4.6, 92: 4.0, 93: 3.3, 94: 4.2, 95: 4.2, 96: 4.2, 97: 4.3, 98: 3.0, 99: 4.1}, 'petal_width': {0: 0.2, 1: 0.2, 10: 0.2, 100: 2.5, 101: 1.9, 102: 2.1, 103: 1.8, 104: 2.2, 105: 2.1, 106: 1.7, 107: 1.8, 108: 1.8, 109: 2.5, 11: 0.2, 110: 2.0, 111: 1.9, 112: 2.1, 113: 2.0, 114: 2.4, 115: 2.3, 116: 1.8, 117: 2.2, 118: 2.3, 119: 1.5, 12: 0.1, 120: 2.3, 121: 2.0, 122: 2.0, 123: 1.8, 124: 2.1, 125: 1.8, 126: 1.8, 127: 1.8, 128: 2.1, 129: 1.6, 13: 0.1, 130: 1.9, 131: 2.0, 132: 2.2, 133: 1.5, 134: 1.4, 135: 2.3, 136: 2.4, 137: 1.8, 138: 1.8, 139: 2.1, 14: 0.2, 140: 2.4, 141: 2.3, 142: 1.9, 143: 2.3, 144: 2.5, 145: 2.3, 146: 1.9, 147: 2.0, 148: 2.3, 149: 1.8, 15: 0.4, 16: 0.4, 17: 0.3, 18: 0.3, 19: 0.3, 2: 0.2, 20: 0.2, 21: 0.4, 22: 0.2, 23: 0.5, 24: 0.2, 25: 0.2, 26: 0.4, 27: 0.2, 28: 0.2, 29: 0.2, 3: 0.2, 30: 0.2, 31: 0.4, 32: 0.1, 33: 0.2, 34: 0.2, 35: 0.2, 36: 0.2, 37: 0.1, 38: 0.2, 39: 0.2, 4: 0.2, 40: 0.3, 41: 0.3, 42: 0.2, 43: 0.6, 44: 0.4, 45: 0.3, 46: 0.2, 47: 0.2, 48: 0.2, 49: 0.2, 5: 0.4, 50: 1.4, 51: 1.5, 52: 1.5, 53: 1.3, 54: 1.5, 55: 1.3, 56: 1.6, 57: 1.0, 58: 1.3, 59: 1.4, 6: 0.3, 60: 1.0, 61: 1.5, 62: 1.0, 63: 1.4, 64: 1.3, 65: 1.4, 66: 1.5, 67: 1.0, 68: 1.5, 69: 1.1, 7: 0.2, 70: 1.8, 71: 1.3, 72: 1.5, 73: 1.2, 74: 1.3, 75: 1.4, 76: 1.4, 77: 1.7, 78: 1.5, 79: 1.0, 8: 0.2, 80: 1.1, 81: 1.0, 82: 1.2, 83: 1.6, 84: 1.5, 85: 1.6, 86: 1.5, 87: 1.3, 88: 1.3, 89: 1.3, 9: 0.1, 90: 1.2, 91: 1.4, 92: 1.2, 93: 1.0, 94: 1.3, 95: 1.2, 96: 1.3, 97: 1.3, 98: 1.1, 99: 1.3}, 'sepal_length': {0: 5.1, 1: 4.9, 10: 5.4, 100: 6.3, 101: 5.8, 102: 7.1, 103: 6.3, 104: 6.5, 105: 7.6, 106: 4.9, 107: 7.3, 108: 6.7, 109: 7.2, 11: 4.8, 110: 6.5, 111: 6.4, 112: 6.8, 113: 5.7, 114: 5.8, 115: 6.4, 116: 6.5, 117: 7.7, 118: 7.7, 119: 6.0, 12: 4.8, 120: 6.9, 121: 5.6, 122: 7.7, 123: 6.3, 124: 6.7, 125: 7.2, 126: 6.2, 127: 6.1, 128: 6.4, 129: 7.2, 13: 4.3, 130: 7.4, 131: 7.9, 132: 6.4, 133: 6.3, 134: 6.1, 135: 7.7, 136: 6.3, 137: 6.4, 138: 6.0, 139: 6.9, 14: 5.8, 140: 6.7, 141: 6.9, 142: 5.8, 143: 6.8, 144: 6.7, 145: 6.7, 146: 6.3, 147: 6.5, 148: 6.2, 149: 5.9, 15: 5.7, 16: 5.4, 17: 5.1, 18: 5.7, 19: 5.1, 2: 4.7, 20: 5.4, 21: 5.1, 22: 4.6, 23: 5.1, 24: 4.8, 25: 5.0, 26: 5.0, 27: 5.2, 28: 5.2, 29: 4.7, 3: 4.6, 30: 4.8, 31: 5.4, 32: 5.2, 33: 5.5, 34: 4.9, 35: 5.0, 36: 5.5, 37: 4.9, 38: 4.4, 39: 5.1, 4: 5.0, 40: 5.0, 41: 4.5, 42: 4.4, 43: 5.0, 44: 5.1, 45: 4.8, 46: 5.1, 47: 4.6, 48: 5.3, 49: 5.0, 5: 5.4, 50: 7.0, 51: 6.4, 52: 6.9, 53: 5.5, 54: 6.5, 55: 5.7, 56: 6.3, 57: 4.9, 58: 6.6, 59: 5.2, 6: 4.6, 60: 5.0, 61: 5.9, 62: 6.0, 63: 6.1, 64: 5.6, 65: 6.7, 66: 5.6, 67: 5.8, 68: 6.2, 69: 5.6, 7: 5.0, 70: 5.9, 71: 6.1, 72: 6.3, 73: 6.1, 74: 6.4, 75: 6.6, 76: 6.8, 77: 6.7, 78: 6.0, 79: 5.7, 8: 4.4, 80: 5.5, 81: 5.5, 82: 5.8, 83: 6.0, 84: 5.4, 85: 6.0, 86: 6.7, 87: 6.3, 88: 5.6, 89: 5.5, 9: 4.9, 90: 5.5, 91: 6.1, 92: 5.8, 93: 5.0, 94: 5.6, 95: 5.7, 96: 5.7, 97: 6.2, 98: 5.1, 99: 5.7}, 'sepal_width': {0: 3.5, 1: 3.0, 10: 3.7, 100: 3.3, 101: 2.7, 102: 3.0, 103: 2.9, 104: 3.0, 105: 3.0, 106: 2.5, 107: 2.9, 108: 2.5, 109: 3.6, 11: 3.4, 110: 3.2, 111: 2.7, 112: 3.0, 113: 2.5, 114: 2.8, 115: 3.2, 116: 3.0, 117: 3.8, 118: 2.6, 119: 2.2, 12: 3.0, 120: 3.2, 121: 2.8, 122: 2.8, 123: 2.7, 124: 3.3, 125: 3.2, 126: 2.8, 127: 3.0, 128: 2.8, 129: 3.0, 13: 3.0, 130: 2.8, 131: 3.8, 132: 2.8, 133: 2.8, 134: 2.6, 135: 3.0, 136: 3.4, 137: 3.1, 138: 3.0, 139: 3.1, 14: 4.0, 140: 3.1, 141: 3.1, 142: 2.7, 143: 3.2, 144: 3.3, 145: 3.0, 146: 2.5, 147: 3.0, 148: 3.4, 149: 3.0, 15: 4.4, 16: 3.9, 17: 3.5, 18: 3.8, 19: 3.8, 2: 3.2, 20: 3.4, 21: 3.7, 22: 3.6, 23: 3.3, 24: 3.4, 25: 3.0, 26: 3.4, 27: 3.5, 28: 3.4, 29: 3.2, 3: 3.1, 30: 3.1, 31: 3.4, 32: 4.1, 33: 4.2, 34: 3.1, 35: 3.2, 36: 3.5, 37: 3.6, 38: 3.0, 39: 3.4, 4: 3.6, 40: 3.5, 41: 2.3, 42: 3.2, 43: 3.5, 44: 3.8, 45: 3.0, 46: 3.8, 47: 3.2, 48: 3.7, 49: 3.3, 5: 3.9, 50: 3.2, 51: 3.2, 52: 3.1, 53: 2.3, 54: 2.8, 55: 2.8, 56: 3.3, 57: 2.4, 58: 2.9, 59: 2.7, 6: 3.4, 60: 2.0, 61: 3.0, 62: 2.2, 63: 2.9, 64: 2.9, 65: 3.1, 66: 3.0, 67: 2.7, 68: 2.2, 69: 2.5, 7: 3.4, 70: 3.2, 71: 2.8, 72: 2.5, 73: 2.8, 74: 2.9, 75: 3.0, 76: 2.8, 77: 3.0, 78: 2.9, 79: 2.6, 8: 2.9, 80: 2.4, 81: 2.4, 82: 2.7, 83: 2.7, 84: 3.0, 85: 3.4, 86: 3.1, 87: 2.3, 88: 3.0, 89: 2.5, 9: 3.1, 90: 2.6, 91: 3.0, 92: 2.6, 93: 2.3, 94: 2.7, 95: 3.0, 96: 2.9, 97: 2.9, 98: 2.5, 99: 2.8}, 'species': {0: 'setosa', 1: 'setosa', 10: 'setosa', 100: 'virginica', 101: 'virginica', 102: 'virginica', 103: 'virginica', 104: 'virginica', 105: 'virginica', 106: 'virginica', 107: 'virginica', 108: 'virginica', 109: 'virginica', 11: 'setosa', 110: 'virginica', 111: 'virginica', 112: 'virginica', 113: 'virginica', 114: 'virginica', 115: 'virginica', 116: 'virginica', 117: 'virginica', 118: 'virginica', 119: 'virginica', 12: 'setosa', 120: 'virginica', 121: 'virginica', 122: 'virginica', 123: 'virginica', 124: 'virginica', 125: 'virginica', 126: 'virginica', 127: 'virginica', 128: 'virginica', 129: 'virginica', 13: 'setosa', 130: 'virginica', 131: 'virginica', 132: 'virginica', 133: 'virginica', 134: 'virginica', 135: 'virginica', 136: 'virginica', 137: 'virginica', 138: 'virginica', 139: 'virginica', 14: 'setosa', 140: 'virginica', 141: 'virginica', 142: 'virginica', 143: 'virginica', 144: 'virginica', 145: 'virginica', 146: 'virginica', 147: 'virginica', 148: 'virginica', 149: 'virginica', 15: 'setosa', 16: 'setosa', 17: 'setosa', 18: 'setosa', 19: 'setosa', 2: 'setosa', 20: 'setosa', 21: 'setosa', 22: 'setosa', 23: 'setosa', 24: 'setosa', 25: 'setosa', 26: 'setosa', 27: 'setosa', 28: 'setosa', 29: 'setosa', 3: 'setosa', 30: 'setosa', 31: 'setosa', 32: 'setosa', 33: 'setosa', 34: 'setosa', 35: 'setosa', 36: 'setosa', 37: 'setosa', 38: 'setosa', 39: 'setosa', 4: 'setosa', 40: 'setosa', 41: 'setosa', 42: 'setosa', 43: 'setosa', 44: 'setosa', 45: 'setosa', 46: 'setosa', 47: 'setosa', 48: 'setosa', 49: 'setosa', 5: 'setosa', 50: 'versicolor', 51: 'versicolor', 52: 'versicolor', 53: 'versicolor', 54: 'versicolor', 55: 'versicolor', 56: 'versicolor', 57: 'versicolor', 58: 'versicolor', 59: 'versicolor', 6: 'setosa', 60: 'versicolor', 61: 'versicolor', 62: 'versicolor', 63: 'versicolor', 64: 'versicolor', 65: 'versicolor', 66: 'versicolor', 67: 'versicolor', 68: 'versicolor', 69: 'versicolor', 7: 'setosa', 70: 'versicolor', 71: 'versicolor', 72: 'versicolor', 73: 'versicolor', 74: 'versicolor', 75: 'versicolor', 76: 'versicolor', 77: 'versicolor', 78: 'versicolor', 79: 'versicolor', 8: 'setosa', 80: 'versicolor', 81: 'versicolor', 82: 'versicolor', 83: 'versicolor', 84: 'versicolor', 85: 'versicolor', 86: 'versicolor', 87: 'versicolor', 88: 'versicolor', 89: 'versicolor', 9: 'setosa', 90: 'versicolor', 91: 'versicolor', 92: 'versicolor', 93: 'versicolor', 94: 'versicolor', 95: 'versicolor', 96: 'versicolor', 97: 'versicolor', 98: 'versicolor', 99: 'versicolor'}}\n"
     ]
    }
   ],
   "source": [
    "load_iris_dict = {}\n",
    "# dict_keys(['sepal_length', 'sepal_width', 'petal_length', 'petal_width', 'species'])\n",
    "import h5py\n",
    "with h5py.File('data/ch09_iris_dic.hdf5', 'r') as f : # open이 아니라 File로 읽기 가능한 stream 객체 생성\n",
    "    for group, value in f.items() :\n",
    "        temp = {}\n",
    "        \n",
    "        for key, data in value.items() :\n",
    "            temp[int(key)] = data[()].decode('utf-8') if isinstance(data[()], bytes) else data[()]\n",
    "            # data[()]는 h5py의 문법, \n",
    "            # species에서 b가 하나 붙는데 bytes타입이란 뜻으로 decode 필요(디코딩할데이터.decode('utf-8'))\n",
    "\n",
    "        load_iris_dict[group] = temp\n",
    "print(load_iris_dict)"
   ]
  },
  {
   "cell_type": "code",
   "execution_count": 143,
   "id": "406256a0",
   "metadata": {},
   "outputs": [
    {
     "data": {
      "text/plain": [
       "True"
      ]
     },
     "execution_count": 143,
     "metadata": {},
     "output_type": "execute_result"
    }
   ],
   "source": [
    "iris_dic == load_iris_dict"
   ]
  },
  {
   "cell_type": "markdown",
   "id": "f27238ce",
   "metadata": {},
   "source": [
    "# 6절 ★★연습문제 : 고객 관리 프로그램\n",
    "- 프로그램 시작 시 'data/ch09_customer_list.txt'(고객 데이터 백업용)의 내용을 load\n",
    "        - 'data/ch09_customer_list.txt' 내용\n",
    "            - 이름, 전화번호, 메일, 나이, 고객등급(1~5), 기타\n",
    "            - 홍길동, 010-9999-9999, a@a.com, 20, 3, 까칠\n",
    "            - 유길동, 010-5432-1234, b@a.com, 30, 3, 까칠\n",
    "- 파일이 없으면 자동으로 생성하고 데이터를 로드\n",
    "- 종료 시 파일 저장 후 종료\n",
    "- 프로그래밍 시 필요한 기능을 우선 구현하고 이후 모든 것을 활용할 main() 함수를 구현한다.\n",
    "## 6-1-0. 스스로 구현\n",
    "## 6-1. Customer class 생성"
   ]
  },
  {
   "cell_type": "code",
   "execution_count": 1,
   "id": "3f99cc74",
   "metadata": {},
   "outputs": [],
   "source": [
    "class Customer :\n",
    "    '''고객 데이터와 as_dic(), to_list_style(txt 백업 시), __str__()'''\n",
    "    def __init__(self,name,phone,email,age,grade,etc) :\n",
    "        self.name = name\n",
    "        self.phone = phone\n",
    "        self.email = email\n",
    "        self.age = age\n",
    "        self.grade = grade\n",
    "        self.etc = etc\n",
    "    def as_dic(self) : # csv파일 저장용\n",
    "        return {'name' : self.name, 'phone' : self.phone, 'email' : self.email, 'age':self.age, 'grade':self.grade, 'etc':self.etc}\n",
    "    def to_list_style(self) : # txt 저장용\n",
    "        return f'{self.name},{self.phone},{self.email},{self.age},{self.grade},{self.etc}\\n'\n",
    "    def __str__(self) : # 전체 출력용으로 사용\n",
    "        return f\"{'*' * int(self.grade):>5}\\t{self.name:>3}\\t\\t{self.phone:>13}\\t\\t{self.email:^20}\\t{self.age:>3}\\t{self.etc:^5}\"  "
   ]
  },
  {
   "cell_type": "code",
   "execution_count": 2,
   "id": "fd46f5bc",
   "metadata": {},
   "outputs": [],
   "source": [
    "def to_customer(row) :\n",
    "    '''\n",
    "    txt 파일 내용을 Customer 객체로 반환\n",
    "    ex) '홍길동,010-9999-9999,a@a.com,30,3,까칠해'\n",
    "    '''\n",
    "    member_info = row.strip().split(',')\n",
    "    return Customer(member_info[0],member_info[1],member_info[2],member_info[3],member_info[4],member_info[5])"
   ]
  },
  {
   "cell_type": "code",
   "execution_count": 14,
   "id": "246499d0",
   "metadata": {},
   "outputs": [
    {
     "name": "stdout",
     "output_type": "stream",
     "text": [
      "  ***\t홍길동\t\t010-9999-9999\t\t      a@a.com       \t 30\t 까칠해 \n",
      "{'name': '홍길동', 'phone': '010-9999-9999', 'email': 'a@a.com', 'age': 30, 'grade': 3, 'etc': '까칠해'}\n",
      "홍길동,010-9999-9999,a@a.com,30,3,까칠해\n",
      "\n",
      "  ***\t홍길동\t\t010-9999-9999\t\t      a@a.com       \t 30\t 까칠해 \n"
     ]
    }
   ],
   "source": [
    "c1 = Customer('홍길동','010-9999-9999','a@a.com',30,3,'까칠해')\n",
    "print(c1)\n",
    "print(c1.as_dic())\n",
    "print(c1.to_list_style())\n",
    "c2 = to_customer('홍길동,010-9999-9999,a@a.com,30,3,까칠해')\n",
    "print(c2)"
   ]
  },
  {
   "cell_type": "markdown",
   "id": "3e7eb0d0",
   "metadata": {},
   "source": [
    "0.실행하면 data/ch09_customers.txt 파일의 내용을 load(customer_list)\n",
    "data/ch09_customers.txt이 존재하지 않으면\n",
    "빈 data/ch09_customers.txt 파일을 생성하고\n",
    "데이터는 customer_list=[]"
   ]
  },
  {
   "cell_type": "code",
   "execution_count": 21,
   "id": "c7f26975",
   "metadata": {},
   "outputs": [],
   "source": [
    "# 구동파일 : 데이터베이스 없으면 만들고 실행, 있으면 그냥 데이터를 customer_list에 저장\n",
    "\n",
    "def start() :\n",
    "    while True :\n",
    "        try :\n",
    "            with open('data/ch09_customer.txt','r', encoding='utf-8') as f :\n",
    "                lines = f.readlines()\n",
    "                customer_list = lines\n",
    "                break\n",
    "        except :\n",
    "            with open('data/ch09_customer.txt','a', encoding='utf-8') as f :\n",
    "                pass\n",
    "    return customer_list\n",
    "customer_list = start()\n",
    "info_format = '''==========================================================================================\n",
    "                            고객 정보\n",
    "------------------------------------------------------------------------------------------\n",
    "GRADE\\t이름\\t\\t\\t전화\\t\\t\\t메일\\t\\t나이\\t기타\n",
    "=========================================================================================='''"
   ]
  },
  {
   "cell_type": "code",
   "execution_count": 4,
   "id": "88bc7ca3",
   "metadata": {},
   "outputs": [],
   "source": [
    "def fn1_insert_customers() : # 정보 입력하기\n",
    "    while True :\n",
    "        try :\n",
    "            name = input('이름 : ')\n",
    "            phone = input('전화번호 : ')\n",
    "            email = input('이메일 : ')\n",
    "            age = int(input('나이 : '))\n",
    "            grade = int(input('고객등급(1~5) : '))\n",
    "            etc = input('기타정보 : ')\n",
    "            customer = Customer(name,phone,email,age,grade,etc)\n",
    "            with open('data/ch09_customer.txt','a', encoding='utf-8') as f : \n",
    "                f.write(customer.to_list_style())\n",
    "            print('새로운 정보를 입력하였습니다.')\n",
    "            break\n",
    "        except Exception :\n",
    "            print('잘못된 정보를 입력하셨습니다.')"
   ]
  },
  {
   "cell_type": "code",
   "execution_count": 5,
   "id": "b549f6aa",
   "metadata": {},
   "outputs": [],
   "source": [
    "def fn2_print_customers() :\n",
    "    print(info_format)\n",
    "    for i in customer_list :\n",
    "        print(to_customer(i))"
   ]
  },
  {
   "cell_type": "code",
   "execution_count": 6,
   "id": "d355b488",
   "metadata": {},
   "outputs": [],
   "source": [
    "def fn3_delete_customers() :\n",
    "    name = input('삭제할 이름을 입력하세요 : ')\n",
    "    phone = input('가입하신 번호를 입력하세요 : ')\n",
    "    for idx,data in enumerate(customer_list) :\n",
    "        if name in data and phone in data :\n",
    "            customer_list.pop(idx)\n",
    "    print('정보를 삭제하였습니다.')"
   ]
  },
  {
   "cell_type": "code",
   "execution_count": 11,
   "id": "ce141ff6",
   "metadata": {
    "scrolled": true
   },
   "outputs": [],
   "source": [
    "def fn4_search_customer() :\n",
    "    name = input('찾으실 이름을 입력하세요 : ')\n",
    "    name_list = [to_customer(i).name for i in customer_list]\n",
    "    if name in name_list :\n",
    "        print('탐색 결과는 아래와 같습니다.')\n",
    "        for idx,data in enumerate(customer_list) :\n",
    "            if name == data.strip().split(',')[0] :\n",
    "                print(info_format)\n",
    "                print(to_customer(data)) \n",
    "    else :\n",
    "        raise Exception('해당 내용이 존재하지 않습니다.')"
   ]
  },
  {
   "cell_type": "code",
   "execution_count": 15,
   "id": "bb587d71",
   "metadata": {},
   "outputs": [],
   "source": [
    "def fn5_save_customer_csv() :\n",
    "    import csv\n",
    "    while True :\n",
    "        try :\n",
    "            file_name = input('파일 이름을 입력하세요 : ')\n",
    "            if file_name.strip() == '' : \n",
    "                raise Exception\n",
    "            with open(f'data/{file_name}.csv', 'w', encoding='utf-8', newline='') as f :\n",
    "                writer = csv.DictWriter(f, fieldnames=['name','phone','email','age','grade','etc'])\n",
    "                for i in customer_list :\n",
    "                    wri = to_customer(i)\n",
    "                    writer.writerow(wri.as_dic())\n",
    "            print(f'{file_name}.csv 파일로 저장하였습니다.')\n",
    "            break\n",
    "        except Exception('다시 시도하세요...') as e:\n",
    "            print(e)"
   ]
  },
  {
   "cell_type": "code",
   "execution_count": null,
   "id": "26ca46dc",
   "metadata": {},
   "outputs": [],
   "source": [
    "def fn9_save_customer_txt() :\n",
    "    with open('data/ch09_customer.txt','w', encoding='utf-8') as f :\n",
    "        f.writelines(customer_list)\n",
    "    print('파일을 백업하였습니다.')"
   ]
  },
  {
   "cell_type": "code",
   "execution_count": 30,
   "id": "d9abe894",
   "metadata": {},
   "outputs": [],
   "source": [
    "def main() :\n",
    "    import csv\n",
    "    customer_list = start()\n",
    "    while True :\n",
    "        try :\n",
    "            numb = int(input('1:입력|2:전체출력|3:삭제|4:이름찾기|5:내보내기(csv)|9:종료 메뉴 선택 : '))\n",
    "            if numb not in [1,2,3,4,5,9] :\n",
    "                raise Exception\n",
    "            if numb == 1 :\n",
    "                fn1_insert_customers()\n",
    "            elif numb == 2 :\n",
    "                fn2_print_customers()\n",
    "            elif numb == 3 :\n",
    "                fn3_delete_customers()\n",
    "            elif numb == 4 :\n",
    "                fn4_search_customer()\n",
    "            elif numb == 5 :\n",
    "                fn5_save_customer_csv\n",
    "            elif numb == 9 :\n",
    "                fn9_save_customer_txt()\n",
    "                break\n",
    "        except :\n",
    "            print('정상적인 접근 방식이 아닙니다.')"
   ]
  },
  {
   "cell_type": "code",
   "execution_count": null,
   "id": "f7901dfe",
   "metadata": {},
   "outputs": [],
   "source": []
  },
  {
   "cell_type": "code",
   "execution_count": null,
   "id": "6e633616",
   "metadata": {},
   "outputs": [],
   "source": []
  },
  {
   "cell_type": "markdown",
   "id": "afd94b62",
   "metadata": {},
   "source": [
    "## 6-1-1 선생님 구현"
   ]
  },
  {
   "cell_type": "code",
   "execution_count": 264,
   "id": "266071bc",
   "metadata": {},
   "outputs": [],
   "source": [
    "class Customer:\n",
    "    '고객데이터와 as_dic(), to_list_style(txt백업시), __str__()'\n",
    "    def __init__(self, name, phone, email, age, grade, etc):\n",
    "        self.name = name\n",
    "        self.phone = phone\n",
    "        self.email = email\n",
    "        self.age  = age\n",
    "        self.grade = grade\n",
    "        self.etc = etc\n",
    "    def as_dic(self):\n",
    "        return {\"name\":self.name, \n",
    "                \"phone\":self.phone, \n",
    "                \"email\":self.email,\n",
    "                \"age\":self.age, \n",
    "                \"grade\":self.grade, \n",
    "                \"etc\":self.etc}\n",
    "    def to_list_style(self):\n",
    "        # return \"홍길동, 010-9999-9999, a@a.com, 30, 3, 까칠해\"\n",
    "#         return \"{}, {}, {}, {}, {}, {}\".format(self.name, self.phone, self.email,\n",
    "#                                               self.age, self.grade, self.etc)\n",
    "        temp = [self.name, \n",
    "                self.phone, \n",
    "                self.email, \n",
    "                str(self.age), \n",
    "                str(self.grade), \n",
    "                self.etc]\n",
    "        return ', '.join(temp)\n",
    "    def __str__(self):\n",
    "        # return \"  *** 홍길동, 010-9999-9999, a@a.com, 30, 까칠해\"\n",
    "        return \"{:>5}\\t{:^3}\\t{:^13}\\t{:^20}\\t{:^3}\\t{}\".format('*'*self.grade,\n",
    "                       self.name, self.phone, self.email, self.age, self.etc)"
   ]
  },
  {
   "cell_type": "code",
   "execution_count": 265,
   "id": "e7242b50",
   "metadata": {},
   "outputs": [],
   "source": [
    "def to_customer(row):\n",
    "    '''\n",
    "    row = \"홍길동, 010-9999-9999, a@a.com, 30, 3, 까칠해\"(txt파일 내용)을 매개변수로 받아\n",
    "    Customer 객체로 return \n",
    "    '''\n",
    "    data = row.split(',')\n",
    "    name = data[0]\n",
    "    phone = data[1].strip() # strip은 앞뒤 white space 제거\n",
    "    email = data[2].strip()\n",
    "    age = int(data[3].strip())\n",
    "    grade = int(data[4].strip())\n",
    "    etc = data[5].strip()\n",
    "    return Customer(name, phone, email, age, grade, etc)"
   ]
  },
  {
   "cell_type": "code",
   "execution_count": 266,
   "id": "8524c5d9",
   "metadata": {},
   "outputs": [
    {
     "name": "stdout",
     "output_type": "stream",
     "text": [
      "  ***\t홍길동\t010-9999-9999\t      a@a.com       \t30 \t까칠해\n",
      "as_dic() = {'name': '홍길동', 'phone': '010-9999-9999', 'email': 'a@a.com', 'age': 30, 'grade': 3, 'etc': '까칠해'}\n",
      "to_list_style() = 홍길동, 010-9999-9999, a@a.com, 30, 3, 까칠해\n",
      "  ***\t홍길동\t010-9999-9999\t      a@a.com       \t30 \t까칠해\n"
     ]
    }
   ],
   "source": [
    "c1 = Customer(\"홍길동\", \"010-9999-9999\", \"a@a.com\", 30, 3, \"까칠해\")\n",
    "print(c1)\n",
    "print('as_dic() =',c1.as_dic())\n",
    "print('to_list_style() =',c1.to_list_style())\n",
    "c2 = to_customer(\"홍길동, 010-9999-9999, a@a.com, 30, 3, 까칠해\")\n",
    "print(c2)"
   ]
  },
  {
   "cell_type": "markdown",
   "id": "17b0a740",
   "metadata": {},
   "source": [
    "### 0. 처음 실행 시 호출\n",
    "- ch09_customers.txt(백업데이터)에서 customer_list return\n",
    "- 파일이 없으면 빈 파일 생성, customer_list = [] return"
   ]
  },
  {
   "cell_type": "code",
   "execution_count": 289,
   "id": "47cb43f2",
   "metadata": {},
   "outputs": [],
   "source": [
    "def load_customers():\n",
    "    customer_list = []\n",
    "    try:\n",
    "        with open('data/ch09_customers.txt', 'r', encoding='utf-8') as f:\n",
    "            # txt 데이터 한줄씩 customer 객체로 받아 customer_list.append\n",
    "            lines = f.readlines()\n",
    "            for line in lines:\n",
    "                #line = \"홍길동, 010-9999-9999, a@a.com, 30, 3, 까칠해\"\n",
    "                customer = to_customer(line)\n",
    "                # print(customer)\n",
    "                customer_list.append(customer)\n",
    "            print('데이터를 로드하였습니다.')\n",
    "    except:\n",
    "        with open('data/ch09_customers.txt', 'w', encoding='utf-8') as f:\n",
    "            print('초기화 파일을 생성했습니다')\n",
    "    return customer_list"
   ]
  },
  {
   "cell_type": "code",
   "execution_count": 268,
   "id": "18407254",
   "metadata": {},
   "outputs": [
    {
     "name": "stdout",
     "output_type": "stream",
     "text": [
      "*****\t홍길동\t010-1111-9999\t   hong@naver.com   \t23 \t-\n",
      "*****\t홍길동\t010-2222-9999\t  hongs@naver.com   \t27 \t-\n",
      "*****\t홍길동\t010-3333-9999\t  hongs@naver.com   \t27 \t-\n",
      "   **\t신길동\t010-1144-6688\t   kims@naver.com   \t37 \t없음\n",
      "   **\t신길동\t010-2244-6688\t   kims@naver.com   \t37 \t없음\n",
      "   **\t신길동\t010-3344-6688\t   kims@naver.com   \t37 \t없음\n",
      " ****\t신림동\t010-1133-5577\t   sims@naver.com   \t73 \t까칠해\n",
      "  ***\t정종혁\t010-7621-5728\t  whdgur@naver.com  \t30 \t없음\n"
     ]
    }
   ],
   "source": [
    "customer_list = load_customers()\n",
    "for customer in customer_list:\n",
    "    print(customer)"
   ]
  },
  {
   "cell_type": "markdown",
   "id": "a672693c",
   "metadata": {},
   "source": [
    "### 1. 입력"
   ]
  },
  {
   "cell_type": "code",
   "execution_count": 269,
   "id": "87ce8ffb",
   "metadata": {},
   "outputs": [],
   "source": [
    "def fn1_insert_customer_info():\n",
    "    '사용자로 부터 name, phone, email, grade, etc를 입력받아 Customer 객체 반환'\n",
    "    import re\n",
    "    name = input('이름 : ')\n",
    "#    name_pattern = r'([가-힣]{2,})|[a-zA-Z]{3,}'\n",
    "    name_pattern = r'[가-힣]{2,}'\n",
    "    while not re.search(name_pattern,name) :\n",
    "        print('이름을 제대로 입력하세요(한글로 2글만 이상) : ')\n",
    "        name = input('이름')\n",
    "    phone = input('전화 : ')\n",
    "    email = input('메일 : ')\n",
    "    while True :\n",
    "        try :\n",
    "            age = int(input('나이 : '))\n",
    "            if not (0<age<130) :\n",
    "                raise Exception\n",
    "            break\n",
    "        except :\n",
    "            print('올바른 나이를 입력하세요.나이의 허용 범위는 1살 이상 130살 미만입니다..')\n",
    "    try :\n",
    "        grade = int(input('등급(1~5) : '))\n",
    "        if grade < 1 :\n",
    "            grade = 1\n",
    "        if grade > 5 :\n",
    "            grade = 5\n",
    "    except :\n",
    "        print('유효하지 않은 등급 입력시 1등급으로 초기화')\n",
    "        grade = 1\n",
    "    etc = input('기타 정보 : ')\n",
    "    customer = Customer(name,phone,email,age,grade,etc)\n",
    "    customer_list.append(customer)\n",
    "    return customer"
   ]
  },
  {
   "cell_type": "code",
   "execution_count": 270,
   "id": "a66b9ae3",
   "metadata": {},
   "outputs": [
    {
     "name": "stdout",
     "output_type": "stream",
     "text": [
      "*****\t홍길동\t010-1111-9999\t   hong@naver.com   \t23 \t-\n",
      "*****\t홍길동\t010-2222-9999\t  hongs@naver.com   \t27 \t-\n",
      "*****\t홍길동\t010-3333-9999\t  hongs@naver.com   \t27 \t-\n",
      "   **\t신길동\t010-1144-6688\t   kims@naver.com   \t37 \t없음\n",
      "   **\t신길동\t010-2244-6688\t   kims@naver.com   \t37 \t없음\n",
      "   **\t신길동\t010-3344-6688\t   kims@naver.com   \t37 \t없음\n",
      " ****\t신림동\t010-1133-5577\t   sims@naver.com   \t73 \t까칠해\n",
      "  ***\t정종혁\t010-7621-5728\t  whdgur@naver.com  \t30 \t없음\n"
     ]
    }
   ],
   "source": [
    "# 1번 함수 테스트\n",
    "# fn1_insert_customer_info()\n",
    "for i in customer_list :\n",
    "    print(i)"
   ]
  },
  {
   "cell_type": "code",
   "execution_count": 240,
   "id": "d063af57",
   "metadata": {},
   "outputs": [],
   "source": [
    "customer_list=load_customers()"
   ]
  },
  {
   "cell_type": "markdown",
   "id": "67b96d4a",
   "metadata": {},
   "source": [
    "### 2. 전체 출력"
   ]
  },
  {
   "cell_type": "code",
   "execution_count": 271,
   "id": "0754d054",
   "metadata": {},
   "outputs": [],
   "source": [
    "def fn2_print_customers(customer_list):\n",
    "    print('=' * 80)\n",
    "    print(f'{\"고객정보\":^80}')\n",
    "    print('-' * 80)\n",
    "    print(f\"{'GRADE':^5}\\t{'이름':^3}\\t{'전화':^13}\\t{'메일':^20}\\t{'나이':^3}\\t{'기타'}\")\n",
    "    print('=' * 80)\n",
    "    for customer in customer_list :\n",
    "        print(customer)\n",
    "    print('=' * 80)"
   ]
  },
  {
   "cell_type": "code",
   "execution_count": 272,
   "id": "d2492f6b",
   "metadata": {},
   "outputs": [
    {
     "name": "stdout",
     "output_type": "stream",
     "text": [
      "================================================================================\n",
      "                                      고객정보                                      \n",
      "--------------------------------------------------------------------------------\n",
      "GRADE\t이름 \t     전화      \t         메일         \t나이 \t기타\n",
      "================================================================================\n",
      "*****\t홍길동\t010-1111-9999\t   hong@naver.com   \t23 \t-\n",
      "*****\t홍길동\t010-2222-9999\t  hongs@naver.com   \t27 \t-\n",
      "*****\t홍길동\t010-3333-9999\t  hongs@naver.com   \t27 \t-\n",
      "   **\t신길동\t010-1144-6688\t   kims@naver.com   \t37 \t없음\n",
      "   **\t신길동\t010-2244-6688\t   kims@naver.com   \t37 \t없음\n",
      "   **\t신길동\t010-3344-6688\t   kims@naver.com   \t37 \t없음\n",
      " ****\t신림동\t010-1133-5577\t   sims@naver.com   \t73 \t까칠해\n",
      "  ***\t정종혁\t010-7621-5728\t  whdgur@naver.com  \t30 \t없음\n",
      "================================================================================\n"
     ]
    }
   ],
   "source": [
    "fn2_print_customers(customer_list)"
   ]
  },
  {
   "cell_type": "code",
   "execution_count": null,
   "id": "02af368e",
   "metadata": {},
   "outputs": [],
   "source": []
  },
  {
   "cell_type": "markdown",
   "id": "a97c510e",
   "metadata": {},
   "source": [
    "### 3. 삭제"
   ]
  },
  {
   "cell_type": "code",
   "execution_count": 273,
   "id": "1dbac3e5",
   "metadata": {},
   "outputs": [],
   "source": [
    "# 선생님 풀이\n",
    "# 1. 동명 이인이 없을 경우\n",
    "def fn3_teacher_delete_customer1(customer_list) :\n",
    "    delete_name = input('삭제할 고객 이름은?')\n",
    "    for data in customer_list :\n",
    "        if data.name == delete_name :\n",
    "            customer_list.remove(data)\n",
    "            print(f'{delete_name}님의 정보를 삭제하였습니다.')\n",
    "            break\n",
    "    else :\n",
    "        print(f'{delete_name}님의 이름으로 가입된 정보가 없습니다.')"
   ]
  },
  {
   "cell_type": "code",
   "execution_count": 164,
   "id": "e2117e6e",
   "metadata": {},
   "outputs": [
    {
     "name": "stdout",
     "output_type": "stream",
     "text": [
      "================================================================================\n",
      "                                      고객정보                                      \n",
      "--------------------------------------------------------------------------------\n",
      "GRADE\t이름 \t     전화      \t         메일         \t나이 \t기타\n",
      "================================================================================\n",
      "*****\t홍길동\t010-1111-9999\t   hong@naver.com   \t23 \t-\n",
      "*****\t홍길동\t010-2222-9999\t  hongs@naver.com   \t27 \t-\n",
      "*****\t홍길동\t010-3333-9999\t  hongs@naver.com   \t27 \t-\n",
      "   **\t신길동\t010-1144-6688\t   kims@naver.com   \t37 \t없음\n",
      "   **\t신길동\t010-2244-6688\t   kims@naver.com   \t37 \t없음\n",
      "   **\t신길동\t010-3344-6688\t   kims@naver.com   \t37 \t없음\n",
      " ****\t신림동\t010-1133-5577\t   sims@naver.com   \t73 \t까칠해\n",
      "================================================================================\n"
     ]
    }
   ],
   "source": [
    "customer_list = load_customers()\n",
    "fn2_print_customers(customer_list)"
   ]
  },
  {
   "cell_type": "code",
   "execution_count": 139,
   "id": "905d61b7",
   "metadata": {},
   "outputs": [
    {
     "name": "stdout",
     "output_type": "stream",
     "text": [
      "삭제할 고객 이름은?이미숙\n",
      "이미숙님의 이름으로 가입된 정보가 없습니다.\n"
     ]
    }
   ],
   "source": [
    "fn3_teacher_delete_customer1(customer_list)"
   ]
  },
  {
   "cell_type": "code",
   "execution_count": 186,
   "id": "148acb05",
   "metadata": {},
   "outputs": [
    {
     "name": "stdout",
     "output_type": "stream",
     "text": [
      "================================================================================\n",
      "                                      고객정보                                      \n",
      "--------------------------------------------------------------------------------\n",
      "GRADE\t이름 \t     전화      \t         메일         \t나이 \t기타\n",
      "================================================================================\n",
      "*****\t홍길동\t010-1111-9999\t   hong@naver.com   \t23 \t-\n",
      "*****\t홍길동\t010-2222-9999\t  hongs@naver.com   \t27 \t-\n",
      "*****\t홍길동\t010-3333-9999\t  hongs@naver.com   \t27 \t-\n",
      "   **\t신길동\t010-1144-6688\t   kims@naver.com   \t37 \t없음\n",
      "   **\t신길동\t010-2244-6688\t   kims@naver.com   \t37 \t없음\n",
      "   **\t신길동\t010-3344-6688\t   kims@naver.com   \t37 \t없음\n",
      " ****\t신림동\t010-1133-5577\t   sims@naver.com   \t73 \t까칠해\n",
      "================================================================================\n"
     ]
    }
   ],
   "source": [
    "customer_list = load_customers()\n",
    "fn2_print_customers(customer_list)"
   ]
  },
  {
   "cell_type": "code",
   "execution_count": 274,
   "id": "65995f7c",
   "metadata": {},
   "outputs": [],
   "source": [
    "# 선생님 풀이\n",
    "# 2. 동명 이인이 있을 경우 모두 삭제\n",
    "def fn3_teacher_delete_customer2(customer_list) :\n",
    "    delete_name = input('삭제할 고객 이름은? : ')\n",
    "    delete_idx = []\n",
    "    for idx,customer in enumerate(customer_list) :\n",
    "        if customer.name == delete_name :\n",
    "            delete_idx.append(idx)\n",
    "    if not delete_idx :\n",
    "        print(f'{delete_name}님의 이름으로 저장된 정보는 확인되지 않아요.')\n",
    "    else :\n",
    "        cnt = 0\n",
    "        for i,idx in enumerate(delete_idx[::-1]) :\n",
    "            customer_list.pop(idx)\n",
    "            cnt +=1\n",
    "            print(f'{i+1}번째 정보를 삭제중입니다...')\n",
    "        print(f'정보를 모두 {cnt}건 삭제하였습니다.')"
   ]
  },
  {
   "cell_type": "code",
   "execution_count": 185,
   "id": "0eef8e4b",
   "metadata": {},
   "outputs": [
    {
     "name": "stdout",
     "output_type": "stream",
     "text": [
      "삭제할 고객 이름은? : 홍길동\n",
      "홍길동님의 이름으로 저장된 정보는 확인되지 않아요.\n"
     ]
    }
   ],
   "source": [
    "fn3_teacher_delete_customer2(customer_list)"
   ]
  },
  {
   "cell_type": "code",
   "execution_count": 181,
   "id": "313ee232",
   "metadata": {},
   "outputs": [
    {
     "name": "stdout",
     "output_type": "stream",
     "text": [
      "================================================================================\n",
      "                                      고객정보                                      \n",
      "--------------------------------------------------------------------------------\n",
      "GRADE\t이름 \t     전화      \t         메일         \t나이 \t기타\n",
      "================================================================================\n",
      "   **\t신길동\t010-1144-6688\t   kims@naver.com   \t37 \t없음\n",
      "   **\t신길동\t010-2244-6688\t   kims@naver.com   \t37 \t없음\n",
      "   **\t신길동\t010-3344-6688\t   kims@naver.com   \t37 \t없음\n",
      " ****\t신림동\t010-1133-5577\t   sims@naver.com   \t73 \t까칠해\n",
      "================================================================================\n"
     ]
    }
   ],
   "source": [
    "fn2_print_customers(customer_list)"
   ]
  },
  {
   "cell_type": "markdown",
   "id": "d2e5ccb4",
   "metadata": {},
   "source": [
    "#### 삭제 개인 풀이"
   ]
  },
  {
   "cell_type": "code",
   "execution_count": 275,
   "id": "770b964e",
   "metadata": {},
   "outputs": [],
   "source": [
    "# 본인 풀이 : 원하는 정보/해당하는 정보를 선택하여 삭제하기\n",
    "\n",
    "def fn3_delete_customer(customer_list):\n",
    "    '''\n",
    "    동명이인이 있다(이름, 번호를 기입해서 삭제) or 삭제할 정보 보여주고 선택하게 하기\n",
    "    '''\n",
    "    name = input('삭제하실 이름을 입력하세요 : ')\n",
    "    name_candidate = [customer.name for customer in customer_list]\n",
    "    if not name in name_candidate :\n",
    "        print('해당이름으로 가입된 정보가 없습니다.')\n",
    "    else :\n",
    "        name_list = []\n",
    "        for idx, customer in enumerate(customer_list) :\n",
    "            if customer.name == name :\n",
    "                name_list.append(customer_list[idx])\n",
    "        print('확인된 정보는 아래와 같습니다.')\n",
    "        print('=' * 80)\n",
    "        print(f'{\"고객정보\":^80}')\n",
    "        print('-' * 80)\n",
    "        print(f\"{'GRADE':^5}\\t{'이름':^3}\\t{'전화':^13}\\t{'메일':^20}\\t{'나이':^3}\\t{'기타'}\")\n",
    "        print('=' * 80)\n",
    "        for idx, customer in enumerate(name_list) :\n",
    "            print(idx+1, customer)\n",
    "        print('=' * 80)\n",
    "        try :\n",
    "            while True :\n",
    "                numb = int(input('삭제하고자 하는 정보는 몇 번째 정보입니까?(취소 : 취소입력) : '))\n",
    "                if (numb-1) in range(len(name_list)) :\n",
    "                    break\n",
    "                else :\n",
    "                    print('올바른 순번을 입력하세요.')\n",
    "            name_list.pop(numb-1)\n",
    "            print(f'{name}님의 {numb}번째 정보를 삭제하였습니다.')\n",
    "            for data in customer_list :\n",
    "                if data.name == name and data not in name_list :\n",
    "                    customer_list.remove(data)\n",
    "        except :\n",
    "            print('정보를 확인해주세요')"
   ]
  },
  {
   "cell_type": "code",
   "execution_count": 160,
   "id": "86940e47",
   "metadata": {},
   "outputs": [],
   "source": [
    "customer_list = load_customers()"
   ]
  },
  {
   "cell_type": "code",
   "execution_count": 276,
   "id": "129460f1",
   "metadata": {},
   "outputs": [
    {
     "name": "stdout",
     "output_type": "stream",
     "text": [
      "================================================================================\n",
      "                                      고객정보                                      \n",
      "--------------------------------------------------------------------------------\n",
      "GRADE\t이름 \t     전화      \t         메일         \t나이 \t기타\n",
      "================================================================================\n",
      "*****\t홍길동\t010-1111-9999\t   hong@naver.com   \t23 \t-\n",
      "*****\t홍길동\t010-2222-9999\t  hongs@naver.com   \t27 \t-\n",
      "*****\t홍길동\t010-3333-9999\t  hongs@naver.com   \t27 \t-\n",
      "   **\t신길동\t010-1144-6688\t   kims@naver.com   \t37 \t없음\n",
      "   **\t신길동\t010-2244-6688\t   kims@naver.com   \t37 \t없음\n",
      "   **\t신길동\t010-3344-6688\t   kims@naver.com   \t37 \t없음\n",
      " ****\t신림동\t010-1133-5577\t   sims@naver.com   \t73 \t까칠해\n",
      "  ***\t정종혁\t010-7621-5728\t  whdgur@naver.com  \t30 \t없음\n",
      "================================================================================\n"
     ]
    }
   ],
   "source": [
    "fn2_print_customers(customer_list)"
   ]
  },
  {
   "cell_type": "code",
   "execution_count": 162,
   "id": "b703be87",
   "metadata": {},
   "outputs": [
    {
     "name": "stdout",
     "output_type": "stream",
     "text": [
      "삭제하실 이름을 입력하세요 : 이미숙\n",
      "해당이름으로 가입된 정보가 없습니다.\n"
     ]
    }
   ],
   "source": [
    "fn3_delete_customer(customer_list)"
   ]
  },
  {
   "cell_type": "code",
   "execution_count": 145,
   "id": "4479f121",
   "metadata": {},
   "outputs": [
    {
     "name": "stdout",
     "output_type": "stream",
     "text": [
      "================================================================================\n",
      "                                      고객정보                                      \n",
      "--------------------------------------------------------------------------------\n",
      "GRADE\t이름 \t     전화      \t         메일         \t나이 \t기타\n",
      "================================================================================\n",
      "*****\t홍길동\t010-난첫번째-9999\t   hong@naver.com   \t23 \t-\n",
      "   **\t신길동\t010-2244-6688\t   kims@naver.com   \t37 \t없음\n",
      " ****\t신림동\t010-1133-5577\t   sims@naver.com   \t73 \t까칠해\n",
      "================================================================================\n"
     ]
    }
   ],
   "source": [
    "fn2_print_customers(customer_list)"
   ]
  },
  {
   "cell_type": "code",
   "execution_count": null,
   "id": "e182d3dd",
   "metadata": {},
   "outputs": [],
   "source": []
  },
  {
   "cell_type": "markdown",
   "id": "25541e62",
   "metadata": {},
   "source": [
    "### 4. 이름찾기"
   ]
  },
  {
   "cell_type": "code",
   "execution_count": 277,
   "id": "b3839cc5",
   "metadata": {},
   "outputs": [],
   "source": [
    "def fn4_search_customer(customer_list):\n",
    "    '''\n",
    "    입력받은 이름 정보를 모두 출력\n",
    "    '''\n",
    "    find_name = input('찾고자 하는 성함을 입력하세요 : ')\n",
    "    name_candidate = [customer.name for customer in customer_list]\n",
    "    if not find_name in name_candidate :\n",
    "        print('해당이름으로 가입된 정보가 없습니다.')\n",
    "    else :\n",
    "#        name_list = []\n",
    "#         for idx, customer in enumerate(customer_list) :\n",
    "#             if customer.name == find_name :\n",
    "#                 name_list.append(customer_list[idx])\n",
    "        print('확인된 정보는 아래와 같습니다.')\n",
    "        print('=' * 80)\n",
    "        print(f'{\"고객정보\":^80}')\n",
    "        print('-' * 80)\n",
    "        print(f\"{'GRADE':<5}\\t{'이름':^3}\\t{'전화':^13}\\t{'메일':^20}\\t{'나이':^3}\\t{'기타'}\")\n",
    "        print('=' * 80)\n",
    "        for customer in customer_list :\n",
    "            if customer.name == find_name :\n",
    "                print(customer)\n",
    "        print('=' * 80)"
   ]
  },
  {
   "cell_type": "code",
   "execution_count": 278,
   "id": "e2ff0d55",
   "metadata": {},
   "outputs": [
    {
     "name": "stdout",
     "output_type": "stream",
     "text": [
      "찾고자 하는 성함을 입력하세요 : 홍길동\n",
      "확인된 정보는 아래와 같습니다.\n",
      "================================================================================\n",
      "                                      고객정보                                      \n",
      "--------------------------------------------------------------------------------\n",
      "GRADE\t이름 \t     전화      \t         메일         \t나이 \t기타\n",
      "================================================================================\n",
      "*****\t홍길동\t010-1111-9999\t   hong@naver.com   \t23 \t-\n",
      "*****\t홍길동\t010-2222-9999\t  hongs@naver.com   \t27 \t-\n",
      "*****\t홍길동\t010-3333-9999\t  hongs@naver.com   \t27 \t-\n",
      "================================================================================\n"
     ]
    }
   ],
   "source": [
    "fn4_search_customer(customer_list)"
   ]
  },
  {
   "cell_type": "code",
   "execution_count": null,
   "id": "ead32eb4",
   "metadata": {},
   "outputs": [],
   "source": []
  },
  {
   "cell_type": "code",
   "execution_count": null,
   "id": "aa57f585",
   "metadata": {},
   "outputs": [],
   "source": []
  },
  {
   "cell_type": "code",
   "execution_count": null,
   "id": "890b3d6f",
   "metadata": {},
   "outputs": [],
   "source": []
  },
  {
   "cell_type": "markdown",
   "id": "ccc8d65c",
   "metadata": {},
   "source": [
    "### 5. 내보내기(csv)"
   ]
  },
  {
   "cell_type": "code",
   "execution_count": 279,
   "id": "70e72099",
   "metadata": {},
   "outputs": [],
   "source": [
    "def fn5_save_customer_csv(customer_list):\n",
    "    import csv\n",
    "    try :\n",
    "        file_name = input('파일 이름을 입력하세요')\n",
    "        csv_list = [customer.as_dic() for customer in customer_list]\n",
    "        with open(f'data/{file_name}.csv', 'w', encoding='utf-8', newline='') as f :\n",
    "            writer = csv.DictWriter(f, fieldnames=csv_list[0].keys())\n",
    "            writer.writerows(csv_list)\n",
    "        print(f'{file_name}.csv 파일 저장 완료입니다.')\n",
    "    except Exception as e:\n",
    "        print('잘못된 접근 같은데?', e)"
   ]
  },
  {
   "cell_type": "code",
   "execution_count": 280,
   "id": "002605d1",
   "metadata": {},
   "outputs": [
    {
     "name": "stdout",
     "output_type": "stream",
     "text": [
      "파일 이름을 입력하세요실험중입니다\n",
      "실험중입니다.csv 파일 저장 완료입니다.\n"
     ]
    }
   ],
   "source": [
    "fn5_save_customer_csv(customer_list)"
   ]
  },
  {
   "cell_type": "code",
   "execution_count": null,
   "id": "2623090c",
   "metadata": {},
   "outputs": [],
   "source": []
  },
  {
   "cell_type": "code",
   "execution_count": null,
   "id": "d08b9010",
   "metadata": {},
   "outputs": [],
   "source": []
  },
  {
   "cell_type": "code",
   "execution_count": null,
   "id": "2051c9fc",
   "metadata": {},
   "outputs": [],
   "source": []
  },
  {
   "cell_type": "code",
   "execution_count": null,
   "id": "e28d42a9",
   "metadata": {},
   "outputs": [],
   "source": []
  },
  {
   "cell_type": "markdown",
   "id": "ee5b30cd",
   "metadata": {},
   "source": [
    "### 6. 종료"
   ]
  },
  {
   "cell_type": "code",
   "execution_count": 281,
   "id": "098529be",
   "metadata": {},
   "outputs": [],
   "source": [
    "def fn9_save_customer_txt(customer_list):\n",
    "    '''\n",
    "    종료 하기 전에 customer_list를 txt에 저장하고 종료\n",
    "    '''\n",
    "    with open('data/ch09_customers.txt', 'w', encoding='utf-8') as f :\n",
    "        for line in [customer.to_list_style() for customer in customer_list] :\n",
    "            f.write(line)\n",
    "            f.write('\\n')\n",
    "    print('백업하였습니다.')"
   ]
  },
  {
   "cell_type": "code",
   "execution_count": 282,
   "id": "42ef26a0",
   "metadata": {},
   "outputs": [
    {
     "name": "stdout",
     "output_type": "stream",
     "text": [
      "================================================================================\n",
      "                                      고객정보                                      \n",
      "--------------------------------------------------------------------------------\n",
      "GRADE\t이름 \t     전화      \t         메일         \t나이 \t기타\n",
      "================================================================================\n",
      "*****\t홍길동\t010-1111-9999\t   hong@naver.com   \t23 \t-\n",
      "*****\t홍길동\t010-2222-9999\t  hongs@naver.com   \t27 \t-\n",
      "*****\t홍길동\t010-3333-9999\t  hongs@naver.com   \t27 \t-\n",
      "   **\t신길동\t010-1144-6688\t   kims@naver.com   \t37 \t없음\n",
      "   **\t신길동\t010-2244-6688\t   kims@naver.com   \t37 \t없음\n",
      "   **\t신길동\t010-3344-6688\t   kims@naver.com   \t37 \t없음\n",
      " ****\t신림동\t010-1133-5577\t   sims@naver.com   \t73 \t까칠해\n",
      "  ***\t정종혁\t010-7621-5728\t  whdgur@naver.com  \t30 \t없음\n",
      "================================================================================\n"
     ]
    }
   ],
   "source": [
    "fn2_print_customers(customer_list)"
   ]
  },
  {
   "cell_type": "code",
   "execution_count": 253,
   "id": "8233f157",
   "metadata": {},
   "outputs": [
    {
     "name": "stdout",
     "output_type": "stream",
     "text": [
      "이름 : -\n",
      "이름을 제대로 입력하세요(한글로 2글만 이상) : \n",
      "이름길동\n",
      "전화 : 01045575728\n",
      "메일 : bill@naver.com\n",
      "나이 : 55\n",
      "등급(1~5) : 5\n",
      "기타 정보 : 0\n"
     ]
    },
    {
     "data": {
      "text/plain": [
       "<__main__.Customer at 0x1669b317070>"
      ]
     },
     "execution_count": 253,
     "metadata": {},
     "output_type": "execute_result"
    }
   ],
   "source": [
    "fn1_insert_customer_info()"
   ]
  },
  {
   "cell_type": "code",
   "execution_count": 257,
   "id": "6adcdb5b",
   "metadata": {},
   "outputs": [
    {
     "name": "stdout",
     "output_type": "stream",
     "text": [
      "================================================================================\n",
      "                                      고객정보                                      \n",
      "--------------------------------------------------------------------------------\n",
      "GRADE\t이름 \t     전화      \t         메일         \t나이 \t기타\n",
      "================================================================================\n",
      "*****\t홍길동\t010-1111-9999\t   hong@naver.com   \t23 \t-\n",
      "\n",
      "*****\t홍길동\t010-2222-9999\t  hongs@naver.com   \t27 \t-\n",
      "\n",
      "*****\t홍길동\t010-3333-9999\t  hongs@naver.com   \t27 \t-\n",
      "\n",
      "   **\t신길동\t010-1144-6688\t   kims@naver.com   \t37 \t없음\n",
      "\n",
      "   **\t신길동\t010-2244-6688\t   kims@naver.com   \t37 \t없음\n",
      "\n",
      "   **\t신길동\t010-3344-6688\t   kims@naver.com   \t37 \t없음\n",
      "\n",
      " ****\t신림동\t010-1133-5577\t   sims@naver.com   \t73 \t까칠해\n",
      "\n",
      "  ***\t정종혁\t010-7621-5728\t  whdgur@naver.com  \t30 \t없음\n",
      "\n",
      "================================================================================\n"
     ]
    }
   ],
   "source": [
    "customer_list = load_customers()\n",
    "fn2_print_customers(customer_list)"
   ]
  },
  {
   "cell_type": "code",
   "execution_count": 283,
   "id": "b51bdff1",
   "metadata": {},
   "outputs": [
    {
     "name": "stdout",
     "output_type": "stream",
     "text": [
      "백업하였습니다.\n"
     ]
    }
   ],
   "source": [
    "fn9_save_customer_txt(customer_list)"
   ]
  },
  {
   "cell_type": "code",
   "execution_count": 228,
   "id": "c1c63569",
   "metadata": {},
   "outputs": [
    {
     "name": "stdout",
     "output_type": "stream",
     "text": [
      "================================================================================\n",
      "                                      고객정보                                      \n",
      "--------------------------------------------------------------------------------\n",
      "GRADE\t이름 \t     전화      \t         메일         \t나이 \t기타\n",
      "================================================================================\n",
      "*****\t홍길동\t010-1111-9999\t   hong@naver.com   \t23 \t-\n",
      "*****\t홍길동\t010-2222-9999\t  hongs@naver.com   \t27 \t-\n",
      "*****\t홍길동\t010-3333-9999\t  hongs@naver.com   \t27 \t-\n",
      "   **\t신길동\t010-1144-6688\t   kims@naver.com   \t37 \t없음\n",
      "   **\t신길동\t010-2244-6688\t   kims@naver.com   \t37 \t없음\n",
      "   **\t신길동\t010-3344-6688\t   kims@naver.com   \t37 \t없음\n",
      " ****\t신림동\t010-1133-5577\t   sims@naver.com   \t73 \t까칠해\n",
      "  ***\t정종혁\t010-7621-5728\t  whdgur@naver.com  \t30 \t없음\n",
      "================================================================================\n"
     ]
    }
   ],
   "source": [
    "fn2_print_customers(customer_list)"
   ]
  },
  {
   "cell_type": "code",
   "execution_count": 229,
   "id": "7e0e818d",
   "metadata": {},
   "outputs": [],
   "source": [
    "customer_list = []"
   ]
  },
  {
   "cell_type": "code",
   "execution_count": 284,
   "id": "12e05e85",
   "metadata": {},
   "outputs": [],
   "source": [
    "customer_list = load_customers()"
   ]
  },
  {
   "cell_type": "code",
   "execution_count": 285,
   "id": "111a3cab",
   "metadata": {},
   "outputs": [
    {
     "name": "stdout",
     "output_type": "stream",
     "text": [
      "================================================================================\n",
      "                                      고객정보                                      \n",
      "--------------------------------------------------------------------------------\n",
      "GRADE\t이름 \t     전화      \t         메일         \t나이 \t기타\n",
      "================================================================================\n",
      "*****\t홍길동\t010-1111-9999\t   hong@naver.com   \t23 \t-\n",
      "*****\t홍길동\t010-2222-9999\t  hongs@naver.com   \t27 \t-\n",
      "*****\t홍길동\t010-3333-9999\t  hongs@naver.com   \t27 \t-\n",
      "   **\t신길동\t010-1144-6688\t   kims@naver.com   \t37 \t없음\n",
      "   **\t신길동\t010-2244-6688\t   kims@naver.com   \t37 \t없음\n",
      "   **\t신길동\t010-3344-6688\t   kims@naver.com   \t37 \t없음\n",
      " ****\t신림동\t010-1133-5577\t   sims@naver.com   \t73 \t까칠해\n",
      "  ***\t정종혁\t010-7621-5728\t  whdgur@naver.com  \t30 \t없음\n",
      "================================================================================\n"
     ]
    }
   ],
   "source": [
    "fn2_print_customers(customer_list)"
   ]
  },
  {
   "cell_type": "markdown",
   "id": "5ee35893",
   "metadata": {},
   "source": [
    "### 7. main함수 구현"
   ]
  },
  {
   "cell_type": "code",
   "execution_count": 290,
   "id": "49332a94",
   "metadata": {},
   "outputs": [],
   "source": [
    "def main() :\n",
    "    customer_list = load_customers()\n",
    "    while True :\n",
    "        try :\n",
    "            numb = int(input('1:입력|2:전체출력|3:삭제|4:이름찾기|5:내보내기(csv)|9:종료 메뉴 선택 : '))\n",
    "            if numb not in [1,2,3,4,5,9] :\n",
    "                raise Exception\n",
    "            if numb == 1 :\n",
    "                fn1_insert_customer_info()\n",
    "            elif numb == 2 :\n",
    "                fn2_print_customers(customer_list)\n",
    "            elif numb == 3 :\n",
    "                fn3_delete_customer(customer_list)\n",
    "            elif numb == 4 :\n",
    "                fn4_search_customer(customer_list)\n",
    "            elif numb == 5 :\n",
    "                fn5_save_customer_csv(customer_list)\n",
    "            elif numb == 9 :\n",
    "                fn9_save_customer_txt(customer_list)\n",
    "                print('프로그램을 종료합니다.')\n",
    "                break\n",
    "        except :\n",
    "            print('잘못된 접근입니다.')"
   ]
  },
  {
   "cell_type": "code",
   "execution_count": 291,
   "id": "553b69db",
   "metadata": {},
   "outputs": [
    {
     "name": "stdout",
     "output_type": "stream",
     "text": [
      "데이터를 로드하였습니다.\n",
      "1:입력|2:전체출력|3:삭제|4:이름찾기|5:내보내기(csv)|9:종료 메뉴 선택 : 2\n",
      "================================================================================\n",
      "                                      고객정보                                      \n",
      "--------------------------------------------------------------------------------\n",
      "GRADE\t이름 \t     전화      \t         메일         \t나이 \t기타\n",
      "================================================================================\n",
      "*****\t홍길동\t010-1111-9999\t   hong@naver.com   \t23 \t-\n",
      "*****\t홍길동\t010-2222-9999\t  hongs@naver.com   \t27 \t-\n",
      "*****\t홍길동\t010-3333-9999\t  hongs@naver.com   \t27 \t-\n",
      "   **\t신길동\t010-1144-6688\t   kims@naver.com   \t37 \t없음\n",
      "   **\t신길동\t010-2244-6688\t   kims@naver.com   \t37 \t없음\n",
      "   **\t신길동\t010-3344-6688\t   kims@naver.com   \t37 \t없음\n",
      " ****\t신림동\t010-1133-5577\t   sims@naver.com   \t73 \t까칠해\n",
      "================================================================================\n",
      "1:입력|2:전체출력|3:삭제|4:이름찾기|5:내보내기(csv)|9:종료 메뉴 선택 : 9\n",
      "백업하였습니다.\n",
      "프로그램을 종료합니다.\n"
     ]
    }
   ],
   "source": [
    "if __name__ == '__main__' :\n",
    "    main()"
   ]
  },
  {
   "cell_type": "code",
   "execution_count": null,
   "id": "725fa3c5",
   "metadata": {},
   "outputs": [],
   "source": []
  }
 ],
 "metadata": {
  "kernelspec": {
   "display_name": "Python 3 (ipykernel)",
   "language": "python",
   "name": "python3"
  },
  "language_info": {
   "codemirror_mode": {
    "name": "ipython",
    "version": 3
   },
   "file_extension": ".py",
   "mimetype": "text/x-python",
   "name": "python",
   "nbconvert_exporter": "python",
   "pygments_lexer": "ipython3",
   "version": "3.10.9"
  },
  "toc": {
   "base_numbering": 1,
   "nav_menu": {},
   "number_sections": false,
   "sideBar": true,
   "skip_h1_title": false,
   "title_cell": "Table of Contents",
   "title_sidebar": "Contents",
   "toc_cell": false,
   "toc_position": {
    "height": "calc(100% - 180px)",
    "left": "10px",
    "top": "150px",
    "width": "165px"
   },
   "toc_section_display": true,
   "toc_window_display": true
  }
 },
 "nbformat": 4,
 "nbformat_minor": 5
}
