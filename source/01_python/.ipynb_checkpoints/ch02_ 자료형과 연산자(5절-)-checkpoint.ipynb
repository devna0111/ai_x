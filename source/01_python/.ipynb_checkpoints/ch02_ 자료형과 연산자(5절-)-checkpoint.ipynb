{
 "cells": [
  {
   "cell_type": "code",
   "execution_count": 1,
   "id": "81b152cb",
   "metadata": {},
   "outputs": [
    {
     "data": {
      "text/html": [
       "\n",
       "<style>\n",
       "div.container{width:86% !important;}\n",
       "div.cell.code_cell.rendered{width:100%;}\n",
       "div.CodeMirror {font-family:Consolas; font-size:12pt;}\n",
       "div.output {font-size:12pt; font-weight:bold;}\n",
       "div.input {font-family:Consolas; font-size:12pt;}\n",
       "div.prompt {min-width:70px;}\n",
       "div#toc-wrapper{padding-top:120px;}\n",
       "div.text_cell_render ul li{font-size:12pt;padding:5px;}\n",
       "table.dataframe{font-size:15px;}\n",
       "</style>\n"
      ],
      "text/plain": [
       "<IPython.core.display.HTML object>"
      ]
     },
     "metadata": {},
     "output_type": "display_data"
    }
   ],
   "source": [
    "from IPython.display import display, HTML\n",
    "display(HTML(\"\"\"\n",
    "<style>\n",
    "div.container{width:86% !important;}\n",
    "div.cell.code_cell.rendered{width:100%;}\n",
    "div.CodeMirror {font-family:Consolas; font-size:12pt;}\n",
    "div.output {font-size:12pt; font-weight:bold;}\n",
    "div.input {font-family:Consolas; font-size:12pt;}\n",
    "div.prompt {min-width:70px;}\n",
    "div#toc-wrapper{padding-top:120px;}\n",
    "div.text_cell_render ul li{font-size:12pt;padding:5px;}\n",
    "table.dataframe{font-size:15px;}\n",
    "</style>\n",
    "\"\"\"))"
   ]
  },
  {
   "cell_type": "markdown",
   "id": "f0463a78",
   "metadata": {},
   "source": [
    "<font size = 5, color = 'red'> ch02 자료형과 연산자 </font>\n",
    "# 5절 연산자\n",
    "\n",
    "## 5.1 산술 연산자\n",
    "- 산술연산자 : +, -, /, //(몫), **, *, %(나머지)"
   ]
  },
  {
   "cell_type": "code",
   "execution_count": 2,
   "id": "daf590bc",
   "metadata": {},
   "outputs": [
    {
     "name": "stdout",
     "output_type": "stream",
     "text": [
      "10의 5승 : 100000\n",
      "4/2(결과 실수) : 2.0\n",
      "4//2(몫) : 2\n",
      "4%2(나머지) : 0\n"
     ]
    }
   ],
   "source": [
    "print('10의 5승 :',10**5)\n",
    "print('4/2(결과 실수) :', 4/2)\n",
    "print('4//2(몫) :',4//2)\n",
    "print('4%2(나머지) :', 4%2)"
   ]
  },
  {
   "cell_type": "code",
   "execution_count": 3,
   "id": "e7606adb",
   "metadata": {},
   "outputs": [
    {
     "name": "stdout",
     "output_type": "stream",
     "text": [
      "정수를 입력하세요 : 2\n",
      "입력하신 수 2 은/는 2로 나눈 나머지가 0이며 짝수입니다.\n"
     ]
    }
   ],
   "source": [
    "# quiz 1\n",
    "# 정수를 입력받아 짝수인 지 홀수인 지 여부를 출력\n",
    "num = int(input('정수를 입력하세요 : '))\n",
    "result = num%2\n",
    "\n",
    "if result :\n",
    "    eve_odd = '홀수'\n",
    "else :\n",
    "    eve_odd = '짝수'\n",
    "\n",
    "print(f'입력하신 수 {num} 은/는 2로 나눈 나머지가 {result}이며 {eve_odd}입니다.')"
   ]
  },
  {
   "cell_type": "code",
   "execution_count": 4,
   "id": "7f272370",
   "metadata": {},
   "outputs": [
    {
     "name": "stdout",
     "output_type": "stream",
     "text": [
      "정수를 입력하세요 : 2\n",
      "입력하신 수 2 은/는 5로 나눈 나머지가 2이며 5의 배수가 아닙니다\n"
     ]
    }
   ],
   "source": [
    "# quiz 2\n",
    "# 정수를 입력 받아 5의 배수인지 여부를 출력\n",
    "\n",
    "num = int(input('정수를 입력하세요 : '))\n",
    "result = num%5\n",
    "\n",
    "if result :\n",
    "    five_ = \"5의 배수가 아닙니다\"\n",
    "else :\n",
    "    five_ = \"5의 배수입니다\"\n",
    "\n",
    "print(f'입력하신 수 {num} 은/는 5로 나눈 나머지가 {result}이며 {five_}')"
   ]
  },
  {
   "cell_type": "code",
   "execution_count": 5,
   "id": "13c2fc68",
   "metadata": {},
   "outputs": [
    {
     "name": "stdout",
     "output_type": "stream",
     "text": [
      "국어 점수 : 2\n",
      "영어 점수 : 2\n",
      "수학 점수 : 2\n",
      "----------------------------------------\n",
      "국어:   2\t영어:   2\t수학:   2\n",
      "총점:   6\t평균:   2.0\n",
      "----------------------------------------\n",
      "국어:   2\t영어:   2\t수학:   2\n",
      "총점:   6\t평균:   2.0\n"
     ]
    }
   ],
   "source": [
    "# quiz 2\n",
    "# 국,영,수 점수를 입력 받아 다음 셀에서 다음과 같이 출력하도록 구현하세요\n",
    "# kor = int(input('국어 점수 : '))\n",
    "# eng = int(input('영어 점수 : '))\n",
    "# math = int(input('수학 점수 : '))\n",
    "score_list = [kor:=int(input('국어 점수 : ')), eng:= int(input('영어 점수 : ')), math:= int(input('수학 점수 : '))]\n",
    "# list() 속 인자도 :=을 통해 값을 입력 받을 수 있음 왈러스 연산자 : 입력과 동시에 값을 할당한다는 의미로 리스트 컴프리헨션 , while, if 문 등에서 주로 사용\n",
    "total = sum(score_list)\n",
    "avg = total/len(score_list)\n",
    "print('-'*40)\n",
    "print(f'국어: {kor:3d}\\t영어: {eng:3d}\\t수학: {math:3d}')\n",
    "print(f'총점: {total:3d}\\t평균: {avg:5.1f}') # avg 최대값 : 100.0 이며 len('100.0') == 5 이므로 5개 공간 할당해야 위 영어 성적과 자리수 동일\n",
    "print('-'*40)\n",
    "print(f'''국어: {kor:3d}\\t영어: {eng:3d}\\t수학: {math:3d}\n",
    "총점: {total:3d}\\t평균: {avg:5.1f}''')"
   ]
  },
  {
   "cell_type": "markdown",
   "id": "dc6f5a44",
   "metadata": {},
   "source": [
    "## 5.2 할당 연산자 \n",
    "- =, +=, -=, *=, **=, /=, //=, %="
   ]
  },
  {
   "cell_type": "code",
   "execution_count": 6,
   "id": "592e8b92",
   "metadata": {},
   "outputs": [
    {
     "name": "stdout",
     "output_type": "stream",
     "text": [
      "10\n",
      "15\n"
     ]
    }
   ],
   "source": [
    "a = 10\n",
    "print(a)\n",
    "a += 5 # a = a + 5\n",
    "print(a)"
   ]
  },
  {
   "cell_type": "code",
   "execution_count": 7,
   "id": "6889cb4e",
   "metadata": {},
   "outputs": [
    {
     "name": "stdout",
     "output_type": "stream",
     "text": [
      "10\n"
     ]
    }
   ],
   "source": [
    "a -= 5 # a = a - 5\n",
    "print(a)"
   ]
  },
  {
   "cell_type": "code",
   "execution_count": 8,
   "id": "976a8da0",
   "metadata": {},
   "outputs": [
    {
     "name": "stdout",
     "output_type": "stream",
     "text": [
      "50\n"
     ]
    }
   ],
   "source": [
    "a *= 5 # a = a * 5\n",
    "print(a)"
   ]
  },
  {
   "cell_type": "code",
   "execution_count": 9,
   "id": "e1de2b26",
   "metadata": {},
   "outputs": [
    {
     "name": "stdout",
     "output_type": "stream",
     "text": [
      "10.0\n"
     ]
    }
   ],
   "source": [
    "a /= 5\n",
    "print(a)"
   ]
  },
  {
   "cell_type": "code",
   "execution_count": 10,
   "id": "11377d2a",
   "metadata": {},
   "outputs": [
    {
     "name": "stdout",
     "output_type": "stream",
     "text": [
      "10.0\n"
     ]
    }
   ],
   "source": [
    "a //= 1\n",
    "print(a)"
   ]
  },
  {
   "cell_type": "code",
   "execution_count": 11,
   "id": "c44c82c9",
   "metadata": {},
   "outputs": [
    {
     "name": "stdout",
     "output_type": "stream",
     "text": [
      "0.0\n"
     ]
    }
   ],
   "source": [
    "a %= 5\n",
    "print(a)"
   ]
  },
  {
   "cell_type": "markdown",
   "id": "bbf858e1",
   "metadata": {},
   "source": [
    "## 5.3 논리 연산자\n",
    "- and, or, &, |, not"
   ]
  },
  {
   "cell_type": "code",
   "execution_count": 12,
   "id": "81379ae4",
   "metadata": {},
   "outputs": [
    {
     "name": "stdout",
     "output_type": "stream",
     "text": [
      "True\n",
      "13\n",
      "0b1101\n"
     ]
    }
   ],
   "source": [
    "print((10>3) & (10>5)) # 논리연산 True & True\n",
    "print(12 | 1) # bit 연산자 작동\n",
    "# 12 : 0000 1100\n",
    "# 1  : 0000 0001\n",
    "#12&1: 0000 0000\n",
    "print(bin(12 | 1))"
   ]
  },
  {
   "cell_type": "code",
   "execution_count": 13,
   "id": "2bd4d5cb",
   "metadata": {},
   "outputs": [
    {
     "name": "stdout",
     "output_type": "stream",
     "text": [
      "False\n",
      "False\n",
      "------------아래 중요------------\n",
      "0\n",
      "0\n",
      "[]\n",
      "--------위 세개는 False 값을 반환하는 중--------\n",
      "True\n",
      "2\n",
      "2\n"
     ]
    }
   ],
   "source": [
    "# and : False로 판별되는 첫번째 항의 결과 반환 논리 연산 !! False 기준\n",
    "#       모든 항이 참이면 마지막 항을 반환\n",
    "print(False and True and True)\n",
    "print(False and 1 and '오류나냐?') # False를 만나면 break, return False\n",
    "print('------------아래 중요------------')\n",
    "print(0 and True)\n",
    "print(0 and 2 and True)\n",
    "print(True and [] and True)\n",
    "print('--------위 세개는 False 값을 반환하는 중--------')\n",
    "print(1 and 2 and True)\n",
    "\n",
    "print(True and 1 and 2)\n",
    "print(1 and True and 2)"
   ]
  },
  {
   "cell_type": "code",
   "execution_count": 14,
   "id": "3243c761",
   "metadata": {},
   "outputs": [
    {
     "name": "stdout",
     "output_type": "stream",
     "text": [
      "논리연산 (연산자 앞 뒤에 논리형일때) : True\n",
      "비트연산 (연산자 앞 혹은 뒤에 숫자일때) : 3\n"
     ]
    }
   ],
   "source": [
    "# | : 논리연산, 비트 연산 !! True를 기준으로 작용한다. (1개라도 True 면 True 반환)\n",
    "result = False|True\n",
    "print('논리연산 (연산자 앞 뒤에 논리형일때) :', result)\n",
    "result = False|3 \n",
    "# False  = 0000 0000\n",
    "# 3      = 0000 0011\n",
    "#False|3 = 0000 0011\n",
    "print('비트연산 (연산자 앞 혹은 뒤에 숫자일때) :', result) # 3 :"
   ]
  },
  {
   "cell_type": "code",
   "execution_count": 15,
   "id": "80c5e63f",
   "metadata": {},
   "outputs": [
    {
     "name": "stdout",
     "output_type": "stream",
     "text": [
      "None\n",
      "hong\n"
     ]
    }
   ],
   "source": [
    "# or : 논리연산 , 참으로 판별되는 첫번째 항을 반환 !! True를 기준으로 작용한다. (1개라도 True 면 True 반환)\n",
    "#      모든 항이 거짓이라면 마지막 항을 반환\n",
    "print(False or False or None)\n",
    "print('hong' or ' ' or False) # 'hong' 반환 : True"
   ]
  },
  {
   "cell_type": "code",
   "execution_count": 16,
   "id": "5434052b",
   "metadata": {},
   "outputs": [
    {
     "name": "stdout",
     "output_type": "stream",
     "text": [
      "False\n",
      "True\n"
     ]
    }
   ],
   "source": [
    "# not : 반대\n",
    "print(not True)\n",
    "print(not False)"
   ]
  },
  {
   "cell_type": "markdown",
   "id": "1daa4258",
   "metadata": {},
   "source": [
    "## 5.4 비교 연산자\n",
    "- <, >, <=, >=, ==, !="
   ]
  },
  {
   "cell_type": "code",
   "execution_count": 17,
   "id": "77dcd6f3",
   "metadata": {},
   "outputs": [
    {
     "name": "stdout",
     "output_type": "stream",
     "text": [
      "True\n",
      "False\n",
      "True\n",
      "True\n"
     ]
    }
   ],
   "source": [
    "# 비교 연산자는 이항, 삼항, 사항... 다항 연산 가능 : 다항 연산자\n",
    "x = 5\n",
    "y = 100\n",
    "print(4<x<10)\n",
    "print(4<x&10>x)\n",
    "print((4<x) & (10>x))\n",
    "# print(4<x<10<y<100)\n",
    "print( 10>5 and 10>7)"
   ]
  },
  {
   "cell_type": "code",
   "execution_count": 18,
   "id": "693e79ed",
   "metadata": {},
   "outputs": [
    {
     "name": "stdout",
     "output_type": "stream",
     "text": [
      "True\n",
      "False\n"
     ]
    }
   ],
   "source": [
    "# 비교연산자(<)의 우선순위가 논리연산(&)의 우선순위보다 낮다. 그러나 and연산은 <보다 우선순위가 낮아짐 :: ASCII코드에서 할당주소값이 낮으면 먼저\n",
    "print((10>5)&(10>7))\n",
    "print(10>5 & 10>7)"
   ]
  },
  {
   "cell_type": "code",
   "execution_count": 19,
   "id": "a941865a",
   "metadata": {},
   "outputs": [
    {
     "name": "stdout",
     "output_type": "stream",
     "text": [
      "False\n",
      "True\n",
      "True\n"
     ]
    }
   ],
   "source": [
    "address = '서울'\n",
    "age = 29\n",
    "print(address == '서울' and age >= 30)\n",
    "# print(address == '서울' & age >= 30) # error : & 가 먼저 실행되는데 str and int 연산이 먼저 실행되며 이 값은 에러\n",
    "print(address.isalpha())\n",
    "print(str is str) # 객체 비교"
   ]
  },
  {
   "cell_type": "code",
   "execution_count": 20,
   "id": "0d47115a",
   "metadata": {},
   "outputs": [
    {
     "name": "stdout",
     "output_type": "stream",
     "text": [
      "True\n"
     ]
    }
   ],
   "source": [
    "# 문자 비교 : ASCII 코드 순으로 비교 가능 : 01234....89 / abc.....xyz / ㄱ-ㅎ가-힣 !! 정규표현식에서 활용하던 방식을 기억하자.\n",
    "# 특수문자, 숫자, 대문자, 소문자 : 글자의 순서대로 비교한다 :: 정렬의 원리와 같다\n",
    "print('김길동' < '정길동')"
   ]
  },
  {
   "cell_type": "code",
   "execution_count": 21,
   "id": "9a3263d5",
   "metadata": {},
   "outputs": [
    {
     "name": "stdout",
     "output_type": "stream",
     "text": [
      "True\n",
      "False\n",
      "----------아래는 한글------------------------\n",
      "False\n"
     ]
    }
   ],
   "source": [
    "print('01' < '10')\n",
    "print('9' < '10')\n",
    "print('----------아래는 한글------------------------')\n",
    "print('홍길동' < '홍길')"
   ]
  },
  {
   "cell_type": "markdown",
   "id": "64e86324",
   "metadata": {},
   "source": [
    "## 5.5 비트연산자\n",
    "- &, |, ^(XOR : x,y가 같으면 0 다르면 1을 반환), ~"
   ]
  },
  {
   "cell_type": "markdown",
   "id": "0c3511b4",
   "metadata": {},
   "source": [
    "x y  x&y  x^y\n",
    "0 0   0    0\n",
    "0 1   0    1\n",
    "1 0   0    1\n",
    "1 1   1    0"
   ]
  },
  {
   "cell_type": "code",
   "execution_count": 22,
   "id": "858fa33c",
   "metadata": {},
   "outputs": [
    {
     "name": "stdout",
     "output_type": "stream",
     "text": [
      "2\n",
      "15\n",
      "13\n",
      " a = 15 : 1111\n",
      " b =  2 : 0010\n",
      " a^b = 13 : 1101\n"
     ]
    }
   ],
   "source": [
    "a = 15 # 1111\n",
    "b = 2  # 0010\n",
    "print(a&b)\n",
    "print(a|b)\n",
    "print(a^b)\n",
    "print(f' a = {a:2} : {a:04b}')\n",
    "print(f' b = {b:2} : {b:04b}')\n",
    "print(f' a^b = {a^b:2} : {a^b:04b}')"
   ]
  },
  {
   "cell_type": "markdown",
   "id": "725af49c",
   "metadata": {},
   "source": [
    "- 연산자\n",
    "    - 산술연산 : + - * / $ ** //\n",
    "    - 할당연산 : = += -= *= %= **= //= /=\n",
    "    - 논리연산 : and or not | &\n",
    "    - 비교연산 : < > <= >= == !=\n",
    "    - 비트연산 : & | ^\n",
    "    - &, |은 비교연산자보다 우선순위가 높다"
   ]
  },
  {
   "cell_type": "markdown",
   "id": "e71be04d",
   "metadata": {},
   "source": [
    "# 6절 문자열 다루기\n",
    "- 문자열 슬라이싱 변수 [from:stop:step]\n",
    "- len(문자열 변수) : 문자의 개수\n",
    "\n",
    "- 문자열 변수.upper() 대문자로\n",
    "- 문자열 변수.lower() 소문자로\n",
    "- 문자열 변수.capitalize() 첫 문자만 대글자로\n",
    "- 문자열 변수.title() 각 어절의 첫글자만 대문자로\n",
    "- 문자열 변수.find() 찾을 인자가 몇 번째 있는 지 인덱스를 반환(왼쪽부터 시작, 반환 후 종료) : **없으면 -1 반환**\n",
    "- 문자열 변수.rfind() 오른쪽에서 find 시작\n",
    "- 문자열 변수.index() 찾을 인자의 인덱스를 반환. 못찾으면 오류 List Index out of range : Error\n",
    "- 문자열 변수.rindex() 오른쪽에서 index 시작\n",
    "- 문자열 변수.count() 인자를 몇 개 포함하나 체크\n",
    "- 문자열 변수.split(구분자) 구분자를 기준으로 나눠라 그리고 리스트에 담아와\n",
    "- 문자열 변수.startswith() 특정 문자열로 시작하는 지 T/F\n",
    "- 문자열 변수.endsswith() 특정 문자열로 끝나는 지 T/F\n",
    "- 문자열 변수.strip() 좌우 공백(스페이스바) 모두 제거 ## strip() 속의 인자를 좌우에서 제거, default = ' '\n",
    "    **rstrip(), lstrip() 지원**\n",
    "- 문자열 변수.isalpha() 문자열이 문자타입이냐?\n",
    "- 문자열 변수.isalnum() 문자열에 문자, 숫자 다 있냐?\n",
    "- 문자열 변수.isdigit() 문자열이 숫자냐?\n",
    "- 문자열 변수.islower() 문자열이 전부 소문자냐?\n",
    "- 문자열 변수.isupper() 문자열이 전부 대문자냐?\n",
    "- 문자열 변수.isnumeric() 문자열이 숫자로 인정되는 유니코드 문자들을 모두 허용 : 분수, 로마 숫자, 거듭제곱 형태 등을 숫자로 간주\n",
    "- 문자열 변수.isdecimal() 문자열이 10진수 숫자로만 이루어져 있는지\n",
    "- 문자열 변수.replace(전, 후) 전 의 문자열을 후 의 문자열로 변경\n",
    "- 문자열 변수.swapcase() 대문자는 소문자로, 소문자는 대문자로"
   ]
  },
  {
   "cell_type": "code",
   "execution_count": 23,
   "id": "f0475486",
   "metadata": {},
   "outputs": [
    {
     "name": "stdout",
     "output_type": "stream",
     "text": [
      "1. 글자수 : 39\n",
      "2. 대문자 : PYTHON IS EASY. PYTHON IS SMART. PYTHON\n",
      "3. 소문자 : python is easy. python is smart. python\n",
      "4. title : Python Is Easy. Python Is Smart. Python\n",
      "5. captalize : Python is easy. python is smart. python\n",
      "6. count(\"python\") : 2\n",
      "7. 대소문자 구분 없이 count(\"python\") : 3\n",
      "7. 대소문자 구분 없이 count(\"PYTHON\") : 3\n",
      "7. 대소문자 구분 없이 count(\"Python\") : 0\n",
      "8. find(\"python\") 첫 위치(index) : 0\n",
      "8. rfind(\"python\") 우측 첫 위치(index) : 16\n",
      "8. find(\"java\") 첫 위치(index) : -1\n",
      "8. find(\"java\") 우측 첫 위치(index) : -1\n",
      "9. endswith(\"python\") 파이썬으로 끝나는가: False\n",
      "10. startswith(\"python\") 파이썬으로 시작하는가: True\n",
      "10. 대소문자 구분 없이 startswith(\"python\") 파이썬으로 시작하는가: True\n"
     ]
    }
   ],
   "source": [
    "temp = 'python is easy. python is smart. Python'\n",
    "temp, len(temp), temp.rfind('p'), temp.find('p'), temp.count('p'),\n",
    "temp.lower(), temp.upper()\n",
    "temp.title(), temp.capitalize()\n",
    "print('1. 글자수 :', len(temp))\n",
    "print('2. 대문자 :', temp.upper())\n",
    "print('3. 소문자 :', temp.lower())\n",
    "print('4. title :', temp.title())\n",
    "print('5. captalize :', temp.capitalize())\n",
    "print('6. count(\"python\") :', temp.count('python'))\n",
    "print('7. 대소문자 구분 없이 count(\"python\") :', temp.lower().count('python'))\n",
    "print('7. 대소문자 구분 없이 count(\"PYTHON\") :', temp.upper().count('PYTHON'))\n",
    "print('7. 대소문자 구분 없이 count(\"Python\") :', temp.upper().count('Python'))\n",
    "print('8. find(\"python\") 첫 위치(index) :', temp.find('python'))\n",
    "print('8. rfind(\"python\") 우측 첫 위치(index) :', temp.rfind('python'))\n",
    "print('8. find(\"java\") 첫 위치(index) :', temp.find('java'))\n",
    "print('8. find(\"java\") 우측 첫 위치(index) :', temp.rfind('java'))\n",
    "print('9. endswith(\"python\") 파이썬으로 끝나는가:', temp.endswith('python'))\n",
    "print('10. startswith(\"python\") 파이썬으로 시작하는가:', temp.startswith('python'))\n",
    "print('10. 대소문자 구분 없이 startswith(\"python\") 파이썬으로 시작하는가:', temp.upper().startswith('PYTHON'))"
   ]
  },
  {
   "cell_type": "code",
   "execution_count": 24,
   "id": "fbdd5f4b",
   "metadata": {},
   "outputs": [
    {
     "name": "stdout",
     "output_type": "stream",
     "text": [
      "11. 좌우공백 제거 : ['Python is easy']\n",
      "11. 좌공백 제거 : ['Python is easy  ']\n",
      "11. 우공백 제거 : ['  Python is easy']\n",
      "12. 숫자문자열인지 : False\n",
      "13. 소문자 문자열인지 : False\n",
      "14. 대문자 문자열인지 : False\n",
      "15. 문자열인지 : False\n",
      "16. 특정문자열 교체(1) : 1000000\n",
      "16. 특정문자열 교체(2) : 1000000\n",
      "17. 문자열 교체 후 숫자문자열 체크 : True\n",
      "18. 문자열 분리 : ['1', '000', '000']\n",
      "19. 문자열 추가 : 1000000\n"
     ]
    }
   ],
   "source": [
    "temp = \"  Python is easy  \"\n",
    "notdigit = '1,000,000'\n",
    "print('11. 좌우공백 제거 :', [temp.strip()])\n",
    "print('11. 좌공백 제거 :', [temp.lstrip()])\n",
    "print('11. 우공백 제거 :', [temp.rstrip()])\n",
    "print('12. 숫자문자열인지 :', notdigit.isdigit())\n",
    "print('13. 소문자 문자열인지 :', temp.islower())\n",
    "print('14. 대문자 문자열인지 :', temp.isupper())\n",
    "print('15. 문자열인지 :', temp.isalpha()) # 문자인지만 체크 가능함\n",
    "print('16. 특정문자열 교체(1) :', notdigit.replace(',',''))\n",
    "print('16. 특정문자열 교체(2) :', notdigit.replace(',','')) # 한번만 제거해라 : 인자를 하나 더 주면 바꾸는 횟수까지 지정이 가능하다.\n",
    "print('17. 문자열 교체 후 숫자문자열 체크 :', notdigit.replace(',','').isdigit())\n",
    "print('18. 문자열 분리 :', notdigit.split(','))\n",
    "print('19. 문자열 추가 :', ''.join(notdigit.split(',')))"
   ]
  },
  {
   "cell_type": "code",
   "execution_count": 25,
   "id": "25a0befd",
   "metadata": {},
   "outputs": [
    {
     "name": "stdout",
     "output_type": "stream",
     "text": [
      "space 단위로 temp를 분리 : ['홍길동', '김길동', '신길똥', '유길동']\n"
     ]
    }
   ],
   "source": [
    "temp = '  홍길동  김길동\\t신길똥\\n유길동'\n",
    "name_list = temp.split() # 기본값은 흰 공간 전체를 기준.. \\r \\n \\t... etc\n",
    "print('space 단위로 temp를 분리 :', name_list)"
   ]
  },
  {
   "cell_type": "code",
   "execution_count": 26,
   "id": "ce8d04ca",
   "metadata": {},
   "outputs": [
    {
     "name": "stdout",
     "output_type": "stream",
     "text": [
      " - 단위로 data를 분리 : ['2025', '04', '10']\n",
      "년 : 2025 년\n",
      "월 : 04 월\n",
      "일 : 10 일\n"
     ]
    }
   ],
   "source": [
    "data = '2025-04-10'\n",
    "data_list = data.split('-')\n",
    "print(' - 단위로 data를 분리 :', data_list)\n",
    "print('년 :', data_list[0],'년')\n",
    "print('월 :', data_list[1],'월')\n",
    "print('일 :', data_list[2],'일')"
   ]
  },
  {
   "cell_type": "code",
   "execution_count": 27,
   "id": "c1ecf7ff",
   "metadata": {},
   "outputs": [
    {
     "name": "stdout",
     "output_type": "stream",
     "text": [
      "원 데이터 : Python - Html/Css - JavaScript - DBMS - 딥러닝(DNN-CNN-RNN) - 머신러닝\n",
      "목표 데이터1 : Python/Html/Css/JavaScript/DBMS/딥러닝(DNN-CNN-RNN)/머신러닝\n",
      "목표 데이터2 : Python/Html/Css/JavaScript/DBMS/딥러닝(DNN-CNN-RNN)/머신러닝\n"
     ]
    }
   ],
   "source": [
    "# '-' 단위로 분리하고 '/'로 바꾸기\n",
    "temp = \"Python - Html/Css - JavaScript - DBMS - 딥러닝(DNN-CNN-RNN) - 머신러닝\"\n",
    "print('원 데이터 :', temp)\n",
    "print('목표 데이터1 :', temp.replace(' - ','/'))\n",
    "print('목표 데이터2 :', '/'.join(temp.split(' - ')))"
   ]
  },
  {
   "cell_type": "code",
   "execution_count": 28,
   "id": "f58c9a0a",
   "metadata": {},
   "outputs": [],
   "source": [
    "str_ = 'ABC'\n",
    "# str_ = ['A', 'B', 'C'] \n",
    "# list()와 문자열은 정말 유사하지만 각각 가능한 함수가 다르다."
   ]
  },
  {
   "cell_type": "code",
   "execution_count": 29,
   "id": "469b4fcf",
   "metadata": {},
   "outputs": [],
   "source": [
    "# 문자열이 다룰 수 있는 (.func()) 함수들과 변수들 목록\n",
    "# dir(str)을 사용해 확인할 수 있다. "
   ]
  },
  {
   "cell_type": "markdown",
   "id": "6ce82119",
   "metadata": {},
   "source": [
    "# 7절 시간, 날짜, 날짜시간 다루기"
   ]
  },
  {
   "cell_type": "code",
   "execution_count": 41,
   "id": "c479e1fd",
   "metadata": {},
   "outputs": [
    {
     "name": "stdout",
     "output_type": "stream",
     "text": [
      "17시 29분 35초\n",
      "17시 29분 38초\n",
      "0:00:03.015290\n"
     ]
    }
   ],
   "source": [
    "from datetime import datetime as dt\n",
    "import time\n",
    "time_1 = dt.now()\n",
    "time.sleep(3)\n",
    "time_2 = dt.now()\n",
    "print(time_1.strftime('%H시 %M분 %S초'))\n",
    "print(time_2.strftime('%H시 %M분 %S초'))\n",
    "print(time_2 - time_1)"
   ]
  },
  {
   "cell_type": "markdown",
   "id": "bf74987f",
   "metadata": {},
   "source": [
    "# 8절 연습문제"
   ]
  },
  {
   "cell_type": "code",
   "execution_count": 31,
   "id": "dd7a1bc4",
   "metadata": {},
   "outputs": [
    {
     "name": "stdout",
     "output_type": "stream",
     "text": [
      "홍길동님의 나이는 23살입니다.\n",
      "홍길동님의 나이는 23살입니다.\n"
     ]
    }
   ],
   "source": [
    "# 1. 이름과 나이 변수를 다음 형식으로 출력하도록 format()함수를 이용해 형식화 하세요\n",
    "#    [출력형식 : 홍길동님의 나이는 23살입니다.]\n",
    "name, age = '홍길동', 23\n",
    "print(f'{name}님의 나이는 {age}살입니다.')\n",
    "# or\n",
    "print('{}님의 나이는 {}살입니다.'.format(name,age))"
   ]
  },
  {
   "cell_type": "code",
   "execution_count": 32,
   "id": "efbdb0e5",
   "metadata": {},
   "outputs": [
    {
     "name": "stdout",
     "output_type": "stream",
     "text": [
      "첫번째 정수를 입력하세요 : 2\n",
      "두번째 정수를 입력하세요 : 2\n",
      "두 수의 덧셈 : 4\n",
      "두 수의 뺄셈 : 0\n",
      "두 수의 곱셈 : 4\n",
      "두 수의 나눗셈 : 1.0\n",
      "두 수의 몫 : 1\n",
      "두 수의 나머지 : 0\n"
     ]
    }
   ],
   "source": [
    "# 2.두 정수를 입력받아 두 수의 덧셈 , 뺄셈 , 곱셈 , 나눗셈 , 몫 , 나머지를 출력하세요\n",
    "num_1 = int(input('첫번째 정수를 입력하세요 : '))\n",
    "num_2 = int(input('두번째 정수를 입력하세요 : '))\n",
    "print(f'두 수의 덧셈 : {num_1 + num_2}')\n",
    "print(f'두 수의 뺄셈 : {num_1 - num_2}')\n",
    "print(f'두 수의 곱셈 : {num_1 * num_2}')\n",
    "print(f'두 수의 나눗셈 : {num_1 / num_2}')\n",
    "print(f'두 수의 몫 : {num_1 // num_2}')\n",
    "print(f'두 수의 나머지 : {num_1 % num_2}')"
   ]
  },
  {
   "cell_type": "code",
   "execution_count": 33,
   "id": "20cbe693",
   "metadata": {},
   "outputs": [
    {
     "name": "stdout",
     "output_type": "stream",
     "text": [
      "World Hello\n"
     ]
    }
   ],
   "source": [
    "# 3.문자열의 분리하기와 합치기 기능을 이용하여 ‘Hello World'가 할당된 변수를 이용하여 ‘World Hello' 로 출력하세요\n",
    "string = 'Hello World'\n",
    "string_list = string.split()\n",
    "temp = string_list[1] + ' ' + string_list[0]\n",
    "print(temp)"
   ]
  },
  {
   "cell_type": "code",
   "execution_count": 34,
   "id": "b07fb570",
   "metadata": {},
   "outputs": [
    {
     "name": "stdout",
     "output_type": "stream",
     "text": [
      "bcdefa\n"
     ]
    }
   ],
   "source": [
    "# 4. x = ' abcdef ＇를 이용하여 'bcdefa' 로 출력하세요 :문자 슬라이싱 이용\n",
    "x = 'abcdef'\n",
    "temp = x[1:] + x[0]\n",
    "print(temp)"
   ]
  },
  {
   "cell_type": "code",
   "execution_count": 35,
   "id": "c5ef58fd",
   "metadata": {},
   "outputs": [
    {
     "name": "stdout",
     "output_type": "stream",
     "text": [
      "fedcba\n"
     ]
    }
   ],
   "source": [
    "# 5. x = ‘abcdef' 를 이용하여 'fedcba' 로 출력하세요\n",
    "x = 'abcdef'\n",
    "print(x[::-1])"
   ]
  },
  {
   "cell_type": "code",
   "execution_count": 36,
   "id": "e1e57978",
   "metadata": {},
   "outputs": [
    {
     "name": "stdout",
     "output_type": "stream",
     "text": [
      "오늘의 섭씨 온도를 입력하세요 :2\n",
      "오늘의 화씨 온도는 화씨 35.60도 입니다.\n"
     ]
    }
   ],
   "source": [
    "# 6.오늘의 온도를 섭씨온도로 입력받아 화씨 온도로 변환하는 프로그램을 작성하세요 . \n",
    "# 화씨 온도는 소수점이 있을 경우만 두번째 자리까지 출력되고 , 소수점이하 값이 없는 경우 소수점을 출력하지 않도록 합니다. \n",
    "# 다음은 섭씨와 화씨의 변환 공식입니다 . (C 는 섭씨 , F 는 화씨)\n",
    "## C = (F-32) / 1.8\n",
    "## F = (C*1.8) + 32\n",
    "temper = int(input('오늘의 섭씨 온도를 입력하세요 :'))\n",
    "C_to_F = (temper*1.8) + 32\n",
    "\n",
    "if not C_to_F - int(C_to_F) :\n",
    "    C_to_F = int(C_to_F)\n",
    "    print(f'오늘의 화씨 온도는 화씨 {C_to_F}도 입니다.')\n",
    "else :\n",
    "    print(f'오늘의 화씨 온도는 화씨 {C_to_F:.2f}도 입니다.')"
   ]
  },
  {
   "cell_type": "code",
   "execution_count": 37,
   "id": "38cd4e92",
   "metadata": {},
   "outputs": [],
   "source": [
    "# 7. 다음 중 변수 선언으로 잘못된 것을 모두 고르시오 : 1, 2, 3\n",
    "# ① for : 예약어 사용\n",
    "# ② 10th : 숫자가 제일 앞에 나옴\n",
    "# ③ Student.name : _가 아닌 특수문자 . 사용\n",
    "# ④ _1234 "
   ]
  },
  {
   "cell_type": "code",
   "execution_count": 38,
   "id": "88579583",
   "metadata": {},
   "outputs": [
    {
     "name": "stdout",
     "output_type": "stream",
     "text": [
      "SeounSeoul\n",
      "Seou n Seoul\n"
     ]
    }
   ],
   "source": [
    "# 8. 다음의 코드의 실행결과는?\n",
    "text = 'Seoul A001 - programming with python'\n",
    "print(text[:4] + text[-1] + text.split()[0]) # SeounSeoul : 띄어쓰기 없음 : 문자열에 이어서 바로 문자열이 추가\n",
    "print(text[:4], text[-1], text.split()[0]) # Seou n Seoul : print() 함수 기본 sep = \" \"로 띄어쓰기 추가하며 출력"
   ]
  },
  {
   "cell_type": "code",
   "execution_count": 39,
   "id": "51a2612b",
   "metadata": {},
   "outputs": [],
   "source": [
    "# 9. 다음 중 파이썬 3.x 버전에서 연산식과 그 결과의 출력이 잘못된 것은? : 2\n",
    "# ① 수식 8//2 결과 4 \n",
    "# ② 수식 8/2 결과 4 : 4.0 (/연산자는 실수를 반환)\n",
    "# ③ 수식 8 **2 결과 64"
   ]
  },
  {
   "cell_type": "code",
   "execution_count": 40,
   "id": "7ebc62fc",
   "metadata": {},
   "outputs": [
    {
     "ename": "TypeError",
     "evalue": "unsupported operand type(s) for +: 'int' and 'str'",
     "output_type": "error",
     "traceback": [
      "\u001b[1;31m---------------------------------------------------------------------------\u001b[0m",
      "\u001b[1;31mTypeError\u001b[0m                                 Traceback (most recent call last)",
      "Cell \u001b[1;32mIn[40], line 4\u001b[0m\n\u001b[0;32m      2\u001b[0m x\u001b[38;5;241m=\u001b[39m\u001b[38;5;241m5\u001b[39m\n\u001b[0;32m      3\u001b[0m y\u001b[38;5;241m=\u001b[39m\u001b[38;5;124m'\u001b[39m\u001b[38;5;124mjohn\u001b[39m\u001b[38;5;124m'\u001b[39m\n\u001b[1;32m----> 4\u001b[0m \u001b[38;5;28mprint\u001b[39m(\u001b[43mx\u001b[49m\u001b[38;5;241;43m+\u001b[39;49m\u001b[43my\u001b[49m)\n",
      "\u001b[1;31mTypeError\u001b[0m: unsupported operand type(s) for +: 'int' and 'str'"
     ]
    }
   ],
   "source": [
    "# 10.아래 프로그램의 결과는? : 자료형 차이로 인한 덧셈 연산자 사용 불가 에러 (TypeError)\n",
    "x=5\n",
    "y='john'\n",
    "print(x+y)"
   ]
  },
  {
   "cell_type": "code",
   "execution_count": null,
   "id": "68fa2cb0",
   "metadata": {
    "scrolled": false
   },
   "outputs": [],
   "source": [
    "# 11.split() 함수를 이용하여 str_ 의 값 중 나라 를 출력하는 프로그램을 완성하시오.\n",
    "str_ = \"우리 나라 대한 민국\"\n",
    "str_list = str_.split()\n",
    "print(str_list[1])"
   ]
  }
 ],
 "metadata": {
  "kernelspec": {
   "display_name": "Python 3 (ipykernel)",
   "language": "python",
   "name": "python3"
  },
  "language_info": {
   "codemirror_mode": {
    "name": "ipython",
    "version": 3
   },
   "file_extension": ".py",
   "mimetype": "text/x-python",
   "name": "python",
   "nbconvert_exporter": "python",
   "pygments_lexer": "ipython3",
   "version": "3.10.9"
  },
  "toc": {
   "base_numbering": 1,
   "nav_menu": {},
   "number_sections": false,
   "sideBar": true,
   "skip_h1_title": false,
   "title_cell": "Table of Contents",
   "title_sidebar": "Contents",
   "toc_cell": false,
   "toc_position": {
    "height": "calc(100% - 180px)",
    "left": "10px",
    "top": "150px",
    "width": "186px"
   },
   "toc_section_display": true,
   "toc_window_display": true
  }
 },
 "nbformat": 4,
 "nbformat_minor": 5
}
