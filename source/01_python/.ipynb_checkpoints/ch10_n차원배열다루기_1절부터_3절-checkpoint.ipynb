{
 "cells": [
  {
   "cell_type": "code",
   "execution_count": 1,
   "id": "5cc71f59",
   "metadata": {},
   "outputs": [
    {
     "data": {
      "text/html": [
       "\n",
       "<style>\n",
       "div.container{width:86% !important;}\n",
       "div.cell.code_cell.rendered{width:100%;}\n",
       "div.CodeMirror {font-family:Consolas; font-size:12pt;}\n",
       "div.output {font-size:12pt; font-weight:bold;}\n",
       "div.input {font-family:Consolas; fo\n",
       "nt-size:12pt;}\n",
       "div.prompt {min-width:70px;}\n",
       "div#toc-wrapper{padding-top:130px;}\n",
       "div.text_cell_render ul li{font-size:12pt;padding:5px;}\n",
       "table.dataframe{font-size:15px;}\n",
       "</style>\n"
      ],
      "text/plain": [
       "<IPython.core.display.HTML object>"
      ]
     },
     "metadata": {},
     "output_type": "display_data"
    }
   ],
   "source": [
    "from IPython.display import display, HTML\n",
    "display(HTML(\"\"\"\n",
    "<style>\n",
    "div.container{width:86% !important;}\n",
    "div.cell.code_cell.rendered{width:100%;}\n",
    "div.CodeMirror {font-family:Consolas; font-size:12pt;}\n",
    "div.output {font-size:12pt; font-weight:bold;}\n",
    "div.input {font-family:Consolas; fo\n",
    "nt-size:12pt;}\n",
    "div.prompt {min-width:70px;}\n",
    "div#toc-wrapper{padding-top:130px;}\n",
    "div.text_cell_render ul li{font-size:12pt;padding:5px;}\n",
    "table.dataframe{font-size:15px;}\n",
    "</style>\n",
    "\"\"\"))"
   ]
  },
  {
   "cell_type": "markdown",
   "id": "f4f05354",
   "metadata": {},
   "source": [
    "<font size = \"5\" color = 'red' > ch10 n차원 배열 다루기 </font>\n",
    "- [numpy](https://numpy.org/doc/stable/) \n",
    "- [numpy_API](https://numpy.org/doc/stable/reference/index.html)\n",
    "- n차원 배열 객체\n",
    "- 2차원 배열은 행렬개념\n",
    "- numpy 패키지는 C언어로 구현되어 고성능 수치 계산 패키지\n",
    "# 1절 numpy 패키지"
   ]
  },
  {
   "cell_type": "code",
   "execution_count": 6,
   "id": "b44f9577",
   "metadata": {},
   "outputs": [
    {
     "data": {
      "text/plain": [
       "'1.23.5'"
      ]
     },
     "execution_count": 6,
     "metadata": {},
     "output_type": "execute_result"
    }
   ],
   "source": [
    "import numpy as np\n",
    "np.__version__ # 버젼체크"
   ]
  },
  {
   "cell_type": "code",
   "execution_count": 13,
   "id": "6f5d763b",
   "metadata": {},
   "outputs": [
    {
     "name": "stdout",
     "output_type": "stream",
     "text": [
      "[ 0  1  2  3  4  5  6  7  8  9 10 11 12 13 14]\n"
     ]
    }
   ],
   "source": [
    "# np.arange(from,stop,step) from부터 stop-1까지 step씩 증감한 정수값을 배열로 생성\n",
    "a = np.arange(15)\n",
    "print(a)"
   ]
  },
  {
   "cell_type": "markdown",
   "id": "2adb19b5",
   "metadata": {},
   "source": [
    "## 1.1 배열 속성\n",
    "\t행렬.dtype 요소들의 타입 // 타입변경은 행렬.astype(np.int64) or .astype('int64')\n",
    "\t행렬.itemsize 한 요소의 bytesize\n",
    "\t행렬.ndim 차원수(축수)\n",
    "\t행렬.size 배열 요소들의 개수\n",
    "\t행렬.shape 배열의 구조 (면,행,열)"
   ]
  },
  {
   "cell_type": "code",
   "execution_count": 42,
   "id": "2b2cd8f9",
   "metadata": {},
   "outputs": [
    {
     "data": {
      "text/plain": [
       "array([[ 0,  1,  2,  3,  4],\n",
       "       [ 5,  6,  7,  8,  9],\n",
       "       [10, 11, 12, 13, 14]])"
      ]
     },
     "execution_count": 42,
     "metadata": {},
     "output_type": "execute_result"
    }
   ],
   "source": [
    "from numpy import arange\n",
    "a = arange(15).reshape(3,5)\n",
    "a"
   ]
  },
  {
   "cell_type": "code",
   "execution_count": 32,
   "id": "2a34a260",
   "metadata": {},
   "outputs": [
    {
     "data": {
      "text/plain": [
       "numpy.ndarray"
      ]
     },
     "execution_count": 32,
     "metadata": {},
     "output_type": "execute_result"
    }
   ],
   "source": [
    "type(a) # a변수의 타입"
   ]
  },
  {
   "cell_type": "code",
   "execution_count": 33,
   "id": "0cba89bf",
   "metadata": {},
   "outputs": [
    {
     "data": {
      "text/plain": [
       "dtype('int32')"
      ]
     },
     "execution_count": 33,
     "metadata": {},
     "output_type": "execute_result"
    }
   ],
   "source": [
    "a.dtype # a배열 요소의 type"
   ]
  },
  {
   "cell_type": "code",
   "execution_count": 34,
   "id": "87be5eef",
   "metadata": {},
   "outputs": [
    {
     "data": {
      "text/plain": [
       "'int32'"
      ]
     },
     "execution_count": 34,
     "metadata": {},
     "output_type": "execute_result"
    }
   ],
   "source": [
    "a.dtype.name"
   ]
  },
  {
   "cell_type": "code",
   "execution_count": 35,
   "id": "f650a1bd",
   "metadata": {},
   "outputs": [
    {
     "data": {
      "text/plain": [
       "4"
      ]
     },
     "execution_count": 35,
     "metadata": {},
     "output_type": "execute_result"
    }
   ],
   "source": [
    "a.itemsize # 한 요소의 bytesize"
   ]
  },
  {
   "cell_type": "code",
   "execution_count": 36,
   "id": "3ecb08da",
   "metadata": {},
   "outputs": [
    {
     "data": {
      "text/plain": [
       "3"
      ]
     },
     "execution_count": 36,
     "metadata": {},
     "output_type": "execute_result"
    }
   ],
   "source": [
    "a.ndim # 차원수(축수axis)"
   ]
  },
  {
   "cell_type": "code",
   "execution_count": 37,
   "id": "bd08cc96",
   "metadata": {},
   "outputs": [
    {
     "data": {
      "text/plain": [
       "15"
      ]
     },
     "execution_count": 37,
     "metadata": {},
     "output_type": "execute_result"
    }
   ],
   "source": [
    "a.size # 배열 요소의 개수"
   ]
  },
  {
   "cell_type": "code",
   "execution_count": 38,
   "id": "7d53c3bb",
   "metadata": {},
   "outputs": [
    {
     "data": {
      "text/plain": [
       "(1, 3, 5)"
      ]
     },
     "execution_count": 38,
     "metadata": {},
     "output_type": "execute_result"
    }
   ],
   "source": [
    "a.shape # 배열의 구조 (면, 행, 열) -> 튜플형태"
   ]
  },
  {
   "cell_type": "markdown",
   "id": "d1d7cea7",
   "metadata": {},
   "source": [
    "## 1.2 배열 변경(구조,타입)"
   ]
  },
  {
   "cell_type": "markdown",
   "id": "22366672",
   "metadata": {},
   "source": [
    "### 1.2.1 구조변경"
   ]
  },
  {
   "cell_type": "code",
   "execution_count": 49,
   "id": "d6168c7c",
   "metadata": {},
   "outputs": [
    {
     "data": {
      "text/plain": [
       "'구조 변경 전'"
      ]
     },
     "metadata": {},
     "output_type": "display_data"
    },
    {
     "data": {
      "text/plain": [
       "array([[ 0,  1,  2],\n",
       "       [ 3,  4,  5],\n",
       "       [ 6,  7,  8],\n",
       "       [ 9, 10, 11],\n",
       "       [12, 13, 14]])"
      ]
     },
     "metadata": {},
     "output_type": "display_data"
    },
    {
     "data": {
      "text/plain": [
       "'구조 변경 후'"
      ]
     },
     "metadata": {},
     "output_type": "display_data"
    },
    {
     "data": {
      "text/plain": [
       "array([[ 0,  1,  2],\n",
       "       [ 3,  4,  5],\n",
       "       [ 6,  7,  8],\n",
       "       [ 9, 10, 11],\n",
       "       [12, 13, 14]])"
      ]
     },
     "metadata": {},
     "output_type": "display_data"
    }
   ],
   "source": [
    "display('구조 변경 전',a)\n",
    "a.shape=(5,3) # 배열의 요소를 1행으로 만든 후 5,3 구조에 맞춰서 재구성\n",
    "display('구조 변경 후',a)"
   ]
  },
  {
   "cell_type": "markdown",
   "id": "30218dec",
   "metadata": {},
   "source": [
    "### 1.2.2 타입변경"
   ]
  },
  {
   "cell_type": "code",
   "execution_count": 76,
   "id": "a7358c97",
   "metadata": {},
   "outputs": [
    {
     "data": {
      "text/plain": [
       "array([[ 0,  1,  2,  3],\n",
       "       [ 4,  5,  6,  7],\n",
       "       [ 8,  9, 10, 11]])"
      ]
     },
     "execution_count": 76,
     "metadata": {},
     "output_type": "execute_result"
    }
   ],
   "source": [
    "a = arange(12).reshape(3,4)\n",
    "a"
   ]
  },
  {
   "cell_type": "code",
   "execution_count": 77,
   "id": "9418bc90",
   "metadata": {},
   "outputs": [
    {
     "data": {
      "text/plain": [
       "dtype('int32')"
      ]
     },
     "execution_count": 77,
     "metadata": {},
     "output_type": "execute_result"
    }
   ],
   "source": [
    "a.dtype"
   ]
  },
  {
   "cell_type": "code",
   "execution_count": 78,
   "id": "3b413b1a",
   "metadata": {},
   "outputs": [
    {
     "data": {
      "text/plain": [
       "4"
      ]
     },
     "execution_count": 78,
     "metadata": {},
     "output_type": "execute_result"
    }
   ],
   "source": [
    "a.itemsize"
   ]
  },
  {
   "cell_type": "code",
   "execution_count": 81,
   "id": "017678f3",
   "metadata": {},
   "outputs": [
    {
     "data": {
      "text/plain": [
       "(12, (3, 4))"
      ]
     },
     "execution_count": 81,
     "metadata": {},
     "output_type": "execute_result"
    }
   ],
   "source": [
    "a.size, a.shape # 12개 요소 3행 4열"
   ]
  },
  {
   "cell_type": "markdown",
   "id": "14198033",
   "metadata": {},
   "source": [
    "#### 타입변경 오류"
   ]
  },
  {
   "cell_type": "code",
   "execution_count": 82,
   "id": "8ad5444f",
   "metadata": {},
   "outputs": [],
   "source": [
    "a.dtype = np.int64 # a배열을 읽을 때 64bit씩 읽는다"
   ]
  },
  {
   "cell_type": "code",
   "execution_count": 83,
   "id": "75fb069a",
   "metadata": {},
   "outputs": [
    {
     "data": {
      "text/plain": [
       "8"
      ]
     },
     "execution_count": 83,
     "metadata": {},
     "output_type": "execute_result"
    }
   ],
   "source": [
    "a.itemsize"
   ]
  },
  {
   "cell_type": "code",
   "execution_count": 84,
   "id": "1063ebd6",
   "metadata": {},
   "outputs": [
    {
     "data": {
      "text/plain": [
       "(6, (3, 2))"
      ]
     },
     "execution_count": 84,
     "metadata": {},
     "output_type": "execute_result"
    }
   ],
   "source": [
    "a.size, a.shape"
   ]
  },
  {
   "cell_type": "code",
   "execution_count": 86,
   "id": "d77c3f8c",
   "metadata": {},
   "outputs": [
    {
     "data": {
      "text/plain": [
       "array([[ 4294967296, 12884901890],\n",
       "       [21474836484, 30064771078],\n",
       "       [38654705672, 47244640266]], dtype=int64)"
      ]
     },
     "execution_count": 86,
     "metadata": {},
     "output_type": "execute_result"
    }
   ],
   "source": [
    "a"
   ]
  },
  {
   "cell_type": "markdown",
   "id": "011c99ca",
   "metadata": {},
   "source": [
    "#### 타입변경 방안"
   ]
  },
  {
   "cell_type": "code",
   "execution_count": 105,
   "id": "cd7303f0",
   "metadata": {},
   "outputs": [
    {
     "data": {
      "text/plain": [
       "array([[ 0,  1,  2,  3],\n",
       "       [ 4,  5,  6,  7],\n",
       "       [ 8,  9, 10, 11]])"
      ]
     },
     "execution_count": 105,
     "metadata": {},
     "output_type": "execute_result"
    }
   ],
   "source": [
    "a = arange(12).reshape(3,4)\n",
    "a"
   ]
  },
  {
   "cell_type": "code",
   "execution_count": 100,
   "id": "b80543ce",
   "metadata": {},
   "outputs": [
    {
     "name": "stdout",
     "output_type": "stream",
     "text": [
      "int32 4 12 (3, 4)\n"
     ]
    }
   ],
   "source": [
    "print(a.dtype, a.itemsize,a.size, a.shape)"
   ]
  },
  {
   "cell_type": "code",
   "execution_count": 101,
   "id": "47fa88f6",
   "metadata": {},
   "outputs": [
    {
     "data": {
      "text/plain": [
       "array([[ 0,  1,  2,  3],\n",
       "       [ 4,  5,  6,  7],\n",
       "       [ 8,  9, 10, 11]], dtype=int64)"
      ]
     },
     "metadata": {},
     "output_type": "display_data"
    },
    {
     "name": "stdout",
     "output_type": "stream",
     "text": [
      "int64 8 12 (3, 4)\n"
     ]
    }
   ],
   "source": [
    "a = a.astype(np.int64) # 할당하지 않으면 int64버젼의 수치만 출력하고 바뀌진 않음.\n",
    "display(a)\n",
    "print(a.dtype, a.itemsize,a.size, a.shape)"
   ]
  },
  {
   "cell_type": "code",
   "execution_count": 103,
   "id": "a38d8426",
   "metadata": {},
   "outputs": [
    {
     "data": {
      "text/plain": [
       "array([ 0,  1,  2,  3,  4,  5,  6,  7,  8,  9, 10, 11], dtype=int64)"
      ]
     },
     "execution_count": 103,
     "metadata": {},
     "output_type": "execute_result"
    }
   ],
   "source": [
    "a.flatten() # 1차원 변경"
   ]
  },
  {
   "cell_type": "code",
   "execution_count": 109,
   "id": "93949254",
   "metadata": {},
   "outputs": [
    {
     "data": {
      "text/plain": [
       "array([ 0,  1,  2,  3,  4,  5,  6,  7,  8,  9, 10, 11])"
      ]
     },
     "execution_count": 109,
     "metadata": {},
     "output_type": "execute_result"
    }
   ],
   "source": [
    "a.ravel() # 1차원 변경"
   ]
  },
  {
   "cell_type": "markdown",
   "id": "814f35a5",
   "metadata": {},
   "source": [
    "## 1.3 배열 저장"
   ]
  },
  {
   "cell_type": "code",
   "execution_count": 107,
   "id": "d8d30e02",
   "metadata": {},
   "outputs": [
    {
     "data": {
      "text/plain": [
       "array([[ 0,  1,  2,  3],\n",
       "       [ 4,  5,  6,  7],\n",
       "       [ 8,  9, 10, 11]])"
      ]
     },
     "execution_count": 107,
     "metadata": {},
     "output_type": "execute_result"
    }
   ],
   "source": [
    "a"
   ]
  },
  {
   "cell_type": "markdown",
   "id": "0f83dad4",
   "metadata": {},
   "source": [
    "#### 피클"
   ]
  },
  {
   "cell_type": "code",
   "execution_count": 111,
   "id": "8deee8ad",
   "metadata": {},
   "outputs": [],
   "source": [
    "import pickle\n",
    "with open('data/ch10_a.pkl', 'wb') as f :\n",
    "    pickle.dump(a, f)"
   ]
  },
  {
   "cell_type": "code",
   "execution_count": 112,
   "id": "801a1ca9",
   "metadata": {},
   "outputs": [],
   "source": [
    "with open('data/ch10_a.pkl', 'rb') as f :\n",
    "    load_a = pickle.load(f)"
   ]
  },
  {
   "cell_type": "code",
   "execution_count": 118,
   "id": "fd2614bc",
   "metadata": {},
   "outputs": [
    {
     "data": {
      "text/plain": [
       "True"
      ]
     },
     "execution_count": 118,
     "metadata": {},
     "output_type": "execute_result"
    }
   ],
   "source": [
    "np.all(a == load_a) # 넘파이 배열은 np.all로 비교한다."
   ]
  },
  {
   "cell_type": "markdown",
   "id": "20c65914",
   "metadata": {},
   "source": [
    "#### npy"
   ]
  },
  {
   "cell_type": "code",
   "execution_count": 126,
   "id": "6a9d03dc",
   "metadata": {},
   "outputs": [],
   "source": [
    "np.save('data/ch10_a.npy',a)"
   ]
  },
  {
   "cell_type": "code",
   "execution_count": 128,
   "id": "d6de70a0",
   "metadata": {},
   "outputs": [
    {
     "data": {
      "text/plain": [
       "True"
      ]
     },
     "execution_count": 128,
     "metadata": {},
     "output_type": "execute_result"
    }
   ],
   "source": [
    "load_a2 = np.load('data/ch10_a.npy')\n",
    "np.all(load_a2==a)"
   ]
  },
  {
   "cell_type": "markdown",
   "id": "97524195",
   "metadata": {},
   "source": [
    "# 2절 numpy 배열\n",
    "- np.array() : 다른 파이썬 데이터 구조를 배열로 변환\n",
    "- np.arange(), np.ones(), np.zeros(), empty()\n",
    "- 랜덤값을 갖는 함수들...\n",
    "## 2.1 array() 함수로 넘파이 배열 만들기\n",
    "- np.array(obj : list, tuple..., dtype=np.int32,np.int64...., copy = T/F)"
   ]
  },
  {
   "cell_type": "code",
   "execution_count": 140,
   "id": "402a321d",
   "metadata": {},
   "outputs": [
    {
     "data": {
      "text/plain": [
       "(2, 4, 6)"
      ]
     },
     "execution_count": 140,
     "metadata": {},
     "output_type": "execute_result"
    }
   ],
   "source": [
    "import numpy as np\n",
    "\n",
    "a = np.array([2,4,6], dtype = np.int8) # 정수의 기본 타입은 int32 / 실수의 기본 타입은 float64\n",
    "a[0],a[1],a[2]"
   ]
  },
  {
   "cell_type": "code",
   "execution_count": 146,
   "id": "a070157b",
   "metadata": {},
   "outputs": [
    {
     "data": {
      "text/plain": [
       "array([[1, 2],\n",
       "       [4, 5]], dtype=int8)"
      ]
     },
     "execution_count": 146,
     "metadata": {},
     "output_type": "execute_result"
    }
   ],
   "source": [
    "b = np.array([[1.5, 2.7,],\n",
    "              [4, 5,]],\n",
    "             dtype = np.int8)\n",
    "b"
   ]
  },
  {
   "cell_type": "code",
   "execution_count": 153,
   "id": "62235e19",
   "metadata": {},
   "outputs": [
    {
     "data": {
      "text/plain": [
       "array([[1.5, 2.7],\n",
       "       [4. , 5. ]], dtype=float32)"
      ]
     },
     "execution_count": 153,
     "metadata": {},
     "output_type": "execute_result"
    }
   ],
   "source": [
    "b = np.array([[1.5, 2.7,],\n",
    "              [4, 5,]],dtype = np.float32)\n",
    "b"
   ]
  },
  {
   "cell_type": "code",
   "execution_count": 154,
   "id": "8ac024e5",
   "metadata": {},
   "outputs": [
    {
     "data": {
      "text/plain": [
       "array([[1.5, 2.7, 4. , 5. ]], dtype=float32)"
      ]
     },
     "execution_count": 154,
     "metadata": {},
     "output_type": "execute_result"
    }
   ],
   "source": [
    "b.reshape(1,4)"
   ]
  },
  {
   "cell_type": "code",
   "execution_count": 159,
   "id": "713835c5",
   "metadata": {},
   "outputs": [
    {
     "data": {
      "text/plain": [
       "array([[1.5       , 2.70000005],\n",
       "       [4.        , 5.        ]])"
      ]
     },
     "execution_count": 159,
     "metadata": {},
     "output_type": "execute_result"
    }
   ],
   "source": [
    "b.astype(np.float64)"
   ]
  },
  {
   "cell_type": "code",
   "execution_count": 163,
   "id": "8486ec24",
   "metadata": {},
   "outputs": [
    {
     "name": "stdout",
     "output_type": "stream",
     "text": [
      "1\t2\t\n",
      "3.4\t4.5\t\n"
     ]
    }
   ],
   "source": [
    "l = [[1,2],\n",
    "     [3.4, 4.5]]\n",
    "for row in l :\n",
    "    for data in row :\n",
    "        print(data, end = '\\t')\n",
    "    print()"
   ]
  },
  {
   "cell_type": "code",
   "execution_count": 171,
   "id": "c54ac01e",
   "metadata": {},
   "outputs": [
    {
     "name": "stdout",
     "output_type": "stream",
     "text": [
      "0행 0열 :1.0\t0행 1열 :2.0\t\n",
      "1행 0열 :3.4\t1행 1열 :4.5\t\n"
     ]
    }
   ],
   "source": [
    "c = np.array([[1,2],\n",
    "             [3.4, 4.5]], dtype = np.float64)\n",
    "c\n",
    "\n",
    "for i,row in enumerate(c) :\n",
    "    for j,data in enumerate(row) :\n",
    "        print(f'{i}행 {j}열 :{data}', end = '\\t')\n",
    "    print()"
   ]
  },
  {
   "cell_type": "code",
   "execution_count": 174,
   "id": "69d833a8",
   "metadata": {},
   "outputs": [
    {
     "data": {
      "text/plain": [
       "4"
      ]
     },
     "execution_count": 174,
     "metadata": {},
     "output_type": "execute_result"
    }
   ],
   "source": [
    "c = np.array([[1,2,3,4,5],\n",
    "             [6,7,8,9,10]], dtype = np.int16)\n",
    "c\n",
    "\n",
    "# 1. 1개 요소 접근(인덱싱)\n",
    "c[0,3]"
   ]
  },
  {
   "cell_type": "code",
   "execution_count": 181,
   "id": "64634e35",
   "metadata": {},
   "outputs": [
    {
     "data": {
      "text/plain": [
       "(array([[2, 3],\n",
       "        [7, 8]], dtype=int16),\n",
       " array([[3, 4, 5]], dtype=int16),\n",
       " array([3, 4, 5], dtype=int16),\n",
       " array([6, 7, 8], dtype=int16))"
      ]
     },
     "execution_count": 181,
     "metadata": {},
     "output_type": "execute_result"
    }
   ],
   "source": [
    "# 2. 슬라이싱 : [행 범위 : 열 범위] => 범위는 다른 슬라이싱과 동일하게 작동한다 from:stop:step from부터 stop-1까지 step만큼\n",
    "c[:, 1:3] , c[:1,2:], c[0,2:], c[1,:3]"
   ]
  },
  {
   "cell_type": "markdown",
   "id": "727a29e2",
   "metadata": {},
   "source": [
    "### 파이썬 슬라이싱과 인덱스와 비슷하게 작동하며 인덱스는 IndexError가 있으나 슬라이싱은 에러가 발생하지 않음"
   ]
  },
  {
   "cell_type": "markdown",
   "id": "6830bcfd",
   "metadata": {},
   "source": [
    "### 보통 마지막열 데이터는 종속변수인 경우가 많아 접근할 일이 잦음\n",
    "\n",
    "- 마지막열 접근 : 배열[ : , -1] => 1차원 접근방식 [1,2,3,.... ] 형태로 추출\n",
    "- 마지막열을 제외하고 데이터만 접근 : c[ : , : -1]"
   ]
  },
  {
   "cell_type": "code",
   "execution_count": 192,
   "id": "8c48cb16",
   "metadata": {},
   "outputs": [
    {
     "data": {
      "text/plain": [
       "array([[1, 2, 3, 4],\n",
       "       [6, 7, 8, 9]], dtype=int16)"
      ]
     },
     "execution_count": 192,
     "metadata": {},
     "output_type": "execute_result"
    }
   ],
   "source": [
    "c[:,:-1]"
   ]
  },
  {
   "cell_type": "markdown",
   "id": "3cbd5d37",
   "metadata": {},
   "source": [
    "### copy ?? ( np.array(obj, dtype=??, copy) )\n",
    "- copy는 같은 객체를 참조할 거냐(False) 아니면 같은 값을 갖는 다른 객체를 생성해 따로 참조할 거냐(True)"
   ]
  },
  {
   "cell_type": "code",
   "execution_count": 208,
   "id": "767333e8",
   "metadata": {},
   "outputs": [
    {
     "data": {
      "text/plain": [
       "array([[1, 2],\n",
       "       [3, 4]])"
      ]
     },
     "metadata": {},
     "output_type": "display_data"
    },
    {
     "data": {
      "text/plain": [
       "array([[1, 2],\n",
       "       [3, 4]])"
      ]
     },
     "metadata": {},
     "output_type": "display_data"
    },
    {
     "data": {
      "text/plain": [
       "array([[   1,    2],\n",
       "       [3333,    4]])"
      ]
     },
     "metadata": {},
     "output_type": "display_data"
    },
    {
     "data": {
      "text/plain": [
       "array([[   1,    2],\n",
       "       [3333,    4]])"
      ]
     },
     "metadata": {},
     "output_type": "display_data"
    },
    {
     "data": {
      "text/plain": [
       "(1566187075888, 1566187075888)"
      ]
     },
     "execution_count": 208,
     "metadata": {},
     "output_type": "execute_result"
    }
   ],
   "source": [
    "c = np.array([[1,2],[3,4]])\n",
    "d = np.array(c, copy = False) # d = c 얕은 복사\n",
    "# copy는 같은 객체를 참조할 거냐(False) 아니면 값은 같은 다른 객체를 생성해 따로 참조할 거냐(True)\n",
    "display(c,d)\n",
    "d[1,0] = 3333\n",
    "display(c,d)\n",
    "id(c), id(d)"
   ]
  },
  {
   "cell_type": "code",
   "execution_count": 211,
   "id": "950fb4e8",
   "metadata": {},
   "outputs": [
    {
     "data": {
      "text/plain": [
       "array([[1, 2],\n",
       "       [3, 4]])"
      ]
     },
     "metadata": {},
     "output_type": "display_data"
    },
    {
     "data": {
      "text/plain": [
       "array([[1, 2],\n",
       "       [3, 4]])"
      ]
     },
     "metadata": {},
     "output_type": "display_data"
    },
    {
     "data": {
      "text/plain": [
       "array([[1, 2],\n",
       "       [3, 4]])"
      ]
     },
     "metadata": {},
     "output_type": "display_data"
    },
    {
     "data": {
      "text/plain": [
       "array([[   1,    2],\n",
       "       [3333,    4]])"
      ]
     },
     "metadata": {},
     "output_type": "display_data"
    },
    {
     "data": {
      "text/plain": [
       "(1566187077232, 1566187068208)"
      ]
     },
     "execution_count": 211,
     "metadata": {},
     "output_type": "execute_result"
    }
   ],
   "source": [
    "c = np.array([[1,2],[3,4]])\n",
    "d = np.array(c, copy = True) # d = c.copy() 깊은 복사\n",
    "# copy는 같은 객체를 참조할 거냐(False) 아니면 같은 값을 갖는 다른 객체를 생성해 따로 참조할 거냐(True)\n",
    "display(c,d)\n",
    "d[1,0] = 3333\n",
    "display(c,d)\n",
    "id(c), id(d)"
   ]
  },
  {
   "cell_type": "markdown",
   "id": "9691e0e7",
   "metadata": {},
   "source": [
    "## 2.2 기본값을 갖는 배열\n",
    "- np.zeros((행,열)) : (행,열)은 튜플인자로 요소들이 모두 0 인 행열 생성, 기본 dtype = np.float64\n",
    "- np.ones((행,열)) : (행,열)은 튜플인자로 요소들이 모두 1 인 행열 생성, 기본 dtype = np.float64\n",
    "- np.full((행, 열), 기본값) : (행,열)은 튜플인자로 요소들이 모두 기본값 인 행열 생성, 기본 dtype = np.float64\n",
    "- np.empty((행, 열)) : (행,열)은 튜플인자로 요소들이 모두 난수.. 인 행열 생성, 기본 dtype = np.float64, 메모리상태에 따라 달라짐\n",
    "\n",
    "- ※ 위의 함수를 이용해서 생성된 배열은 기본 dtype = float64"
   ]
  },
  {
   "cell_type": "code",
   "execution_count": 217,
   "id": "94d73dee",
   "metadata": {},
   "outputs": [
    {
     "data": {
      "text/plain": [
       "array([[0, 0, 0, 0, 0],\n",
       "       [0, 0, 0, 0, 0],\n",
       "       [0, 0, 0, 0, 0]])"
      ]
     },
     "execution_count": 217,
     "metadata": {},
     "output_type": "execute_result"
    }
   ],
   "source": [
    "np.zeros((3,5), dtype = np.int32)"
   ]
  },
  {
   "cell_type": "code",
   "execution_count": 218,
   "id": "10f491fc",
   "metadata": {},
   "outputs": [
    {
     "data": {
      "text/plain": [
       "array([[1, 1, 1, 1, 1],\n",
       "       [1, 1, 1, 1, 1],\n",
       "       [1, 1, 1, 1, 1]])"
      ]
     },
     "execution_count": 218,
     "metadata": {},
     "output_type": "execute_result"
    }
   ],
   "source": [
    "np.ones((3,5), dtype = np.int32)"
   ]
  },
  {
   "cell_type": "code",
   "execution_count": 228,
   "id": "39e2c038",
   "metadata": {},
   "outputs": [
    {
     "data": {
      "text/plain": [
       "array([[-256, -256, -256, -256, -256],\n",
       "       [-256, -256, -256, -256, -256],\n",
       "       [-256, -256, -256, -256, -256]])"
      ]
     },
     "execution_count": 228,
     "metadata": {},
     "output_type": "execute_result"
    }
   ],
   "source": [
    "np.full((3,5),-256, dtype = np.int32) # 음수는 int형이 기본"
   ]
  },
  {
   "cell_type": "code",
   "execution_count": 225,
   "id": "66d96e50",
   "metadata": {},
   "outputs": [
    {
     "data": {
      "text/plain": [
       "array([[      0,       0,       0,       0,       0],\n",
       "       [      0,       0,       0,       0,       0],\n",
       "       [   3240,       0,       0, 7077985,       0]])"
      ]
     },
     "execution_count": 225,
     "metadata": {},
     "output_type": "execute_result"
    }
   ],
   "source": [
    "np.empty((3,5), dtype = np.int32)"
   ]
  },
  {
   "cell_type": "markdown",
   "id": "bb843bf3",
   "metadata": {},
   "source": [
    "## 2.3 랜덤값을 갖는 배열 만들기\n",
    "- np.random.random((행,열)) : 0부터 1 미만의 균등분포를 기본값으로 갖는 행열\n",
    "- np.random.uniform(lows=0, high = 1.0, size = (행,열)) : low부터 high 미만의 균등분포를 갖는 랜덤값\n",
    "- np.random.normal(loc=0, scale=1.0, size = (행,열)) : 평균loc과 표준편차scale을 갖는 정규분포 랜덤값\n",
    "- np.random.rand(n) : 균등분포의 1차원 난수 배열 발생(난수 개수 n개의 1차원 배열)\n",
    "- np.random.randn(n) : 표준정규분포(평균이 0, 표준편차가 1인 정규분포)의 1차원 난수 배열 발생(난수 n개의 1차원 배열)\n",
    "- np.random.randint(n) : 0부터 n미만의 정수 난수 1개 발생 ************ 배열이 아니다"
   ]
  },
  {
   "cell_type": "code",
   "execution_count": 392,
   "id": "3c058c9c",
   "metadata": {},
   "outputs": [
    {
     "data": {
      "image/png": "[encoded data removed]",
      "text/plain": [
       "<Figure size 3000x1000 with 1 Axes>"
      ]
     },
     "metadata": {},
     "output_type": "display_data"
    }
   ],
   "source": [
    "import matplotlib.pyplot as plt\n",
    "x = np.random.rand(10000)\n",
    "x\n",
    "plt.figure(figsize=(30,10)) # 그래프 크기 figsize(가로, 세로)\n",
    "plt.hist(x,bins=50) # 빈도를 나타내기 좋은 그래프 histogram = hist. bins = 나눌구간\n",
    "plt.show()"
   ]
  },
  {
   "cell_type": "code",
   "execution_count": 377,
   "id": "bcc85986",
   "metadata": {},
   "outputs": [
    {
     "data": {
      "image/png": "[encoded data removed]",
      "text/plain": [
       "<Figure size 1500x200 with 1 Axes>"
      ]
     },
     "metadata": {},
     "output_type": "display_data"
    }
   ],
   "source": [
    "y = np.random.randn(100000)\n",
    "y\n",
    "plt.figure(figsize=(15,2)) # 그래프 크기 figsize(가로, 세로)\n",
    "plt.hist(y,bins=100) # 빈도를 나타내기 좋은 그래프 histogram = hist. bins = 나눌구간\n",
    "plt.show()"
   ]
  },
  {
   "cell_type": "code",
   "execution_count": 586,
   "id": "c7f713c8",
   "metadata": {},
   "outputs": [
    {
     "data": {
      "text/plain": [
       "array([[0.15416284, 0.7400497 , 0.26331502, 0.53373939, 0.01457496],\n",
       "       [0.91874701, 0.90071485, 0.03342143, 0.95694934, 0.13720932]])"
      ]
     },
     "execution_count": 586,
     "metadata": {},
     "output_type": "execute_result"
    }
   ],
   "source": [
    "# 2차원 난수 배열\n",
    "np.random.seed(12) # seed값을 설정하면 발생하는 난수 순서가 동일\n",
    "np.random.random((2,5)) # 0부터 1미만의 균등분포를 갖는 난수 배열 -> 확인하려면 flatten하고 그래프로 체크"
   ]
  },
  {
   "cell_type": "code",
   "execution_count": 587,
   "id": "449c53d0",
   "metadata": {},
   "outputs": [
    {
     "data": {
      "text/plain": [
       "array([[ 2.12211188,  5.66691503,  9.3864765 ,  8.38009095, -0.97514843],\n",
       "       [ 4.7334863 ,  5.07241397,  4.33915155,  7.44947569,  0.76788428]])"
      ]
     },
     "execution_count": 587,
     "metadata": {},
     "output_type": "execute_result"
    }
   ],
   "source": [
    "np.random.uniform(-1, 10, (2,5)) # -1 부터 10 미만의 균등분포 난수 배열"
   ]
  },
  {
   "cell_type": "code",
   "execution_count": 589,
   "id": "74529cd7",
   "metadata": {},
   "outputs": [
    {
     "data": {
      "text/plain": [
       "array([[63.65852914, 62.32044874, 54.50889233, 43.58590182, 36.22403967],\n",
       "       [59.65746348, 37.1599654 , 37.254279  , 65.22841762, 64.61882431]])"
      ]
     },
     "execution_count": 589,
     "metadata": {},
     "output_type": "execute_result"
    }
   ],
   "source": [
    "np.random.normal(50,10,(2,5)) # 평균 50 표준편차 10인 정규분포 난수 배열"
   ]
  },
  {
   "cell_type": "markdown",
   "id": "0d325104",
   "metadata": {},
   "source": [
    "## 2.4 연속된 값을 갖는 배열 만들기\n",
    "- np.arange(from, stop, by, dtype = int32) : from부터 stop-1까지 by씩 증가하는 '정수' 배열\n",
    "- np.linspace(from, to, count) : from부터 to까지 같은 간격의 count개 숫자를 1차원 배열"
   ]
  },
  {
   "cell_type": "code",
   "execution_count": 596,
   "id": "40630824",
   "metadata": {},
   "outputs": [
    {
     "data": {
      "text/plain": [
       "array([0.        , 0.10526316, 0.21052632, 0.31578947, 0.42105263,\n",
       "       0.52631579, 0.63157895, 0.73684211, 0.84210526, 0.94736842,\n",
       "       1.05263158, 1.15789474, 1.26315789, 1.36842105, 1.47368421,\n",
       "       1.57894737, 1.68421053, 1.78947368, 1.89473684, 2.        ])"
      ]
     },
     "execution_count": 596,
     "metadata": {},
     "output_type": "execute_result"
    }
   ],
   "source": [
    "np.linspace(0,2,20) # 연속된 x의 값 표현할 때"
   ]
  },
  {
   "cell_type": "code",
   "execution_count": 607,
   "id": "8e5deaa0",
   "metadata": {},
   "outputs": [
    {
     "data": {
      "image/png": "[encoded data removed]",
      "text/plain": [
       "<Figure size 500x400 with 1 Axes>"
      ]
     },
     "metadata": {},
     "output_type": "display_data"
    }
   ],
   "source": [
    "# linspace : 많은 수의 점들을 생성\n",
    "x = np.linspace(0,2*np.pi, 10000)\n",
    "y = np.sin(x)\n",
    "plt.figure(figsize=(5,4))\n",
    "graph = plt.plot(x,y)\n",
    "plt.show()"
   ]
  },
  {
   "cell_type": "code",
   "execution_count": 610,
   "id": "e8255c96",
   "metadata": {},
   "outputs": [
    {
     "data": {
      "text/plain": [
       "array([[0.        , 0.10526316, 0.21052632, 0.31578947, 0.42105263,\n",
       "        0.52631579, 0.63157895, 0.73684211, 0.84210526, 0.94736842],\n",
       "       [1.05263158, 1.15789474, 1.26315789, 1.36842105, 1.47368421,\n",
       "        1.57894737, 1.68421053, 1.78947368, 1.89473684, 2.        ]])"
      ]
     },
     "execution_count": 610,
     "metadata": {},
     "output_type": "execute_result"
    }
   ],
   "source": [
    "np.linspace(0,2,20).reshape(2,10)"
   ]
  },
  {
   "cell_type": "code",
   "execution_count": 615,
   "id": "632f0006",
   "metadata": {},
   "outputs": [
    {
     "data": {
      "text/plain": [
       "array([10. , 13.5, 17. , 20.5, 24. , 27.5])"
      ]
     },
     "execution_count": 615,
     "metadata": {},
     "output_type": "execute_result"
    }
   ],
   "source": [
    "# arange()\n",
    "np.arange(10.,30.,3.5)"
   ]
  },
  {
   "cell_type": "markdown",
   "id": "1661d589",
   "metadata": {},
   "source": [
    "## 2.5 배열의 차원 변경하기\n",
    "- reshape(면수 행수, 열수) : -1 가능 => 행,열에 따라 자동 계산\n",
    "- resize(면수, 행수, 열수) : -1 불가\n",
    "- T : 전치행렬 # 행렬전환 Tranpose\n",
    "- transpose() : 전치 행렬로 변환\n",
    "\n",
    "- ※ 실행결과가 출력되면 배열이 수정되지 않고 실행결과가 없으면 변수가 수정됨"
   ]
  },
  {
   "cell_type": "code",
   "execution_count": 645,
   "id": "d9fa5596",
   "metadata": {},
   "outputs": [
    {
     "data": {
      "text/plain": [
       "array([[0.99927366, 0.67092359, 0.78957614],\n",
       "       [0.98158755, 0.14155841, 0.02628702]])"
      ]
     },
     "execution_count": 645,
     "metadata": {},
     "output_type": "execute_result"
    }
   ],
   "source": [
    "a = np.random.random((2,3))\n",
    "a"
   ]
  },
  {
   "cell_type": "code",
   "execution_count": 646,
   "id": "2bfaa867",
   "metadata": {},
   "outputs": [
    {
     "data": {
      "text/plain": [
       "array([[100.,  67.,  79.],\n",
       "       [ 98.,  14.,   3.]])"
      ]
     },
     "execution_count": 646,
     "metadata": {},
     "output_type": "execute_result"
    }
   ],
   "source": [
    "a = np.round(a * 100) # round 반올림 floor 내림 ceil 올림\n",
    "a"
   ]
  },
  {
   "cell_type": "code",
   "execution_count": 647,
   "id": "f8f113f6",
   "metadata": {},
   "outputs": [
    {
     "data": {
      "text/plain": [
       "array([[100.,  67.],\n",
       "       [ 79.,  98.],\n",
       "       [ 14.,   3.]])"
      ]
     },
     "execution_count": 647,
     "metadata": {},
     "output_type": "execute_result"
    }
   ],
   "source": [
    "a.reshape(3,2) # sorted(a) 느낌"
   ]
  },
  {
   "cell_type": "code",
   "execution_count": 654,
   "id": "3f41c468",
   "metadata": {},
   "outputs": [
    {
     "data": {
      "text/plain": [
       "array([[100.],\n",
       "       [ 67.],\n",
       "       [ 79.],\n",
       "       [ 98.],\n",
       "       [ 14.],\n",
       "       [  3.]])"
      ]
     },
     "execution_count": 654,
     "metadata": {},
     "output_type": "execute_result"
    }
   ],
   "source": [
    "a.reshape(-1,1) # -1은 해당 차원의 크기를 자동 계산"
   ]
  },
  {
   "cell_type": "code",
   "execution_count": 658,
   "id": "4441b664",
   "metadata": {},
   "outputs": [
    {
     "name": "stdout",
     "output_type": "stream",
     "text": [
      "[[100.  67.  79.]\n",
      " [ 98.  14.   3.]]\n"
     ]
    }
   ],
   "source": [
    "a.resize((2,3)) # 결과를 출력하지 않는 함수는 배열 자체를 바꿈. -1 불가(.sort()개념)\n",
    "print(a)"
   ]
  },
  {
   "cell_type": "code",
   "execution_count": null,
   "id": "41e1fd7d",
   "metadata": {},
   "outputs": [],
   "source": []
  }
 ],
 "metadata": {
  "kernelspec": {
   "display_name": "Python 3 (ipykernel)",
   "language": "python",
   "name": "python3"
  },
  "language_info": {
   "codemirror_mode": {
    "name": "ipython",
    "version": 3
   },
   "file_extension": ".py",
   "mimetype": "text/x-python",
   "name": "python",
   "nbconvert_exporter": "python",
   "pygments_lexer": "ipython3",
   "version": "3.10.9"
  },
  "toc": {
   "base_numbering": 1,
   "nav_menu": {},
   "number_sections": false,
   "sideBar": true,
   "skip_h1_title": false,
   "title_cell": "Table of Contents",
   "title_sidebar": "Contents",
   "toc_cell": false,
   "toc_position": {
    "height": "calc(100% - 180px)",
    "left": "10px",
    "top": "150px",
    "width": "165px"
   },
   "toc_section_display": true,
   "toc_window_display": true
  }
 },
 "nbformat": 4,
 "nbformat_minor": 5
}
