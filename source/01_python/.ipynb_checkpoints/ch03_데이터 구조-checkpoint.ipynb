{
 "cells": [
  {
   "cell_type": "code",
   "execution_count": 363,
   "id": "660e9363",
   "metadata": {},
   "outputs": [
    {
     "data": {
      "text/html": [
       "\n",
       "<style>\n",
       "div.container{width:86% !important;}\n",
       "div.cell.code_cell.rendered{width:100%;}\n",
       "div.CodeMirror {font-family:Consolas; font-size:12pt;}\n",
       "div.output {font-size:12pt; font-weight:bold;}\n",
       "div.input {font-family:Consolas; font-size:12pt;}\n",
       "div.prompt {min-width:70px;}\n",
       "div#toc-wrapper{padding-top:120px;}\n",
       "div.text_cell_render ul li{font-size:12pt;padding:5px;}\n",
       "table.dataframe{font-size:15px;}\n",
       "</style>\n"
      ],
      "text/plain": [
       "<IPython.core.display.HTML object>"
      ]
     },
     "metadata": {},
     "output_type": "display_data"
    }
   ],
   "source": [
    "from IPython.display import display, HTML\n",
    "display(HTML(\"\"\"\n",
    "<style>\n",
    "div.container{width:86% !important;}\n",
    "div.cell.code_cell.rendered{width:100%;}\n",
    "div.CodeMirror {font-family:Consolas; font-size:12pt;}\n",
    "div.output {font-size:12pt; font-weight:bold;}\n",
    "div.input {font-family:Consolas; font-size:12pt;}\n",
    "div.prompt {min-width:70px;}\n",
    "div#toc-wrapper{padding-top:120px;}\n",
    "div.text_cell_render ul li{font-size:12pt;padding:5px;}\n",
    "table.dataframe{font-size:15px;}\n",
    "</style>\n",
    "\"\"\"))"
   ]
  },
  {
   "cell_type": "markdown",
   "id": "6152d23a",
   "metadata": {},
   "source": [
    "<font size = 5, color = 'red'> ch03 데이터 구조 </font>\n",
    "- 리스트 [ ], 튜플 ( ), 집합(set) { }, 딕셔너리 {key:value}\n",
    "- 여러가지 자료를 한 변수에 담는 것이 목적\n",
    "***\n",
    "\n",
    "# 1절 리스트\n",
    "## 1.1 리스트 생성\n",
    "***\n",
    "\n",
    "- [ ] 를 이용해서 만들며 여러(종류와 개) 값을 하나의 변수에 저장/관리 가능하다.\n",
    "- list(리스트로 변환 가능한 자료) 함수도 이용 가능.\n",
    "- 인덱스 : 각 요소의 위치. 0부터 시작. 맨 마지막 인덱스는 -1\n",
    "- 슬라이싱 : [from : stop : step] from부터 stop-1 까지 step간격 만큼 부분 데이터셋 추출\n",
    "- 인덱스와 슬라이싱을 이용해서 읽기/쓰기 지원"
   ]
  },
  {
   "cell_type": "code",
   "execution_count": null,
   "id": "91a970d4",
   "metadata": {},
   "outputs": [],
   "source": [
    "fruits = ['banana', 'apple', 'lemon', 'orange', 'grape']\n",
    "type(fruits)"
   ]
  },
  {
   "cell_type": "code",
   "execution_count": null,
   "id": "6afe6179",
   "metadata": {},
   "outputs": [],
   "source": [
    "fruits = ['banana', 'apple', 'lemon', 'orange', 'grape']\n",
    "print(fruits)\n",
    "print(fruits[0])\n",
    "fruits[0] = 'change'\n",
    "print('-' * 50)\n",
    "print(fruits[0])\n",
    "print(fruits)"
   ]
  },
  {
   "cell_type": "code",
   "execution_count": null,
   "id": "5cf23de2",
   "metadata": {},
   "outputs": [],
   "source": [
    "x, y, z, o, w = fruits\n",
    "print(x, y, z, o, w)\n",
    "print(f'x = {x}')\n",
    "print(f'y = {y}')\n",
    "print(f'z = {z}')\n",
    "print(f'o = {o}')\n",
    "print(f'z = {z}')"
   ]
  },
  {
   "cell_type": "code",
   "execution_count": null,
   "id": "acab28cd",
   "metadata": {},
   "outputs": [],
   "source": [
    "# range(from, to, by) from 부터 to - 1 까지 by 만큼 증가하면서 지정된 범위의 '정수' : from 생략시 0(시작부터) by 생략시 1\n",
    "a = list(range(10))\n",
    "print(a)"
   ]
  },
  {
   "cell_type": "code",
   "execution_count": null,
   "id": "f39fbad7",
   "metadata": {},
   "outputs": [],
   "source": [
    "list(range(10,-1,-3))"
   ]
  },
  {
   "cell_type": "code",
   "execution_count": null,
   "id": "362f7fe6",
   "metadata": {},
   "outputs": [],
   "source": [
    "# 반복문(30회)\n",
    "k=0\n",
    "for i in range(30) :\n",
    "    pass\n",
    "print(k)"
   ]
  },
  {
   "cell_type": "code",
   "execution_count": null,
   "id": "3eda6956",
   "metadata": {},
   "outputs": [],
   "source": [
    "fruits = ['mango', 'apple', 'orange', 'grape']\n",
    "\n",
    "for i in range(len(fruits)) :\n",
    "        print(f'{i+1}번째 과일은',fruits[i],'입니다.')\n",
    "        \n",
    "print('-' * 50)\n",
    "\n",
    "for i in fruits :\n",
    "    print(f'{fruits.index(i) + 1}번째 과일은 {i} 입니다.')\n",
    "print('-' * 50)\n",
    "for idx,val in enumerate(fruits) : # enumerate(나열가능한 자료) : -> (index, val) 들의 셋들\n",
    "    print(f'{idx+1}번째 과일은 {val} 입니다.')\n",
    "print('-' * 50)\n",
    "print(len(fruits))\n",
    "# len(list) : 리스트 속 자료의 개수"
   ]
  },
  {
   "cell_type": "code",
   "execution_count": null,
   "id": "97094572",
   "metadata": {},
   "outputs": [],
   "source": [
    "# 리스트는 여러 타입의 데이터를 담을 수 있음\n",
    "numbers = [0, True, '2', 3, [4,5,6], {1,2,3}, (1,2)] \n",
    "# 집합은 for 구문도 돌고 enumerate도 도는데 index는 지원 안함 : **순서 없음**\n",
    "# 순회가 가능한(반복이 가능한) iterable\n",
    "print(numbers)\n",
    "print(numbers[4])\n",
    "print(numbers[4], numbers[4][1])"
   ]
  },
  {
   "cell_type": "code",
   "execution_count": null,
   "id": "59050180",
   "metadata": {},
   "outputs": [],
   "source": [
    "# 세 학생의 국어 점수 : score = [90, 100, 95] \n",
    "# 세 학생의 국영수 점수 : score_3sub = [[90, 100, 96], [100, 70, 98], [85, 70, 65]] # 이중 중첩 리스트 : 이차원 리스트\n",
    "# 근데 이거 numpy로 array형으로 사용하면 연산 등에서 정말 용이하다"
   ]
  },
  {
   "cell_type": "code",
   "execution_count": null,
   "id": "1da40e79",
   "metadata": {},
   "outputs": [],
   "source": [
    "# 2차원 리스트\n",
    "numbers_2d = [[90, 91, 92, 93], \n",
    "              [80, 81, 82, 83],\n",
    "              [70, 71, 72, 73],]\n",
    "print(numbers_2d)\n",
    "print(len(numbers_2d), len(numbers_2d[0]))"
   ]
  },
  {
   "cell_type": "code",
   "execution_count": null,
   "id": "5ab704a7",
   "metadata": {},
   "outputs": [],
   "source": [
    "for i, first_access in enumerate(numbers_2d) :\n",
    "# f'{idx + 1}번째 학생의 성적표 : {first_access}'\n",
    "    for j, value in enumerate(first_access) :\n",
    "        print(f'{i}행 {j}열 : {value}', end = '\\t') # \\t : 탭\n",
    "    print() # 개행 다음 줄을 열어라! 다음 줄로 가자 다음 줄 시작하자\n",
    "#for idx, first_access in enumerate(numbers_2d) :\n",
    "#    print(f'{idx + 1}번째 학생의 성적표 : {first_access}')"
   ]
  },
  {
   "cell_type": "code",
   "execution_count": null,
   "id": "0a02d00c",
   "metadata": {},
   "outputs": [],
   "source": [
    "numbers_2d = [['과 목','국어', '영어', '수학', '과학'],\n",
    "              ['길 동', 90, 91, 92, 93], \n",
    "              ['김 천', 80, 81, 82, 83],\n",
    "              ['김 가', 70, 71, 72, 73],]\n",
    "for row in numbers_2d :\n",
    "    for score in row :\n",
    "        print(f'{score:3}', end = '\\t')\n",
    "    print()"
   ]
  },
  {
   "cell_type": "markdown",
   "id": "94fb8a02",
   "metadata": {},
   "source": [
    "## 1.2 기본 정보 조회\n"
   ]
  },
  {
   "cell_type": "code",
   "execution_count": null,
   "id": "97afbd37",
   "metadata": {},
   "outputs": [],
   "source": [
    "# 최소값, 최대값\n",
    "nums = [1, 12, 3, 5, 4,]\n",
    "nums2 = [[100,0],\n",
    "        [9,100, 1, 2, 3,],\n",
    "        [50, 54],]\n",
    "print(nums)\n",
    "print(nums2)"
   ]
  },
  {
   "cell_type": "code",
   "execution_count": null,
   "id": "589931d2",
   "metadata": {},
   "outputs": [],
   "source": [
    "# 요소(item)의 수\n",
    "print(len(nums), len(nums2))\n",
    "print(min(nums), max(nums))\n",
    "print(min(nums2), max(nums2)) # 기본은 제일 앞 요소를 기준으로 비교한다. x[0]\n",
    "print(sorted(nums))\n",
    "print(sorted(nums2))\n",
    "print(sorted(nums2, key = lambda x: x[1]))\n",
    "print(sorted(nums2, key = lambda x: (len(x), x[0])))"
   ]
  },
  {
   "cell_type": "code",
   "execution_count": null,
   "id": "3d5c45b8",
   "metadata": {},
   "outputs": [],
   "source": [
    "# 문자 list일 경우 ascii 코드 값으로 min(), max() 적용\n",
    "fruits = ['apple', 'mango', 'orange', 'Apple']\n",
    "min(fruits), max(fruits)"
   ]
  },
  {
   "cell_type": "code",
   "execution_count": null,
   "id": "ca0d1628",
   "metadata": {},
   "outputs": [],
   "source": [
    "# 정렬하기\n",
    "numbers = [1, 12, 3, 5, 4,]\n",
    "print('오름차순 정렬 :', sorted(numbers))\n",
    "print('내림차순 정렬 :', sorted(numbers, reverse = True))\n",
    "# sorted 함수는 새로운 리스트에 정렬한 값을 넣어주는 의미\n",
    "print('합 :', sum(numbers))"
   ]
  },
  {
   "cell_type": "markdown",
   "id": "34aafe6d",
   "metadata": {},
   "source": [
    "## 1.3 요소 추가\n",
    "```\n",
    "     + 로 두 리스트를 연결\n",
    "     * 로 리스트를 * 번 반복\n",
    "     append() : 리스트 맨 뒤 1개 요소 추가\n",
    "     extend([무조건 리스트 형태로]) : 리스트에 리스트 이어붙이기\n",
    "     insert(idx, val) : val를 idx 위치에 추가 기존 데이터는 shift\n",
    " ```"
   ]
  },
  {
   "cell_type": "code",
   "execution_count": null,
   "id": "18006eba",
   "metadata": {},
   "outputs": [],
   "source": [
    "nums = [1,2,3,4,5,]"
   ]
  },
  {
   "cell_type": "code",
   "execution_count": null,
   "id": "f9f237e8",
   "metadata": {},
   "outputs": [],
   "source": [
    "nums = [1,2,3,4,5,]\n",
    "nums2 = [1,2,3,4,5,]\n",
    "print(id(nums))\n",
    "print(id(nums2))"
   ]
  },
  {
   "cell_type": "code",
   "execution_count": null,
   "id": "ab12197d",
   "metadata": {},
   "outputs": [],
   "source": [
    "numbers = [1,2]\n",
    "print(id(numbers))\n",
    "numbers = numbers + numbers\n",
    "print(id(numbers))\n",
    "numbers *= 2\n",
    "print(id(numbers))\n",
    "numbers.append(1)\n",
    "print(id(numbers))\n",
    "numbers.extend(numbers)\n",
    "print(id(numbers))\n",
    "numbers.insert(0,99)\n",
    "print(id(numbers))\n",
    "numbers += numbers # == extend\n",
    "print(id(numbers))\n",
    "numbers"
   ]
  },
  {
   "cell_type": "markdown",
   "id": "e9d430b7",
   "metadata": {},
   "source": [
    "## 1.4 인덱싱과 요소 개수\n",
    "    - 리스트객체[인덱스] : 인덱스를 이용한 접근 : IndexError 주의\n",
    "    - 리스트객체.index(찾을데이터) = 찾을 데이터가 리스트 객체에 있다면 index를 반환, 없으면 IndexError\n",
    "    - 리스트객체.count(찾을데이터) = 찾을 데이터가 리스트 객체에 몇 번 있는 지 체크\n",
    "    - 리스트객체.index(찾을데이터, position = 몇번째 이후(기본은 0) = 몇번째 이후 처음 나오는 객체 인덱스 반환 : 이것도 없으면 IndexError"
   ]
  },
  {
   "cell_type": "code",
   "execution_count": null,
   "id": "63a5f4e6",
   "metadata": {},
   "outputs": [],
   "source": [
    "numbers = [1,2,3,[1,2,3,],1,2,3,]\n",
    "print(numbers.count(9))"
   ]
  },
  {
   "cell_type": "code",
   "execution_count": null,
   "id": "6845aa2b",
   "metadata": {},
   "outputs": [],
   "source": [
    "numbers.count(2) # 2\n",
    "I = numbers.index(2)\n",
    "numbers.index(2, I+1) # 2를 찾을건데, 2개 있는 것중에 뒤에 있는 것의 index가 필요해.\n",
    "if 9 in numbers :\n",
    "    K = numbers.index(9)\n",
    "else : \n",
    "    K = 'Fuck'\n",
    "print(K)"
   ]
  },
  {
   "cell_type": "code",
   "execution_count": null,
   "id": "93b4c271",
   "metadata": {},
   "outputs": [],
   "source": [
    "import numpy as np\n",
    "a = [[1,2],[3,4],[5,6]]\n",
    "A = np.array(a)\n",
    "print(A)"
   ]
  },
  {
   "cell_type": "code",
   "execution_count": null,
   "id": "e985ad3a",
   "metadata": {},
   "outputs": [],
   "source": [
    "2 in A"
   ]
  },
  {
   "cell_type": "code",
   "execution_count": null,
   "id": "489f4974",
   "metadata": {},
   "outputs": [],
   "source": [
    "numbers = [1,2,3,[1,2,3,],1,2,3,]\n",
    "\n",
    "def find_all_index(list_,find_value) :\n",
    "    ''' \n",
    "    찾고자 하는 find_value의 값이 어떤 index에 있는 지 모두 체크하며 \n",
    "    만일 아무 값도 없다면 빈 리스트([]) 반환\n",
    "    '''\n",
    "    idx_list = []\n",
    "    for idx,val in enumerate(list_) :\n",
    "        if find_value == val :\n",
    "            idx_list.append(idx)\n",
    "    return idx_list if idx_list else []\n",
    "\n",
    "\n",
    "\n",
    "def safe_index(list_, target) :\n",
    "    '''\n",
    "    target 변수가 list_ 속에 있는 지 먼저 체크하여 오류를 사전에 예방하고\n",
    "    존재한다면 첫 인덱스를 반환, 존재하지 않는 경우 -1 반환\n",
    "    '''\n",
    "    if target in list_ :\n",
    "        return list_.index(target)\n",
    "    else :\n",
    "        return -1\n",
    "     \n",
    "print(find_all_index(numbers, 9))\n",
    "print(safe_index(numbers, 9))"
   ]
  },
  {
   "cell_type": "markdown",
   "id": "092cf10a",
   "metadata": {},
   "source": [
    "## 1.5 원하는 요소 추출\n",
    "1. 리스트 슬라이싱 : 리스트에서 원하는 인덱스의 데이터를 추출(인덱스의 범위를 벗어나도 오류가 발생하지 않음)\n",
    "    - [from:stop:step] from부터 step-1 까지 step씩 증가하는 index의 값을 추출\n",
    "    - from 생략 시 0, stop 생략 시 끝까지, step 생략 시 1. 모두 생략도 가능(굳이?)\n",
    "    - 음수 인덱스 가능(역순으로 계산)\n",
    "\n",
    "2. <font color = 'red'>리스트 컴프리핸션</font> : 리스트에서 원하는 데이터를 추출 "
   ]
  },
  {
   "cell_type": "code",
   "execution_count": null,
   "id": "9d42b2a7",
   "metadata": {},
   "outputs": [],
   "source": [
    "numbers = [1, 3, 5, 9, 10, 12, 13, 20] # 8개\n",
    "# 짝수 번째 인덱스 값 출력\n",
    "even_idx_num = numbers[::2]\n",
    "# 거꾸로 출력\n",
    "reverse_num = numbers[::-1]\n",
    "print(even_idx_num)\n",
    "print(reverse_num)"
   ]
  },
  {
   "cell_type": "code",
   "execution_count": null,
   "id": "2d95da4e",
   "metadata": {},
   "outputs": [],
   "source": [
    "print('연습문제', '*'*50)\n",
    "numbers = [1, 3, 5, 9, 10, 12, 13, 20]\n",
    "print('# 모든 수를 가져와라')\n",
    "\n",
    "print('1안')\n",
    "answer = []\n",
    "for i in numbers :\n",
    "    answer.append(i)\n",
    "print(answer)\n",
    "\n",
    "print('-'*55)\n",
    "\n",
    "print('2안')\n",
    "answer_2 = [x for x in numbers]\n",
    "print(answer_2)\n",
    "\n",
    "print('-'*55)\n",
    "\n",
    "print('# 짝수를 가져와라')\n",
    "\n",
    "print('1안')\n",
    "answer = []\n",
    "for i in numbers :\n",
    "    if i % 2 == 0 :\n",
    "        answer.append(i)\n",
    "print(answer)\n",
    "\n",
    "print('-'*55)\n",
    "\n",
    "print('2안')\n",
    "even_num = [x for x in numbers if x%2 == 0]\n",
    "print(even_num)\n",
    "\n",
    "print('-'*55)\n",
    "\n",
    "# 2안 : 리스트컴프리핸션 : 불필요한 메모리를 줄여 효율성을 올릴 수 있음"
   ]
  },
  {
   "cell_type": "code",
   "execution_count": null,
   "id": "9b3d7542",
   "metadata": {},
   "outputs": [],
   "source": [
    "print('연습문제 1', '*'*50)\n",
    "numbers = [1, 3, 5, 9, 10, 12, 13, 20]\n",
    "print('# 10 이상의 숫자들만 추출하시오', end='\\n\\n')\n",
    "print([x for x in numbers if x >= 10])"
   ]
  },
  {
   "cell_type": "code",
   "execution_count": null,
   "id": "f538b580",
   "metadata": {},
   "outputs": [],
   "source": [
    "print('연습문제 2', '*'*50)\n",
    "fruits = ['orange', 'apple', 'mango', 'kiwi']\n",
    "print('# fruits에서 5글자가 넘는 과일만 추출하시오.', end='\\n\\n')\n",
    "print([x for x in fruits if len(x) > 5])"
   ]
  },
  {
   "cell_type": "code",
   "execution_count": null,
   "id": "531f7c6d",
   "metadata": {},
   "outputs": [],
   "source": [
    "print('연습문제 3', '*'*50)\n",
    "L = [1,2,3,4,5]\n",
    "print('# 3 이상의 요소들의 제곱수를 추출하시오.', end='\\n\\n')\n",
    "print([data**2 for data in L if data >= 3])"
   ]
  },
  {
   "cell_type": "markdown",
   "id": "b61465f8",
   "metadata": {},
   "source": [
    "## 1.6 요소 수정하기\n"
   ]
  },
  {
   "cell_type": "code",
   "execution_count": null,
   "id": "22bf6764",
   "metadata": {},
   "outputs": [],
   "source": [
    "numbers = [0,1,2,3,4,5,6,7,8,9] # range(10)\n",
    "# 인덱스를 이용해서 요소 수정\n",
    "numbers[2] = 222\n",
    "numbers"
   ]
  },
  {
   "cell_type": "code",
   "execution_count": null,
   "id": "f3d6c339",
   "metadata": {},
   "outputs": [],
   "source": [
    "# 슬라이싱을 이용해서 요소 수정(step 부분이 미포함 : 부분 리스트가 통째로 수정)\n",
    "numbers[1:4] = ['a', 'b', 'c', 'ㅋ', 'ㅎ'] # 할당 공간을 바꾸고 남은 건 shift 해서 밀어넣어라 \n",
    "numbers\n",
    "numbers[-1:-1] = ['a', 'b', 'c', 'ㅋ', 'ㅎ'] # 할당 공간을 바꾸고 남은 건 shift 해서 밀어넣어라\n",
    "print(numbers)"
   ]
  },
  {
   "cell_type": "code",
   "execution_count": null,
   "id": "212288ef",
   "metadata": {},
   "outputs": [],
   "source": [
    "# 슬라이싱을 이용해서 요소 수정(step 부분 포함 : 요소 개수가 맞아야 가능하다)\n",
    "numbers = [0,1,2,3,4,5,6,7,8,9,]\n",
    "numbers[::2] = [99]*len(numbers[::2])\n",
    "print(numbers)\n",
    "numbers.remove(99)\n",
    "print(numbers)"
   ]
  },
  {
   "cell_type": "markdown",
   "id": "4712f643",
   "metadata": {},
   "source": [
    "## 1.7 요소 삭제하기\n",
    "- pop() : 가장 마지막 인덱스 요소가 반환되고 리스트에서 삭제\n",
    "- pop(index) : index의 요소가 반환되고 리스트에서 삭제 // 인덱스가 리스트 내에서 모두 수정되며 정말 많은 시공간이 소요\n",
    "- remove(value) : 리스트 속에서 value를 찾아서 제일 앞의 요소를 삭제\n",
    "- del 변수[idx] : idx번째 요소가 삭제"
   ]
  },
  {
   "cell_type": "code",
   "execution_count": null,
   "id": "858a2f6a",
   "metadata": {},
   "outputs": [],
   "source": [
    "numbers = [ 1, 2, 3, 4, 5]\n",
    "numbers.remove(1)\n",
    "print(numbers)\n",
    "del numbers[1]\n",
    "print(numbers)\n",
    "print(numbers.pop())\n",
    "print(numbers)\n",
    "print(numbers.pop(0))\n",
    "print(numbers)\n",
    "numbers = [1,2,3,4,5]\n",
    "print(f' {numbers}, {numbers.pop()} , {numbers}')"
   ]
  },
  {
   "cell_type": "code",
   "execution_count": null,
   "id": "9fa35c59",
   "metadata": {},
   "outputs": [],
   "source": [
    "numbers = [1,2,3,4,5]\n",
    "numbers.remove(3) # 반환 값이 없고, 해당 데이터만 삭제. 해당 데이터가 없으면 오류\n",
    "print(numbers)"
   ]
  },
  {
   "cell_type": "code",
   "execution_count": null,
   "id": "9b0f545a",
   "metadata": {
    "scrolled": true
   },
   "outputs": [],
   "source": [
    "if 9 in numbers :\n",
    "    numbers.remove(A)\n",
    "else :\n",
    "    print('값 없다')"
   ]
  },
  {
   "cell_type": "code",
   "execution_count": null,
   "id": "7bd01980",
   "metadata": {},
   "outputs": [],
   "source": [
    "def safe_remove(lst, target) :\n",
    "    if target in lst :\n",
    "        lst.remove(target)\n",
    "        return'완료', lst\n",
    "    else :\n",
    "        return '해당 없음', lst\n",
    "numbers = [1,2,3,4,5,6,7,8,9,10]\n",
    "print(safe_remove(numbers,7))"
   ]
  },
  {
   "cell_type": "markdown",
   "id": "6ebcbbb4",
   "metadata": {},
   "source": [
    "## 1.8 정렬하기"
   ]
  },
  {
   "cell_type": "code",
   "execution_count": null,
   "id": "ffaffc2b",
   "metadata": {},
   "outputs": [],
   "source": [
    "numbers = [1, 9, 5, 0, 8]\n",
    "print('numbers는 변경하지 않고 정렬 :' , sorted(numbers, reverse= True))\n",
    "print('numbers :',numbers)"
   ]
  },
  {
   "cell_type": "code",
   "execution_count": null,
   "id": "87252762",
   "metadata": {},
   "outputs": [],
   "source": [
    "print(numbers)\n",
    "numbers.sort() # numbers 원본 데이터가 정렬한 결과로 바뀜 : 기본 정렬 오름차순\n",
    "numbers.reverse() # numbers[::-1]\n",
    "numbers.reverse() # numbers[::-1]\n",
    "# .reverse()는 원본을 바꿔 속도가 빠르나 원본을 유지하고 싶을 때 사용하기 힘들다.\n",
    "# [::-1]은 새로운 리스트 객체를 생성반환해 느리지만 원본을 유지하기 쉽다.\n",
    "print(numbers)"
   ]
  },
  {
   "cell_type": "markdown",
   "id": "8d19279b",
   "metadata": {},
   "source": [
    "## 1.9 복제하기"
   ]
  },
  {
   "cell_type": "code",
   "execution_count": null,
   "id": "dd2716d3",
   "metadata": {},
   "outputs": [],
   "source": [
    "# 스칼라 데이터의 복제\n",
    "i = 10 # 원본\n",
    "copy_i = i # 복제본\n",
    "print(f'원본 i : {i}, 복사본 = {copy_i}, 원본주소 = {id(i)}, 복사본 주소 = {id(copy_i)}')\n",
    "copy_i = 99\n",
    "print(f'원본 i : {i}, 복사본 = {copy_i}, 원본주소 = {id(i)}, 복사본 주소 = {id(copy_i)}')"
   ]
  },
  {
   "cell_type": "code",
   "execution_count": null,
   "id": "cb9b8797",
   "metadata": {},
   "outputs": [],
   "source": [
    "# 리스트(numpy, 배열, tensor, DataFrame, dictionary)의 복제 : 금지\n",
    "# 데이터구조에서는 변수 할당으로 해결이 불가\n",
    "numbers = [5, 8, 1] # 원본\n",
    "new_numbers = numbers # 복제본\n",
    "new_numbers[0] = 9\n",
    "print('원본 :', numbers)\n",
    "print('복사본 :', new_numbers)"
   ]
  },
  {
   "cell_type": "code",
   "execution_count": null,
   "id": "8da9b975",
   "metadata": {},
   "outputs": [],
   "source": [
    "# 얕은 복사(할당)\n",
    "numbers = [5,8,1] # 원본\n",
    "new_numbers = numbers # 얕은 복사(할당)\n",
    "print(f'원본 데이터 : {numbers} 원본주소 {id(numbers)}')\n",
    "print(f'복제 데이터 : {new_numbers} 복제주소 {id(new_numbers)}')\n",
    "new_numbers[0] = 7\n",
    "new_numbers.sort()\n",
    "print('복제 데이터 지지고 볶고')\n",
    "print(f'원본 데이터 : {numbers} 원본주소 {id(numbers)}')\n",
    "print(f'복제 데이터 : {new_numbers} 복제주소 {id(new_numbers)}')"
   ]
  },
  {
   "cell_type": "code",
   "execution_count": null,
   "id": "e1d477ee",
   "metadata": {},
   "outputs": [],
   "source": [
    "# ★★ 깊은 복사(복제)\n",
    "numbers = [5,8,1] # 원본\n",
    "new_numbers = numbers.copy() # 깊은 복사(복제)\n",
    "print(f'원본 데이터 : {numbers} 원본주소 {id(numbers)}')\n",
    "print(f'복제 데이터 : {new_numbers} 복제주소 {id(new_numbers)}')\n",
    "new_numbers[0] = 7\n",
    "new_numbers.sort()\n",
    "del new_numbers[0]\n",
    "new_numbers.append(99)\n",
    "print('복제 데이터 지지고 볶고')\n",
    "print(f'원본 데이터 : {numbers} 원본주소 {id(numbers)}')\n",
    "print(f'복제 데이터 : {new_numbers} 복제주소 {id(new_numbers)}')"
   ]
  },
  {
   "cell_type": "code",
   "execution_count": null,
   "id": "d87790e0",
   "metadata": {},
   "outputs": [],
   "source": [
    "numbers.clear() # 리스트의 요소를 모두 삭제\n",
    "print(numbers)"
   ]
  },
  {
   "cell_type": "markdown",
   "id": "3cce3043",
   "metadata": {},
   "source": [
    "# 2절 튜플\n",
    "## 튜플은 리스트와 유사하다\n",
    "***\n",
    "- 리스트와 유사하지만 읽기 전용. 수정이 필요 없는 데이터에서 사용\n",
    "- 수정 불가하므로 튜플에 데이터 수정, 추가, 삭제 불가 (제공되는 함수도 많지 않다.)\n",
    "- (), tuple() 이용해서 생성\n",
    "***"
   ]
  },
  {
   "cell_type": "code",
   "execution_count": null,
   "id": "e09ad805",
   "metadata": {},
   "outputs": [],
   "source": [
    "# city = ('서울', '부산', '인천', '목포')\n",
    "# 파이썬은 여러개의 값이 전달될 때 튜플 타입으로 전달\n",
    "city = '서울', '부산', '인천', '목포'\n",
    "print(type(city))\n",
    "print(city)"
   ]
  },
  {
   "cell_type": "code",
   "execution_count": null,
   "id": "4aee80c0",
   "metadata": {},
   "outputs": [],
   "source": [
    "# join 함수는 튜플과 리스트 모두 사용이 가능하네!\n",
    "city = ['서울', '부산', '인천', '목포']\n",
    "print(' '.join(city))\n",
    "city = ('서울', '부산', '인천', '목포')\n",
    "print(' '.join(city))"
   ]
  },
  {
   "cell_type": "code",
   "execution_count": null,
   "id": "a2c8acfd",
   "metadata": {},
   "outputs": [],
   "source": [
    "l = ['서울'] # 요소가 1개인 리스트 타입\n",
    "print(type(l), ㅣ )"
   ]
  },
  {
   "cell_type": "code",
   "execution_count": null,
   "id": "fee76238",
   "metadata": {},
   "outputs": [],
   "source": [
    "t = ('서울',) # 요소가 1개인 튜플 타입 : str 과 다르지 않다. : 생각해보면 괄호를 생략해서 할당하니 다를 게 없네\n",
    "print(type(t), t) # 반점을 찍어서 튜플로 인식시킬 수 있다.\n",
    "t = ('서울', 3) # 요소가 2개인 튜플 타입 \n",
    "print(type(t), t )"
   ]
  },
  {
   "cell_type": "code",
   "execution_count": null,
   "id": "590541f0",
   "metadata": {},
   "outputs": [],
   "source": [
    "numbers = (1, 2, 3)\n",
    "# numbers.remove(3) 수정하기 위한 함수는 제공되지 않음\n",
    "# numbers.append(4)\n",
    "# numbers.pop()\n",
    "# numbers.sort()\n",
    "print(sum(numbers), min(numbers), max(numbers), sorted(numbers)) \n",
    "# sorted의 경우 요소를 가지고 정렬해 새로운 리스트를 반환하여 활용이 가능하다"
   ]
  },
  {
   "cell_type": "code",
   "execution_count": null,
   "id": "d9561fe5",
   "metadata": {},
   "outputs": [],
   "source": [
    "numbers = (0, 1, 2, (1, 2), 0, 1, 2)\n",
    "numbers.count(2), numbers.count(9)"
   ]
  },
  {
   "cell_type": "code",
   "execution_count": null,
   "id": "cfa822b0",
   "metadata": {},
   "outputs": [],
   "source": [
    "if 9 in numbers :\n",
    "    print(numbers.index(9))\n",
    "else : \n",
    "    print('값이 없다')"
   ]
  },
  {
   "cell_type": "code",
   "execution_count": null,
   "id": "77dd0698",
   "metadata": {},
   "outputs": [],
   "source": [
    "# def safe_index(lst, item) :\n",
    "#     '''\n",
    "#     리스트 속 item의 유무를 체크하고\n",
    "#     item이 있다면 item 요소의 인덱스를 반환하고\n",
    "#     없으면 -1을 반환\n",
    "#     lst : 나열 가능한데이터\n",
    "#     item : 찾을 데이터\n",
    "#     '''\n",
    "# #     if item in lst :\n",
    "# #         return lst.index(item)\n",
    "# #     else :\n",
    "# #         return -1\n",
    "#     return lst.index(item) if item in lst else -1\n",
    "# numbers = (1,2,3,4,5,6,7)\n",
    "# print(safe_index(numbers, 2), safe_index(numbers, -9))"
   ]
  },
  {
   "cell_type": "code",
   "execution_count": 5,
   "id": "f0c5f6cd",
   "metadata": {},
   "outputs": [
    {
     "name": "stdout",
     "output_type": "stream",
     "text": [
      "3\n"
     ]
    }
   ],
   "source": [
    "from save import safe_index\n",
    "numbers = (1,2,3,45,5,6,7,8,9,4,0)\n",
    "print(safe_index(numbers,45))"
   ]
  },
  {
   "cell_type": "code",
   "execution_count": 10,
   "id": "b241a33f",
   "metadata": {
    "collapsed": true
   },
   "outputs": [
    {
     "data": {
      "text/plain": [
       "(1,\n",
       " 2,\n",
       " 3,\n",
       " 45,\n",
       " 5,\n",
       " 6,\n",
       " 7,\n",
       " 8,\n",
       " 9,\n",
       " 4,\n",
       " 0,\n",
       " 1,\n",
       " 2,\n",
       " 3,\n",
       " 45,\n",
       " 5,\n",
       " 6,\n",
       " 7,\n",
       " 8,\n",
       " 9,\n",
       " 4,\n",
       " 0,\n",
       " 1,\n",
       " 2,\n",
       " 3,\n",
       " 45,\n",
       " 5,\n",
       " 6,\n",
       " 7,\n",
       " 8,\n",
       " 9,\n",
       " 4,\n",
       " 0,\n",
       " 1,\n",
       " 2,\n",
       " 3,\n",
       " 45,\n",
       " 5,\n",
       " 6,\n",
       " 7,\n",
       " 8,\n",
       " 9,\n",
       " 4,\n",
       " 0,\n",
       " 1,\n",
       " 2,\n",
       " 3,\n",
       " 45,\n",
       " 5,\n",
       " 6,\n",
       " 7,\n",
       " 8,\n",
       " 9,\n",
       " 4,\n",
       " 0,\n",
       " 1,\n",
       " 2,\n",
       " 3,\n",
       " 45,\n",
       " 5,\n",
       " 6,\n",
       " 7,\n",
       " 8,\n",
       " 9,\n",
       " 4,\n",
       " 0,\n",
       " 1,\n",
       " 2,\n",
       " 3,\n",
       " 45,\n",
       " 5,\n",
       " 6,\n",
       " 7,\n",
       " 8,\n",
       " 9,\n",
       " 4,\n",
       " 0,\n",
       " 1,\n",
       " 2,\n",
       " 3,\n",
       " 45,\n",
       " 5,\n",
       " 6,\n",
       " 7,\n",
       " 8,\n",
       " 9,\n",
       " 4,\n",
       " 0,\n",
       " 1,\n",
       " 2,\n",
       " 3,\n",
       " 45,\n",
       " 5,\n",
       " 6,\n",
       " 7,\n",
       " 8,\n",
       " 9,\n",
       " 4,\n",
       " 0,\n",
       " 1,\n",
       " 2,\n",
       " 3,\n",
       " 45,\n",
       " 5,\n",
       " 6,\n",
       " 7,\n",
       " 8,\n",
       " 9,\n",
       " 4,\n",
       " 0,\n",
       " 1,\n",
       " 2,\n",
       " 3,\n",
       " 45,\n",
       " 5,\n",
       " 6,\n",
       " 7,\n",
       " 8,\n",
       " 9,\n",
       " 4,\n",
       " 0,\n",
       " 1,\n",
       " 2,\n",
       " 3,\n",
       " 45,\n",
       " 5,\n",
       " 6,\n",
       " 7,\n",
       " 8,\n",
       " 9,\n",
       " 4,\n",
       " 0,\n",
       " 1,\n",
       " 2,\n",
       " 3,\n",
       " 45,\n",
       " 5,\n",
       " 6,\n",
       " 7,\n",
       " 8,\n",
       " 9,\n",
       " 4,\n",
       " 0,\n",
       " 1,\n",
       " 2,\n",
       " 3,\n",
       " 45,\n",
       " 5,\n",
       " 6,\n",
       " 7,\n",
       " 8,\n",
       " 9,\n",
       " 4,\n",
       " 0,\n",
       " 1,\n",
       " 2,\n",
       " 3,\n",
       " 45,\n",
       " 5,\n",
       " 6,\n",
       " 7,\n",
       " 8,\n",
       " 9,\n",
       " 4,\n",
       " 0,\n",
       " 1,\n",
       " 2,\n",
       " 3,\n",
       " 45,\n",
       " 5,\n",
       " 6,\n",
       " 7,\n",
       " 8,\n",
       " 9,\n",
       " 4,\n",
       " 0)"
      ]
     },
     "execution_count": 10,
     "metadata": {},
     "output_type": "execute_result"
    }
   ],
   "source": [
    "numbers += numbers ; numbers = numbers * 2\n",
    "numbers"
   ]
  },
  {
   "cell_type": "code",
   "execution_count": 15,
   "id": "36ef9ba6",
   "metadata": {},
   "outputs": [
    {
     "name": "stdout",
     "output_type": "stream",
     "text": [
      "(4, 16, 36)\n",
      "(4, 16, 36)\n",
      "([4, 16, 36],)\n"
     ]
    }
   ],
   "source": [
    "# ex. 짝수 요소들을 추출하여 제곱한 데이터를 튜플로 출력\n",
    "numbers = (1,2,3,4,5,6)\n",
    "print(tuple([num**2 for num in numbers if not num%2]))\n",
    "print(tuple(num**2 for num in numbers if not num%2))\n",
    "print(([num**2 for num in numbers if not num%2],))"
   ]
  },
  {
   "cell_type": "markdown",
   "id": "7d992e19",
   "metadata": {},
   "source": [
    "# 3절 딕셔너리\n",
    "***"
   ]
  },
  {
   "cell_type": "markdown",
   "id": "19e72a02",
   "metadata": {},
   "source": [
    "**'홍길동', 80, 90, 100을 저장하려고 함.**\n",
    "```\n",
    "물론 리스트 형태로 가능하나 데이터 관리를 좀 더 용이하게 하기 위해 딕셔너리 구조를 사용한다.\n",
    "\n",
    "name = '홍길동', kor = 80, eng = 100, mat = 90** ;\n",
    "\n",
    "score = {\n",
    "        'name' : '홍길동',\n",
    "        'kor' : 80,\n",
    "        'eng' : 100,\n",
    "        'mat' : 90\n",
    "        }\n",
    "```\n",
    "\n",
    "- 중괄호{} 를 이용해서 key - value 쌍으로 구성된 자료구조\n",
    "- key는 중복불가 : 유일한 값만 가능. list는 사용 불가\n",
    "- value는 어떤 값이던 사용이 가능하다. 중복 또한 가능.\n",
    "- 인덱스를 이용한 참조 지원 안 함.\n",
    "\n"
   ]
  },
  {
   "cell_type": "code",
   "execution_count": 28,
   "id": "e8f1cefe",
   "metadata": {},
   "outputs": [],
   "source": [
    "dic = {\n",
    "    'name' : '홍길동',\n",
    "    1:22,\n",
    "    (1,2) : [1,2],\n",
    "}"
   ]
  },
  {
   "cell_type": "code",
   "execution_count": 29,
   "id": "9d9543c8",
   "metadata": {
    "collapsed": true
   },
   "outputs": [
    {
     "name": "stdout",
     "output_type": "stream",
     "text": [
      "<class 'dict'>\n",
      "{'name': '홍길동', 1: 22, (1, 2): [1, 2]}\n",
      "데이터 개수 : 3\n"
     ]
    }
   ],
   "source": [
    "print(type(dic))\n",
    "print(dic)\n",
    "print('데이터 개수 :', len(dic)) # key값을 기준으로 가져온다."
   ]
  },
  {
   "cell_type": "code",
   "execution_count": 54,
   "id": "9b69531c",
   "metadata": {
    "collapsed": true
   },
   "outputs": [
    {
     "data": {
      "text/plain": [
       "({'fruits': 'apple', 'number': 12, 'act': 'golf'}, dict)"
      ]
     },
     "execution_count": 54,
     "metadata": {},
     "output_type": "execute_result"
    }
   ],
   "source": [
    "my_favorite = {'fruits' :'apple', 'number' : 12, 'act' : 'golf'} # key는 보통 문자열을 사용하는 것이 일반적.\n",
    "my_favorite, type(my_favorite)"
   ]
  },
  {
   "cell_type": "code",
   "execution_count": 60,
   "id": "37db5064",
   "metadata": {
    "collapsed": true
   },
   "outputs": [
    {
     "name": "stdout",
     "output_type": "stream",
     "text": [
      "None\n",
      "-\n",
      "{'fruits': 'apple', 'act': 'golf'}\n",
      "{'fruits': 'apple', 'act': 'golf', 'number': 5}\n"
     ]
    }
   ],
   "source": [
    "# print(my_favorite['people']) # 없는 키 값을 **인덱스** 방식으로 참조 시 에러\n",
    "print(my_favorite.get('gender')) # ★ 오류의 경우를 줄일 수 있음. \n",
    "print(my_favorite.get('gender', '-')) # 없는 key 를 get 함수로 참조 시 두번째 인자를 반환\n",
    "del my_favorite['number']\n",
    "print(my_favorite)\n",
    "my_favorite['number'] = 5\n",
    "print(my_favorite)"
   ]
  },
  {
   "cell_type": "code",
   "execution_count": 79,
   "id": "c74060a8",
   "metadata": {},
   "outputs": [
    {
     "name": "stdout",
     "output_type": "stream",
     "text": [
      "fruits 수정 후 : {'fruits': 'mango', 'number': 12, 'act': 'golf'}\n",
      "people 추가 후 : {'fruits': 'mango', 'number': 12, 'act': 'golf', 'people': '홍길동'}\n",
      "removed_data : 12\n",
      "number 제거 후 : {'fruits': 'mango', 'act': 'golf', 'people': '홍길동'}\n"
     ]
    }
   ],
   "source": [
    "# 딕셔너리 수정\n",
    "my_favorite = {'fruits' :'apple', 'number' : 12, 'act' : 'golf'}\n",
    "# my_favorite['number'] = 1,2\n",
    "my_favorite['fruits'] = 'mango' # 데이터 수정\n",
    "print('fruits 수정 후 :', my_favorite)\n",
    "my_favorite['people'] = '홍길동' # 데이터 추가\n",
    "print('people 추가 후 :', my_favorite)\n",
    "# del my_favorite['fruits'] # 데이터 제거\n",
    "# print('fruits 제거 후 :', my_favorite)\n",
    "remove_data = my_favorite.pop('number') # number의 값을 반환 후 제거\n",
    "print('removed_data :', remove_data)\n",
    "print('number 제거 후 :', my_favorite)"
   ]
  },
  {
   "cell_type": "code",
   "execution_count": 83,
   "id": "f7c1afd4",
   "metadata": {},
   "outputs": [],
   "source": [
    "# for 문을 이용한 튜플(리스트) 출력\n",
    "my_tup = ('홍길동', 30, '010-9999-9999',)"
   ]
  },
  {
   "cell_type": "code",
   "execution_count": 92,
   "id": "03d3d716",
   "metadata": {},
   "outputs": [
    {
     "name": "stdout",
     "output_type": "stream",
     "text": [
      "0번째 데이터 : 홍길동\n",
      "1번째 데이터 : 30\n",
      "2번째 데이터 : 010-9999-9999\n"
     ]
    }
   ],
   "source": [
    "for idx,data in enumerate(my_tup) :\n",
    "    print(f'{idx}번째 데이터 : {data}')"
   ]
  },
  {
   "cell_type": "code",
   "execution_count": 104,
   "id": "48da9789",
   "metadata": {
    "collapsed": true
   },
   "outputs": [
    {
     "name": "stdout",
     "output_type": "stream",
     "text": [
      "name : 홍길동\n",
      "age : 30\n",
      "tel : 010-9999-9999\n",
      "\n",
      "name : 홍길동\n",
      "age : 30\n",
      "tel : 010-9999-9999\n",
      "\n",
      "홍길동\n",
      "30\n",
      "010-9999-9999\n",
      "\n",
      "name\n",
      "age\n",
      "tel\n"
     ]
    }
   ],
   "source": [
    "my_dic = {'name' : '홍길동', 'age' : 30, 'tel' : '010-9999-9999'}\n",
    "\n",
    "for key in my_dic :\n",
    "#     print(f'{key}') # 실무에서 사용할 일이 거의 없다\n",
    "#     print(f'{key} : {my_dic.get(key)}') # 실무에서 사용할 일이 거의 없다\n",
    "    print(f'{key} : {my_dic[key]}') # 실무에서 사용할 일이 거의 없다\n",
    "    \n",
    "print()\n",
    "for key, val in my_dic.items() : # .items(), .keys(), .values() ***items() : 키와 값 모두 추출\n",
    "    print(f'{key} : {val}')\n",
    "print()\n",
    "for val in my_dic.values() :  # 값 들만 추출\n",
    "    print(f'{val}')\n",
    "print()\n",
    "for key in my_dic.keys() : # 키 들만 추출 **생략이 가능하다**\n",
    "    print(f'{key}')"
   ]
  },
  {
   "cell_type": "markdown",
   "id": "4c6380f4",
   "metadata": {},
   "source": [
    "## 3.1 딕셔너리의 items()는 enumerate() 사용이 가능하다."
   ]
  },
  {
   "cell_type": "code",
   "execution_count": 112,
   "id": "9caa7a1e",
   "metadata": {},
   "outputs": [
    {
     "name": "stdout",
     "output_type": "stream",
     "text": [
      "[(0, ('name', '홍길동')), (1, ('age', 30)), (2, ('tel', '010-9999-9999'))]\n",
      "1번째 요소 : name = 홍길동\n",
      "2번째 요소 :  age = 30\n",
      "3번째 요소 :  tel = 010-9999-9999\n"
     ]
    }
   ],
   "source": [
    "my_dic = {'name' : '홍길동', 'age' : 30, 'tel' : '010-9999-9999'}\n",
    "print(list(enumerate(my_dic.items()))) # enumerate : 가상의 idx + (key, val) 형태로 구성\n",
    "for idx, (key, val) in enumerate(my_dic.items()) :\n",
    "    print(f'{idx + 1}번째 요소 : {key:>4} = {val}')"
   ]
  },
  {
   "cell_type": "code",
   "execution_count": 120,
   "id": "14e273de",
   "metadata": {},
   "outputs": [
    {
     "name": "stdout",
     "output_type": "stream",
     "text": [
      "False\n",
      "True\n",
      "True\n"
     ]
    }
   ],
   "source": [
    "print(\"홍길동\" in my_dic) # 키값에 접근, False 반환\n",
    "print(\"홍길동\" in my_dic.values())\n",
    "print((\"name\",\"홍길동\") in my_dic.items()) # 키, 값은 튜플 형태로 확인 가능"
   ]
  },
  {
   "cell_type": "code",
   "execution_count": 124,
   "id": "0692af39",
   "metadata": {},
   "outputs": [
    {
     "name": "stdout",
     "output_type": "stream",
     "text": [
      "{'fruits': 'apple', 'number': 12, 'people': '홍길동'}\n",
      "{'fruits': 'apple', 'number': 12, 'people': '홍길동'}\n"
     ]
    }
   ],
   "source": [
    "# 얕은 복사\n",
    "my_favorite = {'fruits' : 'apple', 'number' : 12} # 원본\n",
    "new_favorite = my_favorite # 복제본(얕은 복사)\n",
    "new_favorite['people'] = '홍길동'\n",
    "print(my_favorite)\n",
    "print(new_favorite)"
   ]
  },
  {
   "cell_type": "code",
   "execution_count": 126,
   "id": "81721b63",
   "metadata": {},
   "outputs": [
    {
     "name": "stdout",
     "output_type": "stream",
     "text": [
      "{'fruits': 'apple', 'number': 12}\n",
      "{'fruits': 'apple', 'number': 12, 'people': '홍길동'}\n"
     ]
    }
   ],
   "source": [
    "# 깊은 복사\n",
    "my_favorite = {'fruits' : 'apple', 'number' : 12} # 원본\n",
    "new_favorite = my_favorite.copy() # 복제본(깊은 복사)\n",
    "new_favorite['people'] = '홍길동'\n",
    "print(my_favorite)\n",
    "print(new_favorite)"
   ]
  },
  {
   "cell_type": "markdown",
   "id": "62f1a231",
   "metadata": {},
   "source": [
    "# 4절 셋(집합)\n",
    "***\n",
    "- 중복을 허용하지 않는 집합 **(순서 x == index X)**\n",
    "- 중괄호{} 혹은 set()를 이용해서 셋 생성\n",
    "- 추가 : add(), update()\n",
    "- 집합 연산자 : |(합집합) // &(교집합) // -(차집합)\n",
    "- 데이터 삭제 : remove()"
   ]
  },
  {
   "cell_type": "code",
   "execution_count": 128,
   "id": "3b6795d6",
   "metadata": {},
   "outputs": [
    {
     "name": "stdout",
     "output_type": "stream",
     "text": [
      "{'banana', 'orange'}\n"
     ]
    }
   ],
   "source": [
    "fruits = {'banana', 'orange', 'banana','banana','banana','banana','banana','banana','banana','banana','banana','banana','banana'}\n",
    "print(fruits)"
   ]
  },
  {
   "cell_type": "code",
   "execution_count": 210,
   "id": "6bcf4d64",
   "metadata": {},
   "outputs": [
    {
     "name": "stdout",
     "output_type": "stream",
     "text": [
      "{1, 20, 21, 22}\n"
     ]
    }
   ],
   "source": [
    "s1 = set([1,20,1,21,1,22,])\n",
    "print(s1)"
   ]
  },
  {
   "cell_type": "code",
   "execution_count": 216,
   "id": "d8319777",
   "metadata": {},
   "outputs": [
    {
     "data": {
      "text/plain": [
       "{('fruits', 'apple'), ('number', 12)}"
      ]
     },
     "execution_count": 216,
     "metadata": {},
     "output_type": "execute_result"
    }
   ],
   "source": [
    "# set 함수를 이용해서 딕셔너리를 셋으로 전환할 때는 키 값만 적용\n",
    "my_favorite = {'fruits' : 'apple', 'number' : 12}\n",
    "set(my_favorite.items()) # 딕셔너리 키 값만 들어간다. .values()는 값이 들어감. items()도 들어가기는 하는데.. 키와 값이 튜플형태로 집합안에 들어가네?"
   ]
  },
  {
   "cell_type": "markdown",
   "id": "ff1d2ec1",
   "metadata": {},
   "source": [
    "## 데이터 추가하기\n",
    "***\n",
    "- add() : 기본 자료형, 튜플데이터 하나의 요소를 추가할 경우\n",
    "- update() : extend 개념, 리스트, 튜플 속 모든 요소, 딕셔너리, 셋 요소 하나하나씩 추가 할 경우. dict 사용 시 key만 추가(.values()하면 값도 가능)"
   ]
  },
  {
   "cell_type": "code",
   "execution_count": 235,
   "id": "dd1de730",
   "metadata": {},
   "outputs": [
    {
     "data": {
      "text/plain": [
       "{1, 2, 3, 4, 5, 6, 7, 8}"
      ]
     },
     "execution_count": 235,
     "metadata": {},
     "output_type": "execute_result"
    }
   ],
   "source": [
    "s2 = {1,1,2,3}\n",
    "s2.add(4)\n",
    "s2.update([5,6,7,8,8])\n",
    "s3 = {10,11,12}\n",
    "s2"
   ]
  },
  {
   "cell_type": "code",
   "execution_count": 255,
   "id": "ab45ec8f",
   "metadata": {},
   "outputs": [
    {
     "data": {
      "text/plain": [
       "{0, 1, 2, 3, 4, 7}"
      ]
     },
     "execution_count": 255,
     "metadata": {},
     "output_type": "execute_result"
    }
   ],
   "source": [
    "s = {1,0,4,2,3,7}\n",
    "s.add(True) # True == 1의 개념으로 집합 안에 1이 있으면 더이상 추가되지 않음\n",
    "s.add(False) # False == 0의 개념으로 집합 안에 0이 있으면 더이상 추가되지 않음\n",
    "s\n",
    "# 논리값 False 는 False, 0으로\n",
    "# 논리값 True 는 True, 1으로"
   ]
  },
  {
   "cell_type": "code",
   "execution_count": 257,
   "id": "87fca4b8",
   "metadata": {},
   "outputs": [
    {
     "data": {
      "text/plain": [
       "{2, 3, 4, 7}"
      ]
     },
     "execution_count": 257,
     "metadata": {},
     "output_type": "execute_result"
    }
   ],
   "source": [
    "s = {1,0,4,2,3,7}\n",
    "s.remove(True)\n",
    "s.remove(False)\n",
    "s"
   ]
  },
  {
   "cell_type": "markdown",
   "id": "7c11d570",
   "metadata": {},
   "source": [
    "## 연산 : |(합집합) &(교집합) -(차집합)\n",
    "***\n",
    "\n",
    "&, | : 집합 연산자, 논리 연산자, 비트 연산자 // 논리 연산할 때 &, | 피하고 and or 위주로 사용"
   ]
  },
  {
   "cell_type": "code",
   "execution_count": 260,
   "id": "226dc73c",
   "metadata": {},
   "outputs": [
    {
     "name": "stdout",
     "output_type": "stream",
     "text": [
      "{1, 2, 3, 4, 5, 6, 7} {3, 4, 5} {1, 2}\n"
     ]
    }
   ],
   "source": [
    "s1 = {1,2,3,4,5}\n",
    "s2 = {3,4,5,6,7}\n",
    "print(s1|s2, s1&s2, s1-s2)"
   ]
  },
  {
   "cell_type": "markdown",
   "id": "32b8b6a6",
   "metadata": {},
   "source": [
    "# 5절 enumerate\n",
    "***\n",
    "- 반복자 또는 순서 객체로 반복문을 처리할 때 사용하는 함수\n",
    "- 리스트, 튜플, 딕셔너리에 가상의 index를 부여, set에 가상의 index를 부여하여 사용 가능"
   ]
  },
  {
   "cell_type": "code",
   "execution_count": 279,
   "id": "eb585773",
   "metadata": {},
   "outputs": [
    {
     "name": "stdout",
     "output_type": "stream",
     "text": [
      "0.길자\n",
      "1.영자\n",
      "2.길동\n"
     ]
    }
   ],
   "source": [
    "names = {'길자', '길동', '영자','영자','영자','영자',}\n",
    "names \n",
    "for no, name in enumerate(names) : # 순서 없이 순회하며 프린트\n",
    "    print(no, '.',name, sep='')"
   ]
  },
  {
   "cell_type": "code",
   "execution_count": 313,
   "id": "fa1d6d9c",
   "metadata": {},
   "outputs": [
    {
     "name": "stdout",
     "output_type": "stream",
     "text": [
      "1안\n",
      "1번째 고객 순자님, ☎ : 010-9999-9999 주소 : 서울\n",
      "2번째 고객 길동님, ☎ : 010-8888-8888 주소 : 인천\n",
      "3번째 고객 길자님, ☎ : 010-7777-7777 주소 : 판교\n",
      "\n",
      "2안\n",
      "1번째 고객 순자 님, ☎ : 010-9999-9999  주소 : 서울 \n",
      "2번째 고객 길동 님, ☎ : 010-8888-8888  주소 : 인천 \n",
      "3번째 고객 길자 님, ☎ : 010-7777-7777  주소 : 판교 \n"
     ]
    }
   ],
   "source": [
    "names = ['순자', '길동', '길자']\n",
    "tels = ['010-9999-9999', '010-8888-8888', '010-7777-7777']\n",
    "addresses = ['서울', '인천', '판교']\n",
    "\n",
    "# 이름 : 번호 주소 형태로\n",
    "print('1안')\n",
    "for i in range(len(names)) :\n",
    "    print(f'{i+1}번째 고객 {names[i]}님, ☎ : {tels[i]} 주소 : {addresses[i]}')\n",
    "print()\n",
    "print('2안')\n",
    "zipzip = zip(names,tels,addresses)\n",
    "# print(list(zipzip)) # 정보를 순서에 맞춰 튜플 형태로 zip 객체에 저장\n",
    "for idx, (name, tel, add) in enumerate(zipzip) :\n",
    "    print(f'{idx+1}번째 고객 {name:3}님, ☎ : {tel:14s} 주소 : {add:3s}')"
   ]
  },
  {
   "cell_type": "code",
   "execution_count": 318,
   "id": "826185c1",
   "metadata": {},
   "outputs": [
    {
     "name": "stdout",
     "output_type": "stream",
     "text": [
      "{'ssas', 'phone', 'smart', 'love', 'ab'}\n"
     ]
    }
   ],
   "source": [
    "A = ['ssas', 'ab', 'love', 'smart', 'phone']\n",
    "set_A = set(A)\n",
    "print(set_A)"
   ]
  },
  {
   "cell_type": "markdown",
   "id": "99feba97",
   "metadata": {},
   "source": [
    "# 6절 연습문제"
   ]
  },
  {
   "cell_type": "markdown",
   "id": "c6f86ba7",
   "metadata": {},
   "source": [
    "## 실습형."
   ]
  },
  {
   "cell_type": "code",
   "execution_count": 319,
   "id": "dbe00b35",
   "metadata": {},
   "outputs": [
    {
     "name": "stdout",
     "output_type": "stream",
     "text": [
      "[1, 2, 3, 4, 5, 6, 7, 8, 9, 10, 100]\n"
     ]
    }
   ],
   "source": [
    "# 1.\n",
    "numbers = [1,2,3,4,5,6,7,8,9,10]\n",
    "numbers.append(100)\n",
    "print(numbers)"
   ]
  },
  {
   "cell_type": "code",
   "execution_count": 320,
   "id": "d9b6d80e",
   "metadata": {},
   "outputs": [
    {
     "name": "stdout",
     "output_type": "stream",
     "text": [
      "[1, 2, 3, 4, 5, 6, 7, 8, 9, 10, 100, 200, 300, 400, 500]\n"
     ]
    }
   ],
   "source": [
    "# 2. \n",
    "numbers.extend([200,300,400,500])\n",
    "print(numbers)"
   ]
  },
  {
   "cell_type": "code",
   "execution_count": 322,
   "id": "eba8e6d4",
   "metadata": {},
   "outputs": [
    {
     "name": "stdout",
     "output_type": "stream",
     "text": [
      "[1, 2, 3, 4, 5]\n"
     ]
    }
   ],
   "source": [
    "# 3.\n",
    "print(numbers[:5])"
   ]
  },
  {
   "cell_type": "code",
   "execution_count": 323,
   "id": "73cfdcc3",
   "metadata": {},
   "outputs": [
    {
     "name": "stdout",
     "output_type": "stream",
     "text": [
      "[1, 3, 5, 7, 9, 100, 300, 500]\n"
     ]
    }
   ],
   "source": [
    "# 4. \n",
    "print(numbers[::2])"
   ]
  },
  {
   "cell_type": "code",
   "execution_count": 334,
   "id": "264dcbd7",
   "metadata": {},
   "outputs": [
    {
     "name": "stdout",
     "output_type": "stream",
     "text": [
      "[0, 2, 0, 4, 0, 6, 0, 8, 0, 10, 0, 200, 0, 400, 0]\n"
     ]
    }
   ],
   "source": [
    "# 5.\n",
    "print([numbers[idx] if idx%2 != 0 else 0 for idx in range(len(numbers))])"
   ]
  },
  {
   "cell_type": "code",
   "execution_count": 335,
   "id": "92bed26a",
   "metadata": {},
   "outputs": [
    {
     "name": "stdout",
     "output_type": "stream",
     "text": [
      "[500, 400, 300, 200, 100, 10, 9, 8, 7, 6, 5, 4, 3, 2, 1]\n"
     ]
    }
   ],
   "source": [
    "# 6.\n",
    "print(numbers[::-1])"
   ]
  },
  {
   "cell_type": "code",
   "execution_count": 340,
   "id": "4ccf6337",
   "metadata": {},
   "outputs": [],
   "source": [
    "# 7 ~ 10 \n",
    "member_info = {'name' : '홍길동', 'age' : 20, 'address' : '서울시 마포구', 'score' : 90}"
   ]
  },
  {
   "cell_type": "code",
   "execution_count": 341,
   "id": "05c03b82",
   "metadata": {},
   "outputs": [
    {
     "name": "stdout",
     "output_type": "stream",
     "text": [
      "서울시 마포구\n"
     ]
    }
   ],
   "source": [
    "#7. address \n",
    "member_info = {'name' : '홍길동', 'age' : 20, 'address' : '서울시 마포구', 'score' : 90}\n",
    "print(member_info['address'])"
   ]
  },
  {
   "cell_type": "code",
   "execution_count": 342,
   "id": "3f5ad452",
   "metadata": {},
   "outputs": [
    {
     "name": "stdout",
     "output_type": "stream",
     "text": [
      "90\n",
      "{'name': '홍길동', 'age': 20, 'address': '서울시 마포구'}\n"
     ]
    }
   ],
   "source": [
    "# 8. score / pop\n",
    "member_info = {'name' : '홍길동', 'age' : 20, 'address' : '서울시 마포구', 'score' : 90}\n",
    "print(member_info.pop('score'))\n",
    "print(member_info)"
   ]
  },
  {
   "cell_type": "code",
   "execution_count": 344,
   "id": "b1b0bba1",
   "metadata": {},
   "outputs": [
    {
     "name": "stdout",
     "output_type": "stream",
     "text": [
      "{'name': '홍길동', 'age': 20, 'address': '서울시 서대문구'}\n"
     ]
    }
   ],
   "source": [
    "# 9. address = '서울시 서대문구'\n",
    "member_info['address'] = '서울시 서대문구'\n",
    "print(member_info)"
   ]
  },
  {
   "cell_type": "code",
   "execution_count": 345,
   "id": "3fbba12c",
   "metadata": {},
   "outputs": [
    {
     "name": "stdout",
     "output_type": "stream",
     "text": [
      "[dict_values(['홍길동', 20, '서울시 서대문구'])]\n"
     ]
    }
   ],
   "source": [
    "# 10. values() -> list\n",
    "print([member_info.values()])"
   ]
  },
  {
   "cell_type": "markdown",
   "id": "a7f0288d",
   "metadata": {},
   "source": [
    "## 서술형\n"
   ]
  },
  {
   "cell_type": "code",
   "execution_count": 346,
   "id": "55f1553a",
   "metadata": {},
   "outputs": [
    {
     "name": "stdout",
     "output_type": "stream",
     "text": [
      "['orange', 'banana']\n"
     ]
    }
   ],
   "source": [
    "# 1. 'orange', 'banana'\n",
    "L1 = ('orange', 'apple', 'banana', 'kiwi')\n",
    "new_list = [i for i in L1 if len(i)>5]\n",
    "print(new_list)"
   ]
  },
  {
   "cell_type": "code",
   "execution_count": 347,
   "id": "227afe2f",
   "metadata": {},
   "outputs": [
    {
     "name": "stdout",
     "output_type": "stream",
     "text": [
      "[0, 1, 2, 3, 4, 5, 6, 7, 8, 9]\n",
      "[5, 6, 7, 8, 9]\n",
      "[10, 9, 8, 7, 6, 5, 4, 3, 2, 1]\n",
      "[10, 12, 14, 16, 18]\n"
     ]
    }
   ],
   "source": [
    "# 2. 3번째 케이스 stop - 1 == 1까지만 반환\n",
    "print(list(range(10)))\n",
    "print(list(range(5,10)))\n",
    "print(list(range(10,0,-1)))\n",
    "print(list(range(10,20,2)))"
   ]
  },
  {
   "cell_type": "code",
   "execution_count": 350,
   "id": "190af679",
   "metadata": {},
   "outputs": [
    {
     "name": "stdout",
     "output_type": "stream",
     "text": [
      "4\n"
     ]
    }
   ],
   "source": [
    "# 3. 4개\n",
    "numbers_2d = [[1,2,3,4,5],[10,20,30,40,50],[1,3,5],[2,]]\n",
    "print(len(numbers_2d))"
   ]
  },
  {
   "cell_type": "code",
   "execution_count": 351,
   "id": "bd495c6d",
   "metadata": {},
   "outputs": [
    {
     "name": "stdout",
     "output_type": "stream",
     "text": [
      "[1, 2, 3, 4, 5, 10, 20, 30, 40, 50]\n"
     ]
    }
   ],
   "source": [
    "# 4. extend\n",
    "numbers = [1,2,3,4,5]\n",
    "# numbers.________([10,20,30,40,50])\n",
    "numbers.extend([10,20,30,40,50])\n",
    "print(numbers) # numbers = [1,2,3,4,5,10,20,30,40,50]"
   ]
  },
  {
   "cell_type": "code",
   "execution_count": 352,
   "id": "dd48d0c0",
   "metadata": {},
   "outputs": [
    {
     "name": "stdout",
     "output_type": "stream",
     "text": [
      "[0, 1, 0, 3, 0, 5, 0, 7, 0, 9]\n"
     ]
    }
   ],
   "source": [
    "# 5. 짝수번째 요소 = 0 / 실습형 5번\n",
    "numbers = list(range(10)) # 0 ~ 9\n",
    "numbers[::2] = [0] * len(numbers[::2])\n",
    "print(numbers)"
   ]
  },
  {
   "cell_type": "code",
   "execution_count": 353,
   "id": "baec6111",
   "metadata": {},
   "outputs": [
    {
     "name": "stdout",
     "output_type": "stream",
     "text": [
      "[5, 1, 6, 3, 7, 5, 8, 7, 9, 9]\n"
     ]
    }
   ],
   "source": [
    "# 6. 짝수번째 요소 5 6 7 8 9 변경(개수 동일 시 실행 가능)\n",
    "numbers = [0,1,2,3,4,5,6,7,8,9]\n",
    "numbers[::2] = numbers[5:]\n",
    "print(numbers)"
   ]
  },
  {
   "cell_type": "code",
   "execution_count": 354,
   "id": "5b5ea741",
   "metadata": {},
   "outputs": [
    {
     "name": "stdout",
     "output_type": "stream",
     "text": [
      "[0, 1, 1, 3, 2, 5, 3, 7, 4, 9]\n"
     ]
    }
   ],
   "source": [
    "# 7. 짝수번째 요소 0 1 2 3 4 변경(개수 동일 시 실행 가능)\n",
    "numbers = [0,1,2,3,4,5,6,7,8,9]\n",
    "numbers[::2] = numbers[:5]\n",
    "print(numbers)"
   ]
  },
  {
   "cell_type": "code",
   "execution_count": 360,
   "id": "fe48100f",
   "metadata": {},
   "outputs": [
    {
     "data": {
      "text/plain": [
       "10"
      ]
     },
     "execution_count": 360,
     "metadata": {},
     "output_type": "execute_result"
    }
   ],
   "source": [
    "# 8. my_dic[0] # 오류 : 인덱싱 불가\n",
    "my_dic = {\n",
    "        'a':10, \n",
    "        'b' : 20,\n",
    "        'c':30\n",
    "        }\n",
    "# my_dic[0] # 오류 : 인덱싱 불가\n",
    "my_dic['a'] # 10\n",
    "list(my_dic.items())[0][1]\n",
    "list(my_dic.values())[0]\n",
    "my_dic.get('a')"
   ]
  },
  {
   "cell_type": "code",
   "execution_count": 361,
   "id": "54771185",
   "metadata": {},
   "outputs": [
    {
     "name": "stdout",
     "output_type": "stream",
     "text": [
      "apple\n",
      "banana\n",
      "orange\n"
     ]
    }
   ],
   "source": [
    "# 9.\n",
    "fruits = ['apple', 'banana', 'orange']\n",
    "x,y,z, = fruits\n",
    "print(x)\n",
    "print(y)\n",
    "print(z)"
   ]
  },
  {
   "cell_type": "code",
   "execution_count": 362,
   "id": "9c50230f",
   "metadata": {},
   "outputs": [
    {
     "name": "stdout",
     "output_type": "stream",
     "text": [
      "3\n"
     ]
    }
   ],
   "source": [
    "# 10.\n",
    "fruits = ['apple', 'banana', 'orange']\n",
    "print(len(fruits))"
   ]
  },
  {
   "cell_type": "code",
   "execution_count": null,
   "id": "368eef1a",
   "metadata": {},
   "outputs": [],
   "source": [
    "# 11. def"
   ]
  }
 ],
 "metadata": {
  "kernelspec": {
   "display_name": "Python 3 (ipykernel)",
   "language": "python",
   "name": "python3"
  },
  "language_info": {
   "codemirror_mode": {
    "name": "ipython",
    "version": 3
   },
   "file_extension": ".py",
   "mimetype": "text/x-python",
   "name": "python",
   "nbconvert_exporter": "python",
   "pygments_lexer": "ipython3",
   "version": "3.10.9"
  },
  "toc": {
   "base_numbering": 1,
   "nav_menu": {},
   "number_sections": false,
   "sideBar": true,
   "skip_h1_title": false,
   "title_cell": "Table of Contents",
   "title_sidebar": "Contents",
   "toc_cell": false,
   "toc_position": {
    "height": "calc(100% - 180px)",
    "left": "10px",
    "top": "150px",
    "width": "205.99px"
   },
   "toc_section_display": true,
   "toc_window_display": true
  }
 },
 "nbformat": 4,
 "nbformat_minor": 5
}
