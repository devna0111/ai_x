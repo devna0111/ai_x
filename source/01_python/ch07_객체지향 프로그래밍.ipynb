{
 "cells": [
  {
   "cell_type": "code",
   "execution_count": 2,
   "id": "059e9ceb",
   "metadata": {},
   "outputs": [
    {
     "data": {
      "text/html": [
       "\n",
       "<style>\n",
       "div.container{width:86% !important;}\n",
       "div.cell.code_cell.rendered{width:100%;}\n",
       "div.CodeMirror {font-family:Consolas; font-size:12pt;}\n",
       "div.output {font-size:12pt; font-weight:bold;}\n",
       "div.input {font-family:Consolas; fo\n",
       "nt-size:12pt;}\n",
       "div.prompt {min-width:70px;}\n",
       "div#toc-wrapper{padding-top:130px;}\n",
       "div.text_cell_render ul li{font-size:12pt;padding:5px;}\n",
       "table.dataframe{font-size:15px;}\n",
       "</style>\n"
      ],
      "text/plain": [
       "<IPython.core.display.HTML object>"
      ]
     },
     "metadata": {},
     "output_type": "display_data"
    }
   ],
   "source": [
    "from IPython.display import display, HTML\n",
    "display(HTML(\"\"\"\n",
    "<style>\n",
    "div.container{width:86% !important;}\n",
    "div.cell.code_cell.rendered{width:100%;}\n",
    "div.CodeMirror {font-family:Consolas; font-size:12pt;}\n",
    "div.output {font-size:12pt; font-weight:bold;}\n",
    "div.input {font-family:Consolas; fo\n",
    "nt-size:12pt;}\n",
    "div.prompt {min-width:70px;}\n",
    "div#toc-wrapper{padding-top:130px;}\n",
    "div.text_cell_render ul li{font-size:12pt;padding:5px;}\n",
    "table.dataframe{font-size:15px;}\n",
    "</style>\n",
    "\"\"\"))"
   ]
  },
  {
   "cell_type": "markdown",
   "id": "3d777c65",
   "metadata": {},
   "source": [
    "<b><font size = 5, color = 'red'> ch07 객체지향 프로그래밍 </font></b>\n",
    "\n",
    "- 클래스는 보통 대문자로 시작한다."
   ]
  },
  {
   "cell_type": "code",
   "execution_count": 8,
   "id": "3e0912cf",
   "metadata": {},
   "outputs": [
    {
     "name": "stdout",
     "output_type": "stream",
     "text": [
      "홍길동 남자 MBC\n",
      "홍길쑥 None MBC\n",
      "{'name': '홍길동', 'gender': '남자', 'academy': 'MBC'}\n"
     ]
    }
   ],
   "source": [
    "person1 = {'name' : '홍길동', 'gender' : '남자', 'academy' : 'MBC'}\n",
    "person2 = {'name' : '홍길숙', 'sender' : '여자', 'academy' : 'MBC'}\n",
    "print(person1.get('name', 'None'),person1.get('gender', 'None'),person1.get('academy', 'None'))\n",
    "person2['name'] = '홍길쑥'\n",
    "print(person2.get('name'),person2.get('gender'),person2.get('academy'))\n",
    "print(person1)"
   ]
  },
  {
   "cell_type": "code",
   "execution_count": 52,
   "id": "2574af3b",
   "metadata": {},
   "outputs": [],
   "source": [
    "class Person :\n",
    "    accademy = 'MBC' # 클래스 변수\n",
    "    def __init__(self,name,gender) :\n",
    "        self.name = name\n",
    "        self.gender = gender\n",
    "    def print_info(self) :\n",
    "        print(f'{self.academy} 소속 {self.name}님은 {self.gender}입니다.')"
   ]
  },
  {
   "cell_type": "code",
   "execution_count": 53,
   "id": "05094b22",
   "metadata": {},
   "outputs": [
    {
     "name": "stdout",
     "output_type": "stream",
     "text": [
      "Person 객체를 소멸시킵니다. 홍길동\n"
     ]
    },
    {
     "ename": "TypeError",
     "evalue": "Person.__init__() got an unexpected keyword argument 'academy'",
     "output_type": "error",
     "traceback": [
      "\u001b[1;31m---------------------------------------------------------------------------\u001b[0m",
      "\u001b[1;31mTypeError\u001b[0m                                 Traceback (most recent call last)",
      "Cell \u001b[1;32mIn[53], line 1\u001b[0m\n\u001b[1;32m----> 1\u001b[0m p1 \u001b[38;5;241m=\u001b[39m \u001b[43mPerson\u001b[49m\u001b[43m(\u001b[49m\u001b[38;5;124;43m'\u001b[39;49m\u001b[38;5;124;43m종혁\u001b[39;49m\u001b[38;5;124;43m'\u001b[39;49m\u001b[43m,\u001b[49m\u001b[38;5;124;43m'\u001b[39;49m\u001b[38;5;124;43m남자\u001b[39;49m\u001b[38;5;124;43m'\u001b[39;49m\u001b[43m,\u001b[49m\u001b[43macademy\u001b[49m\u001b[43m \u001b[49m\u001b[38;5;241;43m=\u001b[39;49m\u001b[43m \u001b[49m\u001b[38;5;124;43m'\u001b[39;49m\u001b[38;5;124;43m무직\u001b[39;49m\u001b[38;5;124;43m'\u001b[39;49m\u001b[43m)\u001b[49m\n",
      "\u001b[1;31mTypeError\u001b[0m: Person.__init__() got an unexpected keyword argument 'academy'"
     ]
    }
   ],
   "source": [
    "# p1 = Person('종혁','남자',academy = '무직')"
   ]
  },
  {
   "cell_type": "code",
   "execution_count": 76,
   "id": "a19d2353",
   "metadata": {},
   "outputs": [],
   "source": [
    "class Person :\n",
    "#    academy='MBC' : 클래스변수\n",
    "    def __init__(self,name,gender,academy='MBC') : # 생성자 함수\n",
    "        self.name = name # 인스턴스 변수\n",
    "        self.gender = gender \n",
    "        self.academy = academy\n",
    "    \n",
    "    def __str__(self) :\n",
    "        return f'{self.name}은/는 {self.gender}입니다. {self.academy} 소속입니다.'\n",
    "    \n",
    "    def print_info(self) :\n",
    "        print(f'{self.academy} 소속 {self.name}님은 {self.gender}입니다.')"
   ]
  },
  {
   "cell_type": "code",
   "execution_count": 77,
   "id": "583a6ac2",
   "metadata": {},
   "outputs": [],
   "source": [
    "p1 = Person('홍길동','남자','프로그래머스')"
   ]
  },
  {
   "cell_type": "code",
   "execution_count": 78,
   "id": "bfb40d3d",
   "metadata": {},
   "outputs": [],
   "source": [
    "p2 = Person('홍길숙','여자', '멀티캠퍼스')"
   ]
  },
  {
   "cell_type": "code",
   "execution_count": 79,
   "id": "fddee3b6",
   "metadata": {},
   "outputs": [
    {
     "name": "stdout",
     "output_type": "stream",
     "text": [
      "프로그래머스 소속 홍길동님은 남자입니다.\n",
      "멀티캠퍼스 소속 홍길숙님은 여자입니다.\n"
     ]
    }
   ],
   "source": [
    "p1.print_info()\n",
    "p2.print_info()"
   ]
  },
  {
   "cell_type": "code",
   "execution_count": 80,
   "id": "ca58fcfe",
   "metadata": {},
   "outputs": [
    {
     "name": "stdout",
     "output_type": "stream",
     "text": [
      "CBC 소속 못난이님은 남자입니다.\n",
      "못난이은/는 남자입니다. CBC 소속입니다.\n",
      "홍길숙은/는 여자입니다. 멀티캠퍼스 소속입니다.\n"
     ]
    }
   ],
   "source": [
    "p1.name = '못난이'\n",
    "p1.academy = 'CBC'\n",
    "p1.print_info()\n",
    "print(p1.__str__())\n",
    "print(p2.__str__())"
   ]
  },
  {
   "cell_type": "markdown",
   "id": "2aa0abac",
   "metadata": {},
   "source": [
    "클래스 설계도 안에는 클래스 설계도와 클래스 변수가 항상 메모리에 있어 참조하여 빠르게 구할 수 있다."
   ]
  },
  {
   "cell_type": "markdown",
   "id": "a52e370f",
   "metadata": {},
   "source": [
    "# 1절 객체와 클래스\n",
    "class 클래스명(상속받을 클래스명) :\n",
    "    생성자, 변수나 함수들"
   ]
  },
  {
   "cell_type": "code",
   "execution_count": 83,
   "id": "cbeb9c4d",
   "metadata": {},
   "outputs": [],
   "source": [
    "class Person :\n",
    "    '''\n",
    "    Person 클래스는 이러한 내용을 갖고 있습니다. 클래스 독스트링 지원\n",
    "    생성자 함수가 없을 경우 디폴트 생성자 함수가 자동 생성\n",
    "    '''\n",
    "    pass"
   ]
  },
  {
   "cell_type": "code",
   "execution_count": 88,
   "id": "e030e1f0",
   "metadata": {},
   "outputs": [
    {
     "name": "stdout",
     "output_type": "stream",
     "text": [
      "<class '__main__.Person'>\n",
      "<__main__.Person object at 0x0000019759EFC2E0>\n"
     ]
    }
   ],
   "source": [
    "p1=Person()\n",
    "print(type(p1))\n",
    "print(p1.__str__())"
   ]
  },
  {
   "cell_type": "code",
   "execution_count": 89,
   "id": "87795590",
   "metadata": {},
   "outputs": [
    {
     "name": "stdout",
     "output_type": "stream",
     "text": [
      "True\n"
     ]
    }
   ],
   "source": [
    "print(isinstance(p1,Person))"
   ]
  },
  {
   "cell_type": "code",
   "execution_count": 90,
   "id": "6e6a1d92",
   "metadata": {},
   "outputs": [
    {
     "data": {
      "text/plain": [
       "'\\n    Person 클래스는 이러한 내용을 갖고 있습니다. 클래스 독스트링 지원\\n    생성자 함수가 없을 경우 디폴트 생성자 함수가 자동 생성\\n    '"
      ]
     },
     "execution_count": 90,
     "metadata": {},
     "output_type": "execute_result"
    }
   ],
   "source": [
    "p1.__doc__"
   ]
  },
  {
   "cell_type": "markdown",
   "id": "e624dc0c",
   "metadata": {},
   "source": [
    "# 2절 생성자(__init__)와 소멸자(__del__)\n",
    "```\n",
    "생성자 : __init__(self, 매개변수,...) - 객체가 형성할 때 자동 실행\n",
    "        **객체 생성 시 필요한 인스턴스 변수 초기화 포함**\n",
    "소멸자 : __del__(self) - 객체가 소멸될 때 자동 실행 \n",
    "        인스턴스 객체의 레퍼런스 카운트가 0이 될 때 실행 :: 주소를 참조하는 값이 없을 때 실행된다.\n",
    "```"
   ]
  },
  {
   "cell_type": "code",
   "execution_count": 45,
   "id": "38cf3863",
   "metadata": {},
   "outputs": [],
   "source": [
    "class Person :\n",
    "    def __init__(self, name, gender='남자') : # 파이썬은 함수 오버로딩(함수 중복 정의) 지원 하지 않음    \n",
    "        self.name = name # 인스턴스 변수\n",
    "        self.gender = gender\n",
    "        print('Person 객체를 생성합니다.', name)\n",
    "    \n",
    "    def __del__(self) :\n",
    "        print('Person 객체를 소멸시킵니다.', self.name)\n",
    "        \n",
    "    def print_info(self) :\n",
    "        print(f'{self.name}은 {self.gender}입니다')\n",
    "        \n",
    "    def __str__(self) : # 오버라이딩 : 상속받은 내용 위로 원하는 내용으로 재정의 하는 행위\n",
    "        return f'{self.name}은 {self.gender}입니다.'"
   ]
  },
  {
   "cell_type": "code",
   "execution_count": 46,
   "id": "f6b2c579",
   "metadata": {},
   "outputs": [
    {
     "name": "stdout",
     "output_type": "stream",
     "text": [
      "Person 객체를 생성합니다. 신사임당\n"
     ]
    }
   ],
   "source": [
    "p1 = Person('신사임당', '여자')"
   ]
  },
  {
   "cell_type": "code",
   "execution_count": 47,
   "id": "b0820b36",
   "metadata": {},
   "outputs": [
    {
     "name": "stdout",
     "output_type": "stream",
     "text": [
      "Person 객체를 생성합니다. 홍길동\n",
      "홍길동은 남자입니다.\n"
     ]
    }
   ],
   "source": [
    "p2 = Person('홍길동')\n",
    "print(p2)"
   ]
  },
  {
   "cell_type": "code",
   "execution_count": 48,
   "id": "32b1f44e",
   "metadata": {},
   "outputs": [],
   "source": [
    "p3 = p2"
   ]
  },
  {
   "cell_type": "code",
   "execution_count": 49,
   "id": "111b8222",
   "metadata": {},
   "outputs": [
    {
     "name": "stdout",
     "output_type": "stream",
     "text": [
      "Person 객체를 소멸시킵니다. 신사임당\n"
     ]
    }
   ],
   "source": [
    "del p1"
   ]
  },
  {
   "cell_type": "code",
   "execution_count": 50,
   "id": "53e02f35",
   "metadata": {},
   "outputs": [],
   "source": [
    "del p2"
   ]
  },
  {
   "cell_type": "markdown",
   "id": "677aa2c8",
   "metadata": {},
   "source": [
    "# 3절 변수와 메서드(함수)\n",
    "- 인스턴스 변수 vs 클래스 변수 # 인스턴스 변수 위주로 사용\n",
    "- 인스턴스 메서드(self) vs 클래스 메서드(cls) vs static 메서드() # **인스턴스 메서드와 static 메서드(클래스에서만 사용가능한 메서드)를 많이 사용할 예정**"
   ]
  },
  {
   "cell_type": "markdown",
   "id": "9d5ee8f2",
   "metadata": {},
   "source": [
    "## 3.1 클래스에서의 변수"
   ]
  },
  {
   "cell_type": "code",
   "execution_count": 85,
   "id": "6ecbfed3",
   "metadata": {},
   "outputs": [
    {
     "name": "stdout",
     "output_type": "stream",
     "text": [
      "금은동 남자\n"
     ]
    }
   ],
   "source": [
    "class Person :\n",
    "    name = '금은동' # 클래스 변수 : 클래스 전체에서 사용이 가능한 변수\n",
    "    gender = '남자'\n",
    "print(Person.name, Person.gender)"
   ]
  },
  {
   "cell_type": "code",
   "execution_count": 86,
   "id": "c4b15b18",
   "metadata": {},
   "outputs": [],
   "source": [
    "p1 = Person()\n",
    "p2 = Person()"
   ]
  },
  {
   "cell_type": "code",
   "execution_count": 87,
   "id": "e012c772",
   "metadata": {},
   "outputs": [
    {
     "name": "stdout",
     "output_type": "stream",
     "text": [
      "금은동 남자\n",
      "금은동 남자\n"
     ]
    }
   ],
   "source": [
    "print(p1.name, p1.gender)\n",
    "print(p2.name, p2.gender)"
   ]
  },
  {
   "cell_type": "code",
   "execution_count": 88,
   "id": "e3790baf",
   "metadata": {},
   "outputs": [],
   "source": [
    "p1.name, p1.gender, p1.age = '막걸리', '전통주', 20 # 객체에 원하는 인스턴스 변수를 추가할 수 있다..\n",
    "Person.age = 75"
   ]
  },
  {
   "cell_type": "code",
   "execution_count": 89,
   "id": "51a9e31e",
   "metadata": {},
   "outputs": [
    {
     "name": "stdout",
     "output_type": "stream",
     "text": [
      "막걸리 전통주 20\n",
      "금은동 남자 75\n",
      "금은동 남자 75\n"
     ]
    }
   ],
   "source": [
    "print(p1.name, p1.gender, p1.age)\n",
    "print(p2.name, p2.gender, p2.age)\n",
    "print(Person.name, Person.gender, Person.age)"
   ]
  },
  {
   "cell_type": "code",
   "execution_count": 90,
   "id": "f7dda004",
   "metadata": {},
   "outputs": [
    {
     "name": "stdout",
     "output_type": "stream",
     "text": [
      "금은동 남자\n"
     ]
    }
   ],
   "source": [
    "print(Person.name, Person.gender)"
   ]
  },
  {
   "cell_type": "markdown",
   "id": "86d4800f",
   "metadata": {},
   "source": [
    "## 3.2 클래스에서의 메서드\n",
    "***"
   ]
  },
  {
   "cell_type": "markdown",
   "id": "3c7882ec",
   "metadata": {},
   "source": [
    "※ 인스턴스 메서드(self) vs 클래스 메서드(cls) vs static 메서드()\n",
    "- 인스턴스 메서드 : 반드시 필요한 첫번째 인자에 self를 암묵적 명시, 객체를 통해서만 호출 가능\n",
    "- 클래스 메서드 : 메서드 위에 @classmethod를 선언한 메서드. 반드시 필요한 첫번째 인자에 cls(cls) 암묵적 명시\n",
    "- static 메서드 : 메서드 위에 @staticmethod를 선언한 메서드. 인자 불필요"
   ]
  },
  {
   "cell_type": "code",
   "execution_count": 91,
   "id": "05ac698a",
   "metadata": {},
   "outputs": [],
   "source": [
    "class Person :\n",
    "    name = '홍길동'\n",
    "    gender = '남자'\n",
    "    def print_info(self) : # 객체변수명.print_info() 로 호출\n",
    "        print(f'인스턴스(일반) 메서드 - {self.name}은 {self.gender}입니다.')\n",
    "        \n",
    "    def change_info(slef, name, gender='남자') : # 객체변수.change_info('김','여자')\n",
    "        self.name = name\n",
    "        self.gender = gender\n",
    "        print(f'인스턴스(일반) 메서드 - {self.name}/{self.gender}로 변경합니다.')\n",
    "        \n",
    "    @classmethod\n",
    "    def do_(cls) : # cls == Person. 클래스 변수를 이용한 로직이 있을 때 활용, Person.do_() 호출  : 인스턴스에서 역으로 올라가서 호출이 가능하네?\n",
    "        cls.name = '신사임당'\n",
    "        cls.gender = '여자'\n",
    "        print(f'클래스 메서드 - {cls.name}/{cls.gender}로 변경합니다.')\n",
    "    \n",
    "    @staticmethod\n",
    "    def that_() : # 클래스 변수를 이용하기 보다는 로직이 우선일 경우, Person.that_() 호출\n",
    "        Person.name = '신길동'\n",
    "        Person.gender = '남자'\n",
    "        print(f'static 메서드 - {Person.name}/{Person.gender}로 변경합니다.')        "
   ]
  },
  {
   "cell_type": "code",
   "execution_count": 93,
   "id": "f71b8a3b",
   "metadata": {},
   "outputs": [
    {
     "name": "stdout",
     "output_type": "stream",
     "text": [
      "인스턴스(일반) 메서드 - 홍길동은 남자입니다.\n"
     ]
    }
   ],
   "source": [
    "p1 = Person()\n",
    "p1.print_info()"
   ]
  },
  {
   "cell_type": "code",
   "execution_count": 94,
   "id": "5b98361b",
   "metadata": {},
   "outputs": [
    {
     "name": "stdout",
     "output_type": "stream",
     "text": [
      "클래스 메서드 - 신사임당/여자로 변경합니다.\n"
     ]
    }
   ],
   "source": [
    "Person.do_()"
   ]
  },
  {
   "cell_type": "code",
   "execution_count": 95,
   "id": "6599cd5a",
   "metadata": {},
   "outputs": [
    {
     "name": "stdout",
     "output_type": "stream",
     "text": [
      "인스턴스(일반) 메서드 - 신사임당은 여자입니다.\n"
     ]
    }
   ],
   "source": [
    "p1.print_info()"
   ]
  },
  {
   "cell_type": "code",
   "execution_count": 96,
   "id": "0eb89da4",
   "metadata": {
    "scrolled": true
   },
   "outputs": [
    {
     "name": "stdout",
     "output_type": "stream",
     "text": [
      "static 메서드 - 신길동/남자로 변경합니다.\n"
     ]
    }
   ],
   "source": [
    "Person.that_()"
   ]
  },
  {
   "cell_type": "code",
   "execution_count": 97,
   "id": "3e2767ec",
   "metadata": {},
   "outputs": [
    {
     "name": "stdout",
     "output_type": "stream",
     "text": [
      "인스턴스(일반) 메서드 - 신길동은 남자입니다.\n"
     ]
    }
   ],
   "source": [
    "p1.print_info()"
   ]
  },
  {
   "cell_type": "code",
   "execution_count": 98,
   "id": "e24e7c81",
   "metadata": {},
   "outputs": [
    {
     "name": "stdout",
     "output_type": "stream",
     "text": [
      "클래스 메서드 - 신사임당/여자로 변경합니다.\n"
     ]
    }
   ],
   "source": [
    "p1.do_()"
   ]
  },
  {
   "cell_type": "code",
   "execution_count": 100,
   "id": "f6555478",
   "metadata": {},
   "outputs": [
    {
     "name": "stdout",
     "output_type": "stream",
     "text": [
      "인스턴스(일반) 메서드 - 신사임당은 여자입니다.\n"
     ]
    }
   ],
   "source": [
    "p1.print_info()"
   ]
  },
  {
   "cell_type": "code",
   "execution_count": 101,
   "id": "a12160f2",
   "metadata": {},
   "outputs": [
    {
     "name": "stdout",
     "output_type": "stream",
     "text": [
      "static 메서드 - 신길동/남자로 변경합니다.\n"
     ]
    }
   ],
   "source": [
    "p1.that_()"
   ]
  },
  {
   "cell_type": "code",
   "execution_count": null,
   "id": "021f0ec7",
   "metadata": {},
   "outputs": [],
   "source": []
  },
  {
   "cell_type": "code",
   "execution_count": null,
   "id": "6442d304",
   "metadata": {},
   "outputs": [],
   "source": []
  },
  {
   "cell_type": "code",
   "execution_count": null,
   "id": "be695651",
   "metadata": {},
   "outputs": [],
   "source": []
  }
 ],
 "metadata": {
  "kernelspec": {
   "display_name": "Python 3 (ipykernel)",
   "language": "python",
   "name": "python3"
  },
  "language_info": {
   "codemirror_mode": {
    "name": "ipython",
    "version": 3
   },
   "file_extension": ".py",
   "mimetype": "text/x-python",
   "name": "python",
   "nbconvert_exporter": "python",
   "pygments_lexer": "ipython3",
   "version": "3.10.9"
  },
  "toc": {
   "base_numbering": 1,
   "nav_menu": {},
   "number_sections": false,
   "sideBar": true,
   "skip_h1_title": false,
   "title_cell": "Table of Contents",
   "title_sidebar": "Contents",
   "toc_cell": false,
   "toc_position": {
    "height": "calc(100% - 180px)",
    "left": "10px",
    "top": "150px",
    "width": "165px"
   },
   "toc_section_display": true,
   "toc_window_display": true
  }
 },
 "nbformat": 4,
 "nbformat_minor": 5
}
