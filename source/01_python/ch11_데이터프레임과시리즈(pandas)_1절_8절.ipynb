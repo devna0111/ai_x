{
 "cells": [
  {
   "cell_type": "code",
   "execution_count": 147,
   "id": "ba19beab",
   "metadata": {},
   "outputs": [
    {
     "data": {
      "text/html": [
       "\n",
       "<style>\n",
       "div.container{width:86% !important;}\n",
       "div.cell.code_cell.rendered{width:100%;}\n",
       "div.CodeMirror {font-family:Consolas; font-size:12pt;}\n",
       "div.output {font-size:10pt; font-weight:bold;}\n",
       "div.input {font-family:Consolas; font-size:12pt;}\n",
       "div.prompt {min-width:70px;}\n",
       "div#toc-wrapper{padding-top:130px;}\n",
       "div.text_cell_render ul li{font-size:12pt;padding:5px;}\n",
       "table.dataframe{font-size:15px;}\n",
       "</style>\n"
      ],
      "text/plain": [
       "<IPython.core.display.HTML object>"
      ]
     },
     "metadata": {},
     "output_type": "display_data"
    }
   ],
   "source": [
    "from IPython.display import display, HTML\n",
    "display(HTML(\"\"\"\n",
    "<style>\n",
    "div.container{width:86% !important;}\n",
    "div.cell.code_cell.rendered{width:100%;}\n",
    "div.CodeMirror {font-family:Consolas; font-size:12pt;}\n",
    "div.output {font-size:10pt; font-weight:bold;}\n",
    "div.input {font-family:Consolas; font-size:12pt;}\n",
    "div.prompt {min-width:70px;}\n",
    "div#toc-wrapper{padding-top:130px;}\n",
    "div.text_cell_render ul li{font-size:12pt;padding:5px;}\n",
    "table.dataframe{font-size:15px;}\n",
    "</style>\n",
    "\"\"\"))"
   ]
  },
  {
   "cell_type": "markdown",
   "id": "b99bdf0d",
   "metadata": {},
   "source": [
    "<font size = \"5\" color = 'red' > ch11 데이터프레임과 시리즈(pandas) </font>\n",
    "- pip install pandas / conda install pandas (프롬프트)\n",
    "\n",
    "# 1절 판다스 패키지\n",
    "- 데이터 분석을 위해 반드시 알아야 할 패키지. 넘파이numpy 기반으로 다른 많은 라이브러리와 잘 통합되도록 설계\n",
    "- 1차원 구조를 갖는 시리즈, 2차원 구조를 갖는 데이터프레임(excel의 스프레드시트)을 제공\n",
    "- 판다스 장점 : 파일io, 부분 데이터 추출, 크기 변경, 데이터 분할, 병합, 정렬, 결측치 처리, 피벗과 언피벗(와이드포멧과 롱포멧) 등에 용이\n",
    "- [Pandas API reference](https://pandas.pydata.org/docs/reference/index.html)\n",
    "- [Pandas docs](https://pandas.pydata.org/docs/index.html)"
   ]
  },
  {
   "cell_type": "code",
   "execution_count": 2,
   "id": "1484a0ec",
   "metadata": {},
   "outputs": [
    {
     "data": {
      "text/plain": [
       "'1.5.3'"
      ]
     },
     "execution_count": 2,
     "metadata": {},
     "output_type": "execute_result"
    }
   ],
   "source": [
    "import pandas as pd\n",
    "pd.__version__"
   ]
  },
  {
   "cell_type": "code",
   "execution_count": null,
   "id": "e610523b",
   "metadata": {},
   "outputs": [],
   "source": [
    "data = pd.read_csv('data/ch09_member4.csv', skiprows=[6])\n",
    "display(data)\n",
    "display(type(data))"
   ]
  },
  {
   "cell_type": "code",
   "execution_count": null,
   "id": "3f1e1e68",
   "metadata": {},
   "outputs": [],
   "source": [
    "data = pd.read_csv('data/ch09_member1.csv', \n",
    "                  names = ['name','age','email','address']) # header = None => 헤더가 없는 데이터프레임 생성\n",
    "display(data)\n",
    "display(type(data))"
   ]
  },
  {
   "cell_type": "code",
   "execution_count": null,
   "id": "8fb0dbb4",
   "metadata": {},
   "outputs": [],
   "source": [
    "# 최초 상위 2줄\n",
    "data.head(2)"
   ]
  },
  {
   "cell_type": "code",
   "execution_count": null,
   "id": "fb5a722b",
   "metadata": {},
   "outputs": [],
   "source": [
    "data = pd.read_json('data/ch09_member.json') # 기본 인코딩 값 utf-8\n",
    "data"
   ]
  },
  {
   "cell_type": "code",
   "execution_count": null,
   "id": "a2d68cce",
   "metadata": {},
   "outputs": [],
   "source": [
    "iris = pd.read_hdf('data/ch09_iris.hdf5', key = 'iris')\n",
    "iris.head() # 상위 5개 추출"
   ]
  },
  {
   "cell_type": "code",
   "execution_count": null,
   "id": "5864a815",
   "metadata": {},
   "outputs": [],
   "source": []
  },
  {
   "cell_type": "markdown",
   "id": "75ff332d",
   "metadata": {},
   "source": [
    "# 2절 ★ 데이터프레임 만들기\n",
    "## 2.1 딕셔너리를 이용해서 데이터프레임 만들기"
   ]
  },
  {
   "cell_type": "code",
   "execution_count": null,
   "id": "dcc55d96",
   "metadata": {},
   "outputs": [],
   "source": [
    "d = {'kor' : [100, 90], 'math' : [95, 99]} # 딕셔너리를 데이터프레임으로\n",
    "df = pd.DataFrame(d)\n",
    "df"
   ]
  },
  {
   "cell_type": "code",
   "execution_count": null,
   "id": "e02305bb",
   "metadata": {},
   "outputs": [],
   "source": [
    "df.to_dict() # 데이터프레임을 딕셔너리로 변환"
   ]
  },
  {
   "cell_type": "code",
   "execution_count": null,
   "id": "9eda219f",
   "metadata": {},
   "outputs": [],
   "source": [
    "df.to_numpy()"
   ]
  },
  {
   "cell_type": "code",
   "execution_count": null,
   "id": "8a72d43f",
   "metadata": {},
   "outputs": [],
   "source": [
    "# 딕셔너리 리스트를 데이터 프레임으로\n",
    "d = [{'kor' : 100, 'math' : 95},{'kor' : 90, 'math' : 99}] # 딕셔너리 리스트 : 웹크롤링 등의 경우 자주 활용\n",
    "pd.DataFrame(d)"
   ]
  },
  {
   "cell_type": "code",
   "execution_count": null,
   "id": "1dcd292f",
   "metadata": {},
   "outputs": [],
   "source": [
    "kor = [100,90] ; math = [95,99]\n",
    "pd.DataFrame(zip(kor,math), columns = ['kor', 'math'])"
   ]
  },
  {
   "cell_type": "code",
   "execution_count": null,
   "id": "fc5316a8",
   "metadata": {},
   "outputs": [],
   "source": [
    "df.info() # ★"
   ]
  },
  {
   "cell_type": "code",
   "execution_count": null,
   "id": "4b3e2686",
   "metadata": {},
   "outputs": [],
   "source": [
    "d = [{'kor' : 100, 'math' : 100}, {'kor' : 90, 'math' : 91}, {'kor' : 93, 'eng': 100}]\n",
    "df = pd.DataFrame(d)\n",
    "df"
   ]
  },
  {
   "cell_type": "code",
   "execution_count": null,
   "id": "f9e55778",
   "metadata": {},
   "outputs": [],
   "source": [
    "df.info() # 결측치는 실수형(float64), 정수형 변환이 불가 => 결측치 대체 후 정수형 변환"
   ]
  },
  {
   "cell_type": "code",
   "execution_count": null,
   "id": "985efbaa",
   "metadata": {},
   "outputs": [],
   "source": [
    "d = [{'kor' : 100, 'math' : 100}, {'kor' : 90, 'math' : 91}, {'kor' : 93, 'eng': 100}]\n",
    "df = pd.DataFrame(d)\n",
    "df"
   ]
  },
  {
   "cell_type": "markdown",
   "id": "4dfbd337",
   "metadata": {},
   "source": [
    "## 2.2 리스트를 이용해서 데이터프레임 만들기"
   ]
  },
  {
   "cell_type": "code",
   "execution_count": null,
   "id": "064b26e4",
   "metadata": {},
   "outputs": [],
   "source": [
    "title = ['책1','책2','책3']\n",
    "price = [15000,18000,10000]\n",
    "df = pd.DataFrame(data={'title':title, 'price':price})\n",
    "df"
   ]
  },
  {
   "cell_type": "code",
   "execution_count": null,
   "id": "6deb3cc4",
   "metadata": {},
   "outputs": [],
   "source": [
    "import numpy as np\n",
    "np.c_[title, price]\n",
    "df = pd.DataFrame(np.c_[title, price], columns=['title','price'])\n",
    "df"
   ]
  },
  {
   "cell_type": "code",
   "execution_count": null,
   "id": "fd8666b0",
   "metadata": {},
   "outputs": [],
   "source": [
    "df = pd.DataFrame(np.c_[title,price], columns=['title','price'])\n",
    "df"
   ]
  },
  {
   "cell_type": "code",
   "execution_count": null,
   "id": "ce209122",
   "metadata": {},
   "outputs": [],
   "source": [
    "l = [['책1',15000],['책2',18000],['책3',10000],]\n",
    "l\n",
    "pd.DataFrame(l, columns=['title','price'])"
   ]
  },
  {
   "cell_type": "markdown",
   "id": "96e3ad9c",
   "metadata": {},
   "source": [
    "## 2.3 pd.read_csv"
   ]
  },
  {
   "cell_type": "code",
   "execution_count": null,
   "id": "23db1d44",
   "metadata": {},
   "outputs": [],
   "source": [
    "df = pd.read_csv(r'C:\\ai_x\\download\\sharedata\\상가정보_20250331\\소상공인시장진흥공단_상가(상권)정보_세종_202503.csv',\n",
    "                 # encoding='utf-8',\n",
    "                 # sep=',',\n",
    "                low_memory = False, # 데이터용량이 클 경우만 기입,\n",
    "                nrows = 30, # 처음 30행만\n",
    "                )\n",
    "df.shape\n",
    "df.head(1)"
   ]
  },
  {
   "cell_type": "code",
   "execution_count": null,
   "id": "ad743027",
   "metadata": {},
   "outputs": [],
   "source": [
    "# 판다스 디스플레이 옵션 : \n",
    "pd.options.display.max_columns = 39 # 기본값 20 => 39열까지 display 가능\n",
    "pd.options.display.max_rows # 기본값 60 => 설정값에 따라 display 기능 설정 가능\n",
    "display(df.head(1))"
   ]
  },
  {
   "cell_type": "code",
   "execution_count": null,
   "id": "4635d08d",
   "metadata": {},
   "outputs": [],
   "source": [
    "display(df.head(1).T)"
   ]
  },
  {
   "cell_type": "code",
   "execution_count": null,
   "id": "9af36a75",
   "metadata": {},
   "outputs": [],
   "source": [
    "df = pd.read_csv('data/ch11_membersep.csv', sep = '|')\n",
    "df"
   ]
  },
  {
   "cell_type": "code",
   "execution_count": null,
   "id": "03e7b2d0",
   "metadata": {},
   "outputs": [],
   "source": [
    "# (1) csv파일 불러오기(기본값)\n",
    "# encoding = utf-8, sep = ',', csv파일의 첫번째 줄을 header로 인식, #이 있는 줄도 데이터로 인식\n",
    "member = pd.read_csv('data/ch11_member.csv')\n",
    "member.info()"
   ]
  },
  {
   "cell_type": "code",
   "execution_count": null,
   "id": "416442df",
   "metadata": {},
   "outputs": [],
   "source": [
    "# type형 변환 Age열 : int64 => int16\n",
    "member['Age'] = member['Age'].astype(np.int16) # 'int' = > int32, 'float' => float64\n",
    "member.info()"
   ]
  },
  {
   "cell_type": "code",
   "execution_count": null,
   "id": "93c767de",
   "metadata": {},
   "outputs": [],
   "source": [
    "# 형 변환 : Birth열 object => datetime64[ns]\n",
    "# member['Birth']\n",
    "member['Birth_as'] = member['Birth'].astype('datetime64[ns]')\n",
    "member.info()"
   ]
  },
  {
   "cell_type": "code",
   "execution_count": null,
   "id": "e4ff8876",
   "metadata": {},
   "outputs": [],
   "source": [
    "member['Birth_to'] = pd.to_datetime(member['Birth']) # astype()함수보다 안전한 형변환\n",
    "member.info()"
   ]
  },
  {
   "cell_type": "code",
   "execution_count": null,
   "id": "54bc31ee",
   "metadata": {},
   "outputs": [],
   "source": [
    "# (2) 특정 행 제외하고 csv파일 읽기\n",
    "member = pd.read_csv('data/ch11_membercp949.csv',encoding='cp949',\n",
    "                    skiprows=[],\n",
    "                    comment = '#') # 1번째 6번째 행은 제외하고 읽어오기 (헤더 = 인덱스 0번쨰)\n",
    "member"
   ]
  },
  {
   "cell_type": "code",
   "execution_count": null,
   "id": "a29b025f",
   "metadata": {},
   "outputs": [],
   "source": [
    "# (3) 주석(#) 제외,datetime형 필드 지정하여 csv 읽기\n",
    "member = pd.read_csv('data/ch11_membertab.csv',\n",
    "                     sep = '\\t',\n",
    "                     comment='#',\n",
    "                    parse_dates=['Birth']) # ['Birth']를 가능하다면 datetime64[ns]형(type)으로 인식해라\n",
    "member.info()"
   ]
  },
  {
   "cell_type": "code",
   "execution_count": null,
   "id": "25743bbb",
   "metadata": {},
   "outputs": [],
   "source": [
    "# (4) sep ='|', 상위 5행만 읽어오기\n",
    "member = pd.read_csv('data/ch11_membersep.csv', sep='|',nrows=5, ) # nrows = n : 상위 n개를 가져와라\n",
    "member"
   ]
  },
  {
   "cell_type": "markdown",
   "id": "a74bcb45",
   "metadata": {},
   "source": [
    "## 2.4 패키지에서 가져오기(iris 데이터)\n",
    "- sklearn, statsmodel, seaborn"
   ]
  },
  {
   "cell_type": "markdown",
   "id": "9404567f",
   "metadata": {},
   "source": [
    "### iris 가져오기 방법 1 : sklearn (머신러닝 패키지) ★ \n",
    "- 컬럼 체크\n",
    "- 독립변수, 종속변수의 데이터 형태를 조정\n",
    "- 데이터프레임화"
   ]
  },
  {
   "cell_type": "code",
   "execution_count": null,
   "id": "560d1aca",
   "metadata": {},
   "outputs": [],
   "source": [
    "import numpy as np\n",
    "import pandas as pd\n",
    "from sklearn import datasets \n",
    "# sklearn : 머신러닝을 위한 함수(전처리함수, 머신러닝, 성능평가를 위한 함수, 학습데이터셋)"
   ]
  },
  {
   "cell_type": "code",
   "execution_count": null,
   "id": "2e9a4b04",
   "metadata": {},
   "outputs": [],
   "source": [
    "iris = datasets.load_iris()\n",
    "iris.keys()"
   ]
  },
  {
   "cell_type": "code",
   "execution_count": null,
   "id": "6a389777",
   "metadata": {},
   "outputs": [],
   "source": [
    "print(iris.DESCR) # iris데이터 셋에 대한 설명"
   ]
  },
  {
   "cell_type": "code",
   "execution_count": null,
   "id": "7c1bcc8a",
   "metadata": {},
   "outputs": [],
   "source": [
    "iris.data # 독립변수\n",
    "iris['data'][:3]"
   ]
  },
  {
   "cell_type": "code",
   "execution_count": null,
   "id": "f4bec4fc",
   "metadata": {},
   "outputs": [],
   "source": [
    "# 데이터프레임에서 열이름\n",
    "iris['feature_names']\n",
    "columns = [i[:-5].replace(' ','_') for i in iris['feature_names']] + ['species']"
   ]
  },
  {
   "cell_type": "code",
   "execution_count": null,
   "id": "ccfcc290",
   "metadata": {},
   "outputs": [],
   "source": [
    "columns"
   ]
  },
  {
   "cell_type": "code",
   "execution_count": null,
   "id": "763a383c",
   "metadata": {},
   "outputs": [],
   "source": [
    "iris.keys()"
   ]
  },
  {
   "cell_type": "code",
   "execution_count": null,
   "id": "1ca32d1c",
   "metadata": {},
   "outputs": [],
   "source": [
    "iris.target # 머신러닝 시 종속변수"
   ]
  },
  {
   "cell_type": "code",
   "execution_count": null,
   "id": "32e1460f",
   "metadata": {},
   "outputs": [],
   "source": [
    "iris.target_names"
   ]
  },
  {
   "cell_type": "code",
   "execution_count": null,
   "id": "d0be5b92",
   "metadata": {},
   "outputs": [],
   "source": [
    "species = iris.target_names[iris.target] # numpy 배열인덱싱"
   ]
  },
  {
   "cell_type": "code",
   "execution_count": null,
   "id": "4cbf4aed",
   "metadata": {},
   "outputs": [],
   "source": [
    "# 컬럼은 이미 완성되었으니 사용할 데이터를 합쳐서 완성시키기\n",
    "# 독립변수\n",
    "data = iris.data\n",
    "# 종속변수\n",
    "target = iris.target_names[iris.target]\n",
    "data.shape, target.shape # 독립변수와 종속변수의 차원\n",
    "final_data = np.c_[data,target]\n",
    "iris_df = pd.DataFrame(final_data,columns=columns)\n",
    "iris_df"
   ]
  },
  {
   "cell_type": "markdown",
   "id": "fbb9336c",
   "metadata": {},
   "source": [
    "### iris 가져오기 방법 2 : statsmodels (R 데이터) => 인터넷에 연결되야 활용 가능"
   ]
  },
  {
   "cell_type": "code",
   "execution_count": null,
   "id": "fb4e75ce",
   "metadata": {},
   "outputs": [],
   "source": [
    "# R언어에 있는 유명한 데이터셋을 가져오는 함수\n",
    "from statsmodels.datasets import get_rdataset\n",
    "iris_dataset = get_rdataset('iris', \n",
    "                            package = 'datasets', # R언어에서 가장 많은 데이터셋을 가지고 있는 패키지로, 미언급 시 기본 값\n",
    "                            cache = True) # 한 번 다운로드한 데이터셋을 pc에 캐시메모리로 저장\n",
    "iris_dataset"
   ]
  },
  {
   "cell_type": "code",
   "execution_count": null,
   "id": "642939fe",
   "metadata": {},
   "outputs": [],
   "source": [
    "iris = iris_dataset.data\n",
    "iris.head(1)"
   ]
  },
  {
   "cell_type": "code",
   "execution_count": null,
   "id": "9ade7bf9",
   "metadata": {},
   "outputs": [],
   "source": [
    "iris['Sepal.Length']\n",
    "# iris.Sepal.Length R언어에서는 객체의 개념이 없어서 간혹 변수명들에 .을 사용하는데 이런 경우 이 방법으로 접근이 불가하다.\n",
    "new_columns = [colname.replace('.','_').lower() for colname in iris.columns] # 새컬럼으로 뽑아주고\n",
    "new_columns\n",
    "iris.columns = new_columns # 새컬럼을 할당하면 ** 컬럼 생성과 동시에 할당해도 전혀 문제 없음\n",
    "iris # 컬럼을 변경할 수 있다"
   ]
  },
  {
   "cell_type": "code",
   "execution_count": null,
   "id": "e1dc2bcb",
   "metadata": {},
   "outputs": [],
   "source": [
    "iris.info()"
   ]
  },
  {
   "cell_type": "code",
   "execution_count": null,
   "id": "6f37072e",
   "metadata": {},
   "outputs": [],
   "source": []
  },
  {
   "cell_type": "markdown",
   "id": "6089b703",
   "metadata": {},
   "source": [
    "### iris 가져오기 방법 3 : seaborn (시각화 패키지)"
   ]
  },
  {
   "cell_type": "code",
   "execution_count": null,
   "id": "f34c4228",
   "metadata": {},
   "outputs": [],
   "source": [
    "import seaborn as sns\n",
    "iris = sns.load_dataset('iris')\n",
    "iris.head(1)"
   ]
  },
  {
   "cell_type": "code",
   "execution_count": null,
   "id": "4c2ea78a",
   "metadata": {
    "scrolled": true
   },
   "outputs": [],
   "source": [
    "# 데이터프레임을 csv파일로 저장\n",
    "iris.to_csv('data/ch11_iris_df.csv', \n",
    "            sep=',', # 기본값\n",
    "            encoding = 'utf-8', # 기본값\n",
    "           index=False # 인덱스 제외 파일 출력\n",
    "           )"
   ]
  },
  {
   "cell_type": "code",
   "execution_count": null,
   "id": "a8220bf2",
   "metadata": {},
   "outputs": [],
   "source": [
    "load_iris = pd.read_csv('data/ch11_iris_df.csv')"
   ]
  },
  {
   "cell_type": "code",
   "execution_count": null,
   "id": "6afd9da5",
   "metadata": {},
   "outputs": [],
   "source": [
    "load_iris.head(1)"
   ]
  },
  {
   "cell_type": "markdown",
   "id": "5a3eaf58",
   "metadata": {},
   "source": [
    "#### 압축해서 파일 출력하기"
   ]
  },
  {
   "cell_type": "code",
   "execution_count": null,
   "id": "d4728abb",
   "metadata": {},
   "outputs": [],
   "source": [
    "# 데이터프레임을 압축파일로 출력 .zip .gz .bz2 **.gz가 압축률이 좋았음\n",
    "load_iris.to_csv('data/ch11_iris_2.gz', \n",
    "                 encoding = 'cp949', # 설정은 해줬으나 열 때는 encoding 조건을 주지 않아도 작동 => 한글이 없으니까\n",
    "                 compression = 'infer', # 압축파일임을 확인하고 맞으면 압축해서 저장하라\n",
    "                 index = False\n",
    "                )"
   ]
  },
  {
   "cell_type": "code",
   "execution_count": null,
   "id": "d67d0c0c",
   "metadata": {},
   "outputs": [],
   "source": [
    "load_data = pd.read_csv('data/ch11_iris.zip', compression = 'infer')\n",
    "load_data.head(1)\n",
    "load_data2 = pd.read_csv('data/ch11_iris_2.gz', compression = 'infer')\n",
    "load_data2"
   ]
  },
  {
   "cell_type": "markdown",
   "id": "8335eb39",
   "metadata": {},
   "source": [
    "# 3절 이름(열, 행) 지정하기\n",
    "## 3.1 열 이름 지정하기"
   ]
  },
  {
   "cell_type": "code",
   "execution_count": null,
   "id": "3a823a52",
   "metadata": {},
   "outputs": [],
   "source": [
    "member = pd.read_csv('data/ch11_member.csv', comment ='#', parse_dates=['Birth'])\n",
    "member, member.info()"
   ]
  },
  {
   "cell_type": "code",
   "execution_count": null,
   "id": "35cad087",
   "metadata": {},
   "outputs": [],
   "source": [
    "member.columns = ['이름', '나이', '메일','주소','생년월일'] # 개수를 반드시 맞춰주어야한다.\n",
    "member"
   ]
  },
  {
   "cell_type": "code",
   "execution_count": null,
   "id": "9a6fa184",
   "metadata": {},
   "outputs": [],
   "source": [
    "# member.columns.name = '정보' # 컬럼의 이름\n",
    "member.columns.name = None\n",
    "member"
   ]
  },
  {
   "cell_type": "markdown",
   "id": "5774976f",
   "metadata": {},
   "source": [
    "## 3.2 행 이름 지정하기"
   ]
  },
  {
   "cell_type": "code",
   "execution_count": null,
   "id": "b23961e9",
   "metadata": {},
   "outputs": [],
   "source": [
    "member.index"
   ]
  },
  {
   "cell_type": "code",
   "execution_count": null,
   "id": "7b17a46d",
   "metadata": {},
   "outputs": [],
   "source": [
    "member.index = [f'{i+1}번째' for i in range(5)]\n",
    "member"
   ]
  },
  {
   "cell_type": "code",
   "execution_count": null,
   "id": "1f53597c",
   "metadata": {},
   "outputs": [],
   "source": [
    "member.index = range(0,len(member))\n",
    "member"
   ]
  },
  {
   "cell_type": "code",
   "execution_count": null,
   "id": "1948c4d7",
   "metadata": {},
   "outputs": [],
   "source": [
    "member.index = range(11,16)\n",
    "member"
   ]
  },
  {
   "cell_type": "code",
   "execution_count": null,
   "id": "e3adc694",
   "metadata": {},
   "outputs": [],
   "source": [
    "member.index = ['동','서','남','북','중']\n",
    "member"
   ]
  },
  {
   "cell_type": "code",
   "execution_count": null,
   "id": "fc1b79f0",
   "metadata": {},
   "outputs": [],
   "source": [
    "member.index.name = '방향'"
   ]
  },
  {
   "cell_type": "code",
   "execution_count": null,
   "id": "bf356e0b",
   "metadata": {},
   "outputs": [],
   "source": [
    "member"
   ]
  },
  {
   "cell_type": "code",
   "execution_count": null,
   "id": "0b5437a8",
   "metadata": {},
   "outputs": [],
   "source": [
    "member.index.name = None"
   ]
  },
  {
   "cell_type": "code",
   "execution_count": null,
   "id": "6bb8f73b",
   "metadata": {},
   "outputs": [],
   "source": [
    "member"
   ]
  },
  {
   "cell_type": "code",
   "execution_count": null,
   "id": "794c14ee",
   "metadata": {},
   "outputs": [],
   "source": [
    "print(member.index.name)"
   ]
  },
  {
   "cell_type": "code",
   "execution_count": null,
   "id": "7c37a08d",
   "metadata": {},
   "outputs": [],
   "source": [
    "member.loc['남', '이름'] # loc : 행'이름'과 열'이름'으로 데이터 부분 조회"
   ]
  },
  {
   "cell_type": "code",
   "execution_count": null,
   "id": "5a49eea4",
   "metadata": {},
   "outputs": [],
   "source": [
    "member.columns.name = '정보'\n",
    "member.index.name = '방향'\n",
    "member"
   ]
  },
  {
   "cell_type": "code",
   "execution_count": null,
   "id": "6f99456a",
   "metadata": {},
   "outputs": [],
   "source": [
    "member.reset_index()"
   ]
  },
  {
   "cell_type": "code",
   "execution_count": null,
   "id": "4dacc235",
   "metadata": {},
   "outputs": [],
   "source": [
    "# 특정 열을 인덱스로 세팅\n",
    "member1 = member.set_index('이름')\n",
    "member1.index.name"
   ]
  },
  {
   "cell_type": "code",
   "execution_count": null,
   "id": "0995a0ba",
   "metadata": {},
   "outputs": [],
   "source": [
    "member1.loc['홍길동']"
   ]
  },
  {
   "cell_type": "code",
   "execution_count": null,
   "id": "31e937d5",
   "metadata": {},
   "outputs": [],
   "source": [
    "# member를 수정하려면 (1) 할당 (2) inplace 매개변수에 True (default : False)\n",
    "member"
   ]
  },
  {
   "cell_type": "code",
   "execution_count": null,
   "id": "052f1fda",
   "metadata": {},
   "outputs": [],
   "source": [
    "member.set_index('이름',inplace = True) # 이름 열을 index로"
   ]
  },
  {
   "cell_type": "code",
   "execution_count": null,
   "id": "a77326ae",
   "metadata": {},
   "outputs": [],
   "source": [
    "member.reset_index(inplace = True) # index를 이름 열로 (index.name = 'index', 'level_0' 까지 가능)"
   ]
  },
  {
   "cell_type": "code",
   "execution_count": null,
   "id": "32167b1b",
   "metadata": {},
   "outputs": [],
   "source": [
    "member"
   ]
  },
  {
   "cell_type": "code",
   "execution_count": null,
   "id": "a19d8385",
   "metadata": {},
   "outputs": [],
   "source": [
    "# 시리즈(datetime64[ns]형 일때).dt : datetime열의 날짜 및 시간에 관련된 정보만 추출\n",
    "member['생년월일'].dt.month"
   ]
  },
  {
   "cell_type": "code",
   "execution_count": null,
   "id": "5d98a39d",
   "metadata": {},
   "outputs": [],
   "source": [
    "member['생년월일'].dt.weekday # 0 월요일 1 화요일 ..... 5 토요일 6 일요일"
   ]
  },
  {
   "cell_type": "markdown",
   "id": "3d80222e",
   "metadata": {},
   "source": [
    "## 3.3 레벨 이름 지정하기"
   ]
  },
  {
   "cell_type": "code",
   "execution_count": null,
   "id": "32666b6c",
   "metadata": {},
   "outputs": [],
   "source": [
    "member"
   ]
  },
  {
   "cell_type": "code",
   "execution_count": null,
   "id": "d6096bcf",
   "metadata": {},
   "outputs": [],
   "source": [
    "member.columns = [['기본정보','기본정보','기본정보','추가정보','추가정보'],\n",
    "                 ['이름', '나이', '메일', '주소','생년월일']]"
   ]
  },
  {
   "cell_type": "code",
   "execution_count": null,
   "id": "07fba323",
   "metadata": {},
   "outputs": [],
   "source": [
    "member # 속성 부여가 가능"
   ]
  },
  {
   "cell_type": "code",
   "execution_count": null,
   "id": "cc512801",
   "metadata": {},
   "outputs": [],
   "source": [
    "member.columns.names = ['대분류','소분류']"
   ]
  },
  {
   "cell_type": "code",
   "execution_count": null,
   "id": "a05fc2d8",
   "metadata": {},
   "outputs": [],
   "source": [
    "member"
   ]
  },
  {
   "cell_type": "code",
   "execution_count": null,
   "id": "ed904fa5",
   "metadata": {},
   "outputs": [],
   "source": [
    "member['기본정보']"
   ]
  },
  {
   "cell_type": "code",
   "execution_count": null,
   "id": "0b31ecd7",
   "metadata": {},
   "outputs": [],
   "source": [
    "member.index = [['좌우','좌우','상하','상하','상하'],\n",
    "               ['동','서','남','북','중']]\n",
    "member.index.names = [ '레벨1','레벨2']"
   ]
  },
  {
   "cell_type": "code",
   "execution_count": null,
   "id": "5ccfab49",
   "metadata": {},
   "outputs": [],
   "source": [
    "member"
   ]
  },
  {
   "cell_type": "code",
   "execution_count": null,
   "id": "d6ed5b48",
   "metadata": {},
   "outputs": [],
   "source": [
    "member.loc[('좌우','동'),'기본정보'] # 튜플로 차원 접근이 가능하다"
   ]
  },
  {
   "cell_type": "markdown",
   "id": "b8e5ee37",
   "metadata": {},
   "source": [
    "# 4절 부분 데이터 조회하기\n",
    "- member['열 이름'] 특정열 => 여러줄 조회는 [ [열1, 열2...] ]\n",
    "- member[조건]\n",
    "- member.loc[행 이름, 열 이름:열이름] 슬라이싱 가능\n",
    "- member.iloc[행 번호(인덱스), 열 번호(인덱스)]"
   ]
  },
  {
   "cell_type": "markdown",
   "id": "d4af0033",
   "metadata": {},
   "source": [
    "## 4.1 열 조회하기\n"
   ]
  },
  {
   "cell_type": "code",
   "execution_count": null,
   "id": "efb6a78a",
   "metadata": {},
   "outputs": [],
   "source": [
    "member = pd.read_csv('data/ch11_member.csv', comment = '#', parse_dates=['Birth'])\n",
    "member"
   ]
  },
  {
   "cell_type": "code",
   "execution_count": null,
   "id": "d0a7e5e5",
   "metadata": {},
   "outputs": [],
   "source": [
    "member['Name'], member.Name"
   ]
  },
  {
   "cell_type": "code",
   "execution_count": null,
   "id": "31dcb451",
   "metadata": {},
   "outputs": [],
   "source": [
    "member[ ['Name', 'Age'] ] # [] 안에는 단일 열이름 혹인 [열이름 리스트], 조건만 사용가능"
   ]
  },
  {
   "cell_type": "code",
   "execution_count": null,
   "id": "230a2fcf",
   "metadata": {},
   "outputs": [],
   "source": [
    "# 행을 조회할 경우 loc, iloc을 이용한다.  member.loc[0]"
   ]
  },
  {
   "cell_type": "markdown",
   "id": "8bef1891",
   "metadata": {},
   "source": [
    "## 4.2 loc을 이용한 이름으로 조회\n",
    "- df.loc[행이름, 열이름] : 행 이름과 열 이름으로 조회\n",
    "    * 행 이름과 열 이름 자리에 lise ex. ['Name', 'Email']\n",
    "    * 행 이름과 열 이름 자리에 슬라이싱 ex [from:stop, from:stop] => stop 행 / 열을 포함한다.\n",
    "    * [] 속의 \",열이름\" 생략 시 모든 열을 출력\n",
    "    \n",
    "- 슬라이싱이 가능하며 loc방법은 열 이름을 따라 모두 조회(cf stop-1까지 X)"
   ]
  },
  {
   "cell_type": "code",
   "execution_count": null,
   "id": "a5865713",
   "metadata": {},
   "outputs": [],
   "source": [
    "member.index = ['동','서','남','북','중']\n",
    "member"
   ]
  },
  {
   "cell_type": "code",
   "execution_count": null,
   "id": "415ee152",
   "metadata": {},
   "outputs": [],
   "source": [
    "# member의 동 행부터 남 행\n",
    "member.loc['동':'남']"
   ]
  },
  {
   "cell_type": "code",
   "execution_count": null,
   "id": "a0d6019c",
   "metadata": {},
   "outputs": [],
   "source": [
    "# member의 동 행부터 남 행까지 \"Name\",\"Age\",\"Email\"\n",
    "member.loc['동':'남',\"Name\" : \"Email\"]"
   ]
  },
  {
   "cell_type": "code",
   "execution_count": null,
   "id": "79cad00a",
   "metadata": {},
   "outputs": [],
   "source": [
    "# member의 동 행과 남 행, \"Name\",\"Email\",\"Address\"\n",
    "member.loc[['동','남'],[\"Name\", \"Email\",\"Address\"]]"
   ]
  },
  {
   "cell_type": "code",
   "execution_count": null,
   "id": "d3a00880",
   "metadata": {},
   "outputs": [],
   "source": [
    "# loc을 이용한 특정 열 조회\n",
    "member['Name']\n",
    "member.loc[:,['Name',\"Address\"]] # member['Name',\"Address\"]"
   ]
  },
  {
   "cell_type": "code",
   "execution_count": null,
   "id": "0e543c94",
   "metadata": {},
   "outputs": [],
   "source": [
    "member['Name'] # 특정 행이나 열만 access => 결과가 시리즈로 반환\n",
    "type(member['Name'])"
   ]
  },
  {
   "cell_type": "code",
   "execution_count": null,
   "id": "f6645104",
   "metadata": {},
   "outputs": [],
   "source": [
    "member[[\"Name\"]]"
   ]
  },
  {
   "cell_type": "code",
   "execution_count": null,
   "id": "a55c4362",
   "metadata": {},
   "outputs": [],
   "source": [
    "member.loc['동'] # 시리즈 반환"
   ]
  },
  {
   "cell_type": "code",
   "execution_count": null,
   "id": "ee0d425e",
   "metadata": {},
   "outputs": [],
   "source": [
    "member.loc['동':'동'] # 시리즈 반환이 아니라 데이터프레임 반환이 필요하면 슬라이싱을 통해 얻을 수 있음"
   ]
  },
  {
   "cell_type": "markdown",
   "id": "d12264e6",
   "metadata": {},
   "source": [
    "## 4.3 iloc을 이용한 이름으로 조회\n",
    "- df.iloc[행번호, 열번호] : 행 번호와 열 번호로 조회\n",
    "    * 행 번호와 열 번호 자리에 lise ex. [0, 2]\n",
    "    * 행 번호와 열 번호 자리에 슬라이싱 ex [[1:2],[2,3]], [from:stop:step, from:stop:step] => stop-1 까지\n",
    "    * [  ] 속의 \",열 번호\" 생략 시 모든 열을 출력 cf) 행번호는 생략이 불가능\n",
    "   "
   ]
  },
  {
   "cell_type": "code",
   "execution_count": null,
   "id": "bc6a0668",
   "metadata": {},
   "outputs": [],
   "source": [
    "member"
   ]
  },
  {
   "cell_type": "code",
   "execution_count": null,
   "id": "1116c821",
   "metadata": {},
   "outputs": [],
   "source": [
    "# member의 0번째 행부터 2번째 행 모든 열\n",
    "member.iloc[0:3] # == member.loc['동':'남']"
   ]
  },
  {
   "cell_type": "code",
   "execution_count": null,
   "id": "84e1ec25",
   "metadata": {},
   "outputs": [],
   "source": [
    "# member의 0번째 행부터 2번째 행 짝수번째 열\n",
    "member.iloc[0:3,0::2]"
   ]
  },
  {
   "cell_type": "code",
   "execution_count": null,
   "id": "f6d0c3bf",
   "metadata": {},
   "outputs": [],
   "source": [
    "member.iloc[1] # 시리즈. 데이터프레임으로 만드려면 (1) 슬라이싱 이용 (2) pd.DataFrame(시리즈)\n",
    "member.iloc[1:2] # 데이터프레임"
   ]
  },
  {
   "cell_type": "code",
   "execution_count": null,
   "id": "37a4fe53",
   "metadata": {},
   "outputs": [],
   "source": [
    "# member의 짝수번째 행의 마지막 열 제외\n",
    "member.iloc[::2,:-1]"
   ]
  },
  {
   "cell_type": "code",
   "execution_count": null,
   "id": "80f8fd38",
   "metadata": {},
   "outputs": [],
   "source": [
    "# 모든 행의 마지막 열만 \"데이터 프레임\"으로 추출\n",
    "member.iloc[:,-1:].iloc[-1,-1]"
   ]
  },
  {
   "cell_type": "code",
   "execution_count": null,
   "id": "98571ed7",
   "metadata": {},
   "outputs": [],
   "source": [
    "# 0번째, 3번째 행 // 0번째, 3번째, 4번째 열 => 리스트를 넣어도 가능하다.\n",
    "member.iloc[[0,3],[0,3,4]]"
   ]
  },
  {
   "cell_type": "markdown",
   "id": "e384e5ca",
   "metadata": {},
   "source": [
    "## 4.4 조건으로 조회하기\n",
    "- df[ 조건 ] : 조건에 맞는 행(모든 열)\n",
    "- df.loc[ 조건, 열 ] 또는 df[ 조건 ][ 열이름 ] : 조건에 맞는 행의 특정 열\n",
    "    - 조건이 str이면 Series.str.함수 를 사용할 수 있다."
   ]
  },
  {
   "cell_type": "code",
   "execution_count": null,
   "id": "a8c3bec6",
   "metadata": {},
   "outputs": [],
   "source": [
    "# Age가 22보다 큰 데이터 셋 _ loc 쓰는 방법 : 비추\n",
    "member.loc[member.Age>22] "
   ]
  },
  {
   "cell_type": "code",
   "execution_count": null,
   "id": "efbc5814",
   "metadata": {},
   "outputs": [],
   "source": [
    "# Age가 22보다 큰 데이터 셋\n",
    "member[member.Age > 22] \n",
    "# member[[False,True,False,False,True,]] # Boolian 인덱싱 => numpy와 동일"
   ]
  },
  {
   "cell_type": "code",
   "execution_count": null,
   "id": "6759435e",
   "metadata": {},
   "outputs": [],
   "source": [
    "# Age가 22보다 큰 데이터의 Name, Age\n",
    "member[member.Age > 22][['Name','Age']] #1\n",
    "member.loc[member.Age>22,'Name':'Age'] #2 or member.loc[member.Age>22,['Name','Age']]"
   ]
  },
  {
   "cell_type": "code",
   "execution_count": null,
   "id": "c13a65ee",
   "metadata": {},
   "outputs": [],
   "source": [
    "# 괄호가 많으면 가독성이 급격히 떨어지기 때문에 가능하면 괄호를 줄이는 방법으로 풀어나가기"
   ]
  },
  {
   "cell_type": "markdown",
   "id": "d47166d8",
   "metadata": {},
   "source": [
    "※ 시리즈에 문자함수를 쓰기 위해 참조 https://pandas.pydata.org/pandas-docs/stable/reference/series.html#string-handling"
   ]
  },
  {
   "cell_type": "code",
   "execution_count": null,
   "id": "34861a1b",
   "metadata": {},
   "outputs": [],
   "source": [
    "address1 = '서울시 강동구'\n",
    "address2 = '부산시 중구'\n",
    "print(address1.startswith('서울시'))\n",
    "print(address2.startswith('서울시'))\n",
    "print(address1.find('강동구') != -1)\n",
    "print(address2.count('강동구') > 0)"
   ]
  },
  {
   "cell_type": "code",
   "execution_count": null,
   "id": "bbdd52cb",
   "metadata": {},
   "outputs": [],
   "source": [
    "# Address가 서울시로 시작하는 행들\n",
    "member[member.Address.str.startswith('서울')]"
   ]
  },
  {
   "cell_type": "code",
   "execution_count": null,
   "id": "47621492",
   "metadata": {},
   "outputs": [],
   "source": [
    "# Address에 강동구가 포함\n",
    "member[member.Address.str.contains('강동구')]\n",
    "member[member.Address.str.find('강동구')!=-1]\n",
    "member[member.Address.str.count('강동구')>0]"
   ]
  },
  {
   "cell_type": "code",
   "execution_count": null,
   "id": "c5b81b08",
   "metadata": {},
   "outputs": [],
   "source": [
    "# Address에 강동구가 포함되고 'Name','Age'\n",
    "member.loc[member.Address.str.contains('강동구'),'Name':'Age']\n",
    "member[member.Address.str.contains('강동구')][['Name','Age']]"
   ]
  },
  {
   "cell_type": "code",
   "execution_count": null,
   "id": "4c34be5f",
   "metadata": {},
   "outputs": [],
   "source": [
    "# 1999년도 태어난 데이터\n",
    "member[member.Birth.dt.month <= 6]"
   ]
  },
  {
   "cell_type": "markdown",
   "id": "294fdf2a",
   "metadata": {},
   "source": [
    "## 4.5 연습\n",
    "import seaborn as sns\n",
    "iris = sns.load_dataset('iris')\n",
    "```\n",
    "# 1. sepal_length 열만 출력\n",
    "\n",
    "# 2. 0~10행까지 마지막 열을 제외한 데이터 (loc, iloc)\n",
    "\n",
    "# 3. 3~10 행중에 'sepal_length'와 'petal_length' 열만 (loc, iloc)\n",
    "\n",
    "# 4. 0번째, 50번째, 100번째 행의 모든 열 (loc, iloc)\n",
    "\n",
    "# 5. 0번째, 25, 50번째, 75번, 100번째, 125번째 행의 petal_length와 petal_width (loc, iloc)\n",
    "\n",
    "# 6. species가 versicolor인 데이터의 모든 열\n",
    "\n",
    "# 7. species가 setosa인 데이터 최초 5개 행만 출력\n",
    "\n",
    "# 8. sepal_length가 6.5이상인 데이터 최초 5개 행만 출력\n",
    "\n",
    "# 9. sepal_length가 7.2이상인 데이터의 'sepal_length'와 'sepal_width'와 'petal_length'\n",
    "\n",
    "# 10. versicolor종중에서 sepal_length가 6.5보다 큰 데이터의 모든 열\n",
    "```"
   ]
  },
  {
   "cell_type": "code",
   "execution_count": null,
   "id": "cdaa19f8",
   "metadata": {},
   "outputs": [],
   "source": [
    "# 1. sepal_length 열만 출력\n",
    "pd.DataFrame(iris['sepal_length'])\n",
    "iris.sepal_length"
   ]
  },
  {
   "cell_type": "code",
   "execution_count": null,
   "id": "a9e5a157",
   "metadata": {},
   "outputs": [],
   "source": [
    "# 2. 0~10행까지 마지막 열을 제외한 데이터 (loc, iloc)\n",
    "display(iris.iloc[:11,:-1])\n",
    "display(iris.loc[:10,'sepal_length' : 'petal_width'])"
   ]
  },
  {
   "cell_type": "code",
   "execution_count": null,
   "id": "2037be6e",
   "metadata": {},
   "outputs": [],
   "source": [
    "# 3. 3~10 행중에 'sepal_length'와 'petal_length' 열만 (loc, iloc)\n",
    "display(iris.iloc[3:11,[0,2]])\n",
    "display(iris.loc[3:10,['sepal_length','petal_length']])"
   ]
  },
  {
   "cell_type": "code",
   "execution_count": null,
   "id": "b6619ce2",
   "metadata": {},
   "outputs": [],
   "source": [
    "# 4. 0번째, 50번째, 100번째 행의 모든 열 (loc, iloc)\n",
    "display(iris.iloc[0::50])\n",
    "display(iris.loc[0:100:50]) # 비추\n",
    "display(iris.loc[[0,50,100]])"
   ]
  },
  {
   "cell_type": "code",
   "execution_count": null,
   "id": "90e19ef4",
   "metadata": {},
   "outputs": [],
   "source": [
    "# 5. 0번째, 25, 50번째, 75번, 100번째, 125번째 행의 petal_length와 petal_width (loc, iloc)\n",
    "display(iris.iloc[::25,iris.columns.get_loc('petal_length'):-1])\n",
    "display(iris.iloc[::25,2:-1])\n",
    "display(iris.loc[::25,['petal_length','petal_width']]) # loc에서 인덱스 처럼 슬라이싱 하는 건 비추"
   ]
  },
  {
   "cell_type": "code",
   "execution_count": null,
   "id": "83cd56e6",
   "metadata": {},
   "outputs": [],
   "source": [
    "# 6. species가 versicolor인 데이터의 모든 열\n",
    "iris.loc[iris.species == 'versicolor']"
   ]
  },
  {
   "cell_type": "code",
   "execution_count": null,
   "id": "3caabc99",
   "metadata": {},
   "outputs": [],
   "source": [
    "# 7. species가 setosa인 데이터 최초 5개 행만 출력\n",
    "iris.loc[iris.species == 'setosa'].head()"
   ]
  },
  {
   "cell_type": "code",
   "execution_count": null,
   "id": "84711a09",
   "metadata": {},
   "outputs": [],
   "source": [
    "# 8. sepal_length가 6.5이상인 데이터 최초 5개 행만 출력\n",
    "iris.loc[iris.sepal_length >= 6.5].head()"
   ]
  },
  {
   "cell_type": "code",
   "execution_count": null,
   "id": "3e6249ae",
   "metadata": {},
   "outputs": [],
   "source": [
    "# 9. sepal_length가 7.2이상인 데이터의 'sepal_length'와 'sepal_width'와 'petal_length'\n",
    "iris.loc[iris.sepal_length >= 7.2,['sepal_length','sepal_width','petal_length']].head()\n",
    "iris.loc[iris.sepal_length >= 7.2,'sepal_length':'petal_length'].head()"
   ]
  },
  {
   "cell_type": "code",
   "execution_count": null,
   "id": "e504e033",
   "metadata": {},
   "outputs": [],
   "source": [
    "# 10. versicolor종중에서 sepal_length가 6.5보다 큰 데이터의 모든 열\n",
    "iris[(iris.species=='versicolor') & (iris.sepal_length > 6.5)] # and 연산 불가하나 & 연산이 가능하다. 비트연산하지 않기 위해 괄호습관\n",
    "# iris[np.logical_and((iris.species=='versicolor'),(iris.sepal_length > 6.5))]"
   ]
  },
  {
   "cell_type": "code",
   "execution_count": null,
   "id": "0311c2e8",
   "metadata": {},
   "outputs": [],
   "source": [
    "import numpy as np\n",
    "np.logical_and(True,True)"
   ]
  },
  {
   "cell_type": "markdown",
   "id": "4ad54e3e",
   "metadata": {},
   "source": [
    "## 4.6 정리\n",
    "- 데이터 프레임의 부분 데이터 조회 방법\n",
    "- df[열이름] - 특정 열 모든 행 조회\n",
    "- df[조건] - whrjsdp akwsms dlfma god whghl\n",
    "- df.loc[행이름, 열이름] : 이름조회, 조건(행이름 자리)으로 조회 가능\n",
    "    * 열이름을 생략하면 모든 열\n",
    "    * 행이름, 열이름 자리에 list, 슬라이싱\n",
    "- df.iloc[행번호, 열번호] : 번호 조회\n",
    "    * 열번호를 생략하면 모든 열\n",
    "    * 행번호, 열번호 자리에 list, 슬라이싱"
   ]
  },
  {
   "cell_type": "markdown",
   "id": "ef018bb1",
   "metadata": {},
   "source": [
    "# 5절 데이터 추가 및 삭제\n",
    "## 5.1 DataFrame  요소 삭제\n",
    "- df.drop(label(행 혹은 열 이름), axis) : axis = 0 행 삭제 / axis = 1 열 삭제"
   ]
  },
  {
   "cell_type": "code",
   "execution_count": null,
   "id": "77285c0e",
   "metadata": {},
   "outputs": [],
   "source": [
    "member = pd.read_csv('data/ch11_member.csv', comment='#', parse_dates=['Birth'])\n",
    "member.index = ['동','서','남','북','중']\n",
    "member"
   ]
  },
  {
   "cell_type": "code",
   "execution_count": null,
   "id": "d0c20278",
   "metadata": {},
   "outputs": [],
   "source": [
    "# (1) 단일 행 삭제\n",
    "member.drop('중', inplace = True) # axis 기본 값 : 0\n",
    "member"
   ]
  },
  {
   "cell_type": "code",
   "execution_count": null,
   "id": "9507ac45",
   "metadata": {},
   "outputs": [],
   "source": [
    "# (2) 복수 행 삭제\n",
    "member.drop(['동','서'],\n",
    "            #inplace = True\n",
    "           )"
   ]
  },
  {
   "cell_type": "code",
   "execution_count": null,
   "id": "10afd255",
   "metadata": {},
   "outputs": [],
   "source": [
    "# (3) 열 삭제\n",
    "display(member.drop(labels = 'Email', axis = 1), member.drop(labels = ['Email','Address'], axis = 1))"
   ]
  },
  {
   "cell_type": "markdown",
   "id": "13fb7655",
   "metadata": {},
   "source": [
    "## 5.2 DataFrame 요소 추가"
   ]
  },
  {
   "cell_type": "code",
   "execution_count": null,
   "id": "b5272b75",
   "metadata": {},
   "outputs": [],
   "source": [
    "# 데이터프레임 열 추가 1 : 공통된 값으로 추가\n",
    "member['favorite_no'] = 7 # 기본 dtype = int64\n",
    "member"
   ]
  },
  {
   "cell_type": "code",
   "execution_count": null,
   "id": "f74ffea6",
   "metadata": {},
   "outputs": [],
   "source": [
    "# 데이터프레임 열 추가 2 : 행 개수와 동일한 크기의 리스트를 추가\n",
    "member['fn'] = [7,7,7,None] # 결측치 None, np.nan"
   ]
  },
  {
   "cell_type": "code",
   "execution_count": null,
   "id": "188efbfa",
   "metadata": {},
   "outputs": [],
   "source": [
    "member"
   ]
  },
  {
   "cell_type": "code",
   "execution_count": null,
   "id": "62353dc2",
   "metadata": {},
   "outputs": [],
   "source": [
    "import math\n",
    "np.nan, None, math.nan # 결측치 3형제"
   ]
  },
  {
   "cell_type": "code",
   "execution_count": null,
   "id": "5478e0d2",
   "metadata": {},
   "outputs": [],
   "source": [
    "# 결측치는 정수형 변환이 불가(결측치 대체 후 형변환) : fillna 활용 등"
   ]
  },
  {
   "cell_type": "code",
   "execution_count": null,
   "id": "36035cca",
   "metadata": {},
   "outputs": [],
   "source": [
    "# 데이터프레임 열 추가 3 : 시리즈 추가\n",
    "member['fn2'] = pd.Series([180,175,160], index=['동','서','북']) # index = [인덱스 이름이 들어가야함]"
   ]
  },
  {
   "cell_type": "code",
   "execution_count": null,
   "id": "d3412939",
   "metadata": {},
   "outputs": [],
   "source": [
    "member"
   ]
  },
  {
   "cell_type": "code",
   "execution_count": null,
   "id": "da7adbba",
   "metadata": {},
   "outputs": [],
   "source": [
    "member = pd.read_csv('data/ch11_member.csv', comment = '#')\n",
    "member\n",
    "member['fn2'] = pd.Series([180,175,160])"
   ]
  },
  {
   "cell_type": "code",
   "execution_count": null,
   "id": "035f0f92",
   "metadata": {},
   "outputs": [],
   "source": [
    "member"
   ]
  },
  {
   "cell_type": "code",
   "execution_count": null,
   "id": "74d7a0e8",
   "metadata": {},
   "outputs": [],
   "source": [
    "# 데이터프레임 열 추가 3-2 : 시리즈 추가 + index = [인덱스(이름) 리스트]활용\n",
    "member['fn2'] = pd.Series([180,175,160], index=[0,3,4])\n",
    "member"
   ]
  },
  {
   "cell_type": "code",
   "execution_count": null,
   "id": "2ae3c3d4",
   "metadata": {},
   "outputs": [],
   "source": [
    "# 데이터프레임 행 추가 1\n",
    "# 행은 추가할 때 데이터를 데이터프레임 형태로 바꾼 후 기존 데이터프레임, 추가할 데이터프레임 두 데이터 프레임을 연결하는 방식 concat"
   ]
  },
  {
   "cell_type": "code",
   "execution_count": null,
   "id": "7b552824",
   "metadata": {},
   "outputs": [],
   "source": [
    "member = pd.read_csv('data/ch11_member.csv', comment = '#')\n",
    "member\n",
    "newmember = pd.DataFrame([{'Name' : '김길동', 'Age':35,'Email' : 'wow@gong.com','Address':'서울시 성동구','Birth':'2005-05-05'}])"
   ]
  },
  {
   "cell_type": "code",
   "execution_count": null,
   "id": "13f2a4c8",
   "metadata": {},
   "outputs": [],
   "source": [
    "newmember, newmember.index"
   ]
  },
  {
   "cell_type": "code",
   "execution_count": null,
   "id": "60aee169",
   "metadata": {},
   "outputs": [],
   "source": [
    "# 행 추가 시 member와 newmember 연결\n",
    "member = pd.concat([member,newmember]) # axis : default = 0, 행연결 if) axis = 1 열 연결"
   ]
  },
  {
   "cell_type": "code",
   "execution_count": null,
   "id": "36357b9f",
   "metadata": {},
   "outputs": [],
   "source": [
    "member"
   ]
  },
  {
   "cell_type": "code",
   "execution_count": null,
   "id": "5b9bc1d7",
   "metadata": {},
   "outputs": [],
   "source": [
    "# 열방향으로 붙이는 경우\n",
    "a = pd.DataFrame({'kor':[10,20,30],\n",
    "                  'mat':[40,50,50]})\n",
    "b = pd.DataFrame({'eng':[10,20,30],\n",
    "                 'sci' : [44,50,60]})\n",
    "a,b\n",
    "pd.concat((a,b), axis=1)"
   ]
  },
  {
   "cell_type": "code",
   "execution_count": null,
   "id": "03e44ad9",
   "metadata": {},
   "outputs": [],
   "source": [
    "# 인덱스 재조정\n",
    "member.index = range(len(member)) # 비추\n",
    "member"
   ]
  },
  {
   "cell_type": "code",
   "execution_count": null,
   "id": "25e7a68e",
   "metadata": {},
   "outputs": [],
   "source": [
    "member.reset_index(drop = True, inplace=True) # 기존의 index를 drop하고 새로운 연속된 index로 재조정\n",
    "# member.reset_index() : 기존의 index를 column에 편입시키고 새로운 연속된 index를 생성"
   ]
  },
  {
   "cell_type": "code",
   "execution_count": null,
   "id": "b0825ef2",
   "metadata": {},
   "outputs": [],
   "source": [
    "member"
   ]
  },
  {
   "cell_type": "code",
   "execution_count": null,
   "id": "330e24ba",
   "metadata": {},
   "outputs": [],
   "source": []
  },
  {
   "cell_type": "markdown",
   "id": "cbdb9989",
   "metadata": {},
   "source": [
    "# 6절 병합과 연결\n",
    "## 6.1 merge()를 이용한 병합"
   ]
  },
  {
   "cell_type": "code",
   "execution_count": null,
   "id": "ff0c91ff",
   "metadata": {},
   "outputs": [],
   "source": [
    "df1 = pd.DataFrame({'key' : ['a','b','c','d'], 'c1' : [1,2,3,4] })\n",
    "df2 = pd.DataFrame({'key' : ['a','b','c','e'], 'c2' : [5,6,7,8] })\n",
    "display(df1, df2)"
   ]
  },
  {
   "cell_type": "code",
   "execution_count": null,
   "id": "1cfba714",
   "metadata": {},
   "outputs": [],
   "source": [
    "df1.merge(df2) # default how = ' inner' : 양쪽 다 일치하는 데이터만 남김"
   ]
  },
  {
   "cell_type": "code",
   "execution_count": null,
   "id": "2e47abd2",
   "metadata": {},
   "outputs": [],
   "source": [
    "df1.merge(df2, how = 'outer') # how = 'outer' : 양쪽 데이터를 모두 남김"
   ]
  },
  {
   "cell_type": "code",
   "execution_count": null,
   "id": "2ba8a1af",
   "metadata": {},
   "outputs": [],
   "source": [
    "df1.merge(df2, how = 'right') # how = 'right' : 오른쪽(df2)를 기준으로 데이터를 남김"
   ]
  },
  {
   "cell_type": "code",
   "execution_count": null,
   "id": "1e13bf82",
   "metadata": {},
   "outputs": [],
   "source": [
    "df1.merge(df2, how = 'left') # how = 'left' : 왼쪽(df1)를 기준으로 데이터를 남김"
   ]
  },
  {
   "cell_type": "code",
   "execution_count": 2,
   "id": "622d0458",
   "metadata": {
    "collapsed": true
   },
   "outputs": [
    {
     "data": {
      "text/html": [
       "<div>\n",
       "<style scoped>\n",
       "    .dataframe tbody tr th:only-of-type {\n",
       "        vertical-align: middle;\n",
       "    }\n",
       "\n",
       "    .dataframe tbody tr th {\n",
       "        vertical-align: top;\n",
       "    }\n",
       "\n",
       "    .dataframe thead th {\n",
       "        text-align: right;\n",
       "    }\n",
       "</style>\n",
       "<table border=\"1\" class=\"dataframe\">\n",
       "  <thead>\n",
       "    <tr style=\"text-align: right;\">\n",
       "      <th></th>\n",
       "      <th>key3</th>\n",
       "      <th>c1</th>\n",
       "    </tr>\n",
       "  </thead>\n",
       "  <tbody>\n",
       "    <tr>\n",
       "      <th>0</th>\n",
       "      <td>a</td>\n",
       "      <td>1</td>\n",
       "    </tr>\n",
       "    <tr>\n",
       "      <th>1</th>\n",
       "      <td>b</td>\n",
       "      <td>2</td>\n",
       "    </tr>\n",
       "    <tr>\n",
       "      <th>2</th>\n",
       "      <td>c</td>\n",
       "      <td>3</td>\n",
       "    </tr>\n",
       "    <tr>\n",
       "      <th>3</th>\n",
       "      <td>f</td>\n",
       "      <td>5</td>\n",
       "    </tr>\n",
       "  </tbody>\n",
       "</table>\n",
       "</div>"
      ],
      "text/plain": [
       "  key3  c1\n",
       "0    a   1\n",
       "1    b   2\n",
       "2    c   3\n",
       "3    f   5"
      ]
     },
     "metadata": {},
     "output_type": "display_data"
    },
    {
     "data": {
      "text/html": [
       "<div>\n",
       "<style scoped>\n",
       "    .dataframe tbody tr th:only-of-type {\n",
       "        vertical-align: middle;\n",
       "    }\n",
       "\n",
       "    .dataframe tbody tr th {\n",
       "        vertical-align: top;\n",
       "    }\n",
       "\n",
       "    .dataframe thead th {\n",
       "        text-align: right;\n",
       "    }\n",
       "</style>\n",
       "<table border=\"1\" class=\"dataframe\">\n",
       "  <thead>\n",
       "    <tr style=\"text-align: right;\">\n",
       "      <th></th>\n",
       "      <th>key4</th>\n",
       "      <th>c2</th>\n",
       "    </tr>\n",
       "  </thead>\n",
       "  <tbody>\n",
       "    <tr>\n",
       "      <th>0</th>\n",
       "      <td>a</td>\n",
       "      <td>5</td>\n",
       "    </tr>\n",
       "    <tr>\n",
       "      <th>1</th>\n",
       "      <td>b</td>\n",
       "      <td>6</td>\n",
       "    </tr>\n",
       "    <tr>\n",
       "      <th>2</th>\n",
       "      <td>d</td>\n",
       "      <td>7</td>\n",
       "    </tr>\n",
       "    <tr>\n",
       "      <th>3</th>\n",
       "      <td>f</td>\n",
       "      <td>8</td>\n",
       "    </tr>\n",
       "  </tbody>\n",
       "</table>\n",
       "</div>"
      ],
      "text/plain": [
       "  key4  c2\n",
       "0    a   5\n",
       "1    b   6\n",
       "2    d   7\n",
       "3    f   8"
      ]
     },
     "metadata": {},
     "output_type": "display_data"
    }
   ],
   "source": [
    "import pandas as pd\n",
    "df3 = pd.DataFrame({'key3' : ['a','b','c','f'], 'c1' : [1,2,3,5] })\n",
    "df4 = pd.DataFrame({'key4' : ['a','b','d','f'], 'c2' : [5,6,7,8] })\n",
    "display(df3, df4)"
   ]
  },
  {
   "cell_type": "code",
   "execution_count": 3,
   "id": "2bb5e705",
   "metadata": {},
   "outputs": [
    {
     "data": {
      "text/html": [
       "<div>\n",
       "<style scoped>\n",
       "    .dataframe tbody tr th:only-of-type {\n",
       "        vertical-align: middle;\n",
       "    }\n",
       "\n",
       "    .dataframe tbody tr th {\n",
       "        vertical-align: top;\n",
       "    }\n",
       "\n",
       "    .dataframe thead th {\n",
       "        text-align: right;\n",
       "    }\n",
       "</style>\n",
       "<table border=\"1\" class=\"dataframe\">\n",
       "  <thead>\n",
       "    <tr style=\"text-align: right;\">\n",
       "      <th></th>\n",
       "      <th>key3</th>\n",
       "      <th>c1</th>\n",
       "      <th>key4</th>\n",
       "      <th>c2</th>\n",
       "    </tr>\n",
       "  </thead>\n",
       "  <tbody>\n",
       "    <tr>\n",
       "      <th>0</th>\n",
       "      <td>a</td>\n",
       "      <td>1</td>\n",
       "      <td>a</td>\n",
       "      <td>5</td>\n",
       "    </tr>\n",
       "    <tr>\n",
       "      <th>1</th>\n",
       "      <td>b</td>\n",
       "      <td>2</td>\n",
       "      <td>b</td>\n",
       "      <td>6</td>\n",
       "    </tr>\n",
       "    <tr>\n",
       "      <th>2</th>\n",
       "      <td>f</td>\n",
       "      <td>5</td>\n",
       "      <td>f</td>\n",
       "      <td>8</td>\n",
       "    </tr>\n",
       "  </tbody>\n",
       "</table>\n",
       "</div>"
      ],
      "text/plain": [
       "  key3  c1 key4  c2\n",
       "0    a   1    a   5\n",
       "1    b   2    b   6\n",
       "2    f   5    f   8"
      ]
     },
     "execution_count": 3,
     "metadata": {},
     "output_type": "execute_result"
    }
   ],
   "source": [
    "# df3.merge(df4) # 공통된 속성이 없어서 작동하지 않음\n",
    "df3.merge(df4, left_on='key3',right_on='key4') # key3 과 key4에 따라 병합을 해라"
   ]
  },
  {
   "cell_type": "code",
   "execution_count": 536,
   "id": "d60ae2fc",
   "metadata": {
    "collapsed": true
   },
   "outputs": [
    {
     "data": {
      "text/html": [
       "<div>\n",
       "<style scoped>\n",
       "    .dataframe tbody tr th:only-of-type {\n",
       "        vertical-align: middle;\n",
       "    }\n",
       "\n",
       "    .dataframe tbody tr th {\n",
       "        vertical-align: top;\n",
       "    }\n",
       "\n",
       "    .dataframe thead th {\n",
       "        text-align: right;\n",
       "    }\n",
       "</style>\n",
       "<table border=\"1\" class=\"dataframe\">\n",
       "  <thead>\n",
       "    <tr style=\"text-align: right;\">\n",
       "      <th></th>\n",
       "      <th>key3</th>\n",
       "      <th>c1</th>\n",
       "      <th>key4</th>\n",
       "      <th>c2</th>\n",
       "    </tr>\n",
       "  </thead>\n",
       "  <tbody>\n",
       "    <tr>\n",
       "      <th>0</th>\n",
       "      <td>a</td>\n",
       "      <td>1.0</td>\n",
       "      <td>a</td>\n",
       "      <td>5.0</td>\n",
       "    </tr>\n",
       "    <tr>\n",
       "      <th>1</th>\n",
       "      <td>b</td>\n",
       "      <td>2.0</td>\n",
       "      <td>b</td>\n",
       "      <td>6.0</td>\n",
       "    </tr>\n",
       "    <tr>\n",
       "      <th>2</th>\n",
       "      <td>c</td>\n",
       "      <td>3.0</td>\n",
       "      <td>NaN</td>\n",
       "      <td>NaN</td>\n",
       "    </tr>\n",
       "    <tr>\n",
       "      <th>3</th>\n",
       "      <td>f</td>\n",
       "      <td>5.0</td>\n",
       "      <td>f</td>\n",
       "      <td>8.0</td>\n",
       "    </tr>\n",
       "    <tr>\n",
       "      <th>4</th>\n",
       "      <td>NaN</td>\n",
       "      <td>NaN</td>\n",
       "      <td>d</td>\n",
       "      <td>7.0</td>\n",
       "    </tr>\n",
       "  </tbody>\n",
       "</table>\n",
       "</div>"
      ],
      "text/plain": [
       "  key3   c1 key4   c2\n",
       "0    a  1.0    a  5.0\n",
       "1    b  2.0    b  6.0\n",
       "2    c  3.0  NaN  NaN\n",
       "3    f  5.0    f  8.0\n",
       "4  NaN  NaN    d  7.0"
      ]
     },
     "execution_count": 536,
     "metadata": {},
     "output_type": "execute_result"
    }
   ],
   "source": [
    "# df3.merge(df4) # 공통된 속성이 없어서 작동하지 않음\n",
    "df3.merge(df4, left_on='key3',right_on='key4', how = 'outer') # key3 과 key4에 따라 병합을 해라"
   ]
  },
  {
   "cell_type": "code",
   "execution_count": 539,
   "id": "e7730442",
   "metadata": {
    "collapsed": true
   },
   "outputs": [
    {
     "data": {
      "text/html": [
       "<div>\n",
       "<style scoped>\n",
       "    .dataframe tbody tr th:only-of-type {\n",
       "        vertical-align: middle;\n",
       "    }\n",
       "\n",
       "    .dataframe tbody tr th {\n",
       "        vertical-align: top;\n",
       "    }\n",
       "\n",
       "    .dataframe thead th {\n",
       "        text-align: right;\n",
       "    }\n",
       "</style>\n",
       "<table border=\"1\" class=\"dataframe\">\n",
       "  <thead>\n",
       "    <tr style=\"text-align: right;\">\n",
       "      <th></th>\n",
       "      <th>key3</th>\n",
       "      <th>c1</th>\n",
       "      <th>key4</th>\n",
       "      <th>c2</th>\n",
       "    </tr>\n",
       "  </thead>\n",
       "  <tbody>\n",
       "    <tr>\n",
       "      <th>0</th>\n",
       "      <td>a</td>\n",
       "      <td>1</td>\n",
       "      <td>a</td>\n",
       "      <td>5</td>\n",
       "    </tr>\n",
       "    <tr>\n",
       "      <th>1</th>\n",
       "      <td>b</td>\n",
       "      <td>2</td>\n",
       "      <td>b</td>\n",
       "      <td>6</td>\n",
       "    </tr>\n",
       "    <tr>\n",
       "      <th>2</th>\n",
       "      <td>c</td>\n",
       "      <td>3</td>\n",
       "      <td>d</td>\n",
       "      <td>7</td>\n",
       "    </tr>\n",
       "    <tr>\n",
       "      <th>3</th>\n",
       "      <td>f</td>\n",
       "      <td>5</td>\n",
       "      <td>f</td>\n",
       "      <td>8</td>\n",
       "    </tr>\n",
       "  </tbody>\n",
       "</table>\n",
       "</div>"
      ],
      "text/plain": [
       "  key3  c1 key4  c2\n",
       "0    a   1    a   5\n",
       "1    b   2    b   6\n",
       "2    c   3    d   7\n",
       "3    f   5    f   8"
      ]
     },
     "execution_count": 539,
     "metadata": {},
     "output_type": "execute_result"
    }
   ],
   "source": [
    "df3.merge(df4, left_index= True, right_index= True) # 인덱스를 기준으로 합쳐짐 == pd.concat([df3, df4], axis=1)"
   ]
  },
  {
   "cell_type": "markdown",
   "id": "f0c418ae",
   "metadata": {},
   "source": [
    "## 6.2 concat()을 이용한 연결\n",
    "- pd.concat( [df1, df2] ,axis)\n",
    "    * axis = 0 : 기본값, 위아래로 연결\n",
    "    * axis = 1 : 좌우로 연결\n",
    "    * 행렬의 형태와 column의 이름에 따라 결측치가 발생"
   ]
  },
  {
   "cell_type": "code",
   "execution_count": 542,
   "id": "5112da10",
   "metadata": {
    "collapsed": true
   },
   "outputs": [
    {
     "data": {
      "text/html": [
       "<div>\n",
       "<style scoped>\n",
       "    .dataframe tbody tr th:only-of-type {\n",
       "        vertical-align: middle;\n",
       "    }\n",
       "\n",
       "    .dataframe tbody tr th {\n",
       "        vertical-align: top;\n",
       "    }\n",
       "\n",
       "    .dataframe thead th {\n",
       "        text-align: right;\n",
       "    }\n",
       "</style>\n",
       "<table border=\"1\" class=\"dataframe\">\n",
       "  <thead>\n",
       "    <tr style=\"text-align: right;\">\n",
       "      <th></th>\n",
       "      <th>key</th>\n",
       "      <th>c1</th>\n",
       "    </tr>\n",
       "  </thead>\n",
       "  <tbody>\n",
       "    <tr>\n",
       "      <th>0</th>\n",
       "      <td>a</td>\n",
       "      <td>1</td>\n",
       "    </tr>\n",
       "    <tr>\n",
       "      <th>1</th>\n",
       "      <td>b</td>\n",
       "      <td>2</td>\n",
       "    </tr>\n",
       "    <tr>\n",
       "      <th>2</th>\n",
       "      <td>c</td>\n",
       "      <td>3</td>\n",
       "    </tr>\n",
       "    <tr>\n",
       "      <th>3</th>\n",
       "      <td>d</td>\n",
       "      <td>4</td>\n",
       "    </tr>\n",
       "    <tr>\n",
       "      <th>4</th>\n",
       "      <td>a</td>\n",
       "      <td>5</td>\n",
       "    </tr>\n",
       "    <tr>\n",
       "      <th>5</th>\n",
       "      <td>b</td>\n",
       "      <td>6</td>\n",
       "    </tr>\n",
       "    <tr>\n",
       "      <th>6</th>\n",
       "      <td>c</td>\n",
       "      <td>7</td>\n",
       "    </tr>\n",
       "    <tr>\n",
       "      <th>7</th>\n",
       "      <td>e</td>\n",
       "      <td>8</td>\n",
       "    </tr>\n",
       "  </tbody>\n",
       "</table>\n",
       "</div>"
      ],
      "text/plain": [
       "  key  c1\n",
       "0   a   1\n",
       "1   b   2\n",
       "2   c   3\n",
       "3   d   4\n",
       "4   a   5\n",
       "5   b   6\n",
       "6   c   7\n",
       "7   e   8"
      ]
     },
     "execution_count": 542,
     "metadata": {},
     "output_type": "execute_result"
    }
   ],
   "source": [
    "# 위아래 연결\n",
    "df1 = pd.DataFrame({'key' : ['a','b','c','d'], 'c1' : [1,2,3,4] })\n",
    "df2 = pd.DataFrame({'key' : ['a','b','c','e'], 'c1' : [5,6,7,8] })\n",
    "pd.concat([df1,df2], axis = 0).reset_index(drop = True)"
   ]
  },
  {
   "cell_type": "code",
   "execution_count": 545,
   "id": "c8014aa1",
   "metadata": {
    "collapsed": true
   },
   "outputs": [
    {
     "data": {
      "text/html": [
       "<div>\n",
       "<style scoped>\n",
       "    .dataframe tbody tr th:only-of-type {\n",
       "        vertical-align: middle;\n",
       "    }\n",
       "\n",
       "    .dataframe tbody tr th {\n",
       "        vertical-align: top;\n",
       "    }\n",
       "\n",
       "    .dataframe thead th {\n",
       "        text-align: right;\n",
       "    }\n",
       "</style>\n",
       "<table border=\"1\" class=\"dataframe\">\n",
       "  <thead>\n",
       "    <tr style=\"text-align: right;\">\n",
       "      <th></th>\n",
       "      <th>key3</th>\n",
       "      <th>c1</th>\n",
       "      <th>key4</th>\n",
       "      <th>c2</th>\n",
       "    </tr>\n",
       "  </thead>\n",
       "  <tbody>\n",
       "    <tr>\n",
       "      <th>0</th>\n",
       "      <td>a</td>\n",
       "      <td>1</td>\n",
       "      <td>a</td>\n",
       "      <td>5</td>\n",
       "    </tr>\n",
       "    <tr>\n",
       "      <th>1</th>\n",
       "      <td>b</td>\n",
       "      <td>2</td>\n",
       "      <td>b</td>\n",
       "      <td>6</td>\n",
       "    </tr>\n",
       "    <tr>\n",
       "      <th>2</th>\n",
       "      <td>c</td>\n",
       "      <td>3</td>\n",
       "      <td>d</td>\n",
       "      <td>7</td>\n",
       "    </tr>\n",
       "    <tr>\n",
       "      <th>3</th>\n",
       "      <td>f</td>\n",
       "      <td>5</td>\n",
       "      <td>f</td>\n",
       "      <td>8</td>\n",
       "    </tr>\n",
       "  </tbody>\n",
       "</table>\n",
       "</div>"
      ],
      "text/plain": [
       "  key3  c1 key4  c2\n",
       "0    a   1    a   5\n",
       "1    b   2    b   6\n",
       "2    c   3    d   7\n",
       "3    f   5    f   8"
      ]
     },
     "execution_count": 545,
     "metadata": {},
     "output_type": "execute_result"
    }
   ],
   "source": [
    "# 좌우 연결\n",
    "df3 = pd.DataFrame({'key3' : ['a','b','c','f'], 'c1' : [1,2,3,5] })\n",
    "df4 = pd.DataFrame({'key4' : ['a','b','d','f'], 'c2' : [5,6,7,8] })\n",
    "pd.concat([df3,df4], axis = 1)"
   ]
  },
  {
   "cell_type": "markdown",
   "id": "743599ca",
   "metadata": {},
   "source": [
    "- merge는 공통속성을 따지지만 concat은 공통 속성을 따지지 않음"
   ]
  },
  {
   "cell_type": "markdown",
   "id": "e73ee6de",
   "metadata": {},
   "source": [
    "# 7절 정렬\n",
    "- 행/열이름 정렬 df.sort_index(axis) 행(axis=0) 또는 열(axis=1) 이름으로 정렬\n",
    "- 값에 의한 정렬 df.sort_values(by=정렬기준이 될 열 이름, ascending = T/F, inplace = True)\n",
    "    * 주의 : '100' < '9'"
   ]
  },
  {
   "cell_type": "code",
   "execution_count": 562,
   "id": "12020b6f",
   "metadata": {
    "collapsed": true
   },
   "outputs": [
    {
     "data": {
      "text/html": [
       "<div>\n",
       "<style scoped>\n",
       "    .dataframe tbody tr th:only-of-type {\n",
       "        vertical-align: middle;\n",
       "    }\n",
       "\n",
       "    .dataframe tbody tr th {\n",
       "        vertical-align: top;\n",
       "    }\n",
       "\n",
       "    .dataframe thead th {\n",
       "        text-align: right;\n",
       "    }\n",
       "</style>\n",
       "<table border=\"1\" class=\"dataframe\">\n",
       "  <thead>\n",
       "    <tr style=\"text-align: right;\">\n",
       "      <th></th>\n",
       "      <th>Name</th>\n",
       "      <th>Age</th>\n",
       "      <th>Email</th>\n",
       "      <th>Address</th>\n",
       "      <th>Birth</th>\n",
       "    </tr>\n",
       "  </thead>\n",
       "  <tbody>\n",
       "    <tr>\n",
       "      <th>동</th>\n",
       "      <td>홍길동</td>\n",
       "      <td>20</td>\n",
       "      <td>hong@hong.com</td>\n",
       "      <td>서울시 강동구</td>\n",
       "      <td>1999-01-01</td>\n",
       "    </tr>\n",
       "    <tr>\n",
       "      <th>서</th>\n",
       "      <td>홍길서</td>\n",
       "      <td>30</td>\n",
       "      <td>seo@hong.com</td>\n",
       "      <td>서울시 중구</td>\n",
       "      <td>1999-12-01</td>\n",
       "    </tr>\n",
       "    <tr>\n",
       "      <th>남</th>\n",
       "      <td>홍길남</td>\n",
       "      <td>21</td>\n",
       "      <td>nam@hong.com</td>\n",
       "      <td>서울시 강동구</td>\n",
       "      <td>1999-11-01</td>\n",
       "    </tr>\n",
       "    <tr>\n",
       "      <th>북</th>\n",
       "      <td>홍길북</td>\n",
       "      <td>22</td>\n",
       "      <td>buk@hong.com</td>\n",
       "      <td>서울시 관악구</td>\n",
       "      <td>1999-05-01</td>\n",
       "    </tr>\n",
       "    <tr>\n",
       "      <th>중</th>\n",
       "      <td>홍길중</td>\n",
       "      <td>23</td>\n",
       "      <td>mid@hong.com</td>\n",
       "      <td>부산시 중구</td>\n",
       "      <td>1999-01-30</td>\n",
       "    </tr>\n",
       "  </tbody>\n",
       "</table>\n",
       "</div>"
      ],
      "text/plain": [
       "  Name  Age          Email  Address       Birth\n",
       "동  홍길동   20  hong@hong.com  서울시 강동구  1999-01-01\n",
       "서  홍길서   30   seo@hong.com   서울시 중구  1999-12-01\n",
       "남  홍길남   21   nam@hong.com  서울시 강동구  1999-11-01\n",
       "북  홍길북   22   buk@hong.com  서울시 관악구  1999-05-01\n",
       "중  홍길중   23   mid@hong.com   부산시 중구  1999-01-30"
      ]
     },
     "execution_count": 562,
     "metadata": {},
     "output_type": "execute_result"
    }
   ],
   "source": [
    "member = pd.read_csv('data/ch11_member.csv', comment = '#')\n",
    "member.index = ['동','서','남','북','중']\n",
    "member"
   ]
  },
  {
   "cell_type": "markdown",
   "id": "1513ce81",
   "metadata": {},
   "source": [
    "## 7.1 행 이름으로 정렬"
   ]
  },
  {
   "cell_type": "code",
   "execution_count": 565,
   "id": "c3d19fd3",
   "metadata": {},
   "outputs": [],
   "source": [
    "member.sort_index(axis = 0)\n",
    "member.sort_index(axis = 'rows', inplace= True) # ascending : True(기본값), 오름차순"
   ]
  },
  {
   "cell_type": "code",
   "execution_count": 566,
   "id": "4c96c6e2",
   "metadata": {},
   "outputs": [
    {
     "data": {
      "text/html": [
       "<div>\n",
       "<style scoped>\n",
       "    .dataframe tbody tr th:only-of-type {\n",
       "        vertical-align: middle;\n",
       "    }\n",
       "\n",
       "    .dataframe tbody tr th {\n",
       "        vertical-align: top;\n",
       "    }\n",
       "\n",
       "    .dataframe thead th {\n",
       "        text-align: right;\n",
       "    }\n",
       "</style>\n",
       "<table border=\"1\" class=\"dataframe\">\n",
       "  <thead>\n",
       "    <tr style=\"text-align: right;\">\n",
       "      <th></th>\n",
       "      <th>Name</th>\n",
       "      <th>Age</th>\n",
       "      <th>Email</th>\n",
       "      <th>Address</th>\n",
       "      <th>Birth</th>\n",
       "    </tr>\n",
       "  </thead>\n",
       "  <tbody>\n",
       "    <tr>\n",
       "      <th>남</th>\n",
       "      <td>홍길남</td>\n",
       "      <td>21</td>\n",
       "      <td>nam@hong.com</td>\n",
       "      <td>서울시 강동구</td>\n",
       "      <td>1999-11-01</td>\n",
       "    </tr>\n",
       "    <tr>\n",
       "      <th>동</th>\n",
       "      <td>홍길동</td>\n",
       "      <td>20</td>\n",
       "      <td>hong@hong.com</td>\n",
       "      <td>서울시 강동구</td>\n",
       "      <td>1999-01-01</td>\n",
       "    </tr>\n",
       "    <tr>\n",
       "      <th>북</th>\n",
       "      <td>홍길북</td>\n",
       "      <td>22</td>\n",
       "      <td>buk@hong.com</td>\n",
       "      <td>서울시 관악구</td>\n",
       "      <td>1999-05-01</td>\n",
       "    </tr>\n",
       "    <tr>\n",
       "      <th>서</th>\n",
       "      <td>홍길서</td>\n",
       "      <td>30</td>\n",
       "      <td>seo@hong.com</td>\n",
       "      <td>서울시 중구</td>\n",
       "      <td>1999-12-01</td>\n",
       "    </tr>\n",
       "    <tr>\n",
       "      <th>중</th>\n",
       "      <td>홍길중</td>\n",
       "      <td>23</td>\n",
       "      <td>mid@hong.com</td>\n",
       "      <td>부산시 중구</td>\n",
       "      <td>1999-01-30</td>\n",
       "    </tr>\n",
       "  </tbody>\n",
       "</table>\n",
       "</div>"
      ],
      "text/plain": [
       "  Name  Age          Email  Address       Birth\n",
       "남  홍길남   21   nam@hong.com  서울시 강동구  1999-11-01\n",
       "동  홍길동   20  hong@hong.com  서울시 강동구  1999-01-01\n",
       "북  홍길북   22   buk@hong.com  서울시 관악구  1999-05-01\n",
       "서  홍길서   30   seo@hong.com   서울시 중구  1999-12-01\n",
       "중  홍길중   23   mid@hong.com   부산시 중구  1999-01-30"
      ]
     },
     "execution_count": 566,
     "metadata": {},
     "output_type": "execute_result"
    }
   ],
   "source": [
    "member"
   ]
  },
  {
   "cell_type": "markdown",
   "id": "931a0f19",
   "metadata": {},
   "source": [
    "## 7.2 열 이름으로 정렬\n"
   ]
  },
  {
   "cell_type": "code",
   "execution_count": 568,
   "id": "d7968929",
   "metadata": {},
   "outputs": [],
   "source": [
    "member.sort_index(axis = 1)\n",
    "member.sort_index(axis = 'columns', inplace = True) # ascending : True(기본값), 오름차순"
   ]
  },
  {
   "cell_type": "code",
   "execution_count": 569,
   "id": "ebf392b0",
   "metadata": {},
   "outputs": [
    {
     "data": {
      "text/html": [
       "<div>\n",
       "<style scoped>\n",
       "    .dataframe tbody tr th:only-of-type {\n",
       "        vertical-align: middle;\n",
       "    }\n",
       "\n",
       "    .dataframe tbody tr th {\n",
       "        vertical-align: top;\n",
       "    }\n",
       "\n",
       "    .dataframe thead th {\n",
       "        text-align: right;\n",
       "    }\n",
       "</style>\n",
       "<table border=\"1\" class=\"dataframe\">\n",
       "  <thead>\n",
       "    <tr style=\"text-align: right;\">\n",
       "      <th></th>\n",
       "      <th>Address</th>\n",
       "      <th>Age</th>\n",
       "      <th>Birth</th>\n",
       "      <th>Email</th>\n",
       "      <th>Name</th>\n",
       "    </tr>\n",
       "  </thead>\n",
       "  <tbody>\n",
       "    <tr>\n",
       "      <th>남</th>\n",
       "      <td>서울시 강동구</td>\n",
       "      <td>21</td>\n",
       "      <td>1999-11-01</td>\n",
       "      <td>nam@hong.com</td>\n",
       "      <td>홍길남</td>\n",
       "    </tr>\n",
       "    <tr>\n",
       "      <th>동</th>\n",
       "      <td>서울시 강동구</td>\n",
       "      <td>20</td>\n",
       "      <td>1999-01-01</td>\n",
       "      <td>hong@hong.com</td>\n",
       "      <td>홍길동</td>\n",
       "    </tr>\n",
       "    <tr>\n",
       "      <th>북</th>\n",
       "      <td>서울시 관악구</td>\n",
       "      <td>22</td>\n",
       "      <td>1999-05-01</td>\n",
       "      <td>buk@hong.com</td>\n",
       "      <td>홍길북</td>\n",
       "    </tr>\n",
       "    <tr>\n",
       "      <th>서</th>\n",
       "      <td>서울시 중구</td>\n",
       "      <td>30</td>\n",
       "      <td>1999-12-01</td>\n",
       "      <td>seo@hong.com</td>\n",
       "      <td>홍길서</td>\n",
       "    </tr>\n",
       "    <tr>\n",
       "      <th>중</th>\n",
       "      <td>부산시 중구</td>\n",
       "      <td>23</td>\n",
       "      <td>1999-01-30</td>\n",
       "      <td>mid@hong.com</td>\n",
       "      <td>홍길중</td>\n",
       "    </tr>\n",
       "  </tbody>\n",
       "</table>\n",
       "</div>"
      ],
      "text/plain": [
       "   Address  Age       Birth          Email Name\n",
       "남  서울시 강동구   21  1999-11-01   nam@hong.com  홍길남\n",
       "동  서울시 강동구   20  1999-01-01  hong@hong.com  홍길동\n",
       "북  서울시 관악구   22  1999-05-01   buk@hong.com  홍길북\n",
       "서   서울시 중구   30  1999-12-01   seo@hong.com  홍길서\n",
       "중   부산시 중구   23  1999-01-30   mid@hong.com  홍길중"
      ]
     },
     "execution_count": 569,
     "metadata": {},
     "output_type": "execute_result"
    }
   ],
   "source": [
    "member"
   ]
  },
  {
   "cell_type": "markdown",
   "id": "2daa937e",
   "metadata": {},
   "source": [
    "## 7.3 값에 의한 정렬"
   ]
  },
  {
   "cell_type": "code",
   "execution_count": 584,
   "id": "6be6d504",
   "metadata": {},
   "outputs": [
    {
     "data": {
      "text/html": [
       "<div>\n",
       "<style scoped>\n",
       "    .dataframe tbody tr th:only-of-type {\n",
       "        vertical-align: middle;\n",
       "    }\n",
       "\n",
       "    .dataframe tbody tr th {\n",
       "        vertical-align: top;\n",
       "    }\n",
       "\n",
       "    .dataframe thead th {\n",
       "        text-align: right;\n",
       "    }\n",
       "</style>\n",
       "<table border=\"1\" class=\"dataframe\">\n",
       "  <thead>\n",
       "    <tr style=\"text-align: right;\">\n",
       "      <th></th>\n",
       "      <th>Address</th>\n",
       "      <th>Age</th>\n",
       "      <th>Birth</th>\n",
       "      <th>Email</th>\n",
       "      <th>Name</th>\n",
       "    </tr>\n",
       "  </thead>\n",
       "  <tbody>\n",
       "    <tr>\n",
       "      <th>남</th>\n",
       "      <td>서울시 강동구</td>\n",
       "      <td>21</td>\n",
       "      <td>1999-11-01</td>\n",
       "      <td>nam@hong.com</td>\n",
       "      <td>홍길남</td>\n",
       "    </tr>\n",
       "    <tr>\n",
       "      <th>동</th>\n",
       "      <td>서울시 강동구</td>\n",
       "      <td>20</td>\n",
       "      <td>1999-01-01</td>\n",
       "      <td>hong@hong.com</td>\n",
       "      <td>홍길동</td>\n",
       "    </tr>\n",
       "    <tr>\n",
       "      <th>북</th>\n",
       "      <td>서울시 관악구</td>\n",
       "      <td>22</td>\n",
       "      <td>1999-05-01</td>\n",
       "      <td>buk@hong.com</td>\n",
       "      <td>홍길북</td>\n",
       "    </tr>\n",
       "    <tr>\n",
       "      <th>서</th>\n",
       "      <td>서울시 중구</td>\n",
       "      <td>30</td>\n",
       "      <td>1999-12-01</td>\n",
       "      <td>seo@hong.com</td>\n",
       "      <td>홍길서</td>\n",
       "    </tr>\n",
       "    <tr>\n",
       "      <th>중</th>\n",
       "      <td>부산시 중구</td>\n",
       "      <td>23</td>\n",
       "      <td>1999-01-30</td>\n",
       "      <td>mid@hong.com</td>\n",
       "      <td>홍길중</td>\n",
       "    </tr>\n",
       "    <tr>\n",
       "      <th>0</th>\n",
       "      <td>서울시 관악구</td>\n",
       "      <td>20</td>\n",
       "      <td>1999-01-02</td>\n",
       "      <td>hong@naver.com</td>\n",
       "      <td>칼치기</td>\n",
       "    </tr>\n",
       "    <tr>\n",
       "      <th>0</th>\n",
       "      <td>서울시 관악구</td>\n",
       "      <td>20</td>\n",
       "      <td>1999-01-02</td>\n",
       "      <td>hong@naver.com</td>\n",
       "      <td>칼치기</td>\n",
       "    </tr>\n",
       "    <tr>\n",
       "      <th>0</th>\n",
       "      <td>서울시 관악구</td>\n",
       "      <td>20</td>\n",
       "      <td>1999-01-02</td>\n",
       "      <td>hong@naver.com</td>\n",
       "      <td>칼치기</td>\n",
       "    </tr>\n",
       "  </tbody>\n",
       "</table>\n",
       "</div>"
      ],
      "text/plain": [
       "   Address  Age       Birth           Email Name\n",
       "남  서울시 강동구   21  1999-11-01    nam@hong.com  홍길남\n",
       "동  서울시 강동구   20  1999-01-01   hong@hong.com  홍길동\n",
       "북  서울시 관악구   22  1999-05-01    buk@hong.com  홍길북\n",
       "서   서울시 중구   30  1999-12-01    seo@hong.com  홍길서\n",
       "중   부산시 중구   23  1999-01-30    mid@hong.com  홍길중\n",
       "0  서울시 관악구   20  1999-01-02  hong@naver.com  칼치기\n",
       "0  서울시 관악구   20  1999-01-02  hong@naver.com  칼치기\n",
       "0  서울시 관악구   20  1999-01-02  hong@naver.com  칼치기"
      ]
     },
     "execution_count": 584,
     "metadata": {},
     "output_type": "execute_result"
    }
   ],
   "source": [
    "member.sort_values('Age')\n",
    "new_member = pd.DataFrame([{'Name' : '칼치기','Age' : 20, 'Birth' : '1999-01-02', 'Address' : '서울시 관악구', 'Email':'hong@naver.com'}])\n",
    "new_member\n",
    "member = pd.concat([member, new_member])\n",
    "member"
   ]
  },
  {
   "cell_type": "code",
   "execution_count": 585,
   "id": "73e9e956",
   "metadata": {},
   "outputs": [],
   "source": [
    "member.index = ['동','서','남','북','중','중','중','중']"
   ]
  },
  {
   "cell_type": "code",
   "execution_count": 594,
   "id": "f81310ae",
   "metadata": {},
   "outputs": [],
   "source": [
    "member.sort_values('Age', ascending=False, inplace=True) # 'Age'열 값을 기준으로 오름차순 정렬"
   ]
  },
  {
   "cell_type": "code",
   "execution_count": 598,
   "id": "6a6d6793",
   "metadata": {
    "collapsed": true
   },
   "outputs": [
    {
     "data": {
      "text/html": [
       "<div>\n",
       "<style scoped>\n",
       "    .dataframe tbody tr th:only-of-type {\n",
       "        vertical-align: middle;\n",
       "    }\n",
       "\n",
       "    .dataframe tbody tr th {\n",
       "        vertical-align: top;\n",
       "    }\n",
       "\n",
       "    .dataframe thead th {\n",
       "        text-align: right;\n",
       "    }\n",
       "</style>\n",
       "<table border=\"1\" class=\"dataframe\">\n",
       "  <thead>\n",
       "    <tr style=\"text-align: right;\">\n",
       "      <th></th>\n",
       "      <th>Address</th>\n",
       "      <th>Age</th>\n",
       "      <th>Birth</th>\n",
       "      <th>Email</th>\n",
       "      <th>Name</th>\n",
       "    </tr>\n",
       "  </thead>\n",
       "  <tbody>\n",
       "    <tr>\n",
       "      <th>중</th>\n",
       "      <td>부산시 중구</td>\n",
       "      <td>23</td>\n",
       "      <td>1999-01-30</td>\n",
       "      <td>mid@hong.com</td>\n",
       "      <td>홍길중</td>\n",
       "    </tr>\n",
       "    <tr>\n",
       "      <th>서</th>\n",
       "      <td>서울시 강동구</td>\n",
       "      <td>20</td>\n",
       "      <td>1999-01-01</td>\n",
       "      <td>hong@hong.com</td>\n",
       "      <td>홍길동</td>\n",
       "    </tr>\n",
       "    <tr>\n",
       "      <th>동</th>\n",
       "      <td>서울시 강동구</td>\n",
       "      <td>21</td>\n",
       "      <td>1999-11-01</td>\n",
       "      <td>nam@hong.com</td>\n",
       "      <td>홍길남</td>\n",
       "    </tr>\n",
       "    <tr>\n",
       "      <th>중</th>\n",
       "      <td>서울시 관악구</td>\n",
       "      <td>20</td>\n",
       "      <td>1999-01-02</td>\n",
       "      <td>hong@naver.com</td>\n",
       "      <td>칼치기</td>\n",
       "    </tr>\n",
       "    <tr>\n",
       "      <th>중</th>\n",
       "      <td>서울시 관악구</td>\n",
       "      <td>20</td>\n",
       "      <td>1999-01-02</td>\n",
       "      <td>hong@naver.com</td>\n",
       "      <td>칼치기</td>\n",
       "    </tr>\n",
       "    <tr>\n",
       "      <th>중</th>\n",
       "      <td>서울시 관악구</td>\n",
       "      <td>20</td>\n",
       "      <td>1999-01-02</td>\n",
       "      <td>hong@naver.com</td>\n",
       "      <td>칼치기</td>\n",
       "    </tr>\n",
       "    <tr>\n",
       "      <th>남</th>\n",
       "      <td>서울시 관악구</td>\n",
       "      <td>22</td>\n",
       "      <td>1999-05-01</td>\n",
       "      <td>buk@hong.com</td>\n",
       "      <td>홍길북</td>\n",
       "    </tr>\n",
       "    <tr>\n",
       "      <th>북</th>\n",
       "      <td>서울시 중구</td>\n",
       "      <td>30</td>\n",
       "      <td>1999-12-01</td>\n",
       "      <td>seo@hong.com</td>\n",
       "      <td>홍길서</td>\n",
       "    </tr>\n",
       "  </tbody>\n",
       "</table>\n",
       "</div>"
      ],
      "text/plain": [
       "   Address  Age       Birth           Email Name\n",
       "중   부산시 중구   23  1999-01-30    mid@hong.com  홍길중\n",
       "서  서울시 강동구   20  1999-01-01   hong@hong.com  홍길동\n",
       "동  서울시 강동구   21  1999-11-01    nam@hong.com  홍길남\n",
       "중  서울시 관악구   20  1999-01-02  hong@naver.com  칼치기\n",
       "중  서울시 관악구   20  1999-01-02  hong@naver.com  칼치기\n",
       "중  서울시 관악구   20  1999-01-02  hong@naver.com  칼치기\n",
       "남  서울시 관악구   22  1999-05-01    buk@hong.com  홍길북\n",
       "북   서울시 중구   30  1999-12-01    seo@hong.com  홍길서"
      ]
     },
     "execution_count": 598,
     "metadata": {},
     "output_type": "execute_result"
    }
   ],
   "source": [
    "# 기준이 2개(이상)일 경우 : 'Address' 기준 오름차순 정렬, 'Address' 가 같으면 'Age' : 특별한 지정 없으면 오름차순\n",
    "member.sort_values(by = ['Address','Age'])"
   ]
  },
  {
   "cell_type": "code",
   "execution_count": 603,
   "id": "21d559c5",
   "metadata": {},
   "outputs": [],
   "source": [
    "# 기준이 2개(이상)일 경우 : 'Age' 기준 오름차순 정렬, 'Age' 가 같으면 'Name' 내림차순\n",
    "member.sort_values(by = ['Age','Name'], ascending=[True,False], inplace=True)"
   ]
  },
  {
   "cell_type": "code",
   "execution_count": 604,
   "id": "d58c8b9c",
   "metadata": {},
   "outputs": [
    {
     "data": {
      "text/html": [
       "<div>\n",
       "<style scoped>\n",
       "    .dataframe tbody tr th:only-of-type {\n",
       "        vertical-align: middle;\n",
       "    }\n",
       "\n",
       "    .dataframe tbody tr th {\n",
       "        vertical-align: top;\n",
       "    }\n",
       "\n",
       "    .dataframe thead th {\n",
       "        text-align: right;\n",
       "    }\n",
       "</style>\n",
       "<table border=\"1\" class=\"dataframe\">\n",
       "  <thead>\n",
       "    <tr style=\"text-align: right;\">\n",
       "      <th></th>\n",
       "      <th>Address</th>\n",
       "      <th>Age</th>\n",
       "      <th>Birth</th>\n",
       "      <th>Email</th>\n",
       "      <th>Name</th>\n",
       "    </tr>\n",
       "  </thead>\n",
       "  <tbody>\n",
       "    <tr>\n",
       "      <th>서</th>\n",
       "      <td>서울시 강동구</td>\n",
       "      <td>20</td>\n",
       "      <td>1999-01-01</td>\n",
       "      <td>hong@hong.com</td>\n",
       "      <td>홍길동</td>\n",
       "    </tr>\n",
       "    <tr>\n",
       "      <th>중</th>\n",
       "      <td>서울시 관악구</td>\n",
       "      <td>20</td>\n",
       "      <td>1999-01-02</td>\n",
       "      <td>hong@naver.com</td>\n",
       "      <td>칼치기</td>\n",
       "    </tr>\n",
       "    <tr>\n",
       "      <th>중</th>\n",
       "      <td>서울시 관악구</td>\n",
       "      <td>20</td>\n",
       "      <td>1999-01-02</td>\n",
       "      <td>hong@naver.com</td>\n",
       "      <td>칼치기</td>\n",
       "    </tr>\n",
       "    <tr>\n",
       "      <th>중</th>\n",
       "      <td>서울시 관악구</td>\n",
       "      <td>20</td>\n",
       "      <td>1999-01-02</td>\n",
       "      <td>hong@naver.com</td>\n",
       "      <td>칼치기</td>\n",
       "    </tr>\n",
       "    <tr>\n",
       "      <th>동</th>\n",
       "      <td>서울시 강동구</td>\n",
       "      <td>21</td>\n",
       "      <td>1999-11-01</td>\n",
       "      <td>nam@hong.com</td>\n",
       "      <td>홍길남</td>\n",
       "    </tr>\n",
       "    <tr>\n",
       "      <th>남</th>\n",
       "      <td>서울시 관악구</td>\n",
       "      <td>22</td>\n",
       "      <td>1999-05-01</td>\n",
       "      <td>buk@hong.com</td>\n",
       "      <td>홍길북</td>\n",
       "    </tr>\n",
       "    <tr>\n",
       "      <th>중</th>\n",
       "      <td>부산시 중구</td>\n",
       "      <td>23</td>\n",
       "      <td>1999-01-30</td>\n",
       "      <td>mid@hong.com</td>\n",
       "      <td>홍길중</td>\n",
       "    </tr>\n",
       "    <tr>\n",
       "      <th>북</th>\n",
       "      <td>서울시 중구</td>\n",
       "      <td>30</td>\n",
       "      <td>1999-12-01</td>\n",
       "      <td>seo@hong.com</td>\n",
       "      <td>홍길서</td>\n",
       "    </tr>\n",
       "  </tbody>\n",
       "</table>\n",
       "</div>"
      ],
      "text/plain": [
       "   Address  Age       Birth           Email Name\n",
       "서  서울시 강동구   20  1999-01-01   hong@hong.com  홍길동\n",
       "중  서울시 관악구   20  1999-01-02  hong@naver.com  칼치기\n",
       "중  서울시 관악구   20  1999-01-02  hong@naver.com  칼치기\n",
       "중  서울시 관악구   20  1999-01-02  hong@naver.com  칼치기\n",
       "동  서울시 강동구   21  1999-11-01    nam@hong.com  홍길남\n",
       "남  서울시 관악구   22  1999-05-01    buk@hong.com  홍길북\n",
       "중   부산시 중구   23  1999-01-30    mid@hong.com  홍길중\n",
       "북   서울시 중구   30  1999-12-01    seo@hong.com  홍길서"
      ]
     },
     "execution_count": 604,
     "metadata": {},
     "output_type": "execute_result"
    }
   ],
   "source": [
    "member"
   ]
  },
  {
   "cell_type": "markdown",
   "id": "fd1e8a33",
   "metadata": {},
   "source": [
    "#### 연습"
   ]
  },
  {
   "cell_type": "code",
   "execution_count": 606,
   "id": "041ad8ff",
   "metadata": {},
   "outputs": [],
   "source": [
    "# iris 데이터셋\n",
    "# (1) sepal_length 값 기준(sepal_length가 같으면 sepal_width 기준) 내림차순 정렬 => iris 데이터셋 내용이 바뀌어있어야한다.\n",
    "# (2) 행이름(index) 기준으로 정렬(원상복구)\n",
    "# (3) 열 이름(column) 기준으로 정렬한 내용을 출력\n",
    "iris_ =iris.copy()"
   ]
  },
  {
   "cell_type": "code",
   "execution_count": 610,
   "id": "c40a9c76",
   "metadata": {
    "collapsed": true
   },
   "outputs": [
    {
     "data": {
      "text/html": [
       "<div>\n",
       "<style scoped>\n",
       "    .dataframe tbody tr th:only-of-type {\n",
       "        vertical-align: middle;\n",
       "    }\n",
       "\n",
       "    .dataframe tbody tr th {\n",
       "        vertical-align: top;\n",
       "    }\n",
       "\n",
       "    .dataframe thead th {\n",
       "        text-align: right;\n",
       "    }\n",
       "</style>\n",
       "<table border=\"1\" class=\"dataframe\">\n",
       "  <thead>\n",
       "    <tr style=\"text-align: right;\">\n",
       "      <th></th>\n",
       "      <th>sepal_length</th>\n",
       "      <th>sepal_width</th>\n",
       "      <th>petal_length</th>\n",
       "      <th>petal_width</th>\n",
       "      <th>species</th>\n",
       "    </tr>\n",
       "  </thead>\n",
       "  <tbody>\n",
       "    <tr>\n",
       "      <th>131</th>\n",
       "      <td>7.9</td>\n",
       "      <td>3.8</td>\n",
       "      <td>6.4</td>\n",
       "      <td>2.0</td>\n",
       "      <td>virginica</td>\n",
       "    </tr>\n",
       "    <tr>\n",
       "      <th>117</th>\n",
       "      <td>7.7</td>\n",
       "      <td>3.8</td>\n",
       "      <td>6.7</td>\n",
       "      <td>2.2</td>\n",
       "      <td>virginica</td>\n",
       "    </tr>\n",
       "    <tr>\n",
       "      <th>135</th>\n",
       "      <td>7.7</td>\n",
       "      <td>3.0</td>\n",
       "      <td>6.1</td>\n",
       "      <td>2.3</td>\n",
       "      <td>virginica</td>\n",
       "    </tr>\n",
       "    <tr>\n",
       "      <th>122</th>\n",
       "      <td>7.7</td>\n",
       "      <td>2.8</td>\n",
       "      <td>6.7</td>\n",
       "      <td>2.0</td>\n",
       "      <td>virginica</td>\n",
       "    </tr>\n",
       "    <tr>\n",
       "      <th>118</th>\n",
       "      <td>7.7</td>\n",
       "      <td>2.6</td>\n",
       "      <td>6.9</td>\n",
       "      <td>2.3</td>\n",
       "      <td>virginica</td>\n",
       "    </tr>\n",
       "    <tr>\n",
       "      <th>...</th>\n",
       "      <td>...</td>\n",
       "      <td>...</td>\n",
       "      <td>...</td>\n",
       "      <td>...</td>\n",
       "      <td>...</td>\n",
       "    </tr>\n",
       "    <tr>\n",
       "      <th>41</th>\n",
       "      <td>4.5</td>\n",
       "      <td>2.3</td>\n",
       "      <td>1.3</td>\n",
       "      <td>0.3</td>\n",
       "      <td>setosa</td>\n",
       "    </tr>\n",
       "    <tr>\n",
       "      <th>42</th>\n",
       "      <td>4.4</td>\n",
       "      <td>3.2</td>\n",
       "      <td>1.3</td>\n",
       "      <td>0.2</td>\n",
       "      <td>setosa</td>\n",
       "    </tr>\n",
       "    <tr>\n",
       "      <th>38</th>\n",
       "      <td>4.4</td>\n",
       "      <td>3.0</td>\n",
       "      <td>1.3</td>\n",
       "      <td>0.2</td>\n",
       "      <td>setosa</td>\n",
       "    </tr>\n",
       "    <tr>\n",
       "      <th>8</th>\n",
       "      <td>4.4</td>\n",
       "      <td>2.9</td>\n",
       "      <td>1.4</td>\n",
       "      <td>0.2</td>\n",
       "      <td>setosa</td>\n",
       "    </tr>\n",
       "    <tr>\n",
       "      <th>13</th>\n",
       "      <td>4.3</td>\n",
       "      <td>3.0</td>\n",
       "      <td>1.1</td>\n",
       "      <td>0.1</td>\n",
       "      <td>setosa</td>\n",
       "    </tr>\n",
       "  </tbody>\n",
       "</table>\n",
       "<p>150 rows × 5 columns</p>\n",
       "</div>"
      ],
      "text/plain": [
       "     sepal_length  sepal_width  petal_length  petal_width    species\n",
       "131           7.9          3.8           6.4          2.0  virginica\n",
       "117           7.7          3.8           6.7          2.2  virginica\n",
       "135           7.7          3.0           6.1          2.3  virginica\n",
       "122           7.7          2.8           6.7          2.0  virginica\n",
       "118           7.7          2.6           6.9          2.3  virginica\n",
       "..            ...          ...           ...          ...        ...\n",
       "41            4.5          2.3           1.3          0.3     setosa\n",
       "42            4.4          3.2           1.3          0.2     setosa\n",
       "38            4.4          3.0           1.3          0.2     setosa\n",
       "8             4.4          2.9           1.4          0.2     setosa\n",
       "13            4.3          3.0           1.1          0.1     setosa\n",
       "\n",
       "[150 rows x 5 columns]"
      ]
     },
     "execution_count": 610,
     "metadata": {},
     "output_type": "execute_result"
    }
   ],
   "source": [
    "#1.\n",
    "iris.sort_values(by = ['sepal_length','sepal_width'], ascending=False, inplace = True)\n",
    "iris "
   ]
  },
  {
   "cell_type": "code",
   "execution_count": 613,
   "id": "460ad82d",
   "metadata": {
    "collapsed": true
   },
   "outputs": [
    {
     "data": {
      "text/html": [
       "<div>\n",
       "<style scoped>\n",
       "    .dataframe tbody tr th:only-of-type {\n",
       "        vertical-align: middle;\n",
       "    }\n",
       "\n",
       "    .dataframe tbody tr th {\n",
       "        vertical-align: top;\n",
       "    }\n",
       "\n",
       "    .dataframe thead th {\n",
       "        text-align: right;\n",
       "    }\n",
       "</style>\n",
       "<table border=\"1\" class=\"dataframe\">\n",
       "  <thead>\n",
       "    <tr style=\"text-align: right;\">\n",
       "      <th></th>\n",
       "      <th>sepal_length</th>\n",
       "      <th>sepal_width</th>\n",
       "      <th>petal_length</th>\n",
       "      <th>petal_width</th>\n",
       "      <th>species</th>\n",
       "    </tr>\n",
       "  </thead>\n",
       "  <tbody>\n",
       "    <tr>\n",
       "      <th>0</th>\n",
       "      <td>5.1</td>\n",
       "      <td>3.5</td>\n",
       "      <td>1.4</td>\n",
       "      <td>0.2</td>\n",
       "      <td>setosa</td>\n",
       "    </tr>\n",
       "    <tr>\n",
       "      <th>1</th>\n",
       "      <td>4.9</td>\n",
       "      <td>3.0</td>\n",
       "      <td>1.4</td>\n",
       "      <td>0.2</td>\n",
       "      <td>setosa</td>\n",
       "    </tr>\n",
       "    <tr>\n",
       "      <th>2</th>\n",
       "      <td>4.7</td>\n",
       "      <td>3.2</td>\n",
       "      <td>1.3</td>\n",
       "      <td>0.2</td>\n",
       "      <td>setosa</td>\n",
       "    </tr>\n",
       "    <tr>\n",
       "      <th>3</th>\n",
       "      <td>4.6</td>\n",
       "      <td>3.1</td>\n",
       "      <td>1.5</td>\n",
       "      <td>0.2</td>\n",
       "      <td>setosa</td>\n",
       "    </tr>\n",
       "    <tr>\n",
       "      <th>4</th>\n",
       "      <td>5.0</td>\n",
       "      <td>3.6</td>\n",
       "      <td>1.4</td>\n",
       "      <td>0.2</td>\n",
       "      <td>setosa</td>\n",
       "    </tr>\n",
       "    <tr>\n",
       "      <th>...</th>\n",
       "      <td>...</td>\n",
       "      <td>...</td>\n",
       "      <td>...</td>\n",
       "      <td>...</td>\n",
       "      <td>...</td>\n",
       "    </tr>\n",
       "    <tr>\n",
       "      <th>145</th>\n",
       "      <td>6.7</td>\n",
       "      <td>3.0</td>\n",
       "      <td>5.2</td>\n",
       "      <td>2.3</td>\n",
       "      <td>virginica</td>\n",
       "    </tr>\n",
       "    <tr>\n",
       "      <th>146</th>\n",
       "      <td>6.3</td>\n",
       "      <td>2.5</td>\n",
       "      <td>5.0</td>\n",
       "      <td>1.9</td>\n",
       "      <td>virginica</td>\n",
       "    </tr>\n",
       "    <tr>\n",
       "      <th>147</th>\n",
       "      <td>6.5</td>\n",
       "      <td>3.0</td>\n",
       "      <td>5.2</td>\n",
       "      <td>2.0</td>\n",
       "      <td>virginica</td>\n",
       "    </tr>\n",
       "    <tr>\n",
       "      <th>148</th>\n",
       "      <td>6.2</td>\n",
       "      <td>3.4</td>\n",
       "      <td>5.4</td>\n",
       "      <td>2.3</td>\n",
       "      <td>virginica</td>\n",
       "    </tr>\n",
       "    <tr>\n",
       "      <th>149</th>\n",
       "      <td>5.9</td>\n",
       "      <td>3.0</td>\n",
       "      <td>5.1</td>\n",
       "      <td>1.8</td>\n",
       "      <td>virginica</td>\n",
       "    </tr>\n",
       "  </tbody>\n",
       "</table>\n",
       "<p>150 rows × 5 columns</p>\n",
       "</div>"
      ],
      "text/plain": [
       "     sepal_length  sepal_width  petal_length  petal_width    species\n",
       "0             5.1          3.5           1.4          0.2     setosa\n",
       "1             4.9          3.0           1.4          0.2     setosa\n",
       "2             4.7          3.2           1.3          0.2     setosa\n",
       "3             4.6          3.1           1.5          0.2     setosa\n",
       "4             5.0          3.6           1.4          0.2     setosa\n",
       "..            ...          ...           ...          ...        ...\n",
       "145           6.7          3.0           5.2          2.3  virginica\n",
       "146           6.3          2.5           5.0          1.9  virginica\n",
       "147           6.5          3.0           5.2          2.0  virginica\n",
       "148           6.2          3.4           5.4          2.3  virginica\n",
       "149           5.9          3.0           5.1          1.8  virginica\n",
       "\n",
       "[150 rows x 5 columns]"
      ]
     },
     "execution_count": 613,
     "metadata": {},
     "output_type": "execute_result"
    }
   ],
   "source": [
    "#2.\n",
    "iris.sort_index(inplace = True)\n",
    "iris"
   ]
  },
  {
   "cell_type": "code",
   "execution_count": 614,
   "id": "95789e1a",
   "metadata": {
    "collapsed": true
   },
   "outputs": [
    {
     "data": {
      "text/html": [
       "<div>\n",
       "<style scoped>\n",
       "    .dataframe tbody tr th:only-of-type {\n",
       "        vertical-align: middle;\n",
       "    }\n",
       "\n",
       "    .dataframe tbody tr th {\n",
       "        vertical-align: top;\n",
       "    }\n",
       "\n",
       "    .dataframe thead th {\n",
       "        text-align: right;\n",
       "    }\n",
       "</style>\n",
       "<table border=\"1\" class=\"dataframe\">\n",
       "  <thead>\n",
       "    <tr style=\"text-align: right;\">\n",
       "      <th></th>\n",
       "      <th>petal_length</th>\n",
       "      <th>petal_width</th>\n",
       "      <th>sepal_length</th>\n",
       "      <th>sepal_width</th>\n",
       "      <th>species</th>\n",
       "    </tr>\n",
       "  </thead>\n",
       "  <tbody>\n",
       "    <tr>\n",
       "      <th>0</th>\n",
       "      <td>1.4</td>\n",
       "      <td>0.2</td>\n",
       "      <td>5.1</td>\n",
       "      <td>3.5</td>\n",
       "      <td>setosa</td>\n",
       "    </tr>\n",
       "    <tr>\n",
       "      <th>1</th>\n",
       "      <td>1.4</td>\n",
       "      <td>0.2</td>\n",
       "      <td>4.9</td>\n",
       "      <td>3.0</td>\n",
       "      <td>setosa</td>\n",
       "    </tr>\n",
       "    <tr>\n",
       "      <th>2</th>\n",
       "      <td>1.3</td>\n",
       "      <td>0.2</td>\n",
       "      <td>4.7</td>\n",
       "      <td>3.2</td>\n",
       "      <td>setosa</td>\n",
       "    </tr>\n",
       "    <tr>\n",
       "      <th>3</th>\n",
       "      <td>1.5</td>\n",
       "      <td>0.2</td>\n",
       "      <td>4.6</td>\n",
       "      <td>3.1</td>\n",
       "      <td>setosa</td>\n",
       "    </tr>\n",
       "    <tr>\n",
       "      <th>4</th>\n",
       "      <td>1.4</td>\n",
       "      <td>0.2</td>\n",
       "      <td>5.0</td>\n",
       "      <td>3.6</td>\n",
       "      <td>setosa</td>\n",
       "    </tr>\n",
       "    <tr>\n",
       "      <th>...</th>\n",
       "      <td>...</td>\n",
       "      <td>...</td>\n",
       "      <td>...</td>\n",
       "      <td>...</td>\n",
       "      <td>...</td>\n",
       "    </tr>\n",
       "    <tr>\n",
       "      <th>145</th>\n",
       "      <td>5.2</td>\n",
       "      <td>2.3</td>\n",
       "      <td>6.7</td>\n",
       "      <td>3.0</td>\n",
       "      <td>virginica</td>\n",
       "    </tr>\n",
       "    <tr>\n",
       "      <th>146</th>\n",
       "      <td>5.0</td>\n",
       "      <td>1.9</td>\n",
       "      <td>6.3</td>\n",
       "      <td>2.5</td>\n",
       "      <td>virginica</td>\n",
       "    </tr>\n",
       "    <tr>\n",
       "      <th>147</th>\n",
       "      <td>5.2</td>\n",
       "      <td>2.0</td>\n",
       "      <td>6.5</td>\n",
       "      <td>3.0</td>\n",
       "      <td>virginica</td>\n",
       "    </tr>\n",
       "    <tr>\n",
       "      <th>148</th>\n",
       "      <td>5.4</td>\n",
       "      <td>2.3</td>\n",
       "      <td>6.2</td>\n",
       "      <td>3.4</td>\n",
       "      <td>virginica</td>\n",
       "    </tr>\n",
       "    <tr>\n",
       "      <th>149</th>\n",
       "      <td>5.1</td>\n",
       "      <td>1.8</td>\n",
       "      <td>5.9</td>\n",
       "      <td>3.0</td>\n",
       "      <td>virginica</td>\n",
       "    </tr>\n",
       "  </tbody>\n",
       "</table>\n",
       "<p>150 rows × 5 columns</p>\n",
       "</div>"
      ],
      "text/plain": [
       "     petal_length  petal_width  sepal_length  sepal_width    species\n",
       "0             1.4          0.2           5.1          3.5     setosa\n",
       "1             1.4          0.2           4.9          3.0     setosa\n",
       "2             1.3          0.2           4.7          3.2     setosa\n",
       "3             1.5          0.2           4.6          3.1     setosa\n",
       "4             1.4          0.2           5.0          3.6     setosa\n",
       "..            ...          ...           ...          ...        ...\n",
       "145           5.2          2.3           6.7          3.0  virginica\n",
       "146           5.0          1.9           6.3          2.5  virginica\n",
       "147           5.2          2.0           6.5          3.0  virginica\n",
       "148           5.4          2.3           6.2          3.4  virginica\n",
       "149           5.1          1.8           5.9          3.0  virginica\n",
       "\n",
       "[150 rows x 5 columns]"
      ]
     },
     "execution_count": 614,
     "metadata": {},
     "output_type": "execute_result"
    }
   ],
   "source": [
    "#3.\n",
    "iris.sort_index(axis=1)"
   ]
  },
  {
   "cell_type": "markdown",
   "id": "fbc81187",
   "metadata": {},
   "source": [
    "# 8절 기초 통계 분석\n",
    "    * 판다스 : 기초 통계 / statsmodels : 난이도 있는 통계 => 많은 독립변수 중 상관 관계 분석, \n",
    "    * 통계 : 표본으로 모집단 내용 확인\n",
    "    * 빅데이터와 머신러닝은 표본이 아니라 모집단으로 전체를 보고 향후 방향성을 체크하는 것\n",
    "- count : 결측치Nan를 제외한 갯수\n",
    "- max\n",
    "- sum\n",
    "- cumsum : 누적합 => 독립변수의 상징성 체크 시 주로 사용\n",
    "- cumprod : 누적곱\n",
    "- rolling(n).mean : 데이터 변동(노이즈)가 다소 있을 때, 추세(패턴)을 부드럽게 보고 싶을 때 사용(n개 표본의 평균 반환)\n",
    "- mean ★\n",
    "- var : 분산 ( (평균-값)^2/개수 ) ★\n",
    "- std : 표준편차 ( (분산)^0.5 ) ★\n",
    "- median : 중위수(평균은 합/개수, 중위수는 상위50%에 해당) ★ => 이상치 유무 체크에 효과적\n",
    "- qunantile : 분위수( 0사분위수(0%), 1사분위수(25%), 2사분위수(50%), 3사분위수(75%), 4사분위수(100%) ) => 이상치 체크에 효과적\n",
    "```\n",
    "     IQR = Q3-Q1\n",
    "     [Q1 - 1.5*IQR ~ Q3+1.5*IQR] 이외의 값은 이상치\n",
    "     Q4(max)\n",
    "     Q3\n",
    "     Q2\n",
    "     Q1\n",
    "     Q0(min)\n",
    "```\n",
    "- 최소 하한치 Q1 - 1.5*(Q3-Q1) / 최대 상한치 Q + 1.5*(Q3-Q1)\n",
    "- describe : 요약 통계량\n",
    "- corr : 상관관계(계수)"
   ]
  },
  {
   "cell_type": "code",
   "execution_count": 5,
   "id": "b23b806d",
   "metadata": {},
   "outputs": [
    {
     "data": {
      "text/html": [
       "<div>\n",
       "<style scoped>\n",
       "    .dataframe tbody tr th:only-of-type {\n",
       "        vertical-align: middle;\n",
       "    }\n",
       "\n",
       "    .dataframe tbody tr th {\n",
       "        vertical-align: top;\n",
       "    }\n",
       "\n",
       "    .dataframe thead th {\n",
       "        text-align: right;\n",
       "    }\n",
       "</style>\n",
       "<table border=\"1\" class=\"dataframe\">\n",
       "  <thead>\n",
       "    <tr style=\"text-align: right;\">\n",
       "      <th></th>\n",
       "      <th>sepal_length</th>\n",
       "      <th>sepal_width</th>\n",
       "      <th>petal_length</th>\n",
       "      <th>petal_width</th>\n",
       "      <th>species</th>\n",
       "    </tr>\n",
       "  </thead>\n",
       "  <tbody>\n",
       "    <tr>\n",
       "      <th>0</th>\n",
       "      <td>5.1</td>\n",
       "      <td>3.5</td>\n",
       "      <td>1.4</td>\n",
       "      <td>0.2</td>\n",
       "      <td>setosa</td>\n",
       "    </tr>\n",
       "    <tr>\n",
       "      <th>1</th>\n",
       "      <td>4.9</td>\n",
       "      <td>3.0</td>\n",
       "      <td>1.4</td>\n",
       "      <td>0.2</td>\n",
       "      <td>setosa</td>\n",
       "    </tr>\n",
       "    <tr>\n",
       "      <th>2</th>\n",
       "      <td>4.7</td>\n",
       "      <td>3.2</td>\n",
       "      <td>1.3</td>\n",
       "      <td>0.2</td>\n",
       "      <td>setosa</td>\n",
       "    </tr>\n",
       "    <tr>\n",
       "      <th>3</th>\n",
       "      <td>4.6</td>\n",
       "      <td>3.1</td>\n",
       "      <td>1.5</td>\n",
       "      <td>0.2</td>\n",
       "      <td>setosa</td>\n",
       "    </tr>\n",
       "    <tr>\n",
       "      <th>4</th>\n",
       "      <td>5.0</td>\n",
       "      <td>3.6</td>\n",
       "      <td>1.4</td>\n",
       "      <td>0.2</td>\n",
       "      <td>setosa</td>\n",
       "    </tr>\n",
       "    <tr>\n",
       "      <th>...</th>\n",
       "      <td>...</td>\n",
       "      <td>...</td>\n",
       "      <td>...</td>\n",
       "      <td>...</td>\n",
       "      <td>...</td>\n",
       "    </tr>\n",
       "    <tr>\n",
       "      <th>145</th>\n",
       "      <td>6.7</td>\n",
       "      <td>3.0</td>\n",
       "      <td>5.2</td>\n",
       "      <td>2.3</td>\n",
       "      <td>virginica</td>\n",
       "    </tr>\n",
       "    <tr>\n",
       "      <th>146</th>\n",
       "      <td>6.3</td>\n",
       "      <td>2.5</td>\n",
       "      <td>5.0</td>\n",
       "      <td>1.9</td>\n",
       "      <td>virginica</td>\n",
       "    </tr>\n",
       "    <tr>\n",
       "      <th>147</th>\n",
       "      <td>6.5</td>\n",
       "      <td>3.0</td>\n",
       "      <td>5.2</td>\n",
       "      <td>2.0</td>\n",
       "      <td>virginica</td>\n",
       "    </tr>\n",
       "    <tr>\n",
       "      <th>148</th>\n",
       "      <td>6.2</td>\n",
       "      <td>3.4</td>\n",
       "      <td>5.4</td>\n",
       "      <td>2.3</td>\n",
       "      <td>virginica</td>\n",
       "    </tr>\n",
       "    <tr>\n",
       "      <th>149</th>\n",
       "      <td>5.9</td>\n",
       "      <td>3.0</td>\n",
       "      <td>5.1</td>\n",
       "      <td>1.8</td>\n",
       "      <td>virginica</td>\n",
       "    </tr>\n",
       "  </tbody>\n",
       "</table>\n",
       "<p>150 rows × 5 columns</p>\n",
       "</div>"
      ],
      "text/plain": [
       "     sepal_length  sepal_width  petal_length  petal_width    species\n",
       "0             5.1          3.5           1.4          0.2     setosa\n",
       "1             4.9          3.0           1.4          0.2     setosa\n",
       "2             4.7          3.2           1.3          0.2     setosa\n",
       "3             4.6          3.1           1.5          0.2     setosa\n",
       "4             5.0          3.6           1.4          0.2     setosa\n",
       "..            ...          ...           ...          ...        ...\n",
       "145           6.7          3.0           5.2          2.3  virginica\n",
       "146           6.3          2.5           5.0          1.9  virginica\n",
       "147           6.5          3.0           5.2          2.0  virginica\n",
       "148           6.2          3.4           5.4          2.3  virginica\n",
       "149           5.9          3.0           5.1          1.8  virginica\n",
       "\n",
       "[150 rows x 5 columns]"
      ]
     },
     "execution_count": 5,
     "metadata": {},
     "output_type": "execute_result"
    }
   ],
   "source": [
    "from statsmodels.api import datasets\n",
    "iris = datasets.get_rdataset('iris').data\n",
    "iris.columns = [col.lower().replace('.','_') for col in iris.columns]\n",
    "iris"
   ]
  },
  {
   "cell_type": "markdown",
   "id": "580baaef",
   "metadata": {},
   "source": [
    "## 8.1 min, max, mean, std..."
   ]
  },
  {
   "cell_type": "code",
   "execution_count": 13,
   "id": "979dc37e",
   "metadata": {},
   "outputs": [
    {
     "data": {
      "text/plain": [
       "sepal_length       4.3\n",
       "sepal_width        2.0\n",
       "petal_length       1.0\n",
       "petal_width        0.1\n",
       "species         setosa\n",
       "dtype: object"
      ]
     },
     "execution_count": 13,
     "metadata": {},
     "output_type": "execute_result"
    }
   ],
   "source": [
    "iris.min(axis=0) # 열별 최솟값(문자필드는 아스키코드값이 작은 순으로 배열)"
   ]
  },
  {
   "cell_type": "code",
   "execution_count": 14,
   "id": "396a7809",
   "metadata": {},
   "outputs": [
    {
     "name": "stderr",
     "output_type": "stream",
     "text": [
      "C:\\Users\\Admin\\AppData\\Local\\Temp\\ipykernel_7928\\935066809.py:1: FutureWarning: The default value of numeric_only in DataFrame.mean is deprecated. In a future version, it will default to False. In addition, specifying 'numeric_only=None' is deprecated. Select only valid columns or specify the value of numeric_only to silence this warning.\n",
      "  iris.mean()\n"
     ]
    },
    {
     "data": {
      "text/plain": [
       "sepal_length    5.843333\n",
       "sepal_width     3.057333\n",
       "petal_length    3.758000\n",
       "petal_width     1.199333\n",
       "dtype: float64"
      ]
     },
     "execution_count": 14,
     "metadata": {},
     "output_type": "execute_result"
    }
   ],
   "source": [
    "iris.mean()  # 글짜와 날짜는 평균값을 구할 수 없으니 주의 => 필요시 numeric_only = True 활용"
   ]
  },
  {
   "cell_type": "code",
   "execution_count": 20,
   "id": "008d2f7c",
   "metadata": {},
   "outputs": [
    {
     "data": {
      "text/plain": [
       "sepal_length    5.80\n",
       "sepal_width     3.00\n",
       "petal_length    4.35\n",
       "petal_width     1.30\n",
       "dtype: float64"
      ]
     },
     "execution_count": 20,
     "metadata": {},
     "output_type": "execute_result"
    }
   ],
   "source": [
    "iris.median(axis=0, numeric_only = True) # 행들의 중위수(열별 중위수)\n",
    "# 평균, 중위수, 표준편차, 분산.... 숫자필드"
   ]
  },
  {
   "cell_type": "code",
   "execution_count": 52,
   "id": "5a06a8f4",
   "metadata": {},
   "outputs": [
    {
     "data": {
      "text/html": [
       "<div>\n",
       "<style scoped>\n",
       "    .dataframe tbody tr th:only-of-type {\n",
       "        vertical-align: middle;\n",
       "    }\n",
       "\n",
       "    .dataframe tbody tr th {\n",
       "        vertical-align: top;\n",
       "    }\n",
       "\n",
       "    .dataframe thead th {\n",
       "        text-align: right;\n",
       "    }\n",
       "</style>\n",
       "<table border=\"1\" class=\"dataframe\">\n",
       "  <thead>\n",
       "    <tr style=\"text-align: right;\">\n",
       "      <th></th>\n",
       "      <th>sepal_length</th>\n",
       "      <th>sepal_width</th>\n",
       "      <th>petal_length</th>\n",
       "      <th>petal_width</th>\n",
       "    </tr>\n",
       "  </thead>\n",
       "  <tbody>\n",
       "    <tr>\n",
       "      <th>88</th>\n",
       "      <td>5.6</td>\n",
       "      <td>3.0</td>\n",
       "      <td>4.1</td>\n",
       "      <td>1.3</td>\n",
       "    </tr>\n",
       "  </tbody>\n",
       "</table>\n",
       "</div>"
      ],
      "text/plain": [
       "    sepal_length  sepal_width  petal_length  petal_width\n",
       "88           5.6          3.0           4.1          1.3"
      ]
     },
     "execution_count": 52,
     "metadata": {},
     "output_type": "execute_result"
    }
   ],
   "source": [
    "X = iris.iloc[:,:-1]\n",
    "X.sample() # 랜덤으로 1개 행을 반환"
   ]
  },
  {
   "cell_type": "code",
   "execution_count": 59,
   "id": "b4fce72f",
   "metadata": {},
   "outputs": [
    {
     "data": {
      "text/plain": [
       "sepal_length    0.828066\n",
       "sepal_width     0.435866\n",
       "petal_length    1.765298\n",
       "petal_width     0.762238\n",
       "dtype: float64"
      ]
     },
     "execution_count": 59,
     "metadata": {},
     "output_type": "execute_result"
    }
   ],
   "source": [
    "X.std(axis=0)\n",
    "X.std(axis='index')"
   ]
  },
  {
   "cell_type": "code",
   "execution_count": 60,
   "id": "a8766938",
   "metadata": {},
   "outputs": [
    {
     "data": {
      "text/plain": [
       "0      2.550\n",
       "1      2.375\n",
       "2      2.350\n",
       "3      2.350\n",
       "4      2.550\n",
       "       ...  \n",
       "145    4.300\n",
       "146    3.925\n",
       "147    4.175\n",
       "148    4.325\n",
       "149    3.950\n",
       "Length: 150, dtype: float64"
      ]
     },
     "execution_count": 60,
     "metadata": {},
     "output_type": "execute_result"
    }
   ],
   "source": [
    "X.std(axis = 'columns')\n",
    "X.mean(axis=1)"
   ]
  },
  {
   "cell_type": "code",
   "execution_count": 83,
   "id": "44cf4776",
   "metadata": {},
   "outputs": [
    {
     "data": {
      "text/plain": [
       "0.00     1\n",
       "0.25     2\n",
       "0.50     3\n",
       "0.75     7\n",
       "1.00    10\n",
       "Name: Value, dtype: int64"
      ]
     },
     "execution_count": 83,
     "metadata": {},
     "output_type": "execute_result"
    }
   ],
   "source": [
    "# quantile : 데이터프레임이나 시리즈에서 사분위수\n",
    "# interpolation='nearest' 정확한 구간의 값이 없을 경우 가까운 데이터를 출력\n",
    "df = pd.DataFrame(data=[1,2,3,4,7,10]) ; df.columns = ['Value']\n",
    "df['Value'].quantile(q=[0,0.25,0.5,0.75,1.],interpolation='nearest')"
   ]
  },
  {
   "cell_type": "code",
   "execution_count": 85,
   "id": "eeb8fa06",
   "metadata": {},
   "outputs": [
    {
     "data": {
      "text/plain": [
       "0.00     1.0\n",
       "0.25     2.5\n",
       "0.50     3.5\n",
       "0.75     5.5\n",
       "1.00    10.0\n",
       "Name: Value, dtype: float64"
      ]
     },
     "execution_count": 85,
     "metadata": {},
     "output_type": "execute_result"
    }
   ],
   "source": [
    "# interpolation='midpoint' 정확한 구간을 출력\n",
    "df['Value'].quantile(q=[0,0.25,0.5,0.75,1.],interpolation='midpoint')"
   ]
  },
  {
   "cell_type": "code",
   "execution_count": 88,
   "id": "100bd557",
   "metadata": {},
   "outputs": [
    {
     "data": {
      "text/plain": [
       "(sepal_length    5.80\n",
       " sepal_width     3.00\n",
       " petal_length    4.35\n",
       " petal_width     1.30\n",
       " Name: 0.5, dtype: float64,\n",
       " sepal_length    5.80\n",
       " sepal_width     3.00\n",
       " petal_length    4.35\n",
       " petal_width     1.30\n",
       " Name: 0.5, dtype: float64)"
      ]
     },
     "execution_count": 88,
     "metadata": {},
     "output_type": "execute_result"
    }
   ],
   "source": [
    "iris.quantile(0.5, numeric_only=True), X.quantile(0.5)"
   ]
  },
  {
   "cell_type": "code",
   "execution_count": 90,
   "id": "3729ffa3",
   "metadata": {},
   "outputs": [
    {
     "data": {
      "text/html": [
       "<div>\n",
       "<style scoped>\n",
       "    .dataframe tbody tr th:only-of-type {\n",
       "        vertical-align: middle;\n",
       "    }\n",
       "\n",
       "    .dataframe tbody tr th {\n",
       "        vertical-align: top;\n",
       "    }\n",
       "\n",
       "    .dataframe thead th {\n",
       "        text-align: right;\n",
       "    }\n",
       "</style>\n",
       "<table border=\"1\" class=\"dataframe\">\n",
       "  <thead>\n",
       "    <tr style=\"text-align: right;\">\n",
       "      <th></th>\n",
       "      <th>sepal_length</th>\n",
       "      <th>sepal_width</th>\n",
       "      <th>petal_length</th>\n",
       "      <th>petal_width</th>\n",
       "    </tr>\n",
       "  </thead>\n",
       "  <tbody>\n",
       "    <tr>\n",
       "      <th>0.00</th>\n",
       "      <td>4.3</td>\n",
       "      <td>2.0</td>\n",
       "      <td>1.00</td>\n",
       "      <td>0.1</td>\n",
       "    </tr>\n",
       "    <tr>\n",
       "      <th>0.25</th>\n",
       "      <td>5.1</td>\n",
       "      <td>2.8</td>\n",
       "      <td>1.60</td>\n",
       "      <td>0.3</td>\n",
       "    </tr>\n",
       "    <tr>\n",
       "      <th>0.50</th>\n",
       "      <td>5.8</td>\n",
       "      <td>3.0</td>\n",
       "      <td>4.35</td>\n",
       "      <td>1.3</td>\n",
       "    </tr>\n",
       "    <tr>\n",
       "      <th>0.75</th>\n",
       "      <td>6.4</td>\n",
       "      <td>3.3</td>\n",
       "      <td>5.10</td>\n",
       "      <td>1.8</td>\n",
       "    </tr>\n",
       "    <tr>\n",
       "      <th>1.00</th>\n",
       "      <td>7.9</td>\n",
       "      <td>4.4</td>\n",
       "      <td>6.90</td>\n",
       "      <td>2.5</td>\n",
       "    </tr>\n",
       "  </tbody>\n",
       "</table>\n",
       "</div>"
      ],
      "text/plain": [
       "      sepal_length  sepal_width  petal_length  petal_width\n",
       "0.00           4.3          2.0          1.00          0.1\n",
       "0.25           5.1          2.8          1.60          0.3\n",
       "0.50           5.8          3.0          4.35          1.3\n",
       "0.75           6.4          3.3          5.10          1.8\n",
       "1.00           7.9          4.4          6.90          2.5"
      ]
     },
     "execution_count": 90,
     "metadata": {},
     "output_type": "execute_result"
    }
   ],
   "source": [
    "quant = X.quantile(q=[0,0.25,0.5,0.75,1])\n",
    "quant"
   ]
  },
  {
   "cell_type": "code",
   "execution_count": 95,
   "id": "c3806b53",
   "metadata": {},
   "outputs": [
    {
     "data": {
      "text/plain": [
       "False"
      ]
     },
     "execution_count": 95,
     "metadata": {},
     "output_type": "execute_result"
    }
   ],
   "source": [
    "# sepal_length의 이상치 점검 방법\n",
    "min_ = quant.iloc[0,0]\n",
    "max_ = quant.iloc[4,0]\n",
    "q1 = quant.iloc[1,0]\n",
    "q3 = quant.iloc[3,0]\n",
    "min_ < q1 - 1.5*(q3-q1) # 하한치 보다 모든 값이 크다, 하한이상치가 없다\n",
    "max_ > q3 + 1.5*(q3-q1) # 상한치 보다 모든 값이 작다, 상한이상치가 없다"
   ]
  },
  {
   "cell_type": "code",
   "execution_count": 97,
   "id": "42e695d3",
   "metadata": {},
   "outputs": [
    {
     "data": {
      "text/plain": [
       "((150, 4),\n",
       " sepal_length    150\n",
       " sepal_width     150\n",
       " petal_length    150\n",
       " petal_width     150\n",
       " dtype: int64)"
      ]
     },
     "execution_count": 97,
     "metadata": {},
     "output_type": "execute_result"
    }
   ],
   "source": [
    "X.shape, X.count(axis = 0) # 결측치를 제외한 데이터 개수 : 행의 수와 카운트 된 수의 확인을 통해 체크 가능"
   ]
  },
  {
   "cell_type": "code",
   "execution_count": 99,
   "id": "8e559673",
   "metadata": {},
   "outputs": [
    {
     "data": {
      "text/html": [
       "<div>\n",
       "<style scoped>\n",
       "    .dataframe tbody tr th:only-of-type {\n",
       "        vertical-align: middle;\n",
       "    }\n",
       "\n",
       "    .dataframe tbody tr th {\n",
       "        vertical-align: top;\n",
       "    }\n",
       "\n",
       "    .dataframe thead th {\n",
       "        text-align: right;\n",
       "    }\n",
       "</style>\n",
       "<table border=\"1\" class=\"dataframe\">\n",
       "  <thead>\n",
       "    <tr style=\"text-align: right;\">\n",
       "      <th></th>\n",
       "      <th>sepal_length</th>\n",
       "      <th>sepal_width</th>\n",
       "      <th>petal_length</th>\n",
       "      <th>petal_width</th>\n",
       "    </tr>\n",
       "  </thead>\n",
       "  <tbody>\n",
       "    <tr>\n",
       "      <th>4</th>\n",
       "      <td>24.3</td>\n",
       "      <td>16.4</td>\n",
       "      <td>7.0</td>\n",
       "      <td>1.0</td>\n",
       "    </tr>\n",
       "    <tr>\n",
       "      <th>5</th>\n",
       "      <td>24.6</td>\n",
       "      <td>16.8</td>\n",
       "      <td>7.3</td>\n",
       "      <td>1.2</td>\n",
       "    </tr>\n",
       "    <tr>\n",
       "      <th>6</th>\n",
       "      <td>24.3</td>\n",
       "      <td>17.2</td>\n",
       "      <td>7.3</td>\n",
       "      <td>1.3</td>\n",
       "    </tr>\n",
       "    <tr>\n",
       "      <th>7</th>\n",
       "      <td>24.6</td>\n",
       "      <td>17.4</td>\n",
       "      <td>7.5</td>\n",
       "      <td>1.3</td>\n",
       "    </tr>\n",
       "    <tr>\n",
       "      <th>8</th>\n",
       "      <td>24.4</td>\n",
       "      <td>17.2</td>\n",
       "      <td>7.4</td>\n",
       "      <td>1.3</td>\n",
       "    </tr>\n",
       "    <tr>\n",
       "      <th>...</th>\n",
       "      <td>...</td>\n",
       "      <td>...</td>\n",
       "      <td>...</td>\n",
       "      <td>...</td>\n",
       "    </tr>\n",
       "    <tr>\n",
       "      <th>145</th>\n",
       "      <td>32.9</td>\n",
       "      <td>15.3</td>\n",
       "      <td>27.0</td>\n",
       "      <td>11.3</td>\n",
       "    </tr>\n",
       "    <tr>\n",
       "      <th>146</th>\n",
       "      <td>32.3</td>\n",
       "      <td>14.7</td>\n",
       "      <td>26.9</td>\n",
       "      <td>10.9</td>\n",
       "    </tr>\n",
       "    <tr>\n",
       "      <th>147</th>\n",
       "      <td>33.0</td>\n",
       "      <td>15.0</td>\n",
       "      <td>27.0</td>\n",
       "      <td>11.0</td>\n",
       "    </tr>\n",
       "    <tr>\n",
       "      <th>148</th>\n",
       "      <td>32.4</td>\n",
       "      <td>15.2</td>\n",
       "      <td>26.5</td>\n",
       "      <td>11.0</td>\n",
       "    </tr>\n",
       "    <tr>\n",
       "      <th>149</th>\n",
       "      <td>31.6</td>\n",
       "      <td>14.9</td>\n",
       "      <td>25.9</td>\n",
       "      <td>10.3</td>\n",
       "    </tr>\n",
       "  </tbody>\n",
       "</table>\n",
       "<p>146 rows × 4 columns</p>\n",
       "</div>"
      ],
      "text/plain": [
       "     sepal_length  sepal_width  petal_length  petal_width\n",
       "4            24.3         16.4           7.0          1.0\n",
       "5            24.6         16.8           7.3          1.2\n",
       "6            24.3         17.2           7.3          1.3\n",
       "7            24.6         17.4           7.5          1.3\n",
       "8            24.4         17.2           7.4          1.3\n",
       "..            ...          ...           ...          ...\n",
       "145          32.9         15.3          27.0         11.3\n",
       "146          32.3         14.7          26.9         10.9\n",
       "147          33.0         15.0          27.0         11.0\n",
       "148          32.4         15.2          26.5         11.0\n",
       "149          31.6         14.9          25.9         10.3\n",
       "\n",
       "[146 rows x 4 columns]"
      ]
     },
     "execution_count": 99,
     "metadata": {},
     "output_type": "execute_result"
    }
   ],
   "source": [
    "X.rolling(5).sum().iloc[4:] # 0 ~ 3번 인덱스는 자신보다 작은 인덱스의 개수가 5개가 될 수 없어서 Nan 발생해 4번 인덱스 부터 체크"
   ]
  },
  {
   "cell_type": "markdown",
   "id": "43555054",
   "metadata": {},
   "source": [
    "## 8.2 요약통계량 describe"
   ]
  },
  {
   "cell_type": "code",
   "execution_count": 104,
   "id": "c4da4cad",
   "metadata": {},
   "outputs": [
    {
     "data": {
      "text/html": [
       "<div>\n",
       "<style scoped>\n",
       "    .dataframe tbody tr th:only-of-type {\n",
       "        vertical-align: middle;\n",
       "    }\n",
       "\n",
       "    .dataframe tbody tr th {\n",
       "        vertical-align: top;\n",
       "    }\n",
       "\n",
       "    .dataframe thead th {\n",
       "        text-align: right;\n",
       "    }\n",
       "</style>\n",
       "<table border=\"1\" class=\"dataframe\">\n",
       "  <thead>\n",
       "    <tr style=\"text-align: right;\">\n",
       "      <th></th>\n",
       "      <th>sepal_length</th>\n",
       "      <th>sepal_width</th>\n",
       "      <th>petal_length</th>\n",
       "      <th>petal_width</th>\n",
       "    </tr>\n",
       "  </thead>\n",
       "  <tbody>\n",
       "    <tr>\n",
       "      <th>count</th>\n",
       "      <td>150.000000</td>\n",
       "      <td>150.000000</td>\n",
       "      <td>150.000000</td>\n",
       "      <td>150.000000</td>\n",
       "    </tr>\n",
       "    <tr>\n",
       "      <th>mean</th>\n",
       "      <td>5.843333</td>\n",
       "      <td>3.057333</td>\n",
       "      <td>3.758000</td>\n",
       "      <td>1.199333</td>\n",
       "    </tr>\n",
       "    <tr>\n",
       "      <th>std</th>\n",
       "      <td>0.828066</td>\n",
       "      <td>0.435866</td>\n",
       "      <td>1.765298</td>\n",
       "      <td>0.762238</td>\n",
       "    </tr>\n",
       "    <tr>\n",
       "      <th>min</th>\n",
       "      <td>4.300000</td>\n",
       "      <td>2.000000</td>\n",
       "      <td>1.000000</td>\n",
       "      <td>0.100000</td>\n",
       "    </tr>\n",
       "    <tr>\n",
       "      <th>25%</th>\n",
       "      <td>5.100000</td>\n",
       "      <td>2.800000</td>\n",
       "      <td>1.600000</td>\n",
       "      <td>0.300000</td>\n",
       "    </tr>\n",
       "    <tr>\n",
       "      <th>50%</th>\n",
       "      <td>5.800000</td>\n",
       "      <td>3.000000</td>\n",
       "      <td>4.350000</td>\n",
       "      <td>1.300000</td>\n",
       "    </tr>\n",
       "    <tr>\n",
       "      <th>75%</th>\n",
       "      <td>6.400000</td>\n",
       "      <td>3.300000</td>\n",
       "      <td>5.100000</td>\n",
       "      <td>1.800000</td>\n",
       "    </tr>\n",
       "    <tr>\n",
       "      <th>max</th>\n",
       "      <td>7.900000</td>\n",
       "      <td>4.400000</td>\n",
       "      <td>6.900000</td>\n",
       "      <td>2.500000</td>\n",
       "    </tr>\n",
       "  </tbody>\n",
       "</table>\n",
       "</div>"
      ],
      "text/plain": [
       "       sepal_length  sepal_width  petal_length  petal_width\n",
       "count    150.000000   150.000000    150.000000   150.000000\n",
       "mean       5.843333     3.057333      3.758000     1.199333\n",
       "std        0.828066     0.435866      1.765298     0.762238\n",
       "min        4.300000     2.000000      1.000000     0.100000\n",
       "25%        5.100000     2.800000      1.600000     0.300000\n",
       "50%        5.800000     3.000000      4.350000     1.300000\n",
       "75%        6.400000     3.300000      5.100000     1.800000\n",
       "max        7.900000     4.400000      6.900000     2.500000"
      ]
     },
     "execution_count": 104,
     "metadata": {},
     "output_type": "execute_result"
    }
   ],
   "source": [
    "# 1) 기본 요약 통계량\n",
    "iris.describe() # 숫자열과 문자열이 같이 있을 경우 숫자열만 요약 통계"
   ]
  },
  {
   "cell_type": "code",
   "execution_count": 106,
   "id": "7fa8c3b6",
   "metadata": {},
   "outputs": [
    {
     "data": {
      "text/plain": [
       "count        150\n",
       "unique         3\n",
       "top       setosa\n",
       "freq          50\n",
       "Name: species, dtype: object"
      ]
     },
     "execution_count": 106,
     "metadata": {},
     "output_type": "execute_result"
    }
   ],
   "source": [
    "# 문자열 요약통계량 : 데이터 개수, 데이터 종류(unique), 최빈데이터(top), 최빈데이터개수(freq)\n",
    "iris.species.describe()"
   ]
  },
  {
   "cell_type": "code",
   "execution_count": 110,
   "id": "5d8c3225",
   "metadata": {},
   "outputs": [
    {
     "data": {
      "text/html": [
       "<div>\n",
       "<style scoped>\n",
       "    .dataframe tbody tr th:only-of-type {\n",
       "        vertical-align: middle;\n",
       "    }\n",
       "\n",
       "    .dataframe tbody tr th {\n",
       "        vertical-align: top;\n",
       "    }\n",
       "\n",
       "    .dataframe thead th {\n",
       "        text-align: right;\n",
       "    }\n",
       "</style>\n",
       "<table border=\"1\" class=\"dataframe\">\n",
       "  <thead>\n",
       "    <tr style=\"text-align: right;\">\n",
       "      <th></th>\n",
       "      <th>a</th>\n",
       "      <th>b</th>\n",
       "      <th>c</th>\n",
       "      <th>d</th>\n",
       "    </tr>\n",
       "  </thead>\n",
       "  <tbody>\n",
       "    <tr>\n",
       "      <th>0</th>\n",
       "      <td>1</td>\n",
       "      <td>2.0</td>\n",
       "      <td>aaa</td>\n",
       "      <td>True</td>\n",
       "    </tr>\n",
       "    <tr>\n",
       "      <th>1</th>\n",
       "      <td>2</td>\n",
       "      <td>1.0</td>\n",
       "      <td>aaa</td>\n",
       "      <td>False</td>\n",
       "    </tr>\n",
       "    <tr>\n",
       "      <th>2</th>\n",
       "      <td>3</td>\n",
       "      <td>2.0</td>\n",
       "      <td>aaa</td>\n",
       "      <td>True</td>\n",
       "    </tr>\n",
       "    <tr>\n",
       "      <th>3</th>\n",
       "      <td>1</td>\n",
       "      <td>1.0</td>\n",
       "      <td>aaa</td>\n",
       "      <td>False</td>\n",
       "    </tr>\n",
       "    <tr>\n",
       "      <th>4</th>\n",
       "      <td>2</td>\n",
       "      <td>2.0</td>\n",
       "      <td>aaa</td>\n",
       "      <td>True</td>\n",
       "    </tr>\n",
       "    <tr>\n",
       "      <th>5</th>\n",
       "      <td>3</td>\n",
       "      <td>1.0</td>\n",
       "      <td>bbb</td>\n",
       "      <td>False</td>\n",
       "    </tr>\n",
       "  </tbody>\n",
       "</table>\n",
       "</div>"
      ],
      "text/plain": [
       "   a    b    c      d\n",
       "0  1  2.0  aaa   True\n",
       "1  2  1.0  aaa  False\n",
       "2  3  2.0  aaa   True\n",
       "3  1  1.0  aaa  False\n",
       "4  2  2.0  aaa   True\n",
       "5  3  1.0  bbb  False"
      ]
     },
     "metadata": {},
     "output_type": "display_data"
    },
    {
     "name": "stdout",
     "output_type": "stream",
     "text": [
      "<class 'pandas.core.frame.DataFrame'>\n",
      "RangeIndex: 6 entries, 0 to 5\n",
      "Data columns (total 4 columns):\n",
      " #   Column  Non-Null Count  Dtype  \n",
      "---  ------  --------------  -----  \n",
      " 0   a       6 non-null      int64  \n",
      " 1   b       6 non-null      float64\n",
      " 2   c       6 non-null      object \n",
      " 3   d       6 non-null      bool   \n",
      "dtypes: bool(1), float64(1), int64(1), object(1)\n",
      "memory usage: 278.0+ bytes\n"
     ]
    }
   ],
   "source": [
    "# 2) describe()의 매개변수 include, exclude\n",
    "df =pd.DataFrame(data={'a' : [1, 2, 3,]*2, \n",
    "                       'b' : [2., 1]*3,\n",
    "                       'c' : ['aaa']*5+['bbb'],\n",
    "                      'd' : [True, False]*3})\n",
    "display(df)\n",
    "df.info()"
   ]
  },
  {
   "cell_type": "code",
   "execution_count": 111,
   "id": "106d6152",
   "metadata": {
    "collapsed": true
   },
   "outputs": [
    {
     "data": {
      "text/html": [
       "<div>\n",
       "<style scoped>\n",
       "    .dataframe tbody tr th:only-of-type {\n",
       "        vertical-align: middle;\n",
       "    }\n",
       "\n",
       "    .dataframe tbody tr th {\n",
       "        vertical-align: top;\n",
       "    }\n",
       "\n",
       "    .dataframe thead th {\n",
       "        text-align: right;\n",
       "    }\n",
       "</style>\n",
       "<table border=\"1\" class=\"dataframe\">\n",
       "  <thead>\n",
       "    <tr style=\"text-align: right;\">\n",
       "      <th></th>\n",
       "      <th>a</th>\n",
       "      <th>b</th>\n",
       "    </tr>\n",
       "  </thead>\n",
       "  <tbody>\n",
       "    <tr>\n",
       "      <th>count</th>\n",
       "      <td>6.000000</td>\n",
       "      <td>6.000000</td>\n",
       "    </tr>\n",
       "    <tr>\n",
       "      <th>mean</th>\n",
       "      <td>2.000000</td>\n",
       "      <td>1.500000</td>\n",
       "    </tr>\n",
       "    <tr>\n",
       "      <th>std</th>\n",
       "      <td>0.894427</td>\n",
       "      <td>0.547723</td>\n",
       "    </tr>\n",
       "    <tr>\n",
       "      <th>min</th>\n",
       "      <td>1.000000</td>\n",
       "      <td>1.000000</td>\n",
       "    </tr>\n",
       "    <tr>\n",
       "      <th>25%</th>\n",
       "      <td>1.250000</td>\n",
       "      <td>1.000000</td>\n",
       "    </tr>\n",
       "    <tr>\n",
       "      <th>50%</th>\n",
       "      <td>2.000000</td>\n",
       "      <td>1.500000</td>\n",
       "    </tr>\n",
       "    <tr>\n",
       "      <th>75%</th>\n",
       "      <td>2.750000</td>\n",
       "      <td>2.000000</td>\n",
       "    </tr>\n",
       "    <tr>\n",
       "      <th>max</th>\n",
       "      <td>3.000000</td>\n",
       "      <td>2.000000</td>\n",
       "    </tr>\n",
       "  </tbody>\n",
       "</table>\n",
       "</div>"
      ],
      "text/plain": [
       "              a         b\n",
       "count  6.000000  6.000000\n",
       "mean   2.000000  1.500000\n",
       "std    0.894427  0.547723\n",
       "min    1.000000  1.000000\n",
       "25%    1.250000  1.000000\n",
       "50%    2.000000  1.500000\n",
       "75%    2.750000  2.000000\n",
       "max    3.000000  2.000000"
      ]
     },
     "execution_count": 111,
     "metadata": {},
     "output_type": "execute_result"
    }
   ],
   "source": [
    "df.describe() # 숫자열만 기본 요약 통계량 반환"
   ]
  },
  {
   "cell_type": "code",
   "execution_count": 112,
   "id": "cfddb332",
   "metadata": {},
   "outputs": [
    {
     "data": {
      "text/html": [
       "<div>\n",
       "<style scoped>\n",
       "    .dataframe tbody tr th:only-of-type {\n",
       "        vertical-align: middle;\n",
       "    }\n",
       "\n",
       "    .dataframe tbody tr th {\n",
       "        vertical-align: top;\n",
       "    }\n",
       "\n",
       "    .dataframe thead th {\n",
       "        text-align: right;\n",
       "    }\n",
       "</style>\n",
       "<table border=\"1\" class=\"dataframe\">\n",
       "  <thead>\n",
       "    <tr style=\"text-align: right;\">\n",
       "      <th></th>\n",
       "      <th>b</th>\n",
       "      <th>d</th>\n",
       "    </tr>\n",
       "  </thead>\n",
       "  <tbody>\n",
       "    <tr>\n",
       "      <th>count</th>\n",
       "      <td>6.000000</td>\n",
       "      <td>6</td>\n",
       "    </tr>\n",
       "    <tr>\n",
       "      <th>unique</th>\n",
       "      <td>NaN</td>\n",
       "      <td>2</td>\n",
       "    </tr>\n",
       "    <tr>\n",
       "      <th>top</th>\n",
       "      <td>NaN</td>\n",
       "      <td>True</td>\n",
       "    </tr>\n",
       "    <tr>\n",
       "      <th>freq</th>\n",
       "      <td>NaN</td>\n",
       "      <td>3</td>\n",
       "    </tr>\n",
       "    <tr>\n",
       "      <th>mean</th>\n",
       "      <td>1.500000</td>\n",
       "      <td>NaN</td>\n",
       "    </tr>\n",
       "    <tr>\n",
       "      <th>std</th>\n",
       "      <td>0.547723</td>\n",
       "      <td>NaN</td>\n",
       "    </tr>\n",
       "    <tr>\n",
       "      <th>min</th>\n",
       "      <td>1.000000</td>\n",
       "      <td>NaN</td>\n",
       "    </tr>\n",
       "    <tr>\n",
       "      <th>25%</th>\n",
       "      <td>1.000000</td>\n",
       "      <td>NaN</td>\n",
       "    </tr>\n",
       "    <tr>\n",
       "      <th>50%</th>\n",
       "      <td>1.500000</td>\n",
       "      <td>NaN</td>\n",
       "    </tr>\n",
       "    <tr>\n",
       "      <th>75%</th>\n",
       "      <td>2.000000</td>\n",
       "      <td>NaN</td>\n",
       "    </tr>\n",
       "    <tr>\n",
       "      <th>max</th>\n",
       "      <td>2.000000</td>\n",
       "      <td>NaN</td>\n",
       "    </tr>\n",
       "  </tbody>\n",
       "</table>\n",
       "</div>"
      ],
      "text/plain": [
       "               b     d\n",
       "count   6.000000     6\n",
       "unique       NaN     2\n",
       "top          NaN  True\n",
       "freq         NaN     3\n",
       "mean    1.500000   NaN\n",
       "std     0.547723   NaN\n",
       "min     1.000000   NaN\n",
       "25%     1.000000   NaN\n",
       "50%     1.500000   NaN\n",
       "75%     2.000000   NaN\n",
       "max     2.000000   NaN"
      ]
     },
     "execution_count": 112,
     "metadata": {},
     "output_type": "execute_result"
    }
   ],
   "source": [
    "df.describe(include=['float64','bool']) # 전체 중 include = 반환할 데이터타입"
   ]
  },
  {
   "cell_type": "code",
   "execution_count": 115,
   "id": "1495f30d",
   "metadata": {},
   "outputs": [
    {
     "data": {
      "text/html": [
       "<div>\n",
       "<style scoped>\n",
       "    .dataframe tbody tr th:only-of-type {\n",
       "        vertical-align: middle;\n",
       "    }\n",
       "\n",
       "    .dataframe tbody tr th {\n",
       "        vertical-align: top;\n",
       "    }\n",
       "\n",
       "    .dataframe thead th {\n",
       "        text-align: right;\n",
       "    }\n",
       "</style>\n",
       "<table border=\"1\" class=\"dataframe\">\n",
       "  <thead>\n",
       "    <tr style=\"text-align: right;\">\n",
       "      <th></th>\n",
       "      <th>a</th>\n",
       "      <th>b</th>\n",
       "      <th>c</th>\n",
       "      <th>d</th>\n",
       "    </tr>\n",
       "  </thead>\n",
       "  <tbody>\n",
       "    <tr>\n",
       "      <th>count</th>\n",
       "      <td>6.000000</td>\n",
       "      <td>6.000000</td>\n",
       "      <td>6</td>\n",
       "      <td>6</td>\n",
       "    </tr>\n",
       "    <tr>\n",
       "      <th>unique</th>\n",
       "      <td>NaN</td>\n",
       "      <td>NaN</td>\n",
       "      <td>2</td>\n",
       "      <td>2</td>\n",
       "    </tr>\n",
       "    <tr>\n",
       "      <th>top</th>\n",
       "      <td>NaN</td>\n",
       "      <td>NaN</td>\n",
       "      <td>aaa</td>\n",
       "      <td>True</td>\n",
       "    </tr>\n",
       "    <tr>\n",
       "      <th>freq</th>\n",
       "      <td>NaN</td>\n",
       "      <td>NaN</td>\n",
       "      <td>5</td>\n",
       "      <td>3</td>\n",
       "    </tr>\n",
       "    <tr>\n",
       "      <th>mean</th>\n",
       "      <td>2.000000</td>\n",
       "      <td>1.500000</td>\n",
       "      <td>NaN</td>\n",
       "      <td>NaN</td>\n",
       "    </tr>\n",
       "    <tr>\n",
       "      <th>std</th>\n",
       "      <td>0.894427</td>\n",
       "      <td>0.547723</td>\n",
       "      <td>NaN</td>\n",
       "      <td>NaN</td>\n",
       "    </tr>\n",
       "    <tr>\n",
       "      <th>min</th>\n",
       "      <td>1.000000</td>\n",
       "      <td>1.000000</td>\n",
       "      <td>NaN</td>\n",
       "      <td>NaN</td>\n",
       "    </tr>\n",
       "    <tr>\n",
       "      <th>25%</th>\n",
       "      <td>1.250000</td>\n",
       "      <td>1.000000</td>\n",
       "      <td>NaN</td>\n",
       "      <td>NaN</td>\n",
       "    </tr>\n",
       "    <tr>\n",
       "      <th>50%</th>\n",
       "      <td>2.000000</td>\n",
       "      <td>1.500000</td>\n",
       "      <td>NaN</td>\n",
       "      <td>NaN</td>\n",
       "    </tr>\n",
       "    <tr>\n",
       "      <th>75%</th>\n",
       "      <td>2.750000</td>\n",
       "      <td>2.000000</td>\n",
       "      <td>NaN</td>\n",
       "      <td>NaN</td>\n",
       "    </tr>\n",
       "    <tr>\n",
       "      <th>max</th>\n",
       "      <td>3.000000</td>\n",
       "      <td>2.000000</td>\n",
       "      <td>NaN</td>\n",
       "      <td>NaN</td>\n",
       "    </tr>\n",
       "  </tbody>\n",
       "</table>\n",
       "</div>"
      ],
      "text/plain": [
       "               a         b    c     d\n",
       "count   6.000000  6.000000    6     6\n",
       "unique       NaN       NaN    2     2\n",
       "top          NaN       NaN  aaa  True\n",
       "freq         NaN       NaN    5     3\n",
       "mean    2.000000  1.500000  NaN   NaN\n",
       "std     0.894427  0.547723  NaN   NaN\n",
       "min     1.000000  1.000000  NaN   NaN\n",
       "25%     1.250000  1.000000  NaN   NaN\n",
       "50%     2.000000  1.500000  NaN   NaN\n",
       "75%     2.750000  2.000000  NaN   NaN\n",
       "max     3.000000  2.000000  NaN   NaN"
      ]
     },
     "execution_count": 115,
     "metadata": {},
     "output_type": "execute_result"
    }
   ],
   "source": [
    "df.describe(include='all')"
   ]
  },
  {
   "cell_type": "code",
   "execution_count": 117,
   "id": "bbcef147",
   "metadata": {},
   "outputs": [
    {
     "data": {
      "text/html": [
       "<div>\n",
       "<style scoped>\n",
       "    .dataframe tbody tr th:only-of-type {\n",
       "        vertical-align: middle;\n",
       "    }\n",
       "\n",
       "    .dataframe tbody tr th {\n",
       "        vertical-align: top;\n",
       "    }\n",
       "\n",
       "    .dataframe thead th {\n",
       "        text-align: right;\n",
       "    }\n",
       "</style>\n",
       "<table border=\"1\" class=\"dataframe\">\n",
       "  <thead>\n",
       "    <tr style=\"text-align: right;\">\n",
       "      <th></th>\n",
       "      <th>a</th>\n",
       "      <th>b</th>\n",
       "      <th>c</th>\n",
       "    </tr>\n",
       "  </thead>\n",
       "  <tbody>\n",
       "    <tr>\n",
       "      <th>count</th>\n",
       "      <td>6.000000</td>\n",
       "      <td>6.000000</td>\n",
       "      <td>6</td>\n",
       "    </tr>\n",
       "    <tr>\n",
       "      <th>unique</th>\n",
       "      <td>NaN</td>\n",
       "      <td>NaN</td>\n",
       "      <td>2</td>\n",
       "    </tr>\n",
       "    <tr>\n",
       "      <th>top</th>\n",
       "      <td>NaN</td>\n",
       "      <td>NaN</td>\n",
       "      <td>aaa</td>\n",
       "    </tr>\n",
       "    <tr>\n",
       "      <th>freq</th>\n",
       "      <td>NaN</td>\n",
       "      <td>NaN</td>\n",
       "      <td>5</td>\n",
       "    </tr>\n",
       "    <tr>\n",
       "      <th>mean</th>\n",
       "      <td>2.000000</td>\n",
       "      <td>1.500000</td>\n",
       "      <td>NaN</td>\n",
       "    </tr>\n",
       "    <tr>\n",
       "      <th>std</th>\n",
       "      <td>0.894427</td>\n",
       "      <td>0.547723</td>\n",
       "      <td>NaN</td>\n",
       "    </tr>\n",
       "    <tr>\n",
       "      <th>min</th>\n",
       "      <td>1.000000</td>\n",
       "      <td>1.000000</td>\n",
       "      <td>NaN</td>\n",
       "    </tr>\n",
       "    <tr>\n",
       "      <th>25%</th>\n",
       "      <td>1.250000</td>\n",
       "      <td>1.000000</td>\n",
       "      <td>NaN</td>\n",
       "    </tr>\n",
       "    <tr>\n",
       "      <th>50%</th>\n",
       "      <td>2.000000</td>\n",
       "      <td>1.500000</td>\n",
       "      <td>NaN</td>\n",
       "    </tr>\n",
       "    <tr>\n",
       "      <th>75%</th>\n",
       "      <td>2.750000</td>\n",
       "      <td>2.000000</td>\n",
       "      <td>NaN</td>\n",
       "    </tr>\n",
       "    <tr>\n",
       "      <th>max</th>\n",
       "      <td>3.000000</td>\n",
       "      <td>2.000000</td>\n",
       "      <td>NaN</td>\n",
       "    </tr>\n",
       "  </tbody>\n",
       "</table>\n",
       "</div>"
      ],
      "text/plain": [
       "               a         b    c\n",
       "count   6.000000  6.000000    6\n",
       "unique       NaN       NaN    2\n",
       "top          NaN       NaN  aaa\n",
       "freq         NaN       NaN    5\n",
       "mean    2.000000  1.500000  NaN\n",
       "std     0.894427  0.547723  NaN\n",
       "min     1.000000  1.000000  NaN\n",
       "25%     1.250000  1.000000  NaN\n",
       "50%     2.000000  1.500000  NaN\n",
       "75%     2.750000  2.000000  NaN\n",
       "max     3.000000  2.000000  NaN"
      ]
     },
     "execution_count": 117,
     "metadata": {},
     "output_type": "execute_result"
    }
   ],
   "source": [
    "df.describe(exclude='bool') # 전체에서 exclude = 제외할 타입"
   ]
  },
  {
   "cell_type": "code",
   "execution_count": 122,
   "id": "b13d3ed0",
   "metadata": {},
   "outputs": [
    {
     "data": {
      "text/plain": [
       "array(['aaa', 'bbb'], dtype=object)"
      ]
     },
     "execution_count": 122,
     "metadata": {},
     "output_type": "execute_result"
    }
   ],
   "source": [
    "df['c'].unique() # 특정 컬럼의 고유 값들의 종류(도메인)"
   ]
  },
  {
   "cell_type": "code",
   "execution_count": 123,
   "id": "4c92cdc3",
   "metadata": {},
   "outputs": [
    {
     "data": {
      "text/plain": [
       "aaa    5\n",
       "bbb    1\n",
       "Name: c, dtype: int64"
      ]
     },
     "execution_count": 123,
     "metadata": {},
     "output_type": "execute_result"
    }
   ],
   "source": [
    "df['c'].value_counts() # 특정 컬럼의 고유 값들의 개수"
   ]
  },
  {
   "cell_type": "code",
   "execution_count": 125,
   "id": "3218dc50",
   "metadata": {},
   "outputs": [
    {
     "data": {
      "text/plain": [
       "a    0.8\n",
       "b    0.3\n",
       "d    0.3\n",
       "dtype: float64"
      ]
     },
     "execution_count": 125,
     "metadata": {},
     "output_type": "execute_result"
    }
   ],
   "source": [
    "df.var(numeric_only=True)"
   ]
  },
  {
   "cell_type": "code",
   "execution_count": 126,
   "id": "3177cc1c",
   "metadata": {},
   "outputs": [
    {
     "data": {
      "text/html": [
       "<div>\n",
       "<style scoped>\n",
       "    .dataframe tbody tr th:only-of-type {\n",
       "        vertical-align: middle;\n",
       "    }\n",
       "\n",
       "    .dataframe tbody tr th {\n",
       "        vertical-align: top;\n",
       "    }\n",
       "\n",
       "    .dataframe thead th {\n",
       "        text-align: right;\n",
       "    }\n",
       "</style>\n",
       "<table border=\"1\" class=\"dataframe\">\n",
       "  <thead>\n",
       "    <tr style=\"text-align: right;\">\n",
       "      <th></th>\n",
       "      <th>c</th>\n",
       "    </tr>\n",
       "  </thead>\n",
       "  <tbody>\n",
       "    <tr>\n",
       "      <th>0</th>\n",
       "      <td>aaa</td>\n",
       "    </tr>\n",
       "    <tr>\n",
       "      <th>1</th>\n",
       "      <td>aaa</td>\n",
       "    </tr>\n",
       "    <tr>\n",
       "      <th>2</th>\n",
       "      <td>aaa</td>\n",
       "    </tr>\n",
       "    <tr>\n",
       "      <th>3</th>\n",
       "      <td>aaa</td>\n",
       "    </tr>\n",
       "    <tr>\n",
       "      <th>4</th>\n",
       "      <td>aaa</td>\n",
       "    </tr>\n",
       "    <tr>\n",
       "      <th>5</th>\n",
       "      <td>bbb</td>\n",
       "    </tr>\n",
       "  </tbody>\n",
       "</table>\n",
       "</div>"
      ],
      "text/plain": [
       "     c\n",
       "0  aaa\n",
       "1  aaa\n",
       "2  aaa\n",
       "3  aaa\n",
       "4  aaa\n",
       "5  bbb"
      ]
     },
     "execution_count": 126,
     "metadata": {},
     "output_type": "execute_result"
    }
   ],
   "source": [
    "df.select_dtypes(include='object') # object형 컬럼만 추출"
   ]
  },
  {
   "cell_type": "code",
   "execution_count": 127,
   "id": "613cbd81",
   "metadata": {},
   "outputs": [
    {
     "data": {
      "text/html": [
       "<div>\n",
       "<style scoped>\n",
       "    .dataframe tbody tr th:only-of-type {\n",
       "        vertical-align: middle;\n",
       "    }\n",
       "\n",
       "    .dataframe tbody tr th {\n",
       "        vertical-align: top;\n",
       "    }\n",
       "\n",
       "    .dataframe thead th {\n",
       "        text-align: right;\n",
       "    }\n",
       "</style>\n",
       "<table border=\"1\" class=\"dataframe\">\n",
       "  <thead>\n",
       "    <tr style=\"text-align: right;\">\n",
       "      <th></th>\n",
       "      <th>a</th>\n",
       "      <th>b</th>\n",
       "      <th>d</th>\n",
       "    </tr>\n",
       "  </thead>\n",
       "  <tbody>\n",
       "    <tr>\n",
       "      <th>0</th>\n",
       "      <td>1</td>\n",
       "      <td>2.0</td>\n",
       "      <td>True</td>\n",
       "    </tr>\n",
       "    <tr>\n",
       "      <th>1</th>\n",
       "      <td>2</td>\n",
       "      <td>1.0</td>\n",
       "      <td>False</td>\n",
       "    </tr>\n",
       "    <tr>\n",
       "      <th>2</th>\n",
       "      <td>3</td>\n",
       "      <td>2.0</td>\n",
       "      <td>True</td>\n",
       "    </tr>\n",
       "    <tr>\n",
       "      <th>3</th>\n",
       "      <td>1</td>\n",
       "      <td>1.0</td>\n",
       "      <td>False</td>\n",
       "    </tr>\n",
       "    <tr>\n",
       "      <th>4</th>\n",
       "      <td>2</td>\n",
       "      <td>2.0</td>\n",
       "      <td>True</td>\n",
       "    </tr>\n",
       "    <tr>\n",
       "      <th>5</th>\n",
       "      <td>3</td>\n",
       "      <td>1.0</td>\n",
       "      <td>False</td>\n",
       "    </tr>\n",
       "  </tbody>\n",
       "</table>\n",
       "</div>"
      ],
      "text/plain": [
       "   a    b      d\n",
       "0  1  2.0   True\n",
       "1  2  1.0  False\n",
       "2  3  2.0   True\n",
       "3  1  1.0  False\n",
       "4  2  2.0   True\n",
       "5  3  1.0  False"
      ]
     },
     "execution_count": 127,
     "metadata": {},
     "output_type": "execute_result"
    }
   ],
   "source": [
    "df.select_dtypes(exclude='object')# object형 컬럼만 제외하고 추출"
   ]
  },
  {
   "cell_type": "markdown",
   "id": "a295bfc5",
   "metadata": {},
   "source": [
    "## 8.3 공분산, 상관계수"
   ]
  },
  {
   "cell_type": "code",
   "execution_count": 131,
   "id": "65210cf8",
   "metadata": {},
   "outputs": [
    {
     "data": {
      "text/html": [
       "<div>\n",
       "<style scoped>\n",
       "    .dataframe tbody tr th:only-of-type {\n",
       "        vertical-align: middle;\n",
       "    }\n",
       "\n",
       "    .dataframe tbody tr th {\n",
       "        vertical-align: top;\n",
       "    }\n",
       "\n",
       "    .dataframe thead th {\n",
       "        text-align: right;\n",
       "    }\n",
       "</style>\n",
       "<table border=\"1\" class=\"dataframe\">\n",
       "  <thead>\n",
       "    <tr style=\"text-align: right;\">\n",
       "      <th></th>\n",
       "      <th>sepal_length</th>\n",
       "      <th>sepal_width</th>\n",
       "      <th>petal_length</th>\n",
       "      <th>petal_width</th>\n",
       "    </tr>\n",
       "  </thead>\n",
       "  <tbody>\n",
       "    <tr>\n",
       "      <th>sepal_length</th>\n",
       "      <td>0.685694</td>\n",
       "      <td>-0.042434</td>\n",
       "      <td>1.274315</td>\n",
       "      <td>0.516271</td>\n",
       "    </tr>\n",
       "    <tr>\n",
       "      <th>sepal_width</th>\n",
       "      <td>-0.042434</td>\n",
       "      <td>0.189979</td>\n",
       "      <td>-0.329656</td>\n",
       "      <td>-0.121639</td>\n",
       "    </tr>\n",
       "    <tr>\n",
       "      <th>petal_length</th>\n",
       "      <td>1.274315</td>\n",
       "      <td>-0.329656</td>\n",
       "      <td>3.116278</td>\n",
       "      <td>1.295609</td>\n",
       "    </tr>\n",
       "    <tr>\n",
       "      <th>petal_width</th>\n",
       "      <td>0.516271</td>\n",
       "      <td>-0.121639</td>\n",
       "      <td>1.295609</td>\n",
       "      <td>0.581006</td>\n",
       "    </tr>\n",
       "  </tbody>\n",
       "</table>\n",
       "</div>"
      ],
      "text/plain": [
       "              sepal_length  sepal_width  petal_length  petal_width\n",
       "sepal_length      0.685694    -0.042434      1.274315     0.516271\n",
       "sepal_width      -0.042434     0.189979     -0.329656    -0.121639\n",
       "petal_length      1.274315    -0.329656      3.116278     1.295609\n",
       "petal_width       0.516271    -0.121639      1.295609     0.581006"
      ]
     },
     "execution_count": 131,
     "metadata": {},
     "output_type": "execute_result"
    }
   ],
   "source": [
    "X\n",
    "X.cov() # 공분산"
   ]
  },
  {
   "cell_type": "code",
   "execution_count": 134,
   "id": "1e5b332c",
   "metadata": {},
   "outputs": [
    {
     "data": {
      "text/html": [
       "<div>\n",
       "<style scoped>\n",
       "    .dataframe tbody tr th:only-of-type {\n",
       "        vertical-align: middle;\n",
       "    }\n",
       "\n",
       "    .dataframe tbody tr th {\n",
       "        vertical-align: top;\n",
       "    }\n",
       "\n",
       "    .dataframe thead th {\n",
       "        text-align: right;\n",
       "    }\n",
       "</style>\n",
       "<table border=\"1\" class=\"dataframe\">\n",
       "  <thead>\n",
       "    <tr style=\"text-align: right;\">\n",
       "      <th></th>\n",
       "      <th>sepal_length</th>\n",
       "      <th>sepal_width</th>\n",
       "      <th>petal_length</th>\n",
       "      <th>petal_width</th>\n",
       "    </tr>\n",
       "  </thead>\n",
       "  <tbody>\n",
       "    <tr>\n",
       "      <th>sepal_length</th>\n",
       "      <td>1.000000</td>\n",
       "      <td>-0.117570</td>\n",
       "      <td>0.871754</td>\n",
       "      <td>0.817941</td>\n",
       "    </tr>\n",
       "    <tr>\n",
       "      <th>sepal_width</th>\n",
       "      <td>-0.117570</td>\n",
       "      <td>1.000000</td>\n",
       "      <td>-0.428440</td>\n",
       "      <td>-0.366126</td>\n",
       "    </tr>\n",
       "    <tr>\n",
       "      <th>petal_length</th>\n",
       "      <td>0.871754</td>\n",
       "      <td>-0.428440</td>\n",
       "      <td>1.000000</td>\n",
       "      <td>0.962865</td>\n",
       "    </tr>\n",
       "    <tr>\n",
       "      <th>petal_width</th>\n",
       "      <td>0.817941</td>\n",
       "      <td>-0.366126</td>\n",
       "      <td>0.962865</td>\n",
       "      <td>1.000000</td>\n",
       "    </tr>\n",
       "  </tbody>\n",
       "</table>\n",
       "</div>"
      ],
      "text/plain": [
       "              sepal_length  sepal_width  petal_length  petal_width\n",
       "sepal_length      1.000000    -0.117570      0.871754     0.817941\n",
       "sepal_width      -0.117570     1.000000     -0.428440    -0.366126\n",
       "petal_length      0.871754    -0.428440      1.000000     0.962865\n",
       "petal_width       0.817941    -0.366126      0.962865     1.000000"
      ]
     },
     "execution_count": 134,
     "metadata": {},
     "output_type": "execute_result"
    }
   ],
   "source": [
    "# -1(반비례) <= 상관계수 <= 1(비례)\n",
    "X.corr() # 상관계수\n",
    "# 상관계수의 절대값이 0에 가까울 수록 무관한, 중요한 데이터\n",
    "# 상관계수의 절대값이 1에 가까울 수록 유관한, 비교적 덜 중요한 데이터\n",
    "# 상관계수가 0.7보다 크면 의미가 있다.... 상관이 있다.... => 회귀분석을 통해 이 관계가 어떤 영향을 끼치나 확인해야한다."
   ]
  },
  {
   "cell_type": "code",
   "execution_count": 146,
   "id": "9b862083",
   "metadata": {},
   "outputs": [
    {
     "data": {
      "image/png": "[encoded data removed]",
      "text/plain": [
       "<Figure size 1200x600 with 2 Axes>"
      ]
     },
     "metadata": {},
     "output_type": "display_data"
    }
   ],
   "source": [
    "import matplotlib.pyplot as plt\n",
    "import seaborn as sns\n",
    "plt.figure(figsize=(12,6))\n",
    "sns.heatmap(X.corr(), vmin = -1, vmax=1,annot = True,fmt = '.2f', cmap='Greens')\n",
    "plt.show()"
   ]
  },
  {
   "cell_type": "markdown",
   "id": "fdc369ac",
   "metadata": {},
   "source": []
  },
  {
   "cell_type": "code",
   "execution_count": null,
   "id": "58d18186",
   "metadata": {},
   "outputs": [],
   "source": []
  },
  {
   "cell_type": "code",
   "execution_count": null,
   "id": "3206f087",
   "metadata": {},
   "outputs": [],
   "source": []
  },
  {
   "cell_type": "code",
   "execution_count": null,
   "id": "e40bf93c",
   "metadata": {},
   "outputs": [],
   "source": []
  },
  {
   "cell_type": "code",
   "execution_count": null,
   "id": "0963c1d6",
   "metadata": {},
   "outputs": [],
   "source": []
  },
  {
   "cell_type": "code",
   "execution_count": null,
   "id": "0a153743",
   "metadata": {},
   "outputs": [],
   "source": []
  },
  {
   "cell_type": "code",
   "execution_count": null,
   "id": "3dcbf08e",
   "metadata": {},
   "outputs": [],
   "source": []
  }
 ],
 "metadata": {
  "kernelspec": {
   "display_name": "Python 3 (ipykernel)",
   "language": "python",
   "name": "python3"
  },
  "language_info": {
   "codemirror_mode": {
    "name": "ipython",
    "version": 3
   },
   "file_extension": ".py",
   "mimetype": "text/x-python",
   "name": "python",
   "nbconvert_exporter": "python",
   "pygments_lexer": "ipython3",
   "version": "3.10.9"
  },
  "toc": {
   "base_numbering": 1,
   "nav_menu": {},
   "number_sections": false,
   "sideBar": true,
   "skip_h1_title": false,
   "title_cell": "Table of Contents",
   "title_sidebar": "Contents",
   "toc_cell": false,
   "toc_position": {
    "height": "calc(100% - 180px)",
    "left": "10px",
    "top": "150px",
    "width": "165px"
   },
   "toc_section_display": true,
   "toc_window_display": true
  }
 },
 "nbformat": 4,
 "nbformat_minor": 5
}
