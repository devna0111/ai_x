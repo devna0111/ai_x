{
 "cells": [
  {
   "cell_type": "code",
   "execution_count": 1,
   "id": "660e9363",
   "metadata": {},
   "outputs": [
    {
     "data": {
      "text/html": [
       "\n",
       "<style>\n",
       "div.container{width:86% !important;}\n",
       "div.cell.code_cell.rendered{width:100%;}\n",
       "div.CodeMirror {font-family:Consolas; font-size:12pt;}\n",
       "div.output {font-size:12pt; font-weight:bold;}\n",
       "div.input {font-family:Consolas; font-size:12pt;}\n",
       "div.prompt {min-width:70px;}\n",
       "div#toc-wrapper{padding-top:120px;}\n",
       "div.text_cell_render ul li{font-size:12pt;padding:5px;}\n",
       "table.dataframe{font-size:15px;}\n",
       "</style>\n"
      ],
      "text/plain": [
       "<IPython.core.display.HTML object>"
      ]
     },
     "metadata": {},
     "output_type": "display_data"
    }
   ],
   "source": [
    "from IPython.display import display, HTML\n",
    "display(HTML(\"\"\"\n",
    "<style>\n",
    "div.container{width:86% !important;}\n",
    "div.cell.code_cell.rendered{width:100%;}\n",
    "div.CodeMirror {font-family:Consolas; font-size:12pt;}\n",
    "div.output {font-size:12pt; font-weight:bold;}\n",
    "div.input {font-family:Consolas; font-size:12pt;}\n",
    "div.prompt {min-width:70px;}\n",
    "div#toc-wrapper{padding-top:120px;}\n",
    "div.text_cell_render ul li{font-size:12pt;padding:5px;}\n",
    "table.dataframe{font-size:15px;}\n",
    "</style>\n",
    "\"\"\"))"
   ]
  },
  {
   "cell_type": "markdown",
   "id": "6152d23a",
   "metadata": {},
   "source": [
    "<font size = 5, color = 'red'> ch03 데이터 구조 </font>\n",
    "- 리스트 [ ], 튜플 ( ), 집합(set) { }, 딕셔너리 {key:value}\n",
    "- 여러가지 자료를 한 변수에 담는 것이 목적\n",
    "\n",
    "# 1절 리스트\n",
    "## 1.1 리스트 생성\n",
    "\n",
    "- [ ] 를 이용해서 만들며 여러(종류와 개) 값을 하나의 변수에 저장/관리 가능하다.\n",
    "- list(리스트로 변환 가능한 자료) 함수도 이용 가능.\n",
    "- 인덱스 : 각 요소의 위치. 0부터 시작. 맨 마지막 인덱스는 -1\n",
    "- 슬라이싱 : [from : stop : step] from부터 stop-1 까지 step간격 만큼 부분 데이터셋 추출\n",
    "- 인덱스와 슬라이싱을 이용해서 읽기/쓰기 지원"
   ]
  },
  {
   "cell_type": "code",
   "execution_count": 22,
   "id": "91a970d4",
   "metadata": {},
   "outputs": [
    {
     "data": {
      "text/plain": [
       "list"
      ]
     },
     "execution_count": 22,
     "metadata": {},
     "output_type": "execute_result"
    }
   ],
   "source": [
    "fruits = ['banana', 'apple', 'lemon', 'orange', 'grape']\n",
    "type(fruits)"
   ]
  },
  {
   "cell_type": "code",
   "execution_count": 37,
   "id": "6afe6179",
   "metadata": {},
   "outputs": [
    {
     "name": "stdout",
     "output_type": "stream",
     "text": [
      "['banana', 'apple', 'lemon', 'orange', 'grape']\n",
      "banana\n",
      "--------------------------------------------------\n",
      "change\n",
      "['change', 'apple', 'lemon', 'orange', 'grape']\n"
     ]
    }
   ],
   "source": [
    "fruits = ['banana', 'apple', 'lemon', 'orange', 'grape']\n",
    "print(fruits)\n",
    "print(fruits[0])\n",
    "fruits[0] = 'change'\n",
    "print('-' * 50)\n",
    "print(fruits[0])\n",
    "print(fruits)"
   ]
  },
  {
   "cell_type": "code",
   "execution_count": 44,
   "id": "5cf23de2",
   "metadata": {},
   "outputs": [
    {
     "name": "stdout",
     "output_type": "stream",
     "text": [
      "change apple lemon orange grape\n",
      "x = change\n",
      "y = apple\n",
      "z = lemon\n",
      "o = orange\n",
      "z = lemon\n"
     ]
    }
   ],
   "source": [
    "x, y, z, o, w = fruits\n",
    "print(x, y, z, o, w)\n",
    "print(f'x = {x}')\n",
    "print(f'y = {y}')\n",
    "print(f'z = {z}')\n",
    "print(f'o = {o}')\n",
    "print(f'z = {z}')"
   ]
  },
  {
   "cell_type": "code",
   "execution_count": 52,
   "id": "acab28cd",
   "metadata": {},
   "outputs": [
    {
     "name": "stdout",
     "output_type": "stream",
     "text": [
      "[0, 1, 2, 3, 4, 5, 6, 7, 8, 9]\n"
     ]
    }
   ],
   "source": [
    "# range(from, to, by) from 부터 to - 1 까지 by 만큼 증가하면서 지정된 범위의 '정수' : from 생략시 0(시작부터) by 생략시 1\n",
    "a = list(range(10))\n",
    "print(a)"
   ]
  },
  {
   "cell_type": "code",
   "execution_count": 57,
   "id": "f39fbad7",
   "metadata": {},
   "outputs": [
    {
     "data": {
      "text/plain": [
       "[10, 7, 4, 1]"
      ]
     },
     "execution_count": 57,
     "metadata": {},
     "output_type": "execute_result"
    }
   ],
   "source": [
    "list(range(10,-1,-3))"
   ]
  },
  {
   "cell_type": "code",
   "execution_count": 65,
   "id": "362f7fe6",
   "metadata": {},
   "outputs": [
    {
     "name": "stdout",
     "output_type": "stream",
     "text": [
      "0\n"
     ]
    }
   ],
   "source": [
    "# 반복문(30회)\n",
    "k=0\n",
    "for i in range(30) :\n",
    "    pass\n",
    "print(k)"
   ]
  },
  {
   "cell_type": "code",
   "execution_count": 87,
   "id": "3eda6956",
   "metadata": {},
   "outputs": [
    {
     "name": "stdout",
     "output_type": "stream",
     "text": [
      "1번째 과일은 mango 입니다.\n",
      "2번째 과일은 apple 입니다.\n",
      "3번째 과일은 orange 입니다.\n",
      "4번째 과일은 grape 입니다.\n",
      "--------------------------------------------------\n",
      "1번째 과일은 mango 입니다.\n",
      "2번째 과일은 apple 입니다.\n",
      "3번째 과일은 orange 입니다.\n",
      "4번째 과일은 grape 입니다.\n",
      "--------------------------------------------------\n",
      "1번째 과일은 mango 입니다.\n",
      "2번째 과일은 apple 입니다.\n",
      "3번째 과일은 orange 입니다.\n",
      "4번째 과일은 grape 입니다.\n",
      "--------------------------------------------------\n",
      "4\n"
     ]
    }
   ],
   "source": [
    "fruits = ['mango', 'apple', 'orange', 'grape']\n",
    "\n",
    "for i in range(len(fruits)) :\n",
    "        print(f'{i+1}번째 과일은',fruits[i],'입니다.')\n",
    "        \n",
    "print('-' * 50)\n",
    "\n",
    "for i in fruits :\n",
    "    print(f'{fruits.index(i) + 1}번째 과일은 {i} 입니다.')\n",
    "print('-' * 50)\n",
    "for idx,val in enumerate(fruits) : # enumerate(나열가능한 자료) : -> (index, val) 들의 셋들\n",
    "    print(f'{idx+1}번째 과일은 {val} 입니다.')\n",
    "print('-' * 50)\n",
    "print(len(fruits))\n",
    "# len(list) : 리스트 속 자료의 개수"
   ]
  },
  {
   "cell_type": "code",
   "execution_count": 140,
   "id": "97094572",
   "metadata": {},
   "outputs": [
    {
     "name": "stdout",
     "output_type": "stream",
     "text": [
      "[0, True, '2', 3, [4, 5, 6], {1, 2, 3}, (1, 2)]\n",
      "[4, 5, 6]\n",
      "[4, 5, 6] 5\n"
     ]
    }
   ],
   "source": [
    "# 리스트는 여러 타입의 데이터를 담을 수 있음\n",
    "numbers = [0, True, '2', 3, [4,5,6], {1,2,3}, (1,2)] \n",
    "# 집합은 for 구문도 돌고 enumerate도 도는데 index는 지원 안함 : **순서 없음**\n",
    "# 순회가 가능한(반복이 가능한) iterable\n",
    "print(numbers)\n",
    "print(numbers[4])\n",
    "print(numbers[4], numbers[4][1])"
   ]
  },
  {
   "cell_type": "code",
   "execution_count": 141,
   "id": "59050180",
   "metadata": {},
   "outputs": [],
   "source": [
    "# 세 학생의 국어 점수 : score = [90, 100, 95] \n",
    "# 세 학생의 국영수 점수 : score_3sub = [[90, 100, 96], [100, 70, 98], [85, 70, 65]] # 이중 중첩 리스트 : 이차원 리스트\n",
    "# 근데 이거 numpy로 array형으로 사용하면 연산 등에서 정말 용이하다"
   ]
  },
  {
   "cell_type": "code",
   "execution_count": 150,
   "id": "1da40e79",
   "metadata": {},
   "outputs": [
    {
     "name": "stdout",
     "output_type": "stream",
     "text": [
      "[[90, 91, 92, 93], [80, 81, 82, 83], [70, 71, 72, 73]]\n",
      "3 4\n"
     ]
    }
   ],
   "source": [
    "# 2차원 리스트\n",
    "numbers_2d = [[90, 91, 92, 93], \n",
    "              [80, 81, 82, 83],\n",
    "              [70, 71, 72, 73],]\n",
    "print(numbers_2d)\n",
    "print(len(numbers_2d), len(numbers_2d[0]))"
   ]
  },
  {
   "cell_type": "code",
   "execution_count": 174,
   "id": "5ab704a7",
   "metadata": {},
   "outputs": [
    {
     "name": "stdout",
     "output_type": "stream",
     "text": [
      "0행 0열 : 90\t0행 1열 : 91\t0행 2열 : 92\t0행 3열 : 93\t\n",
      "1행 0열 : 80\t1행 1열 : 81\t1행 2열 : 82\t1행 3열 : 83\t\n",
      "2행 0열 : 70\t2행 1열 : 71\t2행 2열 : 72\t2행 3열 : 73\t\n"
     ]
    }
   ],
   "source": [
    "for i, first_access in enumerate(numbers_2d) :\n",
    "# f'{idx + 1}번째 학생의 성적표 : {first_access}'\n",
    "    for j, value in enumerate(first_access) :\n",
    "        print(f'{i}행 {j}열 : {value}', end = '\\t') # \\t : 탭\n",
    "    print() # 개행 다음 줄을 열어라! 다음 줄로 가자 다음 줄 시작하자\n",
    "#for idx, first_access in enumerate(numbers_2d) :\n",
    "#    print(f'{idx + 1}번째 학생의 성적표 : {first_access}')"
   ]
  },
  {
   "cell_type": "code",
   "execution_count": 190,
   "id": "0a02d00c",
   "metadata": {},
   "outputs": [
    {
     "name": "stdout",
     "output_type": "stream",
     "text": [
      "과 목\t국어 \t영어 \t수학 \t과학 \t\n",
      "길 동\t 90\t 91\t 92\t 93\t\n",
      "김 천\t 80\t 81\t 82\t 83\t\n",
      "김 가\t 70\t 71\t 72\t 73\t\n"
     ]
    }
   ],
   "source": [
    "numbers_2d = [['과 목','국어', '영어', '수학', '과학'],\n",
    "              ['길 동', 90, 91, 92, 93], \n",
    "              ['김 천', 80, 81, 82, 83],\n",
    "              ['김 가', 70, 71, 72, 73],]\n",
    "for row in numbers_2d :\n",
    "    for score in row :\n",
    "        print(f'{score:3}', end = '\\t')\n",
    "    print()"
   ]
  },
  {
   "cell_type": "markdown",
   "id": "94fb8a02",
   "metadata": {},
   "source": [
    "## 1.2 기본 정보 조회\n"
   ]
  },
  {
   "cell_type": "code",
   "execution_count": 204,
   "id": "97afbd37",
   "metadata": {},
   "outputs": [
    {
     "name": "stdout",
     "output_type": "stream",
     "text": [
      "[1, 12, 3, 5, 4]\n",
      "[[100, 0], [9, 100, 1, 2, 3], [50, 54]]\n"
     ]
    }
   ],
   "source": [
    "# 최소값, 최대값\n",
    "nums = [1, 12, 3, 5, 4,]\n",
    "nums2 = [[100,0],\n",
    "        [9,100, 1, 2, 3,],\n",
    "        [50, 54],]\n",
    "print(nums)\n",
    "print(nums2)"
   ]
  },
  {
   "cell_type": "code",
   "execution_count": 219,
   "id": "589931d2",
   "metadata": {},
   "outputs": [
    {
     "name": "stdout",
     "output_type": "stream",
     "text": [
      "5 3\n",
      "1 12\n",
      "[9, 100, 1, 2, 3] [100, 0]\n",
      "[1, 3, 4, 5, 12]\n",
      "[[9, 100, 1, 2, 3], [50, 54], [100, 0]]\n",
      "[[100, 0], [50, 54], [9, 100, 1, 2, 3]]\n",
      "[[50, 54], [100, 0], [9, 100, 1, 2, 3]]\n"
     ]
    }
   ],
   "source": [
    "# 요소(item)의 수\n",
    "print(len(nums), len(nums2))\n",
    "print(min(nums), max(nums))\n",
    "print(min(nums2), max(nums2)) # 기본은 제일 앞 요소를 기준으로 비교한다. x[0]\n",
    "print(sorted(nums))\n",
    "print(sorted(nums2))\n",
    "print(sorted(nums2, key = lambda x: x[1]))\n",
    "print(sorted(nums2, key = lambda x: (len(x), x[0])))"
   ]
  },
  {
   "cell_type": "code",
   "execution_count": 225,
   "id": "3d5c45b8",
   "metadata": {},
   "outputs": [
    {
     "data": {
      "text/plain": [
       "('Apple', 'orange')"
      ]
     },
     "execution_count": 225,
     "metadata": {},
     "output_type": "execute_result"
    }
   ],
   "source": [
    "# 문자 list일 경우 ascii 코드 값으로 min(), max() 적용\n",
    "fruits = ['apple', 'mango', 'orange', 'Apple']\n",
    "min(fruits), max(fruits)"
   ]
  },
  {
   "cell_type": "code",
   "execution_count": 231,
   "id": "ca0d1628",
   "metadata": {},
   "outputs": [
    {
     "name": "stdout",
     "output_type": "stream",
     "text": [
      "오름차순 정렬 : [1, 3, 4, 5, 12]\n",
      "내림차순 정렬 : [12, 5, 4, 3, 1]\n",
      "합 : 25\n"
     ]
    }
   ],
   "source": [
    "# 정렬하기\n",
    "numbers = [1, 12, 3, 5, 4,]\n",
    "print('오름차순 정렬 :', sorted(numbers))\n",
    "print('내림차순 정렬 :', sorted(numbers, reverse = True))\n",
    "# sorted 함수는 새로운 리스트에 정렬한 값을 넣어주는 의미\n",
    "print('합 :', sum(numbers))"
   ]
  },
  {
   "cell_type": "markdown",
   "id": "34aafe6d",
   "metadata": {},
   "source": [
    "## 1.3 요소 추가\n",
    "```\n",
    "     + 로 두 리스트를 연결\n",
    "     * 로 리스트를 * 번 반복\n",
    "     append() : 리스트 맨 뒤 1개 요소 추가\n",
    "     extend([무조건 리스트 형태로]) : 리스트에 리스트 이어붙이기\n",
    "     insert(idx, val) : val를 idx 위치에 추가 기존 데이터는 shift\n",
    " ```"
   ]
  },
  {
   "cell_type": "code",
   "execution_count": 232,
   "id": "18006eba",
   "metadata": {},
   "outputs": [],
   "source": [
    "nums = [1,2,3,4,5,]"
   ]
  },
  {
   "cell_type": "code",
   "execution_count": 234,
   "id": "f9f237e8",
   "metadata": {},
   "outputs": [
    {
     "name": "stdout",
     "output_type": "stream",
     "text": [
      "2926339915968\n",
      "2926342348096\n"
     ]
    }
   ],
   "source": [
    "nums = [1,2,3,4,5,]\n",
    "nums2 = [1,2,3,4,5,]\n",
    "print(id(nums))\n",
    "print(id(nums2))"
   ]
  },
  {
   "cell_type": "code",
   "execution_count": 430,
   "id": "ab12197d",
   "metadata": {
    "collapsed": true
   },
   "outputs": [
    {
     "name": "stdout",
     "output_type": "stream",
     "text": [
      "2926311953216\n",
      "2926341325440\n",
      "2926341325440\n",
      "2926341325440\n",
      "2926341325440\n",
      "2926341325440\n",
      "2926341325440\n"
     ]
    },
    {
     "data": {
      "text/plain": [
       "[99,\n",
       " 1,\n",
       " 2,\n",
       " 1,\n",
       " 2,\n",
       " 1,\n",
       " 2,\n",
       " 1,\n",
       " 2,\n",
       " 1,\n",
       " 1,\n",
       " 2,\n",
       " 1,\n",
       " 2,\n",
       " 1,\n",
       " 2,\n",
       " 1,\n",
       " 2,\n",
       " 1,\n",
       " 99,\n",
       " 1,\n",
       " 2,\n",
       " 1,\n",
       " 2,\n",
       " 1,\n",
       " 2,\n",
       " 1,\n",
       " 2,\n",
       " 1,\n",
       " 1,\n",
       " 2,\n",
       " 1,\n",
       " 2,\n",
       " 1,\n",
       " 2,\n",
       " 1,\n",
       " 2,\n",
       " 1]"
      ]
     },
     "execution_count": 430,
     "metadata": {},
     "output_type": "execute_result"
    }
   ],
   "source": [
    "numbers = [1,2]\n",
    "print(id(numbers))\n",
    "numbers = numbers + numbers\n",
    "print(id(numbers))\n",
    "numbers *= 2\n",
    "print(id(numbers))\n",
    "numbers.append(1)\n",
    "print(id(numbers))\n",
    "numbers.extend(numbers)\n",
    "print(id(numbers))\n",
    "numbers.insert(0,99)\n",
    "print(id(numbers))\n",
    "numbers += numbers # == extend\n",
    "print(id(numbers))\n",
    "numbers"
   ]
  },
  {
   "cell_type": "markdown",
   "id": "e9d430b7",
   "metadata": {},
   "source": [
    "## 1.4 인덱싱과 요소 개수\n",
    "    - 리스트객체[인덱스] : 인덱스를 이용한 접근 : IndexError 주의\n",
    "    - 리스트객체.index(찾을데이터) = 찾을 데이터가 리스트 객체에 있다면 index를 반환, 없으면 IndexError\n",
    "    - 리스트객체.count(찾을데이터) = 찾을 데이터가 리스트 객체에 몇 번 있는 지 체크\n",
    "    - 리스트객체.index(찾을데이터, position = 몇번째 이후(기본은 0) = 몇번째 이후 처음 나오는 객체 인덱스 반환 : 이것도 없으면 IndexError"
   ]
  },
  {
   "cell_type": "code",
   "execution_count": 435,
   "id": "63a5f4e6",
   "metadata": {},
   "outputs": [
    {
     "name": "stdout",
     "output_type": "stream",
     "text": [
      "0\n"
     ]
    }
   ],
   "source": [
    "numbers = [1,2,3,[1,2,3,],1,2,3,]\n",
    "print(numbers.count(9))"
   ]
  },
  {
   "cell_type": "code",
   "execution_count": 454,
   "id": "6845aa2b",
   "metadata": {},
   "outputs": [
    {
     "name": "stdout",
     "output_type": "stream",
     "text": [
      "Fuck\n"
     ]
    }
   ],
   "source": [
    "numbers.count(2) # 2\n",
    "I = numbers.index(2)\n",
    "numbers.index(2, I+1) # 2를 찾을건데, 2개 있는 것중에 뒤에 있는 것의 index가 필요해.\n",
    "if 9 in numbers :\n",
    "    K = numbers.index(9)\n",
    "else : \n",
    "    K = 'Fuck'\n",
    "print(K)"
   ]
  },
  {
   "cell_type": "code",
   "execution_count": 455,
   "id": "93b4c271",
   "metadata": {},
   "outputs": [
    {
     "name": "stdout",
     "output_type": "stream",
     "text": [
      "[[1 2]\n",
      " [3 4]\n",
      " [5 6]]\n"
     ]
    }
   ],
   "source": [
    "import numpy as np\n",
    "a = [[1,2],[3,4],[5,6]]\n",
    "A = np.array(a)\n",
    "print(A)"
   ]
  },
  {
   "cell_type": "code",
   "execution_count": 456,
   "id": "e985ad3a",
   "metadata": {},
   "outputs": [
    {
     "data": {
      "text/plain": [
       "True"
      ]
     },
     "execution_count": 456,
     "metadata": {},
     "output_type": "execute_result"
    }
   ],
   "source": [
    "2 in A"
   ]
  },
  {
   "cell_type": "code",
   "execution_count": 468,
   "id": "489f4974",
   "metadata": {},
   "outputs": [
    {
     "name": "stdout",
     "output_type": "stream",
     "text": [
      "[]\n",
      "-1\n"
     ]
    }
   ],
   "source": [
    "numbers = [1,2,3,[1,2,3,],1,2,3,]\n",
    "\n",
    "def find_all_index(list_,find_value) :\n",
    "    ''' \n",
    "    찾고자 하는 find_value의 값이 어떤 index에 있는 지 모두 체크하며 \n",
    "    만일 아무 값도 없다면 빈 리스트([]) 반환\n",
    "    '''\n",
    "    idx_list = []\n",
    "    for idx,val in enumerate(list_) :\n",
    "        if find_value == val :\n",
    "            idx_list.append(idx)\n",
    "    return idx_list if idx_list else []\n",
    "\n",
    "\n",
    "\n",
    "def safe_index(list_, target) :\n",
    "    '''\n",
    "    target 변수가 list_ 속에 있는 지 먼저 체크하여 오류를 사전에 예방하고\n",
    "    존재한다면 첫 인덱스를 반환, 존재하지 않는 경우 -1 반환\n",
    "    '''\n",
    "    if target in list_ :\n",
    "        return list_.index(target)\n",
    "    else :\n",
    "        return -1\n",
    "     \n",
    "print(find_all_index(numbers, 9))\n",
    "print(safe_index(numbers, 9))"
   ]
  },
  {
   "cell_type": "markdown",
   "id": "092cf10a",
   "metadata": {},
   "source": [
    "## 1.5 원하는 요소 추출\n",
    "1. 리스트 슬라이싱 : 리스트에서 원하는 인덱스의 데이터를 추출(인덱스의 범위를 벗어나도 오류가 발생하지 않음)\n",
    "    - [from:stop:step] from부터 step-1 까지 step씩 증가하는 index의 값을 추출\n",
    "    - from 생략 시 0, stop 생략 시 끝까지, step 생략 시 1. 모두 생략도 가능(굳이?)\n",
    "    - 음수 인덱스 가능(역순으로 계산)\n",
    "\n",
    "2. <font color = 'red'>리스트 컴프리핸션</font> : 리스트에서 원하는 데이터를 추출 "
   ]
  },
  {
   "cell_type": "code",
   "execution_count": 477,
   "id": "9d42b2a7",
   "metadata": {},
   "outputs": [
    {
     "name": "stdout",
     "output_type": "stream",
     "text": [
      "[1, 5, 10, 13]\n",
      "[20, 13, 12, 10, 9, 5, 3, 1]\n"
     ]
    }
   ],
   "source": [
    "numbers = [1, 3, 5, 9, 10, 12, 13, 20] # 8개\n",
    "# 짝수 번째 인덱스 값 출력\n",
    "even_idx_num = numbers[::2]\n",
    "# 거꾸로 출력\n",
    "reverse_num = numbers[::-1]\n",
    "print(even_idx_num)\n",
    "print(reverse_num)"
   ]
  },
  {
   "cell_type": "code",
   "execution_count": 492,
   "id": "2d95da4e",
   "metadata": {
    "collapsed": true
   },
   "outputs": [
    {
     "name": "stdout",
     "output_type": "stream",
     "text": [
      "연습문제 **************************************************\n",
      "# 모든 수를 가져와라\n",
      "1안\n",
      "[1, 3, 5, 9, 10, 12, 13, 20]\n",
      "-------------------------------------------------------\n",
      "2안\n",
      "[1, 3, 5, 9, 10, 12, 13, 20]\n",
      "-------------------------------------------------------\n",
      "# 짝수를 가져와라\n",
      "1안\n",
      "[10, 12, 20]\n",
      "-------------------------------------------------------\n",
      "2안\n",
      "[10, 12, 20]\n"
     ]
    }
   ],
   "source": [
    "print('연습문제', '*'*50)\n",
    "numbers = [1, 3, 5, 9, 10, 12, 13, 20]\n",
    "print('# 모든 수를 가져와라')\n",
    "\n",
    "print('1안')\n",
    "answer = []\n",
    "for i in numbers :\n",
    "    answer.append(i)\n",
    "print(answer)\n",
    "\n",
    "print('-'*55)\n",
    "\n",
    "print('2안')\n",
    "answer_2 = [x for x in numbers]\n",
    "print(answer_2)\n",
    "\n",
    "print('-'*55)\n",
    "\n",
    "print('# 짝수를 가져와라')\n",
    "\n",
    "print('1안')\n",
    "answer = []\n",
    "for i in numbers :\n",
    "    if i % 2 == 0 :\n",
    "        answer.append(i)\n",
    "print(answer)\n",
    "\n",
    "print('-'*55)\n",
    "\n",
    "print('2안')\n",
    "even_num = [x for x in numbers if x%2 == 0]\n",
    "print(even_num)\n",
    "\n",
    "print('-'*55)\n",
    "\n",
    "# 2안 : 리스트컴프리핸션 : 불필요한 메모리를 줄여 효율성을 올릴 수 있음"
   ]
  },
  {
   "cell_type": "code",
   "execution_count": 502,
   "id": "9b3d7542",
   "metadata": {},
   "outputs": [
    {
     "name": "stdout",
     "output_type": "stream",
     "text": [
      "연습문제 1 **************************************************\n",
      "# 10 이상의 숫자들만 추출하시오\n",
      "\n",
      "[10, 12, 13, 20]\n"
     ]
    }
   ],
   "source": [
    "print('연습문제 1', '*'*50)\n",
    "numbers = [1, 3, 5, 9, 10, 12, 13, 20]\n",
    "print('# 10 이상의 숫자들만 추출하시오', end='\\n\\n')\n",
    "print([x for x in numbers if x >= 10])"
   ]
  },
  {
   "cell_type": "code",
   "execution_count": 499,
   "id": "f538b580",
   "metadata": {},
   "outputs": [
    {
     "name": "stdout",
     "output_type": "stream",
     "text": [
      "연습문제 2 **************************************************\n",
      "# fruits에서 5글자가 넘는 과일만 추출하시오.\n",
      "\n",
      "['orange']\n"
     ]
    }
   ],
   "source": [
    "print('연습문제 2', '*'*50)\n",
    "fruits = ['orange', 'apple', 'mango', 'kiwi']\n",
    "print('# fruits에서 5글자가 넘는 과일만 추출하시오.', end='\\n\\n')\n",
    "print([x for x in fruits if len(x) > 5])"
   ]
  },
  {
   "cell_type": "code",
   "execution_count": 501,
   "id": "531f7c6d",
   "metadata": {},
   "outputs": [
    {
     "name": "stdout",
     "output_type": "stream",
     "text": [
      "연습문제 3 **************************************************\n",
      "# 3 이상의 요소들의 제곱수를 추출하시오.\n",
      "\n",
      "[9, 16, 25]\n"
     ]
    }
   ],
   "source": [
    "print('연습문제 3', '*'*50)\n",
    "L = [1,2,3,4,5]\n",
    "print('# 3 이상의 요소들의 제곱수를 추출하시오.', end='\\n\\n')\n",
    "print([data**2 for data in L if x >= 3])"
   ]
  },
  {
   "cell_type": "markdown",
   "id": "b61465f8",
   "metadata": {},
   "source": [
    "## 1.6 요소 수정하기\n"
   ]
  },
  {
   "cell_type": "code",
   "execution_count": 531,
   "id": "22bf6764",
   "metadata": {},
   "outputs": [
    {
     "data": {
      "text/plain": [
       "[0, 1, 222, 3, 4, 5, 6, 7, 8, 9]"
      ]
     },
     "execution_count": 531,
     "metadata": {},
     "output_type": "execute_result"
    }
   ],
   "source": [
    "numbers = [0,1,2,3,4,5,6,7,8,9] # range(10)\n",
    "# 인덱스를 이용해서 요소 수정\n",
    "numbers[2] = 222\n",
    "numbers"
   ]
  },
  {
   "cell_type": "code",
   "execution_count": 532,
   "id": "f3d6c339",
   "metadata": {},
   "outputs": [
    {
     "name": "stdout",
     "output_type": "stream",
     "text": [
      "[0, 'a', 'b', 'c', 'ㅋ', 'ㅎ', 4, 5, 6, 7, 8, 'a', 'b', 'c', 'ㅋ', 'ㅎ', 9]\n"
     ]
    }
   ],
   "source": [
    "# 슬라이싱을 이용해서 요소 수정(step 부분이 미포함 : 부분 리스트가 통째로 수정)\n",
    "numbers[1:4] = ['a', 'b', 'c', 'ㅋ', 'ㅎ'] # 할당 공간을 바꾸고 남은 건 shift 해서 밀어넣어라 \n",
    "numbers\n",
    "numbers[-1:-1] = ['a', 'b', 'c', 'ㅋ', 'ㅎ'] # 할당 공간을 바꾸고 남은 건 shift 해서 밀어넣어라\n",
    "print(numbers)"
   ]
  },
  {
   "cell_type": "code",
   "execution_count": 553,
   "id": "212288ef",
   "metadata": {},
   "outputs": [
    {
     "name": "stdout",
     "output_type": "stream",
     "text": [
      "[99, 1, 99, 3, 99, 5, 99, 7, 99, 9]\n",
      "[1, 99, 3, 99, 5, 99, 7, 99, 9]\n"
     ]
    }
   ],
   "source": [
    "# 슬라이싱을 이용해서 요소 수정(step 부분 포함 : 요소 개수가 맞아야 가능하다)\n",
    "numbers = [0,1,2,3,4,5,6,7,8,9,]\n",
    "numbers[::2] = [99]*len(numbers[::2])\n",
    "print(numbers)\n",
    "numbers.remove(99)\n",
    "print(numbers)"
   ]
  },
  {
   "cell_type": "markdown",
   "id": "4712f643",
   "metadata": {},
   "source": [
    "## 1.7 요소 삭제하기\n",
    "- pop() : 가장 마지막 인덱스 요소가 반환되고 리스트에서 삭제\n",
    "- pop(index) : index의 요소가 반환되고 리스트에서 삭제 // 인덱스가 리스트 내에서 모두 수정되며 정말 많은 시공간이 소요\n",
    "- remove(value) : 리스트 속에서 value를 찾아서 제일 앞의 요소를 삭제\n",
    "- del 변수[idx] : idx번째 요소가 삭제"
   ]
  },
  {
   "cell_type": "code",
   "execution_count": 565,
   "id": "858a2f6a",
   "metadata": {},
   "outputs": [
    {
     "name": "stdout",
     "output_type": "stream",
     "text": [
      "[2, 3, 4, 5]\n",
      "[2, 4, 5]\n",
      "5\n",
      "[2, 4]\n",
      "2\n",
      "[4]\n",
      " [1, 2, 3, 4, 5], 5 , [1, 2, 3, 4]\n"
     ]
    }
   ],
   "source": [
    "numbers = [ 1, 2, 3, 4, 5]\n",
    "numbers.remove(1)\n",
    "print(numbers)\n",
    "del numbers[1]\n",
    "print(numbers)\n",
    "print(numbers.pop())\n",
    "print(numbers)\n",
    "print(numbers.pop(0))\n",
    "print(numbers)\n",
    "numbers = [1,2,3,4,5]\n",
    "print(f' {numbers}, {numbers.pop()} , {numbers}')"
   ]
  },
  {
   "cell_type": "code",
   "execution_count": 567,
   "id": "9fa35c59",
   "metadata": {},
   "outputs": [
    {
     "name": "stdout",
     "output_type": "stream",
     "text": [
      "[1, 2, 4, 5]\n"
     ]
    }
   ],
   "source": [
    "numbers = [1,2,3,4,5]\n",
    "numbers.remove(3) # 반환 값이 없고, 해당 데이터만 삭제. 해당 데이터가 없으면 오류\n",
    "print(numbers)"
   ]
  },
  {
   "cell_type": "code",
   "execution_count": 570,
   "id": "9b0f545a",
   "metadata": {
    "scrolled": true
   },
   "outputs": [
    {
     "name": "stdout",
     "output_type": "stream",
     "text": [
      "55\n",
      "값 없다\n"
     ]
    }
   ],
   "source": [
    "A = int(input(''))\n",
    "\n",
    "if 9 in numbers :\n",
    "    numbers.remove(A)\n",
    "else :\n",
    "    print('값 없다')"
   ]
  },
  {
   "cell_type": "code",
   "execution_count": 574,
   "id": "7bd01980",
   "metadata": {},
   "outputs": [
    {
     "name": "stdout",
     "output_type": "stream",
     "text": [
      "('완료', [1, 2, 3, 4, 5, 6, 8, 9, 10])\n"
     ]
    }
   ],
   "source": [
    "def safe_remove(lst, target) :\n",
    "    if target in lst :\n",
    "        lst.remove(target)\n",
    "        return'완료', lst\n",
    "    else :\n",
    "        return '해당 없음', lst\n",
    "numbers = [1,2,3,4,5,6,7,8,9,10]\n",
    "print(safe_remove(numbers,7))"
   ]
  },
  {
   "cell_type": "code",
   "execution_count": null,
   "id": "08c31ad3",
   "metadata": {},
   "outputs": [],
   "source": []
  }
 ],
 "metadata": {
  "kernelspec": {
   "display_name": "Python 3 (ipykernel)",
   "language": "python",
   "name": "python3"
  },
  "language_info": {
   "codemirror_mode": {
    "name": "ipython",
    "version": 3
   },
   "file_extension": ".py",
   "mimetype": "text/x-python",
   "name": "python",
   "nbconvert_exporter": "python",
   "pygments_lexer": "ipython3",
   "version": "3.10.9"
  },
  "toc": {
   "base_numbering": 1,
   "nav_menu": {},
   "number_sections": false,
   "sideBar": true,
   "skip_h1_title": false,
   "title_cell": "Table of Contents",
   "title_sidebar": "Contents",
   "toc_cell": false,
   "toc_position": {
    "height": "calc(100% - 180px)",
    "left": "10px",
    "top": "150px",
    "width": "206px"
   },
   "toc_section_display": true,
   "toc_window_display": true
  }
 },
 "nbformat": 4,
 "nbformat_minor": 5
}
