{
 "cells": [
  {
   "cell_type": "code",
   "execution_count": 1,
   "id": "2a692d5a",
   "metadata": {},
   "outputs": [
    {
     "data": {
      "text/html": [
       "\n",
       "<style>\n",
       "div.container{width:86% !important;}\n",
       "div.cell.code_cell.rendered{width:100%;}\n",
       "div.CodeMirror {font-family:Consolas; font-size:12pt;}\n",
       "div.output {font-size:12pt; font-weight:bold;}\n",
       "div.input {font-family:Consolas; fo\n",
       "nt-size:12pt;}\n",
       "div.prompt {min-width:70px;}\n",
       "div#toc-wrapper{padding-top:130px;}\n",
       "div.text_cell_render ul li{font-size:12pt;padding:5px;}\n",
       "table.dataframe{font-size:15px;}\n",
       "</style>\n"
      ],
      "text/plain": [
       "<IPython.core.display.HTML object>"
      ]
     },
     "metadata": {},
     "output_type": "display_data"
    }
   ],
   "source": [
    "from IPython.display import display, HTML\n",
    "display(HTML(\"\"\"\n",
    "<style>\n",
    "div.container{width:86% !important;}\n",
    "div.cell.code_cell.rendered{width:100%;}\n",
    "div.CodeMirror {font-family:Consolas; font-size:12pt;}\n",
    "div.output {font-size:12pt; font-weight:bold;}\n",
    "div.input {font-family:Consolas; fo\n",
    "nt-size:12pt;}\n",
    "div.prompt {min-width:70px;}\n",
    "div#toc-wrapper{padding-top:130px;}\n",
    "div.text_cell_render ul li{font-size:12pt;padding:5px;}\n",
    "table.dataframe{font-size:15px;}\n",
    "</style>\n",
    "\"\"\"))"
   ]
  },
  {
   "cell_type": "markdown",
   "id": "4db22784",
   "metadata": {},
   "source": [
    "<font size = \"5\" color = 'red' > ch10 n차원 배열 다루기 </font>`"
   ]
  },
  {
   "cell_type": "markdown",
   "id": "e1c78bfb",
   "metadata": {},
   "source": [
    "# 4절 복사와 뷰"
   ]
  },
  {
   "cell_type": "markdown",
   "id": "e49eacb8",
   "metadata": {},
   "source": [
    "## 4.1 할당"
   ]
  },
  {
   "cell_type": "code",
   "execution_count": 3,
   "id": "cdf9b69c",
   "metadata": {},
   "outputs": [],
   "source": [
    "import numpy as np"
   ]
  },
  {
   "cell_type": "code",
   "execution_count": 17,
   "id": "146d7f24",
   "metadata": {},
   "outputs": [
    {
     "data": {
      "text/plain": [
       "array([[ 0,  1,  2,  3,  4,  5],\n",
       "       [ 6,  7,  8,  9, 10, 11]])"
      ]
     },
     "metadata": {},
     "output_type": "display_data"
    },
    {
     "data": {
      "text/plain": [
       "array([0, 1, 2, 3, 4, 5])"
      ]
     },
     "metadata": {},
     "output_type": "display_data"
    }
   ],
   "source": [
    "c = np.arange(12).reshape(2,-1)\n",
    "display(c)\n",
    "a = np.arange(6)\n",
    "display(a)"
   ]
  },
  {
   "cell_type": "code",
   "execution_count": 22,
   "id": "e599bae3",
   "metadata": {},
   "outputs": [
    {
     "data": {
      "text/plain": [
       "(2581422601776, 2581422601776)"
      ]
     },
     "execution_count": 22,
     "metadata": {},
     "output_type": "execute_result"
    }
   ],
   "source": [
    "b = a\n",
    "id(b), id(a), "
   ]
  },
  {
   "cell_type": "code",
   "execution_count": 23,
   "id": "fe67f6c0",
   "metadata": {},
   "outputs": [
    {
     "data": {
      "text/plain": [
       "True"
      ]
     },
     "execution_count": 23,
     "metadata": {},
     "output_type": "execute_result"
    }
   ],
   "source": [
    "# a와 b가 같은 객체인가\n",
    "a is b"
   ]
  },
  {
   "cell_type": "code",
   "execution_count": 26,
   "id": "0a4bbf1e",
   "metadata": {},
   "outputs": [
    {
     "data": {
      "text/plain": [
       "array([[0, 1, 2],\n",
       "       [3, 4, 5]])"
      ]
     },
     "execution_count": 26,
     "metadata": {},
     "output_type": "execute_result"
    }
   ],
   "source": [
    "b.shape = (2,3)\n",
    "a"
   ]
  },
  {
   "cell_type": "markdown",
   "id": "74f5770c",
   "metadata": {},
   "source": [
    "## 4.2 뷰(view)\n",
    "- 슬라이싱 할 경우 view 생성"
   ]
  },
  {
   "cell_type": "code",
   "execution_count": 27,
   "id": "c8b1b0d2",
   "metadata": {},
   "outputs": [
    {
     "data": {
      "text/plain": [
       "array([[ 0,  1,  2,  3,  4,  5],\n",
       "       [ 6,  7,  8,  9, 10, 11]])"
      ]
     },
     "metadata": {},
     "output_type": "display_data"
    },
    {
     "data": {
      "text/plain": [
       "array([0, 1, 2, 3, 4, 5])"
      ]
     },
     "metadata": {},
     "output_type": "display_data"
    }
   ],
   "source": [
    "c = np.arange(12).reshape(2,-1)\n",
    "display(c)\n",
    "a = np.arange(6)\n",
    "display(a)"
   ]
  },
  {
   "cell_type": "code",
   "execution_count": 37,
   "id": "b07a4870",
   "metadata": {},
   "outputs": [
    {
     "data": {
      "text/plain": [
       "(False, 2581422600240, 2581422602064)"
      ]
     },
     "execution_count": 37,
     "metadata": {},
     "output_type": "execute_result"
    }
   ],
   "source": [
    "d = c.view() # d는 c.view()를 통해 c가 가르키는 주소를 볼 수 있다 c의 view를 생성\n",
    "d is c, id(c), id(d)"
   ]
  },
  {
   "cell_type": "code",
   "execution_count": 38,
   "id": "1a39559d",
   "metadata": {},
   "outputs": [
    {
     "data": {
      "text/plain": [
       "array([[ True,  True,  True,  True,  True,  True],\n",
       "       [ True,  True,  True,  True,  True,  True]])"
      ]
     },
     "execution_count": 38,
     "metadata": {},
     "output_type": "execute_result"
    }
   ],
   "source": [
    "d == c # c와 d의 내용이 모두 같음"
   ]
  },
  {
   "cell_type": "code",
   "execution_count": 39,
   "id": "19c193a0",
   "metadata": {},
   "outputs": [
    {
     "data": {
      "text/plain": [
       "(2, 6)"
      ]
     },
     "execution_count": 39,
     "metadata": {},
     "output_type": "execute_result"
    }
   ],
   "source": [
    "d.shape"
   ]
  },
  {
   "cell_type": "code",
   "execution_count": 44,
   "id": "80d2c32e",
   "metadata": {},
   "outputs": [
    {
     "data": {
      "text/plain": [
       "(array([[ 0,  1,  2,  3],\n",
       "        [ 4,  5,  6,  7],\n",
       "        [ 8,  9, 10, 11]]),\n",
       " array([[ 0,  1,  2,  3,  4,  5],\n",
       "        [ 6,  7,  8,  9, 10, 11]]))"
      ]
     },
     "execution_count": 44,
     "metadata": {},
     "output_type": "execute_result"
    }
   ],
   "source": [
    "d.shape = (3,4)\n",
    "d, c"
   ]
  },
  {
   "cell_type": "code",
   "execution_count": 45,
   "id": "445c0a65",
   "metadata": {},
   "outputs": [
    {
     "data": {
      "text/plain": [
       "array([[-99,   1, -99,   3],\n",
       "       [  4,   5,   6,   7],\n",
       "       [  8,   9,  10,  11]])"
      ]
     },
     "execution_count": 45,
     "metadata": {},
     "output_type": "execute_result"
    }
   ],
   "source": [
    "d[0,::2] = - 99\n",
    "d "
   ]
  },
  {
   "cell_type": "code",
   "execution_count": 46,
   "id": "e605d5f2",
   "metadata": {},
   "outputs": [
    {
     "data": {
      "text/plain": [
       "array([[-99,   1, -99,   3,   4,   5],\n",
       "       [  6,   7,   8,   9,  10,  11]])"
      ]
     },
     "execution_count": 46,
     "metadata": {},
     "output_type": "execute_result"
    }
   ],
   "source": [
    "c"
   ]
  },
  {
   "cell_type": "markdown",
   "id": "010e04ec",
   "metadata": {},
   "source": [
    "view()는 본 구조는 사용하지 않고 값만 사용한다 =>얕은 복사의 일종 : 슬라이싱도 뷰와 동일하게 작동한다\n",
    "\n",
    " 데이터를 복사하지 않고 **같은 메모리(buffer)** 를 공유하면서 다른 형태나 타입으로 배열을 볼 수 있게 해주는 기능\n",
    "\n",
    "즉, \"같은 데이터를 다른 시선으로 본다\""
   ]
  },
  {
   "cell_type": "code",
   "execution_count": 47,
   "id": "e23069c6",
   "metadata": {},
   "outputs": [
    {
     "data": {
      "text/plain": [
       "array([[ 0,  1,  2,  3,  4,  5],\n",
       "       [ 6,  7,  8,  9, 10, 11]])"
      ]
     },
     "execution_count": 47,
     "metadata": {},
     "output_type": "execute_result"
    }
   ],
   "source": [
    "# 슬라이싱이 될 때 자동 뷰 반환\n",
    "c = np.arange(12).reshape(2,-1)\n",
    "c"
   ]
  },
  {
   "cell_type": "code",
   "execution_count": 48,
   "id": "be9fa55f",
   "metadata": {},
   "outputs": [
    {
     "data": {
      "text/plain": [
       "array([[ 0,  1,  2,  3,  4],\n",
       "       [ 6,  7,  8,  9, 10]])"
      ]
     },
     "execution_count": 48,
     "metadata": {},
     "output_type": "execute_result"
    }
   ],
   "source": [
    "d = c[:,:-1]\n",
    "d"
   ]
  },
  {
   "cell_type": "code",
   "execution_count": 50,
   "id": "5bc5f186",
   "metadata": {},
   "outputs": [
    {
     "data": {
      "text/plain": [
       "array([[ 0,  1,  2,  3, 99],\n",
       "       [ 6,  7,  8,  9, 99]])"
      ]
     },
     "execution_count": 50,
     "metadata": {},
     "output_type": "execute_result"
    }
   ],
   "source": [
    "d[..., -1] = 99\n",
    "d"
   ]
  },
  {
   "cell_type": "code",
   "execution_count": 51,
   "id": "d03e3103",
   "metadata": {},
   "outputs": [
    {
     "data": {
      "text/plain": [
       "array([[ 0,  1,  2,  3, 99,  5],\n",
       "       [ 6,  7,  8,  9, 99, 11]])"
      ]
     },
     "execution_count": 51,
     "metadata": {},
     "output_type": "execute_result"
    }
   ],
   "source": [
    "c"
   ]
  },
  {
   "cell_type": "markdown",
   "id": "68e79a0d",
   "metadata": {},
   "source": [
    "## 4.3 깊은 복사"
   ]
  },
  {
   "cell_type": "code",
   "execution_count": 52,
   "id": "81491016",
   "metadata": {},
   "outputs": [
    {
     "data": {
      "text/plain": [
       "array([[ 0,  1,  2,  3,  4,  5],\n",
       "       [ 6,  7,  8,  9, 10, 11]])"
      ]
     },
     "execution_count": 52,
     "metadata": {},
     "output_type": "execute_result"
    }
   ],
   "source": [
    "c = np.arange(12).reshape(2,-1)\n",
    "c"
   ]
  },
  {
   "cell_type": "code",
   "execution_count": 54,
   "id": "b277e760",
   "metadata": {},
   "outputs": [],
   "source": [
    "d = c[:, :-1].copy()"
   ]
  },
  {
   "cell_type": "code",
   "execution_count": 61,
   "id": "fe63fedf",
   "metadata": {},
   "outputs": [
    {
     "data": {
      "text/plain": [
       "(array([[ 0,  1,  2,  3, 99],\n",
       "        [ 6,  7,  8,  9, 99]]),\n",
       " False)"
      ]
     },
     "execution_count": 61,
     "metadata": {},
     "output_type": "execute_result"
    }
   ],
   "source": [
    "d, c is d # False"
   ]
  },
  {
   "cell_type": "code",
   "execution_count": 58,
   "id": "2c845f22",
   "metadata": {},
   "outputs": [
    {
     "data": {
      "text/plain": [
       "array([[ 0,  1,  2,  3, 99],\n",
       "       [ 6,  7,  8,  9, 99]])"
      ]
     },
     "execution_count": 58,
     "metadata": {},
     "output_type": "execute_result"
    }
   ],
   "source": [
    "d[:,-1] = 99\n",
    "d"
   ]
  },
  {
   "cell_type": "code",
   "execution_count": 59,
   "id": "24490244",
   "metadata": {},
   "outputs": [
    {
     "data": {
      "text/plain": [
       "array([[ 0,  1,  2,  3,  4,  5],\n",
       "       [ 6,  7,  8,  9, 10, 11]])"
      ]
     },
     "execution_count": 59,
     "metadata": {},
     "output_type": "execute_result"
    }
   ],
   "source": [
    "c"
   ]
  },
  {
   "cell_type": "markdown",
   "id": "d6353479",
   "metadata": {},
   "source": [
    "# 5절 고급인덱싱"
   ]
  },
  {
   "cell_type": "markdown",
   "id": "7dd4f951",
   "metadata": {},
   "source": [
    "## 5.1 인덱스 배열로 인덱싱"
   ]
  },
  {
   "cell_type": "code",
   "execution_count": 62,
   "id": "d43f96da",
   "metadata": {},
   "outputs": [
    {
     "data": {
      "text/plain": [
       "array([  0,   1,   4,   9,  16,  25,  36,  49,  64,  81, 100, 121])"
      ]
     },
     "execution_count": 62,
     "metadata": {},
     "output_type": "execute_result"
    }
   ],
   "source": [
    "a = np.arange(12)**2\n",
    "a"
   ]
  },
  {
   "cell_type": "code",
   "execution_count": 66,
   "id": "6174254e",
   "metadata": {},
   "outputs": [
    {
     "data": {
      "text/plain": [
       "array([ 0,  0,  1,  1, 25])"
      ]
     },
     "execution_count": 66,
     "metadata": {},
     "output_type": "execute_result"
    }
   ],
   "source": [
    "a[[0,0,1, 1,5]] # 불규칙적인 값들을 가져올 수 도 있음 -> 인덱스로 인덱스배열이 가능하다"
   ]
  },
  {
   "cell_type": "code",
   "execution_count": 72,
   "id": "d6dc91b7",
   "metadata": {},
   "outputs": [
    {
     "data": {
      "text/plain": [
       "array([ 0,  0,  1, 25])"
      ]
     },
     "execution_count": 72,
     "metadata": {},
     "output_type": "execute_result"
    }
   ],
   "source": [
    "# 인덱싱 하기 위한 값을 배열로 만듦\n",
    "i = np.array([0,0,1,5])\n",
    "a[i]"
   ]
  },
  {
   "cell_type": "code",
   "execution_count": 75,
   "id": "e0621dac",
   "metadata": {},
   "outputs": [
    {
     "data": {
      "text/plain": [
       "array([[ 0,  0],\n",
       "       [ 1, 25]])"
      ]
     },
     "execution_count": 75,
     "metadata": {},
     "output_type": "execute_result"
    }
   ],
   "source": [
    "# 인덱싱 하기 위한 값을 2차원 배열로 만듦\n",
    "j = np.array([[0, 0],\n",
    "               [1, 5]])\n",
    "a[j]"
   ]
  },
  {
   "cell_type": "code",
   "execution_count": 99,
   "id": "1cbb75c1",
   "metadata": {},
   "outputs": [
    {
     "name": "stdout",
     "output_type": "stream",
     "text": [
      "(5, 3)\n"
     ]
    }
   ],
   "source": [
    "                #    R G B\n",
    "palette = np.array([[0,0,0,], # black\n",
    "                   [255,0,0,], # Red\n",
    "                   [0,255,0,], # Green\n",
    "                   [0,0,255,], # Blue\n",
    "                   [255,255,255]]) # whilte\n",
    "print(palette.shape)"
   ]
  },
  {
   "cell_type": "code",
   "execution_count": 100,
   "id": "fe92df60",
   "metadata": {},
   "outputs": [
    {
     "name": "stdout",
     "output_type": "stream",
     "text": [
      "(10, 10)\n"
     ]
    }
   ],
   "source": [
    "image_index = np.array([[4,4,4,0,0,0,0,4,4,4,],\n",
    "                        [4,0,0,4,4,4,4,0,0,4,],\n",
    "                        [0,0,4,4,4,4,4,4,0,0,],\n",
    "                        [0,4,4,1,4,4,3,4,4,0,],\n",
    "                        [0,4,4,1,4,4,3,4,4,0,],\n",
    "                        [0,4,4,4,4,4,4,4,4,0,],\n",
    "                        [0,4,4,2,4,4,2,4,4,0,],\n",
    "                        [4,0,4,4,2,2,4,4,0,4,],\n",
    "                        [4,4,0,4,4,4,4,0,4,4,],\n",
    "                        [4,4,4,0,0,0,0,4,4,4,],])\n",
    "print(image_index.shape)\n",
    "img_idx = np.array([[4,0],\n",
    "                   [0,4]])"
   ]
  },
  {
   "cell_type": "code",
   "execution_count": 101,
   "id": "1f1991fc",
   "metadata": {},
   "outputs": [
    {
     "name": "stdout",
     "output_type": "stream",
     "text": [
      "(10, 10, 3)\n"
     ]
    }
   ],
   "source": [
    "image_data = palette[image_index]\n",
    "print(image_data.shape) #(10, 10, 3) 가로 10 세로 10 색깔\n",
    "# palette 배열의 image_index의 배열 속 인덱스 수를 반환해서 image_index형태로 만들어라\n",
    "# img_dt = palette[img_idx]"
   ]
  },
  {
   "cell_type": "code",
   "execution_count": 108,
   "id": "3000d0d3",
   "metadata": {},
   "outputs": [
    {
     "data": {
      "text/plain": [
       "<function matplotlib.pyplot.show(close=None, block=None)>"
      ]
     },
     "execution_count": 108,
     "metadata": {},
     "output_type": "execute_result"
    },
    {
     "data": {
      "image/png": "[encoded data removed]",
      "text/plain": [
       "<Figure size 200x200 with 1 Axes>"
      ]
     },
     "metadata": {},
     "output_type": "display_data"
    }
   ],
   "source": [
    "from matplotlib import pyplot as plt\n",
    "import matplotlib.pyplot as plt\n",
    "plt.figure(figsize = (2,2))\n",
    "plt.imshow(image_data)\n",
    "plt.show\n",
    "# plt.imshow(img_dt, interpolation='nearest')\n",
    "# plt.show"
   ]
  },
  {
   "cell_type": "code",
   "execution_count": 103,
   "id": "df15f01e",
   "metadata": {},
   "outputs": [
    {
     "data": {
      "text/plain": [
       "3"
      ]
     },
     "execution_count": 103,
     "metadata": {},
     "output_type": "execute_result"
    }
   ],
   "source": [
    "image_data.ndim"
   ]
  },
  {
   "cell_type": "markdown",
   "id": "2af54d5b",
   "metadata": {},
   "source": [
    "## 5.2 논리 배열을 이용한 인덱싱"
   ]
  },
  {
   "cell_type": "code",
   "execution_count": 116,
   "id": "e1063f9c",
   "metadata": {},
   "outputs": [],
   "source": [
    "a = np.array([0,1,10,11,12,13,14,15,99])"
   ]
  },
  {
   "cell_type": "code",
   "execution_count": 129,
   "id": "9249602b",
   "metadata": {},
   "outputs": [
    {
     "data": {
      "text/plain": [
       "array([ True, False,  True, False,  True, False,  True, False, False])"
      ]
     },
     "execution_count": 129,
     "metadata": {},
     "output_type": "execute_result"
    }
   ],
   "source": [
    "a%2 == 0 # 논리 배열"
   ]
  },
  {
   "cell_type": "code",
   "execution_count": 130,
   "id": "30bed9b5",
   "metadata": {},
   "outputs": [
    {
     "data": {
      "text/plain": [
       "array([ 0, 10, 12, 14])"
      ]
     },
     "execution_count": 130,
     "metadata": {},
     "output_type": "execute_result"
    }
   ],
   "source": [
    "a[[ True, False,  True, False,  True, False,  True, False, False]] # a[a%2 == 0]"
   ]
  },
  {
   "cell_type": "code",
   "execution_count": 131,
   "id": "095ad48a",
   "metadata": {},
   "outputs": [
    {
     "data": {
      "text/plain": [
       "array([ 0, 10, 12, 14])"
      ]
     },
     "execution_count": 131,
     "metadata": {},
     "output_type": "execute_result"
    }
   ],
   "source": [
    "a[a%2 == 0] # 논리 배열을 이용한 인덱싱의 경우 True 요소만 추출"
   ]
  },
  {
   "cell_type": "code",
   "execution_count": 132,
   "id": "f7a4cbe2",
   "metadata": {},
   "outputs": [
    {
     "data": {
      "text/plain": [
       "array([13, 14, 15, 99])"
      ]
     },
     "execution_count": 132,
     "metadata": {},
     "output_type": "execute_result"
    }
   ],
   "source": [
    "# a에서 12보다 큰 값만 추출\n",
    "a[a>12]"
   ]
  },
  {
   "cell_type": "markdown",
   "id": "4d8a4a81",
   "metadata": {},
   "source": [
    "# 6절 선형대수\n",
    "- 2차원 넘파이 배열을 행렬\n",
    "    * 행렬 곱 : @, dot() 함수, 단위행렬(np.eye(n)), 역행렬(np.linalg.inv(arr))\n",
    "    * 연립방정식 해 풀기 np.linalg.solve(a,b)\n",
    "    * 대각 행렬 bp.diag(x)\n",
    "    * 대각 합 np.trace(x)\n",
    "    \n",
    "- 만약 정방행렬이 아닌 행렬의 역행렬을 활용해야 한다면,\n",
    "    - ex) 3x2 행렬 A를 단위행렬로 만들려면\n",
    "    - ex) np.linalg.inv(A) @ (A.T @ A) = np.linalg.inv(A) @ (A.T @ K)"
   ]
  },
  {
   "cell_type": "code",
   "execution_count": 138,
   "id": "46b64e5b",
   "metadata": {},
   "outputs": [],
   "source": [
    "k = np.array([[2,1],\n",
    "             [4,1]])\n",
    "ans = np.array([[40],\n",
    "               [60]])"
   ]
  },
  {
   "cell_type": "code",
   "execution_count": 148,
   "id": "2b12daa1",
   "metadata": {},
   "outputs": [],
   "source": [
    "wandb = (np.linalg.inv(k)@ans).flatten()\n",
    "w,b = wandb # w = 10, b = 20"
   ]
  },
  {
   "cell_type": "code",
   "execution_count": 160,
   "id": "120958ca",
   "metadata": {},
   "outputs": [],
   "source": [
    "a = np.array([[1.0,2],\n",
    "             [3,4]])"
   ]
  },
  {
   "cell_type": "code",
   "execution_count": 161,
   "id": "7a7e65f8",
   "metadata": {},
   "outputs": [],
   "source": [
    "# a의 역행렬 : a의역행렬 @ a = 단위행렬 np.eye(n)\n",
    "a_ = np.linalg.inv(a)"
   ]
  },
  {
   "cell_type": "code",
   "execution_count": 163,
   "id": "60c181d2",
   "metadata": {},
   "outputs": [
    {
     "data": {
      "text/plain": [
       "array([[1.00000000e+00, 1.11022302e-16],\n",
       "       [0.00000000e+00, 1.00000000e+00]])"
      ]
     },
     "execution_count": 163,
     "metadata": {},
     "output_type": "execute_result"
    }
   ],
   "source": [
    "a@a_ # np.eye(2)"
   ]
  },
  {
   "cell_type": "markdown",
   "id": "37dc99c9",
   "metadata": {},
   "source": [
    "## 6.1 선형 연립 방정식 풀기(독립변수 1, 데이터 2)"
   ]
  },
  {
   "cell_type": "code",
   "execution_count": 20,
   "id": "90be3c32",
   "metadata": {},
   "outputs": [
    {
     "data": {
      "text/plain": [
       "(array([[[2., 1.],\n",
       "         [4., 1.]]]),\n",
       " array([[2., 1.],\n",
       "        [4., 1.]]),\n",
       " array([[2., 1.],\n",
       "        [4., 1.]]),\n",
       " array([[2., 1.],\n",
       "        [4., 1.]]),\n",
       " array([[40],\n",
       "        [60]]),\n",
       " array([[40],\n",
       "        [60]]))"
      ]
     },
     "execution_count": 20,
     "metadata": {},
     "output_type": "execute_result"
    }
   ],
   "source": [
    "x = np.array([2, 4]) # 독립변수 : 공부한 시간\n",
    "Y = np.array([40, 60]) # 종속변수 : 점수\n",
    "Y2 = Y[:,np.newaxis]\n",
    "Y3 = Y.reshape(-1,1)\n",
    "X = np.dstack((x,np.ones(len(x)))) # 행열전환 + 차원증가\n",
    "X2 = np.stack((x, np.ones(len(x))),axis = 1)\n",
    "X3 = np.column_stack((x,np.ones(len(x))))\n",
    "X4 = np.c_[x,np.ones(len(x))]\n",
    "X, X2, X3, X4, Y2, Y3"
   ]
  },
  {
   "cell_type": "code",
   "execution_count": 23,
   "id": "c72594b1",
   "metadata": {},
   "outputs": [
    {
     "data": {
      "text/plain": [
       "array([10., 20.])"
      ]
     },
     "execution_count": 23,
     "metadata": {},
     "output_type": "execute_result"
    }
   ],
   "source": [
    "# X@wb = Y\n",
    "# (X의 역행렬 @ X) @ wb = X의 역행렬 @ Y\n",
    "wb = np.linalg.inv(X)@Y\n",
    "wb\n",
    "np.linalg.solve(X[0], Y) # 차원 맞춰주기"
   ]
  },
  {
   "cell_type": "code",
   "execution_count": 14,
   "id": "343cb58e",
   "metadata": {},
   "outputs": [
    {
     "data": {
      "image/png": "[encoded data removed]",
      "text/plain": [
       "<Figure size 640x480 with 1 Axes>"
      ]
     },
     "metadata": {},
     "output_type": "display_data"
    }
   ],
   "source": [
    "import matplotlib.pyplot as plt\n",
    "plt.scatter(x, Y)\n",
    "plt.plot(x, 10*x + 20, 'k') # 선형회귀분석\n",
    "plt.show()"
   ]
  },
  {
   "cell_type": "markdown",
   "id": "098ba553",
   "metadata": {},
   "source": [
    "## 6.2 선형연립방정식 풀기(회귀분석)(독립변수 1, 데이터 n)"
   ]
  },
  {
   "cell_type": "code",
   "execution_count": 33,
   "id": "350117b7",
   "metadata": {},
   "outputs": [
    {
     "data": {
      "text/plain": [
       "(array([[ 32. ,   1. ],\n",
       "        [ 64. ,   1. ],\n",
       "        [ 96. ,   1. ],\n",
       "        [118. ,   1. ],\n",
       "        [126. ,   1. ],\n",
       "        [144. ,   1. ],\n",
       "        [152.5,   1. ],\n",
       "        [158. ,   1. ]]),\n",
       " (8, 2))"
      ]
     },
     "execution_count": 33,
     "metadata": {},
     "output_type": "execute_result"
    }
   ],
   "source": [
    "import numpy as np\n",
    "x = [32,64,96,118,126,144,152.5,158]\n",
    "y = [18,24,61.5,49,52,105,130.3,125]\n",
    "x = np.array(x)\n",
    "y = np.array(y)\n",
    "X = np.stack((x,np.ones(len(x))),axis = 1) # 8행 2열 \n",
    "X = np.c_[x,np.ones(len(x))] # 8행 2열 => 정방행렬 X\n",
    "X, X.shape"
   ]
  },
  {
   "cell_type": "code",
   "execution_count": 43,
   "id": "aec0137d",
   "metadata": {},
   "outputs": [],
   "source": [
    "# (X의 역행렬 @ (X.T @ X)) @ wb = X의 역행렬 @ (X.T @ Y)\n",
    "# np.linalg.inv(X) X가 정방행렬이 아니면 역행렬을 구할 수 없음."
   ]
  },
  {
   "cell_type": "code",
   "execution_count": 44,
   "id": "757e3ce9",
   "metadata": {},
   "outputs": [
    {
     "data": {
      "text/plain": [
       "(array([[ 32. ,  64. ,  96. , 118. , 126. , 144. , 152.5, 158. ],\n",
       "        [  1. ,   1. ,   1. ,   1. ,   1. ,   1. ,   1. ,   1. ]]),\n",
       " array([[ 32. ,  64. ,  96. , 118. , 126. , 144. , 152.5, 158. ],\n",
       "        [  1. ,   1. ,   1. ,   1. ,   1. ,   1. ,   1. ,   1. ]]))"
      ]
     },
     "execution_count": 44,
     "metadata": {},
     "output_type": "execute_result"
    }
   ],
   "source": [
    "X.T, X.transpose()"
   ]
  },
  {
   "cell_type": "code",
   "execution_count": 48,
   "id": "0b7de260",
   "metadata": {},
   "outputs": [
    {
     "data": {
      "text/plain": [
       "array([[1.00000000e+00, 1.38777878e-17],\n",
       "       [0.00000000e+00, 1.00000000e+00]])"
      ]
     },
     "execution_count": 48,
     "metadata": {},
     "output_type": "execute_result"
    }
   ],
   "source": [
    "# X가 정방행렬이 아닐 경우 역행렬을 구할 수 없어 전치행렬(X.T)을 내적시켜서 정방행렬로 만들어준다.\n",
    "X_ = X.T@X\n",
    "X_\n",
    "# np.linalg.inv(X_)@X_ = np.eye(n)형태"
   ]
  },
  {
   "cell_type": "code",
   "execution_count": 60,
   "id": "f85edf95",
   "metadata": {},
   "outputs": [
    {
     "data": {
      "text/plain": [
       "(array([[ 32. ,   1. ],\n",
       "        [ 64. ,   1. ],\n",
       "        [ 96. ,   1. ],\n",
       "        [118. ,   1. ],\n",
       "        [126. ,   1. ],\n",
       "        [144. ,   1. ],\n",
       "        [152.5,   1. ],\n",
       "        [158. ,   1. ]]),\n",
       " (8, 2))"
      ]
     },
     "execution_count": 60,
     "metadata": {},
     "output_type": "execute_result"
    }
   ],
   "source": [
    "import numpy as np\n",
    "x = [32,64,96,118,126,144,152.5,158]\n",
    "y = [18,24,61.5,49,52,105,130.3,125]\n",
    "x = np.array(x)\n",
    "Y = np.array(y).reshape(-1,1)\n",
    "X = np.stack((x,np.ones(len(x))),axis = 1) # 8행 2열 \n",
    "X = np.c_[x,np.ones(len(x))] # 8행 2열 => 정방행렬 X\n",
    "X, X.shape"
   ]
  },
  {
   "cell_type": "code",
   "execution_count": 81,
   "id": "16ec440d",
   "metadata": {},
   "outputs": [
    {
     "data": {
      "text/plain": [
       "(0.8749312625981291, -26.79078616795418)"
      ]
     },
     "execution_count": 81,
     "metadata": {},
     "output_type": "execute_result"
    }
   ],
   "source": [
    "# (np.linalg.inv(X.T@X) @ X.T @ X)=np.eye(n) @ wb = np.linalg.inv(X.T@X) @ X.T @ Y\n",
    "# wb = np.linalg.inv(X.T@X) @ X.T @ Y\n",
    "wb = np.linalg.inv((X.T@X)) @ X.T @ Y\n",
    "wb\n",
    "w,b = wb\n",
    "w,b # 기울기와 y절편\n",
    "wb[0,0], wb[1,0] # 기울기와 y절편"
   ]
  },
  {
   "cell_type": "code",
   "execution_count": 89,
   "id": "e2b9eed2",
   "metadata": {},
   "outputs": [
    {
     "name": "stdout",
     "output_type": "stream",
     "text": [
      "독립 변수 : [ 32.   64.   96.  118.  126.  144.  152.5 158. ]\n",
      "종속 변수 : [18, 24, 61.5, 49, 52, 105, 130.3, 125]\n",
      "예측 값  : [  1.2  29.2  57.2  76.5  83.5  99.2 106.6 111.4]\n"
     ]
    }
   ],
   "source": [
    "y_hat = wb[0,0] * x + wb[1,0]\n",
    "y_hat\n",
    "# 실제 값 y, 예측값 y_hat (or h : hypothesis)\n",
    "print('독립 변수 :', x)\n",
    "print('종속 변수 :', y)\n",
    "print('예측 값  :', np.round(y_hat,1))"
   ]
  },
  {
   "cell_type": "code",
   "execution_count": 96,
   "id": "ea292ccf",
   "metadata": {},
   "outputs": [
    {
     "data": {
      "image/png": "[encoded data removed]",
      "text/plain": [
       "<Figure size 600x600 with 1 Axes>"
      ]
     },
     "metadata": {},
     "output_type": "display_data"
    }
   ],
   "source": [
    "import matplotlib.pyplot as plt\n",
    "plt.figure(figsize=(6,6))\n",
    "plt.scatter(x,y)\n",
    "plt.plot(x,y_hat, 'k')\n",
    "plt.show() # => 로스 발생\n",
    "# 이런 경우 x의 구간을 나눠서 여러 선형을 그려서 답을 맞춰나가며 정확도를 상승시킴 => 딥러닝 기초\n",
    "# 그런데 주어진 데이터에 너무 핏하게 교육시키면 과적합(overfitting) 발생 : 훈련데이터에만 정답률이 높아진다"
   ]
  },
  {
   "cell_type": "markdown",
   "id": "dd5f150a",
   "metadata": {},
   "source": [
    "# 7절 연습문제"
   ]
  },
  {
   "cell_type": "markdown",
   "id": "df1ea2b7",
   "metadata": {},
   "source": [
    "## 7.1 실습형"
   ]
  },
  {
   "cell_type": "code",
   "execution_count": 186,
   "id": "513692fe",
   "metadata": {
    "collapsed": true
   },
   "outputs": [
    {
     "data": {
      "text/plain": [
       "(dict_keys(['data', 'target', 'frame', 'target_names', 'DESCR', 'feature_names', 'filename', 'data_module']),\n",
       " array([[5.1, 3.5, 1.4, 0.2],\n",
       "        [4.9, 3. , 1.4, 0.2],\n",
       "        [4.7, 3.2, 1.3, 0.2],\n",
       "        [4.6, 3.1, 1.5, 0.2],\n",
       "        [5. , 3.6, 1.4, 0.2],\n",
       "        [5.4, 3.9, 1.7, 0.4],\n",
       "        [4.6, 3.4, 1.4, 0.3],\n",
       "        [5. , 3.4, 1.5, 0.2],\n",
       "        [4.4, 2.9, 1.4, 0.2],\n",
       "        [4.9, 3.1, 1.5, 0.1],\n",
       "        [5.4, 3.7, 1.5, 0.2],\n",
       "        [4.8, 3.4, 1.6, 0.2],\n",
       "        [4.8, 3. , 1.4, 0.1],\n",
       "        [4.3, 3. , 1.1, 0.1],\n",
       "        [5.8, 4. , 1.2, 0.2],\n",
       "        [5.7, 4.4, 1.5, 0.4],\n",
       "        [5.4, 3.9, 1.3, 0.4],\n",
       "        [5.1, 3.5, 1.4, 0.3],\n",
       "        [5.7, 3.8, 1.7, 0.3],\n",
       "        [5.1, 3.8, 1.5, 0.3],\n",
       "        [5.4, 3.4, 1.7, 0.2],\n",
       "        [5.1, 3.7, 1.5, 0.4],\n",
       "        [4.6, 3.6, 1. , 0.2],\n",
       "        [5.1, 3.3, 1.7, 0.5],\n",
       "        [4.8, 3.4, 1.9, 0.2],\n",
       "        [5. , 3. , 1.6, 0.2],\n",
       "        [5. , 3.4, 1.6, 0.4],\n",
       "        [5.2, 3.5, 1.5, 0.2],\n",
       "        [5.2, 3.4, 1.4, 0.2],\n",
       "        [4.7, 3.2, 1.6, 0.2],\n",
       "        [4.8, 3.1, 1.6, 0.2],\n",
       "        [5.4, 3.4, 1.5, 0.4],\n",
       "        [5.2, 4.1, 1.5, 0.1],\n",
       "        [5.5, 4.2, 1.4, 0.2],\n",
       "        [4.9, 3.1, 1.5, 0.2],\n",
       "        [5. , 3.2, 1.2, 0.2],\n",
       "        [5.5, 3.5, 1.3, 0.2],\n",
       "        [4.9, 3.6, 1.4, 0.1],\n",
       "        [4.4, 3. , 1.3, 0.2],\n",
       "        [5.1, 3.4, 1.5, 0.2],\n",
       "        [5. , 3.5, 1.3, 0.3],\n",
       "        [4.5, 2.3, 1.3, 0.3],\n",
       "        [4.4, 3.2, 1.3, 0.2],\n",
       "        [5. , 3.5, 1.6, 0.6],\n",
       "        [5.1, 3.8, 1.9, 0.4],\n",
       "        [4.8, 3. , 1.4, 0.3],\n",
       "        [5.1, 3.8, 1.6, 0.2],\n",
       "        [4.6, 3.2, 1.4, 0.2],\n",
       "        [5.3, 3.7, 1.5, 0.2],\n",
       "        [5. , 3.3, 1.4, 0.2],\n",
       "        [7. , 3.2, 4.7, 1.4],\n",
       "        [6.4, 3.2, 4.5, 1.5],\n",
       "        [6.9, 3.1, 4.9, 1.5],\n",
       "        [5.5, 2.3, 4. , 1.3],\n",
       "        [6.5, 2.8, 4.6, 1.5],\n",
       "        [5.7, 2.8, 4.5, 1.3],\n",
       "        [6.3, 3.3, 4.7, 1.6],\n",
       "        [4.9, 2.4, 3.3, 1. ],\n",
       "        [6.6, 2.9, 4.6, 1.3],\n",
       "        [5.2, 2.7, 3.9, 1.4],\n",
       "        [5. , 2. , 3.5, 1. ],\n",
       "        [5.9, 3. , 4.2, 1.5],\n",
       "        [6. , 2.2, 4. , 1. ],\n",
       "        [6.1, 2.9, 4.7, 1.4],\n",
       "        [5.6, 2.9, 3.6, 1.3],\n",
       "        [6.7, 3.1, 4.4, 1.4],\n",
       "        [5.6, 3. , 4.5, 1.5],\n",
       "        [5.8, 2.7, 4.1, 1. ],\n",
       "        [6.2, 2.2, 4.5, 1.5],\n",
       "        [5.6, 2.5, 3.9, 1.1],\n",
       "        [5.9, 3.2, 4.8, 1.8],\n",
       "        [6.1, 2.8, 4. , 1.3],\n",
       "        [6.3, 2.5, 4.9, 1.5],\n",
       "        [6.1, 2.8, 4.7, 1.2],\n",
       "        [6.4, 2.9, 4.3, 1.3],\n",
       "        [6.6, 3. , 4.4, 1.4],\n",
       "        [6.8, 2.8, 4.8, 1.4],\n",
       "        [6.7, 3. , 5. , 1.7],\n",
       "        [6. , 2.9, 4.5, 1.5],\n",
       "        [5.7, 2.6, 3.5, 1. ],\n",
       "        [5.5, 2.4, 3.8, 1.1],\n",
       "        [5.5, 2.4, 3.7, 1. ],\n",
       "        [5.8, 2.7, 3.9, 1.2],\n",
       "        [6. , 2.7, 5.1, 1.6],\n",
       "        [5.4, 3. , 4.5, 1.5],\n",
       "        [6. , 3.4, 4.5, 1.6],\n",
       "        [6.7, 3.1, 4.7, 1.5],\n",
       "        [6.3, 2.3, 4.4, 1.3],\n",
       "        [5.6, 3. , 4.1, 1.3],\n",
       "        [5.5, 2.5, 4. , 1.3],\n",
       "        [5.5, 2.6, 4.4, 1.2],\n",
       "        [6.1, 3. , 4.6, 1.4],\n",
       "        [5.8, 2.6, 4. , 1.2],\n",
       "        [5. , 2.3, 3.3, 1. ],\n",
       "        [5.6, 2.7, 4.2, 1.3],\n",
       "        [5.7, 3. , 4.2, 1.2],\n",
       "        [5.7, 2.9, 4.2, 1.3],\n",
       "        [6.2, 2.9, 4.3, 1.3],\n",
       "        [5.1, 2.5, 3. , 1.1],\n",
       "        [5.7, 2.8, 4.1, 1.3],\n",
       "        [6.3, 3.3, 6. , 2.5],\n",
       "        [5.8, 2.7, 5.1, 1.9],\n",
       "        [7.1, 3. , 5.9, 2.1],\n",
       "        [6.3, 2.9, 5.6, 1.8],\n",
       "        [6.5, 3. , 5.8, 2.2],\n",
       "        [7.6, 3. , 6.6, 2.1],\n",
       "        [4.9, 2.5, 4.5, 1.7],\n",
       "        [7.3, 2.9, 6.3, 1.8],\n",
       "        [6.7, 2.5, 5.8, 1.8],\n",
       "        [7.2, 3.6, 6.1, 2.5],\n",
       "        [6.5, 3.2, 5.1, 2. ],\n",
       "        [6.4, 2.7, 5.3, 1.9],\n",
       "        [6.8, 3. , 5.5, 2.1],\n",
       "        [5.7, 2.5, 5. , 2. ],\n",
       "        [5.8, 2.8, 5.1, 2.4],\n",
       "        [6.4, 3.2, 5.3, 2.3],\n",
       "        [6.5, 3. , 5.5, 1.8],\n",
       "        [7.7, 3.8, 6.7, 2.2],\n",
       "        [7.7, 2.6, 6.9, 2.3],\n",
       "        [6. , 2.2, 5. , 1.5],\n",
       "        [6.9, 3.2, 5.7, 2.3],\n",
       "        [5.6, 2.8, 4.9, 2. ],\n",
       "        [7.7, 2.8, 6.7, 2. ],\n",
       "        [6.3, 2.7, 4.9, 1.8],\n",
       "        [6.7, 3.3, 5.7, 2.1],\n",
       "        [7.2, 3.2, 6. , 1.8],\n",
       "        [6.2, 2.8, 4.8, 1.8],\n",
       "        [6.1, 3. , 4.9, 1.8],\n",
       "        [6.4, 2.8, 5.6, 2.1],\n",
       "        [7.2, 3. , 5.8, 1.6],\n",
       "        [7.4, 2.8, 6.1, 1.9],\n",
       "        [7.9, 3.8, 6.4, 2. ],\n",
       "        [6.4, 2.8, 5.6, 2.2],\n",
       "        [6.3, 2.8, 5.1, 1.5],\n",
       "        [6.1, 2.6, 5.6, 1.4],\n",
       "        [7.7, 3. , 6.1, 2.3],\n",
       "        [6.3, 3.4, 5.6, 2.4],\n",
       "        [6.4, 3.1, 5.5, 1.8],\n",
       "        [6. , 3. , 4.8, 1.8],\n",
       "        [6.9, 3.1, 5.4, 2.1],\n",
       "        [6.7, 3.1, 5.6, 2.4],\n",
       "        [6.9, 3.1, 5.1, 2.3],\n",
       "        [5.8, 2.7, 5.1, 1.9],\n",
       "        [6.8, 3.2, 5.9, 2.3],\n",
       "        [6.7, 3.3, 5.7, 2.5],\n",
       "        [6.7, 3. , 5.2, 2.3],\n",
       "        [6.3, 2.5, 5. , 1.9],\n",
       "        [6.5, 3. , 5.2, 2. ],\n",
       "        [6.2, 3.4, 5.4, 2.3],\n",
       "        [5.9, 3. , 5.1, 1.8]]))"
      ]
     },
     "execution_count": 186,
     "metadata": {},
     "output_type": "execute_result"
    }
   ],
   "source": [
    "import numpy as np\n",
    "from sklearn import datasets # sklearn 사이킷런\n",
    "iris = datasets.load_iris()\n",
    "iris_data = iris.data\n",
    "iris_data\n",
    "iris.keys(), iris.get('data')\n",
    "# iris # 딕셔너리타입"
   ]
  },
  {
   "cell_type": "code",
   "execution_count": 187,
   "id": "af6403db",
   "metadata": {},
   "outputs": [
    {
     "data": {
      "text/plain": [
       "array([5.84333333, 3.05733333, 3.758     , 1.19933333])"
      ]
     },
     "execution_count": 187,
     "metadata": {},
     "output_type": "execute_result"
    }
   ],
   "source": [
    "#1. 각 변수별 평균 출력\n",
    "no_1 = np.average(iris_data, axis = 0)\n",
    "no_1"
   ]
  },
  {
   "cell_type": "code",
   "execution_count": 188,
   "id": "14231e01",
   "metadata": {},
   "outputs": [
    {
     "data": {
      "text/plain": [
       "array([[5.1, 3.5, 1.4, 0.2],\n",
       "       [4.9, 3. , 1.4, 0.2],\n",
       "       [4.7, 3.2, 1.3, 0.2],\n",
       "       [4.6, 3.1, 1.5, 0.2],\n",
       "       [5. , 3.6, 1.4, 0.2]])"
      ]
     },
     "execution_count": 188,
     "metadata": {},
     "output_type": "execute_result"
    }
   ],
   "source": [
    "#2. 처음 다섯개 행을 출력\n",
    "no_2 = iris_data[:5]\n",
    "no_2"
   ]
  },
  {
   "cell_type": "code",
   "execution_count": 189,
   "id": "587da5d7",
   "metadata": {},
   "outputs": [
    {
     "data": {
      "text/plain": [
       "array([[5.1, 3.5, 1.4],\n",
       "       [4.9, 3. , 1.4],\n",
       "       [4.7, 3.2, 1.3],\n",
       "       [4.6, 3.1, 1.5],\n",
       "       [5. , 3.6, 1.4]])"
      ]
     },
     "execution_count": 189,
     "metadata": {},
     "output_type": "execute_result"
    }
   ],
   "source": [
    "#3. 처음 다섯개 행에서 마지막 열을 제외한 후 출력\n",
    "no_3 = iris_data[:5,:-1]\n",
    "no_3"
   ]
  },
  {
   "cell_type": "code",
   "execution_count": 190,
   "id": "6bce90c7",
   "metadata": {},
   "outputs": [
    {
     "data": {
      "text/plain": [
       "array([0.2, 0.2, 0.2, 0.2, 0.2])"
      ]
     },
     "execution_count": 190,
     "metadata": {},
     "output_type": "execute_result"
    }
   ],
   "source": [
    "#4. 처음 다섯개 행에서 마지막 열 출력\n",
    "no_4 = iris_data[:5,-1]\n",
    "no_4"
   ]
  },
  {
   "cell_type": "code",
   "execution_count": 233,
   "id": "f1e8751f",
   "metadata": {},
   "outputs": [
    {
     "data": {
      "text/plain": [
       "(array([[5.1, 3.5, 1.4, 0.2],\n",
       "        [4.9, 3. , 1.4, 0.2],\n",
       "        [4.7, 3.2, 1.3, 0.2],\n",
       "        [4.6, 3.1, 1.5, 0.2],\n",
       "        [5. , 3.6, 1.4, 0.2]]),\n",
       " True)"
      ]
     },
     "execution_count": 233,
     "metadata": {},
     "output_type": "execute_result"
    }
   ],
   "source": [
    "#5. 3번의 배열과 4번 배열을 원래 모양이 되도록 합치고 #2번과 같게 만들기\n",
    "no_5 = np.hstack((no_3,no_4[:,np.newaxis]))\n",
    "# 실습형 5. 3번배열과 4번배열을 원래 모양으로 합하기\n",
    "answer1 = np.c_[ex3,ex4]\n",
    "answer2 = np.column_stack((ex3, ex4))\n",
    "answer3 = np.hstack((ex3, ex4[:, np.newaxis]))\n",
    "answer4 = np.hstack( (ex3, ex4.reshape(-1,1)))\n",
    "answer5 = np.concatenate( (ex3, ex4.reshape(-1, 1)), axis=1)\n",
    "no_5, np.all(no_2 == no_5)"
   ]
  },
  {
   "cell_type": "code",
   "execution_count": 242,
   "id": "f1fa3218",
   "metadata": {},
   "outputs": [
    {
     "data": {
      "text/plain": [
       "array([5.1, 3.5, 4.9, 3. , 4.7, 3.2, 4.6, 3.1, 5. , 3.6])"
      ]
     },
     "metadata": {},
     "output_type": "display_data"
    },
    {
     "data": {
      "text/plain": [
       "array([5.1, 3.5, 4.9, 1.5, 5. , 3.6])"
      ]
     },
     "metadata": {},
     "output_type": "display_data"
    },
    {
     "data": {
      "text/plain": [
       "(array([5.1, 3.5, 4.9, 1.5, 5. , 3.6]), array([4.86, 3.28, 1.4 , 0.2 ]))"
      ]
     },
     "execution_count": 242,
     "metadata": {},
     "output_type": "execute_result"
    }
   ],
   "source": [
    "#6. 처음 다섯개 행을 이용해서 각 열별로 평균보다 큰 값들만 출력하세요\n",
    "no_2\n",
    "avg_no_2 = np.average(no_2)\n",
    "avg_no_2\n",
    "display(no_2[no_2>avg_no_2]) # 전체 평균을 따짐\n",
    "display(no_2[no_2>np.mean(no_2,axis=0)]) # 열별 평균을 따짐\n",
    "\n",
    "#6.\n",
    "# 실습형 6 처음 다섯개 행을 이용해서 각 열 평균보다 큰값만 출력\n",
    "sample = iris_data[:5]\n",
    "sample[sample > np.mean(sample, axis=0)], np.mean(sample, axis=0)"
   ]
  },
  {
   "cell_type": "code",
   "execution_count": 176,
   "id": "d59cff47",
   "metadata": {},
   "outputs": [
    {
     "name": "stdout",
     "output_type": "stream",
     "text": [
      "0행의 결과 5.1, 3.5, \n",
      "1행의 결과 4.9, 3.0, \n",
      "2행의 결과 4.7, 3.2, \n",
      "3행의 결과 4.6, 3.1, \n",
      "4행의 결과 5.0, 3.6, \n"
     ]
    }
   ],
   "source": [
    "#6-2. 처음 다섯개 행을 이용해서 각 열별로 평균보다 큰 값들만 출력하세요\n",
    "no_2\n",
    "avg_no_2 = np.average(no_2, axis = 1)\n",
    "avg_no_2\n",
    "for idx, row in enumerate(no_2) :\n",
    "    print(f'{idx}행의 결과', end = ' ')\n",
    "    for data in row :\n",
    "        if data > avg_no_2[idx] :\n",
    "            print(data, end = ', ')\n",
    "    print()"
   ]
  },
  {
   "cell_type": "code",
   "execution_count": 216,
   "id": "7516501b",
   "metadata": {},
   "outputs": [
    {
     "name": "stdout",
     "output_type": "stream",
     "text": [
      "[[5.1 3.5]\n",
      " [4.9 3. ]\n",
      " [4.7 3.2]\n",
      " [4.6 3.1]\n",
      " [5.  3.6]]\n"
     ]
    }
   ],
   "source": [
    "#6-3. 처음 다섯개 행을 이용해서 각 열별로 평균보다 큰 값들만 출력하세요 => 이 의민가..?\n",
    "# print(no_2)\n",
    "# avg_check = np.mean(no_2, axis = 1)\n",
    "avg_2 = np.average(no_2, axis = 1)\n",
    "avg_check, avg_2\n",
    "answer = []\n",
    "for idx,row in enumerate(no_2) :\n",
    "    temp = []\n",
    "    for jdx, data in enumerate(row) :\n",
    "        if data > avg_2[jdx] :\n",
    "            temp.append(data)\n",
    "    answer.append(temp)\n",
    "answer = np.array(answer)\n",
    "print(answer)"
   ]
  },
  {
   "cell_type": "markdown",
   "id": "11b82b58",
   "metadata": {},
   "source": [
    "## 7.2 문제풀이형"
   ]
  },
  {
   "cell_type": "code",
   "execution_count": 141,
   "id": "f75db866",
   "metadata": {},
   "outputs": [
    {
     "name": "stdout",
     "output_type": "stream",
     "text": [
      "[12 15 18 21]\n"
     ]
    }
   ],
   "source": [
    "# 1. 3번\n",
    "import numpy as np\n",
    "a = np.arange(12).reshape(3,4)\n",
    "print(a.sum(axis=0))"
   ]
  },
  {
   "cell_type": "code",
   "execution_count": 157,
   "id": "c469adfa",
   "metadata": {},
   "outputs": [
    {
     "name": "stdout",
     "output_type": "stream",
     "text": [
      "2\n",
      "1\n",
      "2\n",
      "2\n",
      "2\n"
     ]
    }
   ],
   "source": [
    "# 2. 1번. reshape이나 resize를 통해 차원을 바꿀 수 있으나 지문은 2차원 그대로 => print냐 return이냐 묻는 문제\n",
    "a = np.floor(10*np.random.random((3,4)))\n",
    "print(a.ndim)\n",
    "a.shape # =>(3,4) 3행 4열\n",
    "print(a.ravel().ndim) # => 1차원\n",
    "print(a.reshape(6,2).ndim) # => 2차원 그대로(6행 2열)\n",
    "a.resize((2,6))\n",
    "print(a.ndim)\n",
    "print(a.T.ndim) # => 2차원 그대로(6행 2열)"
   ]
  },
  {
   "cell_type": "code",
   "execution_count": 158,
   "id": "556d08eb",
   "metadata": {},
   "outputs": [
    {
     "data": {
      "text/plain": [
       "array([[0, 1, 2, 3],\n",
       "       [4, 5, 6, 7]])"
      ]
     },
     "execution_count": 158,
     "metadata": {},
     "output_type": "execute_result"
    }
   ],
   "source": [
    "# 3. 1번\n",
    "a = np.arange(12).reshape(3,4)\n",
    "a[:2]"
   ]
  },
  {
   "cell_type": "code",
   "execution_count": 159,
   "id": "70852b97",
   "metadata": {},
   "outputs": [
    {
     "data": {
      "text/plain": [
       "array([1, 0, 3, 0, 0])"
      ]
     },
     "execution_count": 159,
     "metadata": {},
     "output_type": "execute_result"
    }
   ],
   "source": [
    "# 4. 2번\n",
    "a = np.array([1,2,3,4,5])\n",
    "a[[1,3,4,]]= 0\n",
    "a"
   ]
  },
  {
   "cell_type": "code",
   "execution_count": 160,
   "id": "d1d57885",
   "metadata": {
    "scrolled": true
   },
   "outputs": [
    {
     "data": {
      "text/plain": [
       "array([[ 1,  6],\n",
       "       [ 2,  7],\n",
       "       [ 3,  8],\n",
       "       [ 4,  9],\n",
       "       [ 5, 10]])"
      ]
     },
     "execution_count": 160,
     "metadata": {},
     "output_type": "execute_result"
    }
   ],
   "source": [
    "# 5. 2번\n",
    "a = np.array([1,2,3,4,5])\n",
    "b = np. array([6,7,8,9,10])\n",
    "np.c_[a,b]"
   ]
  },
  {
   "cell_type": "code",
   "execution_count": 168,
   "id": "0a520a61",
   "metadata": {
    "collapsed": true
   },
   "outputs": [
    {
     "name": "stdout",
     "output_type": "stream",
     "text": [
      "5.1\n",
      "3.5\n",
      "개행\n",
      "4.9\n",
      "3.0\n",
      "개행\n",
      "4.7\n",
      "3.2\n",
      "개행\n",
      "4.6\n",
      "3.1\n",
      "개행\n",
      "5.0\n",
      "3.6\n",
      "개행\n"
     ]
    }
   ],
   "source": []
  },
  {
   "cell_type": "markdown",
   "id": "8757f545",
   "metadata": {},
   "source": [
    "## 7.3 선생님 풀이"
   ]
  },
  {
   "cell_type": "code",
   "execution_count": 217,
   "id": "d0cb3f8c",
   "metadata": {
    "collapsed": true
   },
   "outputs": [
    {
     "data": {
      "text/plain": [
       "(dict_keys(['data', 'target', 'frame', 'target_names', 'DESCR', 'feature_names', 'filename', 'data_module']),\n",
       " array([[5.1, 3.5, 1.4, 0.2],\n",
       "        [4.9, 3. , 1.4, 0.2],\n",
       "        [4.7, 3.2, 1.3, 0.2],\n",
       "        [4.6, 3.1, 1.5, 0.2],\n",
       "        [5. , 3.6, 1.4, 0.2],\n",
       "        [5.4, 3.9, 1.7, 0.4],\n",
       "        [4.6, 3.4, 1.4, 0.3],\n",
       "        [5. , 3.4, 1.5, 0.2],\n",
       "        [4.4, 2.9, 1.4, 0.2],\n",
       "        [4.9, 3.1, 1.5, 0.1],\n",
       "        [5.4, 3.7, 1.5, 0.2],\n",
       "        [4.8, 3.4, 1.6, 0.2],\n",
       "        [4.8, 3. , 1.4, 0.1],\n",
       "        [4.3, 3. , 1.1, 0.1],\n",
       "        [5.8, 4. , 1.2, 0.2],\n",
       "        [5.7, 4.4, 1.5, 0.4],\n",
       "        [5.4, 3.9, 1.3, 0.4],\n",
       "        [5.1, 3.5, 1.4, 0.3],\n",
       "        [5.7, 3.8, 1.7, 0.3],\n",
       "        [5.1, 3.8, 1.5, 0.3],\n",
       "        [5.4, 3.4, 1.7, 0.2],\n",
       "        [5.1, 3.7, 1.5, 0.4],\n",
       "        [4.6, 3.6, 1. , 0.2],\n",
       "        [5.1, 3.3, 1.7, 0.5],\n",
       "        [4.8, 3.4, 1.9, 0.2],\n",
       "        [5. , 3. , 1.6, 0.2],\n",
       "        [5. , 3.4, 1.6, 0.4],\n",
       "        [5.2, 3.5, 1.5, 0.2],\n",
       "        [5.2, 3.4, 1.4, 0.2],\n",
       "        [4.7, 3.2, 1.6, 0.2],\n",
       "        [4.8, 3.1, 1.6, 0.2],\n",
       "        [5.4, 3.4, 1.5, 0.4],\n",
       "        [5.2, 4.1, 1.5, 0.1],\n",
       "        [5.5, 4.2, 1.4, 0.2],\n",
       "        [4.9, 3.1, 1.5, 0.2],\n",
       "        [5. , 3.2, 1.2, 0.2],\n",
       "        [5.5, 3.5, 1.3, 0.2],\n",
       "        [4.9, 3.6, 1.4, 0.1],\n",
       "        [4.4, 3. , 1.3, 0.2],\n",
       "        [5.1, 3.4, 1.5, 0.2],\n",
       "        [5. , 3.5, 1.3, 0.3],\n",
       "        [4.5, 2.3, 1.3, 0.3],\n",
       "        [4.4, 3.2, 1.3, 0.2],\n",
       "        [5. , 3.5, 1.6, 0.6],\n",
       "        [5.1, 3.8, 1.9, 0.4],\n",
       "        [4.8, 3. , 1.4, 0.3],\n",
       "        [5.1, 3.8, 1.6, 0.2],\n",
       "        [4.6, 3.2, 1.4, 0.2],\n",
       "        [5.3, 3.7, 1.5, 0.2],\n",
       "        [5. , 3.3, 1.4, 0.2],\n",
       "        [7. , 3.2, 4.7, 1.4],\n",
       "        [6.4, 3.2, 4.5, 1.5],\n",
       "        [6.9, 3.1, 4.9, 1.5],\n",
       "        [5.5, 2.3, 4. , 1.3],\n",
       "        [6.5, 2.8, 4.6, 1.5],\n",
       "        [5.7, 2.8, 4.5, 1.3],\n",
       "        [6.3, 3.3, 4.7, 1.6],\n",
       "        [4.9, 2.4, 3.3, 1. ],\n",
       "        [6.6, 2.9, 4.6, 1.3],\n",
       "        [5.2, 2.7, 3.9, 1.4],\n",
       "        [5. , 2. , 3.5, 1. ],\n",
       "        [5.9, 3. , 4.2, 1.5],\n",
       "        [6. , 2.2, 4. , 1. ],\n",
       "        [6.1, 2.9, 4.7, 1.4],\n",
       "        [5.6, 2.9, 3.6, 1.3],\n",
       "        [6.7, 3.1, 4.4, 1.4],\n",
       "        [5.6, 3. , 4.5, 1.5],\n",
       "        [5.8, 2.7, 4.1, 1. ],\n",
       "        [6.2, 2.2, 4.5, 1.5],\n",
       "        [5.6, 2.5, 3.9, 1.1],\n",
       "        [5.9, 3.2, 4.8, 1.8],\n",
       "        [6.1, 2.8, 4. , 1.3],\n",
       "        [6.3, 2.5, 4.9, 1.5],\n",
       "        [6.1, 2.8, 4.7, 1.2],\n",
       "        [6.4, 2.9, 4.3, 1.3],\n",
       "        [6.6, 3. , 4.4, 1.4],\n",
       "        [6.8, 2.8, 4.8, 1.4],\n",
       "        [6.7, 3. , 5. , 1.7],\n",
       "        [6. , 2.9, 4.5, 1.5],\n",
       "        [5.7, 2.6, 3.5, 1. ],\n",
       "        [5.5, 2.4, 3.8, 1.1],\n",
       "        [5.5, 2.4, 3.7, 1. ],\n",
       "        [5.8, 2.7, 3.9, 1.2],\n",
       "        [6. , 2.7, 5.1, 1.6],\n",
       "        [5.4, 3. , 4.5, 1.5],\n",
       "        [6. , 3.4, 4.5, 1.6],\n",
       "        [6.7, 3.1, 4.7, 1.5],\n",
       "        [6.3, 2.3, 4.4, 1.3],\n",
       "        [5.6, 3. , 4.1, 1.3],\n",
       "        [5.5, 2.5, 4. , 1.3],\n",
       "        [5.5, 2.6, 4.4, 1.2],\n",
       "        [6.1, 3. , 4.6, 1.4],\n",
       "        [5.8, 2.6, 4. , 1.2],\n",
       "        [5. , 2.3, 3.3, 1. ],\n",
       "        [5.6, 2.7, 4.2, 1.3],\n",
       "        [5.7, 3. , 4.2, 1.2],\n",
       "        [5.7, 2.9, 4.2, 1.3],\n",
       "        [6.2, 2.9, 4.3, 1.3],\n",
       "        [5.1, 2.5, 3. , 1.1],\n",
       "        [5.7, 2.8, 4.1, 1.3],\n",
       "        [6.3, 3.3, 6. , 2.5],\n",
       "        [5.8, 2.7, 5.1, 1.9],\n",
       "        [7.1, 3. , 5.9, 2.1],\n",
       "        [6.3, 2.9, 5.6, 1.8],\n",
       "        [6.5, 3. , 5.8, 2.2],\n",
       "        [7.6, 3. , 6.6, 2.1],\n",
       "        [4.9, 2.5, 4.5, 1.7],\n",
       "        [7.3, 2.9, 6.3, 1.8],\n",
       "        [6.7, 2.5, 5.8, 1.8],\n",
       "        [7.2, 3.6, 6.1, 2.5],\n",
       "        [6.5, 3.2, 5.1, 2. ],\n",
       "        [6.4, 2.7, 5.3, 1.9],\n",
       "        [6.8, 3. , 5.5, 2.1],\n",
       "        [5.7, 2.5, 5. , 2. ],\n",
       "        [5.8, 2.8, 5.1, 2.4],\n",
       "        [6.4, 3.2, 5.3, 2.3],\n",
       "        [6.5, 3. , 5.5, 1.8],\n",
       "        [7.7, 3.8, 6.7, 2.2],\n",
       "        [7.7, 2.6, 6.9, 2.3],\n",
       "        [6. , 2.2, 5. , 1.5],\n",
       "        [6.9, 3.2, 5.7, 2.3],\n",
       "        [5.6, 2.8, 4.9, 2. ],\n",
       "        [7.7, 2.8, 6.7, 2. ],\n",
       "        [6.3, 2.7, 4.9, 1.8],\n",
       "        [6.7, 3.3, 5.7, 2.1],\n",
       "        [7.2, 3.2, 6. , 1.8],\n",
       "        [6.2, 2.8, 4.8, 1.8],\n",
       "        [6.1, 3. , 4.9, 1.8],\n",
       "        [6.4, 2.8, 5.6, 2.1],\n",
       "        [7.2, 3. , 5.8, 1.6],\n",
       "        [7.4, 2.8, 6.1, 1.9],\n",
       "        [7.9, 3.8, 6.4, 2. ],\n",
       "        [6.4, 2.8, 5.6, 2.2],\n",
       "        [6.3, 2.8, 5.1, 1.5],\n",
       "        [6.1, 2.6, 5.6, 1.4],\n",
       "        [7.7, 3. , 6.1, 2.3],\n",
       "        [6.3, 3.4, 5.6, 2.4],\n",
       "        [6.4, 3.1, 5.5, 1.8],\n",
       "        [6. , 3. , 4.8, 1.8],\n",
       "        [6.9, 3.1, 5.4, 2.1],\n",
       "        [6.7, 3.1, 5.6, 2.4],\n",
       "        [6.9, 3.1, 5.1, 2.3],\n",
       "        [5.8, 2.7, 5.1, 1.9],\n",
       "        [6.8, 3.2, 5.9, 2.3],\n",
       "        [6.7, 3.3, 5.7, 2.5],\n",
       "        [6.7, 3. , 5.2, 2.3],\n",
       "        [6.3, 2.5, 5. , 1.9],\n",
       "        [6.5, 3. , 5.2, 2. ],\n",
       "        [6.2, 3.4, 5.4, 2.3],\n",
       "        [5.9, 3. , 5.1, 1.8]]))"
      ]
     },
     "execution_count": 217,
     "metadata": {},
     "output_type": "execute_result"
    }
   ],
   "source": [
    "import numpy as np\n",
    "from sklearn import datasets # sklearn 사이킷런\n",
    "iris = datasets.load_iris()\n",
    "iris_data = iris.data\n",
    "iris_data\n",
    "iris.keys(), iris.get('data')\n",
    "# iris # 딕셔너리타입"
   ]
  },
  {
   "cell_type": "code",
   "execution_count": 218,
   "id": "8fedafef",
   "metadata": {},
   "outputs": [
    {
     "data": {
      "text/plain": [
       "array([5.84333333, 3.05733333, 3.758     , 1.19933333])"
      ]
     },
     "execution_count": 218,
     "metadata": {},
     "output_type": "execute_result"
    }
   ],
   "source": [
    "#1.\n",
    "iris_data.mean()\n",
    "np.mean(iris_data, axis = 0)\n",
    "np.average(iris_data, axis = 0)"
   ]
  },
  {
   "cell_type": "code",
   "execution_count": 220,
   "id": "d044f9ec",
   "metadata": {
    "collapsed": true
   },
   "outputs": [
    {
     "data": {
      "text/plain": [
       "array([[5.1, 3.5, 1.4, 0.2],\n",
       "       [4.9, 3. , 1.4, 0.2],\n",
       "       [4.7, 3.2, 1.3, 0.2],\n",
       "       [4.6, 3.1, 1.5, 0.2],\n",
       "       [5. , 3.6, 1.4, 0.2]])"
      ]
     },
     "execution_count": 220,
     "metadata": {},
     "output_type": "execute_result"
    }
   ],
   "source": [
    "#2. \n",
    "iris_data[:5]"
   ]
  },
  {
   "cell_type": "code",
   "execution_count": 222,
   "id": "8aeb2933",
   "metadata": {},
   "outputs": [
    {
     "data": {
      "text/plain": [
       "array([[5.1, 3.5, 1.4],\n",
       "       [4.9, 3. , 1.4],\n",
       "       [4.7, 3.2, 1.3],\n",
       "       [4.6, 3.1, 1.5],\n",
       "       [5. , 3.6, 1.4]])"
      ]
     },
     "execution_count": 222,
     "metadata": {},
     "output_type": "execute_result"
    }
   ],
   "source": [
    "#3\n",
    "ex3 = iris_data[:5,:-1]\n",
    "ex3"
   ]
  },
  {
   "cell_type": "code",
   "execution_count": 225,
   "id": "27413c30",
   "metadata": {},
   "outputs": [],
   "source": [
    "#4\n",
    "ex4 =iris_data[:5,-1]"
   ]
  },
  {
   "cell_type": "code",
   "execution_count": 266,
   "id": "6b39c61f",
   "metadata": {},
   "outputs": [
    {
     "data": {
      "text/plain": [
       "True"
      ]
     },
     "execution_count": 266,
     "metadata": {},
     "output_type": "execute_result"
    }
   ],
   "source": [
    "# 실습형 5. 3번배열과 4번배열을 원래 모양으로 합하기\n",
    "answer1 = np.c_[ex3,ex4]\n",
    "answer2 = np.column_stack((ex3, ex4))\n",
    "answer3 = np.hstack((ex3, ex4[:, np.newaxis]))\n",
    "answer4 = np.hstack( (ex3, ex4.reshape(-1,1)))\n",
    "answer5 = np.concatenate( (ex3, ex4.reshape(-1, 1)), axis=1)\n",
    "# np.all(answer1 == answer2) and np.all(answer2==answer3)\n",
    "# answers = [answer1, answer2, answer3, answer4,answer5]\n",
    "# all(np.all(answer1 == answer) for answer in answers)\n",
    "same_all(answer1, answer2, answer3, answer4,answer5)"
   ]
  },
  {
   "cell_type": "code",
   "execution_count": 261,
   "id": "7995730a",
   "metadata": {},
   "outputs": [],
   "source": [
    "# 실습형 5번용 함수\n",
    "def same_all(*answers) :\n",
    "    return all(np.all(answers[0] == answer) for answer in answers) if len(answers) > 0 else False"
   ]
  },
  {
   "cell_type": "markdown",
   "id": "751e2c2b",
   "metadata": {},
   "source": [
    "#### ★ 각 열의 평균보다 큰 값을 출력하기 : 배열 논리 인덱스 사용하기"
   ]
  },
  {
   "cell_type": "code",
   "execution_count": 295,
   "id": "5db4ce69",
   "metadata": {},
   "outputs": [
    {
     "data": {
      "text/plain": [
       "(array([[5.1, 3.5, 1.4, 0.2],\n",
       "        [4.9, 3. , 1.4, 0.2],\n",
       "        [4.7, 3.2, 1.3, 0.2],\n",
       "        [4.6, 3.1, 1.5, 0.2],\n",
       "        [5. , 3.6, 1.4, 0.2]]),\n",
       " array([[ True,  True, False, False],\n",
       "        [ True, False, False, False],\n",
       "        [False, False, False, False],\n",
       "        [False, False,  True, False],\n",
       "        [ True,  True, False, False]]),\n",
       " array([5.1, 3.5, 4.9, 1.5, 5. , 3.6]),\n",
       " array([4.86, 3.28, 1.4 , 0.2 ]))"
      ]
     },
     "execution_count": 295,
     "metadata": {},
     "output_type": "execute_result"
    }
   ],
   "source": [
    "#6.\n",
    "# 실습형 6 처음 다섯개 행을 이용해서 각 열 평균보다 큰값만 출력\n",
    "sample = iris_data[:5].copy() # 기준\n",
    "np.mean(sample, axis = 0) # 열 평균\n",
    "sample[sample > np.mean(sample, axis=0)]\n",
    "sample, sample>np.mean(sample, axis=0), sample[sample > np.mean(sample, axis=0)], np.mean(sample, axis=0)"
   ]
  },
  {
   "cell_type": "code",
   "execution_count": 296,
   "id": "ab5a6f5a",
   "metadata": {},
   "outputs": [],
   "source": [
    "sample[sample <= np.mean(sample, axis = 0)] = None # 결측치 타입은 실수"
   ]
  },
  {
   "cell_type": "code",
   "execution_count": 297,
   "id": "cf8d643d",
   "metadata": {},
   "outputs": [
    {
     "data": {
      "text/plain": [
       "array([[5.1, 3.5, nan, nan],\n",
       "       [4.9, nan, nan, nan],\n",
       "       [nan, nan, nan, nan],\n",
       "       [nan, nan, 1.5, nan],\n",
       "       [5. , 3.6, nan, nan]])"
      ]
     },
     "metadata": {},
     "output_type": "display_data"
    }
   ],
   "source": [
    "display(sample)"
   ]
  },
  {
   "cell_type": "code",
   "execution_count": 300,
   "id": "70bc89b2",
   "metadata": {},
   "outputs": [
    {
     "data": {
      "text/plain": [
       "array([[5.1, 3.5, None, None],\n",
       "       [4.9, None, None, None],\n",
       "       [None, None, None, None],\n",
       "       [None, None, 1.5, None],\n",
       "       [5.0, 3.6, None, None]], dtype=object)"
      ]
     },
     "execution_count": 300,
     "metadata": {},
     "output_type": "execute_result"
    }
   ],
   "source": [
    "sample = iris_data[:5].copy() # 기준\n",
    "np.where(sample > np.mean(sample, axis=0), sample, None) # (조건, True반환, False반환), 샘플 배열이 바뀌진 않음."
   ]
  },
  {
   "cell_type": "code",
   "execution_count": 302,
   "id": "34498ce9",
   "metadata": {},
   "outputs": [
    {
     "data": {
      "text/plain": [
       "True"
      ]
     },
     "execution_count": 302,
     "metadata": {},
     "output_type": "execute_result"
    }
   ],
   "source": [
    "# 문제풀이형 5번\n",
    "a = np.array([1,2,3,4,5])\n",
    "b = np.array([6,7,8,9,10])\n",
    "answer1 = np.c_[a,b]\n",
    "answer2 = np.column_stack( [a,b] )\n",
    "answer3 = np.hstack((a[:, np.newaxis], b[:, np.newaxis]))\n",
    "answer4 = np.stack([a,b], axis=1)\n",
    "answer5 = np.stack([a,b], axis=-1)\n",
    "answers = [answer1, answer2, answer3, answer4, answer5] \n",
    "all(np.all(answer == answer1) for answer in answers)\n",
    "same_all(*answers)"
   ]
  },
  {
   "cell_type": "code",
   "execution_count": null,
   "id": "6f10c536",
   "metadata": {},
   "outputs": [],
   "source": []
  }
 ],
 "metadata": {
  "kernelspec": {
   "display_name": "Python 3 (ipykernel)",
   "language": "python",
   "name": "python3"
  },
  "language_info": {
   "codemirror_mode": {
    "name": "ipython",
    "version": 3
   },
   "file_extension": ".py",
   "mimetype": "text/x-python",
   "name": "python",
   "nbconvert_exporter": "python",
   "pygments_lexer": "ipython3",
   "version": "3.10.9"
  },
  "toc": {
   "base_numbering": 1,
   "nav_menu": {},
   "number_sections": false,
   "sideBar": true,
   "skip_h1_title": false,
   "title_cell": "Table of Contents",
   "title_sidebar": "Contents",
   "toc_cell": false,
   "toc_position": {
    "height": "calc(100% - 180px)",
    "left": "10px",
    "top": "150px",
    "width": "165px"
   },
   "toc_section_display": true,
   "toc_window_display": true
  }
 },
 "nbformat": 4,
 "nbformat_minor": 5
}
