{
 "cells": [
  {
   "cell_type": "code",
   "execution_count": 1,
   "id": "b3a0fd06",
   "metadata": {},
   "outputs": [
    {
     "data": {
      "text/html": [
       "\n",
       "<style>\n",
       "div.container{width:86% !important;}\n",
       "div.cell.code_cell.rendered{width:100%;}\n",
       "div.CodeMirror {font-family:Consolas; font-size:12pt;}\n",
       "div.output {font-size:12pt; font-weight:bold;}\n",
       "div.input {font-family:Consolas; fo\n",
       "nt-size:12pt;}\n",
       "div.prompt {min-width:70px;}\n",
       "div#toc-wrapper{padding-top:130px;}\n",
       "div.text_cell_render ul li{font-size:12pt;padding:5px;}\n",
       "table.dataframe{font-size:15px;}\n",
       "</style>\n"
      ],
      "text/plain": [
       "<IPython.core.display.HTML object>"
      ]
     },
     "metadata": {},
     "output_type": "display_data"
    }
   ],
   "source": [
    "from IPython.display import display, HTML\n",
    "display(HTML(\"\"\"\n",
    "<style>\n",
    "div.container{width:86% !important;}\n",
    "div.cell.code_cell.rendered{width:100%;}\n",
    "div.CodeMirror {font-family:Consolas; font-size:12pt;}\n",
    "div.output {font-size:12pt; font-weight:bold;}\n",
    "div.input {font-family:Consolas; fo\n",
    "nt-size:12pt;}\n",
    "div.prompt {min-width:70px;}\n",
    "div#toc-wrapper{padding-top:130px;}\n",
    "div.text_cell_render ul li{font-size:12pt;padding:5px;}\n",
    "table.dataframe{font-size:15px;}\n",
    "</style>\n",
    "\"\"\"))"
   ]
  },
  {
   "cell_type": "markdown",
   "id": "0379637d",
   "metadata": {},
   "source": [
    "<b><font size = 5, color = 'red'> ch06 모듈과 패키지 </font></b>\n",
    "- 모듈 : 함수, 변수, 클래스 등을 담고 있는 파이썬 코드 파일 (*.py 파일)\n",
    "- 패키지 : 모듈 들이 포함된 폴더\n",
    "# 1절 파이썬 모듈 사용\n",
    "- anaconda는 1500개 이상의 패키지 install(정확한 개수는 버젼에 따라 상이)\n",
    "- miniconda : python.org 버젼 보다 조금 많이 install(최소한의 것만)\n",
    "- python.org : 파이썬 인터프리터와 함께 파이썬 표준 모듈 200여개 install(re,os,sys,datetime,collections,itertools)"
   ]
  },
  {
   "cell_type": "markdown",
   "id": "794b2894",
   "metadata": {},
   "source": [
    "#### 모듈 import"
   ]
  },
  {
   "cell_type": "code",
   "execution_count": null,
   "id": "03f1aebd",
   "metadata": {},
   "outputs": [],
   "source": [
    "# 1. import 모듈명 : 모듈 안의 함수, 클래스, 변수를 모듈명.함수명()... 사용\n",
    "import time # time 모듈 안의 모든 함수, 클래스, 변수를 메모리에 load\n",
    "time.ctime()"
   ]
  },
  {
   "cell_type": "code",
   "execution_count": null,
   "id": "9b89d6dd",
   "metadata": {},
   "outputs": [],
   "source": [
    "time.time() # 70. 1. 1 0시 부터의 밀리세컨 수"
   ]
  },
  {
   "cell_type": "code",
   "execution_count": null,
   "id": "62a9cdf6",
   "metadata": {},
   "outputs": [],
   "source": [
    "del time # time 모듈에서 unload"
   ]
  },
  {
   "cell_type": "code",
   "execution_count": null,
   "id": "29a00249",
   "metadata": {},
   "outputs": [],
   "source": [
    "# 2. from 모듈(A) import 함수|클래스|변수(B) : A 모듈 안의 B(함수|클래스|변수)만 load\n",
    "#    from 패키지(A) import 모듈(B) : A 패키지 안의 B 모듈을 load\n",
    "#    from 패키지(A).모듈명(B) import 함수|클래스|변수(C) : A패키지 밑 B모듈의 C만 load"
   ]
  },
  {
   "cell_type": "code",
   "execution_count": null,
   "id": "d41d24fe",
   "metadata": {},
   "outputs": [],
   "source": [
    "from time import ctime, time, sleep\n",
    "sleep(0.1)\n",
    "time(), ctime()"
   ]
  },
  {
   "cell_type": "code",
   "execution_count": null,
   "id": "895b65ba",
   "metadata": {},
   "outputs": [],
   "source": [
    "del ctime, time, sleep"
   ]
  },
  {
   "cell_type": "code",
   "execution_count": null,
   "id": "11667836",
   "metadata": {},
   "outputs": [],
   "source": [
    "# 3. import 모듈명 as 별칭 : 모듈을 메모리에서 load할 때 별칭으로 호출\n",
    "import time as t\n",
    "import numpy as np\n",
    "t.ctime(), t.time()\n",
    "del t, np"
   ]
  },
  {
   "cell_type": "code",
   "execution_count": null,
   "id": "c7b72a45",
   "metadata": {},
   "outputs": [],
   "source": [
    "# 4. from 모듈명 import 함수명 as 함수별칭 \n",
    "#    from 패키지명 import 모듈명 as 모듈별칭\n",
    "#    from 패키지명.모듈명 import 함수명 as 함수별칭\n",
    "from time import ctime as ct, time as t\n",
    "ct(), t()"
   ]
  },
  {
   "cell_type": "markdown",
   "id": "e56c59ca",
   "metadata": {},
   "source": [
    "# 2절 사용자 정의 모듈\n",
    "- 모듈 참조 순서 (1) python 표준 모듈 (2) sys.path 변수에 저장된 경로"
   ]
  },
  {
   "cell_type": "markdown",
   "id": "2b1144c0",
   "metadata": {},
   "source": [
    "#### sys.path 설정 :패키지나 모듈을 활용하기 위함 : path 속에 모듈/패키지가 담겨있어야 활용이 가능"
   ]
  },
  {
   "cell_type": "code",
   "execution_count": 2,
   "id": "fea2f6bf",
   "metadata": {},
   "outputs": [
    {
     "data": {
      "text/plain": [
       "['C:\\\\ai_x\\\\source\\\\01_python',\n",
       " 'C:\\\\Users\\\\Admin\\\\anaconda3\\\\python310.zip',\n",
       " 'C:\\\\Users\\\\Admin\\\\anaconda3\\\\DLLs',\n",
       " 'C:\\\\Users\\\\Admin\\\\anaconda3\\\\lib',\n",
       " 'C:\\\\Users\\\\Admin\\\\anaconda3',\n",
       " '',\n",
       " 'C:\\\\Users\\\\Admin\\\\AppData\\\\Roaming\\\\Python\\\\Python310\\\\site-packages',\n",
       " 'C:\\\\Users\\\\Admin\\\\anaconda3\\\\lib\\\\site-packages',\n",
       " 'C:\\\\Users\\\\Admin\\\\anaconda3\\\\lib\\\\site-packages\\\\win32',\n",
       " 'C:\\\\Users\\\\Admin\\\\anaconda3\\\\lib\\\\site-packages\\\\win32\\\\lib',\n",
       " 'C:\\\\Users\\\\Admin\\\\anaconda3\\\\lib\\\\site-packages\\\\Pythonwin']"
      ]
     },
     "execution_count": 2,
     "metadata": {},
     "output_type": "execute_result"
    }
   ],
   "source": [
    "import sys\n",
    "sys.path"
   ]
  },
  {
   "cell_type": "code",
   "execution_count": 3,
   "id": "7a9c8fe3",
   "metadata": {},
   "outputs": [
    {
     "data": {
      "text/plain": [
       "['C:\\\\ai_x\\\\source\\\\01_python',\n",
       " 'C:\\\\Users\\\\Admin\\\\anaconda3\\\\python310.zip',\n",
       " 'C:\\\\Users\\\\Admin\\\\anaconda3\\\\DLLs',\n",
       " 'C:\\\\Users\\\\Admin\\\\anaconda3\\\\lib',\n",
       " 'C:\\\\Users\\\\Admin\\\\anaconda3',\n",
       " '',\n",
       " 'C:\\\\Users\\\\Admin\\\\AppData\\\\Roaming\\\\Python\\\\Python310\\\\site-packages',\n",
       " 'C:\\\\Users\\\\Admin\\\\anaconda3\\\\lib\\\\site-packages',\n",
       " 'C:\\\\Users\\\\Admin\\\\anaconda3\\\\lib\\\\site-packages\\\\win32',\n",
       " 'C:\\\\Users\\\\Admin\\\\anaconda3\\\\lib\\\\site-packages\\\\win32\\\\lib',\n",
       " 'C:\\\\Users\\\\Admin\\\\anaconda3\\\\lib\\\\site-packages\\\\Pythonwin',\n",
       " 'C:\\\\ai_x\\\\source\\\\pylib']"
      ]
     },
     "execution_count": 3,
     "metadata": {},
     "output_type": "execute_result"
    }
   ],
   "source": [
    "sys.path.append(r'C:\\ai_x\\source\\pylib') #insert로 우선순위를 높혀서 조금이라도 최적화 가능\n",
    "sys.path # ()안붙인 걸 봐서 변수라고 알 수 있다"
   ]
  },
  {
   "cell_type": "code",
   "execution_count": null,
   "id": "0c103da6",
   "metadata": {},
   "outputs": [],
   "source": [
    "sys.path"
   ]
  },
  {
   "cell_type": "code",
   "execution_count": null,
   "id": "ad5d5fe4",
   "metadata": {},
   "outputs": [],
   "source": [
    "# 1\n",
    "import fibo\n",
    "fibo.fibonacci_print(100)\n",
    "fibo.fibonacci_return(100)"
   ]
  },
  {
   "cell_type": "code",
   "execution_count": null,
   "id": "e53a42f9",
   "metadata": {},
   "outputs": [],
   "source": [
    "# 2\n",
    "from fibo import fibonacci_return\n",
    "print(fibonacci_return(1000))\n",
    "print(fibo.fibo(16))"
   ]
  },
  {
   "cell_type": "code",
   "execution_count": null,
   "id": "58bbcd65",
   "metadata": {},
   "outputs": [],
   "source": [
    "# 3\n",
    "import fibo as f\n",
    "f.fibonacci_print(1000)\n",
    "print(f.fibonacci_return(1000))"
   ]
  },
  {
   "cell_type": "code",
   "execution_count": null,
   "id": "06a5b946",
   "metadata": {},
   "outputs": [],
   "source": [
    "# 4\n",
    "from fibo import fibonacci_print as fbpt, fibonacci_return as fbrt\n",
    "fbpt(1000)\n",
    "print(fbrt(1000))"
   ]
  },
  {
   "cell_type": "markdown",
   "id": "b02bab0a",
   "metadata": {},
   "source": [
    "# 3절 패키지"
   ]
  },
  {
   "cell_type": "code",
   "execution_count": null,
   "id": "42a3f04f",
   "metadata": {},
   "outputs": [],
   "source": [
    "import sample_pack # vscode를 통해 ai_x/source/pylib을 만들고 sample_pack 폴더를 생성, __init__.py를 생성해서 패키지 형성"
   ]
  },
  {
   "cell_type": "code",
   "execution_count": null,
   "id": "09749e87",
   "metadata": {},
   "outputs": [],
   "source": [
    "from sample_pack.ab import *\n",
    "a.hello()"
   ]
  },
  {
   "cell_type": "code",
   "execution_count": null,
   "id": "e362e8ec",
   "metadata": {},
   "outputs": [],
   "source": [
    "from sample_pack.ab.b import world\n",
    "world()"
   ]
  },
  {
   "cell_type": "code",
   "execution_count": null,
   "id": "0401f637",
   "metadata": {},
   "outputs": [],
   "source": [
    "## 재로드 : importlib.reload(재로드할 명칭)\n",
    "import importlib\n",
    "importlib.reload(sample_pack)\n",
    "importlib.reload(sample_pack.ab)"
   ]
  },
  {
   "cell_type": "code",
   "execution_count": 4,
   "id": "2c46d8e6",
   "metadata": {},
   "outputs": [
    {
     "name": "stdout",
     "output_type": "stream",
     "text": [
      "sample_pack 패키지를 load 했습니다.\n",
      "cd 패키지를 load 했습니다.\n",
      "sample_pack 안의 ab 패키지를 load 했습니다.\n",
      "sample_pakc/ab/a모듈 load 했습니다.\n",
      "sample_pack/cd/c모듈안의 Nice!\n",
      "sample_pakc/ab/a모듈의 hello\n"
     ]
    }
   ],
   "source": [
    "from sample_pack.cd import c\n",
    "c.nice()"
   ]
  },
  {
   "cell_type": "code",
   "execution_count": 7,
   "id": "a088b5ba",
   "metadata": {},
   "outputs": [
    {
     "name": "stdout",
     "output_type": "stream",
     "text": [
      "sample_pakc/ab/a모듈의 hello\n"
     ]
    }
   ],
   "source": [
    "import sample_pack.cd.c as c\n",
    "# c.nice()\n",
    "c.a.hello()"
   ]
  },
  {
   "cell_type": "markdown",
   "id": "e1be1147",
   "metadata": {},
   "source": [
    "# 4절 패키지 설치 및 삭제\n",
    "pypi.org\n",
    "- 패키지 설치 방법 : pip install 패키지명 == 버젼 // python -m pip install --upgrade pip : pip를 최신버젼으로\n",
    "- 패키지 설치 방법 : conda install 패키지명 == 버젼\n",
    "- 패키지 설치 방법 : pip install 패키지파일명(*.whl) # 출처는 pypi.org\n",
    "- 패키지 확인 방법 : pip show 패키지명 cf) 콘다의 경우 conda list 패키지명\n",
    "- 패키지 삭제 방법 : pip uninstall 패키지명 cf) 콘다의 경우 conda remove 패키지명"
   ]
  },
  {
   "cell_type": "code",
   "execution_count": 12,
   "id": "329b2e36",
   "metadata": {},
   "outputs": [],
   "source": [
    "import objgraph # 메모리 사용량 출력하는 함수 : 아나콘다 프롬프트에서 실행"
   ]
  },
  {
   "cell_type": "code",
   "execution_count": 13,
   "id": "1dd6792e",
   "metadata": {},
   "outputs": [
    {
     "name": "stdout",
     "output_type": "stream",
     "text": [
      "dict          34248\n",
      "list          28210\n",
      "function      18553\n",
      "Token         16775\n",
      "tuple         13123\n",
      "Operator      10498\n",
      "Name          9439\n",
      "PythonNode    6738\n",
      "ReferenceType 5483\n",
      "DFAPlan       5418\n"
     ]
    }
   ],
   "source": [
    "objgraph.show_most_common_types()"
   ]
  },
  {
   "cell_type": "markdown",
   "id": "594e42df",
   "metadata": {},
   "source": [
    "# 5 연습문제"
   ]
  },
  {
   "cell_type": "code",
   "execution_count": 14,
   "id": "3c472d9e",
   "metadata": {},
   "outputs": [],
   "source": [
    "# 1. 3번 : 파이썬 표준 라이브러리 또한 import 해야한다.\n",
    "# 2. 4번 : ct로 별칭을 주었기 때문에 ct()로 실행한다.\n",
    "# 3. __init__.py\n",
    "# 4. __all__ = [str]\n",
    "# :: import * 은 __init__.py 속 __all__의 리스트 속에 패키지 안에 있는 서브 모듈명을 str형태로 담아놔야 *에 담긴다.(환경설정)\n",
    "# 5. 1번 : pip 업그레이드 방법 pip -m pip install --upgrade pip"
   ]
  },
  {
   "cell_type": "code",
   "execution_count": 16,
   "id": "4d972d05",
   "metadata": {},
   "outputs": [
    {
     "data": {
      "text/plain": [
       "['__call__',\n",
       " '__class__',\n",
       " '__delattr__',\n",
       " '__dir__',\n",
       " '__doc__',\n",
       " '__eq__',\n",
       " '__format__',\n",
       " '__ge__',\n",
       " '__getattribute__',\n",
       " '__gt__',\n",
       " '__hash__',\n",
       " '__init__',\n",
       " '__init_subclass__',\n",
       " '__le__',\n",
       " '__lt__',\n",
       " '__module__',\n",
       " '__name__',\n",
       " '__ne__',\n",
       " '__new__',\n",
       " '__qualname__',\n",
       " '__reduce__',\n",
       " '__reduce_ex__',\n",
       " '__repr__',\n",
       " '__self__',\n",
       " '__setattr__',\n",
       " '__sizeof__',\n",
       " '__str__',\n",
       " '__subclasshook__',\n",
       " '__text_signature__']"
      ]
     },
     "execution_count": 16,
     "metadata": {},
     "output_type": "execute_result"
    }
   ],
   "source": [
    "dir(sum)"
   ]
  },
  {
   "cell_type": "code",
   "execution_count": null,
   "id": "93dc0de4",
   "metadata": {},
   "outputs": [],
   "source": []
  }
 ],
 "metadata": {
  "kernelspec": {
   "display_name": "Python 3 (ipykernel)",
   "language": "python",
   "name": "python3"
  },
  "language_info": {
   "codemirror_mode": {
    "name": "ipython",
    "version": 3
   },
   "file_extension": ".py",
   "mimetype": "text/x-python",
   "name": "python",
   "nbconvert_exporter": "python",
   "pygments_lexer": "ipython3",
   "version": "3.10.9"
  },
  "toc": {
   "base_numbering": 1,
   "nav_menu": {},
   "number_sections": false,
   "sideBar": true,
   "skip_h1_title": false,
   "title_cell": "Table of Contents",
   "title_sidebar": "Contents",
   "toc_cell": false,
   "toc_position": {
    "height": "calc(100% - 180px)",
    "left": "10px",
    "top": "150px",
    "width": "201.352px"
   },
   "toc_section_display": true,
   "toc_window_display": true
  }
 },
 "nbformat": 4,
 "nbformat_minor": 5
}
