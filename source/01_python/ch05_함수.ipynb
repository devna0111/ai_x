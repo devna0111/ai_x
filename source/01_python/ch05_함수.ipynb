{
 "cells": [
  {
   "cell_type": "code",
   "execution_count": 14,
   "id": "9ec96c95",
   "metadata": {},
   "outputs": [
    {
     "data": {
      "text/html": [
       "\n",
       "<style>\n",
       "div.container{width:86% !important;}\n",
       "div.cell.code_cell.rendered{width:100%;}\n",
       "div.CodeMirror {font-family:Consolas; font-size:12pt;}\n",
       "div.output {font-size:12pt; font-weight:bold;}\n",
       "div.input {font-family:Consolas; fo\n",
       "nt-size:12pt;}\n",
       "div.prompt {min-width:70px;}\n",
       "div#toc-wrapper{padding-top:130px;}\n",
       "div.text_cell_render ul li{font-size:12pt;padding:5px;}\n",
       "table.dataframe{font-size:15px;}\n",
       "</style>\n"
      ],
      "text/plain": [
       "<IPython.core.display.HTML object>"
      ]
     },
     "metadata": {},
     "output_type": "display_data"
    }
   ],
   "source": [
    "from IPython.display import display, HTML\n",
    "display(HTML(\"\"\"\n",
    "<style>\n",
    "div.container{width:86% !important;}\n",
    "div.cell.code_cell.rendered{width:100%;}\n",
    "div.CodeMirror {font-family:Consolas; font-size:12pt;}\n",
    "div.output {font-size:12pt; font-weight:bold;}\n",
    "div.input {font-family:Consolas; fo\n",
    "nt-size:12pt;}\n",
    "div.prompt {min-width:70px;}\n",
    "div#toc-wrapper{padding-top:130px;}\n",
    "div.text_cell_render ul li{font-size:12pt;padding:5px;}\n",
    "table.dataframe{font-size:15px;}\n",
    "</style>\n",
    "\"\"\"))"
   ]
  },
  {
   "cell_type": "markdown",
   "id": "88bdcbf6",
   "metadata": {},
   "source": [
    "<b><font size = 5, color = 'red'> ch05 함수 </font></b>\n",
    "- 사용할 코드를 묶어 놓고 그것에 이름을 붙인 것\n",
    "- 오버로딩(같은 이름의 함수를 매개 변수의 개수나 타입을 달리해서 사용) 불가 \n",
    "    : 자바에서는 \n",
    "        void print(int a) {system.out.println(a);}\n",
    "        void print(string a) {system.out.println(a);}\n",
    "      위와 같이 함수에 기능을 추가할 수 있는데 파이썬은 불가능하다.\n",
    "    : a=10 ; a=20 ; 처럼 (기능성 처리 변수) 의 할당의 개념으로 생각하자\n",
    "- 함수의 정의\n",
    "```\n",
    "def 함수명(매개변수1, 매개변수2, ......매개변수n) :\n",
    "    함수 호출 시 실행할 내용 : 명령어 1\n",
    "    함수 호출 시 실행할 내용 : 명령어 2\n",
    "    ......\n",
    "    함수 호출 시 실행할 내용 : 명령어 n\n",
    "```\n",
    "\n",
    "# 1절 함수의 정의 및 사용\n",
    "\n",
    "## 1.1 함수 정의"
   ]
  },
  {
   "cell_type": "code",
   "execution_count": 2,
   "id": "e0afe326",
   "metadata": {},
   "outputs": [
    {
     "name": "stdout",
     "output_type": "stream",
     "text": [
      "황금독수리 온 세상을 놀라게 하다\n",
      "황금독수리 온 세상을 놀라게 하다\n",
      "황금독수리 온 세상을 놀라게 하다\n"
     ]
    }
   ],
   "source": [
    "# 함수의 정의\n",
    "def my_msg(x=1, msg='공란') : # msg를 x번 출력하는 함수 \n",
    "    for i in range(x) :\n",
    "        print(msg)\n",
    "# 함수의 사용 / 함수의 호출\n",
    "my_msg(3,'황금독수리 온 세상을 놀라게 하다')"
   ]
  },
  {
   "cell_type": "code",
   "execution_count": 54,
   "id": "caf0bb14",
   "metadata": {},
   "outputs": [
    {
     "name": "stdout",
     "output_type": "stream",
     "text": [
      "이게 되네\n"
     ]
    }
   ],
   "source": [
    "mmsg = my_msg # 함수형 언어! 함수 이름의 재정의 (함수형 변수 선언이 가능하면 함수형 언어라고 하며 파이썬과 자바스크립트가 있다.)\n",
    "mmsg(1, '이게 되네')"
   ]
  },
  {
   "cell_type": "code",
   "execution_count": 55,
   "id": "f64825b1",
   "metadata": {},
   "outputs": [
    {
     "data": {
      "text/plain": [
       "(function, function)"
      ]
     },
     "execution_count": 55,
     "metadata": {},
     "output_type": "execute_result"
    }
   ],
   "source": [
    "type(my_msg), type(mmsg)"
   ]
  },
  {
   "cell_type": "code",
   "execution_count": 56,
   "id": "582d37a1",
   "metadata": {},
   "outputs": [
    {
     "data": {
      "text/plain": [
       "(2434439049520, 2434439049520)"
      ]
     },
     "execution_count": 56,
     "metadata": {},
     "output_type": "execute_result"
    }
   ],
   "source": [
    "id(my_msg), id(mmsg)"
   ]
  },
  {
   "cell_type": "code",
   "execution_count": 5,
   "id": "53d4bad5",
   "metadata": {},
   "outputs": [
    {
     "name": "stdout",
     "output_type": "stream",
     "text": [
      "Hello\n",
      "Hello\n",
      "<class 'builtin_function_or_method'>\n"
     ]
    },
    {
     "data": {
      "text/plain": [
       "(None, None)"
      ]
     },
     "execution_count": 5,
     "metadata": {},
     "output_type": "execute_result"
    }
   ],
   "source": [
    "print('Hello') # 파이썬 내장함수 : import 없이 사용이 가능하다.\n",
    "print = 5\n",
    "# print('Hello')\n",
    "del print # 변수를 제거한다.\n",
    "print('Hello'), print(type(print))"
   ]
  },
  {
   "cell_type": "code",
   "execution_count": 58,
   "id": "b66e5887",
   "metadata": {},
   "outputs": [
    {
     "name": "stdout",
     "output_type": "stream",
     "text": [
      "공란\n",
      "공란\n"
     ]
    }
   ],
   "source": [
    "mmsg()\n",
    "del mmsg # 기능성 변수 할당은 제거가 되네?\n",
    "my_msg()"
   ]
  },
  {
   "cell_type": "markdown",
   "id": "ca21e44d",
   "metadata": {},
   "source": [
    "- 함수명으로 변수를 할당하면 함수가 변수로 다시 참조하면서 함수가 사라진다.\n",
    "- 이 변수를 del 한다고 해서 함수가 살아나지 않음 : 기존 정보가 모두 삭제된다. (파이썬 내장함수가 아니어서 불가능하다.)"
   ]
  },
  {
   "cell_type": "code",
   "execution_count": 9,
   "id": "0078a7a2",
   "metadata": {},
   "outputs": [],
   "source": [
    "# 함수 정의\n",
    "def my_hello() :\n",
    "    print('hello, Python')\n",
    "    print('hello, World')\n",
    "# 함수가 정의되면 그 이후 반드시 테스트를 진행해야한다. 내 화면이 아닌 다른 사용자의 화면에서 사용이 가능한가 체크해야한다.\n",
    "def my_hello(cnt=1) :\n",
    "    for i in range(cnt) :\n",
    "        print('hello, Python')\n",
    "        print('hello, World')"
   ]
  },
  {
   "cell_type": "code",
   "execution_count": 12,
   "id": "6983188d",
   "metadata": {},
   "outputs": [
    {
     "name": "stdout",
     "output_type": "stream",
     "text": [
      "hello, Python\n",
      "hello, World\n",
      "hello, Python\n",
      "hello, World\n"
     ]
    }
   ],
   "source": [
    "# 함수의 사용 == 함수의 호출\n",
    "my_hello(2)"
   ]
  },
  {
   "cell_type": "code",
   "execution_count": 13,
   "id": "4bd1c6ef",
   "metadata": {},
   "outputs": [
    {
     "data": {
      "text/plain": [
       "<function __main__.my_hello(cnt=1)>"
      ]
     },
     "execution_count": 13,
     "metadata": {},
     "output_type": "execute_result"
    }
   ],
   "source": [
    "my_hello  # __main__. -> __main__ 의 함수 my_hello(cnt = 1)이다"
   ]
  },
  {
   "cell_type": "code",
   "execution_count": 14,
   "id": "56e547ee",
   "metadata": {
    "scrolled": true
   },
   "outputs": [
    {
     "data": {
      "text/plain": [
       "'__main__'"
      ]
     },
     "execution_count": 14,
     "metadata": {},
     "output_type": "execute_result"
    }
   ],
   "source": [
    "__name__ # __main__ : 지금 실행중인 메인 파일"
   ]
  },
  {
   "cell_type": "markdown",
   "id": "8379f531",
   "metadata": {},
   "source": [
    "### * 자체 제작 함수의 테스트"
   ]
  },
  {
   "cell_type": "code",
   "execution_count": 15,
   "id": "b84f28eb",
   "metadata": {},
   "outputs": [
    {
     "name": "stdout",
     "output_type": "stream",
     "text": [
      "hello, Python\n",
      "hello, World\n",
      "hello, Python\n",
      "hello, World\n"
     ]
    }
   ],
   "source": [
    "# 아래와 같은 구문을 추가하여 확인이 가능하다.\n",
    "if __name__ == '__main__' :\n",
    "    my_hello(2)\n",
    "    \n",
    "# 함수 기능을 구현하고 해당 커널에서 실행할 때,\n",
    "# 해당 커널의 __name__ == '__main__' 이기 때문에\n",
    "# 해당 커널에서는 실행되지만 다른 페이지에서는 실행되지 않음."
   ]
  },
  {
   "cell_type": "code",
   "execution_count": 4,
   "id": "90d13600",
   "metadata": {},
   "outputs": [
    {
     "data": {
      "text/plain": [
       "['__builtins__',\n",
       " '__cached__',\n",
       " '__doc__',\n",
       " '__file__',\n",
       " '__loader__',\n",
       " '__name__',\n",
       " '__package__',\n",
       " '__spec__',\n",
       " 'my_hello']"
      ]
     },
     "execution_count": 4,
     "metadata": {},
     "output_type": "execute_result"
    }
   ],
   "source": [
    "import ch05 # ch05 모듈을 load\n",
    "dir(ch05)\n",
    "ch05.my_hello()"
   ]
  },
  {
   "cell_type": "code",
   "execution_count": 1,
   "id": "76aa1406",
   "metadata": {},
   "outputs": [
    {
     "name": "stdout",
     "output_type": "stream",
     "text": [
      "hello, Python\n",
      "hello, World\n",
      "hello, Python\n",
      "hello, World\n",
      "hello, Python\n",
      "hello, World\n",
      "hello, Python\n",
      "hello, World\n",
      "hello, Python\n",
      "hello, World\n"
     ]
    }
   ],
   "source": [
    "from ch05 import my_hello # ch05 모듈 속 my_hello() load\n",
    "my_hello(5)"
   ]
  },
  {
   "cell_type": "markdown",
   "id": "f1143aeb",
   "metadata": {},
   "source": [
    "## 1.2 docstring"
   ]
  },
  {
   "cell_type": "code",
   "execution_count": 6,
   "id": "a1f7642f",
   "metadata": {},
   "outputs": [],
   "source": [
    "def my_function() :\n",
    "    '''\n",
    "    함수의 첫 라인데 독스트링을 포함할 수 있습니다. \n",
    "    독스트링은 함수의 설명서를 달아주는 역할\n",
    "    주석보다 많은 기능(shirt + tab 으로 독스트링을 볼 수 있음)\n",
    "    '''\n",
    "    pass"
   ]
  },
  {
   "cell_type": "code",
   "execution_count": 8,
   "id": "8ced986c",
   "metadata": {},
   "outputs": [
    {
     "name": "stdout",
     "output_type": "stream",
     "text": [
      "\n",
      "    함수의 첫 라인데 독스트링을 포함할 수 있습니다. \n",
      "    독스트링은 함수의 설명서를 달아주는 역할\n",
      "    주석보다 많은 기능(shirt + tab 으로 독스트링을 볼 수 있음)\n",
      "    \n"
     ]
    }
   ],
   "source": [
    "print(my_function.__doc__) # 독스트링만 보는 방법 : .__doc__"
   ]
  },
  {
   "cell_type": "code",
   "execution_count": 53,
   "id": "c9508927",
   "metadata": {},
   "outputs": [
    {
     "name": "stdout",
     "output_type": "stream",
     "text": [
      "0 1 1 2 3 5 8 \n"
     ]
    }
   ],
   "source": [
    "def fibonacci(n) :\n",
    "    '''\n",
    "    피보나치 수열 중 n 보다 작지만 가장 큰 값을 체크할 수 있으며 그 이전까지의 수열을 모두 보여줌.\n",
    "    '''\n",
    "    a,b = 0, 1\n",
    "    while a < n :\n",
    "        print(a, end = ' ')\n",
    "        a, b = b, a+b\n",
    "    print() # 개행\n",
    "fibonacci(10) \n",
    "# a,b : 함수 속 변수들은 함수의 인자로 함수 밖에서 체크가 불가능하다. 로컬 영역에 있기 때문에."
   ]
  },
  {
   "cell_type": "markdown",
   "id": "75423e76",
   "metadata": {},
   "source": [
    "## 1.3 지역변수(local var)와 전역변수(global var)"
   ]
  },
  {
   "cell_type": "code",
   "execution_count": 57,
   "id": "6e2a1f19",
   "metadata": {},
   "outputs": [
    {
     "name": "stdout",
     "output_type": "stream",
     "text": [
      "함수 안 : 100\n",
      "함수 밖 : 100\n"
     ]
    }
   ],
   "source": [
    "global_var = 100 # 전역변수\n",
    "def func1() :\n",
    "    print('함수 안 :', global_var)\n",
    "func1()\n",
    "print('함수 밖 :', global_var)"
   ]
  },
  {
   "cell_type": "code",
   "execution_count": 62,
   "id": "e0018748",
   "metadata": {},
   "outputs": [
    {
     "name": "stdout",
     "output_type": "stream",
     "text": [
      "함수 안 : 200\n"
     ]
    }
   ],
   "source": [
    "def func2() :\n",
    "    local_var = 200 # 지역변수\n",
    "    print('함수 안 :', local_var) \n",
    "func2()\n",
    "# print('함수 밖 :', local_var) # NameError: name 'local_var' is not defined"
   ]
  },
  {
   "cell_type": "code",
   "execution_count": 91,
   "id": "ce4df033",
   "metadata": {},
   "outputs": [
    {
     "name": "stdout",
     "output_type": "stream",
     "text": [
      "함수 안 : 200\n",
      "함수 밖 : 100\n"
     ]
    }
   ],
   "source": [
    "g_var = 100 # 전역변수\n",
    "def func3() :\n",
    "    g_var = 200 # 지역변수를 할당(임시변수로 함수 변수 영역에 할당)\n",
    "    print('함수 안 :', g_var) # 지역변수를 호출함\n",
    "\n",
    "func3()\n",
    "print('함수 밖 :',g_var)"
   ]
  },
  {
   "cell_type": "code",
   "execution_count": 97,
   "id": "107fb317",
   "metadata": {},
   "outputs": [
    {
     "ename": "UnboundLocalError",
     "evalue": "local variable 'g_var' referenced before assignment",
     "output_type": "error",
     "traceback": [
      "\u001b[1;31m---------------------------------------------------------------------------\u001b[0m",
      "\u001b[1;31mUnboundLocalError\u001b[0m                         Traceback (most recent call last)",
      "Cell \u001b[1;32mIn[97], line 11\u001b[0m\n\u001b[0;32m      6\u001b[0m     \u001b[38;5;28mprint\u001b[39m(\u001b[38;5;124m'\u001b[39m\u001b[38;5;124m함수 안 :\u001b[39m\u001b[38;5;124m'\u001b[39m, g_var)\n\u001b[0;32m      7\u001b[0m     \u001b[38;5;66;03m# 변수 선언 먼저 컴파일 이후 절차에 따라 진해됨. \u001b[39;00m\n\u001b[0;32m      8\u001b[0m     \u001b[38;5;66;03m#이에 따라 g_var를 4번 줄에서 g_var를 변수로 선언,할당 하게되면 g_var라는 변수가 로컬 심볼 테이블에 우선 선언되고 \u001b[39;00m\n\u001b[0;32m      9\u001b[0m     \u001b[38;5;66;03m# 이에 따라 3번 줄에 선언 오류가 발생할 수 밖에 없음.\u001b[39;00m\n\u001b[1;32m---> 11\u001b[0m \u001b[43mfunc4\u001b[49m\u001b[43m(\u001b[49m\u001b[43m)\u001b[49m\n",
      "Cell \u001b[1;32mIn[97], line 4\u001b[0m, in \u001b[0;36mfunc4\u001b[1;34m()\u001b[0m\n\u001b[0;32m      3\u001b[0m \u001b[38;5;28;01mdef\u001b[39;00m \u001b[38;5;21mfunc4\u001b[39m() :\n\u001b[1;32m----> 4\u001b[0m     \u001b[38;5;28mprint\u001b[39m(\u001b[38;5;124m'\u001b[39m\u001b[38;5;124m함수 안 :\u001b[39m\u001b[38;5;124m'\u001b[39m, \u001b[43mg_var\u001b[49m) \u001b[38;5;66;03m# local variable 'g_var' referenced before assignment : \u001b[39;00m\n\u001b[0;32m      5\u001b[0m     g_var \u001b[38;5;241m=\u001b[39m \u001b[38;5;241m200\u001b[39m \u001b[38;5;66;03m# 지역변수\u001b[39;00m\n\u001b[0;32m      6\u001b[0m     \u001b[38;5;28mprint\u001b[39m(\u001b[38;5;124m'\u001b[39m\u001b[38;5;124m함수 안 :\u001b[39m\u001b[38;5;124m'\u001b[39m, g_var)\n",
      "\u001b[1;31mUnboundLocalError\u001b[0m: local variable 'g_var' referenced before assignment"
     ]
    }
   ],
   "source": [
    "# 렉시컬 특성 lexical \n",
    "g_var = 100 # 전역변수\n",
    "def func4() :\n",
    "    print('함수 안 :', g_var) # local variable 'g_var' referenced before assignment : \n",
    "    g_var = 200 # 지역변수\n",
    "    print('함수 안 :', g_var)\n",
    "    # 변수 선언 먼저 컴파일 이후 절차에 따라 진해됨. \n",
    "    #이에 따라 g_var를 4번 줄에서 g_var를 변수로 선언,할당 하게되면 g_var라는 변수가 로컬 심볼 테이블에 우선 [선언]되고 \n",
    "    # 이에 따라 3번 줄에 선언 오류가 발생할 수 밖에 없음.\n",
    "    \n",
    "func4()"
   ]
  },
  {
   "cell_type": "code",
   "execution_count": 102,
   "id": "aa406150",
   "metadata": {},
   "outputs": [
    {
     "name": "stdout",
     "output_type": "stream",
     "text": [
      "함수 밖 : 100\n",
      "함수 안 : 100\n",
      "함수 안 : 300\n",
      "함수 밖 : 300\n"
     ]
    }
   ],
   "source": [
    "# 렉시컬 특성 lexical \n",
    "g_var = 100 # 전역변수\n",
    "print('함수 밖 :', g_var)\n",
    "def func4() :\n",
    "    global g_var # func4 함수 내의 g_var는 전역변수임을 선언\n",
    "    print('함수 안 :', g_var)\n",
    "    g_var += 200 \n",
    "    print('함수 안 :', g_var)\n",
    "func4()\n",
    "print('함수 밖 :', g_var)"
   ]
  },
  {
   "cell_type": "markdown",
   "id": "bcb8c177",
   "metadata": {},
   "source": [
    "## 1.4 값에 의한 호출\n",
    "- 함수의 매개변수(인수)로 전달되는 변수가 스칼라 변수(문자, 숫자, 논리형)일 때"
   ]
  },
  {
   "cell_type": "code",
   "execution_count": 4,
   "id": "b7efab73",
   "metadata": {},
   "outputs": [
    {
     "data": {
      "text/plain": [
       "1962723272624"
      ]
     },
     "execution_count": 4,
     "metadata": {},
     "output_type": "execute_result"
    }
   ],
   "source": [
    "foo = 'a' # 전역변수, 스칼라 변수\n",
    "id(foo)"
   ]
  },
  {
   "cell_type": "code",
   "execution_count": 17,
   "id": "be3e2524",
   "metadata": {},
   "outputs": [
    {
     "name": "stdout",
     "output_type": "stream",
     "text": [
      "a\n",
      "Before : a id(f) : 1962723272624\n",
      "After : aaa id(f) : 1960653623280\n"
     ]
    },
    {
     "data": {
      "text/plain": [
       "(1962723272624, 140714894454464, 1960682716784)"
      ]
     },
     "execution_count": 17,
     "metadata": {},
     "output_type": "execute_result"
    }
   ],
   "source": [
    "def func1(f) : # 매개변수는 지역변수\n",
    "    print('Before :', f, 'id(f) :', id(f))\n",
    "    f = f*3 # f에 3f를 재할당한다. : 주소가 바뀐다!\n",
    "    print('After :', f, 'id(f) :', id(f))\n",
    "\n",
    "print(foo)\n",
    "id(foo), id(func1(foo)), id('aaa')"
   ]
  },
  {
   "cell_type": "code",
   "execution_count": 3,
   "id": "a19127da",
   "metadata": {},
   "outputs": [
    {
     "name": "stdout",
     "output_type": "stream",
     "text": [
      "a\n"
     ]
    }
   ],
   "source": [
    "print(foo)"
   ]
  },
  {
   "cell_type": "markdown",
   "id": "6b5dfb9e",
   "metadata": {},
   "source": [
    "## 1.5 참조에 의한 호출\n",
    "- 함수의 매개변수(인자)로 전달되는 변수가 리스트, 튜플, 셋, 딕셔너리 객체 일 경우"
   ]
  },
  {
   "cell_type": "code",
   "execution_count": 10,
   "id": "baeac17e",
   "metadata": {},
   "outputs": [
    {
     "data": {
      "text/plain": [
       "1960682880640"
      ]
     },
     "execution_count": 10,
     "metadata": {},
     "output_type": "execute_result"
    }
   ],
   "source": [
    "L = [1, 2, 3,]\n",
    "id(L)"
   ]
  },
  {
   "cell_type": "code",
   "execution_count": 8,
   "id": "f1af0311",
   "metadata": {},
   "outputs": [
    {
     "name": "stdout",
     "output_type": "stream",
     "text": [
      "Before : [1, 2, 3]\n",
      "After  : [1, 2, 3, 4]\n"
     ]
    },
    {
     "data": {
      "text/plain": [
       "(None, 1960653497664, [1, 2, 3, 4])"
      ]
     },
     "execution_count": 8,
     "metadata": {},
     "output_type": "execute_result"
    }
   ],
   "source": [
    "def func2(f) : \n",
    "    # 매개변수는 지역변수 : 리스트 등 여러 데이터가 담겨있는 객체는 스칼라 객체보다 상대적으로 무거워서 할당을 할 때 다른 주소로 할당하면 성능의 저하가 발생하기 때문에\n",
    "    # 같은 주소를 참조시킨다. 원본데이터를 보존하려면 .copy()를 하여 새로운 객체를 만드는 것이 안전하다.\n",
    "    print('Before :', f)\n",
    "    f.append(4)\n",
    "    print('After  :', f)\n",
    "func2(L), id(L), L"
   ]
  },
  {
   "cell_type": "code",
   "execution_count": 16,
   "id": "25040e92",
   "metadata": {},
   "outputs": [
    {
     "name": "stdout",
     "output_type": "stream",
     "text": [
      "Before : [1, 2, 3] 1960683092032\n",
      "After  : [1, 2, 3, 4] 1960683092032\n"
     ]
    },
    {
     "data": {
      "text/plain": [
       "(None, 1960682880640, [1, 2, 3])"
      ]
     },
     "execution_count": 16,
     "metadata": {},
     "output_type": "execute_result"
    }
   ],
   "source": [
    "def func3(f) : # 매개변수는 지역변수\n",
    "    k = f.copy()\n",
    "    print('Before :', k, id(k))\n",
    "    k.append(4)\n",
    "    print('After  :', k, id(k))\n",
    "func3(L), id(L), L"
   ]
  },
  {
   "cell_type": "markdown",
   "id": "f18d1701",
   "metadata": {},
   "source": [
    "# 2절 함수의 실행결과를 반환하는 return"
   ]
  },
  {
   "cell_type": "code",
   "execution_count": 59,
   "id": "721129fc",
   "metadata": {},
   "outputs": [
    {
     "name": "stdout",
     "output_type": "stream",
     "text": [
      "0 1 1 2 3 5 8 \n"
     ]
    },
    {
     "data": {
      "text/plain": [
       "[0, 1, 1, 2, 3, 5, 8, 13, 21, 34, 55]"
      ]
     },
     "execution_count": 59,
     "metadata": {},
     "output_type": "execute_result"
    }
   ],
   "source": [
    "def fibonacci_print(n) :\n",
    "    '''\n",
    "    매개변수도 들어온 n값 미만의 피보나치 수열을 출력\n",
    "    ex. n = 10이면 0, 1, 1, 2, 3, 5, 8 출력\n",
    "    '''\n",
    "    a,b = 0, 1\n",
    "    while a < n :\n",
    "        print(a, end = ' ')\n",
    "        a, b = b, a+b\n",
    "    print() # 개행\n",
    "fibonacci_print(10) \n",
    "\n",
    "def fibonacci_return(n) :\n",
    "    '''\n",
    "    매개변수도 들어온 n값 미만의 피보나치 수열을 리스트로 return\n",
    "    ex. n = 10 이면 [0, 1, 1, 2, 3, 5, 8] return\n",
    "    '''\n",
    "    fibo = []\n",
    "    a,b = 0, 1\n",
    "    while a < n :\n",
    "        fibo.append(a)\n",
    "        a, b = b, a+b\n",
    "    return fibo\n",
    "fibonacci_return(10) \n",
    "\n",
    "def fibo(n) :\n",
    "    '''\n",
    "    매개변수 n번째 피보나치 수를 return\n",
    "    '''\n",
    "    answer = [0] * (n + 1)\n",
    "    answer[0] = 0 ; answer[1] = 1\n",
    "    for i in range(2, n+1) :\n",
    "        answer[i] = answer[i-1] + answer[i - 2]\n",
    "    return answer\n",
    "fibo(10)"
   ]
  },
  {
   "cell_type": "code",
   "execution_count": 82,
   "id": "bcaec949",
   "metadata": {},
   "outputs": [
    {
     "name": "stdout",
     "output_type": "stream",
     "text": [
      "0 1 1 2 3 5 8 13 21 34 55 89 \n",
      "None\n",
      "<class 'NoneType'>\n"
     ]
    }
   ],
   "source": [
    "x = fibonacci_print(100)\n",
    "print(x)\n",
    "print(type(x)) # 리턴 값이 없고 프린트로 보여주는 용도. x는 None타입"
   ]
  },
  {
   "cell_type": "code",
   "execution_count": 63,
   "id": "e68573d3",
   "metadata": {},
   "outputs": [
    {
     "name": "stdout",
     "output_type": "stream",
     "text": [
      "[0, 1, 1, 2, 3, 5, 8, 13, 21, 34, 55, 89]\n",
      "<class 'list'>\n"
     ]
    }
   ],
   "source": [
    "y = fibonacci_return(100)\n",
    "print(y)\n",
    "print(type(y))"
   ]
  },
  {
   "cell_type": "markdown",
   "id": "9f5e0985",
   "metadata": {},
   "source": [
    "## 여러개 값 return"
   ]
  },
  {
   "cell_type": "code",
   "execution_count": 68,
   "id": "9c60e834",
   "metadata": {},
   "outputs": [],
   "source": [
    "def swap(a, b) :\n",
    "    '''\n",
    "    매개변수의 순서를 바꿔서 return\n",
    "    '''\n",
    "    return b, a # 튜플 형태로 반환"
   ]
  },
  {
   "cell_type": "code",
   "execution_count": 78,
   "id": "6399c203",
   "metadata": {},
   "outputs": [
    {
     "name": "stdout",
     "output_type": "stream",
     "text": [
      "\n",
      "함수 실행 전 \n",
      "x =  5, y = 10\n",
      "\n",
      "함수 실행 후 \n",
      "x = 10, y =  5\n"
     ]
    }
   ],
   "source": [
    "x, y = 5, 10\n",
    "print(f'''\n",
    "함수 실행 전 \n",
    "x = {x:2}, y = {y:2}''')\n",
    "x, y = swap(x,y)\n",
    "print(f'''\n",
    "함수 실행 후 \n",
    "x = {x:2}, y = {y:2}''')"
   ]
  },
  {
   "cell_type": "markdown",
   "id": "0f22e0e3",
   "metadata": {},
   "source": [
    "# 3절 함수의 매개변수 ★\n",
    "## 3.1 기본 값을 갖는 매개변수"
   ]
  },
  {
   "cell_type": "code",
   "execution_count": 93,
   "id": "1b91b8b1",
   "metadata": {},
   "outputs": [
    {
     "ename": "SyntaxError",
     "evalue": "non-default argument follows default argument (539119654.py, line 4)",
     "output_type": "error",
     "traceback": [
      "\u001b[1;36m  Cell \u001b[1;32mIn[93], line 4\u001b[1;36m\u001b[0m\n\u001b[1;33m    def make_url2(port = 80, ip) : # on-default argument follows default argument :\u001b[0m\n\u001b[1;37m                             ^\u001b[0m\n\u001b[1;31mSyntaxError\u001b[0m\u001b[1;31m:\u001b[0m non-default argument follows default argument\n"
     ]
    }
   ],
   "source": [
    "def make_url(ip, port = 80) :\n",
    "    return f'http://{ip}:{port}' # http://www.naver.com:80\n",
    "    \n",
    "def make_url2(port = 80, ip) : # on-default argument follows default argument : \n",
    "    # 순서인수 : 디폴트 값을 갖지 않는 매개변수가 앞으로 // 디폴트 값이 있는 매개변수가 뒤로\n",
    "    return f'http://{ip}:{port}' # http://www.naver.com:80"
   ]
  },
  {
   "cell_type": "code",
   "execution_count": 90,
   "id": "a5708877",
   "metadata": {},
   "outputs": [
    {
     "data": {
      "text/plain": [
       "'http://localhost:80'"
      ]
     },
     "execution_count": 90,
     "metadata": {},
     "output_type": "execute_result"
    }
   ],
   "source": [
    "make_url('localhost')"
   ]
  },
  {
   "cell_type": "code",
   "execution_count": 96,
   "id": "982349b6",
   "metadata": {},
   "outputs": [
    {
     "name": "stdout",
     "output_type": "stream",
     "text": [
      "http://localhost:8080\n",
      "http://localhost:8090\n"
     ]
    }
   ],
   "source": [
    "print(make_url('localhost', 8080))\n",
    "print(make_url(port = 8090, ip = 'localhost'))"
   ]
  },
  {
   "cell_type": "code",
   "execution_count": 86,
   "id": "c5bc1b53",
   "metadata": {},
   "outputs": [
    {
     "data": {
      "text/plain": [
       "'http://codeby.com:80'"
      ]
     },
     "execution_count": 86,
     "metadata": {},
     "output_type": "execute_result"
    }
   ],
   "source": [
    "make_url('codeby.com')"
   ]
  },
  {
   "cell_type": "markdown",
   "id": "b0285fb9",
   "metadata": {},
   "source": [
    "## 3.2 변경 가능한 객체를 기본변수로 갖는 매개변수\n",
    "- 기본 변수가 스칼라 변수일 때\n",
    "- 기본 변수가 리스트, 셋, 딕셔너리 등의 객체일 때"
   ]
  },
  {
   "cell_type": "code",
   "execution_count": 112,
   "id": "070aeb5d",
   "metadata": {},
   "outputs": [],
   "source": [
    "i = 5\n",
    "# 기본 값을 갖는 매개변수가 스칼라 변수일 때 : arg의 기본 값은 함수가 정의 되는 시점의 값으로 고정 // 스칼라 데이터를 참조하는 변수의 할당 개념\n",
    "def func2(arg = i) :\n",
    "    print('arg = :',arg)"
   ]
  },
  {
   "cell_type": "code",
   "execution_count": 114,
   "id": "03a509cd",
   "metadata": {},
   "outputs": [
    {
     "name": "stdout",
     "output_type": "stream",
     "text": [
      "arg = : 5\n"
     ]
    }
   ],
   "source": [
    "i = 50\n",
    "func2()"
   ]
  },
  {
   "cell_type": "code",
   "execution_count": 129,
   "id": "43ee0216",
   "metadata": {},
   "outputs": [],
   "source": [
    "list_ = []\n",
    "# 기본 값을 갖는 매개변수가 변경 가능한 객체(데이터구조)일 때 : arg의 기본 값은 호출하는 시점에 따라 실시간 변경 // 리스트의 주소를 참조하는 변수의 할당 개념\n",
    "def func3(data, L=list_) :\n",
    "    '''data를 L에 append'''\n",
    "#    print(f'data = {data}, L = {L}')\n",
    "    L.append(data)\n",
    "    return L"
   ]
  },
  {
   "cell_type": "code",
   "execution_count": 130,
   "id": "d273ff8b",
   "metadata": {},
   "outputs": [
    {
     "name": "stdout",
     "output_type": "stream",
     "text": [
      "[10]\n"
     ]
    }
   ],
   "source": [
    "print(func3(10)) # list_ 가 수정 : [10]"
   ]
  },
  {
   "cell_type": "code",
   "execution_count": 146,
   "id": "4d5f8c9d",
   "metadata": {},
   "outputs": [
    {
     "name": "stdout",
     "output_type": "stream",
     "text": [
      "[10, 20]\n"
     ]
    }
   ],
   "source": [
    "list_\n",
    "print(func3(20, [10]))"
   ]
  },
  {
   "cell_type": "code",
   "execution_count": 147,
   "id": "32bcd4d8",
   "metadata": {},
   "outputs": [
    {
     "data": {
      "text/plain": [
       "[10, 20]"
      ]
     },
     "execution_count": 147,
     "metadata": {},
     "output_type": "execute_result"
    }
   ],
   "source": [
    "list_"
   ]
  },
  {
   "cell_type": "code",
   "execution_count": 158,
   "id": "27579218",
   "metadata": {},
   "outputs": [],
   "source": [
    "def func4(data, L=None) :\n",
    "    if L == None :\n",
    "        L = []\n",
    "    L.append(data)\n",
    "    return L"
   ]
  },
  {
   "cell_type": "code",
   "execution_count": 159,
   "id": "8daeb0b6",
   "metadata": {},
   "outputs": [
    {
     "name": "stdout",
     "output_type": "stream",
     "text": [
      "[10]\n",
      "[15, 10]\n"
     ]
    }
   ],
   "source": [
    "list_ = [15]\n",
    "print(func4(10))\n",
    "print(func4(10, list_))"
   ]
  },
  {
   "cell_type": "markdown",
   "id": "3400d098",
   "metadata": {},
   "source": [
    "## 3.3 튜플 매개변수를 이용한 가변인수 설정"
   ]
  },
  {
   "cell_type": "markdown",
   "id": "0ecfcc7e",
   "metadata": {},
   "source": [
    "매개변수의 개수는 알 수 없음.\n",
    "이 때 모든 인수를 하나의 튜플로 만들어서 처리하면 아무리 많은 매개변수도 처리가 가능하다."
   ]
  },
  {
   "cell_type": "code",
   "execution_count": 170,
   "id": "760ecfe6",
   "metadata": {},
   "outputs": [],
   "source": [
    "# add(1,2,3,4,5,....) : 매개변수가 늘어나도 모두 더하는 함수를 구현하려고 한다. 이 때 사용하는 개념 가변 인자.\n",
    "# 파이썬은 오버로딩(함수의 중복)을 지원하지 않음\n",
    "def add(a, b) :\n",
    "    return a+b\n",
    "def add(a, b, c) :\n",
    "    return a+b+c"
   ]
  },
  {
   "cell_type": "code",
   "execution_count": 171,
   "id": "006e9eee",
   "metadata": {
    "collapsed": true
   },
   "outputs": [
    {
     "ename": "TypeError",
     "evalue": "add() takes 3 positional arguments but 4 were given",
     "output_type": "error",
     "traceback": [
      "\u001b[1;31m---------------------------------------------------------------------------\u001b[0m",
      "\u001b[1;31mTypeError\u001b[0m                                 Traceback (most recent call last)",
      "Cell \u001b[1;32mIn[171], line 2\u001b[0m\n\u001b[0;32m      1\u001b[0m \u001b[38;5;66;03m# add(1,2,3,4,5,....) : 매개변수가 늘어나도 모두 더하는 함수를 구현하려고 한다. 이 때 사용하는 개념 가변 인자.\u001b[39;00m\n\u001b[1;32m----> 2\u001b[0m \u001b[43madd\u001b[49m\u001b[43m(\u001b[49m\u001b[38;5;241;43m1\u001b[39;49m\u001b[43m,\u001b[49m\u001b[38;5;241;43m2\u001b[39;49m\u001b[43m,\u001b[49m\u001b[38;5;241;43m3\u001b[39;49m\u001b[43m,\u001b[49m\u001b[38;5;241;43m4\u001b[39;49m\u001b[43m)\u001b[49m\n",
      "\u001b[1;31mTypeError\u001b[0m: add() takes 3 positional arguments but 4 were given"
     ]
    }
   ],
   "source": [
    "add(1,2,3,4)"
   ]
  },
  {
   "cell_type": "code",
   "execution_count": 181,
   "id": "02665b86",
   "metadata": {},
   "outputs": [],
   "source": [
    "# *args : 매개변수들을 하나의 튜플 변수 args로 전달받음\n",
    "def add(*args) :\n",
    "    '''전달받은 매개변수들의 합을 return'''\n",
    "#    print('args =', args)\n",
    "    result = 0\n",
    "    for data in args :\n",
    "        result += data\n",
    "    return result"
   ]
  },
  {
   "cell_type": "code",
   "execution_count": 184,
   "id": "ea201f07",
   "metadata": {},
   "outputs": [
    {
     "name": "stdout",
     "output_type": "stream",
     "text": [
      "1\n",
      "3\n",
      "6\n",
      "15\n",
      "25\n"
     ]
    }
   ],
   "source": [
    "print(add(1))\n",
    "print(add(1,2))\n",
    "print(add(1,2,3))\n",
    "print(add(1,2,3,9))\n",
    "print(add(1,2,3, 9, 10))"
   ]
  },
  {
   "cell_type": "code",
   "execution_count": 185,
   "id": "3b311c62",
   "metadata": {},
   "outputs": [
    {
     "data": {
      "text/plain": [
       "'python/oracle/DL/ML'"
      ]
     },
     "execution_count": 185,
     "metadata": {},
     "output_type": "execute_result"
    }
   ],
   "source": [
    "subject = ('python','oracle','DL','ML')\n",
    "'/'.join(subject)"
   ]
  },
  {
   "cell_type": "code",
   "execution_count": null,
   "id": "459b9615",
   "metadata": {},
   "outputs": [],
   "source": [
    "concat('python','oracle','DL','ML','/')\n",
    "=> python/oracle/DL/ML #print('hello','world',sep'/')"
   ]
  },
  {
   "cell_type": "code",
   "execution_count": 190,
   "id": "54c4c077",
   "metadata": {},
   "outputs": [],
   "source": [
    "def concat(*subject, sep) :\n",
    "    return sep.join(subject)"
   ]
  },
  {
   "cell_type": "code",
   "execution_count": 191,
   "id": "7384983e",
   "metadata": {},
   "outputs": [
    {
     "ename": "TypeError",
     "evalue": "concat() missing 1 required keyword-only argument: 'sep'",
     "output_type": "error",
     "traceback": [
      "\u001b[1;31m---------------------------------------------------------------------------\u001b[0m",
      "\u001b[1;31mTypeError\u001b[0m                                 Traceback (most recent call last)",
      "Cell \u001b[1;32mIn[191], line 1\u001b[0m\n\u001b[1;32m----> 1\u001b[0m \u001b[43mconcat\u001b[49m\u001b[43m(\u001b[49m\u001b[38;5;124;43m'\u001b[39;49m\u001b[38;5;124;43mpython\u001b[39;49m\u001b[38;5;124;43m'\u001b[39;49m\u001b[43m,\u001b[49m\u001b[38;5;124;43m'\u001b[39;49m\u001b[38;5;124;43moracle\u001b[39;49m\u001b[38;5;124;43m'\u001b[39;49m\u001b[43m,\u001b[49m\u001b[38;5;124;43m'\u001b[39;49m\u001b[38;5;124;43mDL\u001b[39;49m\u001b[38;5;124;43m'\u001b[39;49m\u001b[43m,\u001b[49m\u001b[38;5;124;43m'\u001b[39;49m\u001b[38;5;124;43mML\u001b[39;49m\u001b[38;5;124;43m'\u001b[39;49m\u001b[43m,\u001b[49m\u001b[38;5;124;43m'\u001b[39;49m\u001b[38;5;124;43m/\u001b[39;49m\u001b[38;5;124;43m'\u001b[39;49m\u001b[43m)\u001b[49m\n",
      "\u001b[1;31mTypeError\u001b[0m: concat() missing 1 required keyword-only argument: 'sep'"
     ]
    }
   ],
   "source": [
    "concat('python','oracle','DL','ML','/')"
   ]
  },
  {
   "cell_type": "code",
   "execution_count": 192,
   "id": "794602b3",
   "metadata": {},
   "outputs": [
    {
     "data": {
      "text/plain": [
       "'python/oracle/DL/ML'"
      ]
     },
     "execution_count": 192,
     "metadata": {},
     "output_type": "execute_result"
    }
   ],
   "source": [
    "# 해결책1 : 매개변수 이름을 지정해서 호출 <<BAD>>\n",
    "concat('python','oracle','DL','ML', sep = '/')"
   ]
  },
  {
   "cell_type": "code",
   "execution_count": 208,
   "id": "b593bf0f",
   "metadata": {},
   "outputs": [],
   "source": [
    "# 해결책2 : 반드시 기본값을 갖는 키워드인수로 사용\n",
    "def concat(*subject, sep=' ~ ') :\n",
    "    return sep.join(subject)"
   ]
  },
  {
   "cell_type": "code",
   "execution_count": 209,
   "id": "a5cf0a4a",
   "metadata": {},
   "outputs": [
    {
     "data": {
      "text/plain": [
       "'python ~ oracle ~ DL ~ ML'"
      ]
     },
     "execution_count": 209,
     "metadata": {},
     "output_type": "execute_result"
    }
   ],
   "source": [
    "concat('python','oracle','DL','ML')"
   ]
  },
  {
   "cell_type": "code",
   "execution_count": 195,
   "id": "68bad8b1",
   "metadata": {},
   "outputs": [
    {
     "data": {
      "text/plain": [
       "'python ~ oracle ~ DL ~ ML ~ /'"
      ]
     },
     "execution_count": 195,
     "metadata": {},
     "output_type": "execute_result"
    }
   ],
   "source": [
    "concat('python','oracle','DL','ML','/') # 마지막 인자가 구분자여야하는데 여기서는 문자열로 구분. ** print() 함수 작동원리의 결"
   ]
  },
  {
   "cell_type": "code",
   "execution_count": 206,
   "id": "da983e4b",
   "metadata": {},
   "outputs": [],
   "source": [
    "# 해결책 3 : sep을 순서인수로 앞에 선언\n",
    "def concat(sep = ' ! ', *subject) : # 순서 인수 / 키워드인수 / 튜플 매개변수\n",
    "    return sep.join(subject)"
   ]
  },
  {
   "cell_type": "code",
   "execution_count": 207,
   "id": "fee472d8",
   "metadata": {},
   "outputs": [
    {
     "data": {
      "text/plain": [
       "'python / oracle / DL / ML'"
      ]
     },
     "execution_count": 207,
     "metadata": {},
     "output_type": "execute_result"
    }
   ],
   "source": [
    "concat(' / ', 'python','oracle','DL','ML')"
   ]
  },
  {
   "cell_type": "markdown",
   "id": "a3b47cde",
   "metadata": {},
   "source": [
    "순서인수 -> 키워드 인수 -> 튜플 매개변수"
   ]
  },
  {
   "cell_type": "markdown",
   "id": "6e1854de",
   "metadata": {},
   "source": [
    "## 3.4 딕셔너리 매개변수\n",
    "- 여러 개의 키워드인수를 딕셔너리 형태로 받아서 가변 키워드 인수 처리"
   ]
  },
  {
   "cell_type": "code",
   "execution_count": 240,
   "id": "78710803",
   "metadata": {},
   "outputs": [],
   "source": [
    "def func5(**kwargs) :\n",
    "    '''키워드 인수들을 딕셔너리 형태로 받아서 가변 키워드 인수를 처리한다\n",
    "    키 : name, age, address'''\n",
    "    print(type(kwargs))\n",
    "    print('이름 :', kwargs.get('name', '대마왕'))\n",
    "    print('나이 :', kwargs.get('age', 30))\n",
    "    print('주소 :', kwargs.get('address', '서울특별시 어딘가에 살고 있습니다.'))"
   ]
  },
  {
   "cell_type": "code",
   "execution_count": 241,
   "id": "b98ec042",
   "metadata": {},
   "outputs": [
    {
     "name": "stdout",
     "output_type": "stream",
     "text": [
      "<class 'dict'>\n",
      "이름 : 홍길동\n",
      "나이 : 30\n",
      "주소 : 신림동\n"
     ]
    }
   ],
   "source": [
    "func5(name = '홍길동', age = 30, address = '신림동')"
   ]
  },
  {
   "cell_type": "code",
   "execution_count": 242,
   "id": "900eda38",
   "metadata": {},
   "outputs": [
    {
     "name": "stdout",
     "output_type": "stream",
     "text": [
      "<class 'dict'>\n",
      "이름 : 김길동\n",
      "나이 : 30\n",
      "주소 : 서울특별시 어딘가에 살고 있습니다.\n"
     ]
    }
   ],
   "source": [
    "func5(name = '김길동')"
   ]
  },
  {
   "cell_type": "markdown",
   "id": "c1dff6f7",
   "metadata": {},
   "source": [
    "## 3.5 함수 정의 시 매개변수 순서\n",
    "- 순서인수 > 튜플매개변수(*args) > 키워드인수(매개변수 이름 명시) > 딕셔너리 매개변수(**kwargs) // 인수나 매개변수나..\n",
    "\n"
   ]
  },
  {
   "cell_type": "code",
   "execution_count": 6,
   "id": "11467b03",
   "metadata": {},
   "outputs": [],
   "source": [
    "def func6(a,b, *c, **d) :\n",
    "    print('순서 인수 :', a)\n",
    "    print('순서 인수 :', b)\n",
    "    print('튜플 인수 :', c)\n",
    "    print('딕셔너리 인수 :', d)"
   ]
  },
  {
   "cell_type": "code",
   "execution_count": 7,
   "id": "71bd158b",
   "metadata": {},
   "outputs": [
    {
     "name": "stdout",
     "output_type": "stream",
     "text": [
      "순서 인수 : 10\n",
      "순서 인수 : 20\n",
      "튜플 인수 : (1, 2, 3, 4, 5, 6, 7, 8, 9)\n",
      "딕셔너리 인수 : {'name': '홍길동', 'age': 30, 'address': '서울'}\n"
     ]
    }
   ],
   "source": [
    "func6(10, 20, 1,2,3,4,5,6,7,8,9, name = '홍길동', age = 30, address = '서울')"
   ]
  },
  {
   "cell_type": "code",
   "execution_count": 21,
   "id": "6ff82d65",
   "metadata": {},
   "outputs": [],
   "source": [
    "def func7(a, b, *c, d='기본값', **e) :\n",
    "    print('순서 인수 :', a)\n",
    "    print('순서 인수 :', b)\n",
    "    print('튜플 인수 :', c)\n",
    "    print('키워드 인수(기본값을 갖는 인수, 호출 시 매개변수 이름 반드시 명시) :', d)\n",
    "    print('딕셔너리 인수 :', e)"
   ]
  },
  {
   "cell_type": "code",
   "execution_count": 23,
   "id": "d9e15fb5",
   "metadata": {},
   "outputs": [
    {
     "name": "stdout",
     "output_type": "stream",
     "text": [
      "순서 인수 : 10\n",
      "순서 인수 : 20\n",
      "튜플 인수 : (1, 2, 3, 4, 5, 6, 7, 8, 9)\n",
      "키워드 인수(기본값을 갖는 인수, 호출 시 매개변수 이름 반드시 명시) : 딴거\n",
      "딕셔너리 인수 : {'name': '홍길동', 'age': 30, 'address': '서울'}\n"
     ]
    }
   ],
   "source": [
    "func7(10, 20, 1, 2, 3, 4, 5, 6, 7, 8, 9, d='딴거', name='홍길동', age=30, address='서울')"
   ]
  },
  {
   "cell_type": "markdown",
   "id": "4cf662fc",
   "metadata": {},
   "source": [
    "## 3.6 매개변수(인수)의 언패킹\n",
    "### 3.6.1 튜플 매개변수(인수) 언패킹\n",
    "- 튜플 언패킹 : 함수 호출 시 매개변수 앞에 * 붙임\n",
    "- cf) 튜플 패킹 : 함수 정의 시 매개변수 앞에 * 붙임(튜플매개변수) // ** 매개변수 :딕셔너리  키 1번 값 2번 이해"
   ]
  },
  {
   "cell_type": "code",
   "execution_count": 9,
   "id": "4d7ea6bd",
   "metadata": {},
   "outputs": [],
   "source": [
    "def add(*args) :\n",
    "    print(args)\n",
    "    tot = 0\n",
    "    for num in args :\n",
    "        tot += num\n",
    "    return tot"
   ]
  },
  {
   "cell_type": "code",
   "execution_count": 10,
   "id": "a0bcbc2a",
   "metadata": {},
   "outputs": [
    {
     "name": "stdout",
     "output_type": "stream",
     "text": [
      "(1, 2, 3, 4)\n"
     ]
    },
    {
     "data": {
      "text/plain": [
       "10"
      ]
     },
     "execution_count": 10,
     "metadata": {},
     "output_type": "execute_result"
    }
   ],
   "source": [
    "add(1,2,3,4)"
   ]
  },
  {
   "cell_type": "code",
   "execution_count": 7,
   "id": "d853c207",
   "metadata": {},
   "outputs": [
    {
     "data": {
      "text/plain": [
       "25"
      ]
     },
     "execution_count": 7,
     "metadata": {},
     "output_type": "execute_result"
    }
   ],
   "source": [
    "numbers = (1,2,3,4)\n",
    "add(*numbers) # 함수 정의 시 매개변수 *args 는 튜플 패킹, 함수를 호출할 때 매개변수 *args는 언패킹\n",
    "add(*numbers, 1, 2, 3, 4, 5) # ?? 이게 되네"
   ]
  },
  {
   "cell_type": "markdown",
   "id": "37841d4e",
   "metadata": {},
   "source": [
    "### 3.6.2 딕셔너리 매개변수(인수) 언패킹\n",
    "- *args 한 번 하면 키 **args 두 번 하면 밸류\n",
    "- 딕셔너리 언패킹 : 함수 호출 시 매개변수 앞에 ** 붙임  // ** 매개변수 :딕셔너리  키 1번 값 2번 이해\n",
    "- cf) 딕셔너리 패킹 : 함수 정의 시 매개변수 앞에 ** 붙임(튜플매개변수)"
   ]
  },
  {
   "cell_type": "code",
   "execution_count": 11,
   "id": "eaffbe34",
   "metadata": {},
   "outputs": [],
   "source": [
    "def func5(**data) :\n",
    "    print(type(data))\n",
    "    for key, item in data.items() :\n",
    "        print(f'{key} : {item}')"
   ]
  },
  {
   "cell_type": "code",
   "execution_count": 12,
   "id": "70b339b3",
   "metadata": {},
   "outputs": [
    {
     "name": "stdout",
     "output_type": "stream",
     "text": [
      "<class 'dict'>\n",
      "name : 홍길동\n",
      "age : 30\n",
      "address : 신림\n"
     ]
    }
   ],
   "source": [
    "func5(name='홍길동', age=30, address='신림')"
   ]
  },
  {
   "cell_type": "code",
   "execution_count": 13,
   "id": "0cd2ec36",
   "metadata": {
    "collapsed": true
   },
   "outputs": [
    {
     "ename": "TypeError",
     "evalue": "func5() takes 0 positional arguments but 1 was given",
     "output_type": "error",
     "traceback": [
      "\u001b[1;31m---------------------------------------------------------------------------\u001b[0m",
      "\u001b[1;31mTypeError\u001b[0m                                 Traceback (most recent call last)",
      "Cell \u001b[1;32mIn[13], line 6\u001b[0m\n\u001b[0;32m      1\u001b[0m custominfo \u001b[38;5;241m=\u001b[39m{\u001b[38;5;124m'\u001b[39m\u001b[38;5;124mname\u001b[39m\u001b[38;5;124m'\u001b[39m : \u001b[38;5;124m'\u001b[39m\u001b[38;5;124mKilDong\u001b[39m\u001b[38;5;124m'\u001b[39m,\n\u001b[0;32m      2\u001b[0m             \u001b[38;5;124m'\u001b[39m\u001b[38;5;124mage\u001b[39m\u001b[38;5;124m'\u001b[39m : \u001b[38;5;241m30\u001b[39m,\n\u001b[0;32m      3\u001b[0m             \u001b[38;5;124m'\u001b[39m\u001b[38;5;124maddress\u001b[39m\u001b[38;5;124m'\u001b[39m : \u001b[38;5;124m'\u001b[39m\u001b[38;5;124mSeoul Gangnam\u001b[39m\u001b[38;5;124m'\u001b[39m,\n\u001b[0;32m      4\u001b[0m             \u001b[38;5;124m'\u001b[39m\u001b[38;5;124m이런저런\u001b[39m\u001b[38;5;124m'\u001b[39m : \u001b[38;5;124m'\u001b[39m\u001b[38;5;124m데이터\u001b[39m\u001b[38;5;124m'\u001b[39m,\n\u001b[0;32m      5\u001b[0m             \u001b[38;5;124m'\u001b[39m\u001b[38;5;124mscore\u001b[39m\u001b[38;5;124m'\u001b[39m : \u001b[38;5;241m900\u001b[39m,}\n\u001b[1;32m----> 6\u001b[0m \u001b[43mfunc5\u001b[49m\u001b[43m(\u001b[49m\u001b[43mcustominfo\u001b[49m\u001b[43m)\u001b[49m\n",
      "\u001b[1;31mTypeError\u001b[0m: func5() takes 0 positional arguments but 1 was given"
     ]
    }
   ],
   "source": [
    "custominfo ={'name' : 'KilDong',\n",
    "            'age' : 30,\n",
    "            'address' : 'Seoul Gangnam',\n",
    "            '이런저런' : '데이터',\n",
    "            'score' : 900,}\n",
    "func5(custominfo) #func5() takes 0 positional arguments but 1 was given : 딕셔너리 데이터를 패킹하지 않아 크게 1덩어리의 순서변수로 전달"
   ]
  },
  {
   "cell_type": "code",
   "execution_count": 14,
   "id": "41a7aedd",
   "metadata": {
    "collapsed": true
   },
   "outputs": [
    {
     "ename": "TypeError",
     "evalue": "func5() takes 0 positional arguments but 5 were given",
     "output_type": "error",
     "traceback": [
      "\u001b[1;31m---------------------------------------------------------------------------\u001b[0m",
      "\u001b[1;31mTypeError\u001b[0m                                 Traceback (most recent call last)",
      "Cell \u001b[1;32mIn[14], line 6\u001b[0m\n\u001b[0;32m      1\u001b[0m custominfo \u001b[38;5;241m=\u001b[39m{\u001b[38;5;124m'\u001b[39m\u001b[38;5;124mname\u001b[39m\u001b[38;5;124m'\u001b[39m : \u001b[38;5;124m'\u001b[39m\u001b[38;5;124mKilDong\u001b[39m\u001b[38;5;124m'\u001b[39m,\n\u001b[0;32m      2\u001b[0m             \u001b[38;5;124m'\u001b[39m\u001b[38;5;124mage\u001b[39m\u001b[38;5;124m'\u001b[39m : \u001b[38;5;241m30\u001b[39m,\n\u001b[0;32m      3\u001b[0m             \u001b[38;5;124m'\u001b[39m\u001b[38;5;124maddress\u001b[39m\u001b[38;5;124m'\u001b[39m : \u001b[38;5;124m'\u001b[39m\u001b[38;5;124mSeoul Gangnam\u001b[39m\u001b[38;5;124m'\u001b[39m,\n\u001b[0;32m      4\u001b[0m             \u001b[38;5;124m'\u001b[39m\u001b[38;5;124m이런저런\u001b[39m\u001b[38;5;124m'\u001b[39m : \u001b[38;5;124m'\u001b[39m\u001b[38;5;124m데이터\u001b[39m\u001b[38;5;124m'\u001b[39m,\n\u001b[0;32m      5\u001b[0m             \u001b[38;5;124m'\u001b[39m\u001b[38;5;124mscore\u001b[39m\u001b[38;5;124m'\u001b[39m : \u001b[38;5;241m900\u001b[39m,}\n\u001b[1;32m----> 6\u001b[0m \u001b[43mfunc5\u001b[49m\u001b[43m(\u001b[49m\u001b[38;5;241;43m*\u001b[39;49m\u001b[43mcustominfo\u001b[49m\u001b[43m)\u001b[49m\n",
      "\u001b[1;31mTypeError\u001b[0m: func5() takes 0 positional arguments but 5 were given"
     ]
    }
   ],
   "source": [
    "custominfo ={'name' : 'KilDong',\n",
    "            'age' : 30,\n",
    "            'address' : 'Seoul Gangnam',\n",
    "            '이런저런' : '데이터',\n",
    "            'score' : 900,} \n",
    "func5(*custominfo) # func5() takes 0 positional arguments but 5 were given : 1번만 패킹되어 키값 5개만 전달되어 5개 순서인수가 전달"
   ]
  },
  {
   "cell_type": "code",
   "execution_count": 16,
   "id": "45038802",
   "metadata": {},
   "outputs": [
    {
     "name": "stdout",
     "output_type": "stream",
     "text": [
      "<class 'dict'>\n",
      "name : KilDong\n",
      "age : 30\n",
      "address : Seoul Gangnam\n",
      "이런저런 : 데이터\n",
      "score : 900\n"
     ]
    }
   ],
   "source": [
    "custominfo ={'name' : 'KilDong',\n",
    "            'age' : 30,\n",
    "            'address' : 'Seoul Gangnam',\n",
    "            '이런저런' : '데이터',\n",
    "            'score' : 900,} \n",
    "func5(**custominfo)"
   ]
  },
  {
   "cell_type": "markdown",
   "id": "3c9ae910",
   "metadata": {},
   "source": [
    "# 4절 람다식 lambda\n",
    "- return 한 줄 짜리 작은 익명 함수\n",
    "## 4.1 람다식 연습\n",
    "      - lambda 매개변수 : 매개변수 명령문\n",
    "      - 사용할 때는 1. 기능성 변수에 할당하거나\n",
    "                  2. (람다함수)(매개변수) 형태로 사용하거나"
   ]
  },
  {
   "cell_type": "code",
   "execution_count": 6,
   "id": "3b6b5c4a",
   "metadata": {},
   "outputs": [
    {
     "data": {
      "text/plain": [
       "function"
      ]
     },
     "execution_count": 6,
     "metadata": {},
     "output_type": "execute_result"
    }
   ],
   "source": [
    "# def add(a,b) :\n",
    "#     return a+b\n",
    "# add(3,4)\n",
    "\n",
    "add = lambda a,b : a+b\n",
    "add(3,4), add(5,6)\n",
    "type(add)"
   ]
  },
  {
   "cell_type": "code",
   "execution_count": 7,
   "id": "5c1a2784",
   "metadata": {},
   "outputs": [
    {
     "data": {
      "text/plain": [
       "7"
      ]
     },
     "execution_count": 7,
     "metadata": {},
     "output_type": "execute_result"
    }
   ],
   "source": [
    "(lambda a,b : a+b)(3,4)"
   ]
  },
  {
   "cell_type": "code",
   "execution_count": 32,
   "id": "d30a6898",
   "metadata": {},
   "outputs": [
    {
     "data": {
      "text/plain": [
       "[1, 2, 3, 4, 5]"
      ]
     },
     "execution_count": 32,
     "metadata": {},
     "output_type": "execute_result"
    }
   ],
   "source": [
    "A = ['1','2','3','4','5']\n",
    "A2 = list(map(lambda x : int(x), A))\n",
    "A2"
   ]
  },
  {
   "cell_type": "code",
   "execution_count": 5,
   "id": "67b4b010",
   "metadata": {},
   "outputs": [
    {
     "name": "stdout",
     "output_type": "stream",
     "text": [
      "[[1, 3, 5], [1, 1, 4], [1, 2, 3]]\n",
      "[[1, 3, 5], [1, 2, 3], [1, 1, 4]]\n",
      "[[1, 3, 5], [1, 2, 3], [1, 1, 4]]\n"
     ]
    }
   ],
   "source": [
    "a3 = [[1,3,5],[1,2,3],[1,1,4]]\n",
    "print(sorted(a3, key = lambda x : x[2], reverse = True))\n",
    "print(sorted(a3, key = lambda x : x[1], reverse = True))\n",
    "print(sorted(a3, key = lambda x : (x[0], x[1]), reverse = True))"
   ]
  },
  {
   "cell_type": "markdown",
   "id": "af866482",
   "metadata": {},
   "source": [
    "### 4.1.1 람다식 연습문제:"
   ]
  },
  {
   "cell_type": "code",
   "execution_count": 10,
   "id": "fe7759d8",
   "metadata": {},
   "outputs": [
    {
     "data": {
      "text/plain": [
       "'홀수'"
      ]
     },
     "execution_count": 10,
     "metadata": {},
     "output_type": "execute_result"
    }
   ],
   "source": [
    "# ex1. 매개변수로 들어온 값이 짝수면 \"짝수\" 홀수면 \"홀수\" return\n",
    "(lambda x : \"짝수\" if x%2==0 else \"홀수\")(15)"
   ]
  },
  {
   "cell_type": "code",
   "execution_count": 2,
   "id": "5570d007",
   "metadata": {},
   "outputs": [
    {
     "name": "stdout",
     "output_type": "stream",
     "text": [
      "1\n",
      "1\n"
     ]
    }
   ],
   "source": [
    "# ex2. 두 매개변수의 차이를 return\n",
    "print((lambda a,b : abs(a-b))(1,2))\n",
    "print((lambda a,b : a - b if a-b > 0 else b - a)(1,2))"
   ]
  },
  {
   "cell_type": "code",
   "execution_count": 4,
   "id": "3edc60ae",
   "metadata": {},
   "outputs": [
    {
     "data": {
      "text/plain": [
       "'negative'"
      ]
     },
     "execution_count": 4,
     "metadata": {},
     "output_type": "execute_result"
    }
   ],
   "source": [
    "# ex3. 매개변수로 잔액을 받아 양수면 잔액 return, 음수면 'negative'\n",
    "(lambda change : change if change > 0 else 'negative')(-500)"
   ]
  },
  {
   "cell_type": "code",
   "execution_count": 11,
   "id": "b79efa46",
   "metadata": {},
   "outputs": [
    {
     "name": "stdout",
     "output_type": "stream",
     "text": [
      "재시험\n",
      "유효하지 않음\n"
     ]
    },
    {
     "data": {
      "text/plain": [
       "('A', 'B', '유효하지 않음', '재시험')"
      ]
     },
     "execution_count": 11,
     "metadata": {},
     "output_type": "execute_result"
    }
   ],
   "source": [
    "# ex4. 정수를 입력 받아 80점 이상 100점 이하는 'A', 60점 이상은 'B', 60점 미만은 '재시험' 그외에는 '유효하지 않음'\n",
    "print((lambda x : '유효하지않음' if (x>100 or x<0) else ('A' if x>= 80 else ('B' if x>=60 else '재시험')))(50))\n",
    "# [True1] if [Condition1] else [True2] if [Condition2] else [False]\n",
    "print((lambda x : '유효하지 않음' if x>100 or x<0 else 'A' if x>= 80 else 'B' if x >=60 else '재시험')(-50))\n",
    "ex4 = lambda x : '유효하지 않음' if x>100 or x<0 else \\\n",
    "             'A' if x>= 80 else \\\n",
    "             'B' if x >=60 else \\\n",
    "             '재시험'\n",
    "ex4(100), ex4(75), ex4(-100), ex4(50)"
   ]
  },
  {
   "cell_type": "code",
   "execution_count": 12,
   "id": "3155711f",
   "metadata": {},
   "outputs": [
    {
     "data": {
      "text/plain": [
       "1"
      ]
     },
     "execution_count": 12,
     "metadata": {},
     "output_type": "execute_result"
    }
   ],
   "source": [
    "# ex5. safe_index 를 람다식으로\n",
    "# def safe_index(vector, data) :\n",
    "#     if data in vector :\n",
    "#         return vector.index(data)\n",
    "#     else:\n",
    "#         return -1\n",
    "(lambda vector, data : vector.index(data) if data in vector else -1)([1,2,3], 2)"
   ]
  },
  {
   "cell_type": "markdown",
   "id": "c9cffbfd",
   "metadata": {},
   "source": [
    "## 4.2 함수의 매개변수에 람다식 이용\n",
    "def fun(fun, data) : \n",
    "    명령어\n",
    "### (1) map(key=(lambda x: 명령어), 적용 대상)\n",
    "\n"
   ]
  },
  {
   "cell_type": "code",
   "execution_count": 9,
   "id": "96e3f92c",
   "metadata": {},
   "outputs": [],
   "source": [
    "def map_template(func , lst=[]) :\n",
    "    '''\n",
    "    lst의 모든 요소를 func()를 적용시켜 return\n",
    "    [func(l) for l in lst]\n",
    "    '''\n",
    "#     result = []\n",
    "#     for l in lst :\n",
    "#         result.append(func(l))\n",
    "    return [func(l) for l in lst]"
   ]
  },
  {
   "cell_type": "code",
   "execution_count": null,
   "id": "521bb486",
   "metadata": {},
   "outputs": [],
   "source": [
    "lambda x : x*2"
   ]
  },
  {
   "cell_type": "code",
   "execution_count": 13,
   "id": "34b93fd8",
   "metadata": {},
   "outputs": [
    {
     "name": "stdout",
     "output_type": "stream",
     "text": [
      "2246689064896\n",
      "[2, 4, 6, 8, 10, 12, 14, 16, 18, 20] 2246726870272\n"
     ]
    }
   ],
   "source": [
    "list_data = list(range(1,11))\n",
    "print(id(list_data))\n",
    "def x_2(x) :\n",
    "    return x*2\n",
    "print(map_template( x_2, list_data), id(map_template(x_2, list_data)))"
   ]
  },
  {
   "cell_type": "code",
   "execution_count": 14,
   "id": "08d68578",
   "metadata": {},
   "outputs": [
    {
     "data": {
      "text/plain": [
       "[2, 4, 6, 8, 10, 12, 14, 16, 18, 20]"
      ]
     },
     "execution_count": 14,
     "metadata": {},
     "output_type": "execute_result"
    }
   ],
   "source": [
    "# 리스트 데이터를 가공하는 방법 1. map_template를 활용\n",
    "list_data = list(range(1,11))\n",
    "map_template(lambda x: x*2 , list_data)"
   ]
  },
  {
   "cell_type": "code",
   "execution_count": 15,
   "id": "3b2c243f",
   "metadata": {},
   "outputs": [
    {
     "data": {
      "text/plain": [
       "[2, 4, 6, 8, 10, 12, 14, 16, 18, 20]"
      ]
     },
     "execution_count": 15,
     "metadata": {},
     "output_type": "execute_result"
    }
   ],
   "source": [
    "# 리스트 데이터를 가공하는 방법 2. 리스트 컴프리핸션\n",
    "[x * 2 for x in list_data]"
   ]
  },
  {
   "cell_type": "code",
   "execution_count": 16,
   "id": "142c7f56",
   "metadata": {},
   "outputs": [
    {
     "data": {
      "text/plain": [
       "[2, 4, 6, 8, 10, 12, 14, 16, 18, 20]"
      ]
     },
     "execution_count": 16,
     "metadata": {},
     "output_type": "execute_result"
    }
   ],
   "source": [
    "# 리스트 데이터를 가공하는 방법 3. map() 파이썬 내장 함수 활용\n",
    "list(map(lambda x : x*2, list_data))"
   ]
  },
  {
   "cell_type": "code",
   "execution_count": 19,
   "id": "6b8ed638",
   "metadata": {},
   "outputs": [
    {
     "name": "stdout",
     "output_type": "stream",
     "text": [
      "2 4 6 8 10 12 14 16 18 20 "
     ]
    }
   ],
   "source": [
    "for data in map(lambda x : x*2, list_data) :\n",
    "    print(data, end = ' ')"
   ]
  },
  {
   "cell_type": "markdown",
   "id": "e36ff416",
   "metadata": {},
   "source": [
    "#### map and lambda 예제"
   ]
  },
  {
   "cell_type": "code",
   "execution_count": null,
   "id": "6d5fc9af",
   "metadata": {},
   "outputs": [],
   "source": []
  },
  {
   "cell_type": "code",
   "execution_count": null,
   "id": "781fbd9e",
   "metadata": {},
   "outputs": [],
   "source": [
    "'''\n",
    "예제 1. 아래와 같은 price 데이터를 [5000, 800, 1000, 6000] 형태로 수정하여 반환하시오\n",
    "'''\n",
    "price = ['5,000', '800', '1000', '6,000']\n",
    "print(list(map(lambda x: int(x.replace(',','')), price)))"
   ]
  },
  {
   "cell_type": "markdown",
   "id": "7291c9f1",
   "metadata": {},
   "source": [
    "'''\n",
    "예제 2. member1 = [{'name' : '홍길동', 'birth' : '2000-01-01', },\n",
    "                    {'name' : '신길동', 'birth' : '1998-12-31'}]\n",
    "                    위 형태를 아래와 같이 수정한다.\n",
    "                    \n",
    "                    #     {'year' : int(member1['birth'].split('-')[0]),\n",
    "    'month' : int(member1['birth'].split('-')[1]),\n",
    "    'day' : int(member1['birth'].split('-')[2])} #\n",
    "    \n",
    "member2 = [{'name' : '홍길동', 'year' : 2000, 'month' = 1, 'day':1 },\n",
    "                    {'name' : '신길동', 'year' : 1998, 'month' = 12, 'day':31}]\n",
    "'''"
   ]
  },
  {
   "cell_type": "code",
   "execution_count": 72,
   "id": "8f67790a",
   "metadata": {},
   "outputs": [],
   "source": [
    "member1 = [{'name' : '홍길동', 'birth' : '2000-01-01', },\n",
    "                    {'name' : '신길동', 'birth' : '1998-12-31'}]\n",
    "def member_func(member) :\n",
    "    return {'name' : member.get('name'), 'year' : int(member['birth'].split('-')[0]), 'month' : int(member['birth'].split('-')[1]),'day' : int(member['birth'].split('-')[2])}"
   ]
  },
  {
   "cell_type": "code",
   "execution_count": 76,
   "id": "63f282b7",
   "metadata": {},
   "outputs": [
    {
     "name": "stdout",
     "output_type": "stream",
     "text": [
      "[{'name': '홍길동', 'year': 2000, 'month': 1, 'day': 1}, {'name': '신길동', 'year': 1998, 'month': 12, 'day': 31}]\n"
     ]
    }
   ],
   "source": [
    "ex2 = lambda member : {\n",
    "                    'name' : member.get('name'), \n",
    "                    'year' : int(member['birth'].split('-')[0]), \n",
    "                    'month' : int(member['birth'].split('-')[1]),\n",
    "                    'day' : int(member['birth'].split('-')[2])}\n",
    "\n",
    "print(list(map(ex2,member1)))"
   ]
  },
  {
   "cell_type": "code",
   "execution_count": 86,
   "id": "380850fe",
   "metadata": {},
   "outputs": [
    {
     "name": "stdout",
     "output_type": "stream",
     "text": [
      "[{'name': '홍길동', 'year': 2000, 'month': 1, 'day': 1}, {'name': '신길동', 'year': 1998, 'month': 12, 'day': 31}]\n"
     ]
    }
   ],
   "source": [
    "member1 = [{'name' : '홍길동', 'birth' : '2000-01-01', },\n",
    "                    {'name' : '신길동', 'birth' : '1998-12-31'}]\n",
    "\n",
    "checkpoint = list(map((lambda x : {\n",
    "                    'name' : x['name'], \n",
    "                    'year' : int(x['birth'][:4]), \n",
    "                    'month' : int(x['birth'][5:7]), \n",
    "                    'day' : int(x['birth'][8:])}), member1\n",
    "                    )\n",
    "                )\n",
    "print(checkpoint)"
   ]
  },
  {
   "cell_type": "markdown",
   "id": "18748232",
   "metadata": {},
   "source": [
    "#### (중요) 연습문제 3 선생님 풀이\n",
    "'''\n",
    "예제 3. member2 를 member1 로 바꿉니다.\n",
    "'''"
   ]
  },
  {
   "cell_type": "code",
   "execution_count": 140,
   "id": "2bfdcb5a",
   "metadata": {},
   "outputs": [
    {
     "name": "stdout",
     "output_type": "stream",
     "text": [
      "2000-01-01\n"
     ]
    }
   ],
   "source": [
    "# 선생님 풀이\n",
    "\n",
    "# 1 접근 : 더 간단한 풀이가 있을 거 같음\n",
    "def join_date(data) :\n",
    "    print('{}-{:02}-{:02}'.format(data.get('year'),\n",
    "                                 data.get('month'),\n",
    "                                 data.get('day')))\n",
    "    \n",
    "join_date({'year' : 2000, 'month' : 1, 'day' : 1})\n"
   ]
  },
  {
   "cell_type": "code",
   "execution_count": 146,
   "id": "db9fd400",
   "metadata": {},
   "outputs": [
    {
     "data": {
      "text/plain": [
       "[{'name': '홍길동', 'birth': '2000-01-01'},\n",
       " {'name': '신길동', 'birth': '1998-12-31'}]"
      ]
     },
     "execution_count": 146,
     "metadata": {},
     "output_type": "execute_result"
    }
   ],
   "source": [
    "# 선생님 풀이\n",
    "\n",
    "# 2 : format 형태에서 '{year}'.format(year = data.get('year')) 형태를 사용해서 언패킹한 딕셔너리를 활용해 풀이\n",
    "# year = data.get('year'), month = data.get('month'),day = data.get('day') : 언패킹한 딕셔너리 형태와 동일하다.\n",
    "def join_date(data) :\n",
    "    print('{year}-{month:02}-{day:02}'.format(**data))\n",
    "    \n",
    "list(map(lambda data : {'name' : data.get('name'), \n",
    "                        'birth' :'{year}-{month:02}-{day:02}'.format(**data)},member2))\n",
    "#join_date({'year' : 2000, 'month' : 1, 'day' : 1})"
   ]
  },
  {
   "cell_type": "code",
   "execution_count": null,
   "id": "153212be",
   "metadata": {},
   "outputs": [],
   "source": []
  },
  {
   "cell_type": "code",
   "execution_count": 118,
   "id": "f7325e03",
   "metadata": {},
   "outputs": [
    {
     "data": {
      "text/plain": [
       "[{'name': '홍길동', 'birth': '2000-01-01'},\n",
       " {'name': '신길동', 'birth': '1998-12-31'}]"
      ]
     },
     "execution_count": 118,
     "metadata": {},
     "output_type": "execute_result"
    }
   ],
   "source": [
    "# {'year' : 2000, 'month' : 1, 'day' : 1} => {'birth' : '2020-01-01'} 리턴 함수 설계\n",
    "def join_date(data) :\n",
    "    return '-'.join([str(data.get('year')), \n",
    "                 (str(data.get('month')) if len(str(data.get('month'))) == 2 else '0'+str(data.get('month'))),\n",
    "                (str(data.get('day')) if len(str(data.get('day'))) == 2 else '0'+str(data.get('day')))])\n",
    "\n",
    "ex3 = lambda data : {'name' : data.get('name'), 'birth' : '-'.join([str(data.get('year')), \n",
    "                 (str(data.get('month')) if len(str(data.get('month'))) == 2 else '0'+str(data.get('month'))),\n",
    "                (str(data.get('day')) if len(str(data.get('day'))) == 2 else '0'+str(data.get('day')))])}\n",
    "    "
   ]
  },
  {
   "cell_type": "code",
   "execution_count": 119,
   "id": "bee64d33",
   "metadata": {},
   "outputs": [
    {
     "data": {
      "text/plain": [
       "[{'name': '홍길동', 'birth': '2000-01-01'},\n",
       " {'name': '신길동', 'birth': '1998-12-31'}]"
      ]
     },
     "execution_count": 119,
     "metadata": {},
     "output_type": "execute_result"
    }
   ],
   "source": [
    "list(map(ex3,member2))"
   ]
  },
  {
   "cell_type": "code",
   "execution_count": 80,
   "id": "a692cf3d",
   "metadata": {},
   "outputs": [],
   "source": [
    "member2 = [{'name' : '홍길동', 'year' : 2000, 'month' : 1, 'day':1 },\n",
    "                    {'name' : '신길동', 'year' : 1998, 'month' : 12, 'day':31}]"
   ]
  },
  {
   "cell_type": "markdown",
   "id": "8bec0f1d",
   "metadata": {},
   "source": [
    "#### (중요) 연습문제3 나의풀이"
   ]
  },
  {
   "cell_type": "code",
   "execution_count": 84,
   "id": "018586e1",
   "metadata": {},
   "outputs": [
    {
     "name": "stdout",
     "output_type": "stream",
     "text": [
      "[{'name': '홍길동', 'birth': '2000-01-01'}, {'name': '신길동', 'birth': '1998-12-31'}]\n"
     ]
    }
   ],
   "source": [
    "merge = lambda x : {'name' : x['name'], \n",
    "                    'birth' : str(x['year']) + '-' + str(x['month'] if len(str(x['month'])) == 2 else '0'+str(x['month']))\n",
    "                    + '-' + str(x['day'] if len(str(x['day']))==2 else '0' + str(x['day']))\n",
    "                   }\n",
    "ex3 = list(map(merge, member2))\n",
    "print(ex3)"
   ]
  },
  {
   "cell_type": "code",
   "execution_count": 120,
   "id": "12a83b8e",
   "metadata": {},
   "outputs": [
    {
     "data": {
      "text/plain": [
       "[{'name': '홍길동', 'birth': '2000-01-01'},\n",
       " {'name': '신길동', 'birth': '1998-12-31'}]"
      ]
     },
     "execution_count": 120,
     "metadata": {},
     "output_type": "execute_result"
    }
   ],
   "source": [
    "list(map(lambda data : {'name' : data.get('name'), \n",
    "                        'birth' : str(data['year']) + '-' \n",
    "                        + (str(data['month']) if len(str(data['month']))==2 else '0'+ str(data['month'])) + '-' \n",
    "                        + (str(data['day']) if len(str(data['day']))==2 else '0'+ str(data['day']))},member2\n",
    "        )\n",
    "    )"
   ]
  },
  {
   "cell_type": "markdown",
   "id": "31a98d89",
   "metadata": {},
   "source": [
    "### (2) filter(lambda x : 참거짓 조건문, 대상 데이터구조)\n",
    "- map 처리 : [10,200,30000,40,500] => [20, 400, 60000, 80, 1000] (벡터의 모든 데이터를 가공)\n",
    "- filter 처리 : [1,2,3,4,5] => [2,4] (원하는 정보를 추출)\n",
    "* cf. 리스트 컴프리핸션 "
   ]
  },
  {
   "cell_type": "code",
   "execution_count": 171,
   "id": "786f50d6",
   "metadata": {},
   "outputs": [
    {
     "name": "stdout",
     "output_type": "stream",
     "text": [
      "[2, 4]\n"
     ]
    },
    {
     "data": {
      "text/plain": [
       "[2, 4]"
      ]
     },
     "execution_count": 171,
     "metadata": {},
     "output_type": "execute_result"
    }
   ],
   "source": [
    "def filter_template(func, lst=[]) :\n",
    "    result = []\n",
    "    for i in lst :\n",
    "        if func(i) :\n",
    "            result.append(i)\n",
    "    return result\n",
    "\n",
    "def evenChk(value) :\n",
    "    return value%2==0\n",
    "\n",
    "lst = [1,2,3,4,5]\n",
    "\n",
    "print(list(filter(lambda x : not x%2, [1,2,3,4,5])))\n",
    "filter_template(lambda x : not x%2, lst)"
   ]
  },
  {
   "cell_type": "markdown",
   "id": "079d88be",
   "metadata": {},
   "source": [
    "### (3) sort(key = lambda x : 기준값) : \n",
    "        여기서 기준값을 참조한 후 취향껏 수정이 가능하다.. 리스트 속 0번째 인자를 주석으로 끌고와서 뜯어보면 좋다"
   ]
  },
  {
   "cell_type": "code",
   "execution_count": 175,
   "id": "d58b5db6",
   "metadata": {},
   "outputs": [
    {
     "data": {
      "text/plain": [
       "[9, 7, 2]"
      ]
     },
     "execution_count": 175,
     "metadata": {},
     "output_type": "execute_result"
    }
   ],
   "source": [
    "p = [9, 2, 7]\n",
    "p.sort(key = lambda x : x%3)\n",
    "p"
   ]
  },
  {
   "cell_type": "code",
   "execution_count": 198,
   "id": "be81cf3f",
   "metadata": {},
   "outputs": [
    {
     "name": "stdout",
     "output_type": "stream",
     "text": [
      "[(1, 'one'), (2, 'two'), (3, 'three'), (4, 'four'), (5, 'abcde')]\n",
      "[(5, 'abcde'), (4, 'four'), (1, 'one'), (3, 'three'), (2, 'two')]\n"
     ]
    }
   ],
   "source": [
    "pairs = [(2,'two'), (1, 'one'), (4, 'four'), (3 ,'three'),(5,'abcde')]\n",
    "pairs.sort() # 무조건 0번째 인덱스를 기준으로 정렬\n",
    "# == pairs.sort(key = lambda x : x[0]) # 리스트 속 튜플의 1번째 인덱스 를 기준으로 정렬\n",
    "print(pairs)\n",
    "pairs.sort(key = lambda x : x[1]) # 리스트 속 튜플의 1번째 인덱스 를 기준으로 정렬\n",
    "print(pairs)"
   ]
  },
  {
   "cell_type": "code",
   "execution_count": 187,
   "id": "af797f40",
   "metadata": {},
   "outputs": [
    {
     "name": "stdout",
     "output_type": "stream",
     "text": [
      "[[], [10, 1], [9, 9]]\n"
     ]
    }
   ],
   "source": [
    "number2d = [[9,9,],\n",
    "           [],\n",
    "           [10,1]]\n",
    "number2d.sort(key = lambda x : sum(x)//len(x) if len(x) else 0)\n",
    "A = sorted(number2d,key = lambda x : sum(x)//len(x) if len(x) else 0)\n",
    "number2d\n",
    "print(A)"
   ]
  },
  {
   "cell_type": "code",
   "execution_count": 202,
   "id": "c98725af",
   "metadata": {},
   "outputs": [
    {
     "data": {
      "text/plain": [
       "[[10, 1], [9, 9, 9, 9, 9], [1, 100]]"
      ]
     },
     "execution_count": 202,
     "metadata": {},
     "output_type": "execute_result"
    }
   ],
   "source": [
    "# 합이 큰 순으로 정렬\n",
    "numbers = [[9,9,9,9,9], # 45\n",
    "          [1,100], # 101\n",
    "          [10,1]] # 11\n",
    "numbers.sort(key = lambda item : sum(item)) # [[10,1],[9,9,9,9,9],[1,100]] 예상\n",
    "numbers"
   ]
  },
  {
   "cell_type": "code",
   "execution_count": 206,
   "id": "e6f993ee",
   "metadata": {},
   "outputs": [
    {
     "data": {
      "text/plain": [
       "[[10, 1], [9, 9, 9, 9, 9], [100, 1]]"
      ]
     },
     "execution_count": 206,
     "metadata": {},
     "output_type": "execute_result"
    }
   ],
   "source": [
    "numbers = [[9,9,9,9,9], # 45\n",
    "          [1,100], # 101\n",
    "          [10,1]] # 11\n",
    "numbers = sorted([sorted(item, reverse = True)for item in numbers],key=sum)\n",
    "numbers"
   ]
  },
  {
   "cell_type": "code",
   "execution_count": 228,
   "id": "fc7a1553",
   "metadata": {},
   "outputs": [],
   "source": [
    "# 이름순 정렬, 점수 순 정렬\n",
    "students = [\n",
    "    {'name' : '홍길동', 'kor':90},\n",
    "    {'name' : '김길동', 'kor':50},\n",
    "    {'name' : '윤길동', 'kor':99},\n",
    "    {'kor':99},\n",
    "    {'name':'가빵'},\n",
    "]"
   ]
  },
  {
   "cell_type": "code",
   "execution_count": 229,
   "id": "ce2f2f44",
   "metadata": {},
   "outputs": [
    {
     "name": "stdout",
     "output_type": "stream",
     "text": [
      "이름순 : [{'kor': 99}, {'name': '가빵'}, {'name': '김길동', 'kor': 50}, {'name': '윤길동', 'kor': 99}, {'name': '홍길동', 'kor': 90}]\n",
      "이름순 : [{'name': '가빵'}, {'name': '김길동', 'kor': 50}, {'name': '윤길동', 'kor': 99}, {'name': '홍길동', 'kor': 90}, {'kor': 99}]\n",
      "점수순 : [{'name': '윤길동', 'kor': 99}, {'kor': 99}, {'name': '홍길동', 'kor': 90}, {'name': '김길동', 'kor': 50}, {'name': '가빵'}]\n"
     ]
    }
   ],
   "source": [
    "# 1. 이름 : 이름 없으면 'none' 제일 앞으로\n",
    "students.sort(key = lambda x : x.get('name','none'))\n",
    "print('이름순 :',students)\n",
    "# 1-2. 이름 : 이름 없으면 '힣힣힣' 제일 뒤로\n",
    "students.sort(key = lambda x : x.get('name','힣'))\n",
    "print('이름순 :',students)\n",
    "# 2. 점수\n",
    "students.sort(key = lambda x : x.get('kor',0), reverse = True)\n",
    "print('점수순 :',students)"
   ]
  },
  {
   "cell_type": "markdown",
   "id": "bcf78615",
   "metadata": {},
   "source": [
    "#### sort and lambda 예제"
   ]
  },
  {
   "cell_type": "code",
   "execution_count": 233,
   "id": "46b2e314",
   "metadata": {},
   "outputs": [],
   "source": [
    "# ex2. 책 제목 순 정렬(ㄱ,ㄴ,ㄷ), 저자순 정렬(ㄱ,ㄴ,ㄷ), 가격순 정렬(결측치 == 0원 가정, 오름차순), \n",
    "books = [\n",
    "    {'no' : 1, 'title' : '강남 아파트 인사이트', 'writer' : '오스틀', 'price' : '25,200' ,},\n",
    "    {'no' : 2, 'title' : '단 한번의 삶', 'writer' : '김영하', 'price' : '18,100' ,},\n",
    "    {'no' : 3, 'title' : '흔한 남매 19', 'writer' : '백난도', 'price' : '14220' ,},\n",
    "    {'no' : 4, 'title' : '가격이 잘못', 'writer' : '홍길동', 'price' : '-' ,},\n",
    "    {'no' : 5, 'title' : '가격이 숫자', 'writer' : '신길동', 'price' : 900 ,},\n",
    "    {'no' : 6, 'title' : '가격이 없음', 'writer' : '김길동',},\n",
    "]"
   ]
  },
  {
   "cell_type": "code",
   "execution_count": 235,
   "id": "6af4a3ba",
   "metadata": {},
   "outputs": [
    {
     "data": {
      "text/plain": [
       "[{'no': 5, 'title': '가격이 숫자', 'writer': '신길동', 'price': 900},\n",
       " {'no': 6, 'title': '가격이 없음', 'writer': '김길동'},\n",
       " {'no': 4, 'title': '가격이 잘못', 'writer': '홍길동', 'price': '-'},\n",
       " {'no': 1, 'title': '강남 아파트 인사이트', 'writer': '오스틀', 'price': '25,200'},\n",
       " {'no': 2, 'title': '단 한번의 삶', 'writer': '김영하', 'price': '18,100'},\n",
       " {'no': 3, 'title': '흔한 남매 19', 'writer': '백난도', 'price': '14,220'}]"
      ]
     },
     "execution_count": 235,
     "metadata": {},
     "output_type": "execute_result"
    }
   ],
   "source": [
    "books.sort(key = lambda x : x.get('title'))\n",
    "books"
   ]
  },
  {
   "cell_type": "code",
   "execution_count": 237,
   "id": "290f981d",
   "metadata": {},
   "outputs": [
    {
     "data": {
      "text/plain": [
       "[{'no': 6, 'title': '가격이 없음', 'writer': '김길동'},\n",
       " {'no': 2, 'title': '단 한번의 삶', 'writer': '김영하', 'price': '18,100'},\n",
       " {'no': 3, 'title': '흔한 남매 19', 'writer': '백난도', 'price': '14,220'},\n",
       " {'no': 5, 'title': '가격이 숫자', 'writer': '신길동', 'price': 900},\n",
       " {'no': 1, 'title': '강남 아파트 인사이트', 'writer': '오스틀', 'price': '25,200'},\n",
       " {'no': 4, 'title': '가격이 잘못', 'writer': '홍길동', 'price': '-'}]"
      ]
     },
     "execution_count": 237,
     "metadata": {},
     "output_type": "execute_result"
    }
   ],
   "source": [
    "books.sort(key = lambda x : x.get('writer'))\n",
    "books"
   ]
  },
  {
   "cell_type": "code",
   "execution_count": 249,
   "id": "88350828",
   "metadata": {},
   "outputs": [],
   "source": [
    "# '14,000' -> 14000, 800 -> 800, '-' -> 0\n",
    "def intchange(price) :\n",
    "    if isinstance(price, str) :\n",
    "        price = price.replace(',','')\n",
    "        if price.isdigit() :\n",
    "            price = int(price)\n",
    "        else :\n",
    "            price = 0\n",
    "    elif isinstance(price, int) :\n",
    "        price = price\n",
    "    else :\n",
    "        price = 0\n",
    "    return price"
   ]
  },
  {
   "cell_type": "code",
   "execution_count": 261,
   "id": "059473fb",
   "metadata": {},
   "outputs": [],
   "source": [
    "# '14,000' -> 14000, 800 -> 800, '-' -> 0\n",
    "def intchange(price) :\n",
    "    if isinstance(price, str) and price.replace(',','').isdigit() :\n",
    "        return int(price.replace(',',''))\n",
    "    elif isinstance(price, int) :\n",
    "        return price\n",
    "    else :\n",
    "        return 0"
   ]
  },
  {
   "cell_type": "code",
   "execution_count": 262,
   "id": "013f6934",
   "metadata": {},
   "outputs": [
    {
     "data": {
      "text/plain": [
       "0"
      ]
     },
     "execution_count": 262,
     "metadata": {},
     "output_type": "execute_result"
    }
   ],
   "source": [
    "intchange('-')"
   ]
  },
  {
   "cell_type": "markdown",
   "id": "4dae02e8",
   "metadata": {},
   "source": [
    "#### 선생님 풀이"
   ]
  },
  {
   "cell_type": "code",
   "execution_count": null,
   "id": "5583f368",
   "metadata": {},
   "outputs": [],
   "source": [
    "# '14,000' -> 14000, 800 -> 800, '-' -> 0\n",
    "def intchange(price) :\n",
    "    if isinstance(price, str) and price.replace(',','').isdigit() :\n",
    "        return int(price.replace(',',''))\n",
    "    elif isinstance(price, int) :\n",
    "        return price\n",
    "    else :\n",
    "        return 0"
   ]
  },
  {
   "cell_type": "code",
   "execution_count": 264,
   "id": "be0b757c",
   "metadata": {},
   "outputs": [],
   "source": [
    "ex2 = lambda price : int(price.replace(',','')) if isinstance(price, str) and price.replace(',','').isdigit() else price if isinstance(price, int) else 0"
   ]
  },
  {
   "cell_type": "code",
   "execution_count": 282,
   "id": "523a1a8b",
   "metadata": {},
   "outputs": [
    {
     "ename": "SyntaxError",
     "evalue": "invalid syntax (3133645665.py, line 10)",
     "output_type": "error",
     "traceback": [
      "\u001b[1;36m  Cell \u001b[1;32mIn[282], line 10\u001b[1;36m\u001b[0m\n\u001b[1;33m    check2 = lambda book :\u001b[0m\n\u001b[1;37m                           ^\u001b[0m\n\u001b[1;31mSyntaxError\u001b[0m\u001b[1;31m:\u001b[0m invalid syntax\n"
     ]
    }
   ],
   "source": [
    "def parse_int(book) :\n",
    "    if isinstance(book.get('price'), str) and book.get('price').replace(',','').isdigit() :\n",
    "        return int(book.get('price').replace(',',''))\n",
    "    elif isinstance(book.get('price'),int) :\n",
    "        return int(book.get('price'))\n",
    "    else :\n",
    "        return 0\n",
    "\n",
    "parse_int(books[0])\n",
    "check2 = lambda book : int(book.get('price').replace(',','')) if (isinstance(book.get('price'), str) and book.get('price').replace(',','').isdigit()) else int(book.get('price')) if isinstance(book.get('price'),int) else 0"
   ]
  },
  {
   "cell_type": "code",
   "execution_count": 281,
   "id": "94f39515",
   "metadata": {},
   "outputs": [
    {
     "data": {
      "text/plain": [
       "25200"
      ]
     },
     "execution_count": 281,
     "metadata": {},
     "output_type": "execute_result"
    }
   ],
   "source": [
    "check2(books[0])"
   ]
  },
  {
   "cell_type": "code",
   "execution_count": 294,
   "id": "a0b58cfa",
   "metadata": {},
   "outputs": [
    {
     "data": {
      "text/plain": [
       "[{'no': 4, 'title': '가격이 잘못', 'writer': '홍길동', 'price': '-'},\n",
       " {'no': 6, 'title': '가격이 없음', 'writer': '김길동'},\n",
       " {'no': 5, 'title': '가격이 숫자', 'writer': '신길동', 'price': 900},\n",
       " {'no': 3, 'title': '흔한 남매 19', 'writer': '백난도', 'price': '14220'},\n",
       " {'no': 2, 'title': '단 한번의 삶', 'writer': '김영하', 'price': '18,100'},\n",
       " {'no': 1, 'title': '강남 아파트 인사이트', 'writer': '오스틀', 'price': '25,200'}]"
      ]
     },
     "execution_count": 294,
     "metadata": {},
     "output_type": "execute_result"
    }
   ],
   "source": [
    "books = [\n",
    "    {'no' : 1, 'title' : '강남 아파트 인사이트', 'writer' : '오스틀', 'price' : '25,200' ,},\n",
    "    {'no' : 2, 'title' : '단 한번의 삶', 'writer' : '김영하', 'price' : '18,100' ,},\n",
    "    {'no' : 3, 'title' : '흔한 남매 19', 'writer' : '백난도', 'price' : '14220' ,},\n",
    "    {'no' : 4, 'title' : '가격이 잘못', 'writer' : '홍길동', 'price' : '-' ,},\n",
    "    {'no' : 5, 'title' : '가격이 숫자', 'writer' : '신길동', 'price' : 900 ,},\n",
    "    {'no' : 6, 'title' : '가격이 없음', 'writer' : '김길동',},\n",
    "]\n",
    "\n",
    "copybooks = books.copy()\n",
    "copybooks.sort(key = lambda book :\n",
    "               int(book.get('price').replace(',','')) \\\n",
    "               if isinstance(book.get('price'), str) and book.get('price').replace(',','').isdigit() \\\n",
    "               else int(book.get('price')) \\\n",
    "               if isinstance(book.get('price'),int) \\\n",
    "               else 0 ,) \n",
    "copybooks"
   ]
  },
  {
   "cell_type": "code",
   "execution_count": 293,
   "id": "7876faf8",
   "metadata": {},
   "outputs": [
    {
     "data": {
      "text/plain": [
       "[{'no': 1, 'title': '강남 아파트 인사이트', 'writer': '오스틀', 'price': '25,200'},\n",
       " {'no': 2, 'title': '단 한번의 삶', 'writer': '김영하', 'price': '18,100'},\n",
       " {'no': 3, 'title': '흔한 남매 19', 'writer': '백난도', 'price': '14220'},\n",
       " {'no': 4, 'title': '가격이 잘못', 'writer': '홍길동', 'price': '-'},\n",
       " {'no': 5, 'title': '가격이 숫자', 'writer': '신길동', 'price': 900},\n",
       " {'no': 6, 'title': '가격이 없음', 'writer': '김길동'}]"
      ]
     },
     "execution_count": 293,
     "metadata": {},
     "output_type": "execute_result"
    }
   ],
   "source": [
    "books"
   ]
  },
  {
   "cell_type": "code",
   "execution_count": null,
   "id": "0b4535f8",
   "metadata": {},
   "outputs": [],
   "source": []
  },
  {
   "cell_type": "markdown",
   "id": "f292be14",
   "metadata": {},
   "source": [
    "#### 나의 풀이"
   ]
  },
  {
   "cell_type": "code",
   "execution_count": 271,
   "id": "3742909a",
   "metadata": {
    "collapsed": true
   },
   "outputs": [
    {
     "data": {
      "text/plain": [
       "[{'no': 1, 'title': '강남 아파트 인사이트', 'writer': '오스틀', 'price': 25200},\n",
       " {'no': 2, 'title': '단 한번의 삶', 'writer': '김영하', 'price': 18100},\n",
       " {'no': 3, 'title': '흔한 남매 19', 'writer': '백난도', 'price': 14220},\n",
       " {'no': 4, 'title': '가격이 잘못', 'writer': '홍길동', 'price': 0},\n",
       " {'no': 5, 'title': '가격이 숫자', 'writer': '신길동', 'price': 900},\n",
       " {'no': 6, 'title': '가격이 없음', 'writer': '김길동', 'price': 0}]"
      ]
     },
     "execution_count": 271,
     "metadata": {},
     "output_type": "execute_result"
    }
   ],
   "source": [
    "books = [\n",
    "    {'no' : 1, 'title' : '강남 아파트 인사이트', 'writer' : '오스틀', 'price' : '25,200' ,},\n",
    "    {'no' : 2, 'title' : '단 한번의 삶', 'writer' : '김영하', 'price' : '18,100' ,},\n",
    "    {'no' : 3, 'title' : '흔한 남매 19', 'writer' : '백난도', 'price' : '14220' ,},\n",
    "    {'no' : 4, 'title' : '가격이 잘못', 'writer' : '홍길동', 'price' : '-' ,},\n",
    "    {'no' : 5, 'title' : '가격이 숫자', 'writer' : '신길동', 'price' : 900 ,},\n",
    "    {'no' : 6, 'title' : '가격이 없음', 'writer' : '김길동',},\n",
    "]\n",
    "# price 접근 : book.get('price', 0)\n",
    "list(map(lambda book : {'no' : book.get('no', 0), 'title' : book.get('title', '힣'), 'writer' : book.get('writer', '힣'),\n",
    "    'price' : int(book.get('price', 0).replace(',','')) if isinstance(book.get('price', 0), str) and book.get('price', 0).replace(',','').isdigit() \n",
    "                else book.get('price', 0) if isinstance(book.get('price', 0), int) else 0}, books))"
   ]
  },
  {
   "cell_type": "code",
   "execution_count": 272,
   "id": "01f4e5e6",
   "metadata": {
    "collapsed": true
   },
   "outputs": [
    {
     "data": {
      "text/plain": [
       "[{'no': 4, 'title': '가격이 잘못', 'writer': '홍길동', 'price': 0},\n",
       " {'no': 6, 'title': '가격이 없음', 'writer': '김길동', 'price': 0},\n",
       " {'no': 5, 'title': '가격이 숫자', 'writer': '신길동', 'price': 900},\n",
       " {'no': 3, 'title': '흔한 남매 19', 'writer': '백난도', 'price': 14220},\n",
       " {'no': 2, 'title': '단 한번의 삶', 'writer': '김영하', 'price': 18100},\n",
       " {'no': 1, 'title': '강남 아파트 인사이트', 'writer': '오스틀', 'price': 25200}]"
      ]
     },
     "execution_count": 272,
     "metadata": {},
     "output_type": "execute_result"
    }
   ],
   "source": [
    "# price 접근 : book.get('price', 0)\n",
    "sorted(list(map(lambda book : {'no' : book.get('no', 0), 'title' : book.get('title', '힣'), 'writer' : book.get('writer', '힣'),\n",
    "    'price' : int(book.get('price', 0).replace(',','')) if isinstance(book.get('price', 0), str) and book.get('price', 0).replace(',','').isdigit() \n",
    "                else book.get('price', 0) if isinstance(book.get('price', 0), int) else 0}, books)), key = lambda x : x['price'])"
   ]
  },
  {
   "cell_type": "code",
   "execution_count": null,
   "id": "0c663ee6",
   "metadata": {},
   "outputs": [],
   "source": []
  },
  {
   "cell_type": "markdown",
   "id": "db72b0b4",
   "metadata": {},
   "source": [
    "## 4.3 함수의 return 값으로도 람다식 이용\n",
    "    - 자주 쓰이지 않음"
   ]
  },
  {
   "cell_type": "code",
   "execution_count": 299,
   "id": "0ca68d1f",
   "metadata": {},
   "outputs": [],
   "source": [
    "# 함수를 return\n",
    "def make_box(shape) : \n",
    "    ''' \n",
    "    shape : \n",
    "    [length] => len가 l인 list를 생성하는 함수 return , \n",
    "    [row, col] => r행 c열인 list를 생성하는 함수 return, \n",
    "    [dimension, row, col] => d면 r행 c열 3차원 리스트를 생성하는 함수 \n",
    "    '''\n",
    "    def box(init_value) : # init_value로 가득찬 박스를 반환\n",
    "        if len(shape) == 1:\n",
    "            return [init_value] * shape[0]\n",
    "        elif len(shape) == 2 :\n",
    "            return [[init_value] * shape[1]] * shape[0]\n",
    "    return box"
   ]
  },
  {
   "cell_type": "code",
   "execution_count": 297,
   "id": "c7a0d697",
   "metadata": {},
   "outputs": [],
   "source": [
    "line_func = make_box([2,3]) # box"
   ]
  },
  {
   "cell_type": "code",
   "execution_count": 298,
   "id": "de258f3a",
   "metadata": {
    "collapsed": true
   },
   "outputs": [
    {
     "data": {
      "text/plain": [
       "[[20, 20, 20], [20, 20, 20]]"
      ]
     },
     "execution_count": 298,
     "metadata": {},
     "output_type": "execute_result"
    }
   ],
   "source": [
    "line_func(20)"
   ]
  },
  {
   "cell_type": "code",
   "execution_count": 300,
   "id": "80b749f0",
   "metadata": {},
   "outputs": [],
   "source": [
    "line_func1 = make_box([10])"
   ]
  },
  {
   "cell_type": "code",
   "execution_count": 301,
   "id": "aad2bc8b",
   "metadata": {
    "collapsed": true
   },
   "outputs": [
    {
     "data": {
      "text/plain": [
       "[20, 20, 20, 20, 20, 20, 20, 20, 20, 20]"
      ]
     },
     "execution_count": 301,
     "metadata": {},
     "output_type": "execute_result"
    }
   ],
   "source": [
    "line_func1(20)"
   ]
  },
  {
   "cell_type": "code",
   "execution_count": 302,
   "id": "ecbc146a",
   "metadata": {},
   "outputs": [],
   "source": [
    "def box(init_value) : # init_value로 가득찬 박스를 반환\n",
    "    if len(shape) == 1:\n",
    "        return [init_value] * shape[0]\n",
    "    elif len(shape) == 2 :\n",
    "        return [[init_value] * shape[1]] * shape[0]\n",
    "    return box"
   ]
  },
  {
   "cell_type": "code",
   "execution_count": 1,
   "id": "b21d4d10",
   "metadata": {},
   "outputs": [
    {
     "data": {
      "text/plain": [
       "<function __main__.<lambda>(init_value)>"
      ]
     },
     "execution_count": 1,
     "metadata": {},
     "output_type": "execute_result"
    }
   ],
   "source": [
    "lambda init_value : [init_value] * shape[0] if len(shape) == 1 else [[init_value] * shape[1]] * shape[0] if [[init_value] * shape[1]] * shape[0] else '잘못된 입력입니다.'"
   ]
  },
  {
   "cell_type": "code",
   "execution_count": 2,
   "id": "1c681706",
   "metadata": {},
   "outputs": [],
   "source": [
    "def make_box(shape) : \n",
    "    return lambda init_value : [init_value] * shape[0] if len(shape) == 1 else [[init_value] * shape[1]] * shape[0] if [[init_value] * shape[1]] * shape[0] else '잘못된 입력입니다.'"
   ]
  },
  {
   "cell_type": "code",
   "execution_count": 3,
   "id": "418ea70d",
   "metadata": {},
   "outputs": [],
   "source": [
    "KK = make_box([3,3])"
   ]
  },
  {
   "cell_type": "code",
   "execution_count": 7,
   "id": "fd2874cb",
   "metadata": {},
   "outputs": [
    {
     "data": {
      "text/plain": [
       "[[0, 0, 0], [0, 0, 0], [0, 0, 0]]"
      ]
     },
     "execution_count": 7,
     "metadata": {},
     "output_type": "execute_result"
    }
   ],
   "source": [
    "KK(0)"
   ]
  },
  {
   "cell_type": "markdown",
   "id": "03e6d125",
   "metadata": {},
   "source": [
    "# 5절 파이썬 내장 함수\n",
    "- import 없이 바로 사용 가능한 함수\n",
    "- 키워드 처럼 간주되므로 식별자(변수명, 함수명, 클래스명)로 사용 되는 것을 기피 : 기능적 결함의 발생 방지\n"
   ]
  },
  {
   "cell_type": "code",
   "execution_count": 8,
   "id": "68373112",
   "metadata": {
    "collapsed": true
   },
   "outputs": [
    {
     "data": {
      "text/plain": [
       "{'__name__': '__main__',\n",
       " '__doc__': 'Automatically created module for IPython interactive environment',\n",
       " '__package__': None,\n",
       " '__loader__': None,\n",
       " '__spec__': None,\n",
       " '__builtin__': <module 'builtins' (built-in)>,\n",
       " '__builtins__': <module 'builtins' (built-in)>,\n",
       " '_ih': ['',\n",
       "  \"lambda init_value : [init_value] * shape[0] if len(shape) == 1 else [[init_value] * shape[1]] * shape[0] if [[init_value] * shape[1]] * shape[0] else '잘못된 입력입니다.'\",\n",
       "  \"def make_box(shape) : \\n    return lambda init_value : [init_value] * shape[0] if len(shape) == 1 else [[init_value] * shape[1]] * shape[0] if [[init_value] * shape[1]] * shape[0] else '잘못된 입력입니다.'\",\n",
       "  'KK = make_box([3,3])',\n",
       "  'KK(1)',\n",
       "  'KK(0)',\n",
       "  'KK(0,1)',\n",
       "  'KK(0)',\n",
       "  'globals()'],\n",
       " '_oh': {1: <function __main__.<lambda>(init_value)>,\n",
       "  4: [[1, 1, 1], [1, 1, 1], [1, 1, 1]],\n",
       "  5: [[0, 0, 0], [0, 0, 0], [0, 0, 0]],\n",
       "  7: [[0, 0, 0], [0, 0, 0], [0, 0, 0]]},\n",
       " '_dh': [WindowsPath('C:/ai_x/source/01_python')],\n",
       " 'In': ['',\n",
       "  \"lambda init_value : [init_value] * shape[0] if len(shape) == 1 else [[init_value] * shape[1]] * shape[0] if [[init_value] * shape[1]] * shape[0] else '잘못된 입력입니다.'\",\n",
       "  \"def make_box(shape) : \\n    return lambda init_value : [init_value] * shape[0] if len(shape) == 1 else [[init_value] * shape[1]] * shape[0] if [[init_value] * shape[1]] * shape[0] else '잘못된 입력입니다.'\",\n",
       "  'KK = make_box([3,3])',\n",
       "  'KK(1)',\n",
       "  'KK(0)',\n",
       "  'KK(0,1)',\n",
       "  'KK(0)',\n",
       "  'globals()'],\n",
       " 'Out': {1: <function __main__.<lambda>(init_value)>,\n",
       "  4: [[1, 1, 1], [1, 1, 1], [1, 1, 1]],\n",
       "  5: [[0, 0, 0], [0, 0, 0], [0, 0, 0]],\n",
       "  7: [[0, 0, 0], [0, 0, 0], [0, 0, 0]]},\n",
       " 'get_ipython': <bound method InteractiveShell.get_ipython of <ipykernel.zmqshell.ZMQInteractiveShell object at 0x000002AF3F84ED10>>,\n",
       " 'exit': <IPython.core.autocall.ZMQExitAutocall at 0x2af3f881ff0>,\n",
       " 'quit': <IPython.core.autocall.ZMQExitAutocall at 0x2af3f881ff0>,\n",
       " 'open': <function io.open(file, mode='r', buffering=-1, encoding=None, errors=None, newline=None, closefd=True, opener=None)>,\n",
       " '_': [[0, 0, 0], [0, 0, 0], [0, 0, 0]],\n",
       " '__': [[0, 0, 0], [0, 0, 0], [0, 0, 0]],\n",
       " '___': [[1, 1, 1], [1, 1, 1], [1, 1, 1]],\n",
       " '_i': 'KK(0)',\n",
       " '_ii': 'KK(0,1)',\n",
       " '_iii': 'KK(0)',\n",
       " '_i1': \"lambda init_value : [init_value] * shape[0] if len(shape) == 1 else [[init_value] * shape[1]] * shape[0] if [[init_value] * shape[1]] * shape[0] else '잘못된 입력입니다.'\",\n",
       " '_1': <function __main__.<lambda>(init_value)>,\n",
       " '_i2': \"def make_box(shape) : \\n    return lambda init_value : [init_value] * shape[0] if len(shape) == 1 else [[init_value] * shape[1]] * shape[0] if [[init_value] * shape[1]] * shape[0] else '잘못된 입력입니다.'\",\n",
       " 'make_box': <function __main__.make_box(shape)>,\n",
       " '_i3': 'KK = make_box([3,3])',\n",
       " 'KK': <function __main__.make_box.<locals>.<lambda>(init_value)>,\n",
       " '_i4': 'KK(1)',\n",
       " '_4': [[1, 1, 1], [1, 1, 1], [1, 1, 1]],\n",
       " '_i5': 'KK(0)',\n",
       " '_5': [[0, 0, 0], [0, 0, 0], [0, 0, 0]],\n",
       " '_i6': 'KK(0,1)',\n",
       " '_i7': 'KK(0)',\n",
       " '_7': [[0, 0, 0], [0, 0, 0], [0, 0, 0]],\n",
       " '_i8': 'globals()'}"
      ]
     },
     "execution_count": 8,
     "metadata": {},
     "output_type": "execute_result"
    }
   ],
   "source": [
    "globals() # 전역변수 리스트"
   ]
  },
  {
   "cell_type": "code",
   "execution_count": 9,
   "id": "c3786034",
   "metadata": {
    "collapsed": true
   },
   "outputs": [
    {
     "data": {
      "text/plain": [
       "{'__name__': '__main__',\n",
       " '__doc__': 'Automatically created module for IPython interactive environment',\n",
       " '__package__': None,\n",
       " '__loader__': None,\n",
       " '__spec__': None,\n",
       " '__builtin__': <module 'builtins' (built-in)>,\n",
       " '__builtins__': <module 'builtins' (built-in)>,\n",
       " '_ih': ['',\n",
       "  \"lambda init_value : [init_value] * shape[0] if len(shape) == 1 else [[init_value] * shape[1]] * shape[0] if [[init_value] * shape[1]] * shape[0] else '잘못된 입력입니다.'\",\n",
       "  \"def make_box(shape) : \\n    return lambda init_value : [init_value] * shape[0] if len(shape) == 1 else [[init_value] * shape[1]] * shape[0] if [[init_value] * shape[1]] * shape[0] else '잘못된 입력입니다.'\",\n",
       "  'KK = make_box([3,3])',\n",
       "  'KK(1)',\n",
       "  'KK(0)',\n",
       "  'KK(0,1)',\n",
       "  'KK(0)',\n",
       "  'globals()',\n",
       "  'locals()'],\n",
       " '_oh': {1: <function __main__.<lambda>(init_value)>,\n",
       "  4: [[1, 1, 1], [1, 1, 1], [1, 1, 1]],\n",
       "  5: [[0, 0, 0], [0, 0, 0], [0, 0, 0]],\n",
       "  7: [[0, 0, 0], [0, 0, 0], [0, 0, 0]],\n",
       "  8: {...}},\n",
       " '_dh': [WindowsPath('C:/ai_x/source/01_python')],\n",
       " 'In': ['',\n",
       "  \"lambda init_value : [init_value] * shape[0] if len(shape) == 1 else [[init_value] * shape[1]] * shape[0] if [[init_value] * shape[1]] * shape[0] else '잘못된 입력입니다.'\",\n",
       "  \"def make_box(shape) : \\n    return lambda init_value : [init_value] * shape[0] if len(shape) == 1 else [[init_value] * shape[1]] * shape[0] if [[init_value] * shape[1]] * shape[0] else '잘못된 입력입니다.'\",\n",
       "  'KK = make_box([3,3])',\n",
       "  'KK(1)',\n",
       "  'KK(0)',\n",
       "  'KK(0,1)',\n",
       "  'KK(0)',\n",
       "  'globals()',\n",
       "  'locals()'],\n",
       " 'Out': {1: <function __main__.<lambda>(init_value)>,\n",
       "  4: [[1, 1, 1], [1, 1, 1], [1, 1, 1]],\n",
       "  5: [[0, 0, 0], [0, 0, 0], [0, 0, 0]],\n",
       "  7: [[0, 0, 0], [0, 0, 0], [0, 0, 0]],\n",
       "  8: {...}},\n",
       " 'get_ipython': <bound method InteractiveShell.get_ipython of <ipykernel.zmqshell.ZMQInteractiveShell object at 0x000002AF3F84ED10>>,\n",
       " 'exit': <IPython.core.autocall.ZMQExitAutocall at 0x2af3f881ff0>,\n",
       " 'quit': <IPython.core.autocall.ZMQExitAutocall at 0x2af3f881ff0>,\n",
       " 'open': <function io.open(file, mode='r', buffering=-1, encoding=None, errors=None, newline=None, closefd=True, opener=None)>,\n",
       " '_': {...},\n",
       " '__': [[0, 0, 0], [0, 0, 0], [0, 0, 0]],\n",
       " '___': [[0, 0, 0], [0, 0, 0], [0, 0, 0]],\n",
       " '_i': 'globals()',\n",
       " '_ii': 'KK(0)',\n",
       " '_iii': 'KK(0,1)',\n",
       " '_i1': \"lambda init_value : [init_value] * shape[0] if len(shape) == 1 else [[init_value] * shape[1]] * shape[0] if [[init_value] * shape[1]] * shape[0] else '잘못된 입력입니다.'\",\n",
       " '_1': <function __main__.<lambda>(init_value)>,\n",
       " '_i2': \"def make_box(shape) : \\n    return lambda init_value : [init_value] * shape[0] if len(shape) == 1 else [[init_value] * shape[1]] * shape[0] if [[init_value] * shape[1]] * shape[0] else '잘못된 입력입니다.'\",\n",
       " 'make_box': <function __main__.make_box(shape)>,\n",
       " '_i3': 'KK = make_box([3,3])',\n",
       " 'KK': <function __main__.make_box.<locals>.<lambda>(init_value)>,\n",
       " '_i4': 'KK(1)',\n",
       " '_4': [[1, 1, 1], [1, 1, 1], [1, 1, 1]],\n",
       " '_i5': 'KK(0)',\n",
       " '_5': [[0, 0, 0], [0, 0, 0], [0, 0, 0]],\n",
       " '_i6': 'KK(0,1)',\n",
       " '_i7': 'KK(0)',\n",
       " '_7': [[0, 0, 0], [0, 0, 0], [0, 0, 0]],\n",
       " '_i8': 'globals()',\n",
       " '_8': {...},\n",
       " '_i9': 'locals()'}"
      ]
     },
     "execution_count": 9,
     "metadata": {},
     "output_type": "execute_result"
    }
   ],
   "source": [
    "locals()"
   ]
  },
  {
   "cell_type": "code",
   "execution_count": 12,
   "id": "fc6809c5",
   "metadata": {},
   "outputs": [
    {
     "data": {
      "text/plain": [
       "True"
      ]
     },
     "execution_count": 12,
     "metadata": {},
     "output_type": "execute_result"
    }
   ],
   "source": [
    "all(i > 0 for i in range(1,10)) # 전부 True인지 여부"
   ]
  },
  {
   "cell_type": "code",
   "execution_count": 13,
   "id": "869aeec1",
   "metadata": {},
   "outputs": [
    {
     "data": {
      "text/plain": [
       "True"
      ]
     },
     "execution_count": 13,
     "metadata": {},
     "output_type": "execute_result"
    }
   ],
   "source": [
    "any(i % 2 == 0 for i in range(1,50)) # iterable 객체 속 하나라도 True 이면 True를 반환"
   ]
  },
  {
   "cell_type": "code",
   "execution_count": 15,
   "id": "7bd6a61e",
   "metadata": {},
   "outputs": [
    {
     "data": {
      "text/plain": [
       "4"
      ]
     },
     "execution_count": 15,
     "metadata": {},
     "output_type": "execute_result"
    }
   ],
   "source": [
    "round(3.5) # 반올림 함수 -> 정수를 반환"
   ]
  },
  {
   "cell_type": "code",
   "execution_count": 21,
   "id": "28b19409",
   "metadata": {},
   "outputs": [
    {
     "name": "stdout",
     "output_type": "stream",
     "text": [
      "4.0\n",
      "3.0\n",
      "31\n",
      "30\n"
     ]
    }
   ],
   "source": [
    "import numpy as np # numpy 모듈을 np라는 이름으로 load\n",
    "np.round(3.5) # : -> 실수를 반환\n",
    "print(np.ceil(3.5)) # 올림\n",
    "print(np.floor(3.5)) # 내림\n",
    "\n",
    "import math\n",
    "print(math.ceil(30.5))\n",
    "print(math.floor(30.5))"
   ]
  },
  {
   "cell_type": "code",
   "execution_count": null,
   "id": "8dee12a8",
   "metadata": {},
   "outputs": [],
   "source": []
  },
  {
   "cell_type": "markdown",
   "id": "70114846",
   "metadata": {},
   "source": [
    "# 6절 연습문제"
   ]
  },
  {
   "cell_type": "code",
   "execution_count": null,
   "id": "d7dcf5e9",
   "metadata": {},
   "outputs": [],
   "source": [
    "# 실습형"
   ]
  },
  {
   "cell_type": "code",
   "execution_count": 24,
   "id": "dc792194",
   "metadata": {},
   "outputs": [
    {
     "name": "stdout",
     "output_type": "stream",
     "text": [
      "(10000, 1)\n",
      "(10000, 1)\n"
     ]
    }
   ],
   "source": [
    "# 1. 함수의 인자로 리스트를 받은 후 리스트 내에 있는 모든 정수 값에 대해 최대값과 최소값을 리턴하는 함수를 작성하세요.\n",
    "def get_max_min(data_list) :\n",
    "    return max(data_list), min(data_list)\n",
    "\n",
    "get_max_min2 = lambda data_list : (max(data_list), min(data_list))\n",
    "\n",
    "data_list = [1,10,100,1000,10000]\n",
    "print(get_max_min(data_list))\n",
    "print(get_max_min2(data_list))"
   ]
  },
  {
   "cell_type": "code",
   "execution_count": 34,
   "id": "9a2d044a",
   "metadata": {},
   "outputs": [
    {
     "name": "stdout",
     "output_type": "stream",
     "text": [
      "비만\n",
      "비만\n"
     ]
    }
   ],
   "source": [
    "# 2. 체질량 지수는 체중과 키를 이용해 비만도를 나타내는 지수로 아래 수식에 따라 계산된다. \n",
    "#    함수의 인자로 체중과 신장을 입력 받은 후 BMI값에 따라 '마른체형', '표준', '비만','고도비만' 중 하나의 상태를 출력하는 함수를 구현하세요.\n",
    "def getBMI(kg, m) :\n",
    "    BMI = kg/(m**2)\n",
    "    if BMI < 18.5 : return '마른체형'\n",
    "    elif 18.5 <= BMI < 25 : return '표준'\n",
    "    elif 25 <= BMI < 30 : return '비만'\n",
    "    elif 30 < BMI : return '고도비만'\n",
    "    else : return '잘못된 값을 입력하신 거 같아요'\n",
    "print(getBMI(77,1.75))\n",
    "getBMI_lambda = lambda kg, m : '마른체형' if kg/(m**2) < 18.5 else '표준' if 18.5 <= kg/(m**2) < 25 else '비만' if 25 <= kg/(m**2) < 30 else '고도비만' if 30 < kg/(m**2) else '잘못된 값을 입력하신 거 같아요' \n",
    "print(getBMI_lambda(77,1.75))"
   ]
  },
  {
   "cell_type": "code",
   "execution_count": 39,
   "id": "179f4a74",
   "metadata": {},
   "outputs": [
    {
     "name": "stdout",
     "output_type": "stream",
     "text": [
      "(0.5, 3.414213562373095)\n",
      "(0.5, 3.414213562373095)\n"
     ]
    }
   ],
   "source": [
    "# 4. 직각삼각형의 밑변과 높이를 입력받은 후 삼각형의 면적과 둘레를 계산하는 함수를 작성하세요. # math 모듈을 사용하라고 하지만 구현능력을 위해 하드코딩\n",
    "def get_triangle(width, height) :\n",
    "    return (0.5 * width * height) , (width + height + (((width**2) + (height ** 2))**0.5))\n",
    "\n",
    "get_triangle(1,1)\n",
    "get_triangle_lambda = lambda width, height : ((0.5 * width * height) , (width + height + (((width**2) + (height ** 2))**0.5)))\n",
    "print(get_triangle(1,1))\n",
    "print(get_triangle_lambda(1,1))"
   ]
  },
  {
   "cell_type": "code",
   "execution_count": 45,
   "id": "289c0f10",
   "metadata": {},
   "outputs": [
    {
     "name": "stdout",
     "output_type": "stream",
     "text": [
      "55\n",
      "55\n"
     ]
    }
   ],
   "source": [
    "# 4. 함수의 인자로 시작과 끝 숫자가 주어질 때 시작부터 끝까지의 모든 정수 값의 합을 리턴하는 함수를 작성하세요.\n",
    "def mysum(from_, end) :\n",
    "    return sum((range(from_, end+1)))\n",
    "print(mysum(1,10))\n",
    "mysum2 = lambda from_, end : sum((range(from_, end+1)))\n",
    "print(mysum2(1,10))"
   ]
  },
  {
   "cell_type": "code",
   "execution_count": 49,
   "id": "2d6bf304",
   "metadata": {},
   "outputs": [
    {
     "name": "stdout",
     "output_type": "stream",
     "text": [
      "['seo', 'jej', 'gwa', 'dae']\n",
      "['seo', 'jej', 'gwa', 'dae']\n"
     ]
    }
   ],
   "source": [
    "# 5. 함수의 인자로 문자열을 포함하는 리스트가 입력 될 때 각 문자열의 첫 세글자로만 구성된 리스트를 리턴하는 함수와 람다식을 작성하세요\n",
    "def get_abbrs(lst) :\n",
    "    return [i[:3] for i in lst]\n",
    "\n",
    "print(get_abbrs(['seoul','jeju','gwangju','daegu']))\n",
    "get_abbrs_lambda = lambda lst : [i[:3] for i in lst]\n",
    "print(get_abbrs_lambda(['seoul','jeju','gwangju','daegu']))"
   ]
  },
  {
   "cell_type": "code",
   "execution_count": 53,
   "id": "fde4d552",
   "metadata": {},
   "outputs": [
    {
     "name": "stdout",
     "output_type": "stream",
     "text": [
      "8\n",
      "8\n"
     ]
    }
   ],
   "source": [
    "# 6. 다음 코드를 람다 함수 형태로 수정할 때 알맞은 코드를 작성하시오\n",
    "def f(x,y) :\n",
    "    return x**y\n",
    "f_lambda = lambda x, y : x**y\n",
    "print(f(2,3))\n",
    "print(f_lambda(2,3))"
   ]
  },
  {
   "cell_type": "code",
   "execution_count": 55,
   "id": "e8265345",
   "metadata": {},
   "outputs": [
    {
     "name": "stdout",
     "output_type": "stream",
     "text": [
      "[1, 4, 9, 16, 25]\n",
      "[1, 4, 9, 16, 25]\n"
     ]
    }
   ],
   "source": [
    "# 7. ex = [1,2,3,4,5] 를 [1,4,9,16,25]의 결과를 얻을 수 있도록 람다함수와 map()함수를 사용하여 구현과 리스트 컴프리헨션으로 구현하세요\n",
    "ex = [1,2,3,4,5]\n",
    "# 7-1 리스트컴프리헨션\n",
    "print([i**2 for i in ex])\n",
    "# 7-2 map함수 구현\n",
    "print(list(map(lambda x : x**2,ex)))"
   ]
  },
  {
   "cell_type": "code",
   "execution_count": 56,
   "id": "2a04c49d",
   "metadata": {},
   "outputs": [
    {
     "name": "stdout",
     "output_type": "stream",
     "text": [
      "1 2 3\n",
      "[1, 2, 3]\n"
     ]
    }
   ],
   "source": [
    "# 8. 다음 코드를 각각 실행하면 서로 다른 결과가 나온다. 결과를 서술하시오.\n",
    "\n",
    "## *를 통해 언패킹 한 결과를 반환하기 때문입니다.\n",
    "a = [1,2,3]\n",
    "print(*a)\n",
    "print(a)"
   ]
  },
  {
   "cell_type": "code",
   "execution_count": 9,
   "id": "47e46a61",
   "metadata": {},
   "outputs": [
    {
     "data": {
      "text/plain": [
       "'2024-09-06'"
      ]
     },
     "execution_count": 9,
     "metadata": {},
     "output_type": "execute_result"
    }
   ],
   "source": [
    "# 9. 다음 코드의 실행 결과는 ? '2024-9-6'\n",
    "date_info = {'year' : 2024, 'month' : '9', 'day' : '6'}\n",
    "result = '{year}-{month:>02}-{day:>02}'.format(**date_info)\n",
    "result"
   ]
  },
  {
   "cell_type": "code",
   "execution_count": 104,
   "id": "88bcbfad",
   "metadata": {},
   "outputs": [
    {
     "data": {
      "text/plain": [
       "True"
      ]
     },
     "execution_count": 104,
     "metadata": {},
     "output_type": "execute_result"
    }
   ],
   "source": [
    "# 10. n개의 벡터(리스트나 튜플, 셋 등)의 크기들이 같은 지 여부를 return하는 vector_size_check(*vector_var)를 한줄의 코드(리스트 컴프리핸션 이용)로 작성하세요\n",
    "# 무슨 말인 지 모르겠어요...\n",
    "# ex) vector_size_check([10,20], (100,200), {'name' : '홍', 'age' : 20}) => True\n",
    "vector_size_check = lambda *vector_var : True if len(set([len(i) for i in vector_var])) == 1 else False\n",
    "vector_size_check([10,20], (100,200), {'name' : '홍', 'age' : 20})"
   ]
  },
  {
   "cell_type": "code",
   "execution_count": 13,
   "id": "b3f4a96d",
   "metadata": {},
   "outputs": [
    {
     "data": {
      "text/plain": [
       "True"
      ]
     },
     "execution_count": 13,
     "metadata": {},
     "output_type": "execute_result"
    }
   ],
   "source": [
    "# 10. n개의 벡터(리스트나 튜플, 셋 등)의 크기들이 같은 지 여부를 return하는 vector_size_check(*vector_var)를 한줄의 코드(리스트 컴프리핸션 이용)로 작성하세요\n",
    "# all 풀이\n",
    "# ex) vector_size_check([10,20], (100,200), {'name' : '홍', 'age' : 20}) => True\n",
    "vector_size_check = lambda *vector_var : True if all(data == len(vector_var[0]) for data in [len(i) for i in vector_var]) == 1 else False\n",
    "vector_size_check([10,20], (100,200), {'name' : '홍', 'age' : 20})"
   ]
  },
  {
   "cell_type": "code",
   "execution_count": 102,
   "id": "140e3bef",
   "metadata": {},
   "outputs": [
    {
     "name": "stdout",
     "output_type": "stream",
     "text": [
      "[5, 10, 15, 20]\n",
      "[5, 10, 15, 20]\n"
     ]
    }
   ],
   "source": [
    "# 11. 다음과 같은 결과를 얻기 위해 하나의 스칼라 값을 리스트나 튜플, 셋 등 벡터에 곱하는 코드를 작성하시오.(단, 입력되는 벡터의 크기는 일정하지 않음)\n",
    "def scalar_vector_product(n,lst) :\n",
    "    return [n*x for x in lst]\n",
    "scalar_vector_product_lambda = lambda n, lst : [n*x for x in lst]\n",
    "print(scalar_vector_product(n,lst))\n",
    "print(scalar_vector_product_lambda(n,lst))"
   ]
  },
  {
   "cell_type": "code",
   "execution_count": 69,
   "id": "d68ccb8c",
   "metadata": {},
   "outputs": [],
   "source": [
    "# 서술형"
   ]
  },
  {
   "cell_type": "code",
   "execution_count": 71,
   "id": "abb242a6",
   "metadata": {},
   "outputs": [
    {
     "data": {
      "text/plain": [
       "[(4, 'a'), (3, 'b'), (2, 'c'), (1, 'd')]"
      ]
     },
     "execution_count": 71,
     "metadata": {},
     "output_type": "execute_result"
    }
   ],
   "source": [
    "# 1. 다음 코드의 실행 결과는 ? 2번 [(4, 'a'), (3, 'b'), (2, 'c'), (1, 'd')]\n",
    "pairs = [(1,'d'),(2,'c'),(3,'b'),(4,'a')]\n",
    "pairs.sort(key = lambda pair : pair[1])\n",
    "pairs"
   ]
  },
  {
   "cell_type": "code",
   "execution_count": 75,
   "id": "d191099c",
   "metadata": {},
   "outputs": [
    {
     "name": "stdout",
     "output_type": "stream",
     "text": [
      "612613"
     ]
    }
   ],
   "source": [
    "# 2.함수 영역과 변수들의 참조 영역에 따른 동작을 보여주기 위한 문제입니다. 오류가 발생하는 라인을 찾고 문제를 해결하기 위한 코드를 작성하며 실행 결과를 쓰세요.\n",
    "# sub 함수가 a의 값을 참조할 수 없음 : 사전 함수 변수의 영역에 a 변수가 선언되었으나 초기화 된 내용이 없어서 발생하는 문제. a를 global a로 선언하여 해결\n",
    "a = 10\n",
    "def sub() :\n",
    "    global a\n",
    "    a += 1\n",
    "    print(a, end = '')\n",
    "\n",
    "def func() :\n",
    "    for i in range(2) :\n",
    "        a = 5\n",
    "        a += 1\n",
    "        print(a, end = '')\n",
    "        sub()\n",
    "        \n",
    "a +=1\n",
    "func()"
   ]
  },
  {
   "cell_type": "code",
   "execution_count": 23,
   "id": "fe5393f0",
   "metadata": {},
   "outputs": [
    {
     "name": "stdout",
     "output_type": "stream",
     "text": [
      "100\n",
      "200\n"
     ]
    }
   ],
   "source": [
    "# 3. 다음 구문을 실행한 결과는? 100 함수 속 지역 변수 var가 200으로 재할당 후 소거되며 전역 변수 var에는 영향이 없음\n",
    "var = 100\n",
    "def func(var) :\n",
    "    var = 200\n",
    "func(var)\n",
    "print(var)\n",
    "\n",
    "# 3. 다음 구문을 실행한 결과는? 100 함수 속 지역 변수 var가 200으로 재할당 후 소거되며 전역 변수 var에는 영향이 없음\n",
    "var2 = 100\n",
    "def func() :\n",
    "    global var2\n",
    "    var2 = 200\n",
    "func()\n",
    "print(var2)"
   ]
  },
  {
   "cell_type": "code",
   "execution_count": 77,
   "id": "2d8994c5",
   "metadata": {},
   "outputs": [
    {
     "data": {
      "text/plain": [
       "5"
      ]
     },
     "execution_count": 77,
     "metadata": {},
     "output_type": "execute_result"
    }
   ],
   "source": [
    "# 4. 다음 구문의 실행 결과는? *args를 통해 2와 3을 패킹, numpy 모듈의 add 함수를 사용해 덧셈 결과 유추.\n",
    "def my_func(func,*args) :\n",
    "    return func(*args)\n",
    "import numpy as np\n",
    "my_func(np.add,2,3)"
   ]
  },
  {
   "cell_type": "code",
   "execution_count": 78,
   "id": "1cc44278",
   "metadata": {},
   "outputs": [
    {
     "data": {
      "text/plain": [
       "8"
      ]
     },
     "execution_count": 78,
     "metadata": {},
     "output_type": "execute_result"
    }
   ],
   "source": [
    "# 5. 다음 구문의 실행 결과는? 8\n",
    "def my_func(func,*args) :\n",
    "    return(func(*args))\n",
    "my_func(lambda a,b : a**b, 2,3)"
   ]
  },
  {
   "cell_type": "code",
   "execution_count": 79,
   "id": "9bed7845",
   "metadata": {},
   "outputs": [],
   "source": [
    "# 6. 파이썬 함수에 대한 설명 중 잘못된 것은?\n",
    "# 1번 중복정의 불가능 : 오버로딩 불가"
   ]
  },
  {
   "cell_type": "code",
   "execution_count": 82,
   "id": "a0991fb4",
   "metadata": {},
   "outputs": [
    {
     "data": {
      "text/plain": [
       "[40]"
      ]
     },
     "execution_count": 82,
     "metadata": {},
     "output_type": "execute_result"
    }
   ],
   "source": [
    "# 7. 다음과 같은 구문이 있을 경우 오류가 발생하는 함수 호출은? 4번 func([],a=40) : a= 40을 사용하려면 L=[]를 사용해야함\n",
    "list_ = []\n",
    "def func(a, L=None) :\n",
    "    if L is None :\n",
    "        L = []\n",
    "    L.append(a)\n",
    "    return L\n",
    "func(L=[],a=40)"
   ]
  },
  {
   "cell_type": "code",
   "execution_count": null,
   "id": "0549f2df",
   "metadata": {},
   "outputs": [],
   "source": [
    "# 8.다음 보기가 설명하는 것을 작성하기 위한 키워드를 쓰세요. : lambda"
   ]
  }
 ],
 "metadata": {
  "kernelspec": {
   "display_name": "Python 3 (ipykernel)",
   "language": "python",
   "name": "python3"
  },
  "language_info": {
   "codemirror_mode": {
    "name": "ipython",
    "version": 3
   },
   "file_extension": ".py",
   "mimetype": "text/x-python",
   "name": "python",
   "nbconvert_exporter": "python",
   "pygments_lexer": "ipython3",
   "version": "3.10.9"
  },
  "toc": {
   "base_numbering": 1,
   "nav_menu": {},
   "number_sections": false,
   "sideBar": true,
   "skip_h1_title": false,
   "title_cell": "Table of Contents",
   "title_sidebar": "Contents",
   "toc_cell": false,
   "toc_position": {
    "height": "calc(100% - 180px)",
    "left": "10px",
    "top": "150px",
    "width": "234.08px"
   },
   "toc_section_display": true,
   "toc_window_display": true
  }
 },
 "nbformat": 4,
 "nbformat_minor": 5
}
