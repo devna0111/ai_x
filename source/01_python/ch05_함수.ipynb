{
 "cells": [
  {
   "cell_type": "code",
   "execution_count": 1,
   "id": "9ec96c95",
   "metadata": {},
   "outputs": [
    {
     "data": {
      "text/html": [
       "\n",
       "<style>\n",
       "div.container{width:86% !important;}\n",
       "div.cell.code_cell.rendered{width:100%;}\n",
       "div.CodeMirror {font-family:Consolas; font-size:12pt;}\n",
       "div.output {font-size:12pt; font-weight:bold;}\n",
       "div.input {font-family:Consolas; fo\n",
       "nt-size:12pt;}\n",
       "div.prompt {min-width:70px;}\n",
       "div#toc-wrapper{padding-top:130px;}\n",
       "div.text_cell_render ul li{font-size:12pt;padding:5px;}\n",
       "table.dataframe{font-size:15px;}\n",
       "</style>\n"
      ],
      "text/plain": [
       "<IPython.core.display.HTML object>"
      ]
     },
     "metadata": {},
     "output_type": "display_data"
    }
   ],
   "source": [
    "from IPython.display import display, HTML\n",
    "display(HTML(\"\"\"\n",
    "<style>\n",
    "div.container{width:86% !important;}\n",
    "div.cell.code_cell.rendered{width:100%;}\n",
    "div.CodeMirror {font-family:Consolas; font-size:12pt;}\n",
    "div.output {font-size:12pt; font-weight:bold;}\n",
    "div.input {font-family:Consolas; fo\n",
    "nt-size:12pt;}\n",
    "div.prompt {min-width:70px;}\n",
    "div#toc-wrapper{padding-top:130px;}\n",
    "div.text_cell_render ul li{font-size:12pt;padding:5px;}\n",
    "table.dataframe{font-size:15px;}\n",
    "</style>\n",
    "\"\"\"))"
   ]
  },
  {
   "cell_type": "markdown",
   "id": "88bdcbf6",
   "metadata": {},
   "source": [
    "<b><font size = 5, color = 'red'> ch05 함수 </font></b>\n",
    "- 사용할 코드를 묶어 놓고 그것에 이름을 붙인 것\n",
    "- 오버로딩(같은 이름의 함수를 매개 변수의 개수느 타입을 달리해서 사용) 불가 \n",
    "    : 자바에서는 \n",
    "        void print(int a) {system.out.println(a);}\n",
    "        void print(string a) {system.out.println(a);}\n",
    "      위와 같이 함수에 기능을 추가할 수 있는데 파이썬은 불가능하다.\n",
    "    : a=10 ; a=20 ; 처럼 (기능성 처리 변수) 의 할당의 개념으로 생각하자\n",
    "- 함수의 정의\n",
    "```\n",
    "def 함수명(매개변수1, 매개변수2, ......매개변수n) :\n",
    "    함수 호출 시 실행할 내용 : 명령어 1\n",
    "    함수 호출 시 실행할 내용 : 명령어 2\n",
    "    ......\n",
    "    함수 호출 시 실행할 내용 : 명령어 n\n",
    "```\n",
    "\n",
    "# 1절 함수의 정의 및 사용\n",
    "\n",
    "## 1.1 함수 정의"
   ]
  },
  {
   "cell_type": "code",
   "execution_count": 53,
   "id": "e0afe326",
   "metadata": {},
   "outputs": [
    {
     "name": "stdout",
     "output_type": "stream",
     "text": [
      "황금독수리 온 세상을 놀라게 하다\n",
      "황금독수리 온 세상을 놀라게 하다\n",
      "황금독수리 온 세상을 놀라게 하다\n"
     ]
    }
   ],
   "source": [
    "# 함수의 정의\n",
    "def my_msg(x=1, msg='공란') : # msg를 x번 출력하는 함수 \n",
    "    for i in range(x) :\n",
    "        print(msg)\n",
    "# 함수의 사용\n",
    "my_msg(3,'황금독수리 온 세상을 놀라게 하다')"
   ]
  },
  {
   "cell_type": "code",
   "execution_count": 54,
   "id": "caf0bb14",
   "metadata": {},
   "outputs": [
    {
     "name": "stdout",
     "output_type": "stream",
     "text": [
      "이게 되네\n"
     ]
    }
   ],
   "source": [
    "mmsg = my_msg # 함수형 언어!\n",
    "mmsg(1, '이게 되네')"
   ]
  },
  {
   "cell_type": "code",
   "execution_count": 55,
   "id": "f64825b1",
   "metadata": {},
   "outputs": [
    {
     "data": {
      "text/plain": [
       "(function, function)"
      ]
     },
     "execution_count": 55,
     "metadata": {},
     "output_type": "execute_result"
    }
   ],
   "source": [
    "type(my_msg), type(mmsg)"
   ]
  },
  {
   "cell_type": "code",
   "execution_count": 56,
   "id": "582d37a1",
   "metadata": {},
   "outputs": [
    {
     "data": {
      "text/plain": [
       "(2434439049520, 2434439049520)"
      ]
     },
     "execution_count": 56,
     "metadata": {},
     "output_type": "execute_result"
    }
   ],
   "source": [
    "id(my_msg), id(mmsg)"
   ]
  },
  {
   "cell_type": "code",
   "execution_count": 57,
   "id": "53d4bad5",
   "metadata": {},
   "outputs": [
    {
     "name": "stdout",
     "output_type": "stream",
     "text": [
      "Hello\n",
      "Hello\n"
     ]
    }
   ],
   "source": [
    "print('Hello') # 파이썬 내장함수 : import 없이 사용이 가능하다.\n",
    "print = 5\n",
    "# print('Hello')\n",
    "del print # 변수를 제거한다.\n",
    "print('Hello')"
   ]
  },
  {
   "cell_type": "code",
   "execution_count": 58,
   "id": "b66e5887",
   "metadata": {},
   "outputs": [
    {
     "name": "stdout",
     "output_type": "stream",
     "text": [
      "공란\n",
      "공란\n"
     ]
    }
   ],
   "source": [
    "mmsg()\n",
    "del mmsg # 기능성 변수 할당은 제거가 되네?\n",
    "my_msg()"
   ]
  },
  {
   "cell_type": "markdown",
   "id": "ca21e44d",
   "metadata": {},
   "source": [
    "- 함수명으로 변수를 할당하면 함수가 변수로 다시 참조하면서 함수가 사라진다.\n",
    "- 이 변수를 del 한다고 해서 함수가 살아나지 않음 : 기존 정보가 모두 삭제된다. (파이썬 내장함수가 아니어서 불가능하다.)"
   ]
  },
  {
   "cell_type": "code",
   "execution_count": 63,
   "id": "0078a7a2",
   "metadata": {},
   "outputs": [],
   "source": [
    "# 함수 정의\n",
    "def my_hello() :\n",
    "    print('hello, Python')\n",
    "    print('hello, World')\n",
    "# 함수가 정의되면 그 이후 반드시 테스트를 진행해야한다. 내 화면이 아닌 다른 사용자의 화면에서 사용이 가능한가 체크해야한다."
   ]
  },
  {
   "cell_type": "code",
   "execution_count": 64,
   "id": "6983188d",
   "metadata": {},
   "outputs": [
    {
     "name": "stdout",
     "output_type": "stream",
     "text": [
      "hello, Python\n",
      "hello, World\n"
     ]
    }
   ],
   "source": [
    "my_hello()"
   ]
  },
  {
   "cell_type": "code",
   "execution_count": null,
   "id": "4bd1c6ef",
   "metadata": {},
   "outputs": [],
   "source": []
  },
  {
   "cell_type": "code",
   "execution_count": null,
   "id": "56e547ee",
   "metadata": {},
   "outputs": [],
   "source": []
  }
 ],
 "metadata": {
  "kernelspec": {
   "display_name": "Python 3 (ipykernel)",
   "language": "python",
   "name": "python3"
  },
  "language_info": {
   "codemirror_mode": {
    "name": "ipython",
    "version": 3
   },
   "file_extension": ".py",
   "mimetype": "text/x-python",
   "name": "python",
   "nbconvert_exporter": "python",
   "pygments_lexer": "ipython3",
   "version": "3.10.9"
  },
  "toc": {
   "base_numbering": 1,
   "nav_menu": {},
   "number_sections": false,
   "sideBar": true,
   "skip_h1_title": false,
   "title_cell": "Table of Contents",
   "title_sidebar": "Contents",
   "toc_cell": false,
   "toc_position": {
    "height": "calc(100% - 180px)",
    "left": "10px",
    "top": "150px",
    "width": "210.778px"
   },
   "toc_section_display": true,
   "toc_window_display": true
  }
 },
 "nbformat": 4,
 "nbformat_minor": 5
}
