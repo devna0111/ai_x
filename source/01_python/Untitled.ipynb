{
 "cells": [
  {
   "cell_type": "code",
   "execution_count": null,
   "id": "1e988157",
   "metadata": {},
   "outputs": [],
   "source": [
    "from collections import deque\n",
    "\n",
    "def is_adjacent(word1, word2):\n",
    "    \"\"\"한 글자만 다른지 확인\"\"\"\n",
    "    diff = 0\n",
    "    for a, b in zip(word1, word2):\n",
    "        if a != b:\n",
    "            diff += 1\n",
    "    return True if diff == 1 else False\n",
    "\n",
    "def solution(begin, target, words):\n",
    "    if target not in words:\n",
    "        return 0  # 변환 불가능\n",
    "    \n",
    "    visited = set()\n",
    "    queue = deque()\n",
    "    queue.append((begin, 0))  # (현재단어, 현재까지의 변환 횟수)\n",
    "\n",
    "    while queue:\n",
    "        current_word, depth = queue.popleft()\n",
    "        if current_word == target:\n",
    "            return depth\n",
    "        \n",
    "        for word in words:\n",
    "            if word not in visited and is_adjacent(current_word, word):\n",
    "                visited.add(word)\n",
    "                queue.append((word, depth + 1))\n",
    "    \n",
    "    return 0  # 도달 못함\n"
   ]
  }
 ],
 "metadata": {
  "kernelspec": {
   "display_name": "Python 3 (ipykernel)",
   "language": "python",
   "name": "python3"
  },
  "language_info": {
   "codemirror_mode": {
    "name": "ipython",
    "version": 3
   },
   "file_extension": ".py",
   "mimetype": "text/x-python",
   "name": "python",
   "nbconvert_exporter": "python",
   "pygments_lexer": "ipython3",
   "version": "3.10.9"
  },
  "toc": {
   "base_numbering": 1,
   "nav_menu": {},
   "number_sections": false,
   "sideBar": true,
   "skip_h1_title": false,
   "title_cell": "Table of Contents",
   "title_sidebar": "Contents",
   "toc_cell": false,
   "toc_position": {},
   "toc_section_display": true,
   "toc_window_display": false
  }
 },
 "nbformat": 4,
 "nbformat_minor": 5
}
