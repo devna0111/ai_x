{
 "cells": [
  {
   "cell_type": "code",
   "execution_count": 1,
   "id": "55d8b874",
   "metadata": {},
   "outputs": [
    {
     "data": {
      "text/html": [
       "\n",
       "<style>\n",
       "div.container{width:86% !important;}\n",
       "div.cell.code_cell.rendered{width:100%;}\n",
       "div.CodeMirror {font-family:Consolas; font-size:12pt;}\n",
       "div.output {font-size:15pt; font-weight:bold;}\n",
       "div.input {font-family:Consolas; font-size:12pt;}\n",
       "div.prompt {min-width:70px;}\n",
       "div#toc-wrapper{padding-top:120px;}\n",
       "div.text_cell_render ul li{font-size:12pt;padding:5px;}\n",
       "table.dataframe{font-size:15px;}\n",
       "</style>\n"
      ],
      "text/plain": [
       "<IPython.core.display.HTML object>"
      ]
     },
     "metadata": {},
     "output_type": "display_data"
    }
   ],
   "source": [
    "from IPython.display import display, HTML\n",
    "display(HTML(\"\"\"\n",
    "<style>\n",
    "div.container{width:86% !important;}\n",
    "div.cell.code_cell.rendered{width:100%;}\n",
    "div.CodeMirror {font-family:Consolas; font-size:12pt;}\n",
    "div.output {font-size:15pt; font-weight:bold;}\n",
    "div.input {font-family:Consolas; font-size:12pt;}\n",
    "div.prompt {min-width:70px;}\n",
    "div#toc-wrapper{padding-top:120px;}\n",
    "div.text_cell_render ul li{font-size:12pt;padding:5px;}\n",
    "table.dataframe{font-size:15px;}\n",
    "</style>\n",
    "\"\"\"))"
   ]
  },
  {
   "cell_type": "markdown",
   "id": "7f633d45",
   "metadata": {},
   "source": [
    "<font size = 5, color = 'red'> ch02 자료형과 연산자 </font>\n",
    "# 1절 변수\n",
    "- 파이썬 변수 선언을 위한 과정이 없음. 변수 할당과 동시에 타입이 지정되고 값이 할당됨\n",
    "\n",
    "## 1.1 변수 할당\n",
    "- 할당연산자(=) 활용해 값을 할당하면 type 세팅\n",
    "- 파이썬에서의 모든 변수는 객체로 저장됨 (r = 5 에서 r 주소 100번지에 5가 상주 : 간접 주소 지정)\n"
   ]
  },
  {
   "cell_type": "code",
   "execution_count": 2,
   "id": "d221b5ee",
   "metadata": {},
   "outputs": [
    {
     "name": "stdout",
     "output_type": "stream",
     "text": [
      "계산된 넓이는 78.5cm^2\n"
     ]
    }
   ],
   "source": [
    "r = 5 # int\n",
    "area = 3.14 * r * r # float\n",
    "print(f'계산된 넓이는 {area}cm^2')"
   ]
  },
  {
   "cell_type": "code",
   "execution_count": 3,
   "id": "11dd872e",
   "metadata": {},
   "outputs": [
    {
     "name": "stdout",
     "output_type": "stream",
     "text": [
      "78.53981633974483\n"
     ]
    }
   ],
   "source": [
    "from math import pi\n",
    "area_math = pi * r**2\n",
    "print(area_math)"
   ]
  },
  {
   "cell_type": "code",
   "execution_count": 4,
   "id": "a0e60354",
   "metadata": {},
   "outputs": [
    {
     "name": "stdout",
     "output_type": "stream",
     "text": [
      "78.53981633974483\n"
     ]
    }
   ],
   "source": [
    "import numpy as np\n",
    "area_numpy = np.pi * r**2\n",
    "print(area_numpy)"
   ]
  },
  {
   "cell_type": "code",
   "execution_count": 5,
   "id": "97990000",
   "metadata": {},
   "outputs": [
    {
     "data": {
      "text/plain": [
       "False"
      ]
     },
     "execution_count": 5,
     "metadata": {},
     "output_type": "execute_result"
    }
   ],
   "source": [
    "area.is_integer() # area가 integer인지 여부를 반환"
   ]
  },
  {
   "cell_type": "code",
   "execution_count": 6,
   "id": "5d35e43b",
   "metadata": {},
   "outputs": [
    {
     "name": "stdout",
     "output_type": "stream",
     "text": [
      "area의 주소는 2269333818064\n",
      "area의 타입은 <class 'float'>\n"
     ]
    }
   ],
   "source": [
    "print('area의 주소는', id(area)) # id(area) : area 변수의 주소값\n",
    "print('area의 타입은', type(area)) # type(area) : area의 타입을 반환"
   ]
  },
  {
   "cell_type": "code",
   "execution_count": 7,
   "id": "0d65976a",
   "metadata": {},
   "outputs": [
    {
     "name": "stdout",
     "output_type": "stream",
     "text": [
      "area의 주소는 2269333816688\n",
      "area의 타입은 <class 'float'>\n"
     ]
    }
   ],
   "source": [
    "area = 5.5\n",
    "print('area의 주소는', id(area)) # id(area) : area 변수의 주소값\n",
    "print('area의 타입은', type(area)) # type(area) : area의 타입을 반환"
   ]
  },
  {
   "cell_type": "code",
   "execution_count": 8,
   "id": "5f0dff2e",
   "metadata": {
    "scrolled": true
   },
   "outputs": [
    {
     "name": "stdout",
     "output_type": "stream",
     "text": [
      "계산된 넓이는 75.0cm^2\n",
      "area의 주소는 2269353466704\n",
      "area의 타입은 <class 'float'>\n"
     ]
    }
   ],
   "source": [
    "r = 5 # int\n",
    "area = float(3 * r * r) # float\n",
    "print(f'계산된 넓이는 {area}cm^2')\n",
    "print('area의 주소는', id(area)) # id(area) : area 변수의 주소값\n",
    "print('area의 타입은', type(area)) # type(area) : area의 타입을 반환"
   ]
  },
  {
   "cell_type": "code",
   "execution_count": 9,
   "id": "a7e121ba",
   "metadata": {},
   "outputs": [
    {
     "data": {
      "text/plain": [
       "True"
      ]
     },
     "execution_count": 9,
     "metadata": {},
     "output_type": "execute_result"
    }
   ],
   "source": [
    "area.is_integer()"
   ]
  },
  {
   "cell_type": "code",
   "execution_count": 10,
   "id": "fbe0baf6",
   "metadata": {},
   "outputs": [
    {
     "name": "stdout",
     "output_type": "stream",
     "text": [
      "area의 주소는 2269329635728\n",
      "area의 타입은 <class 'str'>\n"
     ]
    }
   ],
   "source": [
    "area = '파이썬'\n",
    "print('area의 주소는', id(area)) # id(area) : area 변수의 주소값\n",
    "print('area의 타입은', type(area)) # type(area) : area의 타입을 반환"
   ]
  },
  {
   "cell_type": "markdown",
   "id": "31779b9f",
   "metadata": {},
   "source": [
    "## 1.2 변수 이름 규칙\n",
    "- 반드시 문자로 시작\n",
    "- 언더 바 스코어(_) 제외 특수문자 불가 : 문자, 숫자, _로 변수명 작성\n",
    "- 함수명은 변수 이름으로 가능하나 피한다. 불가피하게 사용한다면 int_ 등 언더 바 스코어 적극 활용\n",
    "- 파이썬 예약어 (if,for,while....)는 변수 이름 사용 불가\n",
    "- 한글 변수는 꼭 필요시에만 이용"
   ]
  },
  {
   "cell_type": "code",
   "execution_count": 11,
   "id": "4c21a556",
   "metadata": {},
   "outputs": [
    {
     "name": "stdout",
     "output_type": "stream",
     "text": [
      "홍길동\n"
     ]
    }
   ],
   "source": [
    "이름 = \"홍길동\" # 사용은 가능하지만 향후 버그의 원인이 되기 쉽다\n",
    "print(이름)"
   ]
  },
  {
   "cell_type": "code",
   "execution_count": 12,
   "id": "a037d920",
   "metadata": {},
   "outputs": [
    {
     "data": {
      "text/plain": [
       "'홍길동'"
      ]
     },
     "execution_count": 12,
     "metadata": {},
     "output_type": "execute_result"
    }
   ],
   "source": [
    "이름"
   ]
  },
  {
   "cell_type": "code",
   "execution_count": 13,
   "id": "0b9b2528",
   "metadata": {},
   "outputs": [
    {
     "name": "stdout",
     "output_type": "stream",
     "text": [
      "홍길동 홍길동\n"
     ]
    }
   ],
   "source": [
    "# member.name = \"홍길동\"\n",
    "memberName = \"홍길동\"\n",
    "member_name = \"홍길동\"\n",
    "print(memberName, member_name)"
   ]
  },
  {
   "cell_type": "code",
   "execution_count": 14,
   "id": "c9fe7733",
   "metadata": {},
   "outputs": [
    {
     "name": "stdout",
     "output_type": "stream",
     "text": [
      "홍길동\n"
     ]
    }
   ],
   "source": [
    "Print = '홍길동' # 변수 이름 대문자 시작은 기피함 : 보통 클래스에 사용 class Dog : 등\n",
    "print(Print)"
   ]
  },
  {
   "cell_type": "code",
   "execution_count": 15,
   "id": "94df250d",
   "metadata": {},
   "outputs": [
    {
     "name": "stdout",
     "output_type": "stream",
     "text": [
      "<class 'complex'>\n",
      "True\n",
      "False\n",
      "False\n",
      "False\n",
      "False\n"
     ]
    }
   ],
   "source": [
    "# 파이썬에서 숫자 : 정수, 실수, 복소수(허수 i # i**2 = -1, type = complex)\n",
    "i = 3 + 3j\n",
    "print(type(i))\n",
    "print(isinstance(i, complex)) # 타입 체크가 가능\n",
    "print(isinstance(i, int))\n",
    "print(isinstance(i, float))\n",
    "print(isinstance(i, str))\n",
    "print(isinstance(i, list))"
   ]
  },
  {
   "cell_type": "markdown",
   "id": "e900cf35",
   "metadata": {},
   "source": [
    "## 1.3 도움말"
   ]
  },
  {
   "cell_type": "code",
   "execution_count": 16,
   "id": "3f100cc2",
   "metadata": {},
   "outputs": [
    {
     "name": "stdout",
     "output_type": "stream",
     "text": [
      "\n"
     ]
    }
   ],
   "source": [
    "# 도움말 기능 : shift + tab키 or \n",
    "# help(함수명) 종료는 q입력\n",
    "print()\n",
    "# Esc + o 실행 결과 접기 / 펼치기"
   ]
  },
  {
   "cell_type": "code",
   "execution_count": 17,
   "id": "27e7e0ca",
   "metadata": {},
   "outputs": [
    {
     "name": "stdout",
     "output_type": "stream",
     "text": [
      "Help on function add in module __main__:\n",
      "\n",
      "add(x, y=0)\n",
      "    two varieties x,y\n",
      "    x for 10's\n",
      "    y for 1's\n",
      "\n",
      "1.1 첫번째 인자\n",
      "99 두번째 인자\n",
      "None\n"
     ]
    }
   ],
   "source": [
    "def add(x, y=0) :\n",
    "    ''' two varieties x,y\n",
    "    x for 10's\n",
    "    y for 1's''' # docstring\n",
    "    print(x, \"첫번째 인자\")\n",
    "    print(y, \"두번째 인자\")\n",
    "    return \n",
    "\n",
    "help(add)\n",
    "print(add(1.1, 99))"
   ]
  },
  {
   "cell_type": "code",
   "execution_count": 18,
   "id": "b749f7c1",
   "metadata": {},
   "outputs": [
    {
     "name": "stdout",
     "output_type": "stream",
     "text": [
      "2 첫번째 인자\n",
      "3 두번째 인자\n",
      "None\n"
     ]
    }
   ],
   "source": [
    "a = add\n",
    "print(a(2,3))"
   ]
  },
  {
   "cell_type": "markdown",
   "id": "e540c95e",
   "metadata": {},
   "source": [
    "## 1.4 다중 변수 할당"
   ]
  },
  {
   "cell_type": "code",
   "execution_count": 19,
   "id": "a95a9e97",
   "metadata": {},
   "outputs": [
    {
     "name": "stdout",
     "output_type": "stream",
     "text": [
      "1 27 28 784\n",
      "27 1\n"
     ]
    }
   ],
   "source": [
    "# 다중 변수 할당 시 순차적 할당이 아니고 일괄 동시 할당\n",
    "a, b = 1, 27\n",
    "print(a, b, a+b, (a+b)**2)\n",
    "a, b = b, a\n",
    "print(a,b)"
   ]
  },
  {
   "cell_type": "markdown",
   "id": "d335130b",
   "metadata": {},
   "source": [
    "# 2절  화면 입출력(i/o)"
   ]
  },
  {
   "cell_type": "code",
   "execution_count": 20,
   "id": "45141368",
   "metadata": {},
   "outputs": [
    {
     "name": "stdout",
     "output_type": "stream",
     "text": [
      "첫번째 숫자는? : 2\n"
     ]
    },
    {
     "data": {
      "text/plain": [
       "2"
      ]
     },
     "execution_count": 20,
     "metadata": {},
     "output_type": "execute_result"
    }
   ],
   "source": [
    "# input() : 파이썬 기본 제공\n",
    "# 사용자로부터 값을 입력 받기 위한 함수. 문자열로 입력받음\n",
    "first = int(input('첫번째 숫자는? : '))\n",
    "first"
   ]
  },
  {
   "cell_type": "code",
   "execution_count": 21,
   "id": "0ece5e2c",
   "metadata": {},
   "outputs": [
    {
     "name": "stdout",
     "output_type": "stream",
     "text": [
      "두번째 숫자는? : 2\n"
     ]
    },
    {
     "data": {
      "text/plain": [
       "2"
      ]
     },
     "execution_count": 21,
     "metadata": {},
     "output_type": "execute_result"
    }
   ],
   "source": [
    "second = int(input('두번째 숫자는? : '))\n",
    "second"
   ]
  },
  {
   "cell_type": "code",
   "execution_count": 22,
   "id": "6bae818e",
   "metadata": {},
   "outputs": [
    {
     "name": "stdout",
     "output_type": "stream",
     "text": [
      "합은 4, 합 = 4, 합 ~ 4\n",
      "합 = 4, "
     ]
    }
   ],
   "source": [
    "sum_ = first + second\n",
    "print('합', sum_, sep=\"은 \", end = ', ')\n",
    "print('합', sum_, sep=\" = \", end = ', ')\n",
    "print('합', sum_, sep= \" ~ \")\n",
    "print('합', sum_, end = ', ', sep=\" = \")"
   ]
  },
  {
   "cell_type": "code",
   "execution_count": 23,
   "id": "9cd2c9cd",
   "metadata": {},
   "outputs": [
    {
     "name": "stdout",
     "output_type": "stream",
     "text": [
      "hello, world\n"
     ]
    }
   ],
   "source": [
    "import sys\n",
    "print('hello', 'world', sep=', ' , file = sys.stdout) # 스탠다드 아웃풋 으로 프린트해라"
   ]
  },
  {
   "cell_type": "markdown",
   "id": "70948534",
   "metadata": {},
   "source": [
    "# 3절 기본 자료형\n",
    "- 자료형에 따라 값의 크기와 저장 방식이 달라짐\n",
    "    - 숫자 : int, float, complex(복소수)\n",
    "    - 문자 : str\n",
    "    - 논리 : bool(True 1 False 0)\n",
    " \n",
    " ## 3.1 숫자형"
   ]
  },
  {
   "cell_type": "code",
   "execution_count": 24,
   "id": "347a7b04",
   "metadata": {},
   "outputs": [
    {
     "name": "stdout",
     "output_type": "stream",
     "text": [
      "9223372036854775807\n"
     ]
    }
   ],
   "source": [
    "import sys\n",
    "max_num = sys.maxsize # 시스템 속 정수의 최대값 2**63-1 (2의 63제곱 -1)\n",
    "print(max_num)"
   ]
  },
  {
   "cell_type": "code",
   "execution_count": 25,
   "id": "ef514f90",
   "metadata": {},
   "outputs": [
    {
     "data": {
      "text/plain": [
       "9223372036854776807"
      ]
     },
     "execution_count": 25,
     "metadata": {},
     "output_type": "execute_result"
    }
   ],
   "source": [
    "a = sys.maxsize + 1000\n",
    "a"
   ]
  },
  {
   "cell_type": "code",
   "execution_count": 26,
   "id": "e2ab4c61",
   "metadata": {},
   "outputs": [
    {
     "data": {
      "text/plain": [
       "85070591730234634294140981493785115249"
      ]
     },
     "execution_count": 26,
     "metadata": {},
     "output_type": "execute_result"
    }
   ],
   "source": [
    "a **2 "
   ]
  },
  {
   "cell_type": "code",
   "execution_count": 27,
   "id": "d28dfce1",
   "metadata": {},
   "outputs": [
    {
     "data": {
      "text/plain": [
       "6138366150813885475780373654585479574386738457566758298953830093618976929888006544708181275875170285909607075539525429558571726663585298593581935241517534620261075684195563973675933537383641227189213759307914369406017879048734254866576376811137607573502140636313712037782109457898783244350842107550879269071611660378633377942556333301503544881653623202734978141371015617705951464268122384821358214213523113879354568407321469216256633371815697859358604815842699107542723476136366043720827348405284676377481345630647461543330050324309792111597435034425371407624475947717067059006603714851102299351361665546217099363454258778563996247415455152326775696760983653335774145974287848825607837892004711255736921283228867035755460118554806579541448670908011177428809080970079732171425063648862811754771848887113621907092214335790649658574911866848936080928398228898155900861675017747061639690134149335858060542902681286658469953227482113665710047822080405655094584971482293423792215796454543261930700574233942981109452079075244245950581294112958832265212622482870554906562764629675070119159550973181166507071890205749746388664692186039558848530130983623071257816044273023824163977824694289356353883369943"
      ]
     },
     "execution_count": 27,
     "metadata": {},
     "output_type": "execute_result"
    }
   ],
   "source": [
    "a**63"
   ]
  },
  {
   "cell_type": "code",
   "execution_count": 28,
   "id": "560f6e43",
   "metadata": {},
   "outputs": [],
   "source": [
    "# (a**63)**63 ## 4300자가 넘으면 출력 불가"
   ]
  },
  {
   "cell_type": "code",
   "execution_count": 29,
   "id": "082ca6b7",
   "metadata": {},
   "outputs": [
    {
     "name": "stdout",
     "output_type": "stream",
     "text": [
      "1.5\n",
      "1\n"
     ]
    }
   ],
   "source": [
    "f = 3/2 # 1.5 float : 정수 / 정수 = 실수\n",
    "print(f)\n",
    "print(int(f))"
   ]
  },
  {
   "cell_type": "code",
   "execution_count": 30,
   "id": "6ebc3a4b",
   "metadata": {},
   "outputs": [
    {
     "name": "stdout",
     "output_type": "stream",
     "text": [
      "1\n"
     ]
    }
   ],
   "source": [
    "f = 3//2 # 몫 연산자 : int\n",
    "print(f)"
   ]
  },
  {
   "cell_type": "code",
   "execution_count": 31,
   "id": "bd1fc606",
   "metadata": {},
   "outputs": [
    {
     "name": "stdout",
     "output_type": "stream",
     "text": [
      "1\n"
     ]
    }
   ],
   "source": [
    "f = 3%2 # 나머지 연산자 : int\n",
    "print(f)"
   ]
  },
  {
   "cell_type": "code",
   "execution_count": 32,
   "id": "56140c7a",
   "metadata": {},
   "outputs": [
    {
     "name": "stdout",
     "output_type": "stream",
     "text": [
      "(-1+0j)\n"
     ]
    }
   ],
   "source": [
    "c = 1j # 복소수 0 + 1i\n",
    "print(c**2)"
   ]
  },
  {
   "cell_type": "code",
   "execution_count": 33,
   "id": "5813dde6",
   "metadata": {},
   "outputs": [
    {
     "name": "stdout",
     "output_type": "stream",
     "text": [
      "지수형 표현 할당 시 실수형으로 저장 :  1120000000000.0\n",
      "지수형 표현 할당 시 실수형으로 저장 :  1.12e-12\n"
     ]
    }
   ],
   "source": [
    "f = 1.12e12 # 1.12 * 10의 12제곱 112000000000 ## e12 10의 12제곱\n",
    "f\n",
    "print('지수형 표현 할당 시 실수형으로 저장 : ', f) # 메모리를 많이 잡아먹음\n",
    "f = 1.12e-12 # 1.12 * 10 ** -12 : 0.0000000112\n",
    "print('지수형 표현 할당 시 실수형으로 저장 : ', f)"
   ]
  },
  {
   "cell_type": "markdown",
   "id": "65a4f370",
   "metadata": {},
   "source": [
    "## 3.2 문자형\n",
    "- 큰따옴표(\"-\"), 작은따옴포('-') 이용"
   ]
  },
  {
   "cell_type": "code",
   "execution_count": 34,
   "id": "671adf21",
   "metadata": {},
   "outputs": [
    {
     "name": "stdout",
     "output_type": "stream",
     "text": [
      "서울시 영등포구 '신길동' 지역구 대표 홍길동 '짱'\n"
     ]
    }
   ],
   "source": [
    "name = '홍길동\\'짱\\''\n",
    "name = \"홍길동 '짱'\"\n",
    "address = '서울시 영등포구 \"신길동\"'\n",
    "address = \"서울시 영등포구 \\'신길동\\'\"\n",
    "print(address, name, sep = \" 지역구 대표 \")"
   ]
  },
  {
   "cell_type": "code",
   "execution_count": 35,
   "id": "a79edefd",
   "metadata": {},
   "outputs": [
    {
     "name": "stdout",
     "output_type": "stream",
     "text": [
      "아이고\n",
      "이제 가면\n",
      "언제 오나\n"
     ]
    }
   ],
   "source": [
    "print('''아이고\n",
    "이제 가면\n",
    "언제 오나''')"
   ]
  },
  {
   "cell_type": "code",
   "execution_count": 36,
   "id": "fc3c9929",
   "metadata": {},
   "outputs": [
    {
     "name": "stdout",
     "output_type": "stream",
     "text": [
      "대부분의 IDLE는 지원하는 내용이지만\n",
      "\n",
      "\n",
      "프로그래머스 코딩 테스트에선 지원을 안해줌(텍스트에 한해서)\n",
      "\n",
      "\n",
      "괄호는 자기 마음대로 닫습니다.\n"
     ]
    }
   ],
   "source": [
    "# 문자형 변수에 여러줄\n",
    "text = '''대부분의 IDLE는 지원하는 내용이지만\n",
    "\n",
    "\n",
    "프로그래머스 코딩 테스트에선 지원을 안해줌(텍스트에 한해서)\n",
    "\n",
    "\n",
    "괄호는 자기 마음대로 닫습니다.'''\n",
    "print(text)"
   ]
  },
  {
   "cell_type": "markdown",
   "id": "3a12e3f8",
   "metadata": {},
   "source": [
    "### * 문자열 연산"
   ]
  },
  {
   "cell_type": "code",
   "execution_count": 37,
   "id": "82927e13",
   "metadata": {},
   "outputs": [
    {
     "name": "stdout",
     "output_type": "stream",
     "text": [
      "홍길동동해 번쩍 서해 번쩍\n"
     ]
    }
   ],
   "source": [
    "'''\n",
    "    이거 언제 쓰냐면요 여러 줄 주석 용도 사용\n",
    "    2025. 04.08 문자열 연산 소스 by 아무개\n",
    "'''\n",
    "name1 = '홍길동'\n",
    "name2 = '동해 번쩍 서해 번쩍'\n",
    "print(name1 + name2)"
   ]
  },
  {
   "cell_type": "code",
   "execution_count": 38,
   "id": "3a67b928",
   "metadata": {
    "scrolled": true
   },
   "outputs": [
    {
     "name": "stdout",
     "output_type": "stream",
     "text": [
      "홍길동홍길동홍길동\n"
     ]
    }
   ],
   "source": [
    "print(name1 * 3)"
   ]
  },
  {
   "cell_type": "markdown",
   "id": "634bd9e2",
   "metadata": {},
   "source": [
    "### * raw 데이터\n",
    "- 용도 : 정규표현식 이용할 때 사용, 디렉토리 경로 표현 시 이용"
   ]
  },
  {
   "cell_type": "code",
   "execution_count": 39,
   "id": "d248f7e1",
   "metadata": {},
   "outputs": [
    {
     "name": "stdout",
     "output_type": "stream",
     "text": [
      "Hello\n",
      "World\n",
      "Hello\\nWorld\n",
      "Hello\\nWorld\n"
     ]
    }
   ],
   "source": [
    "print('Hello\\nWorld')\n",
    "print(r'Hello\\nWorld') # r : raw 데이터 : 탈출 문자 해석 없이 출력\n",
    "print('Hello\\\\nWorld')"
   ]
  },
  {
   "cell_type": "markdown",
   "id": "4a0fe2e1",
   "metadata": {},
   "source": [
    "정규표현식\n",
    "``` (마크업 셀에서 백틱은 블록을 만들 때 사용)\n",
    "1. 참조 : 위키백과\n",
    "2. 간략한 문법 :\n",
    "    \\d (숫자와 매치 [0-9] 와 동일)\n",
    "    \\D (숫자가 아닌 것)\n",
    "    \\w (영문자나 숫자를 의미, [a-zA-Z0-9]\n",
    "    \\W (영문자나 숫자가 아닌 문자)\n",
    "    . (문자 하나)\n",
    "    \\. (. 의미)\n",
    "    \\- (- 의미)\n",
    "    {2, 4} (2, 4번 반복)\n",
    "    {4} (4번 반복)\n",
    "    {2,} (2번 이상 반복)\n",
    "    + (1번 이상 반복){1, }\n",
    "    * (0번 이상 반복) {0,}\n",
    "    ? (0번이나 1번 반복) {0, 1}\n",
    "3. 정규표현식 연습장(https://regexr.com/)\n",
    "    ex1) 전화번호 정규 표현식 : 010-9999-9999 02-777-8888 01099997777 027778888 02)714-5656 010 1234 1234 010.1234.1234\n",
    "    ex2) 이메일 : abc12@naver.com / abc123@0to7.co.kr\n",
    "    ex3) 주민등록번호 : | & 을 통해 결과를 추출 # 향후 진행\n",
    "\t 981212-2052444 011212-4054555 060101-3021522 정상\n",
    "\t 989912-2052444 010132-5404544 040111-5050500 비정상\n",
    "4. 소스 구현\n",
    "```"
   ]
  },
  {
   "cell_type": "code",
   "execution_count": 40,
   "id": "f76e6544",
   "metadata": {},
   "outputs": [],
   "source": [
    "# \\d{2,3} - \\d{3,4} - \\d{4}\n",
    "# [0,9]{2,3} - [0,9]{3,4} - [0,9]{4}\n",
    "# \\d{2,3}[)\\-\\. ]?\\d{3,4}[)\\-\\. ]?\\d{4} : 전화 번호 추출하는 방식\n",
    "# \\w*[@]\\w*[.]\\w*[\\.]?\\w* : 이메일 추출하는 방식 (한글을 사용하게 되면 [a-zA-Zㄱ-ㅎㅏ-ㅣ가-힣])\n",
    "# \\w{3,}[@][가-힣a-zA-Z0-9]+([.]\\w*){1,2} : 이메일 추출하는 방식2\n",
    "# [ㄱ-ㅎ0-9a-zA-Z\\-] : 문자를 제외하는 방법?\n",
    "# 정규표현식 공부 열심히 해야겠다"
   ]
  },
  {
   "cell_type": "markdown",
   "id": "286a5dce",
   "metadata": {},
   "source": [
    "문자는 다양한 함수 지원\n",
    "- .upper()\n",
    "- .lower()\n",
    "- .swapcase()\n",
    "- .replace()\n",
    "- [] # 슬라이싱\n",
    "- .strip()\n",
    "- .find()\n",
    "- .count()\n",
    "기타 등등"
   ]
  },
  {
   "cell_type": "code",
   "execution_count": 41,
   "id": "a84789bc",
   "metadata": {},
   "outputs": [],
   "source": [
    "tell_pattern = r\"\\d{2,3}[)\\-\\. ]?\\d{3,4}[)\\-\\. ]?\\d{4}\"\n",
    "email_adress_pattern = r\"\\w{3,}[@][가-힣a-zA-Z0-9]+([.]\\w*){1,2}\""
   ]
  },
  {
   "cell_type": "code",
   "execution_count": 42,
   "id": "3e4a6474",
   "metadata": {},
   "outputs": [
    {
     "name": "stdout",
     "output_type": "stream",
     "text": [
      "홍길동인데 전번 054-888-8888, @@@@ abcabc 010 9999 9999 동해번쩍 서해번쩍 ㅋㅋ ㅠㅠ 오늘 날씨는 엄청 좋아요\n"
     ]
    }
   ],
   "source": [
    "import re # 정규표현식 활용을 위한 모듈\n",
    "data = \"홍길동인데 전번 054-888-8888, @@@@ abcabc 010 9999 9999 동해번쩍 서해번쩍 ㅋㅋ ㅠㅠ 오늘 날씨는 엄청 좋아요\"\n",
    "print(data)"
   ]
  },
  {
   "cell_type": "code",
   "execution_count": 43,
   "id": "0e3061c5",
   "metadata": {},
   "outputs": [
    {
     "data": {
      "text/plain": [
       "['054-888-8888', '010 9999 9999']"
      ]
     },
     "execution_count": 43,
     "metadata": {},
     "output_type": "execute_result"
    }
   ],
   "source": [
    "tels = re.findall(tell_pattern, data) # findall : 해당 패턴을 모두 찾아 list 반환하며 없으면 빈 list 반환\n",
    "tels"
   ]
  },
  {
   "cell_type": "code",
   "execution_count": 44,
   "id": "8dde7c74",
   "metadata": {},
   "outputs": [
    {
     "name": "stdout",
     "output_type": "stream",
     "text": [
      "<re.Match object; span=(9, 21), match='054-888-8888'>\n"
     ]
    }
   ],
   "source": [
    "# 국번을 가져와서 체크하고 싶다면?\n",
    "period_num = r\"(\\d{2,3})[)\\-\\. ]?(\\d{3,4})[)\\-\\. ]?(\\d{4})\" # re.search(str,data) : 정규표현식 패턴과 일치하는 처음단어만 찾음\n",
    "period_tell = re.search(period_num,data)\n",
    "print(period_tell)"
   ]
  },
  {
   "cell_type": "code",
   "execution_count": 45,
   "id": "12366070",
   "metadata": {},
   "outputs": [
    {
     "data": {
      "text/plain": [
       "'054-888-8888'"
      ]
     },
     "execution_count": 45,
     "metadata": {},
     "output_type": "execute_result"
    }
   ],
   "source": [
    "data[9:21] # 슬라이싱"
   ]
  },
  {
   "cell_type": "code",
   "execution_count": 46,
   "id": "e49939f4",
   "metadata": {},
   "outputs": [
    {
     "name": "stdout",
     "output_type": "stream",
     "text": [
      "전화번호 전체 :  054-888-8888\n",
      "국번 :  054\n",
      "중간번호 :  888\n",
      "끝번호 :  8888\n"
     ]
    }
   ],
   "source": [
    "print('전화번호 전체 : ', period_tell.group())\n",
    "print('국번 : ', period_tell.group(1))\n",
    "print('중간번호 : ', period_tell.group(2))\n",
    "print('끝번호 : ', period_tell.group(3))"
   ]
  },
  {
   "cell_type": "code",
   "execution_count": 47,
   "id": "84e1a042",
   "metadata": {},
   "outputs": [
    {
     "data": {
      "text/plain": [
       "'홍길동인데 전번 0548888888  abcabc 010 9999 9999 동해번쩍 서해번쩍   오늘 날씨는 엄청 좋아요'"
      ]
     },
     "execution_count": 47,
     "metadata": {},
     "output_type": "execute_result"
    }
   ],
   "source": [
    "re.sub(r'[^가-힣0-9a-zA-Z\\s]','',data) # 특수문자 자음 모음 없애기 \\s : space-bar 빈 문자 공간, 생략하면 띄어쓰기 전부 공백 변환"
   ]
  },
  {
   "cell_type": "code",
   "execution_count": 48,
   "id": "4fd648a7",
   "metadata": {},
   "outputs": [
    {
     "name": "stdout",
     "output_type": "stream",
     "text": [
      "C:\\ai_x\\note\\01_python\n",
      "C:\\ai_x\\note\\01_python\\Test_mode.txt\n"
     ]
    }
   ],
   "source": [
    "# 파일 경로에는 반드시 1. r을 사용하거나 2. 탈출 문자로 만들어서(ex. \\\\) 활용 , 3. 역슬래시 대신 슬래시를 활용한다.\n",
    "file_path = r\"C:\\ai_x\\note\\01_python\" # 컴퓨터에서 주소를 긁어오면 옆의 \\를 사용하기에 r 형태 사용\n",
    "print(file_path)\n",
    "file_path = r\"C:\\ai_x\\note\\01_python\\Test_mode.txt\" # 옆의 주소처럼 역슬래시를 /로 바꿔서 사용하기도 함\n",
    "print(file_path)"
   ]
  },
  {
   "cell_type": "code",
   "execution_count": 49,
   "id": "0907a437",
   "metadata": {},
   "outputs": [
    {
     "name": "stdout",
     "output_type": "stream",
     "text": [
      "Hello ~ World\n"
     ]
    }
   ],
   "source": [
    "file_stream = open(file_path, 'a') \n",
    "# 'w' : write //'r' : read : 파일이 없으면 에러 \n",
    "# 'r+' : 읽기 or 쓰기 모드 : 파일이 없으면 에러, 기존 파일에 있던 데이터를 그대로 두고 그 위에 내용을 덮어씁니다.\n",
    "# 'w+' : 읽기 or 쓰기 모드 : 파일이 없으면 생성, 기존 파일에 있던 데이터를 완전 지우고 새로 내용을 입력합니다\n",
    "# 'a' : add :추가모드 : 파일의 마지막 부분에 새로운 내용을 추가할 때 사용 (없으면 생성)\n",
    "# 'a+' : 읽기 or 추가모드 : 파일이 없으면 생성 :기존 파일에 있던 데이터를 그대로 두고 마지막에 내용을 입력합니다.\n",
    "print('Hello', \"World\", sep = \" ~ \") # 콘솔 출력\n",
    "print('Hello', \"World!!!\", sep = \" ~ \", file = file_stream) # 파일 출력\n",
    "file_stream.close() # close 하지 않으면 저장되지 않음"
   ]
  },
  {
   "cell_type": "markdown",
   "id": "4694bfde",
   "metadata": {},
   "source": [
    "### * 문자열 슬라이싱"
   ]
  },
  {
   "cell_type": "code",
   "execution_count": 50,
   "id": "8b311bae",
   "metadata": {},
   "outputs": [
    {
     "data": {
      "text/plain": [
       "[6, 5, 4, 3]"
      ]
     },
     "execution_count": 50,
     "metadata": {},
     "output_type": "execute_result"
    }
   ],
   "source": [
    "num_list = [1,2,3,4,5,6]\n",
    "test = num_list[-1:-5:-1] # 인덱스의 시작과 끝, step을 통해 방향성을 주어야 가능하다\n",
    "test"
   ]
  },
  {
   "cell_type": "code",
   "execution_count": 51,
   "id": "101cdda2",
   "metadata": {},
   "outputs": [
    {
     "data": {
      "text/plain": [
       "'0123456789'"
      ]
     },
     "execution_count": 51,
     "metadata": {},
     "output_type": "execute_result"
    }
   ],
   "source": [
    "string = '0123456789'\n",
    "string"
   ]
  },
  {
   "cell_type": "code",
   "execution_count": 52,
   "id": "f58c7f76",
   "metadata": {},
   "outputs": [
    {
     "data": {
      "text/plain": [
       "('0', '2', '3', '9', '0')"
      ]
     },
     "execution_count": 52,
     "metadata": {},
     "output_type": "execute_result"
    }
   ],
   "source": [
    "# 문자 인덱싱\n",
    "string[0], string[2], string[3], string[-1], string[-10]"
   ]
  },
  {
   "cell_type": "code",
   "execution_count": 53,
   "id": "0c31445a",
   "metadata": {},
   "outputs": [
    {
     "ename": "IndexError",
     "evalue": "string index out of range",
     "output_type": "error",
     "traceback": [
      "\u001b[1;31m---------------------------------------------------------------------------\u001b[0m",
      "\u001b[1;31mIndexError\u001b[0m                                Traceback (most recent call last)",
      "Cell \u001b[1;32mIn[53], line 1\u001b[0m\n\u001b[1;32m----> 1\u001b[0m \u001b[43mstring\u001b[49m\u001b[43m[\u001b[49m\u001b[38;5;241;43m20\u001b[39;49m\u001b[43m]\u001b[49m\n",
      "\u001b[1;31mIndexError\u001b[0m: string index out of range"
     ]
    }
   ],
   "source": [
    "string[20] # 없는 인덱싱은 에러 # string 기능 : str() : 함수이름을 변수로 사용하면 나중에 활용이 불가해지기에 사용하지 않음."
   ]
  },
  {
   "cell_type": "code",
   "execution_count": null,
   "id": "370c7c69",
   "metadata": {},
   "outputs": [],
   "source": [
    "'''\n",
    "문자변수[from:stop] : from부터 stop-1 까지\n",
    "문자변수[from:stop:step] : from부터 stop-1 까지 step 간격씩 전진하면서 추출 default step : 1\n",
    "    step 생략시 1\n",
    "    from 생략시 처음부터\n",
    "    stop 생략시 마지막까지\n",
    "'''"
   ]
  },
  {
   "cell_type": "code",
   "execution_count": null,
   "id": "c76081ff",
   "metadata": {},
   "outputs": [],
   "source": [
    "string[0:5] # 0 - (5-1)까지\n",
    "string[0:8:2] # 0 부터 (8-1) 까지 2간격으로 (0, 2, 4, 6)"
   ]
  },
  {
   "cell_type": "code",
   "execution_count": null,
   "id": "4f2def4c",
   "metadata": {},
   "outputs": [],
   "source": [
    "string[-5:-1] # -5번쨰 부터 (-1-1) 까지 (-5 -4 -3 -2)"
   ]
  },
  {
   "cell_type": "code",
   "execution_count": null,
   "id": "7921bf76",
   "metadata": {},
   "outputs": [],
   "source": [
    "string[-4:] # -4번째부터 끝까지"
   ]
  },
  {
   "cell_type": "code",
   "execution_count": null,
   "id": "6ea40476",
   "metadata": {},
   "outputs": [],
   "source": [
    "string[2:0:-1] # 역순은 왼쪽 값처럼 시작값 ~ : 정수 시작 정수 종료 시 음수 스탭 주의필요 "
   ]
  },
  {
   "cell_type": "code",
   "execution_count": null,
   "id": "688ba4e2",
   "metadata": {},
   "outputs": [],
   "source": [
    "# 한국어로 6번째와 컴퓨터 언어에서의 6번째는 차이가 크다\n",
    "# 첫문자 - 6번째 인덱스까지 추출\n",
    "print(string[:7])\n",
    "# 5번째 인덱스부터 끝까지\n",
    "print(string[5:])\n",
    "# string 거꾸로 출력\n",
    "print(string[::-1])"
   ]
  },
  {
   "cell_type": "markdown",
   "id": "2ef7588e",
   "metadata": {},
   "source": [
    "## 3.3 논리형(True/False)\n",
    "값이 있고 없고의 기준이 된다\n",
    "숫자에서 0은 값이 없다\n",
    "문자는 '' == 값이 없다"
   ]
  },
  {
   "cell_type": "code",
   "execution_count": null,
   "id": "71d9e4d5",
   "metadata": {},
   "outputs": [],
   "source": [
    "a = True\n",
    "print(a) # a :arg /인자 /매개변수\n",
    "print(type(a)) # 매개변수의 타입(자료형)을 출력 불리언은 정말 메모리가 작다 1bit 필요 // 그러나 주소의 최소단위는 8bit 1byte\n",
    "# a는 900번지를 참조한다 \n",
    "# 메모리도 힙메모리 등으로 공간을 분할해서 주소 지정 ## win 64bit 의미는 메모리를 64bit씩 가져와서 사용한다는 의미.\n",
    "# 모든 변수는 객체고 함수를 갖는다...\n",
    "print(isinstance(a, bool)) # isinstance(변수, 타입) : 변수가 해댱 타입인지 True/False로 반환한다.\n",
    "print(id(a))\n",
    "b = True\n",
    "print(id(b))\n",
    "b=False\n",
    "print(id(b))\n",
    "b = True\n",
    "print(id(b))\n",
    "a = 1\n",
    "b = 1\n",
    "print(id(a))\n",
    "print(id(b))\n",
    "a = str\n",
    "print(id(a))\n",
    "b = str\n",
    "print(id(b))\n",
    "## 파이썬 속에 담겨 있는 기본 자료(기본자료형)는 주소가 동일하다. 그런데 변수에 선언한 리스트는 서로 다른 주소를 갖는다...\n",
    "a = [1,2,3]\n",
    "print(id(a))\n",
    "b = [1,2,3]\n",
    "print(id(b))\n",
    "b = a # 그런데 변수를 내가 지정한 변수로 할당하면 같은 주소를 참조한다\n",
    "print(id(b))"
   ]
  },
  {
   "cell_type": "code",
   "execution_count": null,
   "id": "c5022353",
   "metadata": {},
   "outputs": [],
   "source": [
    "int(True), int(False)"
   ]
  },
  {
   "cell_type": "code",
   "execution_count": null,
   "id": "2e6cc2c0",
   "metadata": {},
   "outputs": [],
   "source": [
    "# False 로 간주되는 것들 : 0, \"\", None, [], (), {}"
   ]
  },
  {
   "cell_type": "code",
   "execution_count": null,
   "id": "0083c26e",
   "metadata": {},
   "outputs": [],
   "source": [
    "if 90>10 :\n",
    "    print(True)\n",
    "else :\n",
    "    print(False)"
   ]
  },
  {
   "cell_type": "markdown",
   "id": "0640fb20",
   "metadata": {},
   "source": [
    "## 3.4 자료형 확인 및 형 변환 함수\n",
    "- type(변수)\n",
    "- isinstance(변수, 자료형) # 자료형 메모리에 있는 변수냐?\n",
    "\n",
    "- int('10') : 입력받은 문자열을 정수형으로 변환 + float를 정수값 반환\n",
    "- float('10.5') : 입력받은 문자열을 실수형으로 변환 + int\n",
    "- str() : 정수,실수형 따위를 문자열로 변환\n",
    "- bool() : 논리형으로 변환"
   ]
  },
  {
   "cell_type": "code",
   "execution_count": null,
   "id": "4073e2c0",
   "metadata": {},
   "outputs": [],
   "source": [
    "print(int(10.6)) \n",
    "print(int('123'))\n",
    "print(float(159))\n",
    "print(str('메롱'))\n",
    "print(float(True))\n",
    "print(int('10 '))\n",
    "print(float('  123.0  '))\n",
    "int(str(int(1.12e10)))\n",
    "print(int(1.12e10))\n",
    "float(1.12e-10)\n",
    "print(str(float(1.12e-10)))\n",
    "print(str(float(1.12e10)))\n",
    "print(1.12e-12)\n",
    "print(int(0.))\n",
    "print(float(0.))\n",
    "# int('')"
   ]
  },
  {
   "cell_type": "code",
   "execution_count": null,
   "id": "550068a7",
   "metadata": {},
   "outputs": [],
   "source": [
    "# int('123.5')\n",
    "float('123')"
   ]
  },
  {
   "cell_type": "code",
   "execution_count": null,
   "id": "5d1d2aa4",
   "metadata": {},
   "outputs": [],
   "source": [
    "# int 에러 나는 것들\n",
    "# int('123.5')\n",
    "# int('')\n",
    "# int('1,000')\n",
    "# int('10 0')"
   ]
  },
  {
   "cell_type": "code",
   "execution_count": null,
   "id": "d300b697",
   "metadata": {},
   "outputs": [],
   "source": [
    "# float 에러 나는 것들\n",
    "# float(\"1,000\")\n",
    "# float(\"\")\n",
    "# float(\" \")\n",
    "# float(10 + 0j)"
   ]
  },
  {
   "cell_type": "code",
   "execution_count": null,
   "id": "20056f70",
   "metadata": {},
   "outputs": [],
   "source": [
    "str(10), str(10.5), str(True), str('문자열'), int(str(int(1.12e10)))"
   ]
  },
  {
   "cell_type": "code",
   "execution_count": null,
   "id": "2373eea3",
   "metadata": {},
   "outputs": [],
   "source": [
    "bool(\"\"), bool(0), bool(0.0), bool([]), bool({}), bool(()), bool(0.) # 숫자. -> 실수!"
   ]
  },
  {
   "cell_type": "markdown",
   "id": "12d0baa5",
   "metadata": {},
   "source": [
    "파이썬 기본 자료형(정리)\n",
    "1. 숫자 - int, float, complex\n",
    "2. 문자 - str, 문자슬라이싱, raw데이터(정규표현식, 경로설정)\n",
    "3. 논리 - False 판별되는 것들"
   ]
  },
  {
   "cell_type": "markdown",
   "id": "85781505",
   "metadata": {},
   "source": [
    "# 4절 포멧팅\n",
    "- 포멧팅이란 출력할 문자, 숫자, 날짜 데이터의 형식을 지정하는 것\n",
    "- 변수와 텍스트를 결합해서 보기 좋은 형식의 새로운 텍스트를 만들 수 있음\n",
    "\n",
    "## 4.1 문자열에 출력형식 지정"
   ]
  },
  {
   "cell_type": "code",
   "execution_count": null,
   "id": "58c5b155",
   "metadata": {},
   "outputs": [],
   "source": [
    "name = input('이름 기입 : ')\n",
    "age = int(input('나이 기입 : '))\n",
    "\n",
    "print(f'{name}님의 나이는 {age}살입니다.') # 문자열의 공간을 먼저 할당하는 방법이 없음\n",
    "print(name, '님의 나이는 ', age, '살입니다.', sep='')"
   ]
  },
  {
   "cell_type": "code",
   "execution_count": null,
   "id": "046ee0a2",
   "metadata": {},
   "outputs": [],
   "source": [
    "# 과거 사용 형태\n",
    "print(f'{name:.0}님의 나이는 {age:3f}살입니다.') # :3d 정수 세자리 // :3f :소수점 세자리 // \n",
    "print(\"%s님의 나이는 %3d살입니다.\" % (name, 27.5)) # %s str %d 정수 %f 실수, 순서에 맞춰서 자료 형태 또한(문자, 숫자 정도) 맞춰서 넣야함\n",
    "print(\"{}님의 나이는 {:3d}살입니다.\".format(name, age))"
   ]
  },
  {
   "cell_type": "code",
   "execution_count": null,
   "id": "9532fa61",
   "metadata": {},
   "outputs": [],
   "source": [
    "name2 = \"홍S홍S홍S홍S홍S홍S홍S홍S홍S홍S홍S홍S홍S\" \n",
    "age = 28.5\n",
    "print(f'{name2:_<50.5}의 나이는 {age:.5f}살입니다.')\n",
    "# d: 10진 정수\n",
    "# f:실수\n",
    "# b: 2진수\n",
    "# o: 8진수\n",
    "# x: 16진수"
   ]
  },
  {
   "cell_type": "markdown",
   "id": "20edc88f",
   "metadata": {},
   "source": [
    "## 4.2 format() 문법"
   ]
  },
  {
   "cell_type": "code",
   "execution_count": null,
   "id": "8b6b92eb",
   "metadata": {},
   "outputs": [],
   "source": [
    "# \"{0[인덱스]} {0[인덱스]}\".format(변수1, 변수2)\n",
    "#     # 인덱스 : format함수 안의 매개변수의 순서\n",
    "#     # 타입 : d(10진수 정수), b(2진수), x(16진수), f(실수), s(문자)\n",
    "#     # 정렬 방식 : (<)왼쪽 정렬 (>)오른쪽 정렬 (^)가운데정렬 ** 자릿수 지정이 필수(위치를 잡기 위해서 기준을 제공)\n",
    "\n",
    "# print('{}님의 나이는 {}살입니다.')\n",
    "# 1100 1000 1111 -> 12 8 15 : 16진수 변환 : C8F(16) #웹페이지 구현할 때는 16진수를 많이 쓴다 : 색상 정보가 많아서 보관에 용이\n",
    "# 110 010 001 111 -> 6 2 1 7 : 8진수 변환 : 6217(8)"
   ]
  },
  {
   "cell_type": "code",
   "execution_count": null,
   "id": "76033fab",
   "metadata": {},
   "outputs": [],
   "source": [
    "age = '3000'\n",
    "print(f\"출력 {age:*<3.5}\")"
   ]
  },
  {
   "cell_type": "code",
   "execution_count": null,
   "id": "52055ea9",
   "metadata": {},
   "outputs": [],
   "source": [
    "'{[인덱스]:[정렬방식][자릿수][타입]}'.format(변수)\n",
    "    # 인덱스 : format함수 안의 매개변수의 순서\n",
    "    # 타입 : d(10진수 정수), b(2진수), x(16진수), f(실수), s(문자)\n",
    "    # 정렬 방식 : (<)왼쪽 정렬 (>)오른쪽 정렬 (^)가운데정렬 ** 자릿수 지정이 필수(위치를 잡기 위해서 기준을 제공)\n",
    "    # 정수 자릿수 : \n",
    "        # :3d 3자리 맞춰서 출력하고 남으면 다 올림 // :.3d : 3자리 맞춰서 출력하고 남은 거 버림\n",
    "    # 실수 자릿수 :\n",
    "        # :.소수점f\n",
    "    # 문자 자릿수 :10.2s 문자열 공간 10개 주고 그 중에 2개만 출력해라\n",
    "    # 정렬 방식 : (<)왼쪽 정렬 (>)오른쪽 정렬 (^)가운데정렬 \n",
    "    # ** 자릿수 지정이 필수(위치를 잡기 위해서 기준을 제공)"
   ]
  },
  {
   "cell_type": "code",
   "execution_count": null,
   "id": "bafe5765",
   "metadata": {},
   "outputs": [],
   "source": [
    "name2 = \"동해물과백두산이\" \n",
    "age = 28.5\n",
    "print(f'{name2:*<50.10}의 나이는 {age:.5f}살입니다.')"
   ]
  },
  {
   "cell_type": "raw",
   "id": "b3b4e228",
   "metadata": {},
   "source": [
    "name = input('이름을 입력하세요. : ')\n",
    "age = int(input('나이를 입력하세요. : '))\n",
    "print(f\"{age:*^1d}살 {name:10.3s}님 반갑습니다.\")"
   ]
  },
  {
   "cell_type": "code",
   "execution_count": null,
   "id": "bed83e59",
   "metadata": {},
   "outputs": [],
   "source": [
    "# 숫자의 경우 오른쪽 정렬이 기본\n",
    "# 문자의 경우 왼쪽 정렬이 기본\n",
    "# 변수보다 작은 자릿수를 지정하면 자릿수가 무시되고 모두 출력(정수 자리수)\n",
    "i = 12345\n",
    "s= 'hello'\n",
    "print(f'[{i}], [{i:^11d}], [{i:3d}]')\n",
    "print(f'[{s}], [{s:11}], [{s:각^11.2}]')"
   ]
  },
  {
   "cell_type": "code",
   "execution_count": null,
   "id": "6e089ad2",
   "metadata": {},
   "outputs": [],
   "source": [
    "# 문자 : 전체 자릿수.표현될 자릿수\n",
    "# 실수 : 전체 자릿수.소숫점 이하 표현될 자릿수\n",
    "f = 2.7566778\n",
    "string = \"hellohellohellohellohellohellohellohellohellohellohellohellohellohellohello\"\n",
    "print(f\"[{f:>^10.3f}], [{string:_^10.3s}]\") # 출력시에는 반올림을 해서 보여준다.. "
   ]
  },
  {
   "cell_type": "code",
   "execution_count": null,
   "id": "63e8ce36",
   "metadata": {},
   "outputs": [],
   "source": [
    "# 부호의 출력 : {숫자변수: +}를 통해 구현 가능\n",
    "a, b = 123, -123\n",
    "print(f'[{a:+}], [{b:+}]') # : {숫자변수: +}를 통해 구현 가능\n",
    "print(f'[{a:+8}], [{b:+8}]') # : {숫자변수: +자릿수}를 통해 부호를 포함한 숫자와 공간까지 부여 가능\n",
    "print(f'[{a:=+}], [{b:=+}]') # {: =} 형태를 통해 부호를 왼쪽에 정렬시킬 수 있다.\n",
    "print(f'[{a:=+8}], [{b:=+8}]') # {: =자릿수} 형태를 통해 부호를 왼쪽 정렬 시킨 후 숫자를 자릿수 만큼 가능한 뒤쪽에 기입\n",
    "# print(f'[{a:+_>8}], [{b:+_>8}]') # {: =+자릿수} 형태를 통해 부호를 왼쪽에 정렬시킬 수 있다. 불가\n",
    "print(f'[{a:_=+8}], [{b:_=+8}]') # {: _=+자릿수} 형태를 통해 부호를 왼쪽에 정렬시키면서 사이 빈 공간에 _를 채워넣는다\n",
    "print(f'[{a:_<+8}], [{b:_<+8}]') # {:_(정렬연산)+(자릿수)} 형태를 통해 부호가 붙은 숫자를 원하는 곳에 정렬 후 나머지 _를 채워넣을 수 있다"
   ]
  },
  {
   "cell_type": "code",
   "execution_count": null,
   "id": "00d84db9",
   "metadata": {},
   "outputs": [],
   "source": [
    "# \n",
    "f = 2.785\n",
    "print(f\"[{f}]\")\n",
    "print(f\"[{f:+}]\")\n",
    "print(f\"[{f:+.5f}]\")"
   ]
  },
  {
   "cell_type": "code",
   "execution_count": null,
   "id": "3dd1b944",
   "metadata": {},
   "outputs": [],
   "source": [
    "sign = '+'\n",
    "width = 10.8453216577895135\n",
    "precision = 2\n",
    "\n",
    "# print(f'{:={sign}{width}.{precision}f}')"
   ]
  },
  {
   "cell_type": "code",
   "execution_count": null,
   "id": "c0775bf8",
   "metadata": {},
   "outputs": [],
   "source": [
    "a = 15\n",
    "print(\"10진수 a = [{:5d}]\".format(a))\n",
    "print(\"16진수 a = [{:5x}]\".format(a))\n",
    "print(\" 2진수 a = [{:5b}]\".format(a))"
   ]
  },
  {
   "cell_type": "markdown",
   "id": "9b7fd9de",
   "metadata": {},
   "source": [
    "## 4.3 날짜 출력"
   ]
  },
  {
   "cell_type": "code",
   "execution_count": null,
   "id": "64c338df",
   "metadata": {},
   "outputs": [],
   "source": [
    "import re\n",
    "import datetime as dt\n",
    "import time\n",
    "\n",
    "start = dt.datetime.now()\n",
    "print(start)\n",
    "# start = start.date()\n",
    "# print(start)\n",
    "print(start.strftime('%Y년 %m월 %d일 %H시 %M분 %S초' )) # %p : am/pm 구분 // %I : 12시간 기준으로 반환\n",
    "time.sleep(1) # 1초 멍 때려라\n",
    "curr = dt.datetime.now()\n",
    "print(curr)"
   ]
  },
  {
   "cell_type": "code",
   "execution_count": null,
   "id": "cd9410d0",
   "metadata": {},
   "outputs": [],
   "source": [
    "# import time --> time.sleep() : 너무 빠른 연산 등으로 웹크롤링에 문제가 될 때 주로 활용..."
   ]
  }
 ],
 "metadata": {
  "kernelspec": {
   "display_name": "Python 3 (ipykernel)",
   "language": "python",
   "name": "python3"
  },
  "language_info": {
   "codemirror_mode": {
    "name": "ipython",
    "version": 3
   },
   "file_extension": ".py",
   "mimetype": "text/x-python",
   "name": "python",
   "nbconvert_exporter": "python",
   "pygments_lexer": "ipython3",
   "version": "3.10.9"
  },
  "toc": {
   "base_numbering": 1,
   "nav_menu": {},
   "number_sections": false,
   "sideBar": true,
   "skip_h1_title": false,
   "title_cell": "Table of Contents",
   "title_sidebar": "Contents",
   "toc_cell": false,
   "toc_position": {
    "height": "calc(100% - 180px)",
    "left": "10px",
    "top": "150px",
    "width": "185.4px"
   },
   "toc_section_display": true,
   "toc_window_display": true
  }
 },
 "nbformat": 4,
 "nbformat_minor": 5
}
