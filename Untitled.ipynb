{
 "cells": [
  {
   "cell_type": "code",
   "execution_count": null,
   "id": "9824d77b",
   "metadata": {},
   "outputs": [],
   "source": [
    "from collections import deque\n",
    "def check(word1, word2) :\n",
    "    diff = 0\n",
    "    for a,b in zip(word1,word2) :\n",
    "        if a != b :\n",
    "            diff +=1\n",
    "        if diff > 1 :\n",
    "            return False\n",
    "        return True\n",
    "    \n",
    "def solution(begin, target, words):\n",
    "    if target not in words :\n",
    "        return 0\n",
    "    \n",
    "    queue = deque()\n",
    "    queue.append((begin, 0))\n",
    "    visit = set()\n",
    "    \n",
    "    while queue :\n",
    "        temp, temp_depth = queue.popleft()\n",
    "        if temp == target :\n",
    "            return temp_depth\n",
    "        \n",
    "        for word in words :\n",
    "            if word not in visit and check(temp,word) :\n",
    "                visit.add(word)\n",
    "                queue.append((word, temp_depth+1))\n",
    "    return 0"
   ]
  }
 ],
 "metadata": {
  "kernelspec": {
   "display_name": "Python 3 (ipykernel)",
   "language": "python",
   "name": "python3"
  },
  "language_info": {
   "codemirror_mode": {
    "name": "ipython",
    "version": 3
   },
   "file_extension": ".py",
   "mimetype": "text/x-python",
   "name": "python",
   "nbconvert_exporter": "python",
   "pygments_lexer": "ipython3",
   "version": "3.10.9"
  },
  "toc": {
   "base_numbering": 1,
   "nav_menu": {},
   "number_sections": false,
   "sideBar": true,
   "skip_h1_title": false,
   "title_cell": "Table of Contents",
   "title_sidebar": "Contents",
   "toc_cell": false,
   "toc_position": {},
   "toc_section_display": true,
   "toc_window_display": false
  }
 },
 "nbformat": 4,
 "nbformat_minor": 5
}
